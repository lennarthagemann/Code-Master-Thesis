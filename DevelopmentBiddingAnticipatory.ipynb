{
 "cells": [
  {
   "cell_type": "code",
   "execution_count": 2,
   "metadata": {},
   "outputs": [],
   "source": [
    "using JuMP\n",
    "using CPLEX\n",
    "using Distributions\n",
    "using LinearAlgebra\n",
    "using Statistics\n",
    "using Dates\n",
    "using DataFrames\n",
    "using SDDP\n",
    "using Plots\n",
    "import CSV\n",
    "using JSON\n",
    "try\n",
    "    using Revise\n",
    "catch e\n",
    "    @warn \"Error initializing Revise\" exception=(e, catch_backtrace())\n",
    "end\n",
    "\n",
    "includet(pwd() * \"\\\\Water_Regulation\\\\WaterRegulation.jl\")\n",
    "using .WaterRegulation"
   ]
  },
  {
   "cell_type": "markdown",
   "metadata": {},
   "source": [
    "### Anticipatory Model  \n",
    "\n",
    "In this file we develop the bidding model for an anticipatory agent. We mainly consider the following implications\n",
    "\n",
    "* Adjusted flow\n",
    "* Power Swap\n",
    "* Overnomination\n",
    "\n",
    "Our Nomination makes a difference on how much water can be discharged in the next step. On the other hand, we receive or have to deliver a power swap depending on the discrepancy between nomination and adjusted flow.  \n",
    "The following formulas are directly included into the problem formulation:\n",
    "\n",
    "$$\n",
    "\\begin{align*}\n",
    "Q^\\text{adj}_{r} &= \\frac{Q^\\text{nom}_{j,r} \\cdot p_{j,r} + Q^\\text{nom}_{O,r} \\cdot p_{O,r}}{p_{j,r} + p_{O,r}} \\\\\n",
    "P^\\text{swap}_{j,r} &= p_{j,r} \\cdot (Q^\\text{nom}_r - Q^\\text{adj}_r) - \\sum\\limits_{k \\in \\mathcal{K}_{O,r}} P^\\text{Over}_k \\\\\n",
    "P^\\text{Over}_k  &= \\max \\{0, e_k \\cdot (Q^\\text{adj}_r - Q^\\text{spill}_k)\\} \n",
    "\\end{align*}\n",
    "$$\n",
    "\n",
    "The Power Swap has to be delivered smoothly in the last 12 hours of the day. The Power Swaps in total add up and we have the following obligation:\n",
    "$$\n",
    "\\begin{alignat*}{3}\n",
    "y_{t} &= \\sum\\limits_{k \\in \\mathcal{K}} w_{k,t} + z^+_{t} - z^-_{t}  & & \\text{ if } \\; t = 1, \\ldots, 12 \\\\ \n",
    "y_{t} &= \\sum\\limits_{k \\in \\mathcal{K}} w_{k,t} + 2 \\cdot \\sum\\limits_{r \\in \\mathcal{R}} P^\\text{swap}_r + z^+_{t} - z^-_{t} & & \\text{ if } \\; t = 13, \\ldots, 24\n",
    "\\end{alignat*}\n",
    "$$\n",
    "\n",
    "Additionally, the adjusted flow poses the real average discharge constraint:\n",
    "$$\n",
    "T \\cdot Q^\\text{adj}_r = \\sum\\limits_{t = 1}^T Q^\\text{real}_{r,t}\n",
    "$$"
   ]
  },
  {
   "cell_type": "markdown",
   "metadata": {},
   "source": [
    "### Define Parameters and Aggregated Other\n",
    "\n",
    "We have to define an aggregated other user $O$ to reflect some constraints in our program."
   ]
  },
  {
   "cell_type": "code",
   "execution_count": 3,
   "metadata": {},
   "outputs": [
    {
     "name": "stdout",
     "output_type": "stream",
     "text": [
      "Participation rate Sydkraft: \n",
      " ________________________________\n",
      "Flasjon  | 1.84    \n",
      "Holsmjon | 0.0     \n",
      "\n",
      "Participation rate Other: \n",
      " ________________________________\n",
      "Flasjon  | 2.68    \n",
      "Holsmjon | 2.68    \n"
     ]
    },
    {
     "name": "stdout",
     "output_type": "stream",
     "text": [
      "\n",
      "[1.4]\n"
     ]
    }
   ],
   "source": [
    "filepath_Ljungan = pwd() * \"\\\\Water_Regulation\\\\TestDataWaterRegulation\\\\Ljungan.json\"\n",
    "filepath_prices = pwd() *  \"\\\\Data\\\\Spot Prices\\\\prices_df.csv\"\n",
    "filepath_results = pwd() * \"\\\\Results\\\\LambdaZero\\\\\"\n",
    "R, plants, parts = read_data(filepath_Ljungan)\n",
    "print() \n",
    "\n",
    "j = parts[1]\n",
    "O = OtherParticipant(parts, j , R)[1]\n",
    "K = [j.plants[1]]\n",
    "K_O = [O.plants[1]]\n",
    "pj = j.participationrate\n",
    "pO = O.participationrate\n",
    "\n",
    "\n",
    "println(\"Participation rate $(j.name): \\n \", pj)\n",
    "println(\"Participation rate $(O.name): \\n \", pO)\n",
    "println([k.spillreference for k in K_O])"
   ]
  },
  {
   "cell_type": "code",
   "execution_count": 4,
   "metadata": {},
   "outputs": [
    {
     "name": "stdout",
     "output_type": "stream",
     "text": [
      "Stages :2\n",
      " Hours: 1\n",
      " I : 1\n",
      " Price Points = [0.0, 1.0]\n"
     ]
    },
    {
     "name": "stdout",
     "output_type": "stream",
     "text": [
      "Uncertainty Set: "
     ]
    },
    {
     "name": "stdout",
     "output_type": "stream",
     "text": [
      "NamedTuple{(:price, :inflow, :nomination), Tuple{Vector{Float64}, Float64, Float64}}[(price = [0.379], inflow = 10.0, nomination = 0.3)]\n",
      "________________________________\n",
      "Flasjon  | 10.0    \n",
      "Holsmjon | 10.0    \n",
      "\n"
     ]
    }
   ],
   "source": [
    "Stages = 2 # 2 lowest number as first stage is just to achieve nonanticipativity\n",
    "T = 1\n",
    "PPoints = [0.0, 1.0]\n",
    "I = length(PPoints)-1\n",
    "\n",
    "println(\"Stages :\" , Stages, \"\\n Hours: \", T, \"\\n I : \", I, \"\\n Price Points = \", [i for i in PPoints])\n",
    "\n",
    "Qref = Dict{Reservoir, Float64}(r => 10.0 for r in R)\n",
    "scenario_count = 1\n",
    "Prices = [floor.(rand(T), sigdigits=3) for i in 1:scenario_count]\n",
    "Inflows = [10.0]\n",
    "Omega = [(price = p, inflow = v, nomination = 0.3) for p in Prices for v in Inflows]\n",
    "P = [1/length(Omega) for om in Omega]\n",
    "# StartUp Costs\n",
    "S = 0.1\n",
    "# Cost for Up and Down Balancing\n",
    "mu_up = 0.7\n",
    "mu_down = 0.3\n",
    "\n",
    "println(\"Uncertainty Set: \", Omega)\n",
    "println(Qref)"
   ]
  },
  {
   "cell_type": "code",
   "execution_count": 5,
   "metadata": {},
   "outputs": [
    {
     "data": {
      "text/plain": [
       "subproblem_builder_anticipatory (generic function with 1 method)"
      ]
     },
     "metadata": {},
     "output_type": "display_data"
    }
   ],
   "source": [
    "function subproblem_builder_anticipatory(subproblem::Model, node::Int64)\n",
    "    set_attribute(subproblem, \"CPX_PARAM_EPINT\", 1e-2)\n",
    "    @variable(subproblem, 0 <= x[i = 1:I+1, t = 1:T] <= 50, SDDP.State, initial_value=0)\n",
    "    @variable(subproblem, 0 <= l[r = R] <= r.maxvolume, SDDP.State, initial_value = r.currentvolume)\n",
    "    @variable(subproblem, lind[r = R], SDDP.State, initial_value = r.currentvolume)\n",
    "    @variable(subproblem, u_start[k = K], SDDP.State, initial_value = 0, Bin)\n",
    "    @variable(subproblem, 0 <= Qnom[r = R] <= min([k.spillreference for k in filter(k -> k.reservoir == r, plants)]...), SDDP.State, initial_value = 0)\n",
    "    @variable(subproblem, y[t=1:T] >= 0)\n",
    "    @variable(subproblem, d[t=1:T, k = K], Bin)\n",
    "    @variable(subproblem, u[t=1:T, k = K], Bin)\n",
    "    @variable(subproblem, BALANCE_INDICATOR[r = R], Bin)\n",
    "    @variable(subproblem, 0 <= w[t=1:T, k = K] <= k.equivalent * k.spillreference)\n",
    "    @variable(subproblem, z_up[t=1:T] >= 0)\n",
    "    @variable(subproblem, z_down[t=1:T] >= 0)\n",
    "    @variable(subproblem, 0 <= Qeff[t=1:T, k = K] <= k.spillreference)\n",
    "    @variable(subproblem, 0 <= Qreal[t=1:T, r = R])\n",
    "    @variable(subproblem, 0 <= Qadj[r = R])\n",
    "    @variable(subproblem, Pswap[r = R])\n",
    "    @variable(subproblem, Pover[k = K_O] >= 0)\n",
    "    @variable(subproblem, f[r = R] >= 0)\n",
    "    @variable(subproblem, s[r = R] >= 0)\n",
    "\n",
    "    @constraint(subproblem, increasing[i = 1:I, t=1:T], x[i,t].out <= x[i+1,t].out)\n",
    "    @constraint(subproblem, balance_ind[r = R], lind[r].out == lind[r].in - T * (Qnom[r].out - Qref[r])- s[r]) \n",
    "    @constraint(subproblem, nbal1[r = R], BALANCE_INDICATOR[r] => {Qnom[r].out <= Qref[r]})\n",
    "    @constraint(subproblem, nbal2[r = R], !BALANCE_INDICATOR[r] => {0 <= lind[r].in})\n",
    "    @constraint(subproblem, NoSpill[k = K], BALANCE_INDICATOR[k.reservoir] => {sum(Qnom[r_up].out for r_up in find_us_reservoir(k.reservoir)) <= k.spillreference})\n",
    "    if node == 1\n",
    "        @stageobjective(subproblem, 0)\n",
    "        @constraint(subproblem, balance_transfer[r = R], l[r].out == l[r].in - T * Qnom[r].out - s[r]) \n",
    "    else\n",
    "        @constraint(subproblem, adjustedflow[r = R], (pj[r] + pO[r]) * Qadj[r] - Qnom[r].in * pj[r] ==  pO[r])\n",
    "        @constraint(subproblem, powerswap[r = R], Pswap[r] == pj[r] * (Qnom[r].in - Qadj[r]) - sum(Pover[k] for k in K_O))\n",
    "        @constraint(subproblem, overnomination[k = K_O], Pover[k] >= k.equivalent * (Qadj[k.reservoir] - k.spillreference))\n",
    "        @constraint(subproblem, endcond[k = K], u_start[k].out == u[T,k])\n",
    "        @constraint(subproblem, startcond[k = K], u_start[k].in == u[1,k])\n",
    "        @constraint(subproblem, clearing[t=1:T], y[t] == sum(1* x[i,t].in +  1* x[i+1,t].in for i in 1:I))\n",
    "        @constraint(subproblem, nomination[r = R], sum(Qreal[t,r] for t in 1:T) == T * Qadj[r])\n",
    "        @constraint(subproblem, obligation[t=1:T], y[t] - sum(Pswap[r] for r in R) == sum(w[t,k] for k in K) + z_up[t] - z_down[t])\n",
    "        @constraint(subproblem, balance[r = R], l[r].out == l[r].in - T * Qadj[r] + f[r] * T - s[r])\n",
    "        @constraint(subproblem, active[t=1:T, k=K], w[t,k] == u[t,k] * k.spillreference * k.equivalent)\n",
    "        @constraint(subproblem, startup[t=1:T-1, k=K], d[t,k] >= u[t+1,k] - u[t,k])\n",
    "        @constraint(subproblem, production[t=1:T, k=K], w[t,k] == Qeff[t,k] * k.equivalent)\n",
    "        @constraint(subproblem, realwater[t=1:T, k=K], Qeff[t,k] <= sum(Qreal[t,r] for r in find_us_reservoir(k.reservoir)))\n",
    "        @constraint(subproblem, spillwater[t=1:T, k=K], Qeff[t,k] <= k.spillreference)\n",
    "        SDDP.parameterize(subproblem, Omega, P) do om\n",
    "            # We have to make sure that depending on the market clearing price, the coefficients are set accordingly.\n",
    "            # The recourse action only applies to the real delivery, determined by the uncertain price. The other restricitions become inactive, else they make the problem infeasible.\n",
    "            # The constraints that are relevant are maiintained in Scenario_Index for every current time step.\n",
    "            for r in R\n",
    "                JuMP.fix(f[r], om.inflow, force=true)\n",
    "                JuMP.set_normalized_rhs(adjustedflow[r], pO[r] * om.nomination)\n",
    "            end\n",
    "            # Define Set of active variables for each hour\n",
    "            I_t = Dict(t => 0 for t in 1:T)\n",
    "            for t in 1:T\n",
    "                for i in 1:I\n",
    "                    if (om.price[t] >= PPoints[i]) && (om.price[t] <= PPoints[i+1])\n",
    "                        I_t[t] = i\n",
    "                    end\n",
    "                end\n",
    "            end\n",
    "            # Include only active variables in stageobjective\n",
    "            @stageobjective(subproblem ,sum(om.price[t] * y[t] -  mu_up * z_up[t] + mu_down * z_down[t]  - S * sum(d[t,k] for k in K) for t in 1:T))\n",
    "            # Fix / Deactivate constraints by setting their coefficients to appropriate values or all zero.\n",
    "            for t in 1:T\n",
    "                for i in 1:I\n",
    "                    if (i == I_t[t])\n",
    "                        set_normalized_coefficient(clearing[t], x[i,t].in, -((om.price[t] - PPoints[i])/(PPoints[i+1] - PPoints[i])))\n",
    "                        set_normalized_coefficient(clearing[t], x[i+1,t].in, -((PPoints[i+1] - om.price[t])/(PPoints[i+1] - PPoints[i])))\n",
    "                    else\n",
    "                        set_normalized_coefficient(clearing[t], x[i,t].in, 0)\n",
    "                        set_normalized_coefficient(clearing[t], x[i+1,t].in, 0)\n",
    "                    end\n",
    "                end\n",
    "            end\n",
    "        end\n",
    "    end\n",
    "    return\n",
    "end"
   ]
  },
  {
   "cell_type": "code",
   "execution_count": 6,
   "metadata": {},
   "outputs": [
    {
     "data": {
      "text/plain": [
       "A policy graph with 2 nodes.\n",
       " Node indices: 1, 2\n"
      ]
     },
     "metadata": {},
     "output_type": "display_data"
    }
   ],
   "source": [
    "model_ant = SDDP.LinearPolicyGraph(\n",
    "    subproblem_builder_anticipatory;\n",
    "    stages = Stages,\n",
    "    sense = :Max,\n",
    "    upper_bound = 1e5,\n",
    "    optimizer = CPLEX.Optimizer\n",
    ")\n"
   ]
  },
  {
   "cell_type": "code",
   "execution_count": 7,
   "metadata": {},
   "outputs": [
    {
     "name": "stderr",
     "output_type": "stream",
     "text": [
      "┌ Error: Some Julia code in the VS Code extension crashed\n",
      "└ @ VSCodeServer c:\\Users\\Lenni\\.vscode\\extensions\\julialang.language-julia-1.47.2\\scripts\\error_handler.jl:15\n"
     ]
    },
    {
     "name": "stderr",
     "output_type": "stream",
     "text": [
      "\u001b[91m\u001b[1mERROR: \u001b[22m\u001b[39mMethodError: no method matching namemap(::Type{MathOptInterface.ActivationCondition})\n",
      "The applicable method may be too new: running in world age 33490, while current world is 33910.\n",
      "\n",
      "\u001b[0mClosest candidates are:\n",
      "\u001b[0m  namemap(::Type{MathOptInterface.ActivationCondition}) (method too new to be called from this world context.)\n",
      "\u001b[0m\u001b[90m   @\u001b[39m \u001b[35mMathOptInterface\u001b[39m \u001b[90m\u001b[4mEnums.jl:206\u001b[24m\u001b[39m\n",
      "\u001b[0m  namemap(\u001b[91m::Type{MathOptInterface.FileFormats.MPS.VType}\u001b[39m) (method too new to be called from this world context.)\n",
      "\u001b[0m\u001b[90m   @\u001b[39m \u001b[35mMathOptInterface\u001b[39m \u001b[90m\u001b[4mEnums.jl:206\u001b[24m\u001b[39m\n",
      "\u001b[0m  namemap(\u001b[91m::Type{LibGit2.Consts.GIT_FILEMODE}\u001b[39m)\n",
      "\u001b[0m\u001b[90m   @\u001b[39m \u001b[36mLibGit2\u001b[39m \u001b[90m\u001b[4mEnums.jl:206\u001b[24m\u001b[39m\n",
      "\u001b[0m  ...\n",
      "\n",
      "Stacktrace:\n",
      " "
     ]
    },
    {
     "name": "stderr",
     "output_type": "stream",
     "text": [
      " [1] \u001b[0m\u001b[1m_symbol\u001b[22m\u001b[0m\u001b[1m(\u001b[22m\u001b[90mx\u001b[39m::\u001b[0mMathOptInterface.ActivationCondition\u001b[0m\u001b[1m)\u001b[22m\n",
      "\u001b[90m    @\u001b[39m \u001b[90mBase.Enums\u001b[39m \u001b[90m.\\\u001b[39m\u001b[90m\u001b[4mEnums.jl:29\u001b[24m\u001b[39m\n",
      "  [2] \u001b[0m\u001b[1mshow\u001b[22m\u001b[0m\u001b[1m(\u001b[22m\u001b[90mio\u001b[39m::\u001b[0mIOBuffer, \u001b[90mx\u001b[39m::\u001b[0mMathOptInterface.ActivationCondition\u001b[0m\u001b[1m)\u001b[22m\n",
      "\u001b[90m    @\u001b[39m \u001b[90mBase.Enums\u001b[39m \u001b[90m.\\\u001b[39m\u001b[90m\u001b[4mEnums.jl:37\u001b[24m\u001b[39m\n",
      "  [3] \u001b[0m\u001b[1mshow_typeparams\u001b[22m\u001b[0m\u001b[1m(\u001b[22m\u001b[90mio\u001b[39m::\u001b[0mIOBuffer, \u001b[90menv\u001b[39m::\u001b[0mCore.SimpleVector, \u001b[90morig\u001b[39m::\u001b[0mCore.SimpleVector, \u001b[90mwheres\u001b[39m::\u001b[0mVector\u001b[90m{TypeVar}\u001b[39m\u001b[0m\u001b[1m)\u001b[22m\n",
      "\u001b[90m    @\u001b[39m \u001b[90mBase\u001b[39m \u001b[90m.\\\u001b[39m\u001b[90m\u001b[4mshow.jl:707\u001b[24m\u001b[39m\n",
      "  [4] \u001b[0m\u001b[1mshow_datatype\u001b[22m\u001b[0m\u001b[1m(\u001b[22m\u001b[90mio\u001b[39m::\u001b[0mIOBuffer, \u001b[90mx\u001b[39m::\u001b[0mDataType, \u001b[90mwheres\u001b[39m::\u001b[0mVector\u001b[90m{TypeVar}\u001b[39m\u001b[0m\u001b[1m)\u001b[22m\n",
      "\u001b[90m    @\u001b[39m \u001b[90mBase\u001b[39m \u001b[90m.\\\u001b[39m\u001b[90m\u001b[4mshow.jl:1092\u001b[24m\u001b[39m\n",
      "  [5] \u001b[0m\u001b[1mshow_datatype\u001b[22m\n",
      "\u001b[90m    @\u001b[39m \u001b[90m.\\\u001b[39m\u001b[90m\u001b[4mshow.jl:1058\u001b[24m\u001b[39m\u001b[90m [inlined]\u001b[39m\n",
      "  [6] \u001b[0m\u001b[1m_show_type\u001b[22m\u001b[0m\u001b[1m(\u001b[22m\u001b[90mio\u001b[39m::\u001b[0mIOBuffer, \u001b[90mx\u001b[39m"
     ]
    },
    {
     "name": "stderr",
     "output_type": "stream",
     "text": [
      "::\u001b[0mType\u001b[0m\u001b[1m)\u001b[22m\n",
      "\u001b[90m    @\u001b[39m \u001b[90mBase\u001b[39m \u001b[90m.\\\u001b[39m\u001b[90m\u001b[4mshow.jl:958\u001b[24m\u001b[39m\n",
      "  [7] \u001b[0m\u001b[1mshow\u001b[22m\u001b[0m\u001b[1m(\u001b[22m\u001b[90mio\u001b[39m::\u001b[0mIOBuffer, \u001b[90mx\u001b[39m::\u001b[0mType\u001b[0m\u001b[1m)\u001b[22m\n",
      "\u001b[90m    @\u001b[39m \u001b[90mBase\u001b[39m \u001b[90m.\\\u001b[39m\u001b[90m\u001b[4mshow.jl:950\u001b[24m\u001b[39m\n",
      "  [8] \u001b[0m\u001b[1mshow_typeparams\u001b[22m\u001b[0m\u001b[1m(\u001b[22m\u001b[90mio\u001b[39m::\u001b[0mIOBuffer, \u001b[90menv\u001b[39m::\u001b[0mCore.SimpleVector, \u001b[90morig\u001b[39m::\u001b[0mCore.SimpleVector, \u001b[90mwheres\u001b[39m::\u001b[0mVector\u001b[90m{TypeVar}\u001b[39m\u001b[0m\u001b[1m)\u001b[22m\n",
      "\u001b[90m    @\u001b[39m \u001b[90mBase\u001b[39m \u001b[90m.\\\u001b[39m\u001b[90m\u001b[4mshow.jl:707\u001b[24m\u001b[39m\n",
      "  [9] \u001b[0m\u001b[1mshow_datatype\u001b[22m\u001b[0m\u001b[1m(\u001b[22m\u001b[90mio\u001b[39m::\u001b[0mIOBuffer, \u001b[90mx\u001b[39m::\u001b[0mDataType, \u001b[90mwheres\u001b[39m::\u001b[0mVector\u001b[90m{TypeVar}\u001b[39m\u001b[0m\u001b[1m)\u001b[22m\n",
      "\u001b[90m    @\u001b[39m \u001b[90mBase\u001b[39m \u001b[90m.\\\u001b[39m\u001b[90m\u001b[4mshow.jl:1092\u001b[24m\u001b[39m\n",
      " [10] \u001b[0m\u001b[1mshow_datatype\u001b[22m\n",
      "\u001b[90m    @\u001b[39m \u001b[90m.\\\u001b[39m\u001b[90m\u001b[4mshow.jl:1058\u001b[24m\u001b[39m\u001b[90m [inlined]\u001b[39m\n",
      " [11] \u001b[0m\u001b[1m_show_type\u001b[22m\u001b[0m\u001b[1m(\u001b[22m\u001b[90mio\u001b[39m::\u001b[0mIOBuffer, \u001b[90mx\u001b[39m::\u001b[0mType\u001b[0m\u001b[1m)\u001b[22m\n",
      "\u001b[90m    @\u001b[39m \u001b[90mBase\u001b[39m \u001b[90m.\\\u001b[39m"
     ]
    },
    {
     "name": "stderr",
     "output_type": "stream",
     "text": [
      "\u001b[90m\u001b[4mshow.jl:958\u001b[24m\u001b[39m\n",
      " [12] \u001b[0m\u001b[1mshow\u001b[22m\u001b[0m\u001b[1m(\u001b[22m\u001b[90mio\u001b[39m::\u001b[0mIOBuffer, \u001b[90mx\u001b[39m::\u001b[0mType\u001b[0m\u001b[1m)\u001b[22m\n",
      "\u001b[90m    @\u001b[39m \u001b[90mBase\u001b[39m \u001b[90m.\\\u001b[39m\u001b[90m\u001b[4mshow.jl:950\u001b[24m\u001b[39m\n",
      " [13] \u001b[0m\u001b[1mprint\u001b[22m\u001b[0m\u001b[1m(\u001b[22m\u001b[90mio\u001b[39m::\u001b[0mIOBuffer, \u001b[90mx\u001b[39m::\u001b[0mType\u001b[0m\u001b[1m)\u001b[22m\n",
      "\u001b[90m    @\u001b[39m \u001b[90mBase\u001b[39m \u001b[90m.\\strings\\\u001b[39m\u001b[90m\u001b[4mio.jl:35\u001b[24m\u001b[39m"
     ]
    },
    {
     "name": "stderr",
     "output_type": "stream",
     "text": [
      "\n",
      " [14] \u001b[0m\u001b[1mprint_to_string\u001b[22m\u001b[0m\u001b[1m(\u001b[22m\u001b[90mxs\u001b[39m::\u001b[0mType\u001b[0m\u001b[1m)\u001b[22m\n",
      "\u001b[90m    @\u001b[39m \u001b[90mBase\u001b[39m \u001b[90m.\\strings\\\u001b[39m\u001b[90m\u001b[4mio.jl:144\u001b[24m\u001b[39m\n",
      " [15] \u001b[0m\u001b[1mstring\u001b[22m\n",
      "\u001b[90m    @\u001b[39m \u001b[90m.\\strings\\\u001b[39m\u001b[90m\u001b[4mio.jl:185\u001b[24m\u001b[39m\u001b[90m [inlined]\u001b[39m\n",
      " [16] \u001b[0m\u001b[1m(::VSCodeServer.var\"#198#199\"{VSCodeServer.NotebookRunCellArguments, String})\u001b[22m\u001b[0m\u001b[1m(\u001b[22m\u001b[0m\u001b[1m)\u001b[22m\n",
      "\u001b[90m    @\u001b[39m \u001b[35mVSCodeServer\u001b[39m \u001b[90mc:\\Users\\Lenni\\.vscode\\extensions\\julialang.language-julia-1.47.2\\scripts\\packages\\VSCodeServer\\src\\\u001b[39m\u001b[90m\u001b[4mserve_notebook.jl:25\u001b[24m\u001b[39m\n",
      " [17] \u001b[0m\u001b[1mwithpath\u001b[22m\u001b[0m\u001b[1m(\u001b[22m\u001b[90mf\u001b[39m::\u001b[0mVSCodeServer.var\"#198#199\"\u001b[90m{VSCodeServer.NotebookRunCellArguments, String}\u001b[39m, \u001b[90mpath\u001b[39m::\u001b[0mString\u001b[0m\u001b[1m)\u001b[22m\n",
      "\u001b[90m    @\u001b[39m \u001b[35mVSCodeServer\u001b[39m \u001b[90mc:\\Users\\Lenni\\.vscode\\extensions\\julialang.language-julia-1.47.2\\scripts\\packages\\VSCodeServer\\src\\\u001b[39m\u001b[90m\u001b[4mrepl.jl:249\u001b[24m\u001b[39m\n",
      " [18] \u001b[0m\u001b[1mnotebook_runcell_request\u001b[22m\u001b[0m\u001b[1m(\u001b[22m\u001b[90mconn\u001b[39m::\u001b[0mVSCodeServer.JSONRPC.JSONRPCEndpoint\u001b[90m{Base.PipeEndpoint, Base.PipeEndpoint}\u001b[39m, \u001b[90mparams\u001b[39m::\u001b[0mVSCodeServer.NotebookRunCellArguments\u001b[0m\u001b[1m)\u001b[22m"
     ]
    },
    {
     "name": "stderr",
     "output_type": "stream",
     "text": [
      "\n",
      "\u001b[90m    @\u001b[39m \u001b[35mVSCodeServer\u001b[39m \u001b[90mc:\\Users\\Lenni\\.vscode\\extensions\\julialang.language-julia-1.47.2\\scripts\\packages\\VSCodeServer\\src\\\u001b[39m\u001b[90m\u001b[4mserve_notebook.jl:13\u001b[24m\u001b[39m\n",
      " [19] \u001b[0m\u001b[1mdispatch_msg\u001b[22m\u001b[0m\u001b[1m(\u001b[22m\u001b[90mx\u001b[39m::\u001b[0mVSCodeServer.JSONRPC.JSONRPCEndpoint\u001b[90m{Base.PipeEndpoint, Base.PipeEndpoint}\u001b[39m, \u001b[90mdispatcher\u001b[39m::\u001b[0mVSCodeServer.JSONRPC.MsgDispatcher, \u001b[90mmsg\u001b[39m::\u001b[0mDict\u001b[90m{String, Any}\u001b[39m\u001b[0m\u001b[1m)\u001b[22m\n",
      "\u001b[90m    @\u001b[39m \u001b[35mVSCodeServer.JSONRPC\u001b[39m \u001b[90mc:\\Users\\Lenni\\.vscode\\extensions\\julialang.language-julia-1.47.2\\scripts\\packages\\JSONRPC\\src\\\u001b[39m\u001b[90m\u001b[4mtyped.jl:67\u001b[24m\u001b[39m\n",
      " [20] \u001b[0m\u001b[1mserve_notebook\u001b[22m\u001b[0m\u001b[1m(\u001b[22m\u001b[90mpipename\u001b[39m::\u001b[0mString, \u001b[90moutputchannel_logger\u001b[39m::\u001b[0mBase.CoreLogging.SimpleLogger; \u001b[90mcrashreporting_pipename\u001b[39m::\u001b[0mString\u001b[0m\u001b[1m)\u001b[22m\n",
      "\u001b[90m    @\u001b[39m \u001b[35mVSCodeServer\u001b[39m \u001b[90mc:\\Users\\Lenni\\.vscode\\extensions\\julialang.language-julia-1.47.2\\scripts\\packages\\VSCodeServer\\src\\\u001b[39m\u001b[90m\u001b[4mserve_notebook.jl:139\u001b[24m\u001b[39m\n",
      " [21] top-level scope\n",
      "\u001b[90m    @\u001b[39m \u001b[90mc:\\Users\\Lenni\\.vscode\\extensions\\julialang.language-julia-1.47.2\\scripts\\notebook\\\u001b[39m\u001b[90m\u001b[4mnotebook.jl:32\u001b[24m\u001b[39m\n",
      " [22] \u001b[0m\u001b[1minclude\u001b[22m\u001b[0m\u001b[1m(\u001b[22m\u001b[90mmod\u001b[39m::\u001b[0mModule, \u001b[90m_path\u001b[39m::\u001b[0mString\u001b[0m\u001b[1m)\u001b[22m\n",
      "\u001b[90m    @\u001b[39m "
     ]
    },
    {
     "name": "stderr",
     "output_type": "stream",
     "text": [
      "\u001b[90mBase\u001b[39m \u001b[90m.\\\u001b[39m\u001b[90m\u001b[4mBase.jl:457\u001b[24m\u001b[39m\n",
      " [23] \u001b[0m\u001b[1mexec_options\u001b[22m\u001b[0m\u001b[1m(\u001b[22m\u001b[90mopts\u001b[39m::\u001b[0mBase.JLOptions\u001b[0m\u001b[1m)\u001b[22m\n",
      "\u001b[90m    @\u001b[39m \u001b[90mBase\u001b[39m \u001b[90m.\\\u001b[39m\u001b[90m\u001b[4mclient.jl:307\u001b[24m\u001b[39m\n",
      " [24] \u001b[0m\u001b[1m_start\u001b[22m\u001b[0m\u001b[1m(\u001b[22m\u001b[0m\u001b[1m)\u001b[22m\n",
      "\u001b[90m    @\u001b[39m \u001b[90mBase\u001b[39m \u001b[90m.\\\u001b[39m\u001b[90m\u001b[4mclient.jl:522\u001b[24m\u001b[39m"
     ]
    },
    {
     "name": "stderr",
     "output_type": "stream",
     "text": [
      "\n"
     ]
    }
   ],
   "source": [
    "SDDP.parameterize(model_ant[2], (price = Prices[1], inflow = Inflows[1], nomination = 0.3))\n",
    "SDDP.write_subproblem_to_file(model_ant[2], \"subproblem_2.lp\")\n",
    "sbproblem = JuMP.read_from_file(\"subproblem_2.lp\")\n",
    "print(sbproblem)"
   ]
  },
  {
   "cell_type": "code",
   "execution_count": null,
   "metadata": {},
   "outputs": [],
   "source": [
    "SDDP.train(model_ant; iteration_limit = 10)"
   ]
  }
 ],
 "metadata": {
  "kernelspec": {
   "display_name": "Julia 1.9.1",
   "language": "julia",
   "name": "julia-1.9"
  },
  "language_info": {
   "file_extension": ".jl",
   "mimetype": "application/julia",
   "name": "julia",
   "version": "1.9.1"
  },
  "orig_nbformat": 4
 },
 "nbformat": 4,
 "nbformat_minor": 2
}
