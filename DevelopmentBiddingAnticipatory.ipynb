{
 "cells": [
  {
   "cell_type": "code",
   "execution_count": 1,
   "metadata": {},
   "outputs": [],
   "source": [
    "using JuMP\n",
    "using CPLEX\n",
    "using Distributions\n",
    "using LinearAlgebra\n",
    "using Statistics\n",
    "using Dates\n",
    "using DataFrames\n",
    "using SDDP\n",
    "using Plots\n",
    "import CSV\n",
    "using JSON\n",
    "try\n",
    "    using Revise\n",
    "catch e\n",
    "    @warn \"Error initializing Revise\" exception=(e, catch_backtrace())\n",
    "end\n",
    "\n",
    "includet(pwd() * \"\\\\Water_Regulation\\\\WaterRegulation.jl\")\n",
    "using .WaterRegulation"
   ]
  },
  {
   "cell_type": "markdown",
   "metadata": {},
   "source": [
    "### Anticipatory Model  \n",
    "\n",
    "In this file we develop the bidding model for an anticipatory agent. We mainly consider the following implications\n",
    "\n",
    "* Adjusted flow\n",
    "* Power Swap\n",
    "* Overnomination\n",
    "\n",
    "Our Nomination makes a difference on how much water can be discharged in the next step. On the other hand, we receive or have to deliver a power swap depending on the discrepancy between nomination and adjusted flow.  \n",
    "The following formulas are directly included into the problem formulation:\n",
    "\n",
    "$$\n",
    "\\begin{align*}\n",
    "Q^\\text{adj}_{r} &= \\frac{Q^\\text{nom}_{j,r} \\cdot p_{j,r} + Q^\\text{nom}_{O,r} \\cdot p_{O,r}}{p_{j,r} + p_{O,r}} \\\\\n",
    "P^\\text{swap}_{j,r} &= p_{j,r} \\cdot (Q^\\text{nom}_r - Q^\\text{adj}_r) - \\sum\\limits_{k \\in \\mathcal{K}_{O,r}} P^\\text{Over}_k \\\\\n",
    "P^\\text{Over}_k  &= \\max \\{0, e_k \\cdot (Q^\\text{adj}_r - Q^\\text{spill}_k)\\} \n",
    "\\end{align*}\n",
    "$$\n",
    "\n",
    "The Power Swap has to be delivered smoothly in the last 12 hours of the day. The Power Swaps in total add up and we have the following obligation:\n",
    "$$\n",
    "\\begin{alignat*}{3}\n",
    "y_{t} &= \\sum\\limits_{k \\in \\mathcal{K}} w_{k,t} + z^+_{t} - z^-_{t}  & & \\text{ if } \\; t = 1, \\ldots, 12 \\\\ \n",
    "y_{t} &= \\sum\\limits_{k \\in \\mathcal{K}} w_{k,t} + 2 \\cdot \\sum\\limits_{r \\in \\mathcal{R}} P^\\text{swap}_r + z^+_{t} - z^-_{t} & & \\text{ if } \\; t = 13, \\ldots, 24\n",
    "\\end{alignat*}\n",
    "$$\n",
    "\n",
    "Additionally, the adjusted flow poses the real average discharge constraint:\n",
    "$$\n",
    "T \\cdot Q^\\text{adj}_r = \\sum\\limits_{t = 1}^T Q^\\text{real}_{r,t}\n",
    "$$"
   ]
  },
  {
   "cell_type": "markdown",
   "metadata": {},
   "source": [
    "### Define Parameters and Aggregated Other\n",
    "\n",
    "We have to define an aggregated other user $O$ to reflect some constraints in our program."
   ]
  },
  {
   "cell_type": "code",
   "execution_count": 22,
   "metadata": {},
   "outputs": [
    {
     "name": "stdout",
     "output_type": "stream",
     "text": [
      "Participation rate Sydkraft: \n",
      " ________________________________\n",
      "Flasjon  | 1.84    \n",
      "Holsmjon | 0.0     \n",
      "\n",
      "Participation rate Other: \n",
      " ________________________________\n",
      "Flasjon  | 2.68    \n",
      "Holsmjon | 2.68    \n",
      "\n",
      "K_O : HydropowerPlant[Parteboda] and spillage 1.4, \n",
      " K_j : HydropowerPlant[Flasjo] and spillage 0.58\n"
     ]
    }
   ],
   "source": [
    "filepath_Ljungan = pwd() * \"\\\\Water_Regulation\\\\TestDataWaterRegulation\\\\Ljungan.json\"\n",
    "filepath_prices = pwd() *  \"\\\\Data\\\\Spot Prices\\\\prices_df.csv\"\n",
    "filepath_results = pwd() * \"\\\\Results\\\\LambdaZero\\\\\"\n",
    "R, plants, parts = read_data(filepath_Ljungan)\n",
    "print() \n",
    "\n",
    "j = parts[1]\n",
    "O = OtherParticipant(parts, j , R)[1]\n",
    "K_j = [j.plants[1]]\n",
    "K_O = [O.plants[1]]\n",
    "pj = j.participationrate\n",
    "pO = O.participationrate\n",
    "\n",
    "\n",
    "println(\"Participation rate $(j.name): \\n \", pj)\n",
    "println(\"Participation rate $(O.name): \\n \", pO)\n",
    "println(\"K_O : $(K_O) and spillage $(K_O[1].spillreference), \\n K_j : $(K_j) and spillage $(K_j[1].spillreference)\")"
   ]
  },
  {
   "cell_type": "code",
   "execution_count": 23,
   "metadata": {},
   "outputs": [
    {
     "name": "stdout",
     "output_type": "stream",
     "text": [
      "Stages :8\n",
      " Hours: 24\n",
      " I : 5\n",
      " Price Points = [0.0, 0.2, 0.4, 0.6, 0.8, 1.0]\n"
     ]
    },
    {
     "name": "stdout",
     "output_type": "stream",
     "text": [
      "Uncertainty Set: NamedTuple{(:price, :inflow, :nomination), Tuple{Vector{Float64}, Float64, Float64}}[(price = [0.61, 0.975, 0.805, 0.957, 0.6, 0.554, 0.23, 0.368, 0.412, 0.614, 0.24, 0.831, 0.158, 0.615, 0.491, 0.0277, 0.634, 0.254, 0.872, 0.786, 0.11, 0.751, 0.306, 0.429], inflow = 10.0, nomination = 0.3), (price = [0.765, 0.254, 0.474, 0.936, 0.282, 0.652, 0.878, 0.53, 0.454, 0.99, 0.473, 0.905, 0.985, 0.768, 0.986, 0.908, 0.142, 0.0223, 0.599, 0.303, 0.228, 0.432, 0.0847, 0.837], inflow = 10.0, nomination = 0.3), (price = [0.755, 0.387, 0.798, 0.888, 0.333, 0.866, 0.363, 0.302, 0.229, 0.0127, 0.188, 0.247, 0.787, 0.103, 0.609, 0.943, 0.614, 6.55e-5, 0.448, 0.00152, 0.432, 0.547, 0.26, 0.665], inflow = 10.0, nomination = 0.3)]\n",
      "________________________________\n",
      "Flasjon  | 10.0    \n",
      "Holsmjon | 10.0    \n",
      "\n",
      "[[0.61, 0.975, 0.805, 0.957, 0.6, 0.554, 0.23, 0.368, 0.412, 0.614, 0.24, 0.831, 0.158, 0.615, 0.491, 0.0277, 0.634, 0.254, 0.872, 0.786, 0.11, 0.751, 0.306, 0.429], [0.765, 0.254, 0.474, 0.936, 0.282, 0.652, 0.878, 0.53, 0.454, 0.99, 0.473, 0.905, 0.985, 0.768, 0.986, 0.908, 0.142, 0.0223, 0.599, 0.303, 0.228, 0.432, 0.0847, 0.837], [0.755, 0.387, 0.798, 0.888, 0.333, 0.866, 0.363, 0.302, 0.229, 0.0127, 0.188, 0.247, 0.787, 0.103, 0.609, 0.943, 0.614, 6.55e-5, 0.448, 0.00152, 0.432, 0.547, 0.26, 0.665]]\n"
     ]
    }
   ],
   "source": [
    "Stages = 2 # 2 lowest number as first stage is just to achieve nonanticipativity\n",
    "T = 24\n",
    "PPoints = [0.0, 0.2, 0.4, 0.6, 0.8, 1.0]\n",
    "I = length(PPoints)-1\n",
    "\n",
    "println(\"Stages :\" , Stages, \"\\n Hours: \", T, \"\\n I : \", I, \"\\n Price Points = \", [i for i in PPoints])\n",
    "\n",
    "Qref = Dict{Reservoir, Float64}(r => 10.0 for r in R)\n",
    "scenario_count = 3\n",
    "Prices = [floor.(rand(T), sigdigits=3) for i in 1:scenario_count]\n",
    "Inflows = [10.0]\n",
    "Omega = [(price = p, inflow = v, nomination = 0.3) for p in Prices for v in Inflows]\n",
    "P = [1/length(Omega) for om in Omega]\n",
    "# StartUp Costs\n",
    "S = 0.1\n",
    "# Cost for Up and Down Balancing\n",
    "mu_up = 1\n",
    "mu_down = 0.3\n",
    "\n",
    "println(\"Uncertainty Set: \", Omega)\n",
    "println(Qref)\n",
    "println(Prices)"
   ]
  },
  {
   "cell_type": "code",
   "execution_count": 24,
   "metadata": {},
   "outputs": [
    {
     "data": {
      "text/plain": [
       "subproblem_builder_anticipatory (generic function with 1 method)"
      ]
     },
     "metadata": {},
     "output_type": "display_data"
    }
   ],
   "source": [
    "function subproblem_builder_anticipatory(subproblem::Model, node::Int64)\n",
    "    @variable(subproblem, 0 <= x[i = 1:I+1, t = 1:T] <= sum(k.equivalent * k.spillreference for k in K_j), SDDP.State, initial_value=0)\n",
    "    @variable(subproblem, 0 <= l[r = R] <= r.maxvolume, SDDP.State, initial_value = r.currentvolume)\n",
    "    @variable(subproblem, lind[r = R], SDDP.State, initial_value = r.currentvolume)\n",
    "    @variable(subproblem, u_start[k = K_j], SDDP.State, initial_value = 0, Bin)\n",
    "    @variable(subproblem, 0 <= Qnom[r = R] <= min([k.spillreference for k in filter(k -> k.reservoir == r, plants)]...), SDDP.State, initial_value = 0)\n",
    "    @variable(subproblem, y[t=1:T] >= 0)\n",
    "    @variable(subproblem, d[t=1:T, k = K_j], Bin)\n",
    "    @variable(subproblem, u[t=1:T, k = K_j], Bin)\n",
    "    @variable(subproblem, BALANCE_INDICATOR[r = R], Bin)\n",
    "    @variable(subproblem, 0 <= w[t=1:T, k = K_j] <= k.equivalent * k.spillreference)\n",
    "    @variable(subproblem, z_up[t=1:T] >= 0)\n",
    "    @variable(subproblem, z_down[t=1:T] >= 0)\n",
    "    @variable(subproblem, 0 <= Qeff[t=1:T, k = K_j] <= k.spillreference)\n",
    "    @variable(subproblem, 0 <= Qreal[t=1:T, r = R])\n",
    "    @variable(subproblem, 0 <= Qadj[r = R])\n",
    "    @variable(subproblem, Pswap[r = R])\n",
    "    @variable(subproblem, Pover[k = K_O] >= 0)\n",
    "    @variable(subproblem, f[r = R] >= 0)\n",
    "    @variable(subproblem, s[r = R] >= 0)\n",
    "    @variable(subproblem, a[r = R])\n",
    "\n",
    "    @constraint(subproblem, increasing[i = 1:I, t=1:T], x[i,t].out <= x[i+1,t].out)\n",
    "    @constraint(subproblem, balance_ind[r = R], lind[r].out == lind[r].in - T * (Qnom[r].out - Qref[r])- s[r]) \n",
    "    @constraint(subproblem, nbal1[r = R], BALANCE_INDICATOR[r] => {Qnom[r].out <= Qref[r]})\n",
    "    @constraint(subproblem, nbal2[r = R], !BALANCE_INDICATOR[r] => {0 <= lind[r].in})\n",
    "    @constraint(subproblem, NoSpill[k = K_O], BALANCE_INDICATOR[k.reservoir] => {sum(Qnom[r_up].out for r_up in find_us_reservoir(k.reservoir)) <= k.spillreference})\n",
    "    @constraint(subproblem, watervalue[r = R], a[r] >= pj[r] * 0.01 *  (l[r].in - l[r].out))\n",
    "    if node == 1\n",
    "        @stageobjective(subproblem, -sum(a[r] for r in R))\n",
    "        @constraint(subproblem, balance_transfer[r = R], l[r].out == l[r].in - T * Qnom[r].out - s[r]) \n",
    "    else\n",
    "        @constraint(subproblem, adjustedflow[r = R], (pj[r] + pO[r]) * Qadj[r] - Qnom[r].in * pj[r] ==  pO[r])\n",
    "        @constraint(subproblem, powerswap[r = R], Pswap[r] == pj[r] * (Qnom[r].in - Qadj[r]) - sum(Pover[k] for k in K_O))\n",
    "        @constraint(subproblem, overnomination[k = K_O], Pover[k] >= k.equivalent * (Qadj[k.reservoir] - k.spillreference))\n",
    "        @constraint(subproblem, endcond[k = K_j], u_start[k].out == u[T,k])\n",
    "        @constraint(subproblem, startcond[k = K_j], u_start[k].in == u[1,k])\n",
    "        @constraint(subproblem, clearing[t=1:T], y[t] == sum(1* x[i,t].in +  1* x[i+1,t].in for i in 1:I))\n",
    "        @constraint(subproblem, nomination[r = R], sum(Qreal[t,r] for t in 1:T) == T * Qadj[r])\n",
    "        @constraint(subproblem, obligation[t=1:T], y[t] - sum(Pswap[r] for r in R) == sum(w[t,k] for k in K_j) + z_up[t] - z_down[t])\n",
    "        @constraint(subproblem, balance[r = R], l[r].out == l[r].in - T * Qadj[r] + f[r] * T - s[r])\n",
    "        @constraint(subproblem, active[t=1:T, k=K_j], w[t,k] <= u[t,k] * k.spillreference * k.equivalent)\n",
    "        @constraint(subproblem, startup[t=1:T-1, k=K_j], d[t,k] >= u[t+1,k] - u[t,k])\n",
    "        @constraint(subproblem, production[t=1:T, k=K_j], w[t,k] == Qeff[t,k] * k.equivalent)\n",
    "        @constraint(subproblem, realwater[t=1:T, k=K_j], Qeff[t,k] <= sum(Qreal[t,r] for r in find_us_reservoir(k.reservoir)))\n",
    "        @constraint(subproblem, spillwater[t=1:T, k=K_j], Qeff[t,k] <= k.spillreference)\n",
    "        SDDP.parameterize(subproblem, Omega, P) do om\n",
    "            # We have to make sure that depending on the market clearing price, the coefficients are set accordingly.\n",
    "            # The recourse action only applies to the real delivery, determined by the uncertain price. The other restricitions become inactive, else they make the problem infeasible.\n",
    "            # The constraints that are relevant are maiintained in Scenario_Index for every current time step.\n",
    "            for r in R\n",
    "                JuMP.fix(f[r], om.inflow, force=true)\n",
    "                JuMP.set_normalized_rhs(adjustedflow[r], pO[r] * om.nomination)\n",
    "            end\n",
    "            # Define Set of active variables for each hour\n",
    "            I_t = Dict(t => 0 for t in 1:T)\n",
    "            for t in 1:T\n",
    "                for i in 1:I\n",
    "                    if (om.price[t] >= PPoints[i]) && (om.price[t] <= PPoints[i+1])\n",
    "                        I_t[t] = i\n",
    "                    end\n",
    "                end\n",
    "            end\n",
    "            # Include only active variables in stageobjective\n",
    "            @stageobjective(subproblem ,sum(om.price[t] * y[t] -  mu_up * z_up[t] + mu_down * z_down[t]  - S * sum(d[t,k] for k in K_j) for t in 1:T) - sum(a[r] for r in R))\n",
    "            # Fix / Deactivate constraints by setting their coefficients to appropriate values or all zero.\n",
    "            for t in 1:T\n",
    "                for i in 1:I\n",
    "                    if (i == I_t[t])\n",
    "                        set_normalized_coefficient(clearing[t], x[i,t].in, -((om.price[t] - PPoints[i])/(PPoints[i+1] - PPoints[i])))\n",
    "                        set_normalized_coefficient(clearing[t], x[i+1,t].in, -((PPoints[i+1] - om.price[t])/(PPoints[i+1] - PPoints[i])))\n",
    "                    else\n",
    "                        set_normalized_coefficient(clearing[t], x[i,t].in, 0)\n",
    "                        set_normalized_coefficient(clearing[t], x[i+1,t].in, 0)\n",
    "                    end\n",
    "                end\n",
    "            end\n",
    "        end\n",
    "    end\n",
    "    return\n",
    "end"
   ]
  },
  {
   "cell_type": "code",
   "execution_count": 25,
   "metadata": {},
   "outputs": [
    {
     "name": "stdout",
     "output_type": "stream",
     "text": [
      "-------------------------------------------------------------------\n",
      "         SDDP.jl (c) Oscar Dowson and contributors, 2017-23\n",
      "-------------------------------------------------------------------\n",
      "problem\n",
      "  nodes           : 8\n",
      "  state variables : 151\n",
      "  scenarios       : 2.18700e+03\n",
      "  existing cuts   : false\n",
      "options\n",
      "  solver          : serial mode\n",
      "  risk measure    : SDDP.Expectation()\n",
      "  sampling scheme : SDDP.InSampleMonteCarlo\n",
      "subproblem structure\n",
      "  VariableRef                                                                   : [532, 532]\n",
      "  Vector{AffExpr} in MOI.Indicator{MOI.ACTIVATE_ON_ONE, MOI.LessThan{Float64}}  : [3, 3]\n",
      "  VariableRef in MOI.LessThan{Float64}                                          : [197, 197]\n",
      "  VariableRef in MOI.ZeroOne                                                    : [51, 51]\n",
      "  AffExpr in MOI.LessThan{Float64}                                              : [120, 192]\n",
      "  AffExpr in MOI.GreaterThan{Float64}                                           : [2, 26]\n",
      "  AffExpr in MOI.EqualTo{Float64}                                               : [4, 84]\n",
      "  Vector{AffExpr} in MOI.Indicator{MOI.ACTIVATE_ON_ZERO, MOI.LessThan{Float64}} : [2, 2]\n",
      "  VariableRef in MOI.GreaterThan{Float64}                                       : [323, 324]\n"
     ]
    },
    {
     "name": "stdout",
     "output_type": "stream",
     "text": [
      "numerical stability report\n",
      "  matrix range     [3e-04, 2e+01]\n",
      "  objective range  [7e-05, 1e+00]\n",
      "  bounds range     [2e-01, 4e+04]\n",
      "  rhs range        [4e-01, 2e+02]\n",
      "WARNING: numerical stability issues detected\n",
      "  - objective range contains small coefficients\n",
      "Very large or small absolute values of coefficients\n",
      "can cause numerical stability issues. Consider\n",
      "reformulating the model.\n",
      "-------------------------------------------------------------------\n",
      " iteration    simulation      bound        time (s)     solves  pid\n",
      "-------------------------------------------------------------------\n"
     ]
    },
    {
     "name": "stdout",
     "output_type": "stream",
     "text": [
      "         1  -1.612582e+01  1.024611e+02  6.070001e-01        30   1"
     ]
    },
    {
     "name": "stdout",
     "output_type": "stream",
     "text": [
      "\n",
      "         2   5.124005e+01  5.726601e+01  1.613000e+00        60   1\n"
     ]
    },
    {
     "name": "stdout",
     "output_type": "stream",
     "text": [
      "         3   5.737563e+01  5.726601e+01  2.446000e+00        90   1\n"
     ]
    },
    {
     "name": "stdout",
     "output_type": "stream",
     "text": [
      "         4   5.809177e+01  5.726601e+01  3.260000e+00       120   1"
     ]
    },
    {
     "name": "stdout",
     "output_type": "stream",
     "text": [
      "\n",
      "         5   5.644548e+01  5.726601e+01  3.913000e+00       150   1"
     ]
    },
    {
     "name": "stdout",
     "output_type": "stream",
     "text": [
      "\n",
      "         6   5.603019e+01  5.726601e+01  4.568000e+00       180   1"
     ]
    },
    {
     "name": "stdout",
     "output_type": "stream",
     "text": [
      "\n",
      "         7   5.757648e+01  5.726601e+01  5.690000e+00       210   1\n"
     ]
    },
    {
     "name": "stdout",
     "output_type": "stream",
     "text": [
      "         8   5.747563e+01  5.726601e+01  6.429000e+00       240   1\n"
     ]
    },
    {
     "name": "stdout",
     "output_type": "stream",
     "text": [
      "         9   5.716120e+01  5.726601e+01  7.257000e+00       270   1\n"
     ]
    },
    {
     "name": "stdout",
     "output_type": "stream",
     "text": [
      "        10   5.664591e+01  5.726601e+01  8.006000e+00       300   1\n",
      "-------------------------------------------------------------------\n",
      "status         : iteration_limit\n",
      "total time (s) : 8.006000e+00\n",
      "total solves   : 300\n",
      "best bound     :  5.726601e+01\n",
      "simulation ci  :  4.919165e+01 ± 1.427522e+01\n",
      "numeric issues : 0\n",
      "-------------------------------------------------------------------\n",
      "\n"
     ]
    }
   ],
   "source": [
    "model_ant = SDDP.LinearPolicyGraph(\n",
    "    subproblem_builder_anticipatory;\n",
    "    stages = Stages,\n",
    "    sense = :Max,\n",
    "    upper_bound = Stages * T * sum(k.equivalent * k.spillreference for k in plants),\n",
    "    optimizer = CPLEX.Optimizer\n",
    ")\n",
    "\n",
    "SDDP.train(model_ant; iteration_limit = 10)"
   ]
  },
  {
   "cell_type": "code",
   "execution_count": 26,
   "metadata": {},
   "outputs": [
    {
     "data": {
      "text/plain": [
       "(stage_objective = -0.2561279999999897, outgoing_state = Dict(Symbol(\"x[2,24]\") => 0.0, Symbol(\"x[6,18]\") => 0.1798, Symbol(\"x[4,13]\") => 0.1798, Symbol(\"x[2,8]\") => 0.1798, Symbol(\"Qnom[Flasjon]\") => 0.58, Symbol(\"x[3,17]\") => 0.1798, Symbol(\"x[3,7]\") => 0.1798, Symbol(\"x[1,4]\") => 0.0, Symbol(\"x[6,7]\") => 0.1798, Symbol(\"x[2,4]\") => 0.0…), controls = Dict{Symbol, AbstractArray}(:Qnom => 1-dimensional DenseAxisArray{SDDP.State{Float64},1,...} with index sets:\n",
       "    Dimension 1, Reservoir[Flasjon, Holsmjon]\n",
       "And data, a 2-element Vector{SDDP.State{Float64}}:\n",
       " SDDP.State{Float64}(0.0, 0.5800000000000018)\n",
       " SDDP.State{Float64}(0.0, 1.4), :z_up => [0.0, 0.0, 0.0, 0.0, 0.0, 0.0, 0.0, 0.0, 0.0, 0.0  …  0.0, 0.0, 0.0, 0.0, 0.0, 0.0, 0.0, 0.0, 0.0, 0.0], :x => SDDP.State{Float64}[SDDP.State{Float64}(0.0, 0.0) SDDP.State{Float64}(0.0, 0.0) … SDDP.State{Float64}(0.0, 0.0) SDDP.State{Float64}(0.0, 0.0); SDDP.State{Float64}(0.0, 0.0) SDDP.State{Float64}(0.0, 0.1798) … SDDP.State{Float64}(0.0, 0.0) SDDP.State{Float64}(0.0, 0.0); … ; SDDP.State{Float64}(0.0, 0.1798) SDDP.State{Float64}(0.0, 0.1798) … SDDP.State{Float64}(0.0, 0.1798) SDDP.State{Float64}(0.0, 0.1798); SDDP.State{Float64}(0.0, 0.1798) SDDP.State{Float64}(0.0, 0.1798) … SDDP.State{Float64}(0.0, 0.1798) SDDP.State{Float64}(0.0, 0.1798)]))"
      ]
     },
     "metadata": {},
     "output_type": "display_data"
    }
   ],
   "source": [
    "rule_ant = SDDP.DecisionRule(model_ant; node = 1)\n",
    "solution = SDDP.evaluate(\n",
    "    rule_ant;\n",
    "    incoming_state = Dict(Symbol(\"l[$(r)]\") => r.currentvolume for r in R),\n",
    "    controls_to_record = [:Qnom, :x, :z_up],\n",
    ")"
   ]
  },
  {
   "cell_type": "code",
   "execution_count": 27,
   "metadata": {},
   "outputs": [
    {
     "data": {
      "text/plain": [
       "9-element Vector{Float64}:\n",
       "     0.0\n",
       "     0.1798\n",
       "     0.58\n",
       " 17966.4\n",
       " 18206.4\n",
       " 34986.08\n",
       "     1.4\n",
       "     1.0\n",
       " 35226.08"
      ]
     },
     "metadata": {},
     "output_type": "display_data"
    }
   ],
   "source": [
    "unique(values(solution[2]))"
   ]
  }
 ],
 "metadata": {
  "kernelspec": {
   "display_name": "Julia 1.8.5",
   "language": "julia",
   "name": "julia-1.8"
  },
  "language_info": {
   "file_extension": ".jl",
   "mimetype": "application/julia",
   "name": "julia",
   "version": "1.8.5"
  },
  "orig_nbformat": 4
 },
 "nbformat": 4,
 "nbformat_minor": 2
}
