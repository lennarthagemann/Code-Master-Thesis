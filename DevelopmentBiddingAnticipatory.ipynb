{
 "cells": [
  {
   "cell_type": "code",
   "execution_count": 1,
   "metadata": {},
   "outputs": [],
   "source": [
    "using JuMP\n",
    "using CPLEX\n",
    "using Distributions\n",
    "using LinearAlgebra\n",
    "using Statistics\n",
    "using Dates\n",
    "using DataFrames\n",
    "using SDDP\n",
    "using Plots\n",
    "import CSV\n",
    "using JSON\n",
    "try\n",
    "    using Revise\n",
    "catch e\n",
    "    @warn \"Error initializing Revise\" exception=(e, catch_backtrace())\n",
    "end\n",
    "\n",
    "includet(pwd() * \"\\\\Water_Regulation\\\\WaterRegulation.jl\")\n",
    "using .WaterRegulation"
   ]
  },
  {
   "cell_type": "markdown",
   "metadata": {},
   "source": [
    "### Anticipatory Model  \n",
    "\n",
    "In this file we develop the bidding model for an anticipatory agent. We mainly consider the following implications\n",
    "\n",
    "* Adjusted flow\n",
    "* Power Swap\n",
    "* Overnomination\n",
    "\n",
    "Our Nomination makes a difference on how much water can be discharged in the next step. On the other hand, we receive or have to deliver a power swap depending on the discrepancy between nomination and adjusted flow.  \n",
    "The following formulas are directly included into the problem formulation:\n",
    "\n",
    "$$\n",
    "\\begin{align*}\n",
    "Q^\\text{adj}_{r} &= \\frac{Q^\\text{nom}_{j,r} \\cdot p_{j,r} + Q^\\text{nom}_{O,r} \\cdot p_{O,r}}{p_{j,r} + p_{O,r}} \\\\\n",
    "P^\\text{swap}_{j,r} &= p_{j,r} \\cdot (Q^\\text{nom}_r - Q^\\text{adj}_r) - \\sum\\limits_{k \\in \\mathcal{K}_{O,r}} P^\\text{Over}_k \\\\\n",
    "P^\\text{Over}_k  &= \\max \\{0, e_k \\cdot (Q^\\text{adj}_r - Q^\\text{spill}_k)\\} \n",
    "\\end{align*}\n",
    "$$\n",
    "\n",
    "The Power Swap has to be delivered smoothly in the last 12 hours of the day. The Power Swaps in total add up and we have the following obligation:\n",
    "$$\n",
    "\\begin{alignat*}{3}\n",
    "y_{t} &= \\sum\\limits_{k \\in \\mathcal{K}} w_{k,t} + z^+_{t} - z^-_{t}  & & \\text{ if } \\; t = 1, \\ldots, 12 \\\\ \n",
    "y_{t} &= \\sum\\limits_{k \\in \\mathcal{K}} w_{k,t} + 2 \\cdot \\sum\\limits_{r \\in \\mathcal{R}} P^\\text{swap}_r + z^+_{t} - z^-_{t} & & \\text{ if } \\; t = 13, \\ldots, 24\n",
    "\\end{alignat*}\n",
    "$$\n",
    "\n",
    "Additionally, the adjusted flow poses the real average discharge constraint:\n",
    "$$\n",
    "T \\cdot Q^\\text{adj}_r = \\sum\\limits_{t = 1}^T Q^\\text{real}_{r,t}\n",
    "$$"
   ]
  },
  {
   "cell_type": "markdown",
   "metadata": {},
   "source": [
    "### Define Parameters and Aggregated Other\n",
    "\n",
    "We have to define an aggregated other user $O$ to reflect some constraints in our program."
   ]
  },
  {
   "cell_type": "code",
   "execution_count": 2,
   "metadata": {},
   "outputs": [
    {
     "name": "stdout",
     "output_type": "stream",
     "text": [
      "Participation rate Sydkraft: \n",
      " ________________________________\n",
      "Holsmjon | 0.0     \n",
      "Flasjon  | 1.84    \n",
      "\n",
      "Participation rate Other: \n",
      " ________________________________\n",
      "Holsmjon | 2.68    \n",
      "Flasjon  | 2.68    \n",
      "\n"
     ]
    },
    {
     "name": "stdout",
     "output_type": "stream",
     "text": [
      "[1.4]\n"
     ]
    }
   ],
   "source": [
    "filepath_Ljungan = pwd() * \"\\\\Water_Regulation\\\\TestDataWaterRegulation\\\\Ljungan.json\"\n",
    "filepath_prices = pwd() *  \"\\\\Data\\\\Spot Prices\\\\prices_df.csv\"\n",
    "filepath_results = pwd() * \"\\\\Results\\\\LambdaZero\\\\\"\n",
    "R, plants, parts = read_data(filepath_Ljungan)\n",
    "print() \n",
    "\n",
    "j = parts[1]\n",
    "O = OtherParticipant(parts, j , R)[1]\n",
    "K = [j.plants[1]]\n",
    "K_O = [O.plants[1]]\n",
    "pj = j.participationrate\n",
    "pO = O.participationrate\n",
    "\n",
    "\n",
    "println(\"Participation rate $(j.name): \\n \", pj)\n",
    "println(\"Participation rate $(O.name): \\n \", pO)\n",
    "println([k.spillreference for k in K_O])"
   ]
  },
  {
   "cell_type": "code",
   "execution_count": 3,
   "metadata": {},
   "outputs": [
    {
     "name": "stdout",
     "output_type": "stream",
     "text": [
      "Stages :2\n",
      " Hours: 1\n",
      " I : 1\n",
      " Price Points = [0.0, 1.0]\n"
     ]
    },
    {
     "name": "stdout",
     "output_type": "stream",
     "text": [
      "Uncertainty Set: "
     ]
    },
    {
     "name": "stdout",
     "output_type": "stream",
     "text": [
      "NamedTuple{(:price, :inflow, :nomination), Tuple{Vector{Float64}, Float64, Float64}}[(price = [0.904], inflow = 10.0, nomination = 0.3)]\n",
      "________________________________\n",
      "Holsmjon | 10.0    \n",
      "Flasjon  | 10.0    \n",
      "\n"
     ]
    }
   ],
   "source": [
    "Stages = 2 # 2 lowest number as first stage is just to achieve nonanticipativity\n",
    "T = 1\n",
    "PPoints = [0.0, 1.0]\n",
    "I = length(PPoints)-1\n",
    "\n",
    "println(\"Stages :\" , Stages, \"\\n Hours: \", T, \"\\n I : \", I, \"\\n Price Points = \", [i for i in PPoints])\n",
    "\n",
    "Qref = Dict{Reservoir, Float64}(r => 10.0 for r in R)\n",
    "scenario_count = 1\n",
    "Prices = [floor.(rand(T), sigdigits=3) for i in 1:scenario_count]\n",
    "Inflows = [10.0]\n",
    "Omega = [(price = p, inflow = v, nomination = 0.3) for p in Prices for v in Inflows]\n",
    "P = [1/length(Omega) for om in Omega]\n",
    "# StartUp Costs\n",
    "S = 0.1\n",
    "# Cost for Up and Down Balancing\n",
    "mu_up = 0.7\n",
    "mu_down = 0.3\n",
    "\n",
    "println(\"Uncertainty Set: \", Omega)\n",
    "println(Qref)"
   ]
  },
  {
   "cell_type": "code",
   "execution_count": 4,
   "metadata": {},
   "outputs": [
    {
     "data": {
      "text/plain": [
       "subproblem_builder_anticipatory (generic function with 1 method)"
      ]
     },
     "metadata": {},
     "output_type": "display_data"
    }
   ],
   "source": [
    "function subproblem_builder_anticipatory(subproblem::Model, node::Int64)\n",
    "    @variable(subproblem, 0 <= x[i = 1:I+1, t = 1:T] <= sum(k.equivalent * k.spillreference for k in K), SDDP.State, initial_value=0)\n",
    "    @variable(subproblem, 0 <= l[r = R] <= r.maxvolume, SDDP.State, initial_value = r.currentvolume)\n",
    "    @variable(subproblem, lind[r = R], SDDP.State, initial_value = r.currentvolume)\n",
    "    @variable(subproblem, u_start[k = K], SDDP.State, initial_value = 0, Bin)\n",
    "    @variable(subproblem, 0 <= Qnom[r = R] <= min([k.spillreference for k in filter(k -> k.reservoir == r, plants)]...), SDDP.State, initial_value = 0)\n",
    "    @variable(subproblem, y[t=1:T] >= 0)\n",
    "    @variable(subproblem, d[t=1:T, k = K], Bin)\n",
    "    @variable(subproblem, u[t=1:T, k = K], Bin)\n",
    "    @variable(subproblem, BALANCE_INDICATOR[r = R], Bin)\n",
    "    @variable(subproblem, 0 <= w[t=1:T, k = K] <= k.equivalent * k.spillreference)\n",
    "    @variable(subproblem, z_up[t=1:T] >= 0)\n",
    "    @variable(subproblem, z_down[t=1:T] >= 0)\n",
    "    @variable(subproblem, 0 <= Qeff[t=1:T, k = K] <= k.spillreference)\n",
    "    @variable(subproblem, 0 <= Qreal[t=1:T, r = R])\n",
    "    @variable(subproblem, 0 <= Qadj[r = R])\n",
    "    @variable(subproblem, Pswap[r = R])\n",
    "    @variable(subproblem, Pover[k = K_O] >= 0)\n",
    "    @variable(subproblem, f[r = R] >= 0)\n",
    "    @variable(subproblem, s[r = R] >= 0)\n",
    "    @variable(subproblem, a[r = R])\n",
    "\n",
    "    @constraint(subproblem, increasing[i = 1:I, t=1:T], x[i,t].out <= x[i+1,t].out)\n",
    "    @constraint(subproblem, balance_ind[r = R], lind[r].out == lind[r].in - T * (Qnom[r].out - Qref[r])- s[r]) \n",
    "    @constraint(subproblem, nbal1[r = R], BALANCE_INDICATOR[r] => {Qnom[r].out <= Qref[r]})\n",
    "    @constraint(subproblem, nbal2[r = R], !BALANCE_INDICATOR[r] => {0 <= lind[r].in})\n",
    "    @constraint(subproblem, NoSpill[k = K], BALANCE_INDICATOR[k.reservoir] => {sum(Qnom[r_up].out for r_up in find_us_reservoir(k.reservoir)) <= k.spillreference})\n",
    "    @constraint(subproblem, watervalue[r = R], a[r] >= pj[r] * (l[r].in - l[r].out) * 0.5)\n",
    "    if node == 1\n",
    "        @stageobjective(subproblem, -sum(a[r] for r in R))\n",
    "        @constraint(subproblem, balance_transfer[r = R], l[r].out == l[r].in - T * Qnom[r].out - s[r]) \n",
    "    else\n",
    "        @constraint(subproblem, adjustedflow[r = R], (pj[r] + pO[r]) * Qadj[r] - Qnom[r].in * pj[r] ==  pO[r])\n",
    "        @constraint(subproblem, powerswap[r = R], Pswap[r] == pj[r] * (Qnom[r].in - Qadj[r]) - sum(Pover[k] for k in K_O))\n",
    "        @constraint(subproblem, overnomination[k = K_O], Pover[k] >= k.equivalent * (Qadj[k.reservoir] - k.spillreference))\n",
    "        @constraint(subproblem, endcond[k = K], u_start[k].out == u[T,k])\n",
    "        @constraint(subproblem, startcond[k = K], u_start[k].in == u[1,k])\n",
    "        @constraint(subproblem, clearing[t=1:T], y[t] == sum(1* x[i,t].in +  1* x[i+1,t].in for i in 1:I))\n",
    "        @constraint(subproblem, nomination[r = R], sum(Qreal[t,r] for t in 1:T) == T * Qadj[r])\n",
    "        @constraint(subproblem, obligation[t=1:T], y[t] - sum(Pswap[r] for r in R) == sum(w[t,k] for k in K) + z_up[t] - z_down[t])\n",
    "        @constraint(subproblem, balance[r = R], l[r].out == l[r].in - T * Qadj[r] + f[r] * T - s[r])\n",
    "        @constraint(subproblem, active[t=1:T, k=K], w[t,k] == u[t,k] * k.spillreference * k.equivalent)\n",
    "        @constraint(subproblem, startup[t=1:T-1, k=K], d[t,k] >= u[t+1,k] - u[t,k])\n",
    "        @constraint(subproblem, production[t=1:T, k=K], w[t,k] == Qeff[t,k] * k.equivalent)\n",
    "        @constraint(subproblem, realwater[t=1:T, k=K], Qeff[t,k] <= sum(Qreal[t,r] for r in find_us_reservoir(k.reservoir)))\n",
    "        SDDP.parameterize(subproblem, Omega, P) do om\n",
    "            # We have to make sure that depending on the market clearing price, the coefficients are set accordingly.\n",
    "            # The recourse action only applies to the real delivery, determined by the uncertain price. The other restricitions become inactive, else they make the problem infeasible.\n",
    "            # The constraints that are relevant are maiintained in Scenario_Index for every current time step.\n",
    "            for r in R\n",
    "                JuMP.fix(f[r], om.inflow, force=true)\n",
    "                JuMP.set_normalized_rhs(adjustedflow[r], pO[r] * om.nomination)\n",
    "            end\n",
    "            # Define Set of active variables for each hour\n",
    "            I_t = Dict(t => 0 for t in 1:T)\n",
    "            for t in 1:T\n",
    "                for i in 1:I\n",
    "                    if (om.price[t] >= PPoints[i]) && (om.price[t] <= PPoints[i+1])\n",
    "                        I_t[t] = i\n",
    "                    end\n",
    "                end\n",
    "            end\n",
    "            # Include only active variables in stageobjective\n",
    "            @stageobjective(subproblem ,sum(om.price[t] * y[t] -  mu_up * z_up[t] + mu_down * z_down[t]  - S * sum(d[t,k] for k in K) for t in 1:T) - sum(a[r] for r in R))\n",
    "            # Fix / Deactivate constraints by setting their coefficients to appropriate values or all zero.\n",
    "            for t in 1:T\n",
    "                for i in 1:I\n",
    "                    if (i == I_t[t])\n",
    "                        set_normalized_coefficient(clearing[t], x[i,t].in, -((om.price[t] - PPoints[i])/(PPoints[i+1] - PPoints[i])))\n",
    "                        set_normalized_coefficient(clearing[t], x[i+1,t].in, -((PPoints[i+1] - om.price[t])/(PPoints[i+1] - PPoints[i])))\n",
    "                    else\n",
    "                        set_normalized_coefficient(clearing[t], x[i,t].in, 0)\n",
    "                        set_normalized_coefficient(clearing[t], x[i+1,t].in, 0)\n",
    "                    end\n",
    "                end\n",
    "            end\n",
    "        end\n",
    "    end\n",
    "    return\n",
    "end"
   ]
  },
  {
   "cell_type": "code",
   "execution_count": 5,
   "metadata": {},
   "outputs": [
    {
     "data": {
      "text/plain": [
       "A policy graph with 2 nodes.\n",
       " Node indices: 1, 2\n"
      ]
     },
     "metadata": {},
     "output_type": "display_data"
    }
   ],
   "source": [
    "model_ant = SDDP.LinearPolicyGraph(\n",
    "    subproblem_builder_anticipatory;\n",
    "    stages = Stages,\n",
    "    sense = :Max,\n",
    "    upper_bound = 1e5,\n",
    "    optimizer = CPLEX.Optimizer\n",
    ")\n"
   ]
  },
  {
   "cell_type": "code",
   "execution_count": 6,
   "metadata": {},
   "outputs": [
    {
     "name": "stdout",
     "output_type": "stream",
     "text": [
      "-------------------------------------------------------------------\n",
      "         SDDP.jl (c) Oscar Dowson and contributors, 2017-23\n",
      "-------------------------------------------------------------------\n"
     ]
    },
    {
     "name": "stdout",
     "output_type": "stream",
     "text": [
      "problem\n",
      "  nodes           : 2\n",
      "  state variables : 9\n",
      "  scenarios       : 1.00000e+00\n",
      "  existing cuts   : "
     ]
    },
    {
     "name": "stdout",
     "output_type": "stream",
     "text": [
      "false\n",
      "options\n",
      "  solver          : serial mode\n"
     ]
    },
    {
     "name": "stdout",
     "output_type": "stream",
     "text": [
      "  risk measure    : SDDP.Expectation()\n",
      "  sampling scheme : SDDP.InSampleMonteCarlo\n",
      "subproblem structure\n",
      "  VariableRef                                                                   : [41, 41]\n",
      "  Vector{AffExpr} in MOI.Indicator{MOI.ACTIVATE_ON_ONE, MOI.LessThan{Float64}}  : [3, 3]\n",
      "  VariableRef in MOI.LessThan{Float64}                                          : [9, 9]\n",
      "  VariableRef in MOI.ZeroOne                                                    : [5, 5]\n",
      "  AffExpr in MOI.LessThan{Float64}                                              : [1, 2]\n",
      "  AffExpr in MOI.GreaterThan{Float64}                                           : [2, 3]\n",
      "  AffExpr in MOI.EqualTo{Float64}                                               : [4, 16]\n",
      "  Vector{AffExpr} in MOI.Indicator{MOI.ACTIVATE_ON_ZERO, MOI.LessThan{Float64}} : [2, 2]\n",
      "  VariableRef in MOI.GreaterThan{Float64}                                       : [20, 21]\n"
     ]
    },
    {
     "name": "stdout",
     "output_type": "stream",
     "text": [
      "numerical stability report\n",
      "  matrix range     [1e-01, 5e+00]\n",
      "  objective range  [1e-01, 1e+00]\n",
      "  bounds range     [2e-01, 1e+05]\n",
      "  rhs range        [4e-01, 1e+01]\n",
      "-------------------------------------------------------------------\n",
      " iteration    simulation      bound        time (s)     solves  pid\n",
      "-------------------------------------------------------------------"
     ]
    },
    {
     "name": "stdout",
     "output_type": "stream",
     "text": [
      "\n",
      "         1   8.810771e+00  8.969789e+00  2.066100e+01         4   1\n"
     ]
    },
    {
     "name": "stderr",
     "output_type": "stream",
     "text": [
      "┌ Warning: Attempting to recover from serious numerical issues...\n",
      "└ @ SDDP C:\\Users\\lenna\\.julia\\packages\\SDDP\\gpgyh\\src\\algorithm.jl:261\n",
      "┌ Info: Writing cuts to the file `model.cuts.json`\n",
      "└ @ SDDP C:\\Users\\lenna\\.julia\\packages\\SDDP\\gpgyh\\src\\algorithm.jl:274\n"
     ]
    },
    {
     "ename": "ErrorException",
     "evalue": "Unable to retrieve solution from 2.\n  Termination status: INFEASIBLE\n  Primal status:      NO_SOLUTION\n  Dual status:        NO_SOLUTION.\nA MathOptFormat file was written to `subproblem_2.mof.json`.\nSee https://odow.github.io/SDDP.jl/latest/tutorial/06_warnings/#Numerical-stability-1\nfor more information.",
     "output_type": "error",
     "traceback": [
      "Unable to retrieve solution from 2.\n",
      "  Termination status: INFEASIBLE\n",
      "  Primal status:      NO_SOLUTION\n",
      "  Dual status:        NO_SOLUTION.\n",
      "A MathOptFormat file was written to `subproblem_2.mof.json`.\n",
      "See https://odow.github.io/SDDP.jl/latest/tutorial/06_warnings/#Numerical-stability-1\n",
      "for more information.\n",
      "\n",
      "Stacktrace:\n",
      "  [1] error(::String, ::String, ::String, ::String, ::String, ::String, ::String)\n",
      "    @ Base .\\error.jl:44\n",
      "  [2] write_subproblem_to_file(node::SDDP.Node{Int64}, filename::String; throw_error::Bool)\n",
      "    @ SDDP C:\\Users\\lenna\\.julia\\packages\\SDDP\\gpgyh\\src\\algorithm.jl:236\n",
      "  [3] attempt_numerical_recovery(model::SDDP.PolicyGraph{Int64}, node::SDDP.Node{Int64})\n",
      "    @ SDDP C:\\Users\\lenna\\.julia\\packages\\SDDP\\gpgyh\\src\\algorithm.jl:276\n",
      "  [4] solve_subproblem(model::SDDP.PolicyGraph{Int64}, node::SDDP.Node{Int64}, state::Dict{Symbol, Float64}, noise::NamedTuple{(:price, :inflow, :nomination), Tuple{Vector{Float64}, Float64, Float64}}, scenario_path::Vector{Tuple{Int64, Any}}; duality_handler::Nothing)\n",
      "    @ SDDP C:\\Users\\lenna\\.julia\\packages\\SDDP\\gpgyh\\src\\algorithm.jl:404\n",
      "  [5] macro expansion\n",
      "    @ C:\\Users\\lenna\\.julia\\packages\\SDDP\\gpgyh\\src\\plugins\\forward_passes.jl:98 [inlined]\n",
      "  [6] macro expansion\n",
      "    @ C:\\Users\\lenna\\.julia\\packages\\TimerOutputs\\RsWnF\\src\\TimerOutput.jl:237 [inlined]\n",
      "  [7] forward_pass(model::SDDP.PolicyGraph{Int64}, options::SDDP.Options{Int64}, pass::SDDP.DefaultForwardPass)\n",
      "    @ SDDP C:\\Users\\lenna\\.julia\\packages\\SDDP\\gpgyh\\src\\plugins\\forward_passes.jl:97\n",
      "  [8] macro expansion\n",
      "    @ C:\\Users\\lenna\\.julia\\packages\\SDDP\\gpgyh\\src\\algorithm.jl:795 [inlined]\n",
      "  [9] macro expansion\n",
      "    @ C:\\Users\\lenna\\.julia\\packages\\TimerOutputs\\RsWnF\\src\\TimerOutput.jl:237 [inlined]\n",
      " [10] iteration(model::SDDP.PolicyGraph{Int64}, options::SDDP.Options{Int64})\n",
      "    @ SDDP C:\\Users\\lenna\\.julia\\packages\\SDDP\\gpgyh\\src\\algorithm.jl:794\n",
      " [11] master_loop\n",
      "    @ C:\\Users\\lenna\\.julia\\packages\\SDDP\\gpgyh\\src\\plugins\\parallel_schemes.jl:42 [inlined]\n",
      " [12] train(model::SDDP.PolicyGraph{Int64}; iteration_limit::Int64, time_limit::Nothing, print_level::Int64, log_file::String, log_frequency::Int64, log_every_seconds::Float64, run_numerical_stability_report::Bool, stopping_rules::Vector{SDDP.AbstractStoppingRule}, risk_measure::SDDP.Expectation, sampling_scheme::SDDP.InSampleMonteCarlo, cut_type::SDDP.CutType, cycle_discretization_delta::Float64, refine_at_similar_nodes::Bool, cut_deletion_minimum::Int64, backward_sampling_scheme::SDDP.CompleteSampler, dashboard::Bool, parallel_scheme::SDDP.Serial, forward_pass::SDDP.DefaultForwardPass, forward_pass_resampling_probability::Nothing, add_to_existing_cuts::Bool, duality_handler::SDDP.ContinuousConicDuality, forward_pass_callback::SDDP.var\"#82#87\")\n",
      "    @ SDDP C:\\Users\\lenna\\.julia\\packages\\SDDP\\gpgyh\\src\\algorithm.jl:1071\n",
      " [13] top-level scope\n",
      "    @ c:\\Users\\lenna\\OneDrive - NTNU\\Code Master Thesis\\DevelopmentBiddingAnticipatory.ipynb:1"
     ]
    }
   ],
   "source": [
    "SDDP.train(model_ant; iteration_limit = 10)"
   ]
  }
 ],
 "metadata": {
  "kernelspec": {
   "display_name": "Julia 1.8.5",
   "language": "julia",
   "name": "julia-1.8"
  },
  "language_info": {
   "file_extension": ".jl",
   "mimetype": "application/julia",
   "name": "julia",
   "version": "1.8.5"
  },
  "orig_nbformat": 4
 },
 "nbformat": 4,
 "nbformat_minor": 2
}
