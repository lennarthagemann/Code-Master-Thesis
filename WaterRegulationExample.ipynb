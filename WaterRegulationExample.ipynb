{
 "cells": [
  {
   "cell_type": "code",
   "execution_count": 2,
   "metadata": {},
   "outputs": [],
   "source": [
    "using Distributions\n",
    "using LinearAlgebra\n",
    "using Statistics\n",
    "using Dates\n",
    "using DataFrames\n",
    "using Plots\n",
    "import CSV\n",
    "using JSON\n",
    "try\n",
    "    using Revise\n",
    "catch e\n",
    "    @warn \"Error initializing Revise\" exception=(e, catch_backtrace())\n",
    "end\n",
    "includet(pwd() * \"\\\\Water_Regulation\\\\WaterRegulation.jl\")\n",
    "using .WaterRegulation"
   ]
  },
  {
   "cell_type": "markdown",
   "metadata": {},
   "source": [
    "### Example of Water Regulation \n",
    "\n",
    "In this notebook we exemplify the day-to-day activities of the water regulation company.  \n",
    "For that we generate 1-2 simple reservoir systems, in which power producers nominate for discharge at different reservoirs.  \n",
    "Concepts such as the adjusted flow, power swap, reduction through spillage should be readily apparent after working through the examples.  \n",
    "We also visualize what happens if we change our nomination: When does spillage happen, how does the adjusted flow change, how does it affect the power swap, how does it affect the amount of power we can produce?  \n",
    "Something else to consider is how we can calculate the reference flow. Maybe do this in this file, or in another file where we work more closely with the real water data."
   ]
  },
  {
   "cell_type": "code",
   "execution_count": 3,
   "metadata": {},
   "outputs": [
    {
     "name": "stdout",
     "output_type": "stream",
     "text": [
      "Participation rate Sydkraft: \n",
      " ________________________________\n",
      "Flasjon  | 1.84    \n",
      "Holsmjon | 0.0     \n",
      "\n",
      "Participation rate Other: \n",
      " ________________________________\n",
      "Flasjon  | 2.68    \n",
      "Holsmjon | 2.68    \n"
     ]
    },
    {
     "name": "stdout",
     "output_type": "stream",
     "text": [
      "\n",
      "K_O : HydropowerPlant[Parteboda, Hermansboda, Ljunga, Nederede, Skallbole, Matfors, Viforsen, Jarnvagsforsen] and spillage 1.4,\n",
      "K_j : HydropowerPlant[Flasjo, Trangfors, Ratan, Turinge, Bursnas] and spillage 0.58\n"
     ]
    }
   ],
   "source": [
    "filepath_Ljungan = pwd() * \"\\\\Water_Regulation\\\\TestDataWaterRegulation\\\\Ljungan.json\"\n",
    "filepath_prices = pwd() *  \"\\\\Data\\\\Spot Prices\\\\prices_df.csv\"\n",
    "filepath_results = pwd() * \"\\\\Results\\\\LambdaZero\\\\\"\n",
    "R, K, J = read_data(filepath_Ljungan)\n",
    "print() \n",
    "\n",
    "j = J[1]\n",
    "K_j = j.plants\n",
    "O, K_O = OtherParticipant(J, j, R)\n",
    "pj = j.participationrate\n",
    "pO = O.participationrate\n",
    "\n",
    "\n",
    "println(\"Participation rate $(j.name): \\n \", pj)\n",
    "println(\"Participation rate $(O.name): \\n \", pO)\n",
    "println(\"K_O : $(K_O) and spillage $(K_O[1].spillreference),\\nK_j : $(K_j) and spillage $(K_j[1].spillreference)\")"
   ]
  },
  {
   "cell_type": "code",
   "execution_count": 4,
   "metadata": {},
   "outputs": [
    {
     "name": "stdout",
     "output_type": "stream",
     "text": [
      "The reservoir system is made up of the following components: \n",
      " ______________________________________________________\n"
     ]
    },
    {
     "name": "stdout",
     "output_type": "stream",
     "text": [
      "Reservoirs: "
     ]
    },
    {
     "name": "stdout",
     "output_type": "stream",
     "text": [
      "[\"A\"]\n",
      "The reservoir A has a maximum capacity of 9000.0."
     ]
    },
    {
     "name": "stdout",
     "output_type": "stream",
     "text": [
      "\n",
      "Power Plants: [\"Kraftwerk1\", \""
     ]
    },
    {
     "name": "stdout",
     "output_type": "stream",
     "text": [
      "Kraftwerk2\", \"Kraftwerk3\"]\n",
      "The power plants have the following production capacities until there is spillage: \n",
      "Kraftwerk1 has spillage upper bound of 1.0. Additionally, the equivalent is 0.4, thus the maximum power is 0.4\n"
     ]
    },
    {
     "name": "stdout",
     "output_type": "stream",
     "text": [
      "Kraftwerk2 has spillage upper bound of 1.2. Additionally, the equivalent is 0.7, thus the maximum power is 0.84\n",
      "Kraftwerk3 has spillage upper bound of 1.3. Additionally, the equivalent is 0.3, thus the maximum power is 0.39\n",
      "Participants: "
     ]
    },
    {
     "name": "stdout",
     "output_type": "stream",
     "text": [
      "[\"EON\", \"RWE\", \"Statkraft\"]\n",
      "The Participants are owners of the following power plants: "
     ]
    },
    {
     "name": "stdout",
     "output_type": "stream",
     "text": [
      "\n",
      "EON is owner of [\"Kraftwerk1\"]. Because of this ownership the participationrate becomes \n",
      " ________________________________\n",
      "A        | 0.4     \n",
      "\n",
      "RWE is owner of [\"Kraftwerk2\"]. Because of this ownership the participationrate becomes \n",
      " ________________________________\n",
      "A        | 0.7     \n",
      "\n",
      "Statkraft is owner of [\"Kraftwerk3\"]. Because of this ownership the participationrate becomes \n",
      " ________________________________\n",
      "A        | 0.3     \n",
      "\n"
     ]
    }
   ],
   "source": [
    "filepath_Simple = pwd() * \"\\\\Water_Regulation\\\\TestDataWaterRegulation\\\\SimpleReservoirSystem.json\"\n",
    "R1, K1, J1 = read_data(filepath_Simple)\n",
    "\n",
    "println(\"The reservoir system is made up of the following components: \\n ______________________________________________________\")\n",
    "println(\"Reservoirs: \", [r.dischargepoint for r in R1])\n",
    "for r in R1\n",
    "    println(\"The reservoir $(r.dischargepoint) has a maximum capacity of $(r.maxvolume).\")\n",
    "end\n",
    "println(\"Power Plants: \", [k.name for k in K1])\n",
    "println(\"The power plants have the following production capacities until there is spillage: \")\n",
    "for k in K1\n",
    "    println(\"$(k.name) has spillage upper bound of $(k.spillreference). Additionally, the equivalent is $(k.equivalent), thus the maximum power is $(k.equivalent * k.spillreference)\")\n",
    "end\n",
    "println(\"Participants: \", [p.name for p in J1])\n",
    "println(\"The Participants are owners of the following power plants: \")\n",
    "for j in J1\n",
    "    println(\"$(j.name) is owner of $([k.name for k in j.plants]). Because of this ownership the participationrate becomes \\n $(j.participationrate)\")\n",
    "end"
   ]
  },
  {
   "cell_type": "markdown",
   "metadata": {},
   "source": [
    "We assume prices are high and and all producers want to produce at maximum capacity."
   ]
  },
  {
   "cell_type": "code",
   "execution_count": 19,
   "metadata": {},
   "outputs": [
    {
     "name": "stdout",
     "output_type": "stream",
     "text": [
      "The Nominations are as following: Dict{NamedTuple{(:participant, :reservoir), Tuple{Participant, Reservoir}}, Float64}((participant = RWE, reservoir = A) => 1.2, (participant = EON, reservoir = A) => 1.0, (participant = Statkraft, reservoir = A) => 1.3)\n",
      "The adjusted flow is: ________________________________\n",
      "A        | 1.1642857142857141\n",
      "\n"
     ]
    },
    {
     "data": {
      "text/plain": [
       "Nomination_Variation (generic function with 2 methods)"
      ]
     },
     "metadata": {},
     "output_type": "display_data"
    }
   ],
   "source": [
    "Nomination = Dict{NamedTuple{(:participant, :reservoir), Tuple{Participant, Reservoir}}, Float64}((participant = j, reservoir = r) => 0.0 for j in J1 for r in R1)\n",
    "Nomination[(participant = J1[1], reservoir = R1[1])] = 1.0\n",
    "Nomination[(participant = J1[2], reservoir = R1[1])] = 0.6\n",
    "Nomination[(participant = J1[3], reservoir = R1[1])] = 0.8\n",
    "Qref = Dict{Reservoir, Float64}(r => 0.8 for r in R1)\n",
    "T = 24\n",
    "\n",
    "Qadj, QadjTot, P_Swap, POver, ΣPOver, MaxEnergy = water_regulation(Nomination, Qref, T);\n",
    "println(\"The Nominations are as following: \", Nomination)\n",
    "println(\"The adjusted flow is: \", Qadj)\n",
    "\n",
    "function Nomination_Variation(j::Participant, r::Reservoir, Noms::Dict{NamedTuple{(:participant, :reservoir), Tuple{Participant, Reservoir}}, Float64}, NomRange, Qref::Dict{Reservoir, Float64}; T = 24)\n",
    "    Qadjs::Vector{Float64} = []\n",
    "    P_Swaps::Vector{Float64} = []\n",
    "    for nom in NomRange\n",
    "        Noms[(participant = j, reservoir = r)] = nom\n",
    "        Qadj_loc, _,P_Swap_loc,_,_,_ = water_regulation(Noms, Qref, T);\n",
    "        println(\"The adjusted flow is: \", Qadj_loc[r])\n",
    "        println(\"The Power Swap bacomes: \", P_Swap_loc[j][r])\n",
    "        push!(Qadjs, Qadj_loc[r])\n",
    "        push!(P_Swaps, P_Swap_loc[j][r])\n",
    "    end\n",
    "    return Qadjs, P_Swaps\n",
    "end"
   ]
  },
  {
   "cell_type": "markdown",
   "metadata": {},
   "source": [
    "### Visualize the adjusted Flow and Nominations\n",
    "\n",
    "What if keep the nomination fixed for two of the producers, and change one nomination?  \n",
    "* How does the adjusted flow change?\n",
    "* How does the Power Swap change? When is the overnomination a limiting factor?\n",
    "* How does this change for the different producers?"
   ]
  },
  {
   "cell_type": "code",
   "execution_count": 20,
   "metadata": {},
   "outputs": [
    {
     "name": "stdout",
     "output_type": "stream",
     "text": [
      "The adjusted flow is: 0.8785714285714284\n"
     ]
    },
    {
     "name": "stdout",
     "output_type": "stream",
     "text": [
      "The Power Swap bacomes: -0.3514285714285714\n",
      "The adjusted flow is: 0.907142857142857\n",
      "The Power Swap bacomes: -0.32285714285714284\n",
      "The adjusted flow is: 0.9357142857142856\n",
      "The Power Swap bacomes: -0.2942857142857142\n",
      "The adjusted flow is: 0.9642857142857143\n",
      "The Power Swap bacomes: -0.26571428571428574\n",
      "The adjusted flow is: 0.9928571428571429\n",
      "The Power Swap bacomes: -0.23714285714285716\n",
      "The adjusted flow is: 1.0214285714285714\n",
      "The Power Swap bacomes: -0.2\n",
      "The adjusted flow is: 1.05\n",
      "The Power Swap bacomes: -0.16000000000000003\n",
      "The adjusted flow is: 1.0785714285714283"
     ]
    },
    {
     "name": "stdout",
     "output_type": "stream",
     "text": [
      "\n",
      "The Power Swap bacomes: -0.12000000000000004\n",
      "The adjusted flow is: 1.1071428571428572\n",
      "The Power Swap bacomes: -0.07999999999999999\n",
      "The adjusted flow is: 1.1357142857142855\n",
      "The Power Swap bacomes: -0.039999999999999994\n",
      "The adjusted flow is: 1.1642857142857141\n",
      "The Power Swap bacomes: 0.0\n",
      "The adjusted flow is: 1.1928571428571426\n",
      "The Power Swap bacomes: 1.0408340855860843e-16\n",
      "The adjusted flow is: 1.2214285714285713\n",
      "The Power Swap bacomes: 3.8163916471489756e-17\n",
      "The adjusted flow is: 1.2499999999999998\n",
      "The Power Swap bacomes: 1.8041124150158794e-16\n",
      "The adjusted flow is: 1.2785714285714285\n",
      "The Power Swap bacomes: 0.008571428571428626\n",
      "The adjusted flow is: 1.3071428571428572\n",
      "The Power Swap bacomes: 0.015\n",
      "The adjusted flow is: 1.3357142857142856\n",
      "The Power Swap bacomes: 0.015000000000000138\n",
      "The adjusted flow is: 1.3642857142857143\n",
      "The Power Swap bacomes: 0.015\n",
      "The adjusted flow is: 1.3928571428571428\n",
      "The Power Swap bacomes: 0.015000000000000124\n",
      "The adjusted flow is: 1.4214285714285715\n",
      "The Power Swap bacomes: 0.014999999999999986\n",
      "The adjusted flow is: 1.45\n",
      "The Power Swap bacomes: 0.015000000000000069"
     ]
    },
    {
     "name": "stdout",
     "output_type": "stream",
     "text": [
      "\n"
     ]
    },
    {
     "data": {
      "image/png": "[encoded data removed]",
      "image/svg+xml": [
       "<?xml version=\"1.0\" encoding=\"utf-8\"?>\n",
       "<svg xmlns=\"http://www.w3.org/2000/svg\" xmlns:xlink=\"http://www.w3.org/1999/xlink\" width=\"600\" height=\"400\" viewBox=\"0 0 2400 1600\">\n",
       "<defs>\n",
       "  <clipPath id=\"clip970\">\n",
       "    <rect x=\"0\" y=\"0\" width=\"2400\" height=\"1600\"/>\n",
       "  </clipPath>\n",
       "</defs>\n",
       "<path clip-path=\"url(#clip970)\" d=\"M0 1600 L2400 1600 L2400 0 L0 0  Z\" fill=\"#ffffff\" fill-rule=\"evenodd\" fill-opacity=\"1\"/>\n",
       "<defs>\n",
       "  <clipPath id=\"clip971\">\n",
       "    <rect x=\"480\" y=\"0\" width=\"1681\" height=\"1600\"/>\n",
       "  </clipPath>\n",
       "</defs>\n",
       "<path clip-path=\"url(#clip970)\" d=\"M193.288 1486.45 L2352.76 1486.45 L2352.76 47.2441 L193.288 47.2441  Z\" fill=\"#ffffff\" fill-rule=\"evenodd\" fill-opacity=\"1\"/>\n",
       "<defs>\n",
       "  <clipPath id=\"clip972\">\n",
       "    <rect x=\"193\" y=\"47\" width=\"2160\" height=\"1440\"/>\n",
       "  </clipPath>\n",
       "</defs>\n",
       "<polyline clip-path=\"url(#clip972)\" style=\"stroke:#000000; stroke-linecap:round; stroke-linejoin:round; stroke-width:2; stroke-opacity:0.1; fill:none\" points=\"254.405,1486.45 254.405,47.2441 \"/>\n",
       "<polyline clip-path=\"url(#clip972)\" style=\"stroke:#000000; stroke-linecap:round; stroke-linejoin:round; stroke-width:2; stroke-opacity:0.1; fill:none\" points=\"763.713,1486.45 763.713,47.2441 \"/>\n",
       "<polyline clip-path=\"url(#clip972)\" style=\"stroke:#000000; stroke-linecap:round; stroke-linejoin:round; stroke-width:2; stroke-opacity:0.1; fill:none\" points=\"1273.02,1486.45 1273.02,47.2441 \"/>\n",
       "<polyline clip-path=\"url(#clip972)\" style=\"stroke:#000000; stroke-linecap:round; stroke-linejoin:round; stroke-width:2; stroke-opacity:0.1; fill:none\" points=\"1782.33,1486.45 1782.33,47.2441 \"/>\n",
       "<polyline clip-path=\"url(#clip972)\" style=\"stroke:#000000; stroke-linecap:round; stroke-linejoin:round; stroke-width:2; stroke-opacity:0.1; fill:none\" points=\"2291.64,1486.45 2291.64,47.2441 \"/>\n",
       "<polyline clip-path=\"url(#clip970)\" style=\"stroke:#000000; stroke-linecap:round; stroke-linejoin:round; stroke-width:4; stroke-opacity:1; fill:none\" points=\"193.288,1486.45 2352.76,1486.45 \"/>\n",
       "<polyline clip-path=\"url(#clip970)\" style=\"stroke:#000000; stroke-linecap:round; stroke-linejoin:round; stroke-width:4; stroke-opacity:1; fill:none\" points=\"254.405,1486.45 254.405,1467.55 \"/>\n",
       "<polyline clip-path=\"url(#clip970)\" style=\"stroke:#000000; stroke-linecap:round; stroke-linejoin:round; stroke-width:4; stroke-opacity:1; fill:none\" points=\"763.713,1486.45 763.713,1467.55 \"/>\n",
       "<polyline clip-path=\"url(#clip970)\" style=\"stroke:#000000; stroke-linecap:round; stroke-linejoin:round; stroke-width:4; stroke-opacity:1; fill:none\" points=\"1273.02,1486.45 1273.02,1467.55 \"/>\n",
       "<polyline clip-path=\"url(#clip970)\" style=\"stroke:#000000; stroke-linecap:round; stroke-linejoin:round; stroke-width:4; stroke-opacity:1; fill:none\" points=\"1782.33,1486.45 1782.33,1467.55 \"/>\n",
       "<polyline clip-path=\"url(#clip970)\" style=\"stroke:#000000; stroke-linecap:round; stroke-linejoin:round; stroke-width:4; stroke-opacity:1; fill:none\" points=\"2291.64,1486.45 2291.64,1467.55 \"/>\n",
       "<path clip-path=\"url(#clip970)\" d=\"M231.789 1517.37 Q228.178 1517.37 226.349 1520.93 Q224.544 1524.47 224.544 1531.6 Q224.544 1538.71 226.349 1542.27 Q228.178 1545.82 231.789 1545.82 Q235.423 1545.82 237.229 1542.27 Q239.058 1538.71 239.058 1531.6 Q239.058 1524.47 237.229 1520.93 Q235.423 1517.37 231.789 1517.37 M231.789 1513.66 Q237.599 1513.66 240.655 1518.27 Q243.734 1522.85 243.734 1531.6 Q243.734 1540.33 240.655 1544.94 Q237.599 1549.52 231.789 1549.52 Q225.979 1549.52 222.9 1544.94 Q219.845 1540.33 219.845 1531.6 Q219.845 1522.85 222.9 1518.27 Q225.979 1513.66 231.789 1513.66 Z\" fill=\"#000000\" fill-rule=\"nonzero\" fill-opacity=\"1\" /><path clip-path=\"url(#clip970)\" d=\"M251.951 1542.97 L256.835 1542.97 L256.835 1548.85 L251.951 1548.85 L251.951 1542.97 Z\" fill=\"#000000\" fill-rule=\"nonzero\" fill-opacity=\"1\" /><path clip-path=\"url(#clip970)\" d=\"M277.02 1517.37 Q273.409 1517.37 271.581 1520.93 Q269.775 1524.47 269.775 1531.6 Q269.775 1538.71 271.581 1542.27 Q273.409 1545.82 277.02 1545.82 Q280.655 1545.82 282.46 1542.27 Q284.289 1538.71 284.289 1531.6 Q284.289 1524.47 282.46 1520.93 Q280.655 1517.37 277.02 1517.37 M277.02 1513.66 Q282.831 1513.66 285.886 1518.27 Q288.965 1522.85 288.965 1531.6 Q288.965 1540.33 285.886 1544.94 Q282.831 1549.52 277.02 1549.52 Q271.21 1549.52 268.132 1544.94 Q265.076 1540.33 265.076 1531.6 Q265.076 1522.85 268.132 1518.27 Q271.21 1513.66 277.02 1513.66 Z\" fill=\"#000000\" fill-rule=\"nonzero\" fill-opacity=\"1\" /><path clip-path=\"url(#clip970)\" d=\"M741.595 1517.37 Q737.984 1517.37 736.156 1520.93 Q734.35 1524.47 734.35 1531.6 Q734.35 1538.71 736.156 1542.27 Q737.984 1545.82 741.595 1545.82 Q745.23 1545.82 747.035 1542.27 Q748.864 1538.71 748.864 1531.6 Q748.864 1524.47 747.035 1520.93 Q745.23 1517.37 741.595 1517.37 M741.595 1513.66 Q747.406 1513.66 750.461 1518.27 Q753.54 1522.85 753.54 1531.6 Q753.54 1540.33 750.461 1544.94 Q747.406 1549.52 741.595 1549.52 Q735.785 1549.52 732.707 1544.94 Q729.651 1540.33 729.651 1531.6 Q729.651 1522.85 732.707 1518.27 Q735.785 1513.66 741.595 1513.66 Z\" fill=\"#000000\" fill-rule=\"nonzero\" fill-opacity=\"1\" /><path clip-path=\"url(#clip970)\" d=\"M761.757 1542.97 L766.642 1542.97 L766.642 1548.85 L761.757 1548.85 L761.757 1542.97 Z\" fill=\"#000000\" fill-rule=\"nonzero\" fill-opacity=\"1\" /><path clip-path=\"url(#clip970)\" d=\"M776.873 1514.29 L795.229 1514.29 L795.229 1518.22 L781.155 1518.22 L781.155 1526.7 Q782.174 1526.35 783.192 1526.19 Q784.211 1526 785.229 1526 Q791.016 1526 794.396 1529.17 Q797.776 1532.34 797.776 1537.76 Q797.776 1543.34 794.303 1546.44 Q790.831 1549.52 784.512 1549.52 Q782.336 1549.52 780.067 1549.15 Q777.822 1548.78 775.415 1548.04 L775.415 1543.34 Q777.498 1544.47 779.72 1545.03 Q781.942 1545.58 784.419 1545.58 Q788.424 1545.58 790.762 1543.48 Q793.1 1541.37 793.1 1537.76 Q793.1 1534.15 790.762 1532.04 Q788.424 1529.94 784.419 1529.94 Q782.544 1529.94 780.669 1530.35 Q778.817 1530.77 776.873 1531.65 L776.873 1514.29 Z\" fill=\"#000000\" fill-rule=\"nonzero\" fill-opacity=\"1\" /><path clip-path=\"url(#clip970)\" d=\"M1240.17 1544.91 L1247.81 1544.91 L1247.81 1518.55 L1239.5 1520.21 L1239.5 1515.95 L1247.77 1514.29 L1252.44 1514.29 L1252.44 1544.91 L1260.08 1544.91 L1260.08 1548.85 L1240.17 1548.85 L1240.17 1544.91 Z\" fill=\"#000000\" fill-rule=\"nonzero\" fill-opacity=\"1\" /><path clip-path=\"url(#clip970)\" d=\"M1269.53 1542.97 L1274.41 1542.97 L1274.41 1548.85 L1269.53 1548.85 L1269.53 1542.97 Z\" fill=\"#000000\" fill-rule=\"nonzero\" fill-opacity=\"1\" /><path clip-path=\"url(#clip970)\" d=\"M1294.6 1517.37 Q1290.98 1517.37 1289.16 1520.93 Q1287.35 1524.47 1287.35 1531.6 Q1287.35 1538.71 1289.16 1542.27 Q1290.98 1545.82 1294.6 1545.82 Q1298.23 1545.82 1300.04 1542.27 Q1301.86 1538.71 1301.86 1531.6 Q1301.86 1524.47 1300.04 1520.93 Q1298.23 1517.37 1294.6 1517.37 M1294.6 1513.66 Q1300.41 1513.66 1303.46 1518.27 Q1306.54 1522.85 1306.54 1531.6 Q1306.54 1540.33 1303.46 1544.94 Q1300.41 1549.52 1294.6 1549.52 Q1288.79 1549.52 1285.71 1544.94 Q1282.65 1540.33 1282.65 1531.6 Q1282.65 1522.85 1285.71 1518.27 Q1288.79 1513.66 1294.6 1513.66 Z\" fill=\"#000000\" fill-rule=\"nonzero\" fill-opacity=\"1\" /><path clip-path=\"url(#clip970)\" d=\"M1749.98 1544.91 L1757.62 1544.91 L1757.62 1518.55 L1749.31 1520.21 L1749.31 1515.95 L1757.57 1514.29 L1762.25 1514.29 L1762.25 1544.91 L1769.89 1544.91 L1769.89 1548.85 L1749.98 1548.85 L1749.98 1544.91 Z\" fill=\"#000000\" fill-rule=\"nonzero\" fill-opacity=\"1\" /><path clip-path=\"url(#clip970)\" d=\"M1779.33 1542.97 L1784.22 1542.97 L1784.22 1548.85 L1779.33 1548.85 L1779.33 1542.97 Z\" fill=\"#000000\" fill-rule=\"nonzero\" fill-opacity=\"1\" /><path clip-path=\"url(#clip970)\" d=\"M1794.45 1514.29 L1812.8 1514.29 L1812.8 1518.22 L1798.73 1518.22 L1798.73 1526.7 Q1799.75 1526.35 1800.77 1526.19 Q1801.79 1526 1802.8 1526 Q1808.59 1526 1811.97 1529.17 Q1815.35 1532.34 1815.35 1537.76 Q1815.35 1543.34 1811.88 1546.44 Q1808.41 1549.52 1802.09 1549.52 Q1799.91 1549.52 1797.64 1549.15 Q1795.4 1548.78 1792.99 1548.04 L1792.99 1543.34 Q1795.07 1544.47 1797.3 1545.03 Q1799.52 1545.58 1801.99 1545.58 Q1806 1545.58 1808.34 1543.48 Q1810.68 1541.37 1810.68 1537.76 Q1810.68 1534.15 1808.34 1532.04 Q1806 1529.94 1801.99 1529.94 Q1800.12 1529.94 1798.24 1530.35 Q1796.39 1530.77 1794.45 1531.65 L1794.45 1514.29 Z\" fill=\"#000000\" fill-rule=\"nonzero\" fill-opacity=\"1\" /><path clip-path=\"url(#clip970)\" d=\"M2262.88 1544.91 L2279.2 1544.91 L2279.2 1548.85 L2257.25 1548.85 L2257.25 1544.91 Q2259.91 1542.16 2264.5 1537.53 Q2269.1 1532.88 2270.28 1531.53 Q2272.53 1529.01 2273.41 1527.27 Q2274.31 1525.51 2274.31 1523.82 Q2274.31 1521.07 2272.37 1519.33 Q2270.45 1517.6 2267.35 1517.6 Q2265.15 1517.6 2262.69 1518.36 Q2260.26 1519.13 2257.48 1520.68 L2257.48 1515.95 Q2260.31 1514.82 2262.76 1514.24 Q2265.22 1513.66 2267.25 1513.66 Q2272.62 1513.66 2275.82 1516.35 Q2279.01 1519.03 2279.01 1523.52 Q2279.01 1525.65 2278.2 1527.57 Q2277.41 1529.47 2275.31 1532.07 Q2274.73 1532.74 2271.63 1535.95 Q2268.53 1539.15 2262.88 1544.91 Z\" fill=\"#000000\" fill-rule=\"nonzero\" fill-opacity=\"1\" /><path clip-path=\"url(#clip970)\" d=\"M2289.01 1542.97 L2293.9 1542.97 L2293.9 1548.85 L2289.01 1548.85 L2289.01 1542.97 Z\" fill=\"#000000\" fill-rule=\"nonzero\" fill-opacity=\"1\" /><path clip-path=\"url(#clip970)\" d=\"M2314.08 1517.37 Q2310.47 1517.37 2308.64 1520.93 Q2306.84 1524.47 2306.84 1531.6 Q2306.84 1538.71 2308.64 1542.27 Q2310.47 1545.82 2314.08 1545.82 Q2317.72 1545.82 2319.52 1542.27 Q2321.35 1538.71 2321.35 1531.6 Q2321.35 1524.47 2319.52 1520.93 Q2317.72 1517.37 2314.08 1517.37 M2314.08 1513.66 Q2319.89 1513.66 2322.95 1518.27 Q2326.03 1522.85 2326.03 1531.6 Q2326.03 1540.33 2322.95 1544.94 Q2319.89 1549.52 2314.08 1549.52 Q2308.27 1549.52 2305.19 1544.94 Q2302.14 1540.33 2302.14 1531.6 Q2302.14 1522.85 2305.19 1518.27 Q2308.27 1513.66 2314.08 1513.66 Z\" fill=\"#000000\" fill-rule=\"nonzero\" fill-opacity=\"1\" /><polyline clip-path=\"url(#clip972)\" style=\"stroke:#000000; stroke-linecap:round; stroke-linejoin:round; stroke-width:2; stroke-opacity:0.1; fill:none\" points=\"193.288,1255.16 2352.76,1255.16 \"/>\n",
       "<polyline clip-path=\"url(#clip972)\" style=\"stroke:#000000; stroke-linecap:round; stroke-linejoin:round; stroke-width:2; stroke-opacity:0.1; fill:none\" points=\"193.288,884.623 2352.76,884.623 \"/>\n",
       "<polyline clip-path=\"url(#clip972)\" style=\"stroke:#000000; stroke-linecap:round; stroke-linejoin:round; stroke-width:2; stroke-opacity:0.1; fill:none\" points=\"193.288,514.089 2352.76,514.089 \"/>\n",
       "<polyline clip-path=\"url(#clip972)\" style=\"stroke:#000000; stroke-linecap:round; stroke-linejoin:round; stroke-width:2; stroke-opacity:0.1; fill:none\" points=\"193.288,143.556 2352.76,143.556 \"/>\n",
       "<polyline clip-path=\"url(#clip970)\" style=\"stroke:#000000; stroke-linecap:round; stroke-linejoin:round; stroke-width:4; stroke-opacity:1; fill:none\" points=\"193.288,1486.45 193.288,47.2441 \"/>\n",
       "<polyline clip-path=\"url(#clip970)\" style=\"stroke:#000000; stroke-linecap:round; stroke-linejoin:round; stroke-width:4; stroke-opacity:1; fill:none\" points=\"193.288,1255.16 212.185,1255.16 \"/>\n",
       "<polyline clip-path=\"url(#clip970)\" style=\"stroke:#000000; stroke-linecap:round; stroke-linejoin:round; stroke-width:4; stroke-opacity:1; fill:none\" points=\"193.288,884.623 212.185,884.623 \"/>\n",
       "<polyline clip-path=\"url(#clip970)\" style=\"stroke:#000000; stroke-linecap:round; stroke-linejoin:round; stroke-width:4; stroke-opacity:1; fill:none\" points=\"193.288,514.089 212.185,514.089 \"/>\n",
       "<polyline clip-path=\"url(#clip970)\" style=\"stroke:#000000; stroke-linecap:round; stroke-linejoin:round; stroke-width:4; stroke-opacity:1; fill:none\" points=\"193.288,143.556 212.185,143.556 \"/>\n",
       "<path clip-path=\"url(#clip970)\" d=\"M50.9921 1255.61 L80.6679 1255.61 L80.6679 1259.54 L50.9921 1259.54 L50.9921 1255.61 Z\" fill=\"#000000\" fill-rule=\"nonzero\" fill-opacity=\"1\" /><path clip-path=\"url(#clip970)\" d=\"M100.76 1240.95 Q97.1493 1240.95 95.3206 1244.52 Q93.515 1248.06 93.515 1255.19 Q93.515 1262.3 95.3206 1265.86 Q97.1493 1269.4 100.76 1269.4 Q104.395 1269.4 106.2 1265.86 Q108.029 1262.3 108.029 1255.19 Q108.029 1248.06 106.2 1244.52 Q104.395 1240.95 100.76 1240.95 M100.76 1237.25 Q106.571 1237.25 109.626 1241.86 Q112.705 1246.44 112.705 1255.19 Q112.705 1263.92 109.626 1268.52 Q106.571 1273.11 100.76 1273.11 Q94.9502 1273.11 91.8715 1268.52 Q88.816 1263.92 88.816 1255.19 Q88.816 1246.44 91.8715 1241.86 Q94.9502 1237.25 100.76 1237.25 Z\" fill=\"#000000\" fill-rule=\"nonzero\" fill-opacity=\"1\" /><path clip-path=\"url(#clip970)\" d=\"M120.922 1266.56 L125.807 1266.56 L125.807 1272.44 L120.922 1272.44 L120.922 1266.56 Z\" fill=\"#000000\" fill-rule=\"nonzero\" fill-opacity=\"1\" /><path clip-path=\"url(#clip970)\" d=\"M150.158 1253.8 Q153.515 1254.52 155.39 1256.79 Q157.288 1259.06 157.288 1262.39 Q157.288 1267.51 153.769 1270.31 Q150.251 1273.11 143.769 1273.11 Q141.593 1273.11 139.279 1272.67 Q136.987 1272.25 134.533 1271.39 L134.533 1266.88 Q136.478 1268.01 138.793 1268.59 Q141.107 1269.17 143.631 1269.17 Q148.029 1269.17 150.32 1267.44 Q152.635 1265.7 152.635 1262.39 Q152.635 1259.33 150.482 1257.62 Q148.353 1255.88 144.533 1255.88 L140.506 1255.88 L140.506 1252.04 L144.718 1252.04 Q148.168 1252.04 149.996 1250.68 Q151.825 1249.29 151.825 1246.7 Q151.825 1244.03 149.927 1242.62 Q148.052 1241.19 144.533 1241.19 Q142.612 1241.19 140.413 1241.6 Q138.214 1242.02 135.575 1242.9 L135.575 1238.73 Q138.237 1237.99 140.552 1237.62 Q142.89 1237.25 144.95 1237.25 Q150.274 1237.25 153.376 1239.68 Q156.478 1242.09 156.478 1246.21 Q156.478 1249.08 154.834 1251.07 Q153.191 1253.04 150.158 1253.8 Z\" fill=\"#000000\" fill-rule=\"nonzero\" fill-opacity=\"1\" /><path clip-path=\"url(#clip970)\" d=\"M51.9412 885.074 L81.617 885.074 L81.617 889.009 L51.9412 889.009 L51.9412 885.074 Z\" fill=\"#000000\" fill-rule=\"nonzero\" fill-opacity=\"1\" /><path clip-path=\"url(#clip970)\" d=\"M101.709 870.421 Q98.0984 870.421 96.2697 873.986 Q94.4641 877.528 94.4641 884.657 Q94.4641 891.764 96.2697 895.329 Q98.0984 898.87 101.709 898.87 Q105.344 898.87 107.149 895.329 Q108.978 891.764 108.978 884.657 Q108.978 877.528 107.149 873.986 Q105.344 870.421 101.709 870.421 M101.709 866.718 Q107.52 866.718 110.575 871.324 Q113.654 875.907 113.654 884.657 Q113.654 893.384 110.575 897.991 Q107.52 902.574 101.709 902.574 Q95.8993 902.574 92.8206 897.991 Q89.7651 893.384 89.7651 884.657 Q89.7651 875.907 92.8206 871.324 Q95.8993 866.718 101.709 866.718 Z\" fill=\"#000000\" fill-rule=\"nonzero\" fill-opacity=\"1\" /><path clip-path=\"url(#clip970)\" d=\"M121.871 896.023 L126.756 896.023 L126.756 901.903 L121.871 901.903 L121.871 896.023 Z\" fill=\"#000000\" fill-rule=\"nonzero\" fill-opacity=\"1\" /><path clip-path=\"url(#clip970)\" d=\"M140.968 897.967 L157.288 897.967 L157.288 901.903 L135.344 901.903 L135.344 897.967 Q138.006 895.213 142.589 890.583 Q147.195 885.93 148.376 884.588 Q150.621 882.065 151.501 880.329 Q152.404 878.569 152.404 876.88 Q152.404 874.125 150.459 872.389 Q148.538 870.653 145.436 870.653 Q143.237 870.653 140.783 871.417 Q138.353 872.181 135.575 873.731 L135.575 869.009 Q138.399 867.875 140.853 867.296 Q143.306 866.718 145.343 866.718 Q150.714 866.718 153.908 869.403 Q157.103 872.088 157.103 876.579 Q157.103 878.708 156.292 880.63 Q155.505 882.528 153.399 885.12 Q152.82 885.792 149.718 889.009 Q146.617 892.204 140.968 897.967 Z\" fill=\"#000000\" fill-rule=\"nonzero\" fill-opacity=\"1\" /><path clip-path=\"url(#clip970)\" d=\"M51.5708 514.541 L81.2466 514.541 L81.2466 518.476 L51.5708 518.476 L51.5708 514.541 Z\" fill=\"#000000\" fill-rule=\"nonzero\" fill-opacity=\"1\" /><path clip-path=\"url(#clip970)\" d=\"M101.339 499.888 Q97.728 499.888 95.8993 503.453 Q94.0937 506.995 94.0937 514.124 Q94.0937 521.231 95.8993 524.795 Q97.728 528.337 101.339 528.337 Q104.973 528.337 106.779 524.795 Q108.608 521.231 108.608 514.124 Q108.608 506.995 106.779 503.453 Q104.973 499.888 101.339 499.888 M101.339 496.184 Q107.149 496.184 110.205 500.791 Q113.283 505.374 113.283 514.124 Q113.283 522.851 110.205 527.457 Q107.149 532.041 101.339 532.041 Q95.5289 532.041 92.4502 527.457 Q89.3947 522.851 89.3947 514.124 Q89.3947 505.374 92.4502 500.791 Q95.5289 496.184 101.339 496.184 Z\" fill=\"#000000\" fill-rule=\"nonzero\" fill-opacity=\"1\" /><path clip-path=\"url(#clip970)\" d=\"M121.501 525.49 L126.385 525.49 L126.385 531.369 L121.501 531.369 L121.501 525.49 Z\" fill=\"#000000\" fill-rule=\"nonzero\" fill-opacity=\"1\" /><path clip-path=\"url(#clip970)\" d=\"M137.381 527.434 L145.019 527.434 L145.019 501.069 L136.709 502.735 L136.709 498.476 L144.973 496.809 L149.649 496.809 L149.649 527.434 L157.288 527.434 L157.288 531.369 L137.381 531.369 L137.381 527.434 Z\" fill=\"#000000\" fill-rule=\"nonzero\" fill-opacity=\"1\" /><path clip-path=\"url(#clip970)\" d=\"M100.112 129.355 Q96.5011 129.355 94.6724 132.92 Q92.8669 136.461 92.8669 143.591 Q92.8669 150.697 94.6724 154.262 Q96.5011 157.804 100.112 157.804 Q103.746 157.804 105.552 154.262 Q107.381 150.697 107.381 143.591 Q107.381 136.461 105.552 132.92 Q103.746 129.355 100.112 129.355 M100.112 125.651 Q105.922 125.651 108.978 130.258 Q112.057 134.841 112.057 143.591 Q112.057 152.318 108.978 156.924 Q105.922 161.508 100.112 161.508 Q94.3021 161.508 91.2234 156.924 Q88.1679 152.318 88.1679 143.591 Q88.1679 134.841 91.2234 130.258 Q94.3021 125.651 100.112 125.651 Z\" fill=\"#000000\" fill-rule=\"nonzero\" fill-opacity=\"1\" /><path clip-path=\"url(#clip970)\" d=\"M120.274 154.957 L125.158 154.957 L125.158 160.836 L120.274 160.836 L120.274 154.957 Z\" fill=\"#000000\" fill-rule=\"nonzero\" fill-opacity=\"1\" /><path clip-path=\"url(#clip970)\" d=\"M145.343 129.355 Q141.732 129.355 139.904 132.92 Q138.098 136.461 138.098 143.591 Q138.098 150.697 139.904 154.262 Q141.732 157.804 145.343 157.804 Q148.978 157.804 150.783 154.262 Q152.612 150.697 152.612 143.591 Q152.612 136.461 150.783 132.92 Q148.978 129.355 145.343 129.355 M145.343 125.651 Q151.154 125.651 154.209 130.258 Q157.288 134.841 157.288 143.591 Q157.288 152.318 154.209 156.924 Q151.154 161.508 145.343 161.508 Q139.533 161.508 136.455 156.924 Q133.399 152.318 133.399 143.591 Q133.399 134.841 136.455 130.258 Q139.533 125.651 145.343 125.651 Z\" fill=\"#000000\" fill-rule=\"nonzero\" fill-opacity=\"1\" /><polyline clip-path=\"url(#clip972)\" style=\"stroke:#009af9; stroke-linecap:round; stroke-linejoin:round; stroke-width:4; stroke-opacity:1; fill:none\" points=\"254.405,1445.72 356.267,1339.85 458.128,1233.98 559.99,1128.12 661.852,1022.25 763.713,884.623 865.575,736.409 967.437,588.196 1069.3,439.983 1171.16,291.77 1273.02,143.556 1374.88,143.556 1476.75,143.556 1578.61,143.556 1680.47,111.796 1782.33,87.9763 1884.19,87.9763 1986.05,87.9763 2087.92,87.9763 2189.78,87.9763 2291.64,87.9763 \"/>\n",
       "<path clip-path=\"url(#clip970)\" d=\"M265.27 198.898 L533.647 198.898 L533.647 95.2176 L265.27 95.2176  Z\" fill=\"#ffffff\" fill-rule=\"evenodd\" fill-opacity=\"1\"/>\n",
       "<polyline clip-path=\"url(#clip970)\" style=\"stroke:#000000; stroke-linecap:round; stroke-linejoin:round; stroke-width:4; stroke-opacity:1; fill:none\" points=\"265.27,198.898 533.647,198.898 533.647,95.2176 265.27,95.2176 265.27,198.898 \"/>\n",
       "<polyline clip-path=\"url(#clip970)\" style=\"stroke:#009af9; stroke-linecap:round; stroke-linejoin:round; stroke-width:4; stroke-opacity:1; fill:none\" points=\"289.264,147.058 433.229,147.058 \"/>\n",
       "<path clip-path=\"url(#clip970)\" d=\"M471.065 166.745 Q469.26 171.375 467.547 172.787 Q465.834 174.199 462.964 174.199 L459.561 174.199 L459.561 170.634 L462.061 170.634 Q463.82 170.634 464.792 169.8 Q465.764 168.967 466.945 165.865 L467.709 163.921 L457.223 138.412 L461.737 138.412 L469.839 158.689 L477.94 138.412 L482.454 138.412 L471.065 166.745 Z\" fill=\"#000000\" fill-rule=\"nonzero\" fill-opacity=\"1\" /><path clip-path=\"url(#clip970)\" d=\"M489.746 160.402 L497.385 160.402 L497.385 134.037 L489.075 135.703 L489.075 131.444 L497.338 129.778 L502.014 129.778 L502.014 160.402 L509.653 160.402 L509.653 164.338 L489.746 164.338 L489.746 160.402 Z\" fill=\"#000000\" fill-rule=\"nonzero\" fill-opacity=\"1\" /></svg>\n"
      ],
      "text/html": [
       "<?xml version=\"1.0\" encoding=\"utf-8\"?>\n",
       "<svg xmlns=\"http://www.w3.org/2000/svg\" xmlns:xlink=\"http://www.w3.org/1999/xlink\" width=\"600\" height=\"400\" viewBox=\"0 0 2400 1600\">\n",
       "<defs>\n",
       "  <clipPath id=\"clip020\">\n",
       "    <rect x=\"0\" y=\"0\" width=\"2400\" height=\"1600\"/>\n",
       "  </clipPath>\n",
       "</defs>\n",
       "<path clip-path=\"url(#clip020)\" d=\"M0 1600 L2400 1600 L2400 0 L0 0  Z\" fill=\"#ffffff\" fill-rule=\"evenodd\" fill-opacity=\"1\"/>\n",
       "<defs>\n",
       "  <clipPath id=\"clip021\">\n",
       "    <rect x=\"480\" y=\"0\" width=\"1681\" height=\"1600\"/>\n",
       "  </clipPath>\n",
       "</defs>\n",
       "<path clip-path=\"url(#clip020)\" d=\"M193.288 1486.45 L2352.76 1486.45 L2352.76 47.2441 L193.288 47.2441  Z\" fill=\"#ffffff\" fill-rule=\"evenodd\" fill-opacity=\"1\"/>\n",
       "<defs>\n",
       "  <clipPath id=\"clip022\">\n",
       "    <rect x=\"193\" y=\"47\" width=\"2160\" height=\"1440\"/>\n",
       "  </clipPath>\n",
       "</defs>\n",
       "<polyline clip-path=\"url(#clip022)\" style=\"stroke:#000000; stroke-linecap:round; stroke-linejoin:round; stroke-width:2; stroke-opacity:0.1; fill:none\" points=\"254.405,1486.45 254.405,47.2441 \"/>\n",
       "<polyline clip-path=\"url(#clip022)\" style=\"stroke:#000000; stroke-linecap:round; stroke-linejoin:round; stroke-width:2; stroke-opacity:0.1; fill:none\" points=\"763.713,1486.45 763.713,47.2441 \"/>\n",
       "<polyline clip-path=\"url(#clip022)\" style=\"stroke:#000000; stroke-linecap:round; stroke-linejoin:round; stroke-width:2; stroke-opacity:0.1; fill:none\" points=\"1273.02,1486.45 1273.02,47.2441 \"/>\n",
       "<polyline clip-path=\"url(#clip022)\" style=\"stroke:#000000; stroke-linecap:round; stroke-linejoin:round; stroke-width:2; stroke-opacity:0.1; fill:none\" points=\"1782.33,1486.45 1782.33,47.2441 \"/>\n",
       "<polyline clip-path=\"url(#clip022)\" style=\"stroke:#000000; stroke-linecap:round; stroke-linejoin:round; stroke-width:2; stroke-opacity:0.1; fill:none\" points=\"2291.64,1486.45 2291.64,47.2441 \"/>\n",
       "<polyline clip-path=\"url(#clip020)\" style=\"stroke:#000000; stroke-linecap:round; stroke-linejoin:round; stroke-width:4; stroke-opacity:1; fill:none\" points=\"193.288,1486.45 2352.76,1486.45 \"/>\n",
       "<polyline clip-path=\"url(#clip020)\" style=\"stroke:#000000; stroke-linecap:round; stroke-linejoin:round; stroke-width:4; stroke-opacity:1; fill:none\" points=\"254.405,1486.45 254.405,1467.55 \"/>\n",
       "<polyline clip-path=\"url(#clip020)\" style=\"stroke:#000000; stroke-linecap:round; stroke-linejoin:round; stroke-width:4; stroke-opacity:1; fill:none\" points=\"763.713,1486.45 763.713,1467.55 \"/>\n",
       "<polyline clip-path=\"url(#clip020)\" style=\"stroke:#000000; stroke-linecap:round; stroke-linejoin:round; stroke-width:4; stroke-opacity:1; fill:none\" points=\"1273.02,1486.45 1273.02,1467.55 \"/>\n",
       "<polyline clip-path=\"url(#clip020)\" style=\"stroke:#000000; stroke-linecap:round; stroke-linejoin:round; stroke-width:4; stroke-opacity:1; fill:none\" points=\"1782.33,1486.45 1782.33,1467.55 \"/>\n",
       "<polyline clip-path=\"url(#clip020)\" style=\"stroke:#000000; stroke-linecap:round; stroke-linejoin:round; stroke-width:4; stroke-opacity:1; fill:none\" points=\"2291.64,1486.45 2291.64,1467.55 \"/>\n",
       "<path clip-path=\"url(#clip020)\" d=\"M231.789 1517.37 Q228.178 1517.37 226.349 1520.93 Q224.544 1524.47 224.544 1531.6 Q224.544 1538.71 226.349 1542.27 Q228.178 1545.82 231.789 1545.82 Q235.423 1545.82 237.229 1542.27 Q239.058 1538.71 239.058 1531.6 Q239.058 1524.47 237.229 1520.93 Q235.423 1517.37 231.789 1517.37 M231.789 1513.66 Q237.599 1513.66 240.655 1518.27 Q243.734 1522.85 243.734 1531.6 Q243.734 1540.33 240.655 1544.94 Q237.599 1549.52 231.789 1549.52 Q225.979 1549.52 222.9 1544.94 Q219.845 1540.33 219.845 1531.6 Q219.845 1522.85 222.9 1518.27 Q225.979 1513.66 231.789 1513.66 Z\" fill=\"#000000\" fill-rule=\"nonzero\" fill-opacity=\"1\" /><path clip-path=\"url(#clip020)\" d=\"M251.951 1542.97 L256.835 1542.97 L256.835 1548.85 L251.951 1548.85 L251.951 1542.97 Z\" fill=\"#000000\" fill-rule=\"nonzero\" fill-opacity=\"1\" /><path clip-path=\"url(#clip020)\" d=\"M277.02 1517.37 Q273.409 1517.37 271.581 1520.93 Q269.775 1524.47 269.775 1531.6 Q269.775 1538.71 271.581 1542.27 Q273.409 1545.82 277.02 1545.82 Q280.655 1545.82 282.46 1542.27 Q284.289 1538.71 284.289 1531.6 Q284.289 1524.47 282.46 1520.93 Q280.655 1517.37 277.02 1517.37 M277.02 1513.66 Q282.831 1513.66 285.886 1518.27 Q288.965 1522.85 288.965 1531.6 Q288.965 1540.33 285.886 1544.94 Q282.831 1549.52 277.02 1549.52 Q271.21 1549.52 268.132 1544.94 Q265.076 1540.33 265.076 1531.6 Q265.076 1522.85 268.132 1518.27 Q271.21 1513.66 277.02 1513.66 Z\" fill=\"#000000\" fill-rule=\"nonzero\" fill-opacity=\"1\" /><path clip-path=\"url(#clip020)\" d=\"M741.595 1517.37 Q737.984 1517.37 736.156 1520.93 Q734.35 1524.47 734.35 1531.6 Q734.35 1538.71 736.156 1542.27 Q737.984 1545.82 741.595 1545.82 Q745.23 1545.82 747.035 1542.27 Q748.864 1538.71 748.864 1531.6 Q748.864 1524.47 747.035 1520.93 Q745.23 1517.37 741.595 1517.37 M741.595 1513.66 Q747.406 1513.66 750.461 1518.27 Q753.54 1522.85 753.54 1531.6 Q753.54 1540.33 750.461 1544.94 Q747.406 1549.52 741.595 1549.52 Q735.785 1549.52 732.707 1544.94 Q729.651 1540.33 729.651 1531.6 Q729.651 1522.85 732.707 1518.27 Q735.785 1513.66 741.595 1513.66 Z\" fill=\"#000000\" fill-rule=\"nonzero\" fill-opacity=\"1\" /><path clip-path=\"url(#clip020)\" d=\"M761.757 1542.97 L766.642 1542.97 L766.642 1548.85 L761.757 1548.85 L761.757 1542.97 Z\" fill=\"#000000\" fill-rule=\"nonzero\" fill-opacity=\"1\" /><path clip-path=\"url(#clip020)\" d=\"M776.873 1514.29 L795.229 1514.29 L795.229 1518.22 L781.155 1518.22 L781.155 1526.7 Q782.174 1526.35 783.192 1526.19 Q784.211 1526 785.229 1526 Q791.016 1526 794.396 1529.17 Q797.776 1532.34 797.776 1537.76 Q797.776 1543.34 794.303 1546.44 Q790.831 1549.52 784.512 1549.52 Q782.336 1549.52 780.067 1549.15 Q777.822 1548.78 775.415 1548.04 L775.415 1543.34 Q777.498 1544.47 779.72 1545.03 Q781.942 1545.58 784.419 1545.58 Q788.424 1545.58 790.762 1543.48 Q793.1 1541.37 793.1 1537.76 Q793.1 1534.15 790.762 1532.04 Q788.424 1529.94 784.419 1529.94 Q782.544 1529.94 780.669 1530.35 Q778.817 1530.77 776.873 1531.65 L776.873 1514.29 Z\" fill=\"#000000\" fill-rule=\"nonzero\" fill-opacity=\"1\" /><path clip-path=\"url(#clip020)\" d=\"M1240.17 1544.91 L1247.81 1544.91 L1247.81 1518.55 L1239.5 1520.21 L1239.5 1515.95 L1247.77 1514.29 L1252.44 1514.29 L1252.44 1544.91 L1260.08 1544.91 L1260.08 1548.85 L1240.17 1548.85 L1240.17 1544.91 Z\" fill=\"#000000\" fill-rule=\"nonzero\" fill-opacity=\"1\" /><path clip-path=\"url(#clip020)\" d=\"M1269.53 1542.97 L1274.41 1542.97 L1274.41 1548.85 L1269.53 1548.85 L1269.53 1542.97 Z\" fill=\"#000000\" fill-rule=\"nonzero\" fill-opacity=\"1\" /><path clip-path=\"url(#clip020)\" d=\"M1294.6 1517.37 Q1290.98 1517.37 1289.16 1520.93 Q1287.35 1524.47 1287.35 1531.6 Q1287.35 1538.71 1289.16 1542.27 Q1290.98 1545.82 1294.6 1545.82 Q1298.23 1545.82 1300.04 1542.27 Q1301.86 1538.71 1301.86 1531.6 Q1301.86 1524.47 1300.04 1520.93 Q1298.23 1517.37 1294.6 1517.37 M1294.6 1513.66 Q1300.41 1513.66 1303.46 1518.27 Q1306.54 1522.85 1306.54 1531.6 Q1306.54 1540.33 1303.46 1544.94 Q1300.41 1549.52 1294.6 1549.52 Q1288.79 1549.52 1285.71 1544.94 Q1282.65 1540.33 1282.65 1531.6 Q1282.65 1522.85 1285.71 1518.27 Q1288.79 1513.66 1294.6 1513.66 Z\" fill=\"#000000\" fill-rule=\"nonzero\" fill-opacity=\"1\" /><path clip-path=\"url(#clip020)\" d=\"M1749.98 1544.91 L1757.62 1544.91 L1757.62 1518.55 L1749.31 1520.21 L1749.31 1515.95 L1757.57 1514.29 L1762.25 1514.29 L1762.25 1544.91 L1769.89 1544.91 L1769.89 1548.85 L1749.98 1548.85 L1749.98 1544.91 Z\" fill=\"#000000\" fill-rule=\"nonzero\" fill-opacity=\"1\" /><path clip-path=\"url(#clip020)\" d=\"M1779.33 1542.97 L1784.22 1542.97 L1784.22 1548.85 L1779.33 1548.85 L1779.33 1542.97 Z\" fill=\"#000000\" fill-rule=\"nonzero\" fill-opacity=\"1\" /><path clip-path=\"url(#clip020)\" d=\"M1794.45 1514.29 L1812.8 1514.29 L1812.8 1518.22 L1798.73 1518.22 L1798.73 1526.7 Q1799.75 1526.35 1800.77 1526.19 Q1801.79 1526 1802.8 1526 Q1808.59 1526 1811.97 1529.17 Q1815.35 1532.34 1815.35 1537.76 Q1815.35 1543.34 1811.88 1546.44 Q1808.41 1549.52 1802.09 1549.52 Q1799.91 1549.52 1797.64 1549.15 Q1795.4 1548.78 1792.99 1548.04 L1792.99 1543.34 Q1795.07 1544.47 1797.3 1545.03 Q1799.52 1545.58 1801.99 1545.58 Q1806 1545.58 1808.34 1543.48 Q1810.68 1541.37 1810.68 1537.76 Q1810.68 1534.15 1808.34 1532.04 Q1806 1529.94 1801.99 1529.94 Q1800.12 1529.94 1798.24 1530.35 Q1796.39 1530.77 1794.45 1531.65 L1794.45 1514.29 Z\" fill=\"#000000\" fill-rule=\"nonzero\" fill-opacity=\"1\" /><path clip-path=\"url(#clip020)\" d=\"M2262.88 1544.91 L2279.2 1544.91 L2279.2 1548.85 L2257.25 1548.85 L2257.25 1544.91 Q2259.91 1542.16 2264.5 1537.53 Q2269.1 1532.88 2270.28 1531.53 Q2272.53 1529.01 2273.41 1527.27 Q2274.31 1525.51 2274.31 1523.82 Q2274.31 1521.07 2272.37 1519.33 Q2270.45 1517.6 2267.35 1517.6 Q2265.15 1517.6 2262.69 1518.36 Q2260.26 1519.13 2257.48 1520.68 L2257.48 1515.95 Q2260.31 1514.82 2262.76 1514.24 Q2265.22 1513.66 2267.25 1513.66 Q2272.62 1513.66 2275.82 1516.35 Q2279.01 1519.03 2279.01 1523.52 Q2279.01 1525.65 2278.2 1527.57 Q2277.41 1529.47 2275.31 1532.07 Q2274.73 1532.74 2271.63 1535.95 Q2268.53 1539.15 2262.88 1544.91 Z\" fill=\"#000000\" fill-rule=\"nonzero\" fill-opacity=\"1\" /><path clip-path=\"url(#clip020)\" d=\"M2289.01 1542.97 L2293.9 1542.97 L2293.9 1548.85 L2289.01 1548.85 L2289.01 1542.97 Z\" fill=\"#000000\" fill-rule=\"nonzero\" fill-opacity=\"1\" /><path clip-path=\"url(#clip020)\" d=\"M2314.08 1517.37 Q2310.47 1517.37 2308.64 1520.93 Q2306.84 1524.47 2306.84 1531.6 Q2306.84 1538.71 2308.64 1542.27 Q2310.47 1545.82 2314.08 1545.82 Q2317.72 1545.82 2319.52 1542.27 Q2321.35 1538.71 2321.35 1531.6 Q2321.35 1524.47 2319.52 1520.93 Q2317.72 1517.37 2314.08 1517.37 M2314.08 1513.66 Q2319.89 1513.66 2322.95 1518.27 Q2326.03 1522.85 2326.03 1531.6 Q2326.03 1540.33 2322.95 1544.94 Q2319.89 1549.52 2314.08 1549.52 Q2308.27 1549.52 2305.19 1544.94 Q2302.14 1540.33 2302.14 1531.6 Q2302.14 1522.85 2305.19 1518.27 Q2308.27 1513.66 2314.08 1513.66 Z\" fill=\"#000000\" fill-rule=\"nonzero\" fill-opacity=\"1\" /><polyline clip-path=\"url(#clip022)\" style=\"stroke:#000000; stroke-linecap:round; stroke-linejoin:round; stroke-width:2; stroke-opacity:0.1; fill:none\" points=\"193.288,1255.16 2352.76,1255.16 \"/>\n",
       "<polyline clip-path=\"url(#clip022)\" style=\"stroke:#000000; stroke-linecap:round; stroke-linejoin:round; stroke-width:2; stroke-opacity:0.1; fill:none\" points=\"193.288,884.623 2352.76,884.623 \"/>\n",
       "<polyline clip-path=\"url(#clip022)\" style=\"stroke:#000000; stroke-linecap:round; stroke-linejoin:round; stroke-width:2; stroke-opacity:0.1; fill:none\" points=\"193.288,514.089 2352.76,514.089 \"/>\n",
       "<polyline clip-path=\"url(#clip022)\" style=\"stroke:#000000; stroke-linecap:round; stroke-linejoin:round; stroke-width:2; stroke-opacity:0.1; fill:none\" points=\"193.288,143.556 2352.76,143.556 \"/>\n",
       "<polyline clip-path=\"url(#clip020)\" style=\"stroke:#000000; stroke-linecap:round; stroke-linejoin:round; stroke-width:4; stroke-opacity:1; fill:none\" points=\"193.288,1486.45 193.288,47.2441 \"/>\n",
       "<polyline clip-path=\"url(#clip020)\" style=\"stroke:#000000; stroke-linecap:round; stroke-linejoin:round; stroke-width:4; stroke-opacity:1; fill:none\" points=\"193.288,1255.16 212.185,1255.16 \"/>\n",
       "<polyline clip-path=\"url(#clip020)\" style=\"stroke:#000000; stroke-linecap:round; stroke-linejoin:round; stroke-width:4; stroke-opacity:1; fill:none\" points=\"193.288,884.623 212.185,884.623 \"/>\n",
       "<polyline clip-path=\"url(#clip020)\" style=\"stroke:#000000; stroke-linecap:round; stroke-linejoin:round; stroke-width:4; stroke-opacity:1; fill:none\" points=\"193.288,514.089 212.185,514.089 \"/>\n",
       "<polyline clip-path=\"url(#clip020)\" style=\"stroke:#000000; stroke-linecap:round; stroke-linejoin:round; stroke-width:4; stroke-opacity:1; fill:none\" points=\"193.288,143.556 212.185,143.556 \"/>\n",
       "<path clip-path=\"url(#clip020)\" d=\"M50.9921 1255.61 L80.6679 1255.61 L80.6679 1259.54 L50.9921 1259.54 L50.9921 1255.61 Z\" fill=\"#000000\" fill-rule=\"nonzero\" fill-opacity=\"1\" /><path clip-path=\"url(#clip020)\" d=\"M100.76 1240.95 Q97.1493 1240.95 95.3206 1244.52 Q93.515 1248.06 93.515 1255.19 Q93.515 1262.3 95.3206 1265.86 Q97.1493 1269.4 100.76 1269.4 Q104.395 1269.4 106.2 1265.86 Q108.029 1262.3 108.029 1255.19 Q108.029 1248.06 106.2 1244.52 Q104.395 1240.95 100.76 1240.95 M100.76 1237.25 Q106.571 1237.25 109.626 1241.86 Q112.705 1246.44 112.705 1255.19 Q112.705 1263.92 109.626 1268.52 Q106.571 1273.11 100.76 1273.11 Q94.9502 1273.11 91.8715 1268.52 Q88.816 1263.92 88.816 1255.19 Q88.816 1246.44 91.8715 1241.86 Q94.9502 1237.25 100.76 1237.25 Z\" fill=\"#000000\" fill-rule=\"nonzero\" fill-opacity=\"1\" /><path clip-path=\"url(#clip020)\" d=\"M120.922 1266.56 L125.807 1266.56 L125.807 1272.44 L120.922 1272.44 L120.922 1266.56 Z\" fill=\"#000000\" fill-rule=\"nonzero\" fill-opacity=\"1\" /><path clip-path=\"url(#clip020)\" d=\"M150.158 1253.8 Q153.515 1254.52 155.39 1256.79 Q157.288 1259.06 157.288 1262.39 Q157.288 1267.51 153.769 1270.31 Q150.251 1273.11 143.769 1273.11 Q141.593 1273.11 139.279 1272.67 Q136.987 1272.25 134.533 1271.39 L134.533 1266.88 Q136.478 1268.01 138.793 1268.59 Q141.107 1269.17 143.631 1269.17 Q148.029 1269.17 150.32 1267.44 Q152.635 1265.7 152.635 1262.39 Q152.635 1259.33 150.482 1257.62 Q148.353 1255.88 144.533 1255.88 L140.506 1255.88 L140.506 1252.04 L144.718 1252.04 Q148.168 1252.04 149.996 1250.68 Q151.825 1249.29 151.825 1246.7 Q151.825 1244.03 149.927 1242.62 Q148.052 1241.19 144.533 1241.19 Q142.612 1241.19 140.413 1241.6 Q138.214 1242.02 135.575 1242.9 L135.575 1238.73 Q138.237 1237.99 140.552 1237.62 Q142.89 1237.25 144.95 1237.25 Q150.274 1237.25 153.376 1239.68 Q156.478 1242.09 156.478 1246.21 Q156.478 1249.08 154.834 1251.07 Q153.191 1253.04 150.158 1253.8 Z\" fill=\"#000000\" fill-rule=\"nonzero\" fill-opacity=\"1\" /><path clip-path=\"url(#clip020)\" d=\"M51.9412 885.074 L81.617 885.074 L81.617 889.009 L51.9412 889.009 L51.9412 885.074 Z\" fill=\"#000000\" fill-rule=\"nonzero\" fill-opacity=\"1\" /><path clip-path=\"url(#clip020)\" d=\"M101.709 870.421 Q98.0984 870.421 96.2697 873.986 Q94.4641 877.528 94.4641 884.657 Q94.4641 891.764 96.2697 895.329 Q98.0984 898.87 101.709 898.87 Q105.344 898.87 107.149 895.329 Q108.978 891.764 108.978 884.657 Q108.978 877.528 107.149 873.986 Q105.344 870.421 101.709 870.421 M101.709 866.718 Q107.52 866.718 110.575 871.324 Q113.654 875.907 113.654 884.657 Q113.654 893.384 110.575 897.991 Q107.52 902.574 101.709 902.574 Q95.8993 902.574 92.8206 897.991 Q89.7651 893.384 89.7651 884.657 Q89.7651 875.907 92.8206 871.324 Q95.8993 866.718 101.709 866.718 Z\" fill=\"#000000\" fill-rule=\"nonzero\" fill-opacity=\"1\" /><path clip-path=\"url(#clip020)\" d=\"M121.871 896.023 L126.756 896.023 L126.756 901.903 L121.871 901.903 L121.871 896.023 Z\" fill=\"#000000\" fill-rule=\"nonzero\" fill-opacity=\"1\" /><path clip-path=\"url(#clip020)\" d=\"M140.968 897.967 L157.288 897.967 L157.288 901.903 L135.344 901.903 L135.344 897.967 Q138.006 895.213 142.589 890.583 Q147.195 885.93 148.376 884.588 Q150.621 882.065 151.501 880.329 Q152.404 878.569 152.404 876.88 Q152.404 874.125 150.459 872.389 Q148.538 870.653 145.436 870.653 Q143.237 870.653 140.783 871.417 Q138.353 872.181 135.575 873.731 L135.575 869.009 Q138.399 867.875 140.853 867.296 Q143.306 866.718 145.343 866.718 Q150.714 866.718 153.908 869.403 Q157.103 872.088 157.103 876.579 Q157.103 878.708 156.292 880.63 Q155.505 882.528 153.399 885.12 Q152.82 885.792 149.718 889.009 Q146.617 892.204 140.968 897.967 Z\" fill=\"#000000\" fill-rule=\"nonzero\" fill-opacity=\"1\" /><path clip-path=\"url(#clip020)\" d=\"M51.5708 514.541 L81.2466 514.541 L81.2466 518.476 L51.5708 518.476 L51.5708 514.541 Z\" fill=\"#000000\" fill-rule=\"nonzero\" fill-opacity=\"1\" /><path clip-path=\"url(#clip020)\" d=\"M101.339 499.888 Q97.728 499.888 95.8993 503.453 Q94.0937 506.995 94.0937 514.124 Q94.0937 521.231 95.8993 524.795 Q97.728 528.337 101.339 528.337 Q104.973 528.337 106.779 524.795 Q108.608 521.231 108.608 514.124 Q108.608 506.995 106.779 503.453 Q104.973 499.888 101.339 499.888 M101.339 496.184 Q107.149 496.184 110.205 500.791 Q113.283 505.374 113.283 514.124 Q113.283 522.851 110.205 527.457 Q107.149 532.041 101.339 532.041 Q95.5289 532.041 92.4502 527.457 Q89.3947 522.851 89.3947 514.124 Q89.3947 505.374 92.4502 500.791 Q95.5289 496.184 101.339 496.184 Z\" fill=\"#000000\" fill-rule=\"nonzero\" fill-opacity=\"1\" /><path clip-path=\"url(#clip020)\" d=\"M121.501 525.49 L126.385 525.49 L126.385 531.369 L121.501 531.369 L121.501 525.49 Z\" fill=\"#000000\" fill-rule=\"nonzero\" fill-opacity=\"1\" /><path clip-path=\"url(#clip020)\" d=\"M137.381 527.434 L145.019 527.434 L145.019 501.069 L136.709 502.735 L136.709 498.476 L144.973 496.809 L149.649 496.809 L149.649 527.434 L157.288 527.434 L157.288 531.369 L137.381 531.369 L137.381 527.434 Z\" fill=\"#000000\" fill-rule=\"nonzero\" fill-opacity=\"1\" /><path clip-path=\"url(#clip020)\" d=\"M100.112 129.355 Q96.5011 129.355 94.6724 132.92 Q92.8669 136.461 92.8669 143.591 Q92.8669 150.697 94.6724 154.262 Q96.5011 157.804 100.112 157.804 Q103.746 157.804 105.552 154.262 Q107.381 150.697 107.381 143.591 Q107.381 136.461 105.552 132.92 Q103.746 129.355 100.112 129.355 M100.112 125.651 Q105.922 125.651 108.978 130.258 Q112.057 134.841 112.057 143.591 Q112.057 152.318 108.978 156.924 Q105.922 161.508 100.112 161.508 Q94.3021 161.508 91.2234 156.924 Q88.1679 152.318 88.1679 143.591 Q88.1679 134.841 91.2234 130.258 Q94.3021 125.651 100.112 125.651 Z\" fill=\"#000000\" fill-rule=\"nonzero\" fill-opacity=\"1\" /><path clip-path=\"url(#clip020)\" d=\"M120.274 154.957 L125.158 154.957 L125.158 160.836 L120.274 160.836 L120.274 154.957 Z\" fill=\"#000000\" fill-rule=\"nonzero\" fill-opacity=\"1\" /><path clip-path=\"url(#clip020)\" d=\"M145.343 129.355 Q141.732 129.355 139.904 132.92 Q138.098 136.461 138.098 143.591 Q138.098 150.697 139.904 154.262 Q141.732 157.804 145.343 157.804 Q148.978 157.804 150.783 154.262 Q152.612 150.697 152.612 143.591 Q152.612 136.461 150.783 132.92 Q148.978 129.355 145.343 129.355 M145.343 125.651 Q151.154 125.651 154.209 130.258 Q157.288 134.841 157.288 143.591 Q157.288 152.318 154.209 156.924 Q151.154 161.508 145.343 161.508 Q139.533 161.508 136.455 156.924 Q133.399 152.318 133.399 143.591 Q133.399 134.841 136.455 130.258 Q139.533 125.651 145.343 125.651 Z\" fill=\"#000000\" fill-rule=\"nonzero\" fill-opacity=\"1\" /><polyline clip-path=\"url(#clip022)\" style=\"stroke:#009af9; stroke-linecap:round; stroke-linejoin:round; stroke-width:4; stroke-opacity:1; fill:none\" points=\"254.405,1445.72 356.267,1339.85 458.128,1233.98 559.99,1128.12 661.852,1022.25 763.713,884.623 865.575,736.409 967.437,588.196 1069.3,439.983 1171.16,291.77 1273.02,143.556 1374.88,143.556 1476.75,143.556 1578.61,143.556 1680.47,111.796 1782.33,87.9763 1884.19,87.9763 1986.05,87.9763 2087.92,87.9763 2189.78,87.9763 2291.64,87.9763 \"/>\n",
       "<path clip-path=\"url(#clip020)\" d=\"M265.27 198.898 L533.647 198.898 L533.647 95.2176 L265.27 95.2176  Z\" fill=\"#ffffff\" fill-rule=\"evenodd\" fill-opacity=\"1\"/>\n",
       "<polyline clip-path=\"url(#clip020)\" style=\"stroke:#000000; stroke-linecap:round; stroke-linejoin:round; stroke-width:4; stroke-opacity:1; fill:none\" points=\"265.27,198.898 533.647,198.898 533.647,95.2176 265.27,95.2176 265.27,198.898 \"/>\n",
       "<polyline clip-path=\"url(#clip020)\" style=\"stroke:#009af9; stroke-linecap:round; stroke-linejoin:round; stroke-width:4; stroke-opacity:1; fill:none\" points=\"289.264,147.058 433.229,147.058 \"/>\n",
       "<path clip-path=\"url(#clip020)\" d=\"M471.065 166.745 Q469.26 171.375 467.547 172.787 Q465.834 174.199 462.964 174.199 L459.561 174.199 L459.561 170.634 L462.061 170.634 Q463.82 170.634 464.792 169.8 Q465.764 168.967 466.945 165.865 L467.709 163.921 L457.223 138.412 L461.737 138.412 L469.839 158.689 L477.94 138.412 L482.454 138.412 L471.065 166.745 Z\" fill=\"#000000\" fill-rule=\"nonzero\" fill-opacity=\"1\" /><path clip-path=\"url(#clip020)\" d=\"M489.746 160.402 L497.385 160.402 L497.385 134.037 L489.075 135.703 L489.075 131.444 L497.338 129.778 L502.014 129.778 L502.014 160.402 L509.653 160.402 L509.653 164.338 L489.746 164.338 L489.746 160.402 Z\" fill=\"#000000\" fill-rule=\"nonzero\" fill-opacity=\"1\" /></svg>\n"
      ]
     },
     "metadata": {},
     "output_type": "display_data"
    }
   ],
   "source": [
    "noms = 0:0.1:2\n",
    "\n",
    "Qadjs, P_Swaps = Nomination_Variation(J1[1], R1[1], Nomination, noms, Qref)\n",
    "\n",
    "\n",
    "Plots.plot(noms, Qadjs)\n",
    "Plots.plot(noms, P_Swaps)"
   ]
  }
 ],
 "metadata": {
  "kernelspec": {
   "display_name": "Julia 1.9.1",
   "language": "julia",
   "name": "julia-1.9"
  },
  "language_info": {
   "file_extension": ".jl",
   "mimetype": "application/julia",
   "name": "julia",
   "version": "1.9.1"
  },
  "orig_nbformat": 4
 },
 "nbformat": 4,
 "nbformat_minor": 2
}
