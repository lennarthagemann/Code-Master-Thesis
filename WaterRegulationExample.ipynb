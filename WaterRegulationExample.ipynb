{
 "cells": [
  {
   "cell_type": "code",
   "execution_count": 1,
   "metadata": {},
   "outputs": [],
   "source": [
    "using Distributions\n",
    "using LinearAlgebra\n",
    "using Statistics\n",
    "using Dates\n",
    "using DataFrames\n",
    "using Plots\n",
    "import CSV\n",
    "using JSON\n",
    "try\n",
    "    using Revise\n",
    "catch e\n",
    "    @warn \"Error initializing Revise\" exception=(e, catch_backtrace())\n",
    "end\n",
    "includet(pwd() * \"\\\\Water_Regulation\\\\WaterRegulation.jl\")\n",
    "using .WaterRegulation"
   ]
  },
  {
   "cell_type": "markdown",
   "metadata": {},
   "source": [
    "### Example of Water Regulation \n",
    "\n",
    "In this notebook we exemplify the day-to-day activities of the water regulation company.  \n",
    "For that we generate 1-2 simple reservoir systems, in which power producers nominate for discharge at different reservoirs.  \n",
    "Concepts such as the adjusted flow, power swap, reduction through spillage should be readily apparent after working through the examples.  \n",
    "We also visualize what happens if we change our nomination: When does spillage happen, how does the adjusted flow change, how does it affect the power swap, how does it affect the amount of power we can produce?  \n",
    "Something else to consider is how we can calculate the reference flow. Maybe do this in this file, or in another file where we work more closely with the real water data."
   ]
  },
  {
   "cell_type": "code",
   "execution_count": 2,
   "metadata": {},
   "outputs": [
    {
     "ename": "MethodError",
     "evalue": "MethodError: no method matching iterate(::Participant)\nClosest candidates are:\n  iterate(!Matched::Union{LinRange, StepRangeLen}) at range.jl:872\n  iterate(!Matched::Union{LinRange, StepRangeLen}, !Matched::Integer) at range.jl:872\n  iterate(!Matched::T) where T<:Union{Base.KeySet{<:Any, <:Dict}, Base.ValueIterator{<:Dict}} at dict.jl:712\n  ...",
     "output_type": "error",
     "traceback": [
      "MethodError: no method matching iterate(::Participant)\n",
      "Closest candidates are:\n",
      "  iterate(!Matched::Union{LinRange, StepRangeLen}) at range.jl:872\n",
      "  iterate(!Matched::Union{LinRange, StepRangeLen}, !Matched::Integer) at range.jl:872\n",
      "  iterate(!Matched::T) where T<:Union{Base.KeySet{<:Any, <:Dict}, Base.ValueIterator{<:Dict}} at dict.jl:712\n",
      "  ...\n",
      "\n",
      "Stacktrace:\n",
      " [1] indexed_iterate(I::Participant, i::Int64)\n",
      "   @ Base .\\tuple.jl:91\n",
      " [2] top-level scope\n",
      "   @ c:\\Users\\lenna\\OneDrive - NTNU\\Code Master Thesis\\WaterRegulationExample.ipynb:9"
     ]
    }
   ],
   "source": [
    "filepath_Ljungan = pwd() * \"\\\\Water_Regulation\\\\TestDataWaterRegulation\\\\Ljungan.json\"\n",
    "filepath_prices = pwd() *  \"\\\\Data\\\\Spot Prices\\\\prices_df.csv\"\n",
    "filepath_results = pwd() * \"\\\\Results\\\\LambdaZero\\\\\"\n",
    "R, K, J = read_data(filepath_Ljungan)\n",
    "print() \n",
    "\n",
    "j = J[1]\n",
    "K_j = j.plants\n",
    "O, K_O = OtherParticipant(J, j , R)[1]\n",
    "pj = j.participationrate\n",
    "pO = O.participationrate\n",
    "\n",
    "\n",
    "println(\"Participation rate $(j.name): \\n \", pj)\n",
    "println(\"Participation rate $(O.name): \\n \", pO)\n",
    "println(\"K_O : $(K_O) and spillage $(K_O[1].spillreference), \\n K_j : $(K_j) and spillage $(K_j[1].spillreference)\")"
   ]
  },
  {
   "cell_type": "code",
   "execution_count": 3,
   "metadata": {},
   "outputs": [
    {
     "ename": "KeyError",
     "evalue": "KeyError: key \"individualreservoir\" not found",
     "output_type": "error",
     "traceback": [
      "KeyError: key \"individualreservoir\" not found\n",
      "\n",
      "Stacktrace:\n",
      " [1] getindex\n",
      "   @ .\\dict.jl:498 [inlined]\n",
      " [2] (::Main.WaterRegulation.var\"#58#66\"{Dict{String, HydropowerPlant}, Dict{String, Reservoir}, Vector{Reservoir}})(part::Dict{String, Any})\n",
      "   @ Main.WaterRegulation .\\none:0\n",
      " [3] iterate\n",
      "   @ .\\generator.jl:47 [inlined]\n",
      " [4] collect(itr::Base.Generator{Vector{Any}, Main.WaterRegulation.var\"#58#66\"{Dict{String, HydropowerPlant}, Dict{String, Reservoir}, Vector{Reservoir}}})\n",
      "   @ Base .\\array.jl:787\n",
      " [5] read_data(filename::String)\n",
      "   @ Main.WaterRegulation c:\\Users\\lenna\\OneDrive - NTNU\\Code Master Thesis\\Water_Regulation\\WaterRegulation.jl:287\n",
      " [6] top-level scope\n",
      "   @ c:\\Users\\lenna\\OneDrive - NTNU\\Code Master Thesis\\WaterRegulationExample.ipynb:2"
     ]
    }
   ],
   "source": [
    "filepath_Simple = pwd() * \"\\\\Water_Regulation\\\\TestDataWaterRegulation\\\\SimpleReservoirSystem.json\"\n",
    "R1, K1, J1 = read_data(filepath_Simple)\n",
    "\n",
    "println(\"Participants: \", J1)\n",
    "println(\"Reservoirs: \", R1)\n",
    "println(\"Power Plants: \", K1)"
   ]
  }
 ],
 "metadata": {
  "kernelspec": {
   "display_name": "Julia 1.8.5",
   "language": "julia",
   "name": "julia-1.8"
  },
  "language_info": {
   "file_extension": ".jl",
   "mimetype": "application/julia",
   "name": "julia",
   "version": "1.8.5"
  },
  "orig_nbformat": 4
 },
 "nbformat": 4,
 "nbformat_minor": 2
}
