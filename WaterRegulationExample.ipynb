{
 "cells": [
  {
   "cell_type": "code",
   "execution_count": 1,
   "metadata": {},
   "outputs": [],
   "source": [
    "using Distributions\n",
    "using LinearAlgebra\n",
    "using Statistics\n",
    "using Dates\n",
    "using DataFrames\n",
    "using Plots\n",
    "import CSV\n",
    "using JSON\n",
    "try\n",
    "    using Revise\n",
    "catch e\n",
    "    @warn \"Error initializing Revise\" exception=(e, catch_backtrace())\n",
    "end\n",
    "includet(pwd() * \"\\\\Water_Regulation\\\\WaterRegulation.jl\")\n",
    "using .WaterRegulation"
   ]
  },
  {
   "cell_type": "markdown",
   "metadata": {},
   "source": [
    "### Example of Water Regulation \n",
    "\n",
    "In this notebook we exemplify the day-to-day activities of the water regulation company.  \n",
    "For that we generate 1-2 simple reservoir systems, in which power producers nominate for discharge at different reservoirs.  \n",
    "Concepts such as the adjusted flow, power swap, reduction through spillage should be readily apparent after working through the examples.  \n",
    "We also visualize what happens if we change our nomination: When does spillage happen, how does the adjusted flow change, how does it affect the power swap, how does it affect the amount of power we can produce?  \n",
    "Something else to consider is how we can calculate the reference flow. Maybe do this in this file, or in another file where we work more closely with the real water data."
   ]
  },
  {
   "cell_type": "code",
   "execution_count": 6,
   "metadata": {},
   "outputs": [
    {
     "name": "stdout",
     "output_type": "stream",
     "text": [
      "Participation rate Sydkraft: \n",
      " ________________________________\n",
      "Holsmjon | 0.0     \n",
      "Flasjon  | 1.84    \n",
      "\n",
      "Participation rate Other: \n",
      " ________________________________\n",
      "Holsmjon | 2.68    \n",
      "Flasjon  | 2.68    \n",
      "\n",
      "K_O : HydropowerPlant[Parteboda, Hermansboda, Ljunga, Nederede, Skallbole, Matfors, Viforsen, Jarnvagsforsen] and spillage 1.4,\n",
      "K_j : HydropowerPlant[Flasjo, Trangfors, Ratan, Turinge, Bursnas] and spillage 0.58\n"
     ]
    }
   ],
   "source": [
    "filepath_Ljungan = pwd() * \"\\\\Water_Regulation\\\\TestDataWaterRegulation\\\\Ljungan.json\"\n",
    "filepath_prices = pwd() *  \"\\\\Data\\\\Spot Prices\\\\prices_df.csv\"\n",
    "filepath_results = pwd() * \"\\\\Results\\\\LambdaZero\\\\\"\n",
    "R, K, J = read_data(filepath_Ljungan)\n",
    "print() \n",
    "\n",
    "j = J[1]\n",
    "K_j = j.plants\n",
    "O, K_O = OtherParticipant(J, j, R)\n",
    "pj = j.participationrate\n",
    "pO = O.participationrate\n",
    "\n",
    "\n",
    "println(\"Participation rate $(j.name): \\n \", pj)\n",
    "println(\"Participation rate $(O.name): \\n \", pO)\n",
    "println(\"K_O : $(K_O) and spillage $(K_O[1].spillreference),\\nK_j : $(K_j) and spillage $(K_j[1].spillreference)\")"
   ]
  },
  {
   "cell_type": "code",
   "execution_count": 16,
   "metadata": {},
   "outputs": [
    {
     "name": "stdout",
     "output_type": "stream",
     "text": [
      "The reservoir system is made up of the following components: \n",
      " ______________________________________________________"
     ]
    },
    {
     "name": "stdout",
     "output_type": "stream",
     "text": [
      "\n",
      "Reservoirs: [\"A\"]\n",
      "The reservoir A has a maximum capacity of 9000.0.\n",
      "Power Plants: [\"Kraftwerk1\", \"Kraftwerk2\", \"Kraftwerk3\"]\n",
      "The power plants have the following production capacities until there is spillage: \n",
      "Kraftwerk1 has spillage upper bound of 1.0. Additionally, the equivalent is 0.4, thus the maximum power is 0.4\n",
      "Kraftwerk2 has spillage upper bound of 1.2. Additionally, the equivalent is 0.7, thus the maximum power is 0.84\n",
      "Kraftwerk3 has spillage upper bound of 1.3. Additionally, the equivalent is 0.3, thus the maximum power is 0.39\n"
     ]
    },
    {
     "name": "stdout",
     "output_type": "stream",
     "text": [
      "Participants: [\"EON\", \"RWE\", \"Statkraft\"]\n",
      "The Participants are owners of the following power plants: \n",
      "EON is owner of [\"Kraftwerk1\"]. Because of this ownership the participationrate becomes \n",
      " ________________________________\n",
      "A        | 0.4     \n",
      "\n",
      "RWE is owner of [\"Kraftwerk2\"]. Because of this ownership the participationrate becomes \n",
      " ________________________________\n",
      "A        | 0.7     \n",
      "\n",
      "Statkraft is owner of [\"Kraftwerk3\"]. Because of this ownership the participationrate becomes \n",
      " ________________________________\n",
      "A        | 0.3     \n",
      "\n"
     ]
    }
   ],
   "source": [
    "filepath_Simple = pwd() * \"\\\\Water_Regulation\\\\TestDataWaterRegulation\\\\SimpleReservoirSystem.json\"\n",
    "R1, K1, J1 = read_data(filepath_Simple)\n",
    "\n",
    "println(\"The reservoir system is made up of the following components: \\n ______________________________________________________\")\n",
    "println(\"Reservoirs: \", [r.dischargepoint for r in R1])\n",
    "for r in R1\n",
    "    println(\"The reservoir $(r.dischargepoint) has a maximum capacity of $(r.maxvolume).\")\n",
    "end\n",
    "println(\"Power Plants: \", [k.name for k in K1])\n",
    "println(\"The power plants have the following production capacities until there is spillage: \")\n",
    "for k in K1\n",
    "    println(\"$(k.name) has spillage upper bound of $(k.spillreference). Additionally, the equivalent is $(k.equivalent), thus the maximum power is $(k.equivalent * k.spillreference)\")\n",
    "end\n",
    "println(\"Participants: \", [p.name for p in J1])\n",
    "println(\"The Participants are owners of the following power plants: \")\n",
    "for j in J1\n",
    "    println(\"$(j.name) is owner of $([k.name for k in j.plants]). Because of this ownership the participationrate becomes \\n $(j.participationrate)\")\n",
    "end"
   ]
  }
 ],
 "metadata": {
  "kernelspec": {
   "display_name": "Julia 1.8.5",
   "language": "julia",
   "name": "julia-1.8"
  },
  "language_info": {
   "file_extension": ".jl",
   "mimetype": "application/julia",
   "name": "julia",
   "version": "1.8.5"
  },
  "orig_nbformat": 4
 },
 "nbformat": 4,
 "nbformat_minor": 2
}
