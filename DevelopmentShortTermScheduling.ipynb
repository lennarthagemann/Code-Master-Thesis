{
 "cells": [
  {
   "cell_type": "code",
   "execution_count": 35,
   "metadata": {},
   "outputs": [],
   "source": [
    "using JuMP\n",
    "using CPLEX\n",
    "using Distributions\n",
    "using LinearAlgebra\n",
    "using Statistics\n",
    "using Dates\n",
    "using DataFrames\n",
    "using SDDP\n",
    "using Plots\n",
    "import CSV\n",
    "using JSON\n",
    "try\n",
    "    using Revise\n",
    "catch e\n",
    "    @warn \"Error initializing Revise\" exception=(e, catch_backtrace())\n",
    "end\n",
    "\n",
    "includet(pwd() * \"\\\\Water_Regulation\\\\WaterRegulation.jl\")\n",
    "using .WaterRegulation"
   ]
  },
  {
   "cell_type": "code",
   "execution_count": 36,
   "metadata": {},
   "outputs": [
    {
     "name": "stdout",
     "output_type": "stream",
     "text": [
      "Participation rate Sydkraft: \n",
      " ________________________________\n",
      "Flasjon  | 1.84    \n",
      "Holsmjon | 0.0     \n",
      "\n",
      "Individual Reservoir of Sydkraft: \n",
      "________________________________\n",
      "Flasjon  | 15000.0 \n",
      "Holsmjon | 18000.0 \n",
      "\n",
      "Participation rate Other: \n",
      " ________________________________\n",
      "Flasjon  | 2.68    \n",
      "Holsmjon | 2.68    \n",
      "\n",
      "K_O : HydropowerPlant[Parteboda] and spillage 1.4,\n",
      "K_j : HydropowerPlant[Flasjo] and spillage 0.58\n"
     ]
    },
    {
     "data": {
      "text/plain": [
       "1-element Vector{Float64}:\n",
       " 1.0"
      ]
     },
     "metadata": {},
     "output_type": "display_data"
    }
   ],
   "source": [
    "filepath_Ljungan = pwd() * \"\\\\Water_Regulation\\\\TestDataWaterRegulation\\\\Ljungan.json\"\n",
    "filepath_prices = pwd() *  \"\\\\Data\\\\Spot Prices\\\\prices_df.csv\"\n",
    "filepath_results = pwd() * \"\\\\Results\\\\LambdaZero\\\\\"\n",
    "R, K, J = read_data(filepath_Ljungan)\n",
    "print() \n",
    "\n",
    "j = J[1]\n",
    "O = OtherParticipant(J, j , R)[1]\n",
    "K_j = [j.plants[1]]\n",
    "K_O = [O.plants[1]]\n",
    "pj = j.participationrate\n",
    "pO = O.participationrate\n",
    "\n",
    "\n",
    "println(\"Participation rate $(j.name): \\n \", pj)\n",
    "println(\"Individual Reservoir of $(j.name): \\n\", j.individualreservoir)\n",
    "println(\"Participation rate $(O.name): \\n \", pO)\n",
    "println(\"K_O : $(K_O) and spillage $(K_O[1].spillreference),\\nK_j : $(K_j) and spillage $(K_j[1].spillreference)\")\n",
    "\n",
    "Stages = 7 # Days in Time Hoirzon <-> Stages\n",
    "T = 24\n",
    "\n",
    "# Balancing Penalties\n",
    "mu_up = 1.0\n",
    "mu_down = 0.3\n",
    "\n",
    "Omega = [1.0]\n",
    "P = [1 / length(Omega) for el in eachindex(Omega)]"
   ]
  },
  {
   "cell_type": "markdown",
   "metadata": {},
   "source": [
    "### Short-Term Scheduling of Hydropower Plants\n",
    "\n",
    "After Day-Ahead Market Bidding and Adjusted Flow Calculation, we have the opportunity to renominate.  \n",
    "It does not matter wether the agent is anticipatory or nonanticipatory: In any case the players have to abide to the water regulation rules.  \n",
    "\n",
    "The optimizers' goal is to disperse water correctly and solve the unit commitment problem of which power plants to use. Additionally, we minimize the amount of balancing we haave to do.  \n",
    "\n",
    "Bidding is removed from the optimization model. We now only have to work with the known constraint of demand in the first stage:\n",
    "$$\n",
    "y_t = \\sum\\limits_{k \\in \\mathcal{K}} w_{k,t} + z^+_t - z^-_t \n",
    "$$\n",
    "\n",
    "The subsequent stages don't have a known demand, as bidding is only done for the first stage. In the next stages we leave out the demand constraint.\n",
    "\n",
    "\n",
    "The goal is to find an optimal nomination and production schedul. The nomination includes information of how we value the reservoirs' contents.   \n",
    "In the objective we can either leave out or keep the revenues from day-ahead obligations. As they have to be fulfilled anyways it does not have any impact on the optimal solution."
   ]
  },
  {
   "cell_type": "markdown",
   "metadata": {},
   "source": [
    "##### Parameters\n",
    "* Reference Flow by Water Regulation Company\n",
    "* Day-Ahead Obligations for every hour\n",
    "* Adjusted Flow -> Other's nomination\n",
    "\n",
    "Power Swap and own nomination can also be extracted but are irrelevant as they will be redetermined."
   ]
  },
  {
   "cell_type": "code",
   "execution_count": 37,
   "metadata": {},
   "outputs": [
    {
     "name": "stdout",
     "output_type": "stream",
     "text": [
      "________________________________\n",
      "Flasjon  | 0.8     \n",
      "Holsmjon | 0.8     \n",
      "\n"
     ]
    },
    {
     "data": {
      "text/plain": [
       "24-element Vector{Float64}:\n",
       " 0.08728672341471166\n",
       " 0.2211949650547984\n",
       " 0.2959583341231731\n",
       " 1.9012547263861348\n",
       " 1.027997717567679\n",
       " 0.4591913815269548\n",
       " 0.08784005771452708\n",
       " 1.4864636376498201\n",
       " 0.28702357698861647\n",
       " 1.506130035815257\n",
       " ⋮\n",
       " 0.4978934037427556\n",
       " 0.48562335320691474\n",
       " 1.4481881266272565\n",
       " 1.0037364104861026\n",
       " 0.12413934307411312\n",
       " 0.22350728948279697\n",
       " 0.3306717505053718\n",
       " 1.0552550159323084\n",
       " 0.13454778104872678"
      ]
     },
     "metadata": {},
     "output_type": "display_data"
    }
   ],
   "source": [
    "Qref = Dict{Reservoir, Float64}(r => 0.8 for r in R)\n",
    "QnomO = Dict{Reservoir, Float64}(r => 0.8 for r in R)\n",
    "println(QnomO)\n",
    "y::Vector{Float64} = 2 .* rand(24)\n"
   ]
  },
  {
   "cell_type": "code",
   "execution_count": 38,
   "metadata": {},
   "outputs": [
    {
     "data": {
      "text/plain": [
       "subproblem_builder_short (generic function with 1 method)"
      ]
     },
     "metadata": {},
     "output_type": "display_data"
    }
   ],
   "source": [
    "function subproblem_builder_short(subproblem::Model, node::Int64)\n",
    "    # State Variables\n",
    "    @variable(subproblem, 0 <= l[r = R] <= r.maxvolume, SDDP.State, initial_value = r.currentvolume)\n",
    "    @variable(subproblem, lind[r = R], SDDP.State, initial_value = j.individualreservoir[r])\n",
    "    @variable(subproblem, u_start[k = K], SDDP.State, initial_value = 0, Bin)\n",
    "    # Control Variables\n",
    "    @variable(subproblem, Qnom[r = R] >= 0)\n",
    "    @variable(subproblem, Qadj[r = R] >= 0)\n",
    "    @variable(subproblem, d[t = 1:T, k = K], Bin)\n",
    "    @variable(subproblem, u[t = 1:T, k = K], Bin)\n",
    "    @variable(subproblem, BALANCE_INDICATOR[r = R], Bin)\n",
    "    @variable(subproblem, 0 <= w[t = 1:T, k = K] <= k.equivalent * k.spillreference)\n",
    "    @variable(subproblem, z_up[t = 1:T] >= 0)\n",
    "    @variable(subproblem, z_down[t = 1:T] >= 0)\n",
    "    @variable(subproblem, 0 <= Qeff[t = 1:T, k = K] <= k.spillreference)\n",
    "    @variable(subproblem, 0 <= Qreal[t = 1:T, r = R])\n",
    "    @variable(subproblem, Pswap[r = R])\n",
    "    @variable(subproblem, Pover[k = K_O] >= 0)\n",
    "    @variable(subproblem, f[r = R] >= 0)\n",
    "    @variable(subproblem, s[r = R] >= 0)\n",
    "    # Transition Function\n",
    "    @constraint(subproblem, balance[r = R], l[r].out == l[r].in - T * Qadj[r] + f[r] * T - s[r])\n",
    "    @constraint(subproblem, balance_ind[r = R], lind[r].out == lind[r].in - T * (Qnom[r] - Qref[r])- s[r]) \n",
    "    @constraint(subproblem, startcond[k = K], u_start[k].in == u[1,k])\n",
    "    @constraint(subproblem, endcond[k = K], u_start[k].out == u[T,k])\n",
    "    # Constraints\n",
    "    @constraint(subproblem, nbal1[r = R], BALANCE_INDICATOR[r] => {Qnom[r] <= Qref[r]})\n",
    "    @constraint(subproblem, nbal2[r = R], !BALANCE_INDICATOR[r] => {0 <= lind[r].in})\n",
    "    @constraint(subproblem, NoSpill[k = K], BALANCE_INDICATOR[k.reservoir] => {sum(Qnom[r_up] for r_up in find_us_reservoir(k.reservoir)) <= k.spillreference})\n",
    "    @constraint(subproblem, adjustedflow[r = R], Qadj[r] == (Qnom[r] * pj[r] + QnomO[r] * pO[r]) / (pj[r] + pO[r]))\n",
    "    @constraint(subproblem, powerswap[r = R], Pswap[r] == pj[r] * (Qnom[r] - Qadj[r]) - sum(Pover[k] for k in K_O))\n",
    "    @constraint(subproblem, overnomination[k = K_O], Pover[k] >= k.equivalent * (Qadj[k.reservoir] - k.spillreference))\n",
    "    @constraint(subproblem, nomination[r = R], sum(Qreal[t,r] for t in 1:T) == T * Qadj[r])\n",
    "    @constraint(subproblem, obligation[t = 1:T], y[t]  == sum(w[t,k] for k in K) + sum(Pswap[r] for r in R) + z_up[t] - z_down[t])\n",
    "    @constraint(subproblem, active[t = 1:T, k = K], w[t,k] <= u[t,k] * k.spillreference * k.equivalent)\n",
    "    @constraint(subproblem, startup[t = 1:T-1, k = K], d[t,k] >= u[t+1,k] - u[t,k])\n",
    "    @constraint(subproblem, production[t = 1:T, k = K], w[t,k] <= Qeff[t,k] * k.equivalent)\n",
    "    @constraint(subproblem, realwater[t = 1:T, k = K], Qeff[t,k] <= sum(Qreal[t,r] for r in find_us_reservoir(k.reservoir)))\n",
    "    SDDP.parameterize(subproblem, Omega, P) do om\n",
    "        # We have to make sure that depending on the market clearing price, the coefficients are set accordingly.\n",
    "        # The recourse action only applies to the real delivery, determined by the uncertain price. The other restricitions become inactive, else they make the problem infeasible.\n",
    "        # The constraints that are relevant are maiintained in Scenario_Index for every current time step.\n",
    "        for r in R\n",
    "            JuMP.fix(f[r], om, force=true)\n",
    "        end\n",
    "        # Include only active variables in stageobjective\n",
    "        @stageobjective(subproblem, sum(mu_up * z_up[t] - mu_down * z_down[t]  + S * sum(d[t,k] for k in K) for t in 1:T))\n",
    "    end\n",
    "    return\n",
    "end"
   ]
  },
  {
   "cell_type": "code",
   "execution_count": 39,
   "metadata": {},
   "outputs": [
    {
     "data": {
      "text/plain": [
       "A policy graph with 7 nodes.\n",
       " Node indices: 1, 2, 3, 4, 5, 6, 7\n"
      ]
     },
     "metadata": {},
     "output_type": "display_data"
    }
   ],
   "source": [
    "model_balancing = SDDP.LinearPolicyGraph(\n",
    "    subproblem_builder_short,\n",
    "    stages = Stages,\n",
    "    sense = :Min,\n",
    "    lower_bound = sum(y[t] * mu_down for t in 1:T),\n",
    "    optimizer = CPLEX.Optimizer\n",
    ")"
   ]
  },
  {
   "cell_type": "markdown",
   "metadata": {},
   "source": [
    "### Real Time Balancing and Water Scheduling\n",
    "\n",
    "Even after going through two optimization problems, we are still not done yet.  \n",
    "After all participants communicated their renomination, a new adjusted flow has been calculated.  \n",
    "Although multiple renominations are theoretically possible, we choose to only have one round of nomination before and after market clearing each. That is because no new information outside of the water regulation procedure is gained.  \n",
    "\n",
    "The last problem is simply a problem of real time balancing and unit commitment, as the amount of water to be discharged is determined. The Water Value function doesn't play a role anymore. We minimize costs:\n",
    "\n",
    "$$\n",
    "\\min \\; \\rightarrow \\; \\sum\\limits_{t \\in \\mathcal{T}} \\left( \\sum\\limits_{k \\in \\mathcal{K}} ( S_k \\cdot \\delta_{k,t} ) +  \\mu^+ z^+_t - \\mu^- z^-_t  \\right)\n",
    "$$\n",
    "\n",
    "As a Parameter we get:\n",
    "\n",
    "* Adjusted Flow\n",
    "* Power Swap\n",
    "\n",
    "We Decide:\n",
    "\n",
    "* Flow of water at every hour\n",
    "* Balancing Decisions\n",
    "* Startups of each power plant"
   ]
  },
  {
   "cell_type": "code",
   "execution_count": 40,
   "metadata": {},
   "outputs": [
    {
     "data": {
      "text/plain": [
       "Dict{Reservoir, Float64} with 2 entries:\n",
       "  Flasjon  => 0.0\n",
       "  Holsmjon => 0.0"
      ]
     },
     "metadata": {},
     "output_type": "display_data"
    }
   ],
   "source": [
    "Qadj = Dict{Reservoir, Float64}(r => 0.8 for r in R)\n",
    "Pswap = Dict{Reservoir, Float64}(r => 0.0 for r in R)"
   ]
  },
  {
   "cell_type": "code",
   "execution_count": 41,
   "metadata": {},
   "outputs": [
    {
     "data": {
      "text/plain": [
       "subproblem_builder_balancing (generic function with 1 method)"
      ]
     },
     "metadata": {},
     "output_type": "display_data"
    }
   ],
   "source": [
    "function subproblem_builder_balancing(subproblem::Model, node::Int64)\n",
    "    # State Variables\n",
    "    @variable(subproblem, u_start[k = K], SDDP.State, initial_value = 0, Bin)\n",
    "    # Control Variables\n",
    "    @variable(subproblem, d[t = 1:T, k = K], Bin)\n",
    "    @variable(subproblem, u[t = 1:T, k = K], Bin)\n",
    "    @variable(subproblem, 0 <= w[t = 1:T, k = K] <= k.equivalent * k.spillreference)\n",
    "    @variable(subproblem, z_up[t = 1:T] >= 0)\n",
    "    @variable(subproblem, z_down[t = 1:T] >= 0)\n",
    "    @variable(subproblem, 0 <= Qeff[t = 1:T, k = K] <= k.spillreference)\n",
    "    @variable(subproblem, 0 <= Qreal[t = 1:T, r = R])\n",
    "    # Transition Function\n",
    "    @constraint(subproblem, startcond[k = K], u_start[k].in == u[1,k])\n",
    "    @constraint(subproblem, endcond[k = K], u_start[k].out == u[T,k])\n",
    "    # Constraints\n",
    "    @constraint(subproblem, nomination[r = R], sum(Qreal[t,r] for t in 1:T) == T * Qadj[r])\n",
    "    @constraint(subproblem, obligation[t = 1:T], y[t]  == sum(w[t,k] for k in K) + sum(Pswap[r] for r in R) + z_up[t] - z_down[t])\n",
    "    @constraint(subproblem, active[t = 1:T, k = K], w[t,k] <= u[t,k] * k.spillreference * k.equivalent)\n",
    "    @constraint(subproblem, startup[t = 1:T-1, k = K], d[t,k] >= u[t+1,k] - u[t,k])\n",
    "    @constraint(subproblem, production[t = 1:T, k = K], w[t,k] <= Qeff[t,k] * k.equivalent)\n",
    "    @constraint(subproblem, realwater[t = 1:T, k = K], Qeff[t,k] <= sum(Qreal[t,r] for r in find_us_reservoir(k.reservoir)))\n",
    "    SDDP.parameterize(subproblem, Omega, P) do om\n",
    "        # We have to make sure that depending on the market clearing price, the coefficients are set accordingly.\n",
    "        # The recourse action only applies to the real delivery, determined by the uncertain price. The other restricitions become inactive, else they make the problem infeasible.\n",
    "        # The constraints that are relevant are maiintained in Scenario_Index for every current time step.\n",
    "        for r in R\n",
    "            JuMP.fix(f[r], om.inflow, force=true)\n",
    "            JuMP.set_normalized_rhs(adjustedflow[r], pO[r] * om.nomination)\n",
    "        end\n",
    "        # Include only active variables in stageobjective\n",
    "        @stageobjective(subproblem, sum(mu_up * z_up[t] - mu_down * z_down[t]  + S * sum(d[t,k] for k in K) for t in 1:T))\n",
    "    end\n",
    "    return\n",
    "end"
   ]
  },
  {
   "cell_type": "code",
   "execution_count": 42,
   "metadata": {},
   "outputs": [
    {
     "data": {
      "text/plain": [
       "A policy graph with 1 nodes.\n",
       " Node indices: 1\n"
      ]
     },
     "metadata": {},
     "output_type": "display_data"
    }
   ],
   "source": [
    "model_balancing = SDDP.LinearPolicyGraph(\n",
    "    subproblem_builder_balancing,\n",
    "    stages = 1,\n",
    "    sense = :Min,\n",
    "    lower_bound = sum(y[t] * mu_down for t in 1:T),\n",
    "    optimizer = CPLEX.Optimizer\n",
    ")"
   ]
  }
 ],
 "metadata": {
  "kernelspec": {
   "display_name": "Julia 1.8.5",
   "language": "julia",
   "name": "julia-1.8"
  },
  "language_info": {
   "file_extension": ".jl",
   "mimetype": "application/julia",
   "name": "julia",
   "version": "1.8.5"
  },
  "orig_nbformat": 4
 },
 "nbformat": 4,
 "nbformat_minor": 2
}
