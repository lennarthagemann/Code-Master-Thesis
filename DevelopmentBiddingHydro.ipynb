{
 "cells": [
  {
   "cell_type": "code",
   "execution_count": 94,
   "metadata": {},
   "outputs": [],
   "source": [
    "using JuMP\n",
    "using CPLEX\n",
    "using Distributions\n",
    "using LinearAlgebra\n",
    "using Statistics\n",
    "using Dates\n",
    "using DataFrames\n",
    "using SDDP\n",
    "using Plots\n",
    "import CSV\n",
    "using JSON\n",
    "try\n",
    "    using Revise\n",
    "catch e\n",
    "    @warn \"Error initializing Revise\" exception=(e, catch_backtrace())\n",
    "end"
   ]
  },
  {
   "cell_type": "code",
   "execution_count": 95,
   "metadata": {},
   "outputs": [],
   "source": [
    "includet(pwd() * \"\\\\Water_Regulation\\\\WaterRegulation.jl\")\n",
    "using .WaterRegulation"
   ]
  },
  {
   "cell_type": "markdown",
   "metadata": {},
   "source": [
    "### General Parameters"
   ]
  },
  {
   "cell_type": "code",
   "execution_count": 96,
   "metadata": {},
   "outputs": [],
   "source": [
    "filepath_Ljungan = pwd() * \"\\\\Water_Regulation\\\\TestDataWaterRegulation\\\\Ljungan.json\"\n",
    "filepath_prices = pwd() *  \"\\\\Data\\\\Spot Prices\\\\prices_df.csv\"\n",
    "filepath_results = pwd() * \"\\\\Results\\\\LambdaZero\\\\\"\n",
    "all_res, plants, parts = read_data(filepath_Ljungan)\n",
    "print() "
   ]
  },
  {
   "cell_type": "markdown",
   "metadata": {},
   "source": [
    "### River System  \n",
    "We will work with Sydkraft in this example  \n",
    "For ease at first we have one producer, one reservoir and one plant."
   ]
  },
  {
   "cell_type": "code",
   "execution_count": 97,
   "metadata": {},
   "outputs": [
    {
     "name": "stdout",
     "output_type": "stream",
     "text": [
      "Participant: Sydkraft\n",
      "\n",
      "Reservoir: Flasjon\n",
      "\n",
      "Power Plant: Flasjo\n",
      "\n"
     ]
    }
   ],
   "source": [
    "j = parts[1]\n",
    "res = filter(r -> j.participationrate[r] > 0, all_res)[1]\n",
    "k = j.plants[1]\n",
    "\n",
    "println(\"Participant: \", j)\n",
    "println(\"Reservoir: \", res)\n",
    "println(\"Power Plant: \", k)"
   ]
  },
  {
   "cell_type": "markdown",
   "metadata": {},
   "source": [
    "### Bidding Model  \n",
    "At the Electricity Markets, Participants have to communicate increasing bidding curves of price-volume pairs before market clearing.  \n",
    "Depending on the market clearing price, the delivery of each participant becomes known  \n",
    "We approximate this relation by using linear interpolation of volumes and presetting price Points, for example based on probabilities.\n",
    "\n",
    "$$\n",
    "y_t = \\frac{c_t - P_{t,i} }{P_{t,i+1} - P_{t,i}} \\cdot x_{i,t} + \\frac{P_{t,i+1} - c_t }{P_{t,i+1} - P{t,i}} \\cdot x_{i+1,t}, \\qquad \\text{if} \\qquad P_{t,i} \\leq c_t \\leq P_{t,i+1}\n",
    "$$\n",
    "\n",
    "The Volumes have to be in increasing order:\n",
    "\n",
    "$$\n",
    "x_{i,t} \\leq x_{i+1,t}\n",
    "$$"
   ]
  },
  {
   "cell_type": "markdown",
   "metadata": {},
   "source": [
    "### Hydro Model\n",
    "\n",
    "The Commodity we deal with is electricity. At all times it has to be in balance and consumed at the moment it is generated. The means of producing electricity is a pure hydro system with a reservoir upstream for storage.  \n",
    "\n",
    "$$\n",
    "\\begin{align*}\n",
    "l &= \\text{Reservoir level} \\\\\n",
    "Q &= \\text{Flow of Water} \\\\\n",
    "w &= \\text{Electrical Production} \\\\\n",
    "e &= \\text{Equivalent}\n",
    "\\end{align*}\n",
    "$$"
   ]
  },
  {
   "cell_type": "markdown",
   "metadata": {},
   "source": [
    "### Set Parameters necessary for Input into Model"
   ]
  },
  {
   "cell_type": "code",
   "execution_count": 98,
   "metadata": {},
   "outputs": [
    {
     "name": "stdout",
     "output_type": "stream",
     "text": [
      "Stages :8\n",
      " Hours: 24\n",
      " I : 5\n",
      " Price Points = [0.0, 0.2, 0.4, 0.6, 0.8, 1.0]"
     ]
    },
    {
     "name": "stdout",
     "output_type": "stream",
     "text": [
      "\n",
      "Uncertainty Set: NamedTuple{(:price, :inflow), Tuple{Vector{Float64}, Float64}}[(price = [0.457, 0.715, 0.951, 0.239, 0.533, 0.405, 0.513, 0.121, 0.865, 0.794, 0.275, 0.0664, 0.647, 0.037, 0.93, 0.0192, 0.173, 0.599, 0.989, 0.368, 0.257, 0.342, 0.0968, 0.794], inflow = 10.0), (price = [0.295, 0.254, 0.773, 0.7, 0.189, 0.521, 0.433, 0.995, 0.411, 0.468, 0.472, 0.798, 0.776, 0.188, 0.556, 0.365, 0.0498, 0.0104, 0.502, 0.0997, 0.422, 0.694, 0.622, 0.428], inflow = 10.0)]\n"
     ]
    }
   ],
   "source": [
    "Stages = 8 # 2 lowest number as first stage is just to achieve nonanticipativity\n",
    "T = 24\n",
    "PPoints = [0.0, 0.2, 0.4, 0.6, 0.8, 1.0]\n",
    "I = length(PPoints)-1\n",
    "\n",
    "println(\"Stages :\" , Stages, \"\\n Hours: \", T, \"\\n I : \", I, \"\\n Price Points = \", [i for i in PPoints])\n",
    "\n",
    "Qref = Dict{Reservoir, Float64}(r => 10.0 for r in [res])\n",
    "scenario_count = 2\n",
    "Prices = [floor.(rand(T), sigdigits=3) for i in 1:scenario_count]\n",
    "Inflows = [10.0]\n",
    "Omega = [(price = p, inflow = v) for p in Prices for v in Inflows]\n",
    "P = [1/length(Omega) for om in Omega]\n",
    "# StartUp Costs\n",
    "S = 0.1\n",
    "# Cost for Up and Down Balancing\n",
    "mu = 1\n",
    "\n",
    "println(\"Uncertainty Set: \", Omega)"
   ]
  },
  {
   "cell_type": "markdown",
   "metadata": {},
   "source": [
    "### Definition of Subproblems"
   ]
  },
  {
   "cell_type": "code",
   "execution_count": 106,
   "metadata": {},
   "outputs": [
    {
     "data": {
      "text/plain": [
       "subproblem_builder (generic function with 1 method)"
      ]
     },
     "metadata": {},
     "output_type": "display_data"
    }
   ],
   "source": [
    "function subproblem_builder(subproblem::Model, node::Int64)\n",
    "    @variable(subproblem, 0 <= x[i = 1:I+1, t = 1:T] <= 50, SDDP.State, initial_value=0)\n",
    "    @variable(subproblem, 0 <= l <= res.maxvolume, SDDP.State, initial_value = res.currentvolume)\n",
    "    @variable(subproblem, y[i = 1:I, t=1:T] >= 0)\n",
    "    @variable(subproblem, w[i = 1:I, t=1:T] >= 0)\n",
    "    @variable(subproblem, b[i = 1:I, t=1:T] >= 0)\n",
    "    @variable(subproblem, Q[i = 1:I, t=1:T] >= 0)\n",
    "    @variable(subproblem, f >= 0)\n",
    "    @variable(subproblem, s >= 0)\n",
    "\n",
    "    @constraint(subproblem, clearing[i = 1:I,t=1:T], y[i,t] == 1* x[i,t].in +  1* x[i+1,t].in)\n",
    "    @constraint(subproblem, increasing[i = 1:I, t=1:T], x[i,t].out <= x[i+1,t].out)\n",
    "    if node == 1\n",
    "        @stageobjective(subproblem, 0)\n",
    "        @constraint(subproblem, balance_transfer, l.in == l.out)\n",
    "    else\n",
    "        @constraint(subproblem, obligation[i = 1:I, t=1:T], y[i,t] == w[i,t] + b[i,t])\n",
    "        @constraint(subproblem, balance, l.out == l.in - sum(Q[i,t] for t in 1:T for i in 1:I) + f * T - s)\n",
    "        @constraint(subproblem, production[i = 1:I, t=1:T], w[i,t] == Q[i,t] * k.equivalent)\n",
    "        SDDP.parameterize(subproblem, Omega, P) do om\n",
    "            # We have to make sure that depending on the market clearing price, the coefficients are set accordingly.\n",
    "            # The recourse action only applies to the real delivery, determined by the uncertain price. The other restricitions become inactive, else they make the problem infeasible.\n",
    "            # The constraints that are relevant are maiintained in Scenario_Index for every current time step.\n",
    "            JuMP.fix(f, om.inflow, force=true)\n",
    "            # Define Set of active variables for each hour\n",
    "            I_t = Dict(t => 0 for t in 1:T)\n",
    "            for t in 1:T\n",
    "                for i in 1:I\n",
    "                    if (om.price[t] >= PPoints[i]) && (om.price[t] <= PPoints[i+1])\n",
    "                        I_t[t] = i\n",
    "                    end\n",
    "                end\n",
    "            end\n",
    "            # Include only active variables in stageobjective\n",
    "            @stageobjective(subproblem ,sum(om.price[t] * y[I_t[t],t] -  mu * b[I_t[t],t] for t in 1:T))\n",
    "            # Fix / Deactivate constraints by setting their coefficients to appropriate values or all zero.\n",
    "            for t in 1:T\n",
    "                for i in 1:I\n",
    "                    if (i == I_t[t])\n",
    "                        set_normalized_coefficient(clearing[i,t], y[i,t], 1)\n",
    "                        set_normalized_coefficient(clearing[i,t], x[i,t].in, -((om.price[t] - PPoints[i])/(PPoints[i+1] - PPoints[i])))\n",
    "                        set_normalized_coefficient(clearing[i,t], x[i+1,t].in, -((PPoints[i+1] - om.price[t])/(PPoints[i+1] - PPoints[i])))\n",
    "                        set_normalized_coefficient(balance, Q[i,t], 1)\n",
    "                        set_normalized_coefficient(obligation[i,t], w[i,t], -1)\n",
    "                        set_normalized_coefficient(obligation[i,t], b[i,t], -1)\n",
    "                        set_normalized_coefficient(obligation[i,t], y[i,t], 1)\n",
    "                        set_normalized_coefficient(production[i,t], w[i,t], 1)\n",
    "                        set_normalized_coefficient(production[i,t], Q[i,t], -k.equivalent)\n",
    "                    else\n",
    "                        set_normalized_coefficient(balance, Q[i,t], 0)\n",
    "                        set_normalized_coefficient(obligation[i,t], w[i,t], 0)\n",
    "                        set_normalized_coefficient(obligation[i,t], b[i,t], 0)\n",
    "                        set_normalized_coefficient(obligation[i,t], y[i,t], 0)\n",
    "                        set_normalized_coefficient(clearing[i,t], y[i,t], 0)\n",
    "                        set_normalized_coefficient(clearing[i,t], x[i,t].in, 0)\n",
    "                        set_normalized_coefficient(clearing[i,t], x[i+1,t].in, 0)\n",
    "                        set_normalized_coefficient(production[i,t], w[i,t], 0)\n",
    "                        set_normalized_coefficient(production[i,t], Q[i,t], 0)\n",
    "                    end\n",
    "                end\n",
    "            end\n",
    "        end\n",
    "    end\n",
    "    return\n",
    "end"
   ]
  },
  {
   "cell_type": "code",
   "execution_count": 107,
   "metadata": {},
   "outputs": [
    {
     "name": "stdout",
     "output_type": "stream",
     "text": [
      "0.0\n",
      "1.0\n"
     ]
    },
    {
     "ename": "BoundsError",
     "evalue": "BoundsError: attempt to access 2-element Vector{Float64} at index [3]",
     "output_type": "error",
     "traceback": [
      "BoundsError: attempt to access 2-element Vector{Float64} at index [3]\n",
      "\n",
      "Stacktrace:\n",
      " [1] getindex(A::Vector{Float64}, i1::Int64)\n",
      "   @ Base .\\array.jl:924\n",
      " [2] top-level scope\n",
      "   @ c:\\Users\\lenna\\OneDrive - NTNU\\Code Master Thesis\\DevelopmentBiddingHydro.ipynb:2"
     ]
    }
   ],
   "source": [
    "for i in 1:I\n",
    "    println(PricePoints[i])\n",
    "end\n",
    "for el in Omega\n",
    "    println(el)\n",
    "end\n"
   ]
  },
  {
   "cell_type": "markdown",
   "metadata": {},
   "source": [
    "### Build the SDDP Model"
   ]
  },
  {
   "cell_type": "code",
   "execution_count": 113,
   "metadata": {},
   "outputs": [
    {
     "data": {
      "text/plain": [
       "A policy graph with 8 nodes.\n",
       " Node indices: 1, 2, 3, 4, 5, 6, 7, 8\n"
      ]
     },
     "metadata": {},
     "output_type": "display_data"
    }
   ],
   "source": [
    "model = SDDP.LinearPolicyGraph(\n",
    "    subproblem_builder;\n",
    "    stages = Stages,\n",
    "    sense = :Max,\n",
    "    upper_bound = 1e5,\n",
    "    optimizer = CPLEX.Optimizer\n",
    ")"
   ]
  },
  {
   "cell_type": "markdown",
   "metadata": {},
   "source": [
    "### Train the model"
   ]
  },
  {
   "cell_type": "code",
   "execution_count": 114,
   "metadata": {},
   "outputs": [
    {
     "name": "stdout",
     "output_type": "stream",
     "text": [
      "-------------------------------------------------------------------\n",
      "         SDDP.jl (c) Oscar Dowson and contributors, 2017-23\n",
      "-------------------------------------------------------------------\n",
      "problem\n",
      "  nodes           : 8\n",
      "  state variables : 145\n",
      "  scenarios       : 1.28000e+02\n",
      "  existing cuts   : false\n",
      "options\n",
      "  solver          : serial mode\n",
      "  risk measure    : SDDP.Expectation()\n",
      "  sampling scheme : SDDP.InSampleMonteCarlo\n",
      "subproblem structure\n",
      "  VariableRef                             : [773, 773]\n",
      "  VariableRef in MOI.LessThan{Float64}    : [146, 146]\n",
      "  AffExpr in MOI.LessThan{Float64}        : [120, 120]\n",
      "  VariableRef in MOI.GreaterThan{Float64} : [627, 628]\n",
      "  AffExpr in MOI.EqualTo{Float64}         : [121, 361]\n",
      "numerical stability report\n",
      "  matrix range     [5e-03, 2e+01]\n",
      "  objective range  [1e-02, 1e+00]\n",
      "  bounds range     [5e+01, 1e+05]\n",
      "  rhs range        [0e+00, 0e+00]\n",
      "-------------------------------------------------------------------\n",
      " iteration    simulation      bound        time (s)     solves  pid\n",
      "-------------------------------------------------------------------\n"
     ]
    },
    {
     "name": "stdout",
     "output_type": "stream",
     "text": [
      "         1   3.605107e+02  1.287057e+04  1.199999e-01        23   1\n",
      "         2  -2.778155e+03  3.886453e+03  1.970000e-01        46   1\n"
     ]
    },
    {
     "name": "stdout",
     "output_type": "stream",
     "text": [
      "         3  -6.582450e+02  3.886453e+03  2.760000e-01        69   1"
     ]
    },
    {
     "name": "stdout",
     "output_type": "stream",
     "text": [
      "\n",
      "         4   2.447022e+03  3.886453e+03  4.240000e-01        92   1\n",
      "         5   2.794037e+03  3.886453e+03  5.160000e-01       115   1\n"
     ]
    },
    {
     "name": "stdout",
     "output_type": "stream",
     "text": [
      "         6   2.790555e+03  3.886453e+03  5.899999e-01       138   1\n",
      "         7   2.873158e+03  3.886453e+03  6.699998e-01       161   1\n"
     ]
    },
    {
     "name": "stdout",
     "output_type": "stream",
     "text": [
      "         8   3.119607e+03  3.886453e+03  7.489998e-01       184   1\n",
      "         9   3.192025e+03  3.886453e+03  8.460000e-01       207   1"
     ]
    },
    {
     "name": "stdout",
     "output_type": "stream",
     "text": [
      "\n",
      "        10   3.262902e+03  3.886453e+03  9.340000e-01       230   1\n",
      "        11   3.416185e+03  3.886453e+03  1.024000e+00       253   1\n"
     ]
    },
    {
     "name": "stdout",
     "output_type": "stream",
     "text": [
      "        12   3.460394e+03  3.886453e+03  1.096000e+00       276   1\n",
      "        13   3.634853e+03  3.886453e+03  1.187000e+00       299   1\n"
     ]
    },
    {
     "name": "stdout",
     "output_type": "stream",
     "text": [
      "        14   3.562509e+03  3.886453e+03  1.257000e+00       322   1\n",
      "        15   3.720554e+03  3.886453e+03  1.353000e+00       345   1\n"
     ]
    },
    {
     "name": "stdout",
     "output_type": "stream",
     "text": [
      "        16   3.793179e+03  3.886453e+03  1.444000e+00       368   1\n"
     ]
    },
    {
     "name": "stdout",
     "output_type": "stream",
     "text": [
      "        17   3.830549e+03  3.886453e+03  1.543000e+00       391   1\n",
      "        18   3.868030e+03  3.886453e+03  1.637000e+00       414   1\n"
     ]
    },
    {
     "name": "stdout",
     "output_type": "stream",
     "text": [
      "        19   3.855515e+03  3.886453e+03  1.721000e+00       437   1\n",
      "        20   3.874053e+03  3.886453e+03  1.811000e+00       460   1\n"
     ]
    },
    {
     "name": "stdout",
     "output_type": "stream",
     "text": [
      "        21   3.873083e+03  3.886453e+03  1.890000e+00       483   1\n",
      "        22   3.872674e+03  3.886453e+03  1.979000e+00       506   1\n"
     ]
    },
    {
     "name": "stdout",
     "output_type": "stream",
     "text": [
      "        23   3.889511e+03  3.886453e+03  2.067000e+00       529   1"
     ]
    },
    {
     "name": "stdout",
     "output_type": "stream",
     "text": [
      "\n",
      "        24   3.889769e+03  3.886453e+03  2.173000e+00       552   1"
     ]
    },
    {
     "name": "stdout",
     "output_type": "stream",
     "text": [
      "\n",
      "        25   3.881742e+03  3.886453e+03  2.326000e+00       575   1\n",
      "        26   3.898567e+03  3.886453e+03  2.409000e+00       598   1\n"
     ]
    },
    {
     "name": "stdout",
     "output_type": "stream",
     "text": [
      "        27   3.882306e+03  3.886453e+03  2.483000e+00       621   1\n",
      "        28   3.882340e+03  3.886453e+03  2.564000e+00       644   1\n"
     ]
    },
    {
     "name": "stdout",
     "output_type": "stream",
     "text": [
      "        29   3.882340e+03  3.886453e+03  2.636000e+00       667   1\n",
      "        30   3.890565e+03  3.886452e+03  2.721000e+00       690   1\n"
     ]
    },
    {
     "name": "stdout",
     "output_type": "stream",
     "text": [
      "        31   3.882340e+03  3.886452e+03  2.841000e+00       713   1\n",
      "        32   3.890565e+03  3.886452e+03  2.918000e+00       736   1\n"
     ]
    },
    {
     "name": "stdout",
     "output_type": "stream",
     "text": [
      "        33   3.898790e+03  3.886452e+03  2.992000e+00       759   1\n",
      "        34   3.898790e+03  3.886452e+03  3.084000e+00       782   1"
     ]
    },
    {
     "name": "stdout",
     "output_type": "stream",
     "text": [
      "\n",
      "        35   3.890565e+03  3.886452e+03  3.164000e+00       805   1\n",
      "        36   3.865890e+03  3.886452e+03  3.257000e+00       828   1\n"
     ]
    },
    {
     "name": "stdout",
     "output_type": "stream",
     "text": [
      "        37   3.857665e+03  3.886452e+03  3.351000e+00       851   1\n"
     ]
    },
    {
     "name": "stdout",
     "output_type": "stream",
     "text": [
      "        38   3.874115e+03  3.886452e+03  3.452000e+00       874   1\n"
     ]
    },
    {
     "name": "stdout",
     "output_type": "stream",
     "text": [
      "        39   3.882340e+03  3.886452e+03  3.561000e+00       897   1\n"
     ]
    },
    {
     "name": "stdout",
     "output_type": "stream",
     "text": [
      "        40   3.874115e+03  3.886452e+03  3.662000e+00       920   1"
     ]
    },
    {
     "name": "stdout",
     "output_type": "stream",
     "text": [
      "\n",
      "        41   3.882340e+03  3.886452e+03  3.781000e+00       943   1\n"
     ]
    },
    {
     "name": "stdout",
     "output_type": "stream",
     "text": [
      "        42   3.874115e+03  3.886452e+03  3.889000e+00       966   1\n"
     ]
    },
    {
     "name": "stdout",
     "output_type": "stream",
     "text": [
      "        43   3.874115e+03  3.886452e+03  3.994000e+00       989   1"
     ]
    },
    {
     "name": "stdout",
     "output_type": "stream",
     "text": [
      "\n",
      "        44   3.890565e+03  3.886452e+03  4.096000e+00      1012   1\n"
     ]
    },
    {
     "name": "stdout",
     "output_type": "stream",
     "text": [
      "        45   3.898790e+03  3.886452e+03  4.232000e+00      1035   1\n"
     ]
    },
    {
     "name": "stdout",
     "output_type": "stream",
     "text": [
      "        46   3.898790e+03  3.886452e+03  4.334000e+00      1058   1\n",
      "        47   3.882340e+03  3.886452e+03  4.425000e+00      1081   1\n"
     ]
    },
    {
     "name": "stdout",
     "output_type": "stream",
     "text": [
      "        48   3.898790e+03  3.886452e+03  4.503000e+00      1104   1\n"
     ]
    },
    {
     "name": "stdout",
     "output_type": "stream",
     "text": [
      "        49   3.882340e+03  3.886452e+03  4.609000e+00      1127   1\n",
      "        50   3.898790e+03  3.886452e+03  4.706000e+00      1150   1"
     ]
    },
    {
     "name": "stdout",
     "output_type": "stream",
     "text": [
      "\n",
      "        51   3.890565e+03  3.886452e+03  4.786000e+00      1173   1\n",
      "        52   3.865890e+03  3.886452e+03  4.885000e+00      1196   1\n"
     ]
    },
    {
     "name": "stdout",
     "output_type": "stream",
     "text": [
      "        53   3.865890e+03  3.886452e+03  4.971000e+00      1219   1\n"
     ]
    },
    {
     "name": "stdout",
     "output_type": "stream",
     "text": [
      "        54   3.882340e+03  3.886452e+03  5.098000e+00      1242   1\n"
     ]
    },
    {
     "name": "stdout",
     "output_type": "stream",
     "text": [
      "        55   3.882340e+03  3.886452e+03  5.211000e+00      1265   1\n"
     ]
    },
    {
     "name": "stdout",
     "output_type": "stream",
     "text": [
      "        56   3.890565e+03  3.886452e+03  5.325000e+00      1288   1\n"
     ]
    },
    {
     "name": "stdout",
     "output_type": "stream",
     "text": [
      "        57   3.890565e+03  3.886452e+03  5.485000e+00      1311   1"
     ]
    },
    {
     "name": "stdout",
     "output_type": "stream",
     "text": [
      "\n",
      "        58   3.890565e+03  3.886452e+03  5.589000e+00      1334   1\n"
     ]
    },
    {
     "name": "stdout",
     "output_type": "stream",
     "text": [
      "        59   3.874115e+03  3.886452e+03  5.691000e+00      1357   1\n"
     ]
    },
    {
     "name": "stdout",
     "output_type": "stream",
     "text": [
      "        60   3.882340e+03  3.886452e+03  5.840000e+00      1380 "
     ]
    },
    {
     "name": "stdout",
     "output_type": "stream",
     "text": [
      "  1\n",
      "        61   3.898790e+03  3.886452e+03  5.954000e+00      1403   1\n",
      "        62   3.890565e+03  3.886452e+03  6.043000e+00      1426   1\n"
     ]
    },
    {
     "name": "stdout",
     "output_type": "stream",
     "text": [
      "        63   3.915240e+03  3.886452e+03  6.126000e+00      1449   1\n",
      "        64   3.898790e+03  3.886452e+03  6.212000e+00      1472   1\n"
     ]
    },
    {
     "name": "stdout",
     "output_type": "stream",
     "text": [
      "        65   3.882340e+03  3.886452e+03  6.300000e+00      1495   1\n",
      "        66   3.865890e+03  3.886452e+03  6.397000e+00      1518   1"
     ]
    },
    {
     "name": "stdout",
     "output_type": "stream",
     "text": [
      "\n",
      "        67   3.890565e+03  3.886452e+03  6.491000e+00      1541   1\n"
     ]
    },
    {
     "name": "stdout",
     "output_type": "stream",
     "text": [
      "        68   3.890565e+03  3.886452e+03  6.595000e+00      1564   1\n"
     ]
    },
    {
     "name": "stdout",
     "output_type": "stream",
     "text": [
      "        69   3.874115e+03  3.886452e+03  6.703000e+00      1587   1\n"
     ]
    },
    {
     "name": "stdout",
     "output_type": "stream",
     "text": [
      "        70   3.874115e+03  3.886452e+03  6.812000e+00      1610   1\n"
     ]
    },
    {
     "name": "stdout",
     "output_type": "stream",
     "text": [
      "        71   3.890565e+03  3.886452e+03  6.923000e+00      1633   1\n"
     ]
    },
    {
     "name": "stdout",
     "output_type": "stream",
     "text": [
      "        72   3.890565e+03  3.886452e+03  7.029000e+00      1656   1\n"
     ]
    },
    {
     "name": "stdout",
     "output_type": "stream",
     "text": [
      "        73   3.865890e+03  3.886452e+03  7.177000e+00      1679   1"
     ]
    },
    {
     "name": "stdout",
     "output_type": "stream",
     "text": [
      "\n",
      "        74   3.882340e+03  3.886452e+03  7.280000e+00      1702   1\n"
     ]
    },
    {
     "name": "stdout",
     "output_type": "stream",
     "text": [
      "        75   3.898790e+03  3.886452e+03  7.385000e+00      1725   1\n"
     ]
    },
    {
     "name": "stdout",
     "output_type": "stream",
     "text": [
      "        76   3.907015e+03  3.886452e+03  7.485000e+00      1748   1\n"
     ]
    },
    {
     "name": "stdout",
     "output_type": "stream",
     "text": [
      "        77   3.882340e+03  3.886452e+03  7.592000e+00      1771   1\n"
     ]
    },
    {
     "name": "stdout",
     "output_type": "stream",
     "text": [
      "        78   3.898790e+03  3.886452e+03  7.695000e+00      1794   1\n",
      "        79   3.865890e+03  3.886452e+03  7.792000e+00      1817   1\n"
     ]
    },
    {
     "name": "stdout",
     "output_type": "stream",
     "text": [
      "        80   3.890565e+03  3.886452e+03  7.889000e+00      1840   1\n"
     ]
    },
    {
     "name": "stdout",
     "output_type": "stream",
     "text": [
      "        81   3.898790e+03  3.886452e+03  7.994000e+00      1863   1\n"
     ]
    },
    {
     "name": "stdout",
     "output_type": "stream",
     "text": [
      "        82   3.898790e+03  3.886452e+03  8.103000e+00      1886   1"
     ]
    },
    {
     "name": "stdout",
     "output_type": "stream",
     "text": [
      "\n",
      "        83   3.898790e+03  3.886452e+03  8.223000e+00      1909   1\n"
     ]
    },
    {
     "name": "stdout",
     "output_type": "stream",
     "text": [
      "        84   3.874115e+03  3.886452e+03  8.397000e+00      1932   1"
     ]
    },
    {
     "name": "stdout",
     "output_type": "stream",
     "text": [
      "\n",
      "        85   3.898790e+03  3.886452e+03  8.541000e+00      1955   1\n"
     ]
    },
    {
     "name": "stdout",
     "output_type": "stream",
     "text": [
      "        86   3.882340e+03  3.886452e+03  8.643000e+00      1978   1"
     ]
    },
    {
     "name": "stdout",
     "output_type": "stream",
     "text": [
      "\n",
      "        87   3.874115e+03  3.886452e+03  8.748000e+00      2001   1\n"
     ]
    },
    {
     "name": "stdout",
     "output_type": "stream",
     "text": [
      "        88   3.882340e+03  3.886452e+03  8.872000e+00      2024   1\n"
     ]
    },
    {
     "name": "stdout",
     "output_type": "stream",
     "text": [
      "        89   3.882340e+03  3.886452e+03  8.986000e+00      2047   1"
     ]
    },
    {
     "name": "stdout",
     "output_type": "stream",
     "text": [
      "\n",
      "        90   3.898790e+03  3.886452e+03  9.099000e+00      2070   1"
     ]
    },
    {
     "name": "stdout",
     "output_type": "stream",
     "text": [
      "\n",
      "        91   3.882340e+03  3.886452e+03  9.221000e+00      2093   1\n"
     ]
    },
    {
     "name": "stdout",
     "output_type": "stream",
     "text": [
      "        92   3.874115e+03  3.886452e+03  9.340000e+00      2116   1"
     ]
    },
    {
     "name": "stdout",
     "output_type": "stream",
     "text": [
      "\n",
      "        93   3.874115e+03  3.886452e+03  9.464000e+00      2139   1\n"
     ]
    },
    {
     "name": "stdout",
     "output_type": "stream",
     "text": [
      "        94   3.898790e+03  3.886452e+03  9.586000e+00      2162   1"
     ]
    },
    {
     "name": "stdout",
     "output_type": "stream",
     "text": [
      "\n",
      "        95   3.882340e+03  3.886452e+03  9.752000e+00      2185   1\n"
     ]
    },
    {
     "name": "stdout",
     "output_type": "stream",
     "text": [
      "        96   3.882340e+03  3.886452e+03  9.861000e+00      2208   1\n"
     ]
    },
    {
     "name": "stdout",
     "output_type": "stream",
     "text": [
      "        97   3.890565e+03  3.886452e+03  9.969000e+00      2231   1\n"
     ]
    },
    {
     "name": "stdout",
     "output_type": "stream",
     "text": [
      "        98   3.890565e+03  3.886452e+03  1.007900e+01      2254   1\n"
     ]
    },
    {
     "name": "stdout",
     "output_type": "stream",
     "text": [
      "        99   3.898790e+03  3.886452e+03  1.019400e+01      2277   1\n"
     ]
    },
    {
     "name": "stdout",
     "output_type": "stream",
     "text": [
      "       100   3.898790e+03  3.886452e+03  1.031100e+01      2300   1\n",
      "-------------------------------------------------------------------\n",
      "status         : iteration_limit\n",
      "total time (s) : 1.031100e+01\n",
      "total solves   : 2300\n",
      "best bound     :  3.886452e+03\n",
      "simulation ci  :  3.652891e+03 ± 1.757748e+02\n",
      "numeric issues : 0\n",
      "-------------------------------------------------------------------\n",
      "\n"
     ]
    }
   ],
   "source": [
    "SDDP.train(model; iteration_limit = 100)"
   ]
  },
  {
   "cell_type": "markdown",
   "metadata": {},
   "source": [
    "### Obtain the Bidding and Nomination Decisions"
   ]
  },
  {
   "cell_type": "code",
   "execution_count": 115,
   "metadata": {},
   "outputs": [
    {
     "name": "stdout",
     "output_type": "stream",
     "text": [
      "SDDP.State{Float64}[SDDP.State{Float64}(0.0, 0.0) SDDP.State{Float64}(0.0, 0.0) SDDP.State{Float64}(0.0, 0.0) SDDP.State{Float64}(0.0, 0.0) SDDP.State{Float64}(0.0, 50.0) SDDP.State{Float64}(0.0, 0.0) SDDP.State{Float64}(0.0, 0.0) SDDP.State{Float64}(0.0, 50.0) SDDP.State{Float64}(0.0, 0.0) SDDP.State{Float64}(0.0, 0.0) SDDP.State{Float64}(0.0, 0.0) SDDP.State{Float64}(0.0, 50.0) SDDP.State{Float64}(0.0, 0.0) SDDP.State{Float64}(0.0, 50.0) SDDP.State{Float64}(0.0, 0.0) SDDP.State"
     ]
    },
    {
     "name": "stdout",
     "output_type": "stream",
     "text": [
      "{Float64}(0.0, 50.0) SDDP.State{Float64}(0.0, 50.0) SDDP.State{Float64}(0.0, 50.0) SDDP.State{Float64}(0.0, 0.0) SDDP.State{Float64}(0.0, 50.0) SDDP.State{Float64}(0.0, 0.0) SDDP.State{Float64}(0.0, 0.0) SDDP.State{Float64}(0.0, 50.0) SDDP.State{Float64}(0.0, 0.0); SDDP.State{Float64}(0.0, 50.0) SDDP.State{Float64}(0.0, 50.0) SDDP.State{Float64}(0.0, 0.0) SDDP.State{Float64}(0.0, 50.0) SDDP.State{Float64}(0.0, 50.0) SDDP.State{Float64}(0.0, 0.0) SDDP.State{Float64}(0.0, 0.0) SDDP.State{Float64}(0.0, 50.0) SDDP.State{Float64}(0.0, 0.0) SDDP.State{Float64}(0.0, 0.0) SDDP.State{Float64}(0.0, 50.0) SDDP.State{Float64}(0.0, 50.0) SDDP.State{Float64}(0.0, 0.0) SDDP.State{Float64}(0.0, 50.0) SDDP.State{Float64}(0.0, 0.0) SDDP.State{Float64}(0.0, 50.0) SDDP.State{Float64}(0.0, 50.0) SDDP.State{Float64}(0.0, 50.0) SDDP.State{Float64}(0.0, 0.0) SDDP.State{Float64}(0.0, 50.0) SDDP.State{Float64}(0.0, 50.0) SDDP.State{Float64}(0.0, 50.0) SDDP.State{Float64}(0.0, 50.0) SDDP.State{Float64}(0.0, 0.0); SDDP.State{Float64}(0.0, 50.0) SDDP.State{Float64}(0.0, 50.0) SDDP.State{Float64}(0.0, 50.0) SDDP.State{Float64}(0.0, 50.0) SDDP.State{Float64}(0.0, 50.0) SDDP.State{Float64}(0.0, 50.0) SDDP.State{Float64}(0.0, 50.0) SDDP.State{Float64}(0.0, 50.0) SDDP.State{Float64}(0.0, 50.0) SDDP.State{Float64}(0.0, 50.0) SDDP.State{Float64}(0.0, 50.0) SDDP.State{Float64}(0.0, 50.0) SDDP.State{Float64}(0.0, 50.0) SDDP.State{Float64}(0.0, 50.0) SDDP.State{Float64}(0.0, 50.0) SDDP.State{Float64}(0.0, 50.0) SDDP.State{Float64}(0.0, 50.0) SDDP.State{Float64}(0.0, 50.0) SDDP.State{Float64}(0.0, 50.0) SDDP.State{Float64}(0.0, 50.0) SDDP.State{Float64}(0.0, 50.0) SDDP.State{Float64}(0.0, 50.0) SDDP.State{Float64}(0.0, 50.0) SDDP.State{Float64}(0.0, 50.0); SDDP.State{Float64}(0.0, 50.0) SDDP.State{Float64}(0.0, 50.0) SDDP.State{Float64}(0.0, 50.0) SDDP.State{Float64}(0.0, 50.0) SDDP.State{Float64}(0.0, 50.0) SDDP.State{Float64}(0.0, 50.0) SDDP.State{Float64}(0.0, 50.0) SDDP.State{Float64}(0.0, 50.0) SDDP.State{Float64}(0.0, 50.0) SDDP.State{Float64}(0.0, 50.0) SDDP.State{Float64}(0.0, 50.0) SDDP.State{Float64}(0.0, 50.0) SDDP.State{Float64}(0.0, 50.0) SDDP.State{Float64}(0.0, 50.0) SDDP.State{Float64}(0.0, 50.0) SDDP.State{Float64}(0.0, 50.0) SDDP.State{Float64}(0.0, 50.0) SDDP.State{Float64}(0.0, 50.0) SDDP.State{Float64}(0.0, 50.0) SDDP.State{Float64}(0.0, 50.0) SDDP.State{Float64}(0.0, 50.0) SDDP.State{Float64}(0.0, 50.0) SDDP.State{Float64}(0.0, 50.0) SDDP.State{Float64}(0.0, 50.0); SDDP.State{Float64}(0.0, 50.0) SDDP.State{Float64}(0.0, 50.0) SDDP.State{Float64}(0.0, 50.0) SDDP.State{Float64}(0.0, 50.0) SDDP.State{Float64}(0.0, 50.0) SDDP.State{Float64}(0.0, 50.0) SDDP.State{Float64}(0.0, 50.0) SDDP.State{Float64}(0.0, 50.0) SDDP.State{Float64}(0.0, 50.0) SDDP.State{Float64}(0.0, 50.0) SDDP.State{Float64}(0.0, 50.0) SDDP.State{Float64}(0.0, 50.0) SDDP.State{Float64}(0.0, 50.0) SDDP.State{Float64}(0.0, 50.0) SDDP.State{Float64}(0.0, 50.0) SDDP.State{Float64}(0.0, "
     ]
    },
    {
     "name": "stdout",
     "output_type": "stream",
     "text": [
      "50.0) SDDP.State{Float64}(0.0, 50.0) SDDP.State{Float64}(0.0, 50.0) SDDP.State{Float64}(0.0, 50.0) SDDP.State{Float64}(0.0, 50.0) SDDP.State{Float64}(0.0, 50.0) SDDP.State{Float64}(0.0, 50.0) SDDP.State{Float64}(0.0, 50.0) SDDP.State{Float64}(0.0, 50.0); SDDP.State{Float64}(0.0, 50.0) SDDP.State{Float64}(0.0, 50.0) SDDP.State{Float64}(0.0, 50.0) SDDP.State{Float64}(0.0, 50.0) SDDP.State{Float64}(0.0, 50.0) SDDP.State{Float64}(0.0, 50.0) SDDP.State{Float64}(0.0, 50.0) SDDP.State{Float64}(0.0, 50.0) SDDP.State{Float64}(0.0, 50.0) SDDP.State{Float64}(0.0, 50.0) SDDP.State{Float64}(0.0, 50.0) SDDP.State{Float64}(0.0, 50.0) SDDP.State{Float64}(0.0, 50.0) SDDP.State{Float64}(0.0, 50.0) SDDP.State{Float64}(0.0, 50.0) SDDP.State{Float64}(0.0, 50.0) SDDP.State{Float64}(0.0, 50.0) SDDP.State{Float64}(0.0, 50.0) SDDP.State{Float64}(0.0, 50.0) SDDP.State{Float64}(0.0, 50.0) SDDP.State{Float64}(0.0, 50.0) SDDP.State{Float64}(0.0, 50.0) SDDP.State{Float64}(0.0, 50.0) SDDP.State{Float64}(0.0, 50.0)]\n",
      "SDDP.State{Float64}(35000.0, 35000.0)"
     ]
    }
   ],
   "source": [
    "rule = SDDP.DecisionRule(model; node = 1)\n",
    "solution = SDDP.evaluate(\n",
    "    rule;\n",
    "    incoming_state = Dict(:l => res.currentvolume),\n",
    "    #incoming_state = merge(Dict(Symbol(\"l_real[$(r)]\") => r.currentvolume for r in res), Dict(Symbol(\"l_ind[$(r)]\") => r.currentvolume for r in res)),\n",
    "    controls_to_record = [:Q, :y, :x, :l]\n",
    ")\n",
    "println(solution.controls[:x])\n",
    "print(solution.controls[:l])"
   ]
  },
  {
   "cell_type": "code",
   "execution_count": 123,
   "metadata": {},
   "outputs": [
    {
     "data": {
      "text/plain": [
       "100-element Vector{Vector{Dict{Symbol, Any}}}:\n",
       " [Dict(:b => [0.0 0.0 … 0.0 0.0; 0.0 0.0 … 0.0 0.0; … ; 0.0 0.0 … 0.0 0.0; 0.0 0.0 … 0.0 0.0], :l => SDDP.State{Float64}(35000.0, 35000.0), :w => [0.0 0.0 … 0.0 0.0; 0.0 0.0 … 0.0 0.0; … ; 0.0 0.0 … 0.0 0.0; 0.0 0.0 … 0.0 0.0], :bellman_term => 3886.4524999999994, :node_index => 1, :objective_state => nothing, :belief => Dict(1 => 1.0), :x => SDDP.State{Float64}[SDDP.State{Float64}(0.0, 0.0) SDDP.State{Float64}(0.0, 0.0) … SDDP.State{Float64}(0.0, 50.0) SDDP.State{Float64}(0.0, 0.0); SDDP.State{Float64}(0.0, 50.0) SDDP.State{Float64}(0.0, 50.0) … SDDP.State{Float64}(0.0, 50.0) SDDP.State{Float64}(0.0, 0.0); … ; SDDP.State{Float64}(0.0, 50.0) SDDP.State{Float64}(0.0, 50.0) … SDDP.State{Float64}(0.0, 50.0) SDDP.State{Float64}(0.0, 50.0); SDDP.State{Float64}(0.0, 50.0) SDDP.State{Float64}(0.0, 50.0) … SDDP.State{Float64}(0.0, 50.0) SDDP.State{Float64}(0.0, 50.0)], :stage_objective => 0, :Q => [0.0 0.0 … 0.0 0.0; 0.0 0.0 … 0.0 0.0; … ; 0.0 0.0 … 0.0 0.0; 0.0 0.0 … 0.0 0.0]…), Dict(:b => [0.0 0.0 … 0.0 0.0; 0.0 0.0 … 0.0 0.0; … ; 0.0 0.0 … 0.0 0.0; 0.0 0.0 … 0.0 0.0], :l => SDDP.State{Float64}(35000.0, 31369.032258064544), :w => [0.0 0.0 … 0.0 0.0; 50.0 50.00000000000001 … 0.0 0.0; … ; 0.0 0.0 … 49.99999999999999 0.0; 0.0 0.0 … 0.0 0.0], :bellman_term => 3331.245000000001, :node_index => 2, :objective_state => nothing, :belief => Dict(2 => 1.0), :x => SDDP.State{Float64}[SDDP.State{Float64}(0.0, 0.0) SDDP.State{Float64}(0.0, 0.0) … SDDP.State{Float64}(50.0, 50.0) SDDP.State{Float64}(0.0, 0.0); SDDP.State{Float64}(50.0, 50.0) SDDP.State{Float64}(50.0, 50.0) … SDDP.State{Float64}(50.0, 50.0) SDDP.State{Float64}(0.0, 0.0); … ; SDDP.State{Float64}(50.0, 50.0) SDDP.State{Float64}(50.0, 50.0) … SDDP.State{Float64}(50.0, 50.0) SDDP.State{Float64}(50.0, 50.0); SDDP.State{Float64}(50.0, 50.0) SDDP.State{Float64}(50.0, 50.0) … SDDP.State{Float64}(50.0, 50.0) SDDP.State{Float64}(50.0, 50.0)], :stage_objective => 551.095, :Q => [0.0 0.0 … 0.0 0.0; 161.29032258064518 161.2903225806452 … 0.0 0.0; … ; 0.0 0.0 … 161.29032258064515 0.0; 0.0 0.0 … 0.0 0.0]…), Dict(:b => [0.0 0.0 … 0.0 0.0; 0.0 0.0 … 0.0 0.0; … ; 0.0 0.0 … 0.0 0.0; 0.0 0.0 … 0.0 0.0], :l => SDDP.State{Float64}(31369.032258064544, 27738.06451612909), :w => [0.0 0.0 … 0.0 0.0; 50.0 50.00000000000001 … 0.0 0.0; … ; 0.0 0.0 … 49.99999999999999 0.0; 0.0 0.0 … 0.0 0.0], :bellman_term => 2776.0375000000004, :node_index => 3, :objective_state => nothing, :belief => Dict(3 => 1.0), :x => SDDP.State{Float64}[SDDP.State{Float64}(0.0, 0.0) SDDP.State{Float64}(0.0, 0.0) … SDDP.State{Float64}(50.0, 50.0) SDDP.State{Float64}(0.0, 0.0); SDDP.State{Float64}(50.0, 50.0) SDDP.State{Float64}(50.0, 50.0) … SDDP.State{Float64}(50.0, 50.0) SDDP.State{Float64}(0.0, 0.0); … ; SDDP.State{Float64}(50.0, 50.0) SDDP.State{Float64}(50.0, 50.0) … SDDP.State{Float64}(50.0, 50.0) SDDP.State{Float64}(50.0, 50.0); SDDP.State{Float64}(50.0, 50.0) SDDP.State{Float64}(50.0, 50.0) … SDDP.State{Float64}(50.0, 50.0) SDDP.State{Float64}(50.0, 50.0)], :stage_objective => 551.095, :Q => [0.0 0.0 … 0.0 0.0; 161.29032258064518 161.2903225806452 … 0.0 0.0; … ; 0.0 0.0 … 161.29032258064515 0.0; 0.0 0.0 … 0.0 0.0]…), Dict(:b => [0.0 0.0 … 0.0 0.0; 0.0 0.0 … 0.0 0.0; … ; 0.0 0.0 … 0.0 0.0; 0.0 0.0 … 0.0 0.0], :l => SDDP.State{Float64}(27738.06451612909, 24107.096774193633), :w => [0.0 0.0 … 0.0 0.0; 50.0 50.00000000000001 … 0.0 0.0; … ; 0.0 0.0 … 49.99999999999999 0.0; 0.0 0.0 … 0.0 0.0], :bellman_term => 2220.829999999999, :node_index => 4, :objective_state => nothing, :belief => Dict(4 => 1.0), :x => SDDP.State{Float64}[SDDP.State{Float64}(0.0, 0.0) SDDP.State{Float64}(0.0, 0.0) … SDDP.State{Float64}(50.0, 50.0) SDDP.State{Float64}(0.0, 0.0); SDDP.State{Float64}(50.0, 50.0) SDDP.State{Float64}(50.0, 50.0) … SDDP.State{Float64}(50.0, 50.0) SDDP.State{Float64}(0.0, 0.0); … ; SDDP.State{Float64}(50.0, 50.0) SDDP.State{Float64}(50.0, 50.0) … SDDP.State{Float64}(50.0, 50.0) SDDP.State{Float64}(50.0, 50.0); SDDP.State{Float64}(50.0, 50.0) SDDP.State{Float64}(50.0, 50.0) … SDDP.State{Float64}(50.0, 50.0) SDDP.State{Float64}(50.0, 50.0)], :stage_objective => 551.095, :Q => [0.0 0.0 … 0.0 0.0; 161.29032258064518 161.2903225806452 … 0.0 0.0; … ; 0.0 0.0 … 161.29032258064515 0.0; 0.0 0.0 … 0.0 0.0]…), Dict(:b => [0.0 0.0 … 0.0 0.0; 0.0 0.0 … 0.0 0.0; … ; 0.0 0.0 … 0.0 0.0; 0.0 0.0 … 0.0 0.0], :l => SDDP.State{Float64}(24107.096774193633, 20476.129032258177), :w => [0.0 0.0 … 50.0 0.0; 0.0 0.0 … 0.0 0.0; … ; 0.0 50.0 … 0.0 50.0; 0.0 0.0 … 0.0 0.0], :bellman_term => 1665.6224999999986, :node_index => 5, :objective_state => nothing, :belief => Dict(5 => 1.0), :x => SDDP.State{Float64}[SDDP.State{Float64}(0.0, 0.0) SDDP.State{Float64}(0.0, 0.0) … SDDP.State{Float64}(50.0, 50.0) SDDP.State{Float64}(0.0, 0.0); SDDP.State{Float64}(50.0, 50.0) SDDP.State{Float64}(50.0, 50.0) … SDDP.State{Float64}(50.0, 50.0) SDDP.State{Float64}(0.0, 0.0); … ; SDDP.State{Float64}(50.0, 50.0) SDDP.State{Float64}(50.0, 50.0) … SDDP.State{Float64}(50.0, 50.0) SDDP.State{Float64}(50.0, 50.0); SDDP.State{Float64}(50.0, 50.0) SDDP.State{Float64}(50.0, 50.0) … SDDP.State{Float64}(50.0, 50.0) SDDP.State{Float64}(50.0, 50.0)], :stage_objective => 559.32, :Q => [0.0 0.0 … 161.29032258064518 0.0; 0.0 0.0 … 0.0 0.0; … ; 0.0 161.29032258064518 … 0.0 161.29032258064518; 0.0 0.0 … 0.0 0.0]…), Dict(:b => [0.0 0.0 … 0.0 0.0; 0.0 0.0 … 0.0 0.0; … ; 0.0 0.0 … 0.0 0.0; 0.0 0.0 … 0.0 0.0], :l => SDDP.State{Float64}(20476.129032258177, 16845.16129032272), :w => [0.0 0.0 … 50.0 0.0; 0.0 0.0 … 0.0 0.0; … ; 0.0 50.0 … 0.0 50.0; 0.0 0.0 … 0.0 0.0], :bellman_term => 1110.414999999999, :node_index => 6, :objective_state => nothing, :belief => Dict(6 => 1.0), :x => SDDP.State{Float64}[SDDP.State{Float64}(0.0, 0.0) SDDP.State{Float64}(0.0, 0.0) … SDDP.State{Float64}(50.0, 50.0) SDDP.State{Float64}(0.0, 0.0); SDDP.State{Float64}(50.0, 50.0) SDDP.State{Float64}(50.0, 50.0) … SDDP.State{Float64}(50.0, 50.0) SDDP.State{Float64}(0.0, 0.0); … ; SDDP.State{Float64}(50.0, 50.0) SDDP.State{Float64}(50.0, 50.0) … SDDP.State{Float64}(50.0, 50.0) SDDP.State{Float64}(50.0, 50.0); SDDP.State{Float64}(50.0, 50.0) SDDP.State{Float64}(50.0, 50.0) … SDDP.State{Float64}(50.0, 50.0) SDDP.State{Float64}(50.0, 50.0)], :stage_objective => 559.32, :Q => [0.0 0.0 … 161.29032258064518 0.0; 0.0 0.0 … 0.0 0.0; … ; 0.0 161.29032258064518 … 0.0 161.29032258064518; 0.0 0.0 … 0.0 0.0]…), Dict(:b => [0.0 0.0 … 0.0 0.0; 0.0 0.0 … 0.0 0.0; … ; 0.0 0.0 … 0.0 0.0; 0.0 0.0 … 0.0 0.0], :l => SDDP.State{Float64}(16845.16129032272, 3630.967741935484), :w => [0.0 0.0 … 0.0 0.0; 50.0 50.00000000000001 … 0.0 0.0; … ; 0.0 0.0 … 49.99999999999999 0.0; 0.0 0.0 … 0.0 0.0], :bellman_term => 555.2075, :node_index => 7, :objective_state => nothing, :belief => Dict(7 => 1.0), :x => SDDP.State{Float64}[SDDP.State{Float64}(0.0, 0.0) SDDP.State{Float64}(0.0, 0.0) … SDDP.State{Float64}(50.0, 50.0) SDDP.State{Float64}(0.0, 0.0); SDDP.State{Float64}(50.0, 50.0) SDDP.State{Float64}(50.0, 50.0) … SDDP.State{Float64}(50.0, 50.0) SDDP.State{Float64}(0.0, 0.0); … ; SDDP.State{Float64}(50.0, 50.0) SDDP.State{Float64}(50.0, 50.0) … SDDP.State{Float64}(50.0, 50.0) SDDP.State{Float64}(50.0, 50.0); SDDP.State{Float64}(50.0, 50.0) SDDP.State{Float64}(50.0, 50.0) … SDDP.State{Float64}(50.0, 50.0) SDDP.State{Float64}(50.0, 50.0)], :stage_objective => 551.095, :Q => [0.0 0.0 … 0.0 0.0; 161.29032258064518 161.2903225806452 … 0.0 0.0; … ; 0.0 0.0 … 161.29032258064515 0.0; 0.0 0.0 … 0.0 0.0]…), Dict(:b => [0.0 0.0 … 0.0 0.0; 0.0 0.0 … 0.0 0.0; … ; 0.0 0.0 … 0.0 0.0; 0.0 0.0 … 0.0 0.0], :l => SDDP.State{Float64}(3630.967741935484, -1.8189894035458565e-12), :w => [0.0 0.0 … 0.0 0.0; 50.0 50.00000000000001 … 0.0 0.0; … ; 0.0 0.0 … 49.99999999999999 0.0; 0.0 0.0 … 0.0 0.0], :bellman_term => 0.0, :node_index => 8, :objective_state => nothing, :belief => Dict(8 => 1.0), :x => SDDP.State{Float64}[SDDP.State{Float64}(0.0, 0.0) SDDP.State{Float64}(0.0, 0.0) … SDDP.State{Float64}(50.0, 0.0) SDDP.State{Float64}(0.0, 0.0); SDDP.State{Float64}(50.0, 0.0) SDDP.State{Float64}(50.0, 0.0) … SDDP.State{Float64}(50.0, 0.0) SDDP.State{Float64}(0.0, 0.0); … ; SDDP.State{Float64}(50.0, 50.0) SDDP.State{Float64}(50.0, 50.0) … SDDP.State{Float64}(50.0, 50.0) SDDP.State{Float64}(50.0, 50.0); SDDP.State{Float64}(50.0, 50.0) SDDP.State{Float64}(50.0, 50.0) … SDDP.State{Float64}(50.0, 50.0) SDDP.State{Float64}(50.0, 50.0)], :stage_objective => 551.095, :Q => [0.0 0.0 … 0.0 0.0; 161.29032258064518 161.2903225806452 … 0.0 0.0; … ; 0.0 0.0 … 161.29032258064515 0.0; 0.0 0.0 … 0.0 0.0]…)]\n",
       " [Dict(:b => [0.0 0.0 … 0.0 0.0; 0.0 0.0 … 0.0 0.0; … ; 0.0 0.0 … 0.0 0.0; 0.0 0.0 … 0.0 0.0], :l => SDDP.State{Float64}(35000.0, 35000.0), :w => [0.0 0.0 … 0.0 0.0; 0.0 0.0 … 0.0 0.0; … ; 0.0 0.0 … 0.0 0.0; 0.0 0.0 … 0.0 0.0], :bellman_term => 3886.4524999999994, :node_index => 1, :objective_state => nothing, :belief => Dict(1 => 1.0), :x => SDDP.State{Float64}[SDDP.State{Float64}(0.0, 0.0) SDDP.State{Float64}(0.0, 0.0) … SDDP.State{Float64}(0.0, 50.0) SDDP.State{Float64}(0.0, 0.0); SDDP.State{Float64}(0.0, 50.0) SDDP.State{Float64}(0.0, 50.0) … SDDP.State{Float64}(0.0, 50.0) SDDP.State{Float64}(0.0, 0.0); … ; SDDP.State{Float64}(0.0, 50.0) SDDP.State{Float64}(0.0, 50.0) … SDDP.State{Float64}(0.0, 50.0) SDDP.State{Float64}(0.0, 50.0); SDDP.State{Float64}(0.0, 50.0) SDDP.State{Float64}(0.0, 50.0) … SDDP.State{Float64}(0.0, 50.0) SDDP.State{Float64}(0.0, 50.0)], :stage_objective => 0, :Q => [0.0 0.0 … 0.0 0.0; 0.0 0.0 … 0.0 0.0; … ; 0.0 0.0 … 0.0 0.0; 0.0 0.0 … 0.0 0.0]…), Dict(:b => [0.0 0.0 … 0.0 0.0; 0.0 0.0 … 0.0 0.0; … ; 0.0 0.0 … 0.0 0.0; 0.0 0.0 … 0.0 0.0], :l => SDDP.State{Float64}(35000.0, 31369.032258064544), :w => [0.0 0.0 … 0.0 0.0; 50.0 50.00000000000001 … 0.0 0.0; … ; 0.0 0.0 … 49.99999999999999 0.0; 0.0 0.0 … 0.0 0.0], :bellman_term => 3331.245000000001, :node_index => 2, :objective_state => nothing, :belief => Dict(2 => 1.0), :x => SDDP.State{Float64}[SDDP.State{Float64}(0.0, 0.0) SDDP.State{Float64}(0.0, 0.0) … SDDP.State{Float64}(50.0, 50.0) SDDP.State{Float64}(0.0, 0.0); SDDP.State{Float64}(50.0, 50.0) SDDP.State{Float64}(50.0, 50.0) … SDDP.State{Float64}(50.0, 50.0) SDDP.State{Float64}(0.0, 0.0); … ; SDDP.State{Float64}(50.0, 50.0) SDDP.State{Float64}(50.0, 50.0) … SDDP.State{Float64}(50.0, 50.0) SDDP.State{Float64}(50.0, 50.0); SDDP.State{Float64}(50.0, 50.0) SDDP.State{Float64}(50.0, 50.0) … SDDP.State{Float64}(50.0, 50.0) SDDP.State{Float64}(50.0, 50.0)], :stage_objective => 551.095, :Q => [0.0 0.0 … 0.0 0.0; 161.29032258064518 161.2903225806452 … 0.0 0.0; … ; 0.0 0.0 … 161.29032258064515 0.0; 0.0 0.0 … 0.0 0.0]…), Dict(:b => [0.0 0.0 … 0.0 0.0; 0.0 0.0 … 0.0 0.0; … ; 0.0 0.0 … 0.0 0.0; 0.0 0.0 … 0.0 0.0], :l => SDDP.State{Float64}(31369.032258064544, 27738.06451612909), :w => [0.0 0.0 … 0.0 0.0; 50.0 50.00000000000001 … 0.0 0.0; … ; 0.0 0.0 … 49.99999999999999 0.0; 0.0 0.0 … 0.0 0.0], :bellman_term => 2776.0375000000004, :node_index => 3, :objective_state => nothing, :belief => Dict(3 => 1.0), :x => SDDP.State{Float64}[SDDP.State{Float64}(0.0, 0.0) SDDP.State{Float64}(0.0, 0.0) … SDDP.State{Float64}(50.0, 50.0) SDDP.State{Float64}(0.0, 0.0); SDDP.State{Float64}(50.0, 50.0) SDDP.State{Float64}(50.0, 50.0) … SDDP.State{Float64}(50.0, 50.0) SDDP.State{Float64}(0.0, 0.0); … ; SDDP.State{Float64}(50.0, 50.0) SDDP.State{Float64}(50.0, 50.0) … SDDP.State{Float64}(50.0, 50.0) SDDP.State{Float64}(50.0, 50.0); SDDP.State{Float64}(50.0, 50.0) SDDP.State{Float64}(50.0, 50.0) … SDDP.State{Float64}(50.0, 50.0) SDDP.State{Float64}(50.0, 50.0)], :stage_objective => 551.095, :Q => [0.0 0.0 … 0.0 0.0; 161.29032258064518 161.2903225806452 … 0.0 0.0; … ; 0.0 0.0 … 161.29032258064515 0.0; 0.0 0.0 … 0.0 0.0]…), Dict(:b => [0.0 0.0 … 0.0 0.0; 0.0 0.0 … 0.0 0.0; … ; 0.0 0.0 … 0.0 0.0; 0.0 0.0 … 0.0 0.0], :l => SDDP.State{Float64}(27738.06451612909, 24107.096774193633), :w => [0.0 0.0 … 0.0 0.0; 50.0 50.00000000000001 … 0.0 0.0; … ; 0.0 0.0 … 49.99999999999999 0.0; 0.0 0.0 … 0.0 0.0], :bellman_term => 2220.829999999999, :node_index => 4, :objective_state => nothing, :belief => Dict(4 => 1.0), :x => SDDP.State{Float64}[SDDP.State{Float64}(0.0, 0.0) SDDP.State{Float64}(0.0, 0.0) … SDDP.State{Float64}(50.0, 50.0) SDDP.State{Float64}(0.0, 0.0); SDDP.State{Float64}(50.0, 50.0) SDDP.State{Float64}(50.0, 50.0) … SDDP.State{Float64}(50.0, 50.0) SDDP.State{Float64}(0.0, 0.0); … ; SDDP.State{Float64}(50.0, 50.0) SDDP.State{Float64}(50.0, 50.0) … SDDP.State{Float64}(50.0, 50.0) SDDP.State{Float64}(50.0, 50.0); SDDP.State{Float64}(50.0, 50.0) SDDP.State{Float64}(50.0, 50.0) … SDDP.State{Float64}(50.0, 50.0) SDDP.State{Float64}(50.0, 50.0)], :stage_objective => 551.095, :Q => [0.0 0.0 … 0.0 0.0; 161.29032258064518 161.2903225806452 … 0.0 0.0; … ; 0.0 0.0 … 161.29032258064515 0.0; 0.0 0.0 … 0.0 0.0]…), Dict(:b => [0.0 0.0 … 0.0 0.0; 0.0 0.0 … 0.0 0.0; … ; 0.0 0.0 … 0.0 0.0; 0.0 0.0 … 0.0 0.0], :l => SDDP.State{Float64}(24107.096774193633, 20476.129032258177), :w => [0.0 0.0 … 50.0 0.0; 0.0 0.0 … 0.0 0.0; … ; 0.0 50.0 … 0.0 50.0; 0.0 0.0 … 0.0 0.0], :bellman_term => 1665.622499999999, :node_index => 5, :objective_state => nothing, :belief => Dict(5 => 1.0), :x => SDDP.State{Float64}[SDDP.State{Float64}(0.0, 0.0) SDDP.State{Float64}(0.0, 0.0) … SDDP.State{Float64}(50.0, 50.0) SDDP.State{Float64}(0.0, 0.0); SDDP.State{Float64}(50.0, 50.0) SDDP.State{Float64}(50.0, 50.0) … SDDP.State{Float64}(50.0, 50.0) SDDP.State{Float64}(0.0, 0.0); … ; SDDP.State{Float64}(50.0, 50.0) SDDP.State{Float64}(50.0, 50.0) … SDDP.State{Float64}(50.0, 50.0) SDDP.State{Float64}(50.0, 50.0); SDDP.State{Float64}(50.0, 50.0) SDDP.State{Float64}(50.0, 50.0) … SDDP.State{Float64}(50.0, 50.0) SDDP.State{Float64}(50.0, 50.0)], :stage_objective => 559.32, :Q => [0.0 0.0 … 161.29032258064518 0.0; 0.0 0.0 … 0.0 0.0; … ; 0.0 161.29032258064518 … 0.0 161.29032258064518; 0.0 0.0 … 0.0 0.0]…), Dict(:b => [0.0 0.0 … 0.0 0.0; 0.0 0.0 … 0.0 0.0; … ; 0.0 0.0 … 0.0 0.0; 0.0 0.0 … 0.0 0.0], :l => SDDP.State{Float64}(20476.129032258177, 16845.16129032272), :w => [0.0 0.0 … 0.0 0.0; 50.0 50.00000000000001 … 0.0 0.0; … ; 0.0 0.0 … 49.99999999999999 0.0; 0.0 0.0 … 0.0 0.0], :bellman_term => 1110.414999999999, :node_index => 6, :objective_state => nothing, :belief => Dict(6 => 1.0), :x => SDDP.State{Float64}[SDDP.State{Float64}(0.0, 0.0) SDDP.State{Float64}(0.0, 0.0) … SDDP.State{Float64}(50.0, 50.0) SDDP.State{Float64}(0.0, 0.0); SDDP.State{Float64}(50.0, 50.0) SDDP.State{Float64}(50.0, 50.0) … SDDP.State{Float64}(50.0, 50.0) SDDP.State{Float64}(0.0, 0.0); … ; SDDP.State{Float64}(50.0, 50.0) SDDP.State{Float64}(50.0, 50.0) … SDDP.State{Float64}(50.0, 50.0) SDDP.State{Float64}(50.0, 50.0); SDDP.State{Float64}(50.0, 50.0) SDDP.State{Float64}(50.0, 50.0) … SDDP.State{Float64}(50.0, 50.0) SDDP.State{Float64}(50.0, 50.0)], :stage_objective => 551.095, :Q => [0.0 0.0 … 0.0 0.0; 161.29032258064518 161.2903225806452 … 0.0 0.0; … ; 0.0 0.0 … 161.29032258064515 0.0; 0.0 0.0 … 0.0 0.0]…), Dict(:b => [0.0 0.0 … 0.0 0.0; 0.0 0.0 … 0.0 0.0; … ; 0.0 0.0 … 0.0 0.0; 0.0 0.0 … 0.0 0.0], :l => SDDP.State{Float64}(16845.16129032272, 3630.967741935484), :w => [0.0 0.0 … 0.0 0.0; 50.0 50.00000000000001 … 0.0 0.0; … ; 0.0 0.0 … 49.99999999999999 0.0; 0.0 0.0 … 0.0 0.0], :bellman_term => 555.2075, :node_index => 7, :objective_state => nothing, :belief => Dict(7 => 1.0), :x => SDDP.State{Float64}[SDDP.State{Float64}(0.0, 0.0) SDDP.State{Float64}(0.0, 0.0) … SDDP.State{Float64}(50.0, 50.0) SDDP.State{Float64}(0.0, 0.0); SDDP.State{Float64}(50.0, 50.0) SDDP.State{Float64}(50.0, 50.0) … SDDP.State{Float64}(50.0, 50.0) SDDP.State{Float64}(0.0, 0.0); … ; SDDP.State{Float64}(50.0, 50.0) SDDP.State{Float64}(50.0, 50.0) … SDDP.State{Float64}(50.0, 50.0) SDDP.State{Float64}(50.0, 50.0); SDDP.State{Float64}(50.0, 50.0) SDDP.State{Float64}(50.0, 50.0) … SDDP.State{Float64}(50.0, 50.0) SDDP.State{Float64}(50.0, 50.0)], :stage_objective => 551.095, :Q => [0.0 0.0 … 0.0 0.0; 161.29032258064518 161.2903225806452 … 0.0 0.0; … ; 0.0 0.0 … 161.29032258064515 0.0; 0.0 0.0 … 0.0 0.0]…), Dict(:b => [0.0 0.0 … 0.0 0.0; 0.0 0.0 … 0.0 0.0; … ; 0.0 0.0 … 0.0 0.0; 0.0 0.0 … 0.0 0.0], :l => SDDP.State{Float64}(3630.967741935484, -1.8189894035458565e-12), :w => [0.0 0.0 … 0.0 0.0; 50.0 50.00000000000001 … 0.0 0.0; … ; 0.0 0.0 … 49.99999999999999 0.0; 0.0 0.0 … 0.0 0.0], :bellman_term => 0.0, :node_index => 8, :objective_state => nothing, :belief => Dict(8 => 1.0), :x => SDDP.State{Float64}[SDDP.State{Float64}(0.0, 0.0) SDDP.State{Float64}(0.0, 0.0) … SDDP.State{Float64}(50.0, 0.0) SDDP.State{Float64}(0.0, 0.0); SDDP.State{Float64}(50.0, 0.0) SDDP.State{Float64}(50.0, 0.0) … SDDP.State{Float64}(50.0, 0.0) SDDP.State{Float64}(0.0, 0.0); … ; SDDP.State{Float64}(50.0, 50.0) SDDP.State{Float64}(50.0, 50.0) … SDDP.State{Float64}(50.0, 50.0) SDDP.State{Float64}(50.0, 50.0); SDDP.State{Float64}(50.0, 50.0) SDDP.State{Float64}(50.0, 50.0) … SDDP.State{Float64}(50.0, 50.0) SDDP.State{Float64}(50.0, 50.0)], :stage_objective => 551.095, :Q => [0.0 0.0 … 0.0 0.0; 161.29032258064518 161.2903225806452 … 0.0 0.0; … ; 0.0 0.0 … 161.29032258064515 0.0; 0.0 0.0 … 0.0 0.0]…)]\n",
       " [Dict(:b => [0.0 0.0 … 0.0 0.0; 0.0 0.0 … 0.0 0.0; … ; 0.0 0.0 … 0.0 0.0; 0.0 0.0 … 0.0 0.0], :l => SDDP.State{Float64}(35000.0, 35000.0), :w => [0.0 0.0 … 0.0 0.0; 0.0 0.0 … 0.0 0.0; … ; 0.0 0.0 … 0.0 0.0; 0.0 0.0 … 0.0 0.0], :bellman_term => 3886.4524999999994, :node_index => 1, :objective_state => nothing, :belief => Dict(1 => 1.0), :x => SDDP.State{Float64}[SDDP.State{Float64}(0.0, 0.0) SDDP.State{Float64}(0.0, 0.0) … SDDP.State{Float64}(0.0, 50.0) SDDP.State{Float64}(0.0, 0.0); SDDP.State{Float64}(0.0, 50.0) SDDP.State{Float64}(0.0, 50.0) … SDDP.State{Float64}(0.0, 50.0) SDDP.State{Float64}(0.0, 0.0); … ; SDDP.State{Float64}(0.0, 50.0) SDDP.State{Float64}(0.0, 50.0) … SDDP.State{Float64}(0.0, 50.0) SDDP.State{Float64}(0.0, 50.0); SDDP.State{Float64}(0.0, 50.0) SDDP.State{Float64}(0.0, 50.0) … SDDP.State{Float64}(0.0, 50.0) SDDP.State{Float64}(0.0, 50.0)], :stage_objective => 0, :Q => [0.0 0.0 … 0.0 0.0; 0.0 0.0 … 0.0 0.0; … ; 0.0 0.0 … 0.0 0.0; 0.0 0.0 … 0.0 0.0]…), Dict(:b => [0.0 0.0 … 0.0 0.0; 0.0 0.0 … 0.0 0.0; … ; 0.0 0.0 … 0.0 0.0; 0.0 0.0 … 0.0 0.0], :l => SDDP.State{Float64}(35000.0, 31369.032258064544), :w => [0.0 0.0 … 0.0 0.0; 50.0 50.00000000000001 … 0.0 0.0; … ; 0.0 0.0 … 49.99999999999999 0.0; 0.0 0.0 … 0.0 0.0], :bellman_term => 3331.245000000001, :node_index => 2, :objective_state => nothing, :belief => Dict(2 => 1.0), :x => SDDP.State{Float64}[SDDP.State{Float64}(0.0, 0.0) SDDP.State{Float64}(0.0, 0.0) … SDDP.State{Float64}(50.0, 50.0) SDDP.State{Float64}(0.0, 0.0); SDDP.State{Float64}(50.0, 50.0) SDDP.State{Float64}(50.0, 50.0) … SDDP.State{Float64}(50.0, 50.0) SDDP.State{Float64}(0.0, 0.0); … ; SDDP.State{Float64}(50.0, 50.0) SDDP.State{Float64}(50.0, 50.0) … SDDP.State{Float64}(50.0, 50.0) SDDP.State{Float64}(50.0, 50.0); SDDP.State{Float64}(50.0, 50.0) SDDP.State{Float64}(50.0, 50.0) … SDDP.State{Float64}(50.0, 50.0) SDDP.State{Float64}(50.0, 50.0)], :stage_objective => 551.095, :Q => [0.0 0.0 … 0.0 0.0; 161.29032258064518 161.2903225806452 … 0.0 0.0; … ; 0.0 0.0 … 161.29032258064515 0.0; 0.0 0.0 … 0.0 0.0]…), Dict(:b => [0.0 0.0 … 0.0 0.0; 0.0 0.0 … 0.0 0.0; … ; 0.0 0.0 … 0.0 0.0; 0.0 0.0 … 0.0 0.0], :l => SDDP.State{Float64}(31369.032258064544, 27738.06451612909), :w => [0.0 0.0 … 50.0 0.0; 0.0 0.0 … 0.0 0.0; … ; 0.0 50.0 … 0.0 50.0; 0.0 0.0 … 0.0 0.0], :bellman_term => 2776.0375000000004, :node_index => 3, :objective_state => nothing, :belief => Dict(3 => 1.0), :x => SDDP.State{Float64}[SDDP.State{Float64}(0.0, 0.0) SDDP.State{Float64}(0.0, 0.0) … SDDP.State{Float64}(50.0, 50.0) SDDP.State{Float64}(0.0, 0.0); SDDP.State{Float64}(50.0, 50.0) SDDP.State{Float64}(50.0, 50.0) … SDDP.State{Float64}(50.0, 50.0) SDDP.State{Float64}(0.0, 0.0); … ; SDDP.State{Float64}(50.0, 50.0) SDDP.State{Float64}(50.0, 50.0) … SDDP.State{Float64}(50.0, 50.0) SDDP.State{Float64}(50.0, 50.0); SDDP.State{Float64}(50.0, 50.0) SDDP.State{Float64}(50.0, 50.0) … SDDP.State{Float64}(50.0, 50.0) SDDP.State{Float64}(50.0, 50.0)], :stage_objective => 559.32, :Q => [0.0 0.0 … 161.29032258064518 0.0; 0.0 0.0 … 0.0 0.0; … ; 0.0 161.29032258064518 … 0.0 161.29032258064518; 0.0 0.0 … 0.0 0.0]…), Dict(:b => [0.0 0.0 … 0.0 0.0; 0.0 0.0 … 0.0 0.0; … ; 0.0 0.0 … 0.0 0.0; 0.0 0.0 … 0.0 0.0], :l => SDDP.State{Float64}(27738.06451612909, 24107.096774193633), :w => [0.0 0.0 … 0.0 0.0; 50.0 50.00000000000001 … 0.0 0.0; … ; 0.0 0.0 … 49.99999999999999 0.0; 0.0 0.0 … 0.0 0.0], :bellman_term => 2220.829999999999, :node_index => 4, :objective_state => nothing, :belief => Dict(4 => 1.0), :x => SDDP.State{Float64}[SDDP.State{Float64}(0.0, 0.0) SDDP.State{Float64}(0.0, 0.0) … SDDP.State{Float64}(50.0, 50.0) SDDP.State{Float64}(0.0, 0.0); SDDP.State{Float64}(50.0, 50.0) SDDP.State{Float64}(50.0, 50.0) … SDDP.State{Float64}(50.0, 50.0) SDDP.State{Float64}(0.0, 0.0); … ; SDDP.State{Float64}(50.0, 50.0) SDDP.State{Float64}(50.0, 50.0) … SDDP.State{Float64}(50.0, 50.0) SDDP.State{Float64}(50.0, 50.0); SDDP.State{Float64}(50.0, 50.0) SDDP.State{Float64}(50.0, 50.0) … SDDP.State{Float64}(50.0, 50.0) SDDP.State{Float64}(50.0, 50.0)], :stage_objective => 551.095, :Q => [0.0 0.0 … 0.0 0.0; 161.29032258064518 161.2903225806452 … 0.0 0.0; … ; 0.0 0.0 … 161.29032258064515 0.0; 0.0 0.0 … 0.0 0.0]…), Dict(:b => [0.0 0.0 … 0.0 0.0; 0.0 0.0 … 0.0 0.0; … ; 0.0 0.0 … 0.0 0.0; 0.0 0.0 … 0.0 0.0], :l => SDDP.State{Float64}(24107.096774193633, 20476.129032258177), :w => [0.0 0.0 … 50.0 0.0; 0.0 0.0 … 0.0 0.0; … ; 0.0 50.0 … 0.0 50.0; 0.0 0.0 … 0.0 0.0], :bellman_term => 1665.622499999999, :node_index => 5, :objective_state => nothing, :belief => Dict(5 => 1.0), :x => SDDP.State{Float64}[SDDP.State{Float64}(0.0, 0.0) SDDP.State{Float64}(0.0, 0.0) … SDDP.State{Float64}(50.0, 50.0) SDDP.State{Float64}(0.0, 0.0); SDDP.State{Float64}(50.0, 50.0) SDDP.State{Float64}(50.0, 50.0) … SDDP.State{Float64}(50.0, 50.0) SDDP.State{Float64}(0.0, 0.0); … ; SDDP.State{Float64}(50.0, 50.0) SDDP.State{Float64}(50.0, 50.0) … SDDP.State{Float64}(50.0, 50.0) SDDP.State{Float64}(50.0, 50.0); SDDP.State{Float64}(50.0, 50.0) SDDP.State{Float64}(50.0, 50.0) … SDDP.State{Float64}(50.0, 50.0) SDDP.State{Float64}(50.0, 50.0)], :stage_objective => 559.32, :Q => [0.0 0.0 … 161.29032258064518 0.0; 0.0 0.0 … 0.0 0.0; … ; 0.0 161.29032258064518 … 0.0 161.29032258064518; 0.0 0.0 … 0.0 0.0]…), Dict(:b => [0.0 0.0 … 0.0 0.0; 0.0 0.0 … 0.0 0.0; … ; 0.0 0.0 … 0.0 0.0; 0.0 0.0 … 0.0 0.0], :l => SDDP.State{Float64}(20476.129032258177, 16845.16129032272), :w => [0.0 0.0 … 0.0 0.0; 50.0 50.00000000000001 … 0.0 0.0; … ; 0.0 0.0 … 49.99999999999999 0.0; 0.0 0.0 … 0.0 0.0], :bellman_term => 1110.4149999999988, :node_index => 6, :objective_state => nothing, :belief => Dict(6 => 1.0), :x => SDDP.State{Float64}[SDDP.State{Float64}(0.0, 0.0) SDDP.State{Float64}(0.0, 0.0) … SDDP.State{Float64}(50.0, 50.0) SDDP.State{Float64}(0.0, 0.0); SDDP.State{Float64}(50.0, 50.0) SDDP.State{Float64}(50.0, 50.0) … SDDP.State{Float64}(50.0, 50.0) SDDP.State{Float64}(0.0, 0.0); … ; SDDP.State{Float64}(50.0, 50.0) SDDP.State{Float64}(50.0, 50.0) … SDDP.State{Float64}(50.0, 50.0) SDDP.State{Float64}(50.0, 50.0); SDDP.State{Float64}(50.0, 50.0) SDDP.State{Float64}(50.0, 50.0) … SDDP.State{Float64}(50.0, 50.0) SDDP.State{Float64}(50.0, 50.0)], :stage_objective => 551.095, :Q => [0.0 0.0 … 0.0 0.0; 161.29032258064518 161.2903225806452 … 0.0 0.0; … ; 0.0 0.0 … 161.29032258064515 0.0; 0.0 0.0 … 0.0 0.0]…), Dict(:b => [0.0 0.0 … 0.0 0.0; 0.0 0.0 … 0.0 0.0; … ; 0.0 0.0 … 0.0 0.0; 0.0 0.0 … 0.0 0.0], :l => SDDP.State{Float64}(16845.16129032272, 3630.967741935484), :w => [0.0 0.0 … 50.0 0.0; 0.0 0.0 … 0.0 0.0; … ; 0.0 50.0 … 0.0 50.0; 0.0 0.0 … 0.0 0.0], :bellman_term => 555.2074999999994, :node_index => 7, :objective_state => nothing, :belief => Dict(7 => 1.0), :x => SDDP.State{Float64}[SDDP.State{Float64}(0.0, 0.0) SDDP.State{Float64}(0.0, 0.0) … SDDP.State{Float64}(50.0, 50.0) SDDP.State{Float64}(0.0, 0.0); SDDP.State{Float64}(50.0, 50.0) SDDP.State{Float64}(50.0, 50.0) … SDDP.State{Float64}(50.0, 50.0) SDDP.State{Float64}(0.0, 0.0); … ; SDDP.State{Float64}(50.0, 50.0) SDDP.State{Float64}(50.0, 50.0) … SDDP.State{Float64}(50.0, 50.0) SDDP.State{Float64}(50.0, 50.0); SDDP.State{Float64}(50.0, 50.0) SDDP.State{Float64}(50.0, 50.0) … SDDP.State{Float64}(50.0, 50.0) SDDP.State{Float64}(50.0, 50.0)], :stage_objective => 559.32, :Q => [0.0 0.0 … 161.29032258064518 0.0; 0.0 0.0 … 0.0 0.0; … ; 0.0 161.29032258064518 … 0.0 161.29032258064518; 0.0 0.0 … 0.0 0.0]…), Dict(:b => [0.0 0.0 … 0.0 0.0; 0.0 0.0 … 0.0 0.0; … ; 0.0 0.0 … 0.0 0.0; 0.0 0.0 … 0.0 0.0], :l => SDDP.State{Float64}(3630.967741935484, -1.8189894035458565e-12), :w => [0.0 0.0 … 50.0 0.0; 0.0 0.0 … 0.0 0.0; … ; 0.0 50.0 … 0.0 50.0; 0.0 0.0 … 0.0 0.0], :bellman_term => 0.0, :node_index => 8, :objective_state => nothing, :belief => Dict(8 => 1.0), :x => SDDP.State{Float64}[SDDP.State{Float64}(0.0, 0.0) SDDP.State{Float64}(0.0, 0.0) … SDDP.State{Float64}(50.0, 0.0) SDDP.State{Float64}(0.0, 0.0); SDDP.State{Float64}(50.0, 0.0) SDDP.State{Float64}(50.0, 0.0) … SDDP.State{Float64}(50.0, 0.0) SDDP.State{Float64}(0.0, 0.0); … ; SDDP.State{Float64}(50.0, 50.0) SDDP.State{Float64}(50.0, 50.0) … SDDP.State{Float64}(50.0, 50.0) SDDP.State{Float64}(50.0, 50.0); SDDP.State{Float64}(50.0, 50.0) SDDP.State{Float64}(50.0, 50.0) … SDDP.State{Float64}(50.0, 50.0) SDDP.State{Float64}(50.0, 50.0)], :stage_objective => 559.32, :Q => [0.0 0.0 … 161.29032258064518 0.0; 0.0 0.0 … 0.0 0.0; … ; 0.0 161.29032258064518 … 0.0 161.29032258064518; 0.0 0.0 … 0.0 0.0]…)]\n",
       " [Dict(:b => [0.0 0.0 … 0.0 0.0; 0.0 0.0 … 0.0 0.0; … ; 0.0 0.0 … 0.0 0.0; 0.0 0.0 … 0.0 0.0], :l => SDDP.State{Float64}(35000.0, 35000.0), :w => [0.0 0.0 … 0.0 0.0; 0.0 0.0 … 0.0 0.0; … ; 0.0 0.0 … 0.0 0.0; 0.0 0.0 … 0.0 0.0], :bellman_term => 3886.4524999999994, :node_index => 1, :objective_state => nothing, :belief => Dict(1 => 1.0), :x => SDDP.State{Float64}[SDDP.State{Float64}(0.0, 0.0) SDDP.State{Float64}(0.0, 0.0) … SDDP.State{Float64}(0.0, 50.0) SDDP.State{Float64}(0.0, 0.0); SDDP.State{Float64}(0.0, 50.0) SDDP.State{Float64}(0.0, 50.0) … SDDP.State{Float64}(0.0, 50.0) SDDP.State{Float64}(0.0, 0.0); … ; SDDP.State{Float64}(0.0, 50.0) SDDP.State{Float64}(0.0, 50.0) … SDDP.State{Float64}(0.0, 50.0) SDDP.State{Float64}(0.0, 50.0); SDDP.State{Float64}(0.0, 50.0) SDDP.State{Float64}(0.0, 50.0) … SDDP.State{Float64}(0.0, 50.0) SDDP.State{Float64}(0.0, 50.0)], :stage_objective => 0, :Q => [0.0 0.0 … 0.0 0.0; 0.0 0.0 … 0.0 0.0; … ; 0.0 0.0 … 0.0 0.0; 0.0 0.0 … 0.0 0.0]…), Dict(:b => [0.0 0.0 … 0.0 0.0; 0.0 0.0 … 0.0 0.0; … ; 0.0 0.0 … 0.0 0.0; 0.0 0.0 … 0.0 0.0], :l => SDDP.State{Float64}(35000.0, 31369.032258064544), :w => [0.0 0.0 … 0.0 0.0; 50.0 50.00000000000001 … 0.0 0.0; … ; 0.0 0.0 … 49.99999999999999 0.0; 0.0 0.0 … 0.0 0.0], :bellman_term => 3331.245000000001, :node_index => 2, :objective_state => nothing, :belief => Dict(2 => 1.0), :x => SDDP.State{Float64}[SDDP.State{Float64}(0.0, 0.0) SDDP.State{Float64}(0.0, 0.0) … SDDP.State{Float64}(50.0, 50.0) SDDP.State{Float64}(0.0, 0.0); SDDP.State{Float64}(50.0, 50.0) SDDP.State{Float64}(50.0, 50.0) … SDDP.State{Float64}(50.0, 50.0) SDDP.State{Float64}(0.0, 0.0); … ; SDDP.State{Float64}(50.0, 50.0) SDDP.State{Float64}(50.0, 50.0) … SDDP.State{Float64}(50.0, 50.0) SDDP.State{Float64}(50.0, 50.0); SDDP.State{Float64}(50.0, 50.0) SDDP.State{Float64}(50.0, 50.0) … SDDP.State{Float64}(50.0, 50.0) SDDP.State{Float64}(50.0, 50.0)], :stage_objective => 551.095, :Q => [0.0 0.0 … 0.0 0.0; 161.29032258064518 161.2903225806452 … 0.0 0.0; … ; 0.0 0.0 … 161.29032258064515 0.0; 0.0 0.0 … 0.0 0.0]…), Dict(:b => [0.0 0.0 … 0.0 0.0; 0.0 0.0 … 0.0 0.0; … ; 0.0 0.0 … 0.0 0.0; 0.0 0.0 … 0.0 0.0], :l => SDDP.State{Float64}(31369.032258064544, 27738.06451612909), :w => [0.0 0.0 … 50.0 0.0; 0.0 0.0 … 0.0 0.0; … ; 0.0 50.0 … 0.0 50.0; 0.0 0.0 … 0.0 0.0], :bellman_term => 2776.0375000000004, :node_index => 3, :objective_state => nothing, :belief => Dict(3 => 1.0), :x => SDDP.State{Float64}[SDDP.State{Float64}(0.0, 0.0) SDDP.State{Float64}(0.0, 0.0) … SDDP.State{Float64}(50.0, 50.0) SDDP.State{Float64}(0.0, 0.0); SDDP.State{Float64}(50.0, 50.0) SDDP.State{Float64}(50.0, 50.0) … SDDP.State{Float64}(50.0, 50.0) SDDP.State{Float64}(0.0, 0.0); … ; SDDP.State{Float64}(50.0, 50.0) SDDP.State{Float64}(50.0, 50.0) … SDDP.State{Float64}(50.0, 50.0) SDDP.State{Float64}(50.0, 50.0); SDDP.State{Float64}(50.0, 50.0) SDDP.State{Float64}(50.0, 50.0) … SDDP.State{Float64}(50.0, 50.0) SDDP.State{Float64}(50.0, 50.0)], :stage_objective => 559.32, :Q => [0.0 0.0 … 161.29032258064518 0.0; 0.0 0.0 … 0.0 0.0; … ; 0.0 161.29032258064518 … 0.0 161.29032258064518; 0.0 0.0 … 0.0 0.0]…), Dict(:b => [0.0 0.0 … 0.0 0.0; 0.0 0.0 … 0.0 0.0; … ; 0.0 0.0 … 0.0 0.0; 0.0 0.0 … 0.0 0.0], :l => SDDP.State{Float64}(27738.06451612909, 24107.096774193633), :w => [0.0 0.0 … 0.0 0.0; 50.0 50.00000000000001 … 0.0 0.0; … ; 0.0 0.0 … 49.99999999999999 0.0; 0.0 0.0 … 0.0 0.0], :bellman_term => 2220.829999999999, :node_index => 4, :objective_state => nothing, :belief => Dict(4 => 1.0), :x => SDDP.State{Float64}[SDDP.State{Float64}(0.0, 0.0) SDDP.State{Float64}(0.0, 0.0) … SDDP.State{Float64}(50.0, 50.0) SDDP.State{Float64}(0.0, 0.0); SDDP.State{Float64}(50.0, 50.0) SDDP.State{Float64}(50.0, 50.0) … SDDP.State{Float64}(50.0, 50.0) SDDP.State{Float64}(0.0, 0.0); … ; SDDP.State{Float64}(50.0, 50.0) SDDP.State{Float64}(50.0, 50.0) … SDDP.State{Float64}(50.0, 50.0) SDDP.State{Float64}(50.0, 50.0); SDDP.State{Float64}(50.0, 50.0) SDDP.State{Float64}(50.0, 50.0) … SDDP.State{Float64}(50.0, 50.0) SDDP.State{Float64}(50.0, 50.0)], :stage_objective => 551.095, :Q => [0.0 0.0 … 0.0 0.0; 161.29032258064518 161.2903225806452 … 0.0 0.0; … ; 0.0 0.0 … 161.29032258064515 0.0; 0.0 0.0 … 0.0 0.0]…), Dict(:b => [0.0 0.0 … 0.0 0.0; 0.0 0.0 … 0.0 0.0; … ; 0.0 0.0 … 0.0 0.0; 0.0 0.0 … 0.0 0.0], :l => SDDP.State{Float64}(24107.096774193633, 20476.129032258177), :w => [0.0 0.0 … 0.0 0.0; 50.0 50.00000000000001 … 0.0 0.0; … ; 0.0 0.0 … 49.99999999999999 0.0; 0.0 0.0 … 0.0 0.0], :bellman_term => 1665.6224999999988, :node_index => 5, :objective_state => nothing, :belief => Dict(5 => 1.0), :x => SDDP.State{Float64}[SDDP.State{Float64}(0.0, 0.0) SDDP.State{Float64}(0.0, 0.0) … SDDP.State{Float64}(50.0, 50.0) SDDP.State{Float64}(0.0, 0.0); SDDP.State{Float64}(50.0, 50.0) SDDP.State{Float64}(50.0, 50.0) … SDDP.State{Float64}(50.0, 50.0) SDDP.State{Float64}(0.0, 0.0); … ; SDDP.State{Float64}(50.0, 50.0) SDDP.State{Float64}(50.0, 50.0) … SDDP.State{Float64}(50.0, 50.0) SDDP.State{Float64}(50.0, 50.0); SDDP.State{Float64}(50.0, 50.0) SDDP.State{Float64}(50.0, 50.0) … SDDP.State{Float64}(50.0, 50.0) SDDP.State{Float64}(50.0, 50.0)], :stage_objective => 551.095, :Q => [0.0 0.0 … 0.0 0.0; 161.29032258064518 161.2903225806452 … 0.0 0.0; … ; 0.0 0.0 … 161.29032258064515 0.0; 0.0 0.0 … 0.0 0.0]…), Dict(:b => [0.0 0.0 … 0.0 0.0; 0.0 0.0 … 0.0 0.0; … ; 0.0 0.0 … 0.0 0.0; 0.0 0.0 … 0.0 0.0], :l => SDDP.State{Float64}(20476.129032258177, 16845.16129032272), :w => [0.0 0.0 … 50.0 0.0; 0.0 0.0 … 0.0 0.0; … ; 0.0 50.0 … 0.0 50.0; 0.0 0.0 … 0.0 0.0], :bellman_term => 1110.414999999999, :node_index => 6, :objective_state => nothing, :belief => Dict(6 => 1.0), :x => SDDP.State{Float64}[SDDP.State{Float64}(0.0, 0.0) SDDP.State{Float64}(0.0, 0.0) … SDDP.State{Float64}(50.0, 50.0) SDDP.State{Float64}(0.0, 0.0); SDDP.State{Float64}(50.0, 50.0) SDDP.State{Float64}(50.0, 50.0) … SDDP.State{Float64}(50.0, 50.0) SDDP.State{Float64}(0.0, 0.0); … ; SDDP.State{Float64}(50.0, 50.0) SDDP.State{Float64}(50.0, 50.0) … SDDP.State{Float64}(50.0, 50.0) SDDP.State{Float64}(50.0, 50.0); SDDP.State{Float64}(50.0, 50.0) SDDP.State{Float64}(50.0, 50.0) … SDDP.State{Float64}(50.0, 50.0) SDDP.State{Float64}(50.0, 50.0)], :stage_objective => 559.32, :Q => [0.0 0.0 … 161.29032258064518 0.0; 0.0 0.0 … 0.0 0.0; … ; 0.0 161.29032258064518 … 0.0 161.29032258064518; 0.0 0.0 … 0.0 0.0]…), Dict(:b => [0.0 0.0 … 0.0 0.0; 0.0 0.0 … 0.0 0.0; … ; 0.0 0.0 … 0.0 0.0; 0.0 0.0 … 0.0 0.0], :l => SDDP.State{Float64}(16845.16129032272, 3630.967741935484), :w => [0.0 0.0 … 0.0 0.0; 50.0 50.00000000000001 … 0.0 0.0; … ; 0.0 0.0 … 49.99999999999999 0.0; 0.0 0.0 … 0.0 0.0], :bellman_term => 555.2074999999995, :node_index => 7, :objective_state => nothing, :belief => Dict(7 => 1.0), :x => SDDP.State{Float64}[SDDP.State{Float64}(0.0, 0.0) SDDP.State{Float64}(0.0, 0.0) … SDDP.State{Float64}(50.0, 50.0) SDDP.State{Float64}(0.0, 0.0); SDDP.State{Float64}(50.0, 50.0) SDDP.State{Float64}(50.0, 50.0) … SDDP.State{Float64}(50.0, 50.0) SDDP.State{Float64}(0.0, 0.0); … ; SDDP.State{Float64}(50.0, 50.0) SDDP.State{Float64}(50.0, 50.0) … SDDP.State{Float64}(50.0, 50.0) SDDP.State{Float64}(50.0, 50.0); SDDP.State{Float64}(50.0, 50.0) SDDP.State{Float64}(50.0, 50.0) … SDDP.State{Float64}(50.0, 50.0) SDDP.State{Float64}(50.0, 50.0)], :stage_objective => 551.095, :Q => [0.0 0.0 … 0.0 0.0; 161.29032258064518 161.2903225806452 … 0.0 0.0; … ; 0.0 0.0 … 161.29032258064515 0.0; 0.0 0.0 … 0.0 0.0]…), Dict(:b => [0.0 0.0 … 0.0 0.0; 0.0 0.0 … 0.0 0.0; … ; 0.0 0.0 … 0.0 0.0; 0.0 0.0 … 0.0 0.0], :l => SDDP.State{Float64}(3630.967741935484, -1.8189894035458565e-12), :w => [0.0 0.0 … 0.0 0.0; 50.0 50.00000000000001 … 0.0 0.0; … ; 0.0 0.0 … 49.99999999999999 0.0; 0.0 0.0 … 0.0 0.0], :bellman_term => 0.0, :node_index => 8, :objective_state => nothing, :belief => Dict(8 => 1.0), :x => SDDP.State{Float64}[SDDP.State{Float64}(0.0, 0.0) SDDP.State{Float64}(0.0, 0.0) … SDDP.State{Float64}(50.0, 0.0) SDDP.State{Float64}(0.0, 0.0); SDDP.State{Float64}(50.0, 0.0) SDDP.State{Float64}(50.0, 0.0) … SDDP.State{Float64}(50.0, 0.0) SDDP.State{Float64}(0.0, 0.0); … ; SDDP.State{Float64}(50.0, 50.0) SDDP.State{Float64}(50.0, 50.0) … SDDP.State{Float64}(50.0, 50.0) SDDP.State{Float64}(50.0, 50.0); SDDP.State{Float64}(50.0, 50.0) SDDP.State{Float64}(50.0, 50.0) … SDDP.State{Float64}(50.0, 50.0) SDDP.State{Float64}(50.0, 50.0)], :stage_objective => 551.095, :Q => [0.0 0.0 … 0.0 0.0; 161.29032258064518 161.2903225806452 … 0.0 0.0; … ; 0.0 0.0 … 161.29032258064515 0.0; 0.0 0.0 … 0.0 0.0]…)]\n",
       " [Dict(:b => [0.0 0.0 … 0.0 0.0; 0.0 0.0 … 0.0 0.0; … ; 0.0 0.0 … 0.0 0.0; 0.0 0.0 … 0.0 0.0], :l => SDDP.State{Float64}(35000.0, 35000.0), :w => [0.0 0.0 … 0.0 0.0; 0.0 0.0 … 0.0 0.0; … ; 0.0 0.0 … 0.0 0.0; 0.0 0.0 … 0.0 0.0], :bellman_term => 3886.4524999999994, :node_index => 1, :objective_state => nothing, :belief => Dict(1 => 1.0), :x => SDDP.State{Float64}[SDDP.State{Float64}(0.0, 0.0) SDDP.State{Float64}(0.0, 0.0) … SDDP.State{Float64}(0.0, 50.0) SDDP.State{Float64}(0.0, 0.0); SDDP.State{Float64}(0.0, 50.0) SDDP.State{Float64}(0.0, 50.0) … SDDP.State{Float64}(0.0, 50.0) SDDP.State{Float64}(0.0, 0.0); … ; SDDP.State{Float64}(0.0, 50.0) SDDP.State{Float64}(0.0, 50.0) … SDDP.State{Float64}(0.0, 50.0) SDDP.State{Float64}(0.0, 50.0); SDDP.State{Float64}(0.0, 50.0) SDDP.State{Float64}(0.0, 50.0) … SDDP.State{Float64}(0.0, 50.0) SDDP.State{Float64}(0.0, 50.0)], :stage_objective => 0, :Q => [0.0 0.0 … 0.0 0.0; 0.0 0.0 … 0.0 0.0; … ; 0.0 0.0 … 0.0 0.0; 0.0 0.0 … 0.0 0.0]…), Dict(:b => [0.0 0.0 … 0.0 0.0; 0.0 0.0 … 0.0 0.0; … ; 0.0 0.0 … 0.0 0.0; 0.0 0.0 … 0.0 0.0], :l => SDDP.State{Float64}(35000.0, 31369.032258064544), :w => [0.0 0.0 … 50.0 0.0; 0.0 0.0 … 0.0 0.0; … ; 0.0 50.0 … 0.0 50.0; 0.0 0.0 … 0.0 0.0], :bellman_term => 3331.2449999999994, :node_index => 2, :objective_state => nothing, :belief => Dict(2 => 1.0), :x => SDDP.State{Float64}[SDDP.State{Float64}(0.0, 0.0) SDDP.State{Float64}(0.0, 0.0) … SDDP.State{Float64}(50.0, 50.0) SDDP.State{Float64}(0.0, 0.0); SDDP.State{Float64}(50.0, 50.0) SDDP.State{Float64}(50.0, 50.0) … SDDP.State{Float64}(50.0, 50.0) SDDP.State{Float64}(0.0, 0.0); … ; SDDP.State{Float64}(50.0, 50.0) SDDP.State{Float64}(50.0, 50.0) … SDDP.State{Float64}(50.0, 50.0) SDDP.State{Float64}(50.0, 50.0); SDDP.State{Float64}(50.0, 50.0) SDDP.State{Float64}(50.0, 50.0) … SDDP.State{Float64}(50.0, 50.0) SDDP.State{Float64}(50.0, 50.0)], :stage_objective => 559.32, :Q => [0.0 0.0 … 161.29032258064518 0.0; 0.0 0.0 … 0.0 0.0; … ; 0.0 161.29032258064518 … 0.0 161.29032258064518; 0.0 0.0 … 0.0 0.0]…), Dict(:b => [0.0 0.0 … 0.0 0.0; 0.0 0.0 … 0.0 0.0; … ; 0.0 0.0 … 0.0 0.0; 0.0 0.0 … 0.0 0.0], :l => SDDP.State{Float64}(31369.032258064544, 27738.06451612909), :w => [0.0 0.0 … 50.0 0.0; 0.0 0.0 … 0.0 0.0; … ; 0.0 50.0 … 0.0 50.0; 0.0 0.0 … 0.0 0.0], :bellman_term => 2776.0375000000004, :node_index => 3, :objective_state => nothing, :belief => Dict(3 => 1.0), :x => SDDP.State{Float64}[SDDP.State{Float64}(0.0, 0.0) SDDP.State{Float64}(0.0, 0.0) … SDDP.State{Float64}(50.0, 50.0) SDDP.State{Float64}(0.0, 0.0); SDDP.State{Float64}(50.0, 50.0) SDDP.State{Float64}(50.0, 50.0) … SDDP.State{Float64}(50.0, 50.0) SDDP.State{Float64}(0.0, 0.0); … ; SDDP.State{Float64}(50.0, 50.0) SDDP.State{Float64}(50.0, 50.0) … SDDP.State{Float64}(50.0, 50.0) SDDP.State{Float64}(50.0, 50.0); SDDP.State{Float64}(50.0, 50.0) SDDP.State{Float64}(50.0, 50.0) … SDDP.State{Float64}(50.0, 50.0) SDDP.State{Float64}(50.0, 50.0)], :stage_objective => 559.32, :Q => [0.0 0.0 … 161.29032258064518 0.0; 0.0 0.0 … 0.0 0.0; … ; 0.0 161.29032258064518 … 0.0 161.29032258064518; 0.0 0.0 … 0.0 0.0]…), Dict(:b => [0.0 0.0 … 0.0 0.0; 0.0 0.0 … 0.0 0.0; … ; 0.0 0.0 … 0.0 0.0; 0.0 0.0 … 0.0 0.0], :l => SDDP.State{Float64}(27738.06451612909, 24107.096774193633), :w => [0.0 0.0 … 0.0 0.0; 50.0 50.00000000000001 … 0.0 0.0; … ; 0.0 0.0 … 49.99999999999999 0.0; 0.0 0.0 … 0.0 0.0], :bellman_term => 2220.829999999999, :node_index => 4, :objective_state => nothing, :belief => Dict(4 => 1.0), :x => SDDP.State{Float64}[SDDP.State{Float64}(0.0, 0.0) SDDP.State{Float64}(0.0, 0.0) … SDDP.State{Float64}(50.0, 50.0) SDDP.State{Float64}(0.0, 0.0); SDDP.State{Float64}(50.0, 50.0) SDDP.State{Float64}(50.0, 50.0) … SDDP.State{Float64}(50.0, 50.0) SDDP.State{Float64}(0.0, 0.0); … ; SDDP.State{Float64}(50.0, 50.0) SDDP.State{Float64}(50.0, 50.0) … SDDP.State{Float64}(50.0, 50.0) SDDP.State{Float64}(50.0, 50.0); SDDP.State{Float64}(50.0, 50.0) SDDP.State{Float64}(50.0, 50.0) … SDDP.State{Float64}(50.0, 50.0) SDDP.State{Float64}(50.0, 50.0)], :stage_objective => 551.095, :Q => [0.0 0.0 … 0.0 0.0; 161.29032258064518 161.2903225806452 … 0.0 0.0; … ; 0.0 0.0 … 161.29032258064515 0.0; 0.0 0.0 … 0.0 0.0]…), Dict(:b => [0.0 0.0 … 0.0 0.0; 0.0 0.0 … 0.0 0.0; … ; 0.0 0.0 … 0.0 0.0; 0.0 0.0 … 0.0 0.0], :l => SDDP.State{Float64}(24107.096774193633, 20476.129032258177), :w => [0.0 0.0 … 0.0 0.0; 50.0 50.00000000000001 … 0.0 0.0; … ; 0.0 0.0 … 49.99999999999999 0.0; 0.0 0.0 … 0.0 0.0], :bellman_term => 1665.6224999999988, :node_index => 5, :objective_state => nothing, :belief => Dict(5 => 1.0), :x => SDDP.State{Float64}[SDDP.State{Float64}(0.0, 0.0) SDDP.State{Float64}(0.0, 0.0) … SDDP.State{Float64}(50.0, 50.0) SDDP.State{Float64}(0.0, 0.0); SDDP.State{Float64}(50.0, 50.0) SDDP.State{Float64}(50.0, 50.0) … SDDP.State{Float64}(50.0, 50.0) SDDP.State{Float64}(0.0, 0.0); … ; SDDP.State{Float64}(50.0, 50.0) SDDP.State{Float64}(50.0, 50.0) … SDDP.State{Float64}(50.0, 50.0) SDDP.State{Float64}(50.0, 50.0); SDDP.State{Float64}(50.0, 50.0) SDDP.State{Float64}(50.0, 50.0) … SDDP.State{Float64}(50.0, 50.0) SDDP.State{Float64}(50.0, 50.0)], :stage_objective => 551.095, :Q => [0.0 0.0 … 0.0 0.0; 161.29032258064518 161.2903225806452 … 0.0 0.0; … ; 0.0 0.0 … 161.29032258064515 0.0; 0.0 0.0 … 0.0 0.0]…), Dict(:b => [0.0 0.0 … 0.0 0.0; 0.0 0.0 … 0.0 0.0; … ; 0.0 0.0 … 0.0 0.0; 0.0 0.0 … 0.0 0.0], :l => SDDP.State{Float64}(20476.129032258177, 16845.16129032272), :w => [0.0 0.0 … 0.0 0.0; 50.0 50.00000000000001 … 0.0 0.0; … ; 0.0 0.0 … 49.99999999999999 0.0; 0.0 0.0 … 0.0 0.0], :bellman_term => 1110.414999999999, :node_index => 6, :objective_state => nothing, :belief => Dict(6 => 1.0), :x => SDDP.State{Float64}[SDDP.State{Float64}(0.0, 0.0) SDDP.State{Float64}(0.0, 0.0) … SDDP.State{Float64}(50.0, 50.0) SDDP.State{Float64}(0.0, 0.0); SDDP.State{Float64}(50.0, 50.0) SDDP.State{Float64}(50.0, 50.0) … SDDP.State{Float64}(50.0, 50.0) SDDP.State{Float64}(0.0, 0.0); … ; SDDP.State{Float64}(50.0, 50.0) SDDP.State{Float64}(50.0, 50.0) … SDDP.State{Float64}(50.0, 50.0) SDDP.State{Float64}(50.0, 50.0); SDDP.State{Float64}(50.0, 50.0) SDDP.State{Float64}(50.0, 50.0) … SDDP.State{Float64}(50.0, 50.0) SDDP.State{Float64}(50.0, 50.0)], :stage_objective => 551.095, :Q => [0.0 0.0 … 0.0 0.0; 161.29032258064518 161.2903225806452 … 0.0 0.0; … ; 0.0 0.0 … 161.29032258064515 0.0; 0.0 0.0 … 0.0 0.0]…), Dict(:b => [0.0 0.0 … 0.0 0.0; 0.0 0.0 … 0.0 0.0; … ; 0.0 0.0 … 0.0 0.0; 0.0 0.0 … 0.0 0.0], :l => SDDP.State{Float64}(16845.16129032272, 3630.967741935484), :w => [0.0 0.0 … 50.0 0.0; 0.0 0.0 … 0.0 0.0; … ; 0.0 50.0 … 0.0 50.0; 0.0 0.0 … 0.0 0.0], :bellman_term => 555.2074999999994, :node_index => 7, :objective_state => nothing, :belief => Dict(7 => 1.0), :x => SDDP.State{Float64}[SDDP.State{Float64}(0.0, 0.0) SDDP.State{Float64}(0.0, 0.0) … SDDP.State{Float64}(50.0, 50.0) SDDP.State{Float64}(0.0, 0.0); SDDP.State{Float64}(50.0, 50.0) SDDP.State{Float64}(50.0, 50.0) … SDDP.State{Float64}(50.0, 50.0) SDDP.State{Float64}(0.0, 0.0); … ; SDDP.State{Float64}(50.0, 50.0) SDDP.State{Float64}(50.0, 50.0) … SDDP.State{Float64}(50.0, 50.0) SDDP.State{Float64}(50.0, 50.0); SDDP.State{Float64}(50.0, 50.0) SDDP.State{Float64}(50.0, 50.0) … SDDP.State{Float64}(50.0, 50.0) SDDP.State{Float64}(50.0, 50.0)], :stage_objective => 559.32, :Q => [0.0 0.0 … 161.29032258064518 0.0; 0.0 0.0 … 0.0 0.0; … ; 0.0 161.29032258064518 … 0.0 161.29032258064518; 0.0 0.0 … 0.0 0.0]…), Dict(:b => [0.0 0.0 … 0.0 0.0; 0.0 0.0 … 0.0 0.0; … ; 0.0 0.0 … 0.0 0.0; 0.0 0.0 … 0.0 0.0], :l => SDDP.State{Float64}(3630.967741935484, -1.8189894035458565e-12), :w => [0.0 0.0 … 0.0 0.0; 50.0 50.00000000000001 … 0.0 0.0; … ; 0.0 0.0 … 49.99999999999999 0.0; 0.0 0.0 … 0.0 0.0], :bellman_term => 0.0, :node_index => 8, :objective_state => nothing, :belief => Dict(8 => 1.0), :x => SDDP.State{Float64}[SDDP.State{Float64}(0.0, 0.0) SDDP.State{Float64}(0.0, 0.0) … SDDP.State{Float64}(50.0, 0.0) SDDP.State{Float64}(0.0, 0.0); SDDP.State{Float64}(50.0, 0.0) SDDP.State{Float64}(50.0, 0.0) … SDDP.State{Float64}(50.0, 0.0) SDDP.State{Float64}(0.0, 0.0); … ; SDDP.State{Float64}(50.0, 50.0) SDDP.State{Float64}(50.0, 50.0) … SDDP.State{Float64}(50.0, 50.0) SDDP.State{Float64}(50.0, 50.0); SDDP.State{Float64}(50.0, 50.0) SDDP.State{Float64}(50.0, 50.0) … SDDP.State{Float64}(50.0, 50.0) SDDP.State{Float64}(50.0, 50.0)], :stage_objective => 551.095, :Q => [0.0 0.0 … 0.0 0.0; 161.29032258064518 161.2903225806452 … 0.0 0.0; … ; 0.0 0.0 … 161.29032258064515 0.0; 0.0 0.0 … 0.0 0.0]…)]\n",
       " [Dict(:b => [0.0 0.0 … 0.0 0.0; 0.0 0.0 … 0.0 0.0; … ; 0.0 0.0 … 0.0 0.0; 0.0 0.0 … 0.0 0.0], :l => SDDP.State{Float64}(35000.0, 35000.0), :w => [0.0 0.0 … 0.0 0.0; 0.0 0.0 … 0.0 0.0; … ; 0.0 0.0 … 0.0 0.0; 0.0 0.0 … 0.0 0.0], :bellman_term => 3886.4524999999994, :node_index => 1, :objective_state => nothing, :belief => Dict(1 => 1.0), :x => SDDP.State{Float64}[SDDP.State{Float64}(0.0, 0.0) SDDP.State{Float64}(0.0, 0.0) … SDDP.State{Float64}(0.0, 50.0) SDDP.State{Float64}(0.0, 0.0); SDDP.State{Float64}(0.0, 50.0) SDDP.State{Float64}(0.0, 50.0) … SDDP.State{Float64}(0.0, 50.0) SDDP.State{Float64}(0.0, 0.0); … ; SDDP.State{Float64}(0.0, 50.0) SDDP.State{Float64}(0.0, 50.0) … SDDP.State{Float64}(0.0, 50.0) SDDP.State{Float64}(0.0, 50.0); SDDP.State{Float64}(0.0, 50.0) SDDP.State{Float64}(0.0, 50.0) … SDDP.State{Float64}(0.0, 50.0) SDDP.State{Float64}(0.0, 50.0)], :stage_objective => 0, :Q => [0.0 0.0 … 0.0 0.0; 0.0 0.0 … 0.0 0.0; … ; 0.0 0.0 … 0.0 0.0; 0.0 0.0 … 0.0 0.0]…), Dict(:b => [0.0 0.0 … 0.0 0.0; 0.0 0.0 … 0.0 0.0; … ; 0.0 0.0 … 0.0 0.0; 0.0 0.0 … 0.0 0.0], :l => SDDP.State{Float64}(35000.0, 31369.032258064544), :w => [0.0 0.0 … 0.0 0.0; 50.0 50.00000000000001 … 0.0 0.0; … ; 0.0 0.0 … 49.99999999999999 0.0; 0.0 0.0 … 0.0 0.0], :bellman_term => 3331.244999999999, :node_index => 2, :objective_state => nothing, :belief => Dict(2 => 1.0), :x => SDDP.State{Float64}[SDDP.State{Float64}(0.0, 0.0) SDDP.State{Float64}(0.0, 0.0) … SDDP.State{Float64}(50.0, 50.0) SDDP.State{Float64}(0.0, 0.0); SDDP.State{Float64}(50.0, 50.0) SDDP.State{Float64}(50.0, 50.0) … SDDP.State{Float64}(50.0, 50.0) SDDP.State{Float64}(0.0, 0.0); … ; SDDP.State{Float64}(50.0, 50.0) SDDP.State{Float64}(50.0, 50.0) … SDDP.State{Float64}(50.0, 50.0) SDDP.State{Float64}(50.0, 50.0); SDDP.State{Float64}(50.0, 50.0) SDDP.State{Float64}(50.0, 50.0) … SDDP.State{Float64}(50.0, 50.0) SDDP.State{Float64}(50.0, 50.0)], :stage_objective => 551.095, :Q => [0.0 0.0 … 0.0 0.0; 161.29032258064518 161.2903225806452 … 0.0 0.0; … ; 0.0 0.0 … 161.29032258064515 0.0; 0.0 0.0 … 0.0 0.0]…), Dict(:b => [0.0 0.0 … 0.0 0.0; 0.0 0.0 … 0.0 0.0; … ; 0.0 0.0 … 0.0 0.0; 0.0 0.0 … 0.0 0.0], :l => SDDP.State{Float64}(31369.032258064544, 27738.06451612909), :w => [0.0 0.0 … 0.0 0.0; 50.0 50.00000000000001 … 0.0 0.0; … ; 0.0 0.0 … 49.99999999999999 0.0; 0.0 0.0 … 0.0 0.0], :bellman_term => 2776.0375000000004, :node_index => 3, :objective_state => nothing, :belief => Dict(3 => 1.0), :x => SDDP.State{Float64}[SDDP.State{Float64}(0.0, 0.0) SDDP.State{Float64}(0.0, 0.0) … SDDP.State{Float64}(50.0, 50.0) SDDP.State{Float64}(0.0, 0.0); SDDP.State{Float64}(50.0, 50.0) SDDP.State{Float64}(50.0, 50.0) … SDDP.State{Float64}(50.0, 50.0) SDDP.State{Float64}(0.0, 0.0); … ; SDDP.State{Float64}(50.0, 50.0) SDDP.State{Float64}(50.0, 50.0) … SDDP.State{Float64}(50.0, 50.0) SDDP.State{Float64}(50.0, 50.0); SDDP.State{Float64}(50.0, 50.0) SDDP.State{Float64}(50.0, 50.0) … SDDP.State{Float64}(50.0, 50.0) SDDP.State{Float64}(50.0, 50.0)], :stage_objective => 551.095, :Q => [0.0 0.0 … 0.0 0.0; 161.29032258064518 161.2903225806452 … 0.0 0.0; … ; 0.0 0.0 … 161.29032258064515 0.0; 0.0 0.0 … 0.0 0.0]…), Dict(:b => [0.0 0.0 … 0.0 0.0; 0.0 0.0 … 0.0 0.0; … ; 0.0 0.0 … 0.0 0.0; 0.0 0.0 … 0.0 0.0], :l => SDDP.State{Float64}(27738.06451612909, 24107.096774193633), :w => [0.0 0.0 … 50.0 0.0; 0.0 0.0 … 0.0 0.0; … ; 0.0 50.0 … 0.0 50.0; 0.0 0.0 … 0.0 0.0], :bellman_term => 2220.83, :node_index => 4, :objective_state => nothing, :belief => Dict(4 => 1.0), :x => SDDP.State{Float64}[SDDP.State{Float64}(0.0, 0.0) SDDP.State{Float64}(0.0, 0.0) … SDDP.State{Float64}(50.0, 50.0) SDDP.State{Float64}(0.0, 0.0); SDDP.State{Float64}(50.0, 50.0) SDDP.State{Float64}(50.0, 50.0) … SDDP.State{Float64}(50.0, 50.0) SDDP.State{Float64}(0.0, 0.0); … ; SDDP.State{Float64}(50.0, 50.0) SDDP.State{Float64}(50.0, 50.0) … SDDP.State{Float64}(50.0, 50.0) SDDP.State{Float64}(50.0, 50.0); SDDP.State{Float64}(50.0, 50.0) SDDP.State{Float64}(50.0, 50.0) … SDDP.State{Float64}(50.0, 50.0) SDDP.State{Float64}(50.0, 50.0)], :stage_objective => 559.32, :Q => [0.0 0.0 … 161.29032258064518 0.0; 0.0 0.0 … 0.0 0.0; … ; 0.0 161.29032258064518 … 0.0 161.29032258064518; 0.0 0.0 … 0.0 0.0]…), Dict(:b => [0.0 0.0 … 0.0 0.0; 0.0 0.0 … 0.0 0.0; … ; 0.0 0.0 … 0.0 0.0; 0.0 0.0 … 0.0 0.0], :l => SDDP.State{Float64}(24107.096774193633, 20476.129032258177), :w => [0.0 0.0 … 0.0 0.0; 50.0 50.00000000000001 … 0.0 0.0; … ; 0.0 0.0 … 49.99999999999999 0.0; 0.0 0.0 … 0.0 0.0], :bellman_term => 1665.6224999999988, :node_index => 5, :objective_state => nothing, :belief => Dict(5 => 1.0), :x => SDDP.State{Float64}[SDDP.State{Float64}(0.0, 0.0) SDDP.State{Float64}(0.0, 0.0) … SDDP.State{Float64}(50.0, 50.0) SDDP.State{Float64}(0.0, 0.0); SDDP.State{Float64}(50.0, 50.0) SDDP.State{Float64}(50.0, 50.0) … SDDP.State{Float64}(50.0, 50.0) SDDP.State{Float64}(0.0, 0.0); … ; SDDP.State{Float64}(50.0, 50.0) SDDP.State{Float64}(50.0, 50.0) … SDDP.State{Float64}(50.0, 50.0) SDDP.State{Float64}(50.0, 50.0); SDDP.State{Float64}(50.0, 50.0) SDDP.State{Float64}(50.0, 50.0) … SDDP.State{Float64}(50.0, 50.0) SDDP.State{Float64}(50.0, 50.0)], :stage_objective => 551.095, :Q => [0.0 0.0 … 0.0 0.0; 161.29032258064518 161.2903225806452 … 0.0 0.0; … ; 0.0 0.0 … 161.29032258064515 0.0; 0.0 0.0 … 0.0 0.0]…), Dict(:b => [0.0 0.0 … 0.0 0.0; 0.0 0.0 … 0.0 0.0; … ; 0.0 0.0 … 0.0 0.0; 0.0 0.0 … 0.0 0.0], :l => SDDP.State{Float64}(20476.129032258177, 16845.16129032272), :w => [0.0 0.0 … 0.0 0.0; 50.0 50.00000000000001 … 0.0 0.0; … ; 0.0 0.0 … 49.99999999999999 0.0; 0.0 0.0 … 0.0 0.0], :bellman_term => 1110.4149999999988, :node_index => 6, :objective_state => nothing, :belief => Dict(6 => 1.0), :x => SDDP.State{Float64}[SDDP.State{Float64}(0.0, 0.0) SDDP.State{Float64}(0.0, 0.0) … SDDP.State{Float64}(50.0, 50.0) SDDP.State{Float64}(0.0, 0.0); SDDP.State{Float64}(50.0, 50.0) SDDP.State{Float64}(50.0, 50.0) … SDDP.State{Float64}(50.0, 50.0) SDDP.State{Float64}(0.0, 0.0); … ; SDDP.State{Float64}(50.0, 50.0) SDDP.State{Float64}(50.0, 50.0) … SDDP.State{Float64}(50.0, 50.0) SDDP.State{Float64}(50.0, 50.0); SDDP.State{Float64}(50.0, 50.0) SDDP.State{Float64}(50.0, 50.0) … SDDP.State{Float64}(50.0, 50.0) SDDP.State{Float64}(50.0, 50.0)], :stage_objective => 551.095, :Q => [0.0 0.0 … 0.0 0.0; 161.29032258064518 161.2903225806452 … 0.0 0.0; … ; 0.0 0.0 … 161.29032258064515 0.0; 0.0 0.0 … 0.0 0.0]…), Dict(:b => [0.0 0.0 … 0.0 0.0; 0.0 0.0 … 0.0 0.0; … ; 0.0 0.0 … 0.0 0.0; 0.0 0.0 … 0.0 0.0], :l => SDDP.State{Float64}(16845.16129032272, 3630.967741935484), :w => [0.0 0.0 … 50.0 0.0; 0.0 0.0 … 0.0 0.0; … ; 0.0 50.0 … 0.0 50.0; 0.0 0.0 … 0.0 0.0], :bellman_term => 555.2075000000001, :node_index => 7, :objective_state => nothing, :belief => Dict(7 => 1.0), :x => SDDP.State{Float64}[SDDP.State{Float64}(0.0, 0.0) SDDP.State{Float64}(0.0, 0.0) … SDDP.State{Float64}(50.0, 50.0) SDDP.State{Float64}(0.0, 0.0); SDDP.State{Float64}(50.0, 50.0) SDDP.State{Float64}(50.0, 50.0) … SDDP.State{Float64}(50.0, 50.0) SDDP.State{Float64}(0.0, 0.0); … ; SDDP.State{Float64}(50.0, 50.0) SDDP.State{Float64}(50.0, 50.0) … SDDP.State{Float64}(50.0, 50.0) SDDP.State{Float64}(50.0, 50.0); SDDP.State{Float64}(50.0, 50.0) SDDP.State{Float64}(50.0, 50.0) … SDDP.State{Float64}(50.0, 50.0) SDDP.State{Float64}(50.0, 50.0)], :stage_objective => 559.32, :Q => [0.0 0.0 … 161.29032258064518 0.0; 0.0 0.0 … 0.0 0.0; … ; 0.0 161.29032258064518 … 0.0 161.29032258064518; 0.0 0.0 … 0.0 0.0]…), Dict(:b => [0.0 0.0 … 0.0 0.0; 0.0 0.0 … 0.0 0.0; … ; 0.0 0.0 … 0.0 0.0; 0.0 0.0 … 0.0 0.0], :l => SDDP.State{Float64}(3630.967741935484, -1.8189894035458565e-12), :w => [0.0 0.0 … 50.0 0.0; 0.0 0.0 … 0.0 0.0; … ; 0.0 50.0 … 0.0 50.0; 0.0 0.0 … 0.0 0.0], :bellman_term => 0.0, :node_index => 8, :objective_state => nothing, :belief => Dict(8 => 1.0), :x => SDDP.State{Float64}[SDDP.State{Float64}(0.0, 0.0) SDDP.State{Float64}(0.0, 0.0) … SDDP.State{Float64}(50.0, 0.0) SDDP.State{Float64}(0.0, 0.0); SDDP.State{Float64}(50.0, 0.0) SDDP.State{Float64}(50.0, 0.0) … SDDP.State{Float64}(50.0, 0.0) SDDP.State{Float64}(0.0, 0.0); … ; SDDP.State{Float64}(50.0, 50.0) SDDP.State{Float64}(50.0, 50.0) … SDDP.State{Float64}(50.0, 50.0) SDDP.State{Float64}(50.0, 50.0); SDDP.State{Float64}(50.0, 50.0) SDDP.State{Float64}(50.0, 50.0) … SDDP.State{Float64}(50.0, 50.0) SDDP.State{Float64}(50.0, 50.0)], :stage_objective => 559.32, :Q => [0.0 0.0 … 161.29032258064518 0.0; 0.0 0.0 … 0.0 0.0; … ; 0.0 161.29032258064518 … 0.0 161.29032258064518; 0.0 0.0 … 0.0 0.0]…)]\n",
       " [Dict(:b => [0.0 0.0 … 0.0 0.0; 0.0 0.0 … 0.0 0.0; … ; 0.0 0.0 … 0.0 0.0; 0.0 0.0 … 0.0 0.0], :l => SDDP.State{Float64}(35000.0, 35000.0), :w => [0.0 0.0 … 0.0 0.0; 0.0 0.0 … 0.0 0.0; … ; 0.0 0.0 … 0.0 0.0; 0.0 0.0 … 0.0 0.0], :bellman_term => 3886.4524999999994, :node_index => 1, :objective_state => nothing, :belief => Dict(1 => 1.0), :x => SDDP.State{Float64}[SDDP.State{Float64}(0.0, 0.0) SDDP.State{Float64}(0.0, 0.0) … SDDP.State{Float64}(0.0, 50.0) SDDP.State{Float64}(0.0, 0.0); SDDP.State{Float64}(0.0, 50.0) SDDP.State{Float64}(0.0, 50.0) … SDDP.State{Float64}(0.0, 50.0) SDDP.State{Float64}(0.0, 0.0); … ; SDDP.State{Float64}(0.0, 50.0) SDDP.State{Float64}(0.0, 50.0) … SDDP.State{Float64}(0.0, 50.0) SDDP.State{Float64}(0.0, 50.0); SDDP.State{Float64}(0.0, 50.0) SDDP.State{Float64}(0.0, 50.0) … SDDP.State{Float64}(0.0, 50.0) SDDP.State{Float64}(0.0, 50.0)], :stage_objective => 0, :Q => [0.0 0.0 … 0.0 0.0; 0.0 0.0 … 0.0 0.0; … ; 0.0 0.0 … 0.0 0.0; 0.0 0.0 … 0.0 0.0]…), Dict(:b => [0.0 0.0 … 0.0 0.0; 0.0 0.0 … 0.0 0.0; … ; 0.0 0.0 … 0.0 0.0; 0.0 0.0 … 0.0 0.0], :l => SDDP.State{Float64}(35000.0, 31369.032258064544), :w => [0.0 0.0 … 0.0 0.0; 50.0 50.00000000000001 … 0.0 0.0; … ; 0.0 0.0 … 49.99999999999999 0.0; 0.0 0.0 … 0.0 0.0], :bellman_term => 3331.245000000001, :node_index => 2, :objective_state => nothing, :belief => Dict(2 => 1.0), :x => SDDP.State{Float64}[SDDP.State{Float64}(0.0, 0.0) SDDP.State{Float64}(0.0, 0.0) … SDDP.State{Float64}(50.0, 50.0) SDDP.State{Float64}(0.0, 0.0); SDDP.State{Float64}(50.0, 50.0) SDDP.State{Float64}(50.0, 50.0) … SDDP.State{Float64}(50.0, 50.0) SDDP.State{Float64}(0.0, 0.0); … ; SDDP.State{Float64}(50.0, 50.0) SDDP.State{Float64}(50.0, 50.0) … SDDP.State{Float64}(50.0, 50.0) SDDP.State{Float64}(50.0, 50.0); SDDP.State{Float64}(50.0, 50.0) SDDP.State{Float64}(50.0, 50.0) … SDDP.State{Float64}(50.0, 50.0) SDDP.State{Float64}(50.0, 50.0)], :stage_objective => 551.095, :Q => [0.0 0.0 … 0.0 0.0; 161.29032258064518 161.2903225806452 … 0.0 0.0; … ; 0.0 0.0 … 161.29032258064515 0.0; 0.0 0.0 … 0.0 0.0]…), Dict(:b => [0.0 0.0 … 0.0 0.0; 0.0 0.0 … 0.0 0.0; … ; 0.0 0.0 … 0.0 0.0; 0.0 0.0 … 0.0 0.0], :l => SDDP.State{Float64}(31369.032258064544, 27738.06451612909), :w => [0.0 0.0 … 50.0 0.0; 0.0 0.0 … 0.0 0.0; … ; 0.0 50.0 … 0.0 50.0; 0.0 0.0 … 0.0 0.0], :bellman_term => 2776.0375000000004, :node_index => 3, :objective_state => nothing, :belief => Dict(3 => 1.0), :x => SDDP.State{Float64}[SDDP.State{Float64}(0.0, 0.0) SDDP.State{Float64}(0.0, 0.0) … SDDP.State{Float64}(50.0, 50.0) SDDP.State{Float64}(0.0, 0.0); SDDP.State{Float64}(50.0, 50.0) SDDP.State{Float64}(50.0, 50.0) … SDDP.State{Float64}(50.0, 50.0) SDDP.State{Float64}(0.0, 0.0); … ; SDDP.State{Float64}(50.0, 50.0) SDDP.State{Float64}(50.0, 50.0) … SDDP.State{Float64}(50.0, 50.0) SDDP.State{Float64}(50.0, 50.0); SDDP.State{Float64}(50.0, 50.0) SDDP.State{Float64}(50.0, 50.0) … SDDP.State{Float64}(50.0, 50.0) SDDP.State{Float64}(50.0, 50.0)], :stage_objective => 559.32, :Q => [0.0 0.0 … 161.29032258064518 0.0; 0.0 0.0 … 0.0 0.0; … ; 0.0 161.29032258064518 … 0.0 161.29032258064518; 0.0 0.0 … 0.0 0.0]…), Dict(:b => [0.0 0.0 … 0.0 0.0; 0.0 0.0 … 0.0 0.0; … ; 0.0 0.0 … 0.0 0.0; 0.0 0.0 … 0.0 0.0], :l => SDDP.State{Float64}(27738.06451612909, 24107.096774193633), :w => [0.0 0.0 … 0.0 0.0; 50.0 50.00000000000001 … 0.0 0.0; … ; 0.0 0.0 … 49.99999999999999 0.0; 0.0 0.0 … 0.0 0.0], :bellman_term => 2220.83, :node_index => 4, :objective_state => nothing, :belief => Dict(4 => 1.0), :x => SDDP.State{Float64}[SDDP.State{Float64}(0.0, 0.0) SDDP.State{Float64}(0.0, 0.0) … SDDP.State{Float64}(50.0, 50.0) SDDP.State{Float64}(0.0, 0.0); SDDP.State{Float64}(50.0, 50.0) SDDP.State{Float64}(50.0, 50.0) … SDDP.State{Float64}(50.0, 50.0) SDDP.State{Float64}(0.0, 0.0); … ; SDDP.State{Float64}(50.0, 50.0) SDDP.State{Float64}(50.0, 50.0) … SDDP.State{Float64}(50.0, 50.0) SDDP.State{Float64}(50.0, 50.0); SDDP.State{Float64}(50.0, 50.0) SDDP.State{Float64}(50.0, 50.0) … SDDP.State{Float64}(50.0, 50.0) SDDP.State{Float64}(50.0, 50.0)], :stage_objective => 551.095, :Q => [0.0 0.0 … 0.0 0.0; 161.29032258064518 161.2903225806452 … 0.0 0.0; … ; 0.0 0.0 … 161.29032258064515 0.0; 0.0 0.0 … 0.0 0.0]…), Dict(:b => [0.0 0.0 … 0.0 0.0; 0.0 0.0 … 0.0 0.0; … ; 0.0 0.0 … 0.0 0.0; 0.0 0.0 … 0.0 0.0], :l => SDDP.State{Float64}(24107.096774193633, 20476.129032258177), :w => [0.0 0.0 … 50.0 0.0; 0.0 0.0 … 0.0 0.0; … ; 0.0 50.0 … 0.0 50.0; 0.0 0.0 … 0.0 0.0], :bellman_term => 1665.6224999999986, :node_index => 5, :objective_state => nothing, :belief => Dict(5 => 1.0), :x => SDDP.State{Float64}[SDDP.State{Float64}(0.0, 0.0) SDDP.State{Float64}(0.0, 0.0) … SDDP.State{Float64}(50.0, 50.0) SDDP.State{Float64}(0.0, 0.0); SDDP.State{Float64}(50.0, 50.0) SDDP.State{Float64}(50.0, 50.0) … SDDP.State{Float64}(50.0, 50.0) SDDP.State{Float64}(0.0, 0.0); … ; SDDP.State{Float64}(50.0, 50.0) SDDP.State{Float64}(50.0, 50.0) … SDDP.State{Float64}(50.0, 50.0) SDDP.State{Float64}(50.0, 50.0); SDDP.State{Float64}(50.0, 50.0) SDDP.State{Float64}(50.0, 50.0) … SDDP.State{Float64}(50.0, 50.0) SDDP.State{Float64}(50.0, 50.0)], :stage_objective => 559.32, :Q => [0.0 0.0 … 161.29032258064518 0.0; 0.0 0.0 … 0.0 0.0; … ; 0.0 161.29032258064518 … 0.0 161.29032258064518; 0.0 0.0 … 0.0 0.0]…), Dict(:b => [0.0 0.0 … 0.0 0.0; 0.0 0.0 … 0.0 0.0; … ; 0.0 0.0 … 0.0 0.0; 0.0 0.0 … 0.0 0.0], :l => SDDP.State{Float64}(20476.129032258177, 16845.16129032272), :w => [0.0 0.0 … 0.0 0.0; 50.0 50.00000000000001 … 0.0 0.0; … ; 0.0 0.0 … 49.99999999999999 0.0; 0.0 0.0 … 0.0 0.0], :bellman_term => 1110.4149999999988, :node_index => 6, :objective_state => nothing, :belief => Dict(6 => 1.0), :x => SDDP.State{Float64}[SDDP.State{Float64}(0.0, 0.0) SDDP.State{Float64}(0.0, 0.0) … SDDP.State{Float64}(50.0, 50.0) SDDP.State{Float64}(0.0, 0.0); SDDP.State{Float64}(50.0, 50.0) SDDP.State{Float64}(50.0, 50.0) … SDDP.State{Float64}(50.0, 50.0) SDDP.State{Float64}(0.0, 0.0); … ; SDDP.State{Float64}(50.0, 50.0) SDDP.State{Float64}(50.0, 50.0) … SDDP.State{Float64}(50.0, 50.0) SDDP.State{Float64}(50.0, 50.0); SDDP.State{Float64}(50.0, 50.0) SDDP.State{Float64}(50.0, 50.0) … SDDP.State{Float64}(50.0, 50.0) SDDP.State{Float64}(50.0, 50.0)], :stage_objective => 551.095, :Q => [0.0 0.0 … 0.0 0.0; 161.29032258064518 161.2903225806452 … 0.0 0.0; … ; 0.0 0.0 … 161.29032258064515 0.0; 0.0 0.0 … 0.0 0.0]…), Dict(:b => [0.0 0.0 … 0.0 0.0; 0.0 0.0 … 0.0 0.0; … ; 0.0 0.0 … 0.0 0.0; 0.0 0.0 … 0.0 0.0], :l => SDDP.State{Float64}(16845.16129032272, 3630.967741935484), :w => [0.0 0.0 … 0.0 0.0; 50.0 50.00000000000001 … 0.0 0.0; … ; 0.0 0.0 … 49.99999999999999 0.0; 0.0 0.0 … 0.0 0.0], :bellman_term => 555.2074999999995, :node_index => 7, :objective_state => nothing, :belief => Dict(7 => 1.0), :x => SDDP.State{Float64}[SDDP.State{Float64}(0.0, 0.0) SDDP.State{Float64}(0.0, 0.0) … SDDP.State{Float64}(50.0, 50.0) SDDP.State{Float64}(0.0, 0.0); SDDP.State{Float64}(50.0, 50.0) SDDP.State{Float64}(50.0, 50.0) … SDDP.State{Float64}(50.0, 50.0) SDDP.State{Float64}(0.0, 0.0); … ; SDDP.State{Float64}(50.0, 50.0) SDDP.State{Float64}(50.0, 50.0) … SDDP.State{Float64}(50.0, 50.0) SDDP.State{Float64}(50.0, 50.0); SDDP.State{Float64}(50.0, 50.0) SDDP.State{Float64}(50.0, 50.0) … SDDP.State{Float64}(50.0, 50.0) SDDP.State{Float64}(50.0, 50.0)], :stage_objective => 551.095, :Q => [0.0 0.0 … 0.0 0.0; 161.29032258064518 161.2903225806452 … 0.0 0.0; … ; 0.0 0.0 … 161.29032258064515 0.0; 0.0 0.0 … 0.0 0.0]…), Dict(:b => [0.0 0.0 … 0.0 0.0; 0.0 0.0 … 0.0 0.0; … ; 0.0 0.0 … 0.0 0.0; 0.0 0.0 … 0.0 0.0], :l => SDDP.State{Float64}(3630.967741935484, -1.8189894035458565e-12), :w => [0.0 0.0 … 50.0 0.0; 0.0 0.0 … 0.0 0.0; … ; 0.0 50.0 … 0.0 50.0; 0.0 0.0 … 0.0 0.0], :bellman_term => 0.0, :node_index => 8, :objective_state => nothing, :belief => Dict(8 => 1.0), :x => SDDP.State{Float64}[SDDP.State{Float64}(0.0, 0.0) SDDP.State{Float64}(0.0, 0.0) … SDDP.State{Float64}(50.0, 0.0) SDDP.State{Float64}(0.0, 0.0); SDDP.State{Float64}(50.0, 0.0) SDDP.State{Float64}(50.0, 0.0) … SDDP.State{Float64}(50.0, 0.0) SDDP.State{Float64}(0.0, 0.0); … ; SDDP.State{Float64}(50.0, 50.0) SDDP.State{Float64}(50.0, 50.0) … SDDP.State{Float64}(50.0, 50.0) SDDP.State{Float64}(50.0, 50.0); SDDP.State{Float64}(50.0, 50.0) SDDP.State{Float64}(50.0, 50.0) … SDDP.State{Float64}(50.0, 50.0) SDDP.State{Float64}(50.0, 50.0)], :stage_objective => 559.32, :Q => [0.0 0.0 … 161.29032258064518 0.0; 0.0 0.0 … 0.0 0.0; … ; 0.0 161.29032258064518 … 0.0 161.29032258064518; 0.0 0.0 … 0.0 0.0]…)]\n",
       " [Dict(:b => [0.0 0.0 … 0.0 0.0; 0.0 0.0 … 0.0 0.0; … ; 0.0 0.0 … 0.0 0.0; 0.0 0.0 … 0.0 0.0], :l => SDDP.State{Float64}(35000.0, 35000.0), :w => [0.0 0.0 … 0.0 0.0; 0.0 0.0 … 0.0 0.0; … ; 0.0 0.0 … 0.0 0.0; 0.0 0.0 … 0.0 0.0], :bellman_term => 3886.4524999999994, :node_index => 1, :objective_state => nothing, :belief => Dict(1 => 1.0), :x => SDDP.State{Float64}[SDDP.State{Float64}(0.0, 0.0) SDDP.State{Float64}(0.0, 0.0) … SDDP.State{Float64}(0.0, 50.0) SDDP.State{Float64}(0.0, 0.0); SDDP.State{Float64}(0.0, 50.0) SDDP.State{Float64}(0.0, 50.0) … SDDP.State{Float64}(0.0, 50.0) SDDP.State{Float64}(0.0, 0.0); … ; SDDP.State{Float64}(0.0, 50.0) SDDP.State{Float64}(0.0, 50.0) … SDDP.State{Float64}(0.0, 50.0) SDDP.State{Float64}(0.0, 50.0); SDDP.State{Float64}(0.0, 50.0) SDDP.State{Float64}(0.0, 50.0) … SDDP.State{Float64}(0.0, 50.0) SDDP.State{Float64}(0.0, 50.0)], :stage_objective => 0, :Q => [0.0 0.0 … 0.0 0.0; 0.0 0.0 … 0.0 0.0; … ; 0.0 0.0 … 0.0 0.0; 0.0 0.0 … 0.0 0.0]…), Dict(:b => [0.0 0.0 … 0.0 0.0; 0.0 0.0 … 0.0 0.0; … ; 0.0 0.0 … 0.0 0.0; 0.0 0.0 … 0.0 0.0], :l => SDDP.State{Float64}(35000.0, 31369.032258064544), :w => [0.0 0.0 … 50.0 0.0; 0.0 0.0 … 0.0 0.0; … ; 0.0 50.0 … 0.0 50.0; 0.0 0.0 … 0.0 0.0], :bellman_term => 3331.2449999999994, :node_index => 2, :objective_state => nothing, :belief => Dict(2 => 1.0), :x => SDDP.State{Float64}[SDDP.State{Float64}(0.0, 0.0) SDDP.State{Float64}(0.0, 0.0) … SDDP.State{Float64}(50.0, 50.0) SDDP.State{Float64}(0.0, 0.0); SDDP.State{Float64}(50.0, 50.0) SDDP.State{Float64}(50.0, 50.0) … SDDP.State{Float64}(50.0, 50.0) SDDP.State{Float64}(0.0, 0.0); … ; SDDP.State{Float64}(50.0, 50.0) SDDP.State{Float64}(50.0, 50.0) … SDDP.State{Float64}(50.0, 50.0) SDDP.State{Float64}(50.0, 50.0); SDDP.State{Float64}(50.0, 50.0) SDDP.State{Float64}(50.0, 50.0) … SDDP.State{Float64}(50.0, 50.0) SDDP.State{Float64}(50.0, 50.0)], :stage_objective => 559.32, :Q => [0.0 0.0 … 161.29032258064518 0.0; 0.0 0.0 … 0.0 0.0; … ; 0.0 161.29032258064518 … 0.0 161.29032258064518; 0.0 0.0 … 0.0 0.0]…), Dict(:b => [0.0 0.0 … 0.0 0.0; 0.0 0.0 … 0.0 0.0; … ; 0.0 0.0 … 0.0 0.0; 0.0 0.0 … 0.0 0.0], :l => SDDP.State{Float64}(31369.032258064544, 27738.06451612909), :w => [0.0 0.0 … 0.0 0.0; 50.0 50.00000000000001 … 0.0 0.0; … ; 0.0 0.0 … 49.99999999999999 0.0; 0.0 0.0 … 0.0 0.0], :bellman_term => 2776.0375000000004, :node_index => 3, :objective_state => nothing, :belief => Dict(3 => 1.0), :x => SDDP.State{Float64}[SDDP.State{Float64}(0.0, 0.0) SDDP.State{Float64}(0.0, 0.0) … SDDP.State{Float64}(50.0, 50.0) SDDP.State{Float64}(0.0, 0.0); SDDP.State{Float64}(50.0, 50.0) SDDP.State{Float64}(50.0, 50.0) … SDDP.State{Float64}(50.0, 50.0) SDDP.State{Float64}(0.0, 0.0); … ; SDDP.State{Float64}(50.0, 50.0) SDDP.State{Float64}(50.0, 50.0) … SDDP.State{Float64}(50.0, 50.0) SDDP.State{Float64}(50.0, 50.0); SDDP.State{Float64}(50.0, 50.0) SDDP.State{Float64}(50.0, 50.0) … SDDP.State{Float64}(50.0, 50.0) SDDP.State{Float64}(50.0, 50.0)], :stage_objective => 551.095, :Q => [0.0 0.0 … 0.0 0.0; 161.29032258064518 161.2903225806452 … 0.0 0.0; … ; 0.0 0.0 … 161.29032258064515 0.0; 0.0 0.0 … 0.0 0.0]…), Dict(:b => [0.0 0.0 … 0.0 0.0; 0.0 0.0 … 0.0 0.0; … ; 0.0 0.0 … 0.0 0.0; 0.0 0.0 … 0.0 0.0], :l => SDDP.State{Float64}(27738.06451612909, 24107.096774193633), :w => [0.0 0.0 … 0.0 0.0; 50.0 50.00000000000001 … 0.0 0.0; … ; 0.0 0.0 … 49.99999999999999 0.0; 0.0 0.0 … 0.0 0.0], :bellman_term => 2220.829999999999, :node_index => 4, :objective_state => nothing, :belief => Dict(4 => 1.0), :x => SDDP.State{Float64}[SDDP.State{Float64}(0.0, 0.0) SDDP.State{Float64}(0.0, 0.0) … SDDP.State{Float64}(50.0, 50.0) SDDP.State{Float64}(0.0, 0.0); SDDP.State{Float64}(50.0, 50.0) SDDP.State{Float64}(50.0, 50.0) … SDDP.State{Float64}(50.0, 50.0) SDDP.State{Float64}(0.0, 0.0); … ; SDDP.State{Float64}(50.0, 50.0) SDDP.State{Float64}(50.0, 50.0) … SDDP.State{Float64}(50.0, 50.0) SDDP.State{Float64}(50.0, 50.0); SDDP.State{Float64}(50.0, 50.0) SDDP.State{Float64}(50.0, 50.0) … SDDP.State{Float64}(50.0, 50.0) SDDP.State{Float64}(50.0, 50.0)], :stage_objective => 551.095, :Q => [0.0 0.0 … 0.0 0.0; 161.29032258064518 161.2903225806452 … 0.0 0.0; … ; 0.0 0.0 … 161.29032258064515 0.0; 0.0 0.0 … 0.0 0.0]…), Dict(:b => [0.0 0.0 … 0.0 0.0; 0.0 0.0 … 0.0 0.0; … ; 0.0 0.0 … 0.0 0.0; 0.0 0.0 … 0.0 0.0], :l => SDDP.State{Float64}(24107.096774193633, 20476.129032258177), :w => [0.0 0.0 … 0.0 0.0; 50.0 50.00000000000001 … 0.0 0.0; … ; 0.0 0.0 … 49.99999999999999 0.0; 0.0 0.0 … 0.0 0.0], :bellman_term => 1665.6224999999988, :node_index => 5, :objective_state => nothing, :belief => Dict(5 => 1.0), :x => SDDP.State{Float64}[SDDP.State{Float64}(0.0, 0.0) SDDP.State{Float64}(0.0, 0.0) … SDDP.State{Float64}(50.0, 50.0) SDDP.State{Float64}(0.0, 0.0); SDDP.State{Float64}(50.0, 50.0) SDDP.State{Float64}(50.0, 50.0) … SDDP.State{Float64}(50.0, 50.0) SDDP.State{Float64}(0.0, 0.0); … ; SDDP.State{Float64}(50.0, 50.0) SDDP.State{Float64}(50.0, 50.0) … SDDP.State{Float64}(50.0, 50.0) SDDP.State{Float64}(50.0, 50.0); SDDP.State{Float64}(50.0, 50.0) SDDP.State{Float64}(50.0, 50.0) … SDDP.State{Float64}(50.0, 50.0) SDDP.State{Float64}(50.0, 50.0)], :stage_objective => 551.095, :Q => [0.0 0.0 … 0.0 0.0; 161.29032258064518 161.2903225806452 … 0.0 0.0; … ; 0.0 0.0 … 161.29032258064515 0.0; 0.0 0.0 … 0.0 0.0]…), Dict(:b => [0.0 0.0 … 0.0 0.0; 0.0 0.0 … 0.0 0.0; … ; 0.0 0.0 … 0.0 0.0; 0.0 0.0 … 0.0 0.0], :l => SDDP.State{Float64}(20476.129032258177, 16845.16129032272), :w => [0.0 0.0 … 50.0 0.0; 0.0 0.0 … 0.0 0.0; … ; 0.0 50.0 … 0.0 50.0; 0.0 0.0 … 0.0 0.0], :bellman_term => 1110.414999999999, :node_index => 6, :objective_state => nothing, :belief => Dict(6 => 1.0), :x => SDDP.State{Float64}[SDDP.State{Float64}(0.0, 0.0) SDDP.State{Float64}(0.0, 0.0) … SDDP.State{Float64}(50.0, 50.0) SDDP.State{Float64}(0.0, 0.0); SDDP.State{Float64}(50.0, 50.0) SDDP.State{Float64}(50.0, 50.0) … SDDP.State{Float64}(50.0, 50.0) SDDP.State{Float64}(0.0, 0.0); … ; SDDP.State{Float64}(50.0, 50.0) SDDP.State{Float64}(50.0, 50.0) … SDDP.State{Float64}(50.0, 50.0) SDDP.State{Float64}(50.0, 50.0); SDDP.State{Float64}(50.0, 50.0) SDDP.State{Float64}(50.0, 50.0) … SDDP.State{Float64}(50.0, 50.0) SDDP.State{Float64}(50.0, 50.0)], :stage_objective => 559.32, :Q => [0.0 0.0 … 161.29032258064518 0.0; 0.0 0.0 … 0.0 0.0; … ; 0.0 161.29032258064518 … 0.0 161.29032258064518; 0.0 0.0 … 0.0 0.0]…), Dict(:b => [0.0 0.0 … 0.0 0.0; 0.0 0.0 … 0.0 0.0; … ; 0.0 0.0 … 0.0 0.0; 0.0 0.0 … 0.0 0.0], :l => SDDP.State{Float64}(16845.16129032272, 3630.967741935484), :w => [0.0 0.0 … 50.0 0.0; 0.0 0.0 … 0.0 0.0; … ; 0.0 50.0 … 0.0 50.0; 0.0 0.0 … 0.0 0.0], :bellman_term => 555.2074999999994, :node_index => 7, :objective_state => nothing, :belief => Dict(7 => 1.0), :x => SDDP.State{Float64}[SDDP.State{Float64}(0.0, 0.0) SDDP.State{Float64}(0.0, 0.0) … SDDP.State{Float64}(50.0, 50.0) SDDP.State{Float64}(0.0, 0.0); SDDP.State{Float64}(50.0, 50.0) SDDP.State{Float64}(50.0, 50.0) … SDDP.State{Float64}(50.0, 50.0) SDDP.State{Float64}(0.0, 0.0); … ; SDDP.State{Float64}(50.0, 50.0) SDDP.State{Float64}(50.0, 50.0) … SDDP.State{Float64}(50.0, 50.0) SDDP.State{Float64}(50.0, 50.0); SDDP.State{Float64}(50.0, 50.0) SDDP.State{Float64}(50.0, 50.0) … SDDP.State{Float64}(50.0, 50.0) SDDP.State{Float64}(50.0, 50.0)], :stage_objective => 559.32, :Q => [0.0 0.0 … 161.29032258064518 0.0; 0.0 0.0 … 0.0 0.0; … ; 0.0 161.29032258064518 … 0.0 161.29032258064518; 0.0 0.0 … 0.0 0.0]…), Dict(:b => [0.0 0.0 … 0.0 0.0; 0.0 0.0 … 0.0 0.0; … ; 0.0 0.0 … 0.0 0.0; 0.0 0.0 … 0.0 0.0], :l => SDDP.State{Float64}(3630.967741935484, -1.8189894035458565e-12), :w => [0.0 0.0 … 50.0 0.0; 0.0 0.0 … 0.0 0.0; … ; 0.0 50.0 … 0.0 50.0; 0.0 0.0 … 0.0 0.0], :bellman_term => 0.0, :node_index => 8, :objective_state => nothing, :belief => Dict(8 => 1.0), :x => SDDP.State{Float64}[SDDP.State{Float64}(0.0, 0.0) SDDP.State{Float64}(0.0, 0.0) … SDDP.State{Float64}(50.0, 0.0) SDDP.State{Float64}(0.0, 0.0); SDDP.State{Float64}(50.0, 0.0) SDDP.State{Float64}(50.0, 0.0) … SDDP.State{Float64}(50.0, 0.0) SDDP.State{Float64}(0.0, 0.0); … ; SDDP.State{Float64}(50.0, 50.0) SDDP.State{Float64}(50.0, 50.0) … SDDP.State{Float64}(50.0, 50.0) SDDP.State{Float64}(50.0, 50.0); SDDP.State{Float64}(50.0, 50.0) SDDP.State{Float64}(50.0, 50.0) … SDDP.State{Float64}(50.0, 50.0) SDDP.State{Float64}(50.0, 50.0)], :stage_objective => 559.32, :Q => [0.0 0.0 … 161.29032258064518 0.0; 0.0 0.0 … 0.0 0.0; … ; 0.0 161.29032258064518 … 0.0 161.29032258064518; 0.0 0.0 … 0.0 0.0]…)]\n",
       " [Dict(:b => [0.0 0.0 … 0.0 0.0; 0.0 0.0 … 0.0 0.0; … ; 0.0 0.0 … 0.0 0.0; 0.0 0.0 … 0.0 0.0], :l => SDDP.State{Float64}(35000.0, 35000.0), :w => [0.0 0.0 … 0.0 0.0; 0.0 0.0 … 0.0 0.0; … ; 0.0 0.0 … 0.0 0.0; 0.0 0.0 … 0.0 0.0], :bellman_term => 3886.4524999999994, :node_index => 1, :objective_state => nothing, :belief => Dict(1 => 1.0), :x => SDDP.State{Float64}[SDDP.State{Float64}(0.0, 0.0) SDDP.State{Float64}(0.0, 0.0) … SDDP.State{Float64}(0.0, 50.0) SDDP.State{Float64}(0.0, 0.0); SDDP.State{Float64}(0.0, 50.0) SDDP.State{Float64}(0.0, 50.0) … SDDP.State{Float64}(0.0, 50.0) SDDP.State{Float64}(0.0, 0.0); … ; SDDP.State{Float64}(0.0, 50.0) SDDP.State{Float64}(0.0, 50.0) … SDDP.State{Float64}(0.0, 50.0) SDDP.State{Float64}(0.0, 50.0); SDDP.State{Float64}(0.0, 50.0) SDDP.State{Float64}(0.0, 50.0) … SDDP.State{Float64}(0.0, 50.0) SDDP.State{Float64}(0.0, 50.0)], :stage_objective => 0, :Q => [0.0 0.0 … 0.0 0.0; 0.0 0.0 … 0.0 0.0; … ; 0.0 0.0 … 0.0 0.0; 0.0 0.0 … 0.0 0.0]…), Dict(:b => [0.0 0.0 … 0.0 0.0; 0.0 0.0 … 0.0 0.0; … ; 0.0 0.0 … 0.0 0.0; 0.0 0.0 … 0.0 0.0], :l => SDDP.State{Float64}(35000.0, 31369.032258064544), :w => [0.0 0.0 … 50.0 0.0; 0.0 0.0 … 0.0 0.0; … ; 0.0 50.0 … 0.0 50.0; 0.0 0.0 … 0.0 0.0], :bellman_term => 3331.245000000001, :node_index => 2, :objective_state => nothing, :belief => Dict(2 => 1.0), :x => SDDP.State{Float64}[SDDP.State{Float64}(0.0, 0.0) SDDP.State{Float64}(0.0, 0.0) … SDDP.State{Float64}(50.0, 50.0) SDDP.State{Float64}(0.0, 0.0); SDDP.State{Float64}(50.0, 50.0) SDDP.State{Float64}(50.0, 50.0) … SDDP.State{Float64}(50.0, 50.0) SDDP.State{Float64}(0.0, 0.0); … ; SDDP.State{Float64}(50.0, 50.0) SDDP.State{Float64}(50.0, 50.0) … SDDP.State{Float64}(50.0, 50.0) SDDP.State{Float64}(50.0, 50.0); SDDP.State{Float64}(50.0, 50.0) SDDP.State{Float64}(50.0, 50.0) … SDDP.State{Float64}(50.0, 50.0) SDDP.State{Float64}(50.0, 50.0)], :stage_objective => 559.32, :Q => [0.0 0.0 … 161.29032258064518 0.0; 0.0 0.0 … 0.0 0.0; … ; 0.0 161.29032258064518 … 0.0 161.29032258064518; 0.0 0.0 … 0.0 0.0]…), Dict(:b => [0.0 0.0 … 0.0 0.0; 0.0 0.0 … 0.0 0.0; … ; 0.0 0.0 … 0.0 0.0; 0.0 0.0 … 0.0 0.0], :l => SDDP.State{Float64}(31369.032258064544, 27738.06451612909), :w => [0.0 0.0 … 0.0 0.0; 50.0 50.00000000000001 … 0.0 0.0; … ; 0.0 0.0 … 49.99999999999999 0.0; 0.0 0.0 … 0.0 0.0], :bellman_term => 2776.0375000000004, :node_index => 3, :objective_state => nothing, :belief => Dict(3 => 1.0), :x => SDDP.State{Float64}[SDDP.State{Float64}(0.0, 0.0) SDDP.State{Float64}(0.0, 0.0) … SDDP.State{Float64}(50.0, 50.0) SDDP.State{Float64}(0.0, 0.0); SDDP.State{Float64}(50.0, 50.0) SDDP.State{Float64}(50.0, 50.0) … SDDP.State{Float64}(50.0, 50.0) SDDP.State{Float64}(0.0, 0.0); … ; SDDP.State{Float64}(50.0, 50.0) SDDP.State{Float64}(50.0, 50.0) … SDDP.State{Float64}(50.0, 50.0) SDDP.State{Float64}(50.0, 50.0); SDDP.State{Float64}(50.0, 50.0) SDDP.State{Float64}(50.0, 50.0) … SDDP.State{Float64}(50.0, 50.0) SDDP.State{Float64}(50.0, 50.0)], :stage_objective => 551.095, :Q => [0.0 0.0 … 0.0 0.0; 161.29032258064518 161.2903225806452 … 0.0 0.0; … ; 0.0 0.0 … 161.29032258064515 0.0; 0.0 0.0 … 0.0 0.0]…), Dict(:b => [0.0 0.0 … 0.0 0.0; 0.0 0.0 … 0.0 0.0; … ; 0.0 0.0 … 0.0 0.0; 0.0 0.0 … 0.0 0.0], :l => SDDP.State{Float64}(27738.06451612909, 24107.096774193633), :w => [0.0 0.0 … 50.0 0.0; 0.0 0.0 … 0.0 0.0; … ; 0.0 50.0 … 0.0 50.0; 0.0 0.0 … 0.0 0.0], :bellman_term => 2220.83, :node_index => 4, :objective_state => nothing, :belief => Dict(4 => 1.0), :x => SDDP.State{Float64}[SDDP.State{Float64}(0.0, 0.0) SDDP.State{Float64}(0.0, 0.0) … SDDP.State{Float64}(50.0, 50.0) SDDP.State{Float64}(0.0, 0.0); SDDP.State{Float64}(50.0, 50.0) SDDP.State{Float64}(50.0, 50.0) … SDDP.State{Float64}(50.0, 50.0) SDDP.State{Float64}(0.0, 0.0); … ; SDDP.State{Float64}(50.0, 50.0) SDDP.State{Float64}(50.0, 50.0) … SDDP.State{Float64}(50.0, 50.0) SDDP.State{Float64}(50.0, 50.0); SDDP.State{Float64}(50.0, 50.0) SDDP.State{Float64}(50.0, 50.0) … SDDP.State{Float64}(50.0, 50.0) SDDP.State{Float64}(50.0, 50.0)], :stage_objective => 559.32, :Q => [0.0 0.0 … 161.29032258064518 0.0; 0.0 0.0 … 0.0 0.0; … ; 0.0 161.29032258064518 … 0.0 161.29032258064518; 0.0 0.0 … 0.0 0.0]…), Dict(:b => [0.0 0.0 … 0.0 0.0; 0.0 0.0 … 0.0 0.0; … ; 0.0 0.0 … 0.0 0.0; 0.0 0.0 … 0.0 0.0], :l => SDDP.State{Float64}(24107.096774193633, 20476.129032258177), :w => [0.0 0.0 … 0.0 0.0; 50.0 50.00000000000001 … 0.0 0.0; … ; 0.0 0.0 … 49.99999999999999 0.0; 0.0 0.0 … 0.0 0.0], :bellman_term => 1665.6224999999988, :node_index => 5, :objective_state => nothing, :belief => Dict(5 => 1.0), :x => SDDP.State{Float64}[SDDP.State{Float64}(0.0, 0.0) SDDP.State{Float64}(0.0, 0.0) … SDDP.State{Float64}(50.0, 50.0) SDDP.State{Float64}(0.0, 0.0); SDDP.State{Float64}(50.0, 50.0) SDDP.State{Float64}(50.0, 50.0) … SDDP.State{Float64}(50.0, 50.0) SDDP.State{Float64}(0.0, 0.0); … ; SDDP.State{Float64}(50.0, 50.0) SDDP.State{Float64}(50.0, 50.0) … SDDP.State{Float64}(50.0, 50.0) SDDP.State{Float64}(50.0, 50.0); SDDP.State{Float64}(50.0, 50.0) SDDP.State{Float64}(50.0, 50.0) … SDDP.State{Float64}(50.0, 50.0) SDDP.State{Float64}(50.0, 50.0)], :stage_objective => 551.095, :Q => [0.0 0.0 … 0.0 0.0; 161.29032258064518 161.2903225806452 … 0.0 0.0; … ; 0.0 0.0 … 161.29032258064515 0.0; 0.0 0.0 … 0.0 0.0]…), Dict(:b => [0.0 0.0 … 0.0 0.0; 0.0 0.0 … 0.0 0.0; … ; 0.0 0.0 … 0.0 0.0; 0.0 0.0 … 0.0 0.0], :l => SDDP.State{Float64}(20476.129032258177, 16845.16129032272), :w => [0.0 0.0 … 50.0 0.0; 0.0 0.0 … 0.0 0.0; … ; 0.0 50.0 … 0.0 50.0; 0.0 0.0 … 0.0 0.0], :bellman_term => 1110.4149999999986, :node_index => 6, :objective_state => nothing, :belief => Dict(6 => 1.0), :x => SDDP.State{Float64}[SDDP.State{Float64}(0.0, 0.0) SDDP.State{Float64}(0.0, 0.0) … SDDP.State{Float64}(50.0, 50.0) SDDP.State{Float64}(0.0, 0.0); SDDP.State{Float64}(50.0, 50.0) SDDP.State{Float64}(50.0, 50.0) … SDDP.State{Float64}(50.0, 50.0) SDDP.State{Float64}(0.0, 0.0); … ; SDDP.State{Float64}(50.0, 50.0) SDDP.State{Float64}(50.0, 50.0) … SDDP.State{Float64}(50.0, 50.0) SDDP.State{Float64}(50.0, 50.0); SDDP.State{Float64}(50.0, 50.0) SDDP.State{Float64}(50.0, 50.0) … SDDP.State{Float64}(50.0, 50.0) SDDP.State{Float64}(50.0, 50.0)], :stage_objective => 559.32, :Q => [0.0 0.0 … 161.29032258064518 0.0; 0.0 0.0 … 0.0 0.0; … ; 0.0 161.29032258064518 … 0.0 161.29032258064518; 0.0 0.0 … 0.0 0.0]…), Dict(:b => [0.0 0.0 … 0.0 0.0; 0.0 0.0 … 0.0 0.0; … ; 0.0 0.0 … 0.0 0.0; 0.0 0.0 … 0.0 0.0], :l => SDDP.State{Float64}(16845.16129032272, 3630.967741935484), :w => [0.0 0.0 … 50.0 0.0; 0.0 0.0 … 0.0 0.0; … ; 0.0 50.0 … 0.0 50.0; 0.0 0.0 … 0.0 0.0], :bellman_term => 555.2075000000001, :node_index => 7, :objective_state => nothing, :belief => Dict(7 => 1.0), :x => SDDP.State{Float64}[SDDP.State{Float64}(0.0, 0.0) SDDP.State{Float64}(0.0, 0.0) … SDDP.State{Float64}(50.0, 50.0) SDDP.State{Float64}(0.0, 0.0); SDDP.State{Float64}(50.0, 50.0) SDDP.State{Float64}(50.0, 50.0) … SDDP.State{Float64}(50.0, 50.0) SDDP.State{Float64}(0.0, 0.0); … ; SDDP.State{Float64}(50.0, 50.0) SDDP.State{Float64}(50.0, 50.0) … SDDP.State{Float64}(50.0, 50.0) SDDP.State{Float64}(50.0, 50.0); SDDP.State{Float64}(50.0, 50.0) SDDP.State{Float64}(50.0, 50.0) … SDDP.State{Float64}(50.0, 50.0) SDDP.State{Float64}(50.0, 50.0)], :stage_objective => 559.32, :Q => [0.0 0.0 … 161.29032258064518 0.0; 0.0 0.0 … 0.0 0.0; … ; 0.0 161.29032258064518 … 0.0 161.29032258064518; 0.0 0.0 … 0.0 0.0]…), Dict(:b => [0.0 0.0 … 0.0 0.0; 0.0 0.0 … 0.0 0.0; … ; 0.0 0.0 … 0.0 0.0; 0.0 0.0 … 0.0 0.0], :l => SDDP.State{Float64}(3630.967741935484, -1.8189894035458565e-12), :w => [0.0 0.0 … 0.0 0.0; 50.0 50.00000000000001 … 0.0 0.0; … ; 0.0 0.0 … 49.99999999999999 0.0; 0.0 0.0 … 0.0 0.0], :bellman_term => 0.0, :node_index => 8, :objective_state => nothing, :belief => Dict(8 => 1.0), :x => SDDP.State{Float64}[SDDP.State{Float64}(0.0, 0.0) SDDP.State{Float64}(0.0, 0.0) … SDDP.State{Float64}(50.0, 0.0) SDDP.State{Float64}(0.0, 0.0); SDDP.State{Float64}(50.0, 0.0) SDDP.State{Float64}(50.0, 0.0) … SDDP.State{Float64}(50.0, 0.0) SDDP.State{Float64}(0.0, 0.0); … ; SDDP.State{Float64}(50.0, 50.0) SDDP.State{Float64}(50.0, 50.0) … SDDP.State{Float64}(50.0, 50.0) SDDP.State{Float64}(50.0, 50.0); SDDP.State{Float64}(50.0, 50.0) SDDP.State{Float64}(50.0, 50.0) … SDDP.State{Float64}(50.0, 50.0) SDDP.State{Float64}(50.0, 50.0)], :stage_objective => 551.095, :Q => [0.0 0.0 … 0.0 0.0; 161.29032258064518 161.2903225806452 … 0.0 0.0; … ; 0.0 0.0 … 161.29032258064515 0.0; 0.0 0.0 … 0.0 0.0]…)]\n",
       " [Dict(:b => [0.0 0.0 … 0.0 0.0; 0.0 0.0 … 0.0 0.0; … ; 0.0 0.0 … 0.0 0.0; 0.0 0.0 … 0.0 0.0], :l => SDDP.State{Float64}(35000.0, 35000.0), :w => [0.0 0.0 … 0.0 0.0; 0.0 0.0 … 0.0 0.0; … ; 0.0 0.0 … 0.0 0.0; 0.0 0.0 … 0.0 0.0], :bellman_term => 3886.4524999999994, :node_index => 1, :objective_state => nothing, :belief => Dict(1 => 1.0), :x => SDDP.State{Float64}[SDDP.State{Float64}(0.0, 0.0) SDDP.State{Float64}(0.0, 0.0) … SDDP.State{Float64}(0.0, 50.0) SDDP.State{Float64}(0.0, 0.0); SDDP.State{Float64}(0.0, 50.0) SDDP.State{Float64}(0.0, 50.0) … SDDP.State{Float64}(0.0, 50.0) SDDP.State{Float64}(0.0, 0.0); … ; SDDP.State{Float64}(0.0, 50.0) SDDP.State{Float64}(0.0, 50.0) … SDDP.State{Float64}(0.0, 50.0) SDDP.State{Float64}(0.0, 50.0); SDDP.State{Float64}(0.0, 50.0) SDDP.State{Float64}(0.0, 50.0) … SDDP.State{Float64}(0.0, 50.0) SDDP.State{Float64}(0.0, 50.0)], :stage_objective => 0, :Q => [0.0 0.0 … 0.0 0.0; 0.0 0.0 … 0.0 0.0; … ; 0.0 0.0 … 0.0 0.0; 0.0 0.0 … 0.0 0.0]…), Dict(:b => [0.0 0.0 … 0.0 0.0; 0.0 0.0 … 0.0 0.0; … ; 0.0 0.0 … 0.0 0.0; 0.0 0.0 … 0.0 0.0], :l => SDDP.State{Float64}(35000.0, 31369.032258064544), :w => [0.0 0.0 … 0.0 0.0; 50.0 50.00000000000001 … 0.0 0.0; … ; 0.0 0.0 … 49.99999999999999 0.0; 0.0 0.0 … 0.0 0.0], :bellman_term => 3331.244999999999, :node_index => 2, :objective_state => nothing, :belief => Dict(2 => 1.0), :x => SDDP.State{Float64}[SDDP.State{Float64}(0.0, 0.0) SDDP.State{Float64}(0.0, 0.0) … SDDP.State{Float64}(50.0, 50.0) SDDP.State{Float64}(0.0, 0.0); SDDP.State{Float64}(50.0, 50.0) SDDP.State{Float64}(50.0, 50.0) … SDDP.State{Float64}(50.0, 50.0) SDDP.State{Float64}(0.0, 0.0); … ; SDDP.State{Float64}(50.0, 50.0) SDDP.State{Float64}(50.0, 50.0) … SDDP.State{Float64}(50.0, 50.0) SDDP.State{Float64}(50.0, 50.0); SDDP.State{Float64}(50.0, 50.0) SDDP.State{Float64}(50.0, 50.0) … SDDP.State{Float64}(50.0, 50.0) SDDP.State{Float64}(50.0, 50.0)], :stage_objective => 551.095, :Q => [0.0 0.0 … 0.0 0.0; 161.29032258064518 161.2903225806452 … 0.0 0.0; … ; 0.0 0.0 … 161.29032258064515 0.0; 0.0 0.0 … 0.0 0.0]…), Dict(:b => [0.0 0.0 … 0.0 0.0; 0.0 0.0 … 0.0 0.0; … ; 0.0 0.0 … 0.0 0.0; 0.0 0.0 … 0.0 0.0], :l => SDDP.State{Float64}(31369.032258064544, 27738.06451612909), :w => [0.0 0.0 … 50.0 0.0; 0.0 0.0 … 0.0 0.0; … ; 0.0 50.0 … 0.0 50.0; 0.0 0.0 … 0.0 0.0], :bellman_term => 2776.0375000000004, :node_index => 3, :objective_state => nothing, :belief => Dict(3 => 1.0), :x => SDDP.State{Float64}[SDDP.State{Float64}(0.0, 0.0) SDDP.State{Float64}(0.0, 0.0) … SDDP.State{Float64}(50.0, 50.0) SDDP.State{Float64}(0.0, 0.0); SDDP.State{Float64}(50.0, 50.0) SDDP.State{Float64}(50.0, 50.0) … SDDP.State{Float64}(50.0, 50.0) SDDP.State{Float64}(0.0, 0.0); … ; SDDP.State{Float64}(50.0, 50.0) SDDP.State{Float64}(50.0, 50.0) … SDDP.State{Float64}(50.0, 50.0) SDDP.State{Float64}(50.0, 50.0); SDDP.State{Float64}(50.0, 50.0) SDDP.State{Float64}(50.0, 50.0) … SDDP.State{Float64}(50.0, 50.0) SDDP.State{Float64}(50.0, 50.0)], :stage_objective => 559.32, :Q => [0.0 0.0 … 161.29032258064518 0.0; 0.0 0.0 … 0.0 0.0; … ; 0.0 161.29032258064518 … 0.0 161.29032258064518; 0.0 0.0 … 0.0 0.0]…), Dict(:b => [0.0 0.0 … 0.0 0.0; 0.0 0.0 … 0.0 0.0; … ; 0.0 0.0 … 0.0 0.0; 0.0 0.0 … 0.0 0.0], :l => SDDP.State{Float64}(27738.06451612909, 24107.096774193633), :w => [0.0 0.0 … 50.0 0.0; 0.0 0.0 … 0.0 0.0; … ; 0.0 50.0 … 0.0 50.0; 0.0 0.0 … 0.0 0.0], :bellman_term => 2220.829999999999, :node_index => 4, :objective_state => nothing, :belief => Dict(4 => 1.0), :x => SDDP.State{Float64}[SDDP.State{Float64}(0.0, 0.0) SDDP.State{Float64}(0.0, 0.0) … SDDP.State{Float64}(50.0, 50.0) SDDP.State{Float64}(0.0, 0.0); SDDP.State{Float64}(50.0, 50.0) SDDP.State{Float64}(50.0, 50.0) … SDDP.State{Float64}(50.0, 50.0) SDDP.State{Float64}(0.0, 0.0); … ; SDDP.State{Float64}(50.0, 50.0) SDDP.State{Float64}(50.0, 50.0) … SDDP.State{Float64}(50.0, 50.0) SDDP.State{Float64}(50.0, 50.0); SDDP.State{Float64}(50.0, 50.0) SDDP.State{Float64}(50.0, 50.0) … SDDP.State{Float64}(50.0, 50.0) SDDP.State{Float64}(50.0, 50.0)], :stage_objective => 559.32, :Q => [0.0 0.0 … 161.29032258064518 0.0; 0.0 0.0 … 0.0 0.0; … ; 0.0 161.29032258064518 … 0.0 161.29032258064518; 0.0 0.0 … 0.0 0.0]…), Dict(:b => [0.0 0.0 … 0.0 0.0; 0.0 0.0 … 0.0 0.0; … ; 0.0 0.0 … 0.0 0.0; 0.0 0.0 … 0.0 0.0], :l => SDDP.State{Float64}(24107.096774193633, 20476.129032258177), :w => [0.0 0.0 … 50.0 0.0; 0.0 0.0 … 0.0 0.0; … ; 0.0 50.0 … 0.0 50.0; 0.0 0.0 … 0.0 0.0], :bellman_term => 1665.6224999999986, :node_index => 5, :objective_state => nothing, :belief => Dict(5 => 1.0), :x => SDDP.State{Float64}[SDDP.State{Float64}(0.0, 0.0) SDDP.State{Float64}(0.0, 0.0) … SDDP.State{Float64}(50.0, 50.0) SDDP.State{Float64}(0.0, 0.0); SDDP.State{Float64}(50.0, 50.0) SDDP.State{Float64}(50.0, 50.0) … SDDP.State{Float64}(50.0, 50.0) SDDP.State{Float64}(0.0, 0.0); … ; SDDP.State{Float64}(50.0, 50.0) SDDP.State{Float64}(50.0, 50.0) … SDDP.State{Float64}(50.0, 50.0) SDDP.State{Float64}(50.0, 50.0); SDDP.State{Float64}(50.0, 50.0) SDDP.State{Float64}(50.0, 50.0) … SDDP.State{Float64}(50.0, 50.0) SDDP.State{Float64}(50.0, 50.0)], :stage_objective => 559.32, :Q => [0.0 0.0 … 161.29032258064518 0.0; 0.0 0.0 … 0.0 0.0; … ; 0.0 161.29032258064518 … 0.0 161.29032258064518; 0.0 0.0 … 0.0 0.0]…), Dict(:b => [0.0 0.0 … 0.0 0.0; 0.0 0.0 … 0.0 0.0; … ; 0.0 0.0 … 0.0 0.0; 0.0 0.0 … 0.0 0.0], :l => SDDP.State{Float64}(20476.129032258177, 16845.16129032272), :w => [0.0 0.0 … 0.0 0.0; 50.0 50.00000000000001 … 0.0 0.0; … ; 0.0 0.0 … 49.99999999999999 0.0; 0.0 0.0 … 0.0 0.0], :bellman_term => 1110.414999999999, :node_index => 6, :objective_state => nothing, :belief => Dict(6 => 1.0), :x => SDDP.State{Float64}[SDDP.State{Float64}(0.0, 0.0) SDDP.State{Float64}(0.0, 0.0) … SDDP.State{Float64}(50.0, 50.0) SDDP.State{Float64}(0.0, 0.0); SDDP.State{Float64}(50.0, 50.0) SDDP.State{Float64}(50.0, 50.0) … SDDP.State{Float64}(50.0, 50.0) SDDP.State{Float64}(0.0, 0.0); … ; SDDP.State{Float64}(50.0, 50.0) SDDP.State{Float64}(50.0, 50.0) … SDDP.State{Float64}(50.0, 50.0) SDDP.State{Float64}(50.0, 50.0); SDDP.State{Float64}(50.0, 50.0) SDDP.State{Float64}(50.0, 50.0) … SDDP.State{Float64}(50.0, 50.0) SDDP.State{Float64}(50.0, 50.0)], :stage_objective => 551.095, :Q => [0.0 0.0 … 0.0 0.0; 161.29032258064518 161.2903225806452 … 0.0 0.0; … ; 0.0 0.0 … 161.29032258064515 0.0; 0.0 0.0 … 0.0 0.0]…), Dict(:b => [0.0 0.0 … 0.0 0.0; 0.0 0.0 … 0.0 0.0; … ; 0.0 0.0 … 0.0 0.0; 0.0 0.0 … 0.0 0.0], :l => SDDP.State{Float64}(16845.16129032272, 3630.967741935484), :w => [0.0 0.0 … 0.0 0.0; 50.0 50.00000000000001 … 0.0 0.0; … ; 0.0 0.0 … 49.99999999999999 0.0; 0.0 0.0 … 0.0 0.0], :bellman_term => 555.2074999999995, :node_index => 7, :objective_state => nothing, :belief => Dict(7 => 1.0), :x => SDDP.State{Float64}[SDDP.State{Float64}(0.0, 0.0) SDDP.State{Float64}(0.0, 0.0) … SDDP.State{Float64}(50.0, 50.0) SDDP.State{Float64}(0.0, 0.0); SDDP.State{Float64}(50.0, 50.0) SDDP.State{Float64}(50.0, 50.0) … SDDP.State{Float64}(50.0, 50.0) SDDP.State{Float64}(0.0, 0.0); … ; SDDP.State{Float64}(50.0, 50.0) SDDP.State{Float64}(50.0, 50.0) … SDDP.State{Float64}(50.0, 50.0) SDDP.State{Float64}(50.0, 50.0); SDDP.State{Float64}(50.0, 50.0) SDDP.State{Float64}(50.0, 50.0) … SDDP.State{Float64}(50.0, 50.0) SDDP.State{Float64}(50.0, 50.0)], :stage_objective => 551.095, :Q => [0.0 0.0 … 0.0 0.0; 161.29032258064518 161.2903225806452 … 0.0 0.0; … ; 0.0 0.0 … 161.29032258064515 0.0; 0.0 0.0 … 0.0 0.0]…), Dict(:b => [0.0 0.0 … 0.0 0.0; 0.0 0.0 … 0.0 0.0; … ; 0.0 0.0 … 0.0 0.0; 0.0 0.0 … 0.0 0.0], :l => SDDP.State{Float64}(3630.967741935484, -1.8189894035458565e-12), :w => [0.0 0.0 … 50.0 0.0; 0.0 0.0 … 0.0 0.0; … ; 0.0 50.0 … 0.0 50.0; 0.0 0.0 … 0.0 0.0], :bellman_term => 0.0, :node_index => 8, :objective_state => nothing, :belief => Dict(8 => 1.0), :x => SDDP.State{Float64}[SDDP.State{Float64}(0.0, 0.0) SDDP.State{Float64}(0.0, 0.0) … SDDP.State{Float64}(50.0, 0.0) SDDP.State{Float64}(0.0, 0.0); SDDP.State{Float64}(50.0, 0.0) SDDP.State{Float64}(50.0, 0.0) … SDDP.State{Float64}(50.0, 0.0) SDDP.State{Float64}(0.0, 0.0); … ; SDDP.State{Float64}(50.0, 50.0) SDDP.State{Float64}(50.0, 50.0) … SDDP.State{Float64}(50.0, 50.0) SDDP.State{Float64}(50.0, 50.0); SDDP.State{Float64}(50.0, 50.0) SDDP.State{Float64}(50.0, 50.0) … SDDP.State{Float64}(50.0, 50.0) SDDP.State{Float64}(50.0, 50.0)], :stage_objective => 559.32, :Q => [0.0 0.0 … 161.29032258064518 0.0; 0.0 0.0 … 0.0 0.0; … ; 0.0 161.29032258064518 … 0.0 161.29032258064518; 0.0 0.0 … 0.0 0.0]…)]\n",
       " ⋮\n",
       " [Dict(:b => [0.0 0.0 … 0.0 0.0; 0.0 0.0 … 0.0 0.0; … ; 0.0 0.0 … 0.0 0.0; 0.0 0.0 … 0.0 0.0], :l => SDDP.State{Float64}(35000.0, 35000.0), :w => [0.0 0.0 … 0.0 0.0; 0.0 0.0 … 0.0 0.0; … ; 0.0 0.0 … 0.0 0.0; 0.0 0.0 … 0.0 0.0], :bellman_term => 3886.4524999999994, :node_index => 1, :objective_state => nothing, :belief => Dict(1 => 1.0), :x => SDDP.State{Float64}[SDDP.State{Float64}(0.0, 0.0) SDDP.State{Float64}(0.0, 0.0) … SDDP.State{Float64}(0.0, 50.0) SDDP.State{Float64}(0.0, 0.0); SDDP.State{Float64}(0.0, 50.0) SDDP.State{Float64}(0.0, 50.0) … SDDP.State{Float64}(0.0, 50.0) SDDP.State{Float64}(0.0, 0.0); … ; SDDP.State{Float64}(0.0, 50.0) SDDP.State{Float64}(0.0, 50.0) … SDDP.State{Float64}(0.0, 50.0) SDDP.State{Float64}(0.0, 50.0); SDDP.State{Float64}(0.0, 50.0) SDDP.State{Float64}(0.0, 50.0) … SDDP.State{Float64}(0.0, 50.0) SDDP.State{Float64}(0.0, 50.0)], :stage_objective => 0, :Q => [0.0 0.0 … 0.0 0.0; 0.0 0.0 … 0.0 0.0; … ; 0.0 0.0 … 0.0 0.0; 0.0 0.0 … 0.0 0.0]…), Dict(:b => [0.0 0.0 … 0.0 0.0; 0.0 0.0 … 0.0 0.0; … ; 0.0 0.0 … 0.0 0.0; 0.0 0.0 … 0.0 0.0], :l => SDDP.State{Float64}(35000.0, 31369.032258064544), :w => [0.0 0.0 … 50.0 0.0; 0.0 0.0 … 0.0 0.0; … ; 0.0 50.0 … 0.0 50.0; 0.0 0.0 … 0.0 0.0], :bellman_term => 3331.2449999999994, :node_index => 2, :objective_state => nothing, :belief => Dict(2 => 1.0), :x => SDDP.State{Float64}[SDDP.State{Float64}(0.0, 0.0) SDDP.State{Float64}(0.0, 0.0) … SDDP.State{Float64}(50.0, 50.0) SDDP.State{Float64}(0.0, 0.0); SDDP.State{Float64}(50.0, 50.0) SDDP.State{Float64}(50.0, 50.0) … SDDP.State{Float64}(50.0, 50.0) SDDP.State{Float64}(0.0, 0.0); … ; SDDP.State{Float64}(50.0, 50.0) SDDP.State{Float64}(50.0, 50.0) … SDDP.State{Float64}(50.0, 50.0) SDDP.State{Float64}(50.0, 50.0); SDDP.State{Float64}(50.0, 50.0) SDDP.State{Float64}(50.0, 50.0) … SDDP.State{Float64}(50.0, 50.0) SDDP.State{Float64}(50.0, 50.0)], :stage_objective => 559.32, :Q => [0.0 0.0 … 161.29032258064518 0.0; 0.0 0.0 … 0.0 0.0; … ; 0.0 161.29032258064518 … 0.0 161.29032258064518; 0.0 0.0 … 0.0 0.0]…), Dict(:b => [0.0 0.0 … 0.0 0.0; 0.0 0.0 … 0.0 0.0; … ; 0.0 0.0 … 0.0 0.0; 0.0 0.0 … 0.0 0.0], :l => SDDP.State{Float64}(31369.032258064544, 27738.06451612909), :w => [0.0 0.0 … 50.0 0.0; 0.0 0.0 … 0.0 0.0; … ; 0.0 50.0 … 0.0 50.0; 0.0 0.0 … 0.0 0.0], :bellman_term => 2776.0375000000004, :node_index => 3, :objective_state => nothing, :belief => Dict(3 => 1.0), :x => SDDP.State{Float64}[SDDP.State{Float64}(0.0, 0.0) SDDP.State{Float64}(0.0, 0.0) … SDDP.State{Float64}(50.0, 50.0) SDDP.State{Float64}(0.0, 0.0); SDDP.State{Float64}(50.0, 50.0) SDDP.State{Float64}(50.0, 50.0) … SDDP.State{Float64}(50.0, 50.0) SDDP.State{Float64}(0.0, 0.0); … ; SDDP.State{Float64}(50.0, 50.0) SDDP.State{Float64}(50.0, 50.0) … SDDP.State{Float64}(50.0, 50.0) SDDP.State{Float64}(50.0, 50.0); SDDP.State{Float64}(50.0, 50.0) SDDP.State{Float64}(50.0, 50.0) … SDDP.State{Float64}(50.0, 50.0) SDDP.State{Float64}(50.0, 50.0)], :stage_objective => 559.32, :Q => [0.0 0.0 … 161.29032258064518 0.0; 0.0 0.0 … 0.0 0.0; … ; 0.0 161.29032258064518 … 0.0 161.29032258064518; 0.0 0.0 … 0.0 0.0]…), Dict(:b => [0.0 0.0 … 0.0 0.0; 0.0 0.0 … 0.0 0.0; … ; 0.0 0.0 … 0.0 0.0; 0.0 0.0 … 0.0 0.0], :l => SDDP.State{Float64}(27738.06451612909, 24107.096774193633), :w => [0.0 0.0 … 0.0 0.0; 50.0 50.00000000000001 … 0.0 0.0; … ; 0.0 0.0 … 49.99999999999999 0.0; 0.0 0.0 … 0.0 0.0], :bellman_term => 2220.83, :node_index => 4, :objective_state => nothing, :belief => Dict(4 => 1.0), :x => SDDP.State{Float64}[SDDP.State{Float64}(0.0, 0.0) SDDP.State{Float64}(0.0, 0.0) … SDDP.State{Float64}(50.0, 50.0) SDDP.State{Float64}(0.0, 0.0); SDDP.State{Float64}(50.0, 50.0) SDDP.State{Float64}(50.0, 50.0) … SDDP.State{Float64}(50.0, 50.0) SDDP.State{Float64}(0.0, 0.0); … ; SDDP.State{Float64}(50.0, 50.0) SDDP.State{Float64}(50.0, 50.0) … SDDP.State{Float64}(50.0, 50.0) SDDP.State{Float64}(50.0, 50.0); SDDP.State{Float64}(50.0, 50.0) SDDP.State{Float64}(50.0, 50.0) … SDDP.State{Float64}(50.0, 50.0) SDDP.State{Float64}(50.0, 50.0)], :stage_objective => 551.095, :Q => [0.0 0.0 … 0.0 0.0; 161.29032258064518 161.2903225806452 … 0.0 0.0; … ; 0.0 0.0 … 161.29032258064515 0.0; 0.0 0.0 … 0.0 0.0]…), Dict(:b => [0.0 0.0 … 0.0 0.0; 0.0 0.0 … 0.0 0.0; … ; 0.0 0.0 … 0.0 0.0; 0.0 0.0 … 0.0 0.0], :l => SDDP.State{Float64}(24107.096774193633, 20476.129032258177), :w => [0.0 0.0 … 50.0 0.0; 0.0 0.0 … 0.0 0.0; … ; 0.0 50.0 … 0.0 50.0; 0.0 0.0 … 0.0 0.0], :bellman_term => 1665.622499999999, :node_index => 5, :objective_state => nothing, :belief => Dict(5 => 1.0), :x => SDDP.State{Float64}[SDDP.State{Float64}(0.0, 0.0) SDDP.State{Float64}(0.0, 0.0) … SDDP.State{Float64}(50.0, 50.0) SDDP.State{Float64}(0.0, 0.0); SDDP.State{Float64}(50.0, 50.0) SDDP.State{Float64}(50.0, 50.0) … SDDP.State{Float64}(50.0, 50.0) SDDP.State{Float64}(0.0, 0.0); … ; SDDP.State{Float64}(50.0, 50.0) SDDP.State{Float64}(50.0, 50.0) … SDDP.State{Float64}(50.0, 50.0) SDDP.State{Float64}(50.0, 50.0); SDDP.State{Float64}(50.0, 50.0) SDDP.State{Float64}(50.0, 50.0) … SDDP.State{Float64}(50.0, 50.0) SDDP.State{Float64}(50.0, 50.0)], :stage_objective => 559.32, :Q => [0.0 0.0 … 161.29032258064518 0.0; 0.0 0.0 … 0.0 0.0; … ; 0.0 161.29032258064518 … 0.0 161.29032258064518; 0.0 0.0 … 0.0 0.0]…), Dict(:b => [0.0 0.0 … 0.0 0.0; 0.0 0.0 … 0.0 0.0; … ; 0.0 0.0 … 0.0 0.0; 0.0 0.0 … 0.0 0.0], :l => SDDP.State{Float64}(20476.129032258177, 16845.16129032272), :w => [0.0 0.0 … 0.0 0.0; 50.0 50.00000000000001 … 0.0 0.0; … ; 0.0 0.0 … 49.99999999999999 0.0; 0.0 0.0 … 0.0 0.0], :bellman_term => 1110.414999999999, :node_index => 6, :objective_state => nothing, :belief => Dict(6 => 1.0), :x => SDDP.State{Float64}[SDDP.State{Float64}(0.0, 0.0) SDDP.State{Float64}(0.0, 0.0) … SDDP.State{Float64}(50.0, 50.0) SDDP.State{Float64}(0.0, 0.0); SDDP.State{Float64}(50.0, 50.0) SDDP.State{Float64}(50.0, 50.0) … SDDP.State{Float64}(50.0, 50.0) SDDP.State{Float64}(0.0, 0.0); … ; SDDP.State{Float64}(50.0, 50.0) SDDP.State{Float64}(50.0, 50.0) … SDDP.State{Float64}(50.0, 50.0) SDDP.State{Float64}(50.0, 50.0); SDDP.State{Float64}(50.0, 50.0) SDDP.State{Float64}(50.0, 50.0) … SDDP.State{Float64}(50.0, 50.0) SDDP.State{Float64}(50.0, 50.0)], :stage_objective => 551.095, :Q => [0.0 0.0 … 0.0 0.0; 161.29032258064518 161.2903225806452 … 0.0 0.0; … ; 0.0 0.0 … 161.29032258064515 0.0; 0.0 0.0 … 0.0 0.0]…), Dict(:b => [0.0 0.0 … 0.0 0.0; 0.0 0.0 … 0.0 0.0; … ; 0.0 0.0 … 0.0 0.0; 0.0 0.0 … 0.0 0.0], :l => SDDP.State{Float64}(16845.16129032272, 3630.967741935484), :w => [0.0 0.0 … 0.0 0.0; 50.0 50.00000000000001 … 0.0 0.0; … ; 0.0 0.0 … 49.99999999999999 0.0; 0.0 0.0 … 0.0 0.0], :bellman_term => 555.2074999999995, :node_index => 7, :objective_state => nothing, :belief => Dict(7 => 1.0), :x => SDDP.State{Float64}[SDDP.State{Float64}(0.0, 0.0) SDDP.State{Float64}(0.0, 0.0) … SDDP.State{Float64}(50.0, 50.0) SDDP.State{Float64}(0.0, 0.0); SDDP.State{Float64}(50.0, 50.0) SDDP.State{Float64}(50.0, 50.0) … SDDP.State{Float64}(50.0, 50.0) SDDP.State{Float64}(0.0, 0.0); … ; SDDP.State{Float64}(50.0, 50.0) SDDP.State{Float64}(50.0, 50.0) … SDDP.State{Float64}(50.0, 50.0) SDDP.State{Float64}(50.0, 50.0); SDDP.State{Float64}(50.0, 50.0) SDDP.State{Float64}(50.0, 50.0) … SDDP.State{Float64}(50.0, 50.0) SDDP.State{Float64}(50.0, 50.0)], :stage_objective => 551.095, :Q => [0.0 0.0 … 0.0 0.0; 161.29032258064518 161.2903225806452 … 0.0 0.0; … ; 0.0 0.0 … 161.29032258064515 0.0; 0.0 0.0 … 0.0 0.0]…), Dict(:b => [0.0 0.0 … 0.0 0.0; 0.0 0.0 … 0.0 0.0; … ; 0.0 0.0 … 0.0 0.0; 0.0 0.0 … 0.0 0.0], :l => SDDP.State{Float64}(3630.967741935484, -1.8189894035458565e-12), :w => [0.0 0.0 … 50.0 0.0; 0.0 0.0 … 0.0 0.0; … ; 0.0 50.0 … 0.0 50.0; 0.0 0.0 … 0.0 0.0], :bellman_term => 0.0, :node_index => 8, :objective_state => nothing, :belief => Dict(8 => 1.0), :x => SDDP.State{Float64}[SDDP.State{Float64}(0.0, 0.0) SDDP.State{Float64}(0.0, 0.0) … SDDP.State{Float64}(50.0, 0.0) SDDP.State{Float64}(0.0, 0.0); SDDP.State{Float64}(50.0, 0.0) SDDP.State{Float64}(50.0, 0.0) … SDDP.State{Float64}(50.0, 0.0) SDDP.State{Float64}(0.0, 0.0); … ; SDDP.State{Float64}(50.0, 50.0) SDDP.State{Float64}(50.0, 50.0) … SDDP.State{Float64}(50.0, 50.0) SDDP.State{Float64}(50.0, 50.0); SDDP.State{Float64}(50.0, 50.0) SDDP.State{Float64}(50.0, 50.0) … SDDP.State{Float64}(50.0, 50.0) SDDP.State{Float64}(50.0, 50.0)], :stage_objective => 559.32, :Q => [0.0 0.0 … 161.29032258064518 0.0; 0.0 0.0 … 0.0 0.0; … ; 0.0 161.29032258064518 … 0.0 161.29032258064518; 0.0 0.0 … 0.0 0.0]…)]\n",
       " [Dict(:b => [0.0 0.0 … 0.0 0.0; 0.0 0.0 … 0.0 0.0; … ; 0.0 0.0 … 0.0 0.0; 0.0 0.0 … 0.0 0.0], :l => SDDP.State{Float64}(35000.0, 35000.0), :w => [0.0 0.0 … 0.0 0.0; 0.0 0.0 … 0.0 0.0; … ; 0.0 0.0 … 0.0 0.0; 0.0 0.0 … 0.0 0.0], :bellman_term => 3886.4524999999994, :node_index => 1, :objective_state => nothing, :belief => Dict(1 => 1.0), :x => SDDP.State{Float64}[SDDP.State{Float64}(0.0, 0.0) SDDP.State{Float64}(0.0, 0.0) … SDDP.State{Float64}(0.0, 50.0) SDDP.State{Float64}(0.0, 0.0); SDDP.State{Float64}(0.0, 50.0) SDDP.State{Float64}(0.0, 50.0) … SDDP.State{Float64}(0.0, 50.0) SDDP.State{Float64}(0.0, 0.0); … ; SDDP.State{Float64}(0.0, 50.0) SDDP.State{Float64}(0.0, 50.0) … SDDP.State{Float64}(0.0, 50.0) SDDP.State{Float64}(0.0, 50.0); SDDP.State{Float64}(0.0, 50.0) SDDP.State{Float64}(0.0, 50.0) … SDDP.State{Float64}(0.0, 50.0) SDDP.State{Float64}(0.0, 50.0)], :stage_objective => 0, :Q => [0.0 0.0 … 0.0 0.0; 0.0 0.0 … 0.0 0.0; … ; 0.0 0.0 … 0.0 0.0; 0.0 0.0 … 0.0 0.0]…), Dict(:b => [0.0 0.0 … 0.0 0.0; 0.0 0.0 … 0.0 0.0; … ; 0.0 0.0 … 0.0 0.0; 0.0 0.0 … 0.0 0.0], :l => SDDP.State{Float64}(35000.0, 31369.032258064544), :w => [0.0 0.0 … 50.0 0.0; 0.0 0.0 … 0.0 0.0; … ; 0.0 50.0 … 0.0 50.0; 0.0 0.0 … 0.0 0.0], :bellman_term => 3331.245000000001, :node_index => 2, :objective_state => nothing, :belief => Dict(2 => 1.0), :x => SDDP.State{Float64}[SDDP.State{Float64}(0.0, 0.0) SDDP.State{Float64}(0.0, 0.0) … SDDP.State{Float64}(50.0, 50.0) SDDP.State{Float64}(0.0, 0.0); SDDP.State{Float64}(50.0, 50.0) SDDP.State{Float64}(50.0, 50.0) … SDDP.State{Float64}(50.0, 50.0) SDDP.State{Float64}(0.0, 0.0); … ; SDDP.State{Float64}(50.0, 50.0) SDDP.State{Float64}(50.0, 50.0) … SDDP.State{Float64}(50.0, 50.0) SDDP.State{Float64}(50.0, 50.0); SDDP.State{Float64}(50.0, 50.0) SDDP.State{Float64}(50.0, 50.0) … SDDP.State{Float64}(50.0, 50.0) SDDP.State{Float64}(50.0, 50.0)], :stage_objective => 559.32, :Q => [0.0 0.0 … 161.29032258064518 0.0; 0.0 0.0 … 0.0 0.0; … ; 0.0 161.29032258064518 … 0.0 161.29032258064518; 0.0 0.0 … 0.0 0.0]…), Dict(:b => [0.0 0.0 … 0.0 0.0; 0.0 0.0 … 0.0 0.0; … ; 0.0 0.0 … 0.0 0.0; 0.0 0.0 … 0.0 0.0], :l => SDDP.State{Float64}(31369.032258064544, 27738.06451612909), :w => [0.0 0.0 … 50.0 0.0; 0.0 0.0 … 0.0 0.0; … ; 0.0 50.0 … 0.0 50.0; 0.0 0.0 … 0.0 0.0], :bellman_term => 2776.0375000000004, :node_index => 3, :objective_state => nothing, :belief => Dict(3 => 1.0), :x => SDDP.State{Float64}[SDDP.State{Float64}(0.0, 0.0) SDDP.State{Float64}(0.0, 0.0) … SDDP.State{Float64}(50.0, 50.0) SDDP.State{Float64}(0.0, 0.0); SDDP.State{Float64}(50.0, 50.0) SDDP.State{Float64}(50.0, 50.0) … SDDP.State{Float64}(50.0, 50.0) SDDP.State{Float64}(0.0, 0.0); … ; SDDP.State{Float64}(50.0, 50.0) SDDP.State{Float64}(50.0, 50.0) … SDDP.State{Float64}(50.0, 50.0) SDDP.State{Float64}(50.0, 50.0); SDDP.State{Float64}(50.0, 50.0) SDDP.State{Float64}(50.0, 50.0) … SDDP.State{Float64}(50.0, 50.0) SDDP.State{Float64}(50.0, 50.0)], :stage_objective => 559.32, :Q => [0.0 0.0 … 161.29032258064518 0.0; 0.0 0.0 … 0.0 0.0; … ; 0.0 161.29032258064518 … 0.0 161.29032258064518; 0.0 0.0 … 0.0 0.0]…), Dict(:b => [0.0 0.0 … 0.0 0.0; 0.0 0.0 … 0.0 0.0; … ; 0.0 0.0 … 0.0 0.0; 0.0 0.0 … 0.0 0.0], :l => SDDP.State{Float64}(27738.06451612909, 24107.096774193633), :w => [0.0 0.0 … 0.0 0.0; 50.0 50.00000000000001 … 0.0 0.0; … ; 0.0 0.0 … 49.99999999999999 0.0; 0.0 0.0 … 0.0 0.0], :bellman_term => 2220.829999999999, :node_index => 4, :objective_state => nothing, :belief => Dict(4 => 1.0), :x => SDDP.State{Float64}[SDDP.State{Float64}(0.0, 0.0) SDDP.State{Float64}(0.0, 0.0) … SDDP.State{Float64}(50.0, 50.0) SDDP.State{Float64}(0.0, 0.0); SDDP.State{Float64}(50.0, 50.0) SDDP.State{Float64}(50.0, 50.0) … SDDP.State{Float64}(50.0, 50.0) SDDP.State{Float64}(0.0, 0.0); … ; SDDP.State{Float64}(50.0, 50.0) SDDP.State{Float64}(50.0, 50.0) … SDDP.State{Float64}(50.0, 50.0) SDDP.State{Float64}(50.0, 50.0); SDDP.State{Float64}(50.0, 50.0) SDDP.State{Float64}(50.0, 50.0) … SDDP.State{Float64}(50.0, 50.0) SDDP.State{Float64}(50.0, 50.0)], :stage_objective => 551.095, :Q => [0.0 0.0 … 0.0 0.0; 161.29032258064518 161.2903225806452 … 0.0 0.0; … ; 0.0 0.0 … 161.29032258064515 0.0; 0.0 0.0 … 0.0 0.0]…), Dict(:b => [0.0 0.0 … 0.0 0.0; 0.0 0.0 … 0.0 0.0; … ; 0.0 0.0 … 0.0 0.0; 0.0 0.0 … 0.0 0.0], :l => SDDP.State{Float64}(24107.096774193633, 20476.129032258177), :w => [0.0 0.0 … 0.0 0.0; 50.0 50.00000000000001 … 0.0 0.0; … ; 0.0 0.0 … 49.99999999999999 0.0; 0.0 0.0 … 0.0 0.0], :bellman_term => 1665.6224999999988, :node_index => 5, :objective_state => nothing, :belief => Dict(5 => 1.0), :x => SDDP.State{Float64}[SDDP.State{Float64}(0.0, 0.0) SDDP.State{Float64}(0.0, 0.0) … SDDP.State{Float64}(50.0, 50.0) SDDP.State{Float64}(0.0, 0.0); SDDP.State{Float64}(50.0, 50.0) SDDP.State{Float64}(50.0, 50.0) … SDDP.State{Float64}(50.0, 50.0) SDDP.State{Float64}(0.0, 0.0); … ; SDDP.State{Float64}(50.0, 50.0) SDDP.State{Float64}(50.0, 50.0) … SDDP.State{Float64}(50.0, 50.0) SDDP.State{Float64}(50.0, 50.0); SDDP.State{Float64}(50.0, 50.0) SDDP.State{Float64}(50.0, 50.0) … SDDP.State{Float64}(50.0, 50.0) SDDP.State{Float64}(50.0, 50.0)], :stage_objective => 551.095, :Q => [0.0 0.0 … 0.0 0.0; 161.29032258064518 161.2903225806452 … 0.0 0.0; … ; 0.0 0.0 … 161.29032258064515 0.0; 0.0 0.0 … 0.0 0.0]…), Dict(:b => [0.0 0.0 … 0.0 0.0; 0.0 0.0 … 0.0 0.0; … ; 0.0 0.0 … 0.0 0.0; 0.0 0.0 … 0.0 0.0], :l => SDDP.State{Float64}(20476.129032258177, 16845.16129032272), :w => [0.0 0.0 … 50.0 0.0; 0.0 0.0 … 0.0 0.0; … ; 0.0 50.0 … 0.0 50.0; 0.0 0.0 … 0.0 0.0], :bellman_term => 1110.414999999999, :node_index => 6, :objective_state => nothing, :belief => Dict(6 => 1.0), :x => SDDP.State{Float64}[SDDP.State{Float64}(0.0, 0.0) SDDP.State{Float64}(0.0, 0.0) … SDDP.State{Float64}(50.0, 50.0) SDDP.State{Float64}(0.0, 0.0); SDDP.State{Float64}(50.0, 50.0) SDDP.State{Float64}(50.0, 50.0) … SDDP.State{Float64}(50.0, 50.0) SDDP.State{Float64}(0.0, 0.0); … ; SDDP.State{Float64}(50.0, 50.0) SDDP.State{Float64}(50.0, 50.0) … SDDP.State{Float64}(50.0, 50.0) SDDP.State{Float64}(50.0, 50.0); SDDP.State{Float64}(50.0, 50.0) SDDP.State{Float64}(50.0, 50.0) … SDDP.State{Float64}(50.0, 50.0) SDDP.State{Float64}(50.0, 50.0)], :stage_objective => 559.32, :Q => [0.0 0.0 … 161.29032258064518 0.0; 0.0 0.0 … 0.0 0.0; … ; 0.0 161.29032258064518 … 0.0 161.29032258064518; 0.0 0.0 … 0.0 0.0]…), Dict(:b => [0.0 0.0 … 0.0 0.0; 0.0 0.0 … 0.0 0.0; … ; 0.0 0.0 … 0.0 0.0; 0.0 0.0 … 0.0 0.0], :l => SDDP.State{Float64}(16845.16129032272, 3630.967741935484), :w => [0.0 0.0 … 0.0 0.0; 50.0 50.00000000000001 … 0.0 0.0; … ; 0.0 0.0 … 49.99999999999999 0.0; 0.0 0.0 … 0.0 0.0], :bellman_term => 555.2075, :node_index => 7, :objective_state => nothing, :belief => Dict(7 => 1.0), :x => SDDP.State{Float64}[SDDP.State{Float64}(0.0, 0.0) SDDP.State{Float64}(0.0, 0.0) … SDDP.State{Float64}(50.0, 50.0) SDDP.State{Float64}(0.0, 0.0); SDDP.State{Float64}(50.0, 50.0) SDDP.State{Float64}(50.0, 50.0) … SDDP.State{Float64}(50.0, 50.0) SDDP.State{Float64}(0.0, 0.0); … ; SDDP.State{Float64}(50.0, 50.0) SDDP.State{Float64}(50.0, 50.0) … SDDP.State{Float64}(50.0, 50.0) SDDP.State{Float64}(50.0, 50.0); SDDP.State{Float64}(50.0, 50.0) SDDP.State{Float64}(50.0, 50.0) … SDDP.State{Float64}(50.0, 50.0) SDDP.State{Float64}(50.0, 50.0)], :stage_objective => 551.095, :Q => [0.0 0.0 … 0.0 0.0; 161.29032258064518 161.2903225806452 … 0.0 0.0; … ; 0.0 0.0 … 161.29032258064515 0.0; 0.0 0.0 … 0.0 0.0]…), Dict(:b => [0.0 0.0 … 0.0 0.0; 0.0 0.0 … 0.0 0.0; … ; 0.0 0.0 … 0.0 0.0; 0.0 0.0 … 0.0 0.0], :l => SDDP.State{Float64}(3630.967741935484, -1.8189894035458565e-12), :w => [0.0 0.0 … 50.0 0.0; 0.0 0.0 … 0.0 0.0; … ; 0.0 50.0 … 0.0 50.0; 0.0 0.0 … 0.0 0.0], :bellman_term => 0.0, :node_index => 8, :objective_state => nothing, :belief => Dict(8 => 1.0), :x => SDDP.State{Float64}[SDDP.State{Float64}(0.0, 0.0) SDDP.State{Float64}(0.0, 0.0) … SDDP.State{Float64}(50.0, 0.0) SDDP.State{Float64}(0.0, 0.0); SDDP.State{Float64}(50.0, 0.0) SDDP.State{Float64}(50.0, 0.0) … SDDP.State{Float64}(50.0, 0.0) SDDP.State{Float64}(0.0, 0.0); … ; SDDP.State{Float64}(50.0, 50.0) SDDP.State{Float64}(50.0, 50.0) … SDDP.State{Float64}(50.0, 50.0) SDDP.State{Float64}(50.0, 50.0); SDDP.State{Float64}(50.0, 50.0) SDDP.State{Float64}(50.0, 50.0) … SDDP.State{Float64}(50.0, 50.0) SDDP.State{Float64}(50.0, 50.0)], :stage_objective => 559.32, :Q => [0.0 0.0 … 161.29032258064518 0.0; 0.0 0.0 … 0.0 0.0; … ; 0.0 161.29032258064518 … 0.0 161.29032258064518; 0.0 0.0 … 0.0 0.0]…)]\n",
       " [Dict(:b => [0.0 0.0 … 0.0 0.0; 0.0 0.0 … 0.0 0.0; … ; 0.0 0.0 … 0.0 0.0; 0.0 0.0 … 0.0 0.0], :l => SDDP.State{Float64}(35000.0, 35000.0), :w => [0.0 0.0 … 0.0 0.0; 0.0 0.0 … 0.0 0.0; … ; 0.0 0.0 … 0.0 0.0; 0.0 0.0 … 0.0 0.0], :bellman_term => 3886.4524999999994, :node_index => 1, :objective_state => nothing, :belief => Dict(1 => 1.0), :x => SDDP.State{Float64}[SDDP.State{Float64}(0.0, 0.0) SDDP.State{Float64}(0.0, 0.0) … SDDP.State{Float64}(0.0, 50.0) SDDP.State{Float64}(0.0, 0.0); SDDP.State{Float64}(0.0, 50.0) SDDP.State{Float64}(0.0, 50.0) … SDDP.State{Float64}(0.0, 50.0) SDDP.State{Float64}(0.0, 0.0); … ; SDDP.State{Float64}(0.0, 50.0) SDDP.State{Float64}(0.0, 50.0) … SDDP.State{Float64}(0.0, 50.0) SDDP.State{Float64}(0.0, 50.0); SDDP.State{Float64}(0.0, 50.0) SDDP.State{Float64}(0.0, 50.0) … SDDP.State{Float64}(0.0, 50.0) SDDP.State{Float64}(0.0, 50.0)], :stage_objective => 0, :Q => [0.0 0.0 … 0.0 0.0; 0.0 0.0 … 0.0 0.0; … ; 0.0 0.0 … 0.0 0.0; 0.0 0.0 … 0.0 0.0]…), Dict(:b => [0.0 0.0 … 0.0 0.0; 0.0 0.0 … 0.0 0.0; … ; 0.0 0.0 … 0.0 0.0; 0.0 0.0 … 0.0 0.0], :l => SDDP.State{Float64}(35000.0, 31369.032258064544), :w => [0.0 0.0 … 0.0 0.0; 50.0 50.00000000000001 … 0.0 0.0; … ; 0.0 0.0 … 49.99999999999999 0.0; 0.0 0.0 … 0.0 0.0], :bellman_term => 3331.244999999999, :node_index => 2, :objective_state => nothing, :belief => Dict(2 => 1.0), :x => SDDP.State{Float64}[SDDP.State{Float64}(0.0, 0.0) SDDP.State{Float64}(0.0, 0.0) … SDDP.State{Float64}(50.0, 50.0) SDDP.State{Float64}(0.0, 0.0); SDDP.State{Float64}(50.0, 50.0) SDDP.State{Float64}(50.0, 50.0) … SDDP.State{Float64}(50.0, 50.0) SDDP.State{Float64}(0.0, 0.0); … ; SDDP.State{Float64}(50.0, 50.0) SDDP.State{Float64}(50.0, 50.0) … SDDP.State{Float64}(50.0, 50.0) SDDP.State{Float64}(50.0, 50.0); SDDP.State{Float64}(50.0, 50.0) SDDP.State{Float64}(50.0, 50.0) … SDDP.State{Float64}(50.0, 50.0) SDDP.State{Float64}(50.0, 50.0)], :stage_objective => 551.095, :Q => [0.0 0.0 … 0.0 0.0; 161.29032258064518 161.2903225806452 … 0.0 0.0; … ; 0.0 0.0 … 161.29032258064515 0.0; 0.0 0.0 … 0.0 0.0]…), Dict(:b => [0.0 0.0 … 0.0 0.0; 0.0 0.0 … 0.0 0.0; … ; 0.0 0.0 … 0.0 0.0; 0.0 0.0 … 0.0 0.0], :l => SDDP.State{Float64}(31369.032258064544, 27738.06451612909), :w => [0.0 0.0 … 50.0 0.0; 0.0 0.0 … 0.0 0.0; … ; 0.0 50.0 … 0.0 50.0; 0.0 0.0 … 0.0 0.0], :bellman_term => 2776.0375000000004, :node_index => 3, :objective_state => nothing, :belief => Dict(3 => 1.0), :x => SDDP.State{Float64}[SDDP.State{Float64}(0.0, 0.0) SDDP.State{Float64}(0.0, 0.0) … SDDP.State{Float64}(50.0, 50.0) SDDP.State{Float64}(0.0, 0.0); SDDP.State{Float64}(50.0, 50.0) SDDP.State{Float64}(50.0, 50.0) … SDDP.State{Float64}(50.0, 50.0) SDDP.State{Float64}(0.0, 0.0); … ; SDDP.State{Float64}(50.0, 50.0) SDDP.State{Float64}(50.0, 50.0) … SDDP.State{Float64}(50.0, 50.0) SDDP.State{Float64}(50.0, 50.0); SDDP.State{Float64}(50.0, 50.0) SDDP.State{Float64}(50.0, 50.0) … SDDP.State{Float64}(50.0, 50.0) SDDP.State{Float64}(50.0, 50.0)], :stage_objective => 559.32, :Q => [0.0 0.0 … 161.29032258064518 0.0; 0.0 0.0 … 0.0 0.0; … ; 0.0 161.29032258064518 … 0.0 161.29032258064518; 0.0 0.0 … 0.0 0.0]…), Dict(:b => [0.0 0.0 … 0.0 0.0; 0.0 0.0 … 0.0 0.0; … ; 0.0 0.0 … 0.0 0.0; 0.0 0.0 … 0.0 0.0], :l => SDDP.State{Float64}(27738.06451612909, 24107.096774193633), :w => [0.0 0.0 … 50.0 0.0; 0.0 0.0 … 0.0 0.0; … ; 0.0 50.0 … 0.0 50.0; 0.0 0.0 … 0.0 0.0], :bellman_term => 2220.83, :node_index => 4, :objective_state => nothing, :belief => Dict(4 => 1.0), :x => SDDP.State{Float64}[SDDP.State{Float64}(0.0, 0.0) SDDP.State{Float64}(0.0, 0.0) … SDDP.State{Float64}(50.0, 50.0) SDDP.State{Float64}(0.0, 0.0); SDDP.State{Float64}(50.0, 50.0) SDDP.State{Float64}(50.0, 50.0) … SDDP.State{Float64}(50.0, 50.0) SDDP.State{Float64}(0.0, 0.0); … ; SDDP.State{Float64}(50.0, 50.0) SDDP.State{Float64}(50.0, 50.0) … SDDP.State{Float64}(50.0, 50.0) SDDP.State{Float64}(50.0, 50.0); SDDP.State{Float64}(50.0, 50.0) SDDP.State{Float64}(50.0, 50.0) … SDDP.State{Float64}(50.0, 50.0) SDDP.State{Float64}(50.0, 50.0)], :stage_objective => 559.32, :Q => [0.0 0.0 … 161.29032258064518 0.0; 0.0 0.0 … 0.0 0.0; … ; 0.0 161.29032258064518 … 0.0 161.29032258064518; 0.0 0.0 … 0.0 0.0]…), Dict(:b => [0.0 0.0 … 0.0 0.0; 0.0 0.0 … 0.0 0.0; … ; 0.0 0.0 … 0.0 0.0; 0.0 0.0 … 0.0 0.0], :l => SDDP.State{Float64}(24107.096774193633, 20476.129032258177), :w => [0.0 0.0 … 50.0 0.0; 0.0 0.0 … 0.0 0.0; … ; 0.0 50.0 … 0.0 50.0; 0.0 0.0 … 0.0 0.0], :bellman_term => 1665.6224999999986, :node_index => 5, :objective_state => nothing, :belief => Dict(5 => 1.0), :x => SDDP.State{Float64}[SDDP.State{Float64}(0.0, 0.0) SDDP.State{Float64}(0.0, 0.0) … SDDP.State{Float64}(50.0, 50.0) SDDP.State{Float64}(0.0, 0.0); SDDP.State{Float64}(50.0, 50.0) SDDP.State{Float64}(50.0, 50.0) … SDDP.State{Float64}(50.0, 50.0) SDDP.State{Float64}(0.0, 0.0); … ; SDDP.State{Float64}(50.0, 50.0) SDDP.State{Float64}(50.0, 50.0) … SDDP.State{Float64}(50.0, 50.0) SDDP.State{Float64}(50.0, 50.0); SDDP.State{Float64}(50.0, 50.0) SDDP.State{Float64}(50.0, 50.0) … SDDP.State{Float64}(50.0, 50.0) SDDP.State{Float64}(50.0, 50.0)], :stage_objective => 559.32, :Q => [0.0 0.0 … 161.29032258064518 0.0; 0.0 0.0 … 0.0 0.0; … ; 0.0 161.29032258064518 … 0.0 161.29032258064518; 0.0 0.0 … 0.0 0.0]…), Dict(:b => [0.0 0.0 … 0.0 0.0; 0.0 0.0 … 0.0 0.0; … ; 0.0 0.0 … 0.0 0.0; 0.0 0.0 … 0.0 0.0], :l => SDDP.State{Float64}(20476.129032258177, 16845.16129032272), :w => [0.0 0.0 … 50.0 0.0; 0.0 0.0 … 0.0 0.0; … ; 0.0 50.0 … 0.0 50.0; 0.0 0.0 … 0.0 0.0], :bellman_term => 1110.4149999999986, :node_index => 6, :objective_state => nothing, :belief => Dict(6 => 1.0), :x => SDDP.State{Float64}[SDDP.State{Float64}(0.0, 0.0) SDDP.State{Float64}(0.0, 0.0) … SDDP.State{Float64}(50.0, 50.0) SDDP.State{Float64}(0.0, 0.0); SDDP.State{Float64}(50.0, 50.0) SDDP.State{Float64}(50.0, 50.0) … SDDP.State{Float64}(50.0, 50.0) SDDP.State{Float64}(0.0, 0.0); … ; SDDP.State{Float64}(50.0, 50.0) SDDP.State{Float64}(50.0, 50.0) … SDDP.State{Float64}(50.0, 50.0) SDDP.State{Float64}(50.0, 50.0); SDDP.State{Float64}(50.0, 50.0) SDDP.State{Float64}(50.0, 50.0) … SDDP.State{Float64}(50.0, 50.0) SDDP.State{Float64}(50.0, 50.0)], :stage_objective => 559.32, :Q => [0.0 0.0 … 161.29032258064518 0.0; 0.0 0.0 … 0.0 0.0; … ; 0.0 161.29032258064518 … 0.0 161.29032258064518; 0.0 0.0 … 0.0 0.0]…), Dict(:b => [0.0 0.0 … 0.0 0.0; 0.0 0.0 … 0.0 0.0; … ; 0.0 0.0 … 0.0 0.0; 0.0 0.0 … 0.0 0.0], :l => SDDP.State{Float64}(16845.16129032272, 3630.967741935484), :w => [0.0 0.0 … 0.0 0.0; 50.0 50.00000000000001 … 0.0 0.0; … ; 0.0 0.0 … 49.99999999999999 0.0; 0.0 0.0 … 0.0 0.0], :bellman_term => 555.2075, :node_index => 7, :objective_state => nothing, :belief => Dict(7 => 1.0), :x => SDDP.State{Float64}[SDDP.State{Float64}(0.0, 0.0) SDDP.State{Float64}(0.0, 0.0) … SDDP.State{Float64}(50.0, 50.0) SDDP.State{Float64}(0.0, 0.0); SDDP.State{Float64}(50.0, 50.0) SDDP.State{Float64}(50.0, 50.0) … SDDP.State{Float64}(50.0, 50.0) SDDP.State{Float64}(0.0, 0.0); … ; SDDP.State{Float64}(50.0, 50.0) SDDP.State{Float64}(50.0, 50.0) … SDDP.State{Float64}(50.0, 50.0) SDDP.State{Float64}(50.0, 50.0); SDDP.State{Float64}(50.0, 50.0) SDDP.State{Float64}(50.0, 50.0) … SDDP.State{Float64}(50.0, 50.0) SDDP.State{Float64}(50.0, 50.0)], :stage_objective => 551.095, :Q => [0.0 0.0 … 0.0 0.0; 161.29032258064518 161.2903225806452 … 0.0 0.0; … ; 0.0 0.0 … 161.29032258064515 0.0; 0.0 0.0 … 0.0 0.0]…), Dict(:b => [0.0 0.0 … 0.0 0.0; 0.0 0.0 … 0.0 0.0; … ; 0.0 0.0 … 0.0 0.0; 0.0 0.0 … 0.0 0.0], :l => SDDP.State{Float64}(3630.967741935484, -1.8189894035458565e-12), :w => [0.0 0.0 … 0.0 0.0; 50.0 50.00000000000001 … 0.0 0.0; … ; 0.0 0.0 … 49.99999999999999 0.0; 0.0 0.0 … 0.0 0.0], :bellman_term => 0.0, :node_index => 8, :objective_state => nothing, :belief => Dict(8 => 1.0), :x => SDDP.State{Float64}[SDDP.State{Float64}(0.0, 0.0) SDDP.State{Float64}(0.0, 0.0) … SDDP.State{Float64}(50.0, 0.0) SDDP.State{Float64}(0.0, 0.0); SDDP.State{Float64}(50.0, 0.0) SDDP.State{Float64}(50.0, 0.0) … SDDP.State{Float64}(50.0, 0.0) SDDP.State{Float64}(0.0, 0.0); … ; SDDP.State{Float64}(50.0, 50.0) SDDP.State{Float64}(50.0, 50.0) … SDDP.State{Float64}(50.0, 50.0) SDDP.State{Float64}(50.0, 50.0); SDDP.State{Float64}(50.0, 50.0) SDDP.State{Float64}(50.0, 50.0) … SDDP.State{Float64}(50.0, 50.0) SDDP.State{Float64}(50.0, 50.0)], :stage_objective => 551.095, :Q => [0.0 0.0 … 0.0 0.0; 161.29032258064518 161.2903225806452 … 0.0 0.0; … ; 0.0 0.0 … 161.29032258064515 0.0; 0.0 0.0 … 0.0 0.0]…)]\n",
       " [Dict(:b => [0.0 0.0 … 0.0 0.0; 0.0 0.0 … 0.0 0.0; … ; 0.0 0.0 … 0.0 0.0; 0.0 0.0 … 0.0 0.0], :l => SDDP.State{Float64}(35000.0, 35000.0), :w => [0.0 0.0 … 0.0 0.0; 0.0 0.0 … 0.0 0.0; … ; 0.0 0.0 … 0.0 0.0; 0.0 0.0 … 0.0 0.0], :bellman_term => 3886.4524999999994, :node_index => 1, :objective_state => nothing, :belief => Dict(1 => 1.0), :x => SDDP.State{Float64}[SDDP.State{Float64}(0.0, 0.0) SDDP.State{Float64}(0.0, 0.0) … SDDP.State{Float64}(0.0, 50.0) SDDP.State{Float64}(0.0, 0.0); SDDP.State{Float64}(0.0, 50.0) SDDP.State{Float64}(0.0, 50.0) … SDDP.State{Float64}(0.0, 50.0) SDDP.State{Float64}(0.0, 0.0); … ; SDDP.State{Float64}(0.0, 50.0) SDDP.State{Float64}(0.0, 50.0) … SDDP.State{Float64}(0.0, 50.0) SDDP.State{Float64}(0.0, 50.0); SDDP.State{Float64}(0.0, 50.0) SDDP.State{Float64}(0.0, 50.0) … SDDP.State{Float64}(0.0, 50.0) SDDP.State{Float64}(0.0, 50.0)], :stage_objective => 0, :Q => [0.0 0.0 … 0.0 0.0; 0.0 0.0 … 0.0 0.0; … ; 0.0 0.0 … 0.0 0.0; 0.0 0.0 … 0.0 0.0]…), Dict(:b => [0.0 0.0 … 0.0 0.0; 0.0 0.0 … 0.0 0.0; … ; 0.0 0.0 … 0.0 0.0; 0.0 0.0 … 0.0 0.0], :l => SDDP.State{Float64}(35000.0, 31369.032258064544), :w => [0.0 0.0 … 0.0 0.0; 50.0 50.00000000000001 … 0.0 0.0; … ; 0.0 0.0 … 49.99999999999999 0.0; 0.0 0.0 … 0.0 0.0], :bellman_term => 3331.245000000001, :node_index => 2, :objective_state => nothing, :belief => Dict(2 => 1.0), :x => SDDP.State{Float64}[SDDP.State{Float64}(0.0, 0.0) SDDP.State{Float64}(0.0, 0.0) … SDDP.State{Float64}(50.0, 50.0) SDDP.State{Float64}(0.0, 0.0); SDDP.State{Float64}(50.0, 50.0) SDDP.State{Float64}(50.0, 50.0) … SDDP.State{Float64}(50.0, 50.0) SDDP.State{Float64}(0.0, 0.0); … ; SDDP.State{Float64}(50.0, 50.0) SDDP.State{Float64}(50.0, 50.0) … SDDP.State{Float64}(50.0, 50.0) SDDP.State{Float64}(50.0, 50.0); SDDP.State{Float64}(50.0, 50.0) SDDP.State{Float64}(50.0, 50.0) … SDDP.State{Float64}(50.0, 50.0) SDDP.State{Float64}(50.0, 50.0)], :stage_objective => 551.095, :Q => [0.0 0.0 … 0.0 0.0; 161.29032258064518 161.2903225806452 … 0.0 0.0; … ; 0.0 0.0 … 161.29032258064515 0.0; 0.0 0.0 … 0.0 0.0]…), Dict(:b => [0.0 0.0 … 0.0 0.0; 0.0 0.0 … 0.0 0.0; … ; 0.0 0.0 … 0.0 0.0; 0.0 0.0 … 0.0 0.0], :l => SDDP.State{Float64}(31369.032258064544, 27738.06451612909), :w => [0.0 0.0 … 0.0 0.0; 50.0 50.00000000000001 … 0.0 0.0; … ; 0.0 0.0 … 49.99999999999999 0.0; 0.0 0.0 … 0.0 0.0], :bellman_term => 2776.0375000000004, :node_index => 3, :objective_state => nothing, :belief => Dict(3 => 1.0), :x => SDDP.State{Float64}[SDDP.State{Float64}(0.0, 0.0) SDDP.State{Float64}(0.0, 0.0) … SDDP.State{Float64}(50.0, 50.0) SDDP.State{Float64}(0.0, 0.0); SDDP.State{Float64}(50.0, 50.0) SDDP.State{Float64}(50.0, 50.0) … SDDP.State{Float64}(50.0, 50.0) SDDP.State{Float64}(0.0, 0.0); … ; SDDP.State{Float64}(50.0, 50.0) SDDP.State{Float64}(50.0, 50.0) … SDDP.State{Float64}(50.0, 50.0) SDDP.State{Float64}(50.0, 50.0); SDDP.State{Float64}(50.0, 50.0) SDDP.State{Float64}(50.0, 50.0) … SDDP.State{Float64}(50.0, 50.0) SDDP.State{Float64}(50.0, 50.0)], :stage_objective => 551.095, :Q => [0.0 0.0 … 0.0 0.0; 161.29032258064518 161.2903225806452 … 0.0 0.0; … ; 0.0 0.0 … 161.29032258064515 0.0; 0.0 0.0 … 0.0 0.0]…), Dict(:b => [0.0 0.0 … 0.0 0.0; 0.0 0.0 … 0.0 0.0; … ; 0.0 0.0 … 0.0 0.0; 0.0 0.0 … 0.0 0.0], :l => SDDP.State{Float64}(27738.06451612909, 24107.096774193633), :w => [0.0 0.0 … 50.0 0.0; 0.0 0.0 … 0.0 0.0; … ; 0.0 50.0 … 0.0 50.0; 0.0 0.0 … 0.0 0.0], :bellman_term => 2220.829999999999, :node_index => 4, :objective_state => nothing, :belief => Dict(4 => 1.0), :x => SDDP.State{Float64}[SDDP.State{Float64}(0.0, 0.0) SDDP.State{Float64}(0.0, 0.0) … SDDP.State{Float64}(50.0, 50.0) SDDP.State{Float64}(0.0, 0.0); SDDP.State{Float64}(50.0, 50.0) SDDP.State{Float64}(50.0, 50.0) … SDDP.State{Float64}(50.0, 50.0) SDDP.State{Float64}(0.0, 0.0); … ; SDDP.State{Float64}(50.0, 50.0) SDDP.State{Float64}(50.0, 50.0) … SDDP.State{Float64}(50.0, 50.0) SDDP.State{Float64}(50.0, 50.0); SDDP.State{Float64}(50.0, 50.0) SDDP.State{Float64}(50.0, 50.0) … SDDP.State{Float64}(50.0, 50.0) SDDP.State{Float64}(50.0, 50.0)], :stage_objective => 559.32, :Q => [0.0 0.0 … 161.29032258064518 0.0; 0.0 0.0 … 0.0 0.0; … ; 0.0 161.29032258064518 … 0.0 161.29032258064518; 0.0 0.0 … 0.0 0.0]…), Dict(:b => [0.0 0.0 … 0.0 0.0; 0.0 0.0 … 0.0 0.0; … ; 0.0 0.0 … 0.0 0.0; 0.0 0.0 … 0.0 0.0], :l => SDDP.State{Float64}(24107.096774193633, 20476.129032258177), :w => [0.0 0.0 … 0.0 0.0; 50.0 50.00000000000001 … 0.0 0.0; … ; 0.0 0.0 … 49.99999999999999 0.0; 0.0 0.0 … 0.0 0.0], :bellman_term => 1665.6224999999988, :node_index => 5, :objective_state => nothing, :belief => Dict(5 => 1.0), :x => SDDP.State{Float64}[SDDP.State{Float64}(0.0, 0.0) SDDP.State{Float64}(0.0, 0.0) … SDDP.State{Float64}(50.0, 50.0) SDDP.State{Float64}(0.0, 0.0); SDDP.State{Float64}(50.0, 50.0) SDDP.State{Float64}(50.0, 50.0) … SDDP.State{Float64}(50.0, 50.0) SDDP.State{Float64}(0.0, 0.0); … ; SDDP.State{Float64}(50.0, 50.0) SDDP.State{Float64}(50.0, 50.0) … SDDP.State{Float64}(50.0, 50.0) SDDP.State{Float64}(50.0, 50.0); SDDP.State{Float64}(50.0, 50.0) SDDP.State{Float64}(50.0, 50.0) … SDDP.State{Float64}(50.0, 50.0) SDDP.State{Float64}(50.0, 50.0)], :stage_objective => 551.095, :Q => [0.0 0.0 … 0.0 0.0; 161.29032258064518 161.2903225806452 … 0.0 0.0; … ; 0.0 0.0 … 161.29032258064515 0.0; 0.0 0.0 … 0.0 0.0]…), Dict(:b => [0.0 0.0 … 0.0 0.0; 0.0 0.0 … 0.0 0.0; … ; 0.0 0.0 … 0.0 0.0; 0.0 0.0 … 0.0 0.0], :l => SDDP.State{Float64}(20476.129032258177, 16845.16129032272), :w => [0.0 0.0 … 0.0 0.0; 50.0 50.00000000000001 … 0.0 0.0; … ; 0.0 0.0 … 49.99999999999999 0.0; 0.0 0.0 … 0.0 0.0], :bellman_term => 1110.414999999999, :node_index => 6, :objective_state => nothing, :belief => Dict(6 => 1.0), :x => SDDP.State{Float64}[SDDP.State{Float64}(0.0, 0.0) SDDP.State{Float64}(0.0, 0.0) … SDDP.State{Float64}(50.0, 50.0) SDDP.State{Float64}(0.0, 0.0); SDDP.State{Float64}(50.0, 50.0) SDDP.State{Float64}(50.0, 50.0) … SDDP.State{Float64}(50.0, 50.0) SDDP.State{Float64}(0.0, 0.0); … ; SDDP.State{Float64}(50.0, 50.0) SDDP.State{Float64}(50.0, 50.0) … SDDP.State{Float64}(50.0, 50.0) SDDP.State{Float64}(50.0, 50.0); SDDP.State{Float64}(50.0, 50.0) SDDP.State{Float64}(50.0, 50.0) … SDDP.State{Float64}(50.0, 50.0) SDDP.State{Float64}(50.0, 50.0)], :stage_objective => 551.095, :Q => [0.0 0.0 … 0.0 0.0; 161.29032258064518 161.2903225806452 … 0.0 0.0; … ; 0.0 0.0 … 161.29032258064515 0.0; 0.0 0.0 … 0.0 0.0]…), Dict(:b => [0.0 0.0 … 0.0 0.0; 0.0 0.0 … 0.0 0.0; … ; 0.0 0.0 … 0.0 0.0; 0.0 0.0 … 0.0 0.0], :l => SDDP.State{Float64}(16845.16129032272, 3630.967741935484), :w => [0.0 0.0 … 0.0 0.0; 50.0 50.00000000000001 … 0.0 0.0; … ; 0.0 0.0 … 49.99999999999999 0.0; 0.0 0.0 … 0.0 0.0], :bellman_term => 555.2075, :node_index => 7, :objective_state => nothing, :belief => Dict(7 => 1.0), :x => SDDP.State{Float64}[SDDP.State{Float64}(0.0, 0.0) SDDP.State{Float64}(0.0, 0.0) … SDDP.State{Float64}(50.0, 50.0) SDDP.State{Float64}(0.0, 0.0); SDDP.State{Float64}(50.0, 50.0) SDDP.State{Float64}(50.0, 50.0) … SDDP.State{Float64}(50.0, 50.0) SDDP.State{Float64}(0.0, 0.0); … ; SDDP.State{Float64}(50.0, 50.0) SDDP.State{Float64}(50.0, 50.0) … SDDP.State{Float64}(50.0, 50.0) SDDP.State{Float64}(50.0, 50.0); SDDP.State{Float64}(50.0, 50.0) SDDP.State{Float64}(50.0, 50.0) … SDDP.State{Float64}(50.0, 50.0) SDDP.State{Float64}(50.0, 50.0)], :stage_objective => 551.095, :Q => [0.0 0.0 … 0.0 0.0; 161.29032258064518 161.2903225806452 … 0.0 0.0; … ; 0.0 0.0 … 161.29032258064515 0.0; 0.0 0.0 … 0.0 0.0]…), Dict(:b => [0.0 0.0 … 0.0 0.0; 0.0 0.0 … 0.0 0.0; … ; 0.0 0.0 … 0.0 0.0; 0.0 0.0 … 0.0 0.0], :l => SDDP.State{Float64}(3630.967741935484, -1.8189894035458565e-12), :w => [0.0 0.0 … 50.0 0.0; 0.0 0.0 … 0.0 0.0; … ; 0.0 50.0 … 0.0 50.0; 0.0 0.0 … 0.0 0.0], :bellman_term => 0.0, :node_index => 8, :objective_state => nothing, :belief => Dict(8 => 1.0), :x => SDDP.State{Float64}[SDDP.State{Float64}(0.0, 0.0) SDDP.State{Float64}(0.0, 0.0) … SDDP.State{Float64}(50.0, 0.0) SDDP.State{Float64}(0.0, 0.0); SDDP.State{Float64}(50.0, 0.0) SDDP.State{Float64}(50.0, 0.0) … SDDP.State{Float64}(50.0, 0.0) SDDP.State{Float64}(0.0, 0.0); … ; SDDP.State{Float64}(50.0, 50.0) SDDP.State{Float64}(50.0, 50.0) … SDDP.State{Float64}(50.0, 50.0) SDDP.State{Float64}(50.0, 50.0); SDDP.State{Float64}(50.0, 50.0) SDDP.State{Float64}(50.0, 50.0) … SDDP.State{Float64}(50.0, 50.0) SDDP.State{Float64}(50.0, 50.0)], :stage_objective => 559.32, :Q => [0.0 0.0 … 161.29032258064518 0.0; 0.0 0.0 … 0.0 0.0; … ; 0.0 161.29032258064518 … 0.0 161.29032258064518; 0.0 0.0 … 0.0 0.0]…)]\n",
       " [Dict(:b => [0.0 0.0 … 0.0 0.0; 0.0 0.0 … 0.0 0.0; … ; 0.0 0.0 … 0.0 0.0; 0.0 0.0 … 0.0 0.0], :l => SDDP.State{Float64}(35000.0, 35000.0), :w => [0.0 0.0 … 0.0 0.0; 0.0 0.0 … 0.0 0.0; … ; 0.0 0.0 … 0.0 0.0; 0.0 0.0 … 0.0 0.0], :bellman_term => 3886.4524999999994, :node_index => 1, :objective_state => nothing, :belief => Dict(1 => 1.0), :x => SDDP.State{Float64}[SDDP.State{Float64}(0.0, 0.0) SDDP.State{Float64}(0.0, 0.0) … SDDP.State{Float64}(0.0, 50.0) SDDP.State{Float64}(0.0, 0.0); SDDP.State{Float64}(0.0, 50.0) SDDP.State{Float64}(0.0, 50.0) … SDDP.State{Float64}(0.0, 50.0) SDDP.State{Float64}(0.0, 0.0); … ; SDDP.State{Float64}(0.0, 50.0) SDDP.State{Float64}(0.0, 50.0) … SDDP.State{Float64}(0.0, 50.0) SDDP.State{Float64}(0.0, 50.0); SDDP.State{Float64}(0.0, 50.0) SDDP.State{Float64}(0.0, 50.0) … SDDP.State{Float64}(0.0, 50.0) SDDP.State{Float64}(0.0, 50.0)], :stage_objective => 0, :Q => [0.0 0.0 … 0.0 0.0; 0.0 0.0 … 0.0 0.0; … ; 0.0 0.0 … 0.0 0.0; 0.0 0.0 … 0.0 0.0]…), Dict(:b => [0.0 0.0 … 0.0 0.0; 0.0 0.0 … 0.0 0.0; … ; 0.0 0.0 … 0.0 0.0; 0.0 0.0 … 0.0 0.0], :l => SDDP.State{Float64}(35000.0, 31369.032258064544), :w => [0.0 0.0 … 0.0 0.0; 50.0 50.00000000000001 … 0.0 0.0; … ; 0.0 0.0 … 49.99999999999999 0.0; 0.0 0.0 … 0.0 0.0], :bellman_term => 3331.245000000001, :node_index => 2, :objective_state => nothing, :belief => Dict(2 => 1.0), :x => SDDP.State{Float64}[SDDP.State{Float64}(0.0, 0.0) SDDP.State{Float64}(0.0, 0.0) … SDDP.State{Float64}(50.0, 50.0) SDDP.State{Float64}(0.0, 0.0); SDDP.State{Float64}(50.0, 50.0) SDDP.State{Float64}(50.0, 50.0) … SDDP.State{Float64}(50.0, 50.0) SDDP.State{Float64}(0.0, 0.0); … ; SDDP.State{Float64}(50.0, 50.0) SDDP.State{Float64}(50.0, 50.0) … SDDP.State{Float64}(50.0, 50.0) SDDP.State{Float64}(50.0, 50.0); SDDP.State{Float64}(50.0, 50.0) SDDP.State{Float64}(50.0, 50.0) … SDDP.State{Float64}(50.0, 50.0) SDDP.State{Float64}(50.0, 50.0)], :stage_objective => 551.095, :Q => [0.0 0.0 … 0.0 0.0; 161.29032258064518 161.2903225806452 … 0.0 0.0; … ; 0.0 0.0 … 161.29032258064515 0.0; 0.0 0.0 … 0.0 0.0]…), Dict(:b => [0.0 0.0 … 0.0 0.0; 0.0 0.0 … 0.0 0.0; … ; 0.0 0.0 … 0.0 0.0; 0.0 0.0 … 0.0 0.0], :l => SDDP.State{Float64}(31369.032258064544, 27738.06451612909), :w => [0.0 0.0 … 50.0 0.0; 0.0 0.0 … 0.0 0.0; … ; 0.0 50.0 … 0.0 50.0; 0.0 0.0 … 0.0 0.0], :bellman_term => 2776.0375000000004, :node_index => 3, :objective_state => nothing, :belief => Dict(3 => 1.0), :x => SDDP.State{Float64}[SDDP.State{Float64}(0.0, 0.0) SDDP.State{Float64}(0.0, 0.0) … SDDP.State{Float64}(50.0, 50.0) SDDP.State{Float64}(0.0, 0.0); SDDP.State{Float64}(50.0, 50.0) SDDP.State{Float64}(50.0, 50.0) … SDDP.State{Float64}(50.0, 50.0) SDDP.State{Float64}(0.0, 0.0); … ; SDDP.State{Float64}(50.0, 50.0) SDDP.State{Float64}(50.0, 50.0) … SDDP.State{Float64}(50.0, 50.0) SDDP.State{Float64}(50.0, 50.0); SDDP.State{Float64}(50.0, 50.0) SDDP.State{Float64}(50.0, 50.0) … SDDP.State{Float64}(50.0, 50.0) SDDP.State{Float64}(50.0, 50.0)], :stage_objective => 559.32, :Q => [0.0 0.0 … 161.29032258064518 0.0; 0.0 0.0 … 0.0 0.0; … ; 0.0 161.29032258064518 … 0.0 161.29032258064518; 0.0 0.0 … 0.0 0.0]…), Dict(:b => [0.0 0.0 … 0.0 0.0; 0.0 0.0 … 0.0 0.0; … ; 0.0 0.0 … 0.0 0.0; 0.0 0.0 … 0.0 0.0], :l => SDDP.State{Float64}(27738.06451612909, 24107.096774193633), :w => [0.0 0.0 … 0.0 0.0; 50.0 50.00000000000001 … 0.0 0.0; … ; 0.0 0.0 … 49.99999999999999 0.0; 0.0 0.0 … 0.0 0.0], :bellman_term => 2220.83, :node_index => 4, :objective_state => nothing, :belief => Dict(4 => 1.0), :x => SDDP.State{Float64}[SDDP.State{Float64}(0.0, 0.0) SDDP.State{Float64}(0.0, 0.0) … SDDP.State{Float64}(50.0, 50.0) SDDP.State{Float64}(0.0, 0.0); SDDP.State{Float64}(50.0, 50.0) SDDP.State{Float64}(50.0, 50.0) … SDDP.State{Float64}(50.0, 50.0) SDDP.State{Float64}(0.0, 0.0); … ; SDDP.State{Float64}(50.0, 50.0) SDDP.State{Float64}(50.0, 50.0) … SDDP.State{Float64}(50.0, 50.0) SDDP.State{Float64}(50.0, 50.0); SDDP.State{Float64}(50.0, 50.0) SDDP.State{Float64}(50.0, 50.0) … SDDP.State{Float64}(50.0, 50.0) SDDP.State{Float64}(50.0, 50.0)], :stage_objective => 551.095, :Q => [0.0 0.0 … 0.0 0.0; 161.29032258064518 161.2903225806452 … 0.0 0.0; … ; 0.0 0.0 … 161.29032258064515 0.0; 0.0 0.0 … 0.0 0.0]…), Dict(:b => [0.0 0.0 … 0.0 0.0; 0.0 0.0 … 0.0 0.0; … ; 0.0 0.0 … 0.0 0.0; 0.0 0.0 … 0.0 0.0], :l => SDDP.State{Float64}(24107.096774193633, 20476.129032258177), :w => [0.0 0.0 … 0.0 0.0; 50.0 50.00000000000001 … 0.0 0.0; … ; 0.0 0.0 … 49.99999999999999 0.0; 0.0 0.0 … 0.0 0.0], :bellman_term => 1665.6224999999988, :node_index => 5, :objective_state => nothing, :belief => Dict(5 => 1.0), :x => SDDP.State{Float64}[SDDP.State{Float64}(0.0, 0.0) SDDP.State{Float64}(0.0, 0.0) … SDDP.State{Float64}(50.0, 50.0) SDDP.State{Float64}(0.0, 0.0); SDDP.State{Float64}(50.0, 50.0) SDDP.State{Float64}(50.0, 50.0) … SDDP.State{Float64}(50.0, 50.0) SDDP.State{Float64}(0.0, 0.0); … ; SDDP.State{Float64}(50.0, 50.0) SDDP.State{Float64}(50.0, 50.0) … SDDP.State{Float64}(50.0, 50.0) SDDP.State{Float64}(50.0, 50.0); SDDP.State{Float64}(50.0, 50.0) SDDP.State{Float64}(50.0, 50.0) … SDDP.State{Float64}(50.0, 50.0) SDDP.State{Float64}(50.0, 50.0)], :stage_objective => 551.095, :Q => [0.0 0.0 … 0.0 0.0; 161.29032258064518 161.2903225806452 … 0.0 0.0; … ; 0.0 0.0 … 161.29032258064515 0.0; 0.0 0.0 … 0.0 0.0]…), Dict(:b => [0.0 0.0 … 0.0 0.0; 0.0 0.0 … 0.0 0.0; … ; 0.0 0.0 … 0.0 0.0; 0.0 0.0 … 0.0 0.0], :l => SDDP.State{Float64}(20476.129032258177, 16845.16129032272), :w => [0.0 0.0 … 0.0 0.0; 50.0 50.00000000000001 … 0.0 0.0; … ; 0.0 0.0 … 49.99999999999999 0.0; 0.0 0.0 … 0.0 0.0], :bellman_term => 1110.4149999999988, :node_index => 6, :objective_state => nothing, :belief => Dict(6 => 1.0), :x => SDDP.State{Float64}[SDDP.State{Float64}(0.0, 0.0) SDDP.State{Float64}(0.0, 0.0) … SDDP.State{Float64}(50.0, 50.0) SDDP.State{Float64}(0.0, 0.0); SDDP.State{Float64}(50.0, 50.0) SDDP.State{Float64}(50.0, 50.0) … SDDP.State{Float64}(50.0, 50.0) SDDP.State{Float64}(0.0, 0.0); … ; SDDP.State{Float64}(50.0, 50.0) SDDP.State{Float64}(50.0, 50.0) … SDDP.State{Float64}(50.0, 50.0) SDDP.State{Float64}(50.0, 50.0); SDDP.State{Float64}(50.0, 50.0) SDDP.State{Float64}(50.0, 50.0) … SDDP.State{Float64}(50.0, 50.0) SDDP.State{Float64}(50.0, 50.0)], :stage_objective => 551.095, :Q => [0.0 0.0 … 0.0 0.0; 161.29032258064518 161.2903225806452 … 0.0 0.0; … ; 0.0 0.0 … 161.29032258064515 0.0; 0.0 0.0 … 0.0 0.0]…), Dict(:b => [0.0 0.0 … 0.0 0.0; 0.0 0.0 … 0.0 0.0; … ; 0.0 0.0 … 0.0 0.0; 0.0 0.0 … 0.0 0.0], :l => SDDP.State{Float64}(16845.16129032272, 3630.967741935484), :w => [0.0 0.0 … 0.0 0.0; 50.0 50.00000000000001 … 0.0 0.0; … ; 0.0 0.0 … 49.99999999999999 0.0; 0.0 0.0 … 0.0 0.0], :bellman_term => 555.2075, :node_index => 7, :objective_state => nothing, :belief => Dict(7 => 1.0), :x => SDDP.State{Float64}[SDDP.State{Float64}(0.0, 0.0) SDDP.State{Float64}(0.0, 0.0) … SDDP.State{Float64}(50.0, 50.0) SDDP.State{Float64}(0.0, 0.0); SDDP.State{Float64}(50.0, 50.0) SDDP.State{Float64}(50.0, 50.0) … SDDP.State{Float64}(50.0, 50.0) SDDP.State{Float64}(0.0, 0.0); … ; SDDP.State{Float64}(50.0, 50.0) SDDP.State{Float64}(50.0, 50.0) … SDDP.State{Float64}(50.0, 50.0) SDDP.State{Float64}(50.0, 50.0); SDDP.State{Float64}(50.0, 50.0) SDDP.State{Float64}(50.0, 50.0) … SDDP.State{Float64}(50.0, 50.0) SDDP.State{Float64}(50.0, 50.0)], :stage_objective => 551.095, :Q => [0.0 0.0 … 0.0 0.0; 161.29032258064518 161.2903225806452 … 0.0 0.0; … ; 0.0 0.0 … 161.29032258064515 0.0; 0.0 0.0 … 0.0 0.0]…), Dict(:b => [0.0 0.0 … 0.0 0.0; 0.0 0.0 … 0.0 0.0; … ; 0.0 0.0 … 0.0 0.0; 0.0 0.0 … 0.0 0.0], :l => SDDP.State{Float64}(3630.967741935484, -1.8189894035458565e-12), :w => [0.0 0.0 … 0.0 0.0; 50.0 50.00000000000001 … 0.0 0.0; … ; 0.0 0.0 … 49.99999999999999 0.0; 0.0 0.0 … 0.0 0.0], :bellman_term => 0.0, :node_index => 8, :objective_state => nothing, :belief => Dict(8 => 1.0), :x => SDDP.State{Float64}[SDDP.State{Float64}(0.0, 0.0) SDDP.State{Float64}(0.0, 0.0) … SDDP.State{Float64}(50.0, 0.0) SDDP.State{Float64}(0.0, 0.0); SDDP.State{Float64}(50.0, 0.0) SDDP.State{Float64}(50.0, 0.0) … SDDP.State{Float64}(50.0, 0.0) SDDP.State{Float64}(0.0, 0.0); … ; SDDP.State{Float64}(50.0, 50.0) SDDP.State{Float64}(50.0, 50.0) … SDDP.State{Float64}(50.0, 50.0) SDDP.State{Float64}(50.0, 50.0); SDDP.State{Float64}(50.0, 50.0) SDDP.State{Float64}(50.0, 50.0) … SDDP.State{Float64}(50.0, 50.0) SDDP.State{Float64}(50.0, 50.0)], :stage_objective => 551.095, :Q => [0.0 0.0 … 0.0 0.0; 161.29032258064518 161.2903225806452 … 0.0 0.0; … ; 0.0 0.0 … 161.29032258064515 0.0; 0.0 0.0 … 0.0 0.0]…)]\n",
       " [Dict(:b => [0.0 0.0 … 0.0 0.0; 0.0 0.0 … 0.0 0.0; … ; 0.0 0.0 … 0.0 0.0; 0.0 0.0 … 0.0 0.0], :l => SDDP.State{Float64}(35000.0, 35000.0), :w => [0.0 0.0 … 0.0 0.0; 0.0 0.0 … 0.0 0.0; … ; 0.0 0.0 … 0.0 0.0; 0.0 0.0 … 0.0 0.0], :bellman_term => 3886.4524999999994, :node_index => 1, :objective_state => nothing, :belief => Dict(1 => 1.0), :x => SDDP.State{Float64}[SDDP.State{Float64}(0.0, 0.0) SDDP.State{Float64}(0.0, 0.0) … SDDP.State{Float64}(0.0, 50.0) SDDP.State{Float64}(0.0, 0.0); SDDP.State{Float64}(0.0, 50.0) SDDP.State{Float64}(0.0, 50.0) … SDDP.State{Float64}(0.0, 50.0) SDDP.State{Float64}(0.0, 0.0); … ; SDDP.State{Float64}(0.0, 50.0) SDDP.State{Float64}(0.0, 50.0) … SDDP.State{Float64}(0.0, 50.0) SDDP.State{Float64}(0.0, 50.0); SDDP.State{Float64}(0.0, 50.0) SDDP.State{Float64}(0.0, 50.0) … SDDP.State{Float64}(0.0, 50.0) SDDP.State{Float64}(0.0, 50.0)], :stage_objective => 0, :Q => [0.0 0.0 … 0.0 0.0; 0.0 0.0 … 0.0 0.0; … ; 0.0 0.0 … 0.0 0.0; 0.0 0.0 … 0.0 0.0]…), Dict(:b => [0.0 0.0 … 0.0 0.0; 0.0 0.0 … 0.0 0.0; … ; 0.0 0.0 … 0.0 0.0; 0.0 0.0 … 0.0 0.0], :l => SDDP.State{Float64}(35000.0, 31369.032258064544), :w => [0.0 0.0 … 50.0 0.0; 0.0 0.0 … 0.0 0.0; … ; 0.0 50.0 … 0.0 50.0; 0.0 0.0 … 0.0 0.0], :bellman_term => 3331.2449999999994, :node_index => 2, :objective_state => nothing, :belief => Dict(2 => 1.0), :x => SDDP.State{Float64}[SDDP.State{Float64}(0.0, 0.0) SDDP.State{Float64}(0.0, 0.0) … SDDP.State{Float64}(50.0, 50.0) SDDP.State{Float64}(0.0, 0.0); SDDP.State{Float64}(50.0, 50.0) SDDP.State{Float64}(50.0, 50.0) … SDDP.State{Float64}(50.0, 50.0) SDDP.State{Float64}(0.0, 0.0); … ; SDDP.State{Float64}(50.0, 50.0) SDDP.State{Float64}(50.0, 50.0) … SDDP.State{Float64}(50.0, 50.0) SDDP.State{Float64}(50.0, 50.0); SDDP.State{Float64}(50.0, 50.0) SDDP.State{Float64}(50.0, 50.0) … SDDP.State{Float64}(50.0, 50.0) SDDP.State{Float64}(50.0, 50.0)], :stage_objective => 559.32, :Q => [0.0 0.0 … 161.29032258064518 0.0; 0.0 0.0 … 0.0 0.0; … ; 0.0 161.29032258064518 … 0.0 161.29032258064518; 0.0 0.0 … 0.0 0.0]…), Dict(:b => [0.0 0.0 … 0.0 0.0; 0.0 0.0 … 0.0 0.0; … ; 0.0 0.0 … 0.0 0.0; 0.0 0.0 … 0.0 0.0], :l => SDDP.State{Float64}(31369.032258064544, 27738.06451612909), :w => [0.0 0.0 … 0.0 0.0; 50.0 50.00000000000001 … 0.0 0.0; … ; 0.0 0.0 … 49.99999999999999 0.0; 0.0 0.0 … 0.0 0.0], :bellman_term => 2776.0375000000004, :node_index => 3, :objective_state => nothing, :belief => Dict(3 => 1.0), :x => SDDP.State{Float64}[SDDP.State{Float64}(0.0, 0.0) SDDP.State{Float64}(0.0, 0.0) … SDDP.State{Float64}(50.0, 50.0) SDDP.State{Float64}(0.0, 0.0); SDDP.State{Float64}(50.0, 50.0) SDDP.State{Float64}(50.0, 50.0) … SDDP.State{Float64}(50.0, 50.0) SDDP.State{Float64}(0.0, 0.0); … ; SDDP.State{Float64}(50.0, 50.0) SDDP.State{Float64}(50.0, 50.0) … SDDP.State{Float64}(50.0, 50.0) SDDP.State{Float64}(50.0, 50.0); SDDP.State{Float64}(50.0, 50.0) SDDP.State{Float64}(50.0, 50.0) … SDDP.State{Float64}(50.0, 50.0) SDDP.State{Float64}(50.0, 50.0)], :stage_objective => 551.095, :Q => [0.0 0.0 … 0.0 0.0; 161.29032258064518 161.2903225806452 … 0.0 0.0; … ; 0.0 0.0 … 161.29032258064515 0.0; 0.0 0.0 … 0.0 0.0]…), Dict(:b => [0.0 0.0 … 0.0 0.0; 0.0 0.0 … 0.0 0.0; … ; 0.0 0.0 … 0.0 0.0; 0.0 0.0 … 0.0 0.0], :l => SDDP.State{Float64}(27738.06451612909, 24107.096774193633), :w => [0.0 0.0 … 50.0 0.0; 0.0 0.0 … 0.0 0.0; … ; 0.0 50.0 … 0.0 50.0; 0.0 0.0 … 0.0 0.0], :bellman_term => 2220.83, :node_index => 4, :objective_state => nothing, :belief => Dict(4 => 1.0), :x => SDDP.State{Float64}[SDDP.State{Float64}(0.0, 0.0) SDDP.State{Float64}(0.0, 0.0) … SDDP.State{Float64}(50.0, 50.0) SDDP.State{Float64}(0.0, 0.0); SDDP.State{Float64}(50.0, 50.0) SDDP.State{Float64}(50.0, 50.0) … SDDP.State{Float64}(50.0, 50.0) SDDP.State{Float64}(0.0, 0.0); … ; SDDP.State{Float64}(50.0, 50.0) SDDP.State{Float64}(50.0, 50.0) … SDDP.State{Float64}(50.0, 50.0) SDDP.State{Float64}(50.0, 50.0); SDDP.State{Float64}(50.0, 50.0) SDDP.State{Float64}(50.0, 50.0) … SDDP.State{Float64}(50.0, 50.0) SDDP.State{Float64}(50.0, 50.0)], :stage_objective => 559.32, :Q => [0.0 0.0 … 161.29032258064518 0.0; 0.0 0.0 … 0.0 0.0; … ; 0.0 161.29032258064518 … 0.0 161.29032258064518; 0.0 0.0 … 0.0 0.0]…), Dict(:b => [0.0 0.0 … 0.0 0.0; 0.0 0.0 … 0.0 0.0; … ; 0.0 0.0 … 0.0 0.0; 0.0 0.0 … 0.0 0.0], :l => SDDP.State{Float64}(24107.096774193633, 20476.129032258177), :w => [0.0 0.0 … 50.0 0.0; 0.0 0.0 … 0.0 0.0; … ; 0.0 50.0 … 0.0 50.0; 0.0 0.0 … 0.0 0.0], :bellman_term => 1665.6224999999986, :node_index => 5, :objective_state => nothing, :belief => Dict(5 => 1.0), :x => SDDP.State{Float64}[SDDP.State{Float64}(0.0, 0.0) SDDP.State{Float64}(0.0, 0.0) … SDDP.State{Float64}(50.0, 50.0) SDDP.State{Float64}(0.0, 0.0); SDDP.State{Float64}(50.0, 50.0) SDDP.State{Float64}(50.0, 50.0) … SDDP.State{Float64}(50.0, 50.0) SDDP.State{Float64}(0.0, 0.0); … ; SDDP.State{Float64}(50.0, 50.0) SDDP.State{Float64}(50.0, 50.0) … SDDP.State{Float64}(50.0, 50.0) SDDP.State{Float64}(50.0, 50.0); SDDP.State{Float64}(50.0, 50.0) SDDP.State{Float64}(50.0, 50.0) … SDDP.State{Float64}(50.0, 50.0) SDDP.State{Float64}(50.0, 50.0)], :stage_objective => 559.32, :Q => [0.0 0.0 … 161.29032258064518 0.0; 0.0 0.0 … 0.0 0.0; … ; 0.0 161.29032258064518 … 0.0 161.29032258064518; 0.0 0.0 … 0.0 0.0]…), Dict(:b => [0.0 0.0 … 0.0 0.0; 0.0 0.0 … 0.0 0.0; … ; 0.0 0.0 … 0.0 0.0; 0.0 0.0 … 0.0 0.0], :l => SDDP.State{Float64}(20476.129032258177, 16845.16129032272), :w => [0.0 0.0 … 50.0 0.0; 0.0 0.0 … 0.0 0.0; … ; 0.0 50.0 … 0.0 50.0; 0.0 0.0 … 0.0 0.0], :bellman_term => 1110.414999999999, :node_index => 6, :objective_state => nothing, :belief => Dict(6 => 1.0), :x => SDDP.State{Float64}[SDDP.State{Float64}(0.0, 0.0) SDDP.State{Float64}(0.0, 0.0) … SDDP.State{Float64}(50.0, 50.0) SDDP.State{Float64}(0.0, 0.0); SDDP.State{Float64}(50.0, 50.0) SDDP.State{Float64}(50.0, 50.0) … SDDP.State{Float64}(50.0, 50.0) SDDP.State{Float64}(0.0, 0.0); … ; SDDP.State{Float64}(50.0, 50.0) SDDP.State{Float64}(50.0, 50.0) … SDDP.State{Float64}(50.0, 50.0) SDDP.State{Float64}(50.0, 50.0); SDDP.State{Float64}(50.0, 50.0) SDDP.State{Float64}(50.0, 50.0) … SDDP.State{Float64}(50.0, 50.0) SDDP.State{Float64}(50.0, 50.0)], :stage_objective => 559.32, :Q => [0.0 0.0 … 161.29032258064518 0.0; 0.0 0.0 … 0.0 0.0; … ; 0.0 161.29032258064518 … 0.0 161.29032258064518; 0.0 0.0 … 0.0 0.0]…), Dict(:b => [0.0 0.0 … 0.0 0.0; 0.0 0.0 … 0.0 0.0; … ; 0.0 0.0 … 0.0 0.0; 0.0 0.0 … 0.0 0.0], :l => SDDP.State{Float64}(16845.16129032272, 3630.967741935484), :w => [0.0 0.0 … 50.0 0.0; 0.0 0.0 … 0.0 0.0; … ; 0.0 50.0 … 0.0 50.0; 0.0 0.0 … 0.0 0.0], :bellman_term => 555.2074999999994, :node_index => 7, :objective_state => nothing, :belief => Dict(7 => 1.0), :x => SDDP.State{Float64}[SDDP.State{Float64}(0.0, 0.0) SDDP.State{Float64}(0.0, 0.0) … SDDP.State{Float64}(50.0, 50.0) SDDP.State{Float64}(0.0, 0.0); SDDP.State{Float64}(50.0, 50.0) SDDP.State{Float64}(50.0, 50.0) … SDDP.State{Float64}(50.0, 50.0) SDDP.State{Float64}(0.0, 0.0); … ; SDDP.State{Float64}(50.0, 50.0) SDDP.State{Float64}(50.0, 50.0) … SDDP.State{Float64}(50.0, 50.0) SDDP.State{Float64}(50.0, 50.0); SDDP.State{Float64}(50.0, 50.0) SDDP.State{Float64}(50.0, 50.0) … SDDP.State{Float64}(50.0, 50.0) SDDP.State{Float64}(50.0, 50.0)], :stage_objective => 559.32, :Q => [0.0 0.0 … 161.29032258064518 0.0; 0.0 0.0 … 0.0 0.0; … ; 0.0 161.29032258064518 … 0.0 161.29032258064518; 0.0 0.0 … 0.0 0.0]…), Dict(:b => [0.0 0.0 … 0.0 0.0; 0.0 0.0 … 0.0 0.0; … ; 0.0 0.0 … 0.0 0.0; 0.0 0.0 … 0.0 0.0], :l => SDDP.State{Float64}(3630.967741935484, -1.8189894035458565e-12), :w => [0.0 0.0 … 0.0 0.0; 50.0 50.00000000000001 … 0.0 0.0; … ; 0.0 0.0 … 49.99999999999999 0.0; 0.0 0.0 … 0.0 0.0], :bellman_term => 0.0, :node_index => 8, :objective_state => nothing, :belief => Dict(8 => 1.0), :x => SDDP.State{Float64}[SDDP.State{Float64}(0.0, 0.0) SDDP.State{Float64}(0.0, 0.0) … SDDP.State{Float64}(50.0, 0.0) SDDP.State{Float64}(0.0, 0.0); SDDP.State{Float64}(50.0, 0.0) SDDP.State{Float64}(50.0, 0.0) … SDDP.State{Float64}(50.0, 0.0) SDDP.State{Float64}(0.0, 0.0); … ; SDDP.State{Float64}(50.0, 50.0) SDDP.State{Float64}(50.0, 50.0) … SDDP.State{Float64}(50.0, 50.0) SDDP.State{Float64}(50.0, 50.0); SDDP.State{Float64}(50.0, 50.0) SDDP.State{Float64}(50.0, 50.0) … SDDP.State{Float64}(50.0, 50.0) SDDP.State{Float64}(50.0, 50.0)], :stage_objective => 551.095, :Q => [0.0 0.0 … 0.0 0.0; 161.29032258064518 161.2903225806452 … 0.0 0.0; … ; 0.0 0.0 … 161.29032258064515 0.0; 0.0 0.0 … 0.0 0.0]…)]\n",
       " [Dict(:b => [0.0 0.0 … 0.0 0.0; 0.0 0.0 … 0.0 0.0; … ; 0.0 0.0 … 0.0 0.0; 0.0 0.0 … 0.0 0.0], :l => SDDP.State{Float64}(35000.0, 35000.0), :w => [0.0 0.0 … 0.0 0.0; 0.0 0.0 … 0.0 0.0; … ; 0.0 0.0 … 0.0 0.0; 0.0 0.0 … 0.0 0.0], :bellman_term => 3886.4524999999994, :node_index => 1, :objective_state => nothing, :belief => Dict(1 => 1.0), :x => SDDP.State{Float64}[SDDP.State{Float64}(0.0, 0.0) SDDP.State{Float64}(0.0, 0.0) … SDDP.State{Float64}(0.0, 50.0) SDDP.State{Float64}(0.0, 0.0); SDDP.State{Float64}(0.0, 50.0) SDDP.State{Float64}(0.0, 50.0) … SDDP.State{Float64}(0.0, 50.0) SDDP.State{Float64}(0.0, 0.0); … ; SDDP.State{Float64}(0.0, 50.0) SDDP.State{Float64}(0.0, 50.0) … SDDP.State{Float64}(0.0, 50.0) SDDP.State{Float64}(0.0, 50.0); SDDP.State{Float64}(0.0, 50.0) SDDP.State{Float64}(0.0, 50.0) … SDDP.State{Float64}(0.0, 50.0) SDDP.State{Float64}(0.0, 50.0)], :stage_objective => 0, :Q => [0.0 0.0 … 0.0 0.0; 0.0 0.0 … 0.0 0.0; … ; 0.0 0.0 … 0.0 0.0; 0.0 0.0 … 0.0 0.0]…), Dict(:b => [0.0 0.0 … 0.0 0.0; 0.0 0.0 … 0.0 0.0; … ; 0.0 0.0 … 0.0 0.0; 0.0 0.0 … 0.0 0.0], :l => SDDP.State{Float64}(35000.0, 31369.032258064544), :w => [0.0 0.0 … 0.0 0.0; 50.0 50.00000000000001 … 0.0 0.0; … ; 0.0 0.0 … 49.99999999999999 0.0; 0.0 0.0 … 0.0 0.0], :bellman_term => 3331.244999999999, :node_index => 2, :objective_state => nothing, :belief => Dict(2 => 1.0), :x => SDDP.State{Float64}[SDDP.State{Float64}(0.0, 0.0) SDDP.State{Float64}(0.0, 0.0) … SDDP.State{Float64}(50.0, 50.0) SDDP.State{Float64}(0.0, 0.0); SDDP.State{Float64}(50.0, 50.0) SDDP.State{Float64}(50.0, 50.0) … SDDP.State{Float64}(50.0, 50.0) SDDP.State{Float64}(0.0, 0.0); … ; SDDP.State{Float64}(50.0, 50.0) SDDP.State{Float64}(50.0, 50.0) … SDDP.State{Float64}(50.0, 50.0) SDDP.State{Float64}(50.0, 50.0); SDDP.State{Float64}(50.0, 50.0) SDDP.State{Float64}(50.0, 50.0) … SDDP.State{Float64}(50.0, 50.0) SDDP.State{Float64}(50.0, 50.0)], :stage_objective => 551.095, :Q => [0.0 0.0 … 0.0 0.0; 161.29032258064518 161.2903225806452 … 0.0 0.0; … ; 0.0 0.0 … 161.29032258064515 0.0; 0.0 0.0 … 0.0 0.0]…), Dict(:b => [0.0 0.0 … 0.0 0.0; 0.0 0.0 … 0.0 0.0; … ; 0.0 0.0 … 0.0 0.0; 0.0 0.0 … 0.0 0.0], :l => SDDP.State{Float64}(31369.032258064544, 27738.06451612909), :w => [0.0 0.0 … 50.0 0.0; 0.0 0.0 … 0.0 0.0; … ; 0.0 50.0 … 0.0 50.0; 0.0 0.0 … 0.0 0.0], :bellman_term => 2776.0375000000004, :node_index => 3, :objective_state => nothing, :belief => Dict(3 => 1.0), :x => SDDP.State{Float64}[SDDP.State{Float64}(0.0, 0.0) SDDP.State{Float64}(0.0, 0.0) … SDDP.State{Float64}(50.0, 50.0) SDDP.State{Float64}(0.0, 0.0); SDDP.State{Float64}(50.0, 50.0) SDDP.State{Float64}(50.0, 50.0) … SDDP.State{Float64}(50.0, 50.0) SDDP.State{Float64}(0.0, 0.0); … ; SDDP.State{Float64}(50.0, 50.0) SDDP.State{Float64}(50.0, 50.0) … SDDP.State{Float64}(50.0, 50.0) SDDP.State{Float64}(50.0, 50.0); SDDP.State{Float64}(50.0, 50.0) SDDP.State{Float64}(50.0, 50.0) … SDDP.State{Float64}(50.0, 50.0) SDDP.State{Float64}(50.0, 50.0)], :stage_objective => 559.32, :Q => [0.0 0.0 … 161.29032258064518 0.0; 0.0 0.0 … 0.0 0.0; … ; 0.0 161.29032258064518 … 0.0 161.29032258064518; 0.0 0.0 … 0.0 0.0]…), Dict(:b => [0.0 0.0 … 0.0 0.0; 0.0 0.0 … 0.0 0.0; … ; 0.0 0.0 … 0.0 0.0; 0.0 0.0 … 0.0 0.0], :l => SDDP.State{Float64}(27738.06451612909, 24107.096774193633), :w => [0.0 0.0 … 0.0 0.0; 50.0 50.00000000000001 … 0.0 0.0; … ; 0.0 0.0 … 49.99999999999999 0.0; 0.0 0.0 … 0.0 0.0], :bellman_term => 2220.83, :node_index => 4, :objective_state => nothing, :belief => Dict(4 => 1.0), :x => SDDP.State{Float64}[SDDP.State{Float64}(0.0, 0.0) SDDP.State{Float64}(0.0, 0.0) … SDDP.State{Float64}(50.0, 50.0) SDDP.State{Float64}(0.0, 0.0); SDDP.State{Float64}(50.0, 50.0) SDDP.State{Float64}(50.0, 50.0) … SDDP.State{Float64}(50.0, 50.0) SDDP.State{Float64}(0.0, 0.0); … ; SDDP.State{Float64}(50.0, 50.0) SDDP.State{Float64}(50.0, 50.0) … SDDP.State{Float64}(50.0, 50.0) SDDP.State{Float64}(50.0, 50.0); SDDP.State{Float64}(50.0, 50.0) SDDP.State{Float64}(50.0, 50.0) … SDDP.State{Float64}(50.0, 50.0) SDDP.State{Float64}(50.0, 50.0)], :stage_objective => 551.095, :Q => [0.0 0.0 … 0.0 0.0; 161.29032258064518 161.2903225806452 … 0.0 0.0; … ; 0.0 0.0 … 161.29032258064515 0.0; 0.0 0.0 … 0.0 0.0]…), Dict(:b => [0.0 0.0 … 0.0 0.0; 0.0 0.0 … 0.0 0.0; … ; 0.0 0.0 … 0.0 0.0; 0.0 0.0 … 0.0 0.0], :l => SDDP.State{Float64}(24107.096774193633, 20476.129032258177), :w => [0.0 0.0 … 0.0 0.0; 50.0 50.00000000000001 … 0.0 0.0; … ; 0.0 0.0 … 49.99999999999999 0.0; 0.0 0.0 … 0.0 0.0], :bellman_term => 1665.6224999999988, :node_index => 5, :objective_state => nothing, :belief => Dict(5 => 1.0), :x => SDDP.State{Float64}[SDDP.State{Float64}(0.0, 0.0) SDDP.State{Float64}(0.0, 0.0) … SDDP.State{Float64}(50.0, 50.0) SDDP.State{Float64}(0.0, 0.0); SDDP.State{Float64}(50.0, 50.0) SDDP.State{Float64}(50.0, 50.0) … SDDP.State{Float64}(50.0, 50.0) SDDP.State{Float64}(0.0, 0.0); … ; SDDP.State{Float64}(50.0, 50.0) SDDP.State{Float64}(50.0, 50.0) … SDDP.State{Float64}(50.0, 50.0) SDDP.State{Float64}(50.0, 50.0); SDDP.State{Float64}(50.0, 50.0) SDDP.State{Float64}(50.0, 50.0) … SDDP.State{Float64}(50.0, 50.0) SDDP.State{Float64}(50.0, 50.0)], :stage_objective => 551.095, :Q => [0.0 0.0 … 0.0 0.0; 161.29032258064518 161.2903225806452 … 0.0 0.0; … ; 0.0 0.0 … 161.29032258064515 0.0; 0.0 0.0 … 0.0 0.0]…), Dict(:b => [0.0 0.0 … 0.0 0.0; 0.0 0.0 … 0.0 0.0; … ; 0.0 0.0 … 0.0 0.0; 0.0 0.0 … 0.0 0.0], :l => SDDP.State{Float64}(20476.129032258177, 16845.16129032272), :w => [0.0 0.0 … 50.0 0.0; 0.0 0.0 … 0.0 0.0; … ; 0.0 50.0 … 0.0 50.0; 0.0 0.0 … 0.0 0.0], :bellman_term => 1110.4149999999986, :node_index => 6, :objective_state => nothing, :belief => Dict(6 => 1.0), :x => SDDP.State{Float64}[SDDP.State{Float64}(0.0, 0.0) SDDP.State{Float64}(0.0, 0.0) … SDDP.State{Float64}(50.0, 50.0) SDDP.State{Float64}(0.0, 0.0); SDDP.State{Float64}(50.0, 50.0) SDDP.State{Float64}(50.0, 50.0) … SDDP.State{Float64}(50.0, 50.0) SDDP.State{Float64}(0.0, 0.0); … ; SDDP.State{Float64}(50.0, 50.0) SDDP.State{Float64}(50.0, 50.0) … SDDP.State{Float64}(50.0, 50.0) SDDP.State{Float64}(50.0, 50.0); SDDP.State{Float64}(50.0, 50.0) SDDP.State{Float64}(50.0, 50.0) … SDDP.State{Float64}(50.0, 50.0) SDDP.State{Float64}(50.0, 50.0)], :stage_objective => 559.32, :Q => [0.0 0.0 … 161.29032258064518 0.0; 0.0 0.0 … 0.0 0.0; … ; 0.0 161.29032258064518 … 0.0 161.29032258064518; 0.0 0.0 … 0.0 0.0]…), Dict(:b => [0.0 0.0 … 0.0 0.0; 0.0 0.0 … 0.0 0.0; … ; 0.0 0.0 … 0.0 0.0; 0.0 0.0 … 0.0 0.0], :l => SDDP.State{Float64}(16845.16129032272, 3630.967741935484), :w => [0.0 0.0 … 0.0 0.0; 50.0 50.00000000000001 … 0.0 0.0; … ; 0.0 0.0 … 49.99999999999999 0.0; 0.0 0.0 … 0.0 0.0], :bellman_term => 555.2074999999995, :node_index => 7, :objective_state => nothing, :belief => Dict(7 => 1.0), :x => SDDP.State{Float64}[SDDP.State{Float64}(0.0, 0.0) SDDP.State{Float64}(0.0, 0.0) … SDDP.State{Float64}(50.0, 50.0) SDDP.State{Float64}(0.0, 0.0); SDDP.State{Float64}(50.0, 50.0) SDDP.State{Float64}(50.0, 50.0) … SDDP.State{Float64}(50.0, 50.0) SDDP.State{Float64}(0.0, 0.0); … ; SDDP.State{Float64}(50.0, 50.0) SDDP.State{Float64}(50.0, 50.0) … SDDP.State{Float64}(50.0, 50.0) SDDP.State{Float64}(50.0, 50.0); SDDP.State{Float64}(50.0, 50.0) SDDP.State{Float64}(50.0, 50.0) … SDDP.State{Float64}(50.0, 50.0) SDDP.State{Float64}(50.0, 50.0)], :stage_objective => 551.095, :Q => [0.0 0.0 … 0.0 0.0; 161.29032258064518 161.2903225806452 … 0.0 0.0; … ; 0.0 0.0 … 161.29032258064515 0.0; 0.0 0.0 … 0.0 0.0]…), Dict(:b => [0.0 0.0 … 0.0 0.0; 0.0 0.0 … 0.0 0.0; … ; 0.0 0.0 … 0.0 0.0; 0.0 0.0 … 0.0 0.0], :l => SDDP.State{Float64}(3630.967741935484, -1.8189894035458565e-12), :w => [0.0 0.0 … 0.0 0.0; 50.0 50.00000000000001 … 0.0 0.0; … ; 0.0 0.0 … 49.99999999999999 0.0; 0.0 0.0 … 0.0 0.0], :bellman_term => 0.0, :node_index => 8, :objective_state => nothing, :belief => Dict(8 => 1.0), :x => SDDP.State{Float64}[SDDP.State{Float64}(0.0, 0.0) SDDP.State{Float64}(0.0, 0.0) … SDDP.State{Float64}(50.0, 0.0) SDDP.State{Float64}(0.0, 0.0); SDDP.State{Float64}(50.0, 0.0) SDDP.State{Float64}(50.0, 0.0) … SDDP.State{Float64}(50.0, 0.0) SDDP.State{Float64}(0.0, 0.0); … ; SDDP.State{Float64}(50.0, 50.0) SDDP.State{Float64}(50.0, 50.0) … SDDP.State{Float64}(50.0, 50.0) SDDP.State{Float64}(50.0, 50.0); SDDP.State{Float64}(50.0, 50.0) SDDP.State{Float64}(50.0, 50.0) … SDDP.State{Float64}(50.0, 50.0) SDDP.State{Float64}(50.0, 50.0)], :stage_objective => 551.095, :Q => [0.0 0.0 … 0.0 0.0; 161.29032258064518 161.2903225806452 … 0.0 0.0; … ; 0.0 0.0 … 161.29032258064515 0.0; 0.0 0.0 … 0.0 0.0]…)]\n",
       " [Dict(:b => [0.0 0.0 … 0.0 0.0; 0.0 0.0 … 0.0 0.0; … ; 0.0 0.0 … 0.0 0.0; 0.0 0.0 … 0.0 0.0], :l => SDDP.State{Float64}(35000.0, 35000.0), :w => [0.0 0.0 … 0.0 0.0; 0.0 0.0 … 0.0 0.0; … ; 0.0 0.0 … 0.0 0.0; 0.0 0.0 … 0.0 0.0], :bellman_term => 3886.4524999999994, :node_index => 1, :objective_state => nothing, :belief => Dict(1 => 1.0), :x => SDDP.State{Float64}[SDDP.State{Float64}(0.0, 0.0) SDDP.State{Float64}(0.0, 0.0) … SDDP.State{Float64}(0.0, 50.0) SDDP.State{Float64}(0.0, 0.0); SDDP.State{Float64}(0.0, 50.0) SDDP.State{Float64}(0.0, 50.0) … SDDP.State{Float64}(0.0, 50.0) SDDP.State{Float64}(0.0, 0.0); … ; SDDP.State{Float64}(0.0, 50.0) SDDP.State{Float64}(0.0, 50.0) … SDDP.State{Float64}(0.0, 50.0) SDDP.State{Float64}(0.0, 50.0); SDDP.State{Float64}(0.0, 50.0) SDDP.State{Float64}(0.0, 50.0) … SDDP.State{Float64}(0.0, 50.0) SDDP.State{Float64}(0.0, 50.0)], :stage_objective => 0, :Q => [0.0 0.0 … 0.0 0.0; 0.0 0.0 … 0.0 0.0; … ; 0.0 0.0 … 0.0 0.0; 0.0 0.0 … 0.0 0.0]…), Dict(:b => [0.0 0.0 … 0.0 0.0; 0.0 0.0 … 0.0 0.0; … ; 0.0 0.0 … 0.0 0.0; 0.0 0.0 … 0.0 0.0], :l => SDDP.State{Float64}(35000.0, 31369.032258064544), :w => [0.0 0.0 … 0.0 0.0; 50.0 50.00000000000001 … 0.0 0.0; … ; 0.0 0.0 … 49.99999999999999 0.0; 0.0 0.0 … 0.0 0.0], :bellman_term => 3331.245000000001, :node_index => 2, :objective_state => nothing, :belief => Dict(2 => 1.0), :x => SDDP.State{Float64}[SDDP.State{Float64}(0.0, 0.0) SDDP.State{Float64}(0.0, 0.0) … SDDP.State{Float64}(50.0, 50.0) SDDP.State{Float64}(0.0, 0.0); SDDP.State{Float64}(50.0, 50.0) SDDP.State{Float64}(50.0, 50.0) … SDDP.State{Float64}(50.0, 50.0) SDDP.State{Float64}(0.0, 0.0); … ; SDDP.State{Float64}(50.0, 50.0) SDDP.State{Float64}(50.0, 50.0) … SDDP.State{Float64}(50.0, 50.0) SDDP.State{Float64}(50.0, 50.0); SDDP.State{Float64}(50.0, 50.0) SDDP.State{Float64}(50.0, 50.0) … SDDP.State{Float64}(50.0, 50.0) SDDP.State{Float64}(50.0, 50.0)], :stage_objective => 551.095, :Q => [0.0 0.0 … 0.0 0.0; 161.29032258064518 161.2903225806452 … 0.0 0.0; … ; 0.0 0.0 … 161.29032258064515 0.0; 0.0 0.0 … 0.0 0.0]…), Dict(:b => [0.0 0.0 … 0.0 0.0; 0.0 0.0 … 0.0 0.0; … ; 0.0 0.0 … 0.0 0.0; 0.0 0.0 … 0.0 0.0], :l => SDDP.State{Float64}(31369.032258064544, 27738.06451612909), :w => [0.0 0.0 … 0.0 0.0; 50.0 50.00000000000001 … 0.0 0.0; … ; 0.0 0.0 … 49.99999999999999 0.0; 0.0 0.0 … 0.0 0.0], :bellman_term => 2776.0375000000004, :node_index => 3, :objective_state => nothing, :belief => Dict(3 => 1.0), :x => SDDP.State{Float64}[SDDP.State{Float64}(0.0, 0.0) SDDP.State{Float64}(0.0, 0.0) … SDDP.State{Float64}(50.0, 50.0) SDDP.State{Float64}(0.0, 0.0); SDDP.State{Float64}(50.0, 50.0) SDDP.State{Float64}(50.0, 50.0) … SDDP.State{Float64}(50.0, 50.0) SDDP.State{Float64}(0.0, 0.0); … ; SDDP.State{Float64}(50.0, 50.0) SDDP.State{Float64}(50.0, 50.0) … SDDP.State{Float64}(50.0, 50.0) SDDP.State{Float64}(50.0, 50.0); SDDP.State{Float64}(50.0, 50.0) SDDP.State{Float64}(50.0, 50.0) … SDDP.State{Float64}(50.0, 50.0) SDDP.State{Float64}(50.0, 50.0)], :stage_objective => 551.095, :Q => [0.0 0.0 … 0.0 0.0; 161.29032258064518 161.2903225806452 … 0.0 0.0; … ; 0.0 0.0 … 161.29032258064515 0.0; 0.0 0.0 … 0.0 0.0]…), Dict(:b => [0.0 0.0 … 0.0 0.0; 0.0 0.0 … 0.0 0.0; … ; 0.0 0.0 … 0.0 0.0; 0.0 0.0 … 0.0 0.0], :l => SDDP.State{Float64}(27738.06451612909, 24107.096774193633), :w => [0.0 0.0 … 50.0 0.0; 0.0 0.0 … 0.0 0.0; … ; 0.0 50.0 … 0.0 50.0; 0.0 0.0 … 0.0 0.0], :bellman_term => 2220.83, :node_index => 4, :objective_state => nothing, :belief => Dict(4 => 1.0), :x => SDDP.State{Float64}[SDDP.State{Float64}(0.0, 0.0) SDDP.State{Float64}(0.0, 0.0) … SDDP.State{Float64}(50.0, 50.0) SDDP.State{Float64}(0.0, 0.0); SDDP.State{Float64}(50.0, 50.0) SDDP.State{Float64}(50.0, 50.0) … SDDP.State{Float64}(50.0, 50.0) SDDP.State{Float64}(0.0, 0.0); … ; SDDP.State{Float64}(50.0, 50.0) SDDP.State{Float64}(50.0, 50.0) … SDDP.State{Float64}(50.0, 50.0) SDDP.State{Float64}(50.0, 50.0); SDDP.State{Float64}(50.0, 50.0) SDDP.State{Float64}(50.0, 50.0) … SDDP.State{Float64}(50.0, 50.0) SDDP.State{Float64}(50.0, 50.0)], :stage_objective => 559.32, :Q => [0.0 0.0 … 161.29032258064518 0.0; 0.0 0.0 … 0.0 0.0; … ; 0.0 161.29032258064518 … 0.0 161.29032258064518; 0.0 0.0 … 0.0 0.0]…), Dict(:b => [0.0 0.0 … 0.0 0.0; 0.0 0.0 … 0.0 0.0; … ; 0.0 0.0 … 0.0 0.0; 0.0 0.0 … 0.0 0.0], :l => SDDP.State{Float64}(24107.096774193633, 20476.129032258177), :w => [0.0 0.0 … 50.0 0.0; 0.0 0.0 … 0.0 0.0; … ; 0.0 50.0 … 0.0 50.0; 0.0 0.0 … 0.0 0.0], :bellman_term => 1665.6224999999986, :node_index => 5, :objective_state => nothing, :belief => Dict(5 => 1.0), :x => SDDP.State{Float64}[SDDP.State{Float64}(0.0, 0.0) SDDP.State{Float64}(0.0, 0.0) … SDDP.State{Float64}(50.0, 50.0) SDDP.State{Float64}(0.0, 0.0); SDDP.State{Float64}(50.0, 50.0) SDDP.State{Float64}(50.0, 50.0) … SDDP.State{Float64}(50.0, 50.0) SDDP.State{Float64}(0.0, 0.0); … ; SDDP.State{Float64}(50.0, 50.0) SDDP.State{Float64}(50.0, 50.0) … SDDP.State{Float64}(50.0, 50.0) SDDP.State{Float64}(50.0, 50.0); SDDP.State{Float64}(50.0, 50.0) SDDP.State{Float64}(50.0, 50.0) … SDDP.State{Float64}(50.0, 50.0) SDDP.State{Float64}(50.0, 50.0)], :stage_objective => 559.32, :Q => [0.0 0.0 … 161.29032258064518 0.0; 0.0 0.0 … 0.0 0.0; … ; 0.0 161.29032258064518 … 0.0 161.29032258064518; 0.0 0.0 … 0.0 0.0]…), Dict(:b => [0.0 0.0 … 0.0 0.0; 0.0 0.0 … 0.0 0.0; … ; 0.0 0.0 … 0.0 0.0; 0.0 0.0 … 0.0 0.0], :l => SDDP.State{Float64}(20476.129032258177, 16845.16129032272), :w => [0.0 0.0 … 0.0 0.0; 50.0 50.00000000000001 … 0.0 0.0; … ; 0.0 0.0 … 49.99999999999999 0.0; 0.0 0.0 … 0.0 0.0], :bellman_term => 1110.414999999999, :node_index => 6, :objective_state => nothing, :belief => Dict(6 => 1.0), :x => SDDP.State{Float64}[SDDP.State{Float64}(0.0, 0.0) SDDP.State{Float64}(0.0, 0.0) … SDDP.State{Float64}(50.0, 50.0) SDDP.State{Float64}(0.0, 0.0); SDDP.State{Float64}(50.0, 50.0) SDDP.State{Float64}(50.0, 50.0) … SDDP.State{Float64}(50.0, 50.0) SDDP.State{Float64}(0.0, 0.0); … ; SDDP.State{Float64}(50.0, 50.0) SDDP.State{Float64}(50.0, 50.0) … SDDP.State{Float64}(50.0, 50.0) SDDP.State{Float64}(50.0, 50.0); SDDP.State{Float64}(50.0, 50.0) SDDP.State{Float64}(50.0, 50.0) … SDDP.State{Float64}(50.0, 50.0) SDDP.State{Float64}(50.0, 50.0)], :stage_objective => 551.095, :Q => [0.0 0.0 … 0.0 0.0; 161.29032258064518 161.2903225806452 … 0.0 0.0; … ; 0.0 0.0 … 161.29032258064515 0.0; 0.0 0.0 … 0.0 0.0]…), Dict(:b => [0.0 0.0 … 0.0 0.0; 0.0 0.0 … 0.0 0.0; … ; 0.0 0.0 … 0.0 0.0; 0.0 0.0 … 0.0 0.0], :l => SDDP.State{Float64}(16845.16129032272, 3630.967741935484), :w => [0.0 0.0 … 0.0 0.0; 50.0 50.00000000000001 … 0.0 0.0; … ; 0.0 0.0 … 49.99999999999999 0.0; 0.0 0.0 … 0.0 0.0], :bellman_term => 555.2075, :node_index => 7, :objective_state => nothing, :belief => Dict(7 => 1.0), :x => SDDP.State{Float64}[SDDP.State{Float64}(0.0, 0.0) SDDP.State{Float64}(0.0, 0.0) … SDDP.State{Float64}(50.0, 50.0) SDDP.State{Float64}(0.0, 0.0); SDDP.State{Float64}(50.0, 50.0) SDDP.State{Float64}(50.0, 50.0) … SDDP.State{Float64}(50.0, 50.0) SDDP.State{Float64}(0.0, 0.0); … ; SDDP.State{Float64}(50.0, 50.0) SDDP.State{Float64}(50.0, 50.0) … SDDP.State{Float64}(50.0, 50.0) SDDP.State{Float64}(50.0, 50.0); SDDP.State{Float64}(50.0, 50.0) SDDP.State{Float64}(50.0, 50.0) … SDDP.State{Float64}(50.0, 50.0) SDDP.State{Float64}(50.0, 50.0)], :stage_objective => 551.095, :Q => [0.0 0.0 … 0.0 0.0; 161.29032258064518 161.2903225806452 … 0.0 0.0; … ; 0.0 0.0 … 161.29032258064515 0.0; 0.0 0.0 … 0.0 0.0]…), Dict(:b => [0.0 0.0 … 0.0 0.0; 0.0 0.0 … 0.0 0.0; … ; 0.0 0.0 … 0.0 0.0; 0.0 0.0 … 0.0 0.0], :l => SDDP.State{Float64}(3630.967741935484, -1.8189894035458565e-12), :w => [0.0 0.0 … 50.0 0.0; 0.0 0.0 … 0.0 0.0; … ; 0.0 50.0 … 0.0 50.0; 0.0 0.0 … 0.0 0.0], :bellman_term => 0.0, :node_index => 8, :objective_state => nothing, :belief => Dict(8 => 1.0), :x => SDDP.State{Float64}[SDDP.State{Float64}(0.0, 0.0) SDDP.State{Float64}(0.0, 0.0) … SDDP.State{Float64}(50.0, 0.0) SDDP.State{Float64}(0.0, 0.0); SDDP.State{Float64}(50.0, 0.0) SDDP.State{Float64}(50.0, 0.0) … SDDP.State{Float64}(50.0, 0.0) SDDP.State{Float64}(0.0, 0.0); … ; SDDP.State{Float64}(50.0, 50.0) SDDP.State{Float64}(50.0, 50.0) … SDDP.State{Float64}(50.0, 50.0) SDDP.State{Float64}(50.0, 50.0); SDDP.State{Float64}(50.0, 50.0) SDDP.State{Float64}(50.0, 50.0) … SDDP.State{Float64}(50.0, 50.0) SDDP.State{Float64}(50.0, 50.0)], :stage_objective => 559.32, :Q => [0.0 0.0 … 161.29032258064518 0.0; 0.0 0.0 … 0.0 0.0; … ; 0.0 161.29032258064518 … 0.0 161.29032258064518; 0.0 0.0 … 0.0 0.0]…)]\n",
       " [Dict(:b => [0.0 0.0 … 0.0 0.0; 0.0 0.0 … 0.0 0.0; … ; 0.0 0.0 … 0.0 0.0; 0.0 0.0 … 0.0 0.0], :l => SDDP.State{Float64}(35000.0, 35000.0), :w => [0.0 0.0 … 0.0 0.0; 0.0 0.0 … 0.0 0.0; … ; 0.0 0.0 … 0.0 0.0; 0.0 0.0 … 0.0 0.0], :bellman_term => 3886.4524999999994, :node_index => 1, :objective_state => nothing, :belief => Dict(1 => 1.0), :x => SDDP.State{Float64}[SDDP.State{Float64}(0.0, 0.0) SDDP.State{Float64}(0.0, 0.0) … SDDP.State{Float64}(0.0, 50.0) SDDP.State{Float64}(0.0, 0.0); SDDP.State{Float64}(0.0, 50.0) SDDP.State{Float64}(0.0, 50.0) … SDDP.State{Float64}(0.0, 50.0) SDDP.State{Float64}(0.0, 0.0); … ; SDDP.State{Float64}(0.0, 50.0) SDDP.State{Float64}(0.0, 50.0) … SDDP.State{Float64}(0.0, 50.0) SDDP.State{Float64}(0.0, 50.0); SDDP.State{Float64}(0.0, 50.0) SDDP.State{Float64}(0.0, 50.0) … SDDP.State{Float64}(0.0, 50.0) SDDP.State{Float64}(0.0, 50.0)], :stage_objective => 0, :Q => [0.0 0.0 … 0.0 0.0; 0.0 0.0 … 0.0 0.0; … ; 0.0 0.0 … 0.0 0.0; 0.0 0.0 … 0.0 0.0]…), Dict(:b => [0.0 0.0 … 0.0 0.0; 0.0 0.0 … 0.0 0.0; … ; 0.0 0.0 … 0.0 0.0; 0.0 0.0 … 0.0 0.0], :l => SDDP.State{Float64}(35000.0, 31369.032258064544), :w => [0.0 0.0 … 50.0 0.0; 0.0 0.0 … 0.0 0.0; … ; 0.0 50.0 … 0.0 50.0; 0.0 0.0 … 0.0 0.0], :bellman_term => 3331.2449999999994, :node_index => 2, :objective_state => nothing, :belief => Dict(2 => 1.0), :x => SDDP.State{Float64}[SDDP.State{Float64}(0.0, 0.0) SDDP.State{Float64}(0.0, 0.0) … SDDP.State{Float64}(50.0, 50.0) SDDP.State{Float64}(0.0, 0.0); SDDP.State{Float64}(50.0, 50.0) SDDP.State{Float64}(50.0, 50.0) … SDDP.State{Float64}(50.0, 50.0) SDDP.State{Float64}(0.0, 0.0); … ; SDDP.State{Float64}(50.0, 50.0) SDDP.State{Float64}(50.0, 50.0) … SDDP.State{Float64}(50.0, 50.0) SDDP.State{Float64}(50.0, 50.0); SDDP.State{Float64}(50.0, 50.0) SDDP.State{Float64}(50.0, 50.0) … SDDP.State{Float64}(50.0, 50.0) SDDP.State{Float64}(50.0, 50.0)], :stage_objective => 559.32, :Q => [0.0 0.0 … 161.29032258064518 0.0; 0.0 0.0 … 0.0 0.0; … ; 0.0 161.29032258064518 … 0.0 161.29032258064518; 0.0 0.0 … 0.0 0.0]…), Dict(:b => [0.0 0.0 … 0.0 0.0; 0.0 0.0 … 0.0 0.0; … ; 0.0 0.0 … 0.0 0.0; 0.0 0.0 … 0.0 0.0], :l => SDDP.State{Float64}(31369.032258064544, 27738.06451612909), :w => [0.0 0.0 … 0.0 0.0; 50.0 50.00000000000001 … 0.0 0.0; … ; 0.0 0.0 … 49.99999999999999 0.0; 0.0 0.0 … 0.0 0.0], :bellman_term => 2776.0375000000004, :node_index => 3, :objective_state => nothing, :belief => Dict(3 => 1.0), :x => SDDP.State{Float64}[SDDP.State{Float64}(0.0, 0.0) SDDP.State{Float64}(0.0, 0.0) … SDDP.State{Float64}(50.0, 50.0) SDDP.State{Float64}(0.0, 0.0); SDDP.State{Float64}(50.0, 50.0) SDDP.State{Float64}(50.0, 50.0) … SDDP.State{Float64}(50.0, 50.0) SDDP.State{Float64}(0.0, 0.0); … ; SDDP.State{Float64}(50.0, 50.0) SDDP.State{Float64}(50.0, 50.0) … SDDP.State{Float64}(50.0, 50.0) SDDP.State{Float64}(50.0, 50.0); SDDP.State{Float64}(50.0, 50.0) SDDP.State{Float64}(50.0, 50.0) … SDDP.State{Float64}(50.0, 50.0) SDDP.State{Float64}(50.0, 50.0)], :stage_objective => 551.095, :Q => [0.0 0.0 … 0.0 0.0; 161.29032258064518 161.2903225806452 … 0.0 0.0; … ; 0.0 0.0 … 161.29032258064515 0.0; 0.0 0.0 … 0.0 0.0]…), Dict(:b => [0.0 0.0 … 0.0 0.0; 0.0 0.0 … 0.0 0.0; … ; 0.0 0.0 … 0.0 0.0; 0.0 0.0 … 0.0 0.0], :l => SDDP.State{Float64}(27738.06451612909, 24107.096774193633), :w => [0.0 0.0 … 0.0 0.0; 50.0 50.00000000000001 … 0.0 0.0; … ; 0.0 0.0 … 49.99999999999999 0.0; 0.0 0.0 … 0.0 0.0], :bellman_term => 2220.83, :node_index => 4, :objective_state => nothing, :belief => Dict(4 => 1.0), :x => SDDP.State{Float64}[SDDP.State{Float64}(0.0, 0.0) SDDP.State{Float64}(0.0, 0.0) … SDDP.State{Float64}(50.0, 50.0) SDDP.State{Float64}(0.0, 0.0); SDDP.State{Float64}(50.0, 50.0) SDDP.State{Float64}(50.0, 50.0) … SDDP.State{Float64}(50.0, 50.0) SDDP.State{Float64}(0.0, 0.0); … ; SDDP.State{Float64}(50.0, 50.0) SDDP.State{Float64}(50.0, 50.0) … SDDP.State{Float64}(50.0, 50.0) SDDP.State{Float64}(50.0, 50.0); SDDP.State{Float64}(50.0, 50.0) SDDP.State{Float64}(50.0, 50.0) … SDDP.State{Float64}(50.0, 50.0) SDDP.State{Float64}(50.0, 50.0)], :stage_objective => 551.095, :Q => [0.0 0.0 … 0.0 0.0; 161.29032258064518 161.2903225806452 … 0.0 0.0; … ; 0.0 0.0 … 161.29032258064515 0.0; 0.0 0.0 … 0.0 0.0]…), Dict(:b => [0.0 0.0 … 0.0 0.0; 0.0 0.0 … 0.0 0.0; … ; 0.0 0.0 … 0.0 0.0; 0.0 0.0 … 0.0 0.0], :l => SDDP.State{Float64}(24107.096774193633, 20476.129032258177), :w => [0.0 0.0 … 50.0 0.0; 0.0 0.0 … 0.0 0.0; … ; 0.0 50.0 … 0.0 50.0; 0.0 0.0 … 0.0 0.0], :bellman_term => 1665.622499999999, :node_index => 5, :objective_state => nothing, :belief => Dict(5 => 1.0), :x => SDDP.State{Float64}[SDDP.State{Float64}(0.0, 0.0) SDDP.State{Float64}(0.0, 0.0) … SDDP.State{Float64}(50.0, 50.0) SDDP.State{Float64}(0.0, 0.0); SDDP.State{Float64}(50.0, 50.0) SDDP.State{Float64}(50.0, 50.0) … SDDP.State{Float64}(50.0, 50.0) SDDP.State{Float64}(0.0, 0.0); … ; SDDP.State{Float64}(50.0, 50.0) SDDP.State{Float64}(50.0, 50.0) … SDDP.State{Float64}(50.0, 50.0) SDDP.State{Float64}(50.0, 50.0); SDDP.State{Float64}(50.0, 50.0) SDDP.State{Float64}(50.0, 50.0) … SDDP.State{Float64}(50.0, 50.0) SDDP.State{Float64}(50.0, 50.0)], :stage_objective => 559.32, :Q => [0.0 0.0 … 161.29032258064518 0.0; 0.0 0.0 … 0.0 0.0; … ; 0.0 161.29032258064518 … 0.0 161.29032258064518; 0.0 0.0 … 0.0 0.0]…), Dict(:b => [0.0 0.0 … 0.0 0.0; 0.0 0.0 … 0.0 0.0; … ; 0.0 0.0 … 0.0 0.0; 0.0 0.0 … 0.0 0.0], :l => SDDP.State{Float64}(20476.129032258177, 16845.16129032272), :w => [0.0 0.0 … 50.0 0.0; 0.0 0.0 … 0.0 0.0; … ; 0.0 50.0 … 0.0 50.0; 0.0 0.0 … 0.0 0.0], :bellman_term => 1110.414999999999, :node_index => 6, :objective_state => nothing, :belief => Dict(6 => 1.0), :x => SDDP.State{Float64}[SDDP.State{Float64}(0.0, 0.0) SDDP.State{Float64}(0.0, 0.0) … SDDP.State{Float64}(50.0, 50.0) SDDP.State{Float64}(0.0, 0.0); SDDP.State{Float64}(50.0, 50.0) SDDP.State{Float64}(50.0, 50.0) … SDDP.State{Float64}(50.0, 50.0) SDDP.State{Float64}(0.0, 0.0); … ; SDDP.State{Float64}(50.0, 50.0) SDDP.State{Float64}(50.0, 50.0) … SDDP.State{Float64}(50.0, 50.0) SDDP.State{Float64}(50.0, 50.0); SDDP.State{Float64}(50.0, 50.0) SDDP.State{Float64}(50.0, 50.0) … SDDP.State{Float64}(50.0, 50.0) SDDP.State{Float64}(50.0, 50.0)], :stage_objective => 559.32, :Q => [0.0 0.0 … 161.29032258064518 0.0; 0.0 0.0 … 0.0 0.0; … ; 0.0 161.29032258064518 … 0.0 161.29032258064518; 0.0 0.0 … 0.0 0.0]…), Dict(:b => [0.0 0.0 … 0.0 0.0; 0.0 0.0 … 0.0 0.0; … ; 0.0 0.0 … 0.0 0.0; 0.0 0.0 … 0.0 0.0], :l => SDDP.State{Float64}(16845.16129032272, 3630.967741935484), :w => [0.0 0.0 … 0.0 0.0; 50.0 50.00000000000001 … 0.0 0.0; … ; 0.0 0.0 … 49.99999999999999 0.0; 0.0 0.0 … 0.0 0.0], :bellman_term => 555.2075, :node_index => 7, :objective_state => nothing, :belief => Dict(7 => 1.0), :x => SDDP.State{Float64}[SDDP.State{Float64}(0.0, 0.0) SDDP.State{Float64}(0.0, 0.0) … SDDP.State{Float64}(50.0, 50.0) SDDP.State{Float64}(0.0, 0.0); SDDP.State{Float64}(50.0, 50.0) SDDP.State{Float64}(50.0, 50.0) … SDDP.State{Float64}(50.0, 50.0) SDDP.State{Float64}(0.0, 0.0); … ; SDDP.State{Float64}(50.0, 50.0) SDDP.State{Float64}(50.0, 50.0) … SDDP.State{Float64}(50.0, 50.0) SDDP.State{Float64}(50.0, 50.0); SDDP.State{Float64}(50.0, 50.0) SDDP.State{Float64}(50.0, 50.0) … SDDP.State{Float64}(50.0, 50.0) SDDP.State{Float64}(50.0, 50.0)], :stage_objective => 551.095, :Q => [0.0 0.0 … 0.0 0.0; 161.29032258064518 161.2903225806452 … 0.0 0.0; … ; 0.0 0.0 … 161.29032258064515 0.0; 0.0 0.0 … 0.0 0.0]…), Dict(:b => [0.0 0.0 … 0.0 0.0; 0.0 0.0 … 0.0 0.0; … ; 0.0 0.0 … 0.0 0.0; 0.0 0.0 … 0.0 0.0], :l => SDDP.State{Float64}(3630.967741935484, -1.8189894035458565e-12), :w => [0.0 0.0 … 0.0 0.0; 50.0 50.00000000000001 … 0.0 0.0; … ; 0.0 0.0 … 49.99999999999999 0.0; 0.0 0.0 … 0.0 0.0], :bellman_term => 0.0, :node_index => 8, :objective_state => nothing, :belief => Dict(8 => 1.0), :x => SDDP.State{Float64}[SDDP.State{Float64}(0.0, 0.0) SDDP.State{Float64}(0.0, 0.0) … SDDP.State{Float64}(50.0, 0.0) SDDP.State{Float64}(0.0, 0.0); SDDP.State{Float64}(50.0, 0.0) SDDP.State{Float64}(50.0, 0.0) … SDDP.State{Float64}(50.0, 0.0) SDDP.State{Float64}(0.0, 0.0); … ; SDDP.State{Float64}(50.0, 50.0) SDDP.State{Float64}(50.0, 50.0) … SDDP.State{Float64}(50.0, 50.0) SDDP.State{Float64}(50.0, 50.0); SDDP.State{Float64}(50.0, 50.0) SDDP.State{Float64}(50.0, 50.0) … SDDP.State{Float64}(50.0, 50.0) SDDP.State{Float64}(50.0, 50.0)], :stage_objective => 551.095, :Q => [0.0 0.0 … 0.0 0.0; 161.29032258064518 161.2903225806452 … 0.0 0.0; … ; 0.0 0.0 … 161.29032258064515 0.0; 0.0 0.0 … 0.0 0.0]…)]"
      ]
     },
     "metadata": {},
     "output_type": "display_data"
    }
   ],
   "source": [
    "simulations = SDDP.simulate(\n",
    "    # The trained model to simulate.\n",
    "    model,\n",
    "    # The number of replications.\n",
    "    100,\n",
    "    # A list of names to record the values of.\n",
    "    [:x, :y, :w, :l, :b, :Q, :f],\n",
    ")"
   ]
  },
  {
   "cell_type": "code",
   "execution_count": 132,
   "metadata": {},
   "outputs": [
    {
     "name": "stdout",
     "output_type": "stream",
     "text": [
      "Bidding Curve Values: SDDP.State{Float64}[SDDP.State{Float64}(0.0, 0.0) SDDP.State{Float64}(0.0, 0.0) SDDP.State{Float64}(0.0, 0.0) SDDP.State{Float64}(0.0, 0.0) SDDP.State{Float64}(50.0, 0.0) SDDP.State{Float64}(0.0, 0.0) SDDP.State{Float64}(0.0, 0.0) SDDP.State{Float64}(50.0, 0.0) SDDP.State{Float64}(0.0, 0.0) SDDP.State{Float64}(0.0, 0.0) SDDP.State{Float64}(0.0, 0.0) SDDP.State{Float64}(50.0, 0.0) SDDP.State{Float64}(0.0, 0.0) SDDP.State{Float64}(50.0, 0.0) SDDP.State{Float64}(0.0, 0.0) SDDP.State{Float64}(50.0, 0.0) SDDP.State{Float64}(50.0, 0.0) SDDP.State{Float64}(50.0, 0.0) SDDP.State{Float64}(0.0, 0.0) SDDP.State{Float64}(50.0, 0.0) SDDP.State{Float64}(0.0, 0.0) SDDP.State{Float64}(0.0, 0.0) SDDP.State{Float64}(50.0, 0.0) SDDP.State{Float64}(0.0, 0.0); SDDP.State{Float64}(50.0, 0.0) SDDP.State{Float64}(50.0, 0.0) SDDP.State{Float64}(0.0, 0.0) SDDP.State"
     ]
    },
    {
     "name": "stdout",
     "output_type": "stream",
     "text": [
      "{Float64}(50.0, 0.0) SDDP.State{Float64}(50.0, 0.0) SDDP.State{Float64}(0.0, 0.0) SDDP.State{Float64}(0.0, 0.0) SDDP.State{Float64}(50.0, 0.0) SDDP.State{Float64}(0.0, 0.0) SDDP.State{Float64}(0.0, 0.0) SDDP.State{Float64}(50.0, 0.0) SDDP.State{Float64}(50.0, 0.0) SDDP.State{Float64}(0.0, 0.0) SDDP.State{Float64}(50.0, 0.0) SDDP.State{Float64}(0.0, 0.0) SDDP.State{Float64}(50.0, 0.0) SDDP.State{Float64}(50.0, 0.0) SDDP.State{Float64}(50.0, 0.0) SDDP.State{Float64}(0.0, 0.0) SDDP.State{Float64}(50.0, 0.0) SDDP.State{Float64}(50.0, 0.0) SDDP.State{Float64}(50.0, 0.0) SDDP.State{Float64}(50.0, 0.0) SDDP.State{Float64}(0.0, 0.0); SDDP.State{Float64}(50.0, 0.0) SDDP.State{Float64}(50.0, 0.0) SDDP.State{Float64}(0.0, 0.0) SDDP.State{Float64}(50.0, 0.0) SDDP.State{Float64}(50.0, 0.0) SDDP.State{Float64}(50.0, 0.0) SDDP.State{Float64}(50.0, 0.0) SDDP.State{Float64}(50.0, 0.0) SDDP.State{Float64}(50.0, 0.0) SDDP.State{Float64}(50.0, 0.0) SDDP.State{Float64}(50.0, 0.0) SDDP.State{Float64}(50.0, 0.0) SDDP.State{Float64}(0.0, 0.0) SDDP.State{Float64}(50.0, 0.0) SDDP.State{Float64}(50.0, 0.0) SDDP.State{Float64}(50.0, 0.0) SDDP.State{Float64}(50.0, 0.0) SDDP.State{Float64}(50.0, 0.0) SDDP.State{Float64}(50.0, 0.0) SDDP.State{Float64}(50.0, 0.0) SDDP.State{Float64}(50.0, 0.0) SDDP.State{Float64}(50.0, 0.0) SDDP.State{Float64}(50.0, 0.0) SDDP.State{Float64}(50.0, 0.0); SDDP.State{Float64}(50.0, 0.0) SDDP.State{Float64}(50.0, 0.0) SDDP.State{Float64}(50.0, 0.0) SDDP.State{Float64}(50.0, 0.0) SDDP.State{Float64}(50.0, 0.0) SDDP.State{Float64}(50.0, 0.0) SDDP.State{Float64}(50.0, 0.0) SDDP.State{Float64}(50.0, 0.0) SDDP.State{Float64}(50.0, 0.0) SDDP.State{Float64}(50.0, 0.0) SDDP.State{Float64}(50.0, 0.0) SDDP.State{Float64}(50.0, 0.0) SDDP.State{Float64}(50.0, 0.0) SDDP.State{Float64}(50.0, 0.0) SDDP.State{Float64}(50.0, 0.0) SDDP.State{Float64}(50.0, 0.0) SDDP.State{Float64}(50.0, 0.0) SDDP.State{Float64}(50.0, 0.0) SDDP.State{Float64}(50.0, 0.0) SDDP.State{Float64}(50.0, 0.0) SDDP.State{Float64}(50.0, 0.0) SDDP.State{Float64}(50.0, 0.0) SDDP.State{Float64}(50.0, 0.0) SDDP.State{Float64}(50.0, 0.0); SDDP.State{Float64}(50.0, 50.0) SDDP.State{Float64}(50.0, 50.0) SDDP.State{Float64}(50.0, 50.0) SDDP.State{Float64}(50.0, 50.0) SDDP.State{Float64}(50.0, 50.0) SDDP.State{Float64}(50.0, 50.0) SDDP.State{Float64}(50.0, 50.0) SDDP.State{Float64}(50.0, 50.0) SDDP.State{Float64}(50.0, 50.0) SDDP.State{Float64}(50.0, 50.0) SDDP.State{Float64}(50.0, 50.0) SDDP.State{Float64}(50.0, 50.0) SDDP.State{Float64}(50.0, 50.0) SDDP.State{Float64}(50.0, 50.0) SDDP.State{Float64}(50.0, 50.0) SDDP.State{Float64}(50.0, 50.0) SDDP.State{"
     ]
    },
    {
     "name": "stdout",
     "output_type": "stream",
     "text": [
      "Float64}(50.0, 50.0) SDDP.State{Float64}(50.0, 50.0) SDDP.State{Float64}(50.0, 50.0) SDDP.State{Float64}(50.0, 50.0) SDDP.State{Float64}(50.0, 50.0) SDDP.State{Float64}(50.0, 50.0) SDDP.State{Float64}(50.0, 50.0) SDDP.State{Float64}(50.0, 50.0); SDDP.State{Float64}(50.0, 50.0) SDDP.State{Float64}(50.0, 50.0) SDDP.State{Float64}(50.0, 50.0) SDDP.State{Float64}(50.0, 50.0) SDDP.State{Float64}(50.0, 50.0) SDDP.State{Float64}(50.0, 50.0) SDDP.State{Float64}(50.0, 50.0) SDDP.State{Float64}(50.0, 50.0) SDDP.State{Float64}(50.0, 50.0) SDDP.State{Float64}(50.0, 50.0) SDDP.State{Float64}(50.0, 50.0) SDDP.State{Float64}(50.0, 50.0) SDDP.State{Float64}(50.0, 50.0) SDDP.State{Float64}(50.0, 50.0) SDDP.State{Float64}(50.0, 50.0) SDDP.State{Float64}(50.0, 50.0) SDDP.State{Float64}(50.0, 50.0) SDDP.State{Float64}(50.0, 50.0) SDDP.State{Float64}(50.0, 50.0) SDDP.State{Float64}(50.0, 50.0) SDDP.State{Float64}(50.0, 50.0) SDDP.State{Float64}(50.0, 50.0) SDDP.State{Float64}(50.0, 50.0) SDDP.State{Float64}(50.0, 50.0)]\n",
      "Cleared Volume: [0.0 0.0 0.0 0.0 0.0 0.0 0.0 50.0 0.0 0.0 0.0 50.0 0.0 50.0 0.0 50.0 50.0 0.0 0.0 0.0 0.0 0.0 50.0 0.0; 0.0 0.0 0.0 50.0 0.0 0.0 0.0 0.0 0.0 0.0 50.0 0.0 0.0 0.0 0.0 0.0 0.0 0.0 0.0 50.0 50.00000000000001 50.00000000000001 0.0 0.0; 50.0 0.0 0.0 0.0 50.0 50.0 50.0 0.0 0.0 0.0 0.0 0.0 0.0 0.0 0.0 0.0 0.0 50.0 0.0 0.0 0.0 0.0 0.0 0.0; 0.0 50.0 0.0 0.0 0.0 0.0 0.0 0.0 0.0 50.0 0.0 0.0 50.0 0.0 0.0 0.0 0.0 0.0 0.0 0.0 0.0 0.0 0.0 50.0; 0.0 0.0 50.0 0.0 0.0 0.0 0.0 0.0 50.0 0.0 0.0 0.0 0.0 0.0 50.0 0.0 0.0 0.0 50.0 0.0 0.0 0.0 0.0 0.0]\n",
      "Reservoir Level: SDDP.State{Float64}(3630.967741935484, -1.8189894035458565e-12)\n",
      "Own Production: [0.0 0.0 0.0 0.0 0.0 0.0 0.0 50.0 0.0 0.0 0.0 50.0 0.0 50.0 0.0 50.0 50.0 0.0 0.0 0.0 0.0 0.0 50.0 0.0; 0.0 0.0 0.0 50.0 0.0 0.0 0.0 0.0 0.0 0.0 50.0 0.0 0.0 0.0 0.0 0.0 0.0 0.0 0.0 50.0 50.00000000000001 50.00000000000001 0.0 0.0; 50.0 0.0 0.0 0.0 50.0 50.0 50.0 0.0 0.0 0.0 0.0 0.0 0.0 0.0 0.0 0.0 0.0 50.0 0.0 0.0 0.0 0.0 0.0 0.0; 0.0 50.0 0.0 0.0 0.0 0.0 0.0 0.0 0.0 50.0 0.0 0.0 50.0 0.0 0.0 0.0 0.0 0.0 0.0 0.0 0.0 0.0 0.0 50.0; 0.0 0.0 50.0 0.0 0.0 0.0 0.0 0.0 50.0 0.0 0.0 0.0 0.0 0.0 50.0 0.0 0.0 0.0 50.0 0.0 0.0 0.0 0.0 0.0]\n",
      "Water Used: [0.0 0.0 0.0 0.0 0.0 0.0 0.0 161.29032258064518 0.0 0.0 0.0 161.29032258064518 0.0 161.29032258064518 0.0 161.29032258064518 161.29032258064518 0.0 0.0 0.0 0.0 0.0 161.29032258064518 0.0; 0.0 0.0 0.0 161.29032258064518 0.0 0.0 0.0 0.0 0.0 0.0 161.29032258064518 0.0 0.0 0.0 0.0 0.0 0.0 0.0 0.0 161.29032258064518 161.2903225806452 161.2903225806452 0.0 0.0; 161.29032258064518 0.0 0.0 0.0 161.29032258064518 161.29032258064518 161.29032258064518 0.0 0.0 0.0 0.0 0.0 0.0 0.0 0.0 0.0 0.0 161.29032258064518 0.0 0.0 0.0 0.0 0.0 0.0; 0.0 161.29032258064518 0.0 0.0 0.0 0.0 0.0 0.0 0.0 161.29032258064518 0.0 0.0 161.29032258064518 0.0 0.0 0.0 0.0 0.0 0.0 0.0 0.0 0.0 0.0 161.29032258064518; 0.0 0.0 161.29032258064518 0.0 0.0 0.0 0.0 0.0 161.29032258064518 0.0 0.0 0.0 0.0 0.0 161.29032258064518 0.0 0.0 0.0 161.29032258064518 0.0 0.0 0.0 0.0 0.0]\n",
      "Purchases: [0.0 0.0 0.0 0.0 0.0 0.0 0.0 0.0 0.0 0.0 0.0 0.0 0.0 0.0 0.0 0.0 0.0 0.0 0.0 0.0 0.0 0.0 0.0 0.0; 0.0 0.0 0.0 0.0 0.0 0.0 0.0 0.0 0.0 0.0 0.0 0.0 0.0 0.0 0.0 0.0 0.0 0.0 0.0 0.0 0.0 0.0 0.0 0.0; 0.0 0.0 0.0 0.0 0.0 0.0 0.0 0.0 0.0 0.0 0.0 0.0 0.0 0.0 0.0 0.0 0.0 0.0 0.0 0.0 0.0 0.0 0.0 0.0; 0.0 0.0 0.0 0.0 0.0 0.0 0.0 0.0 0.0 0.0 0.0 0.0 0.0 0.0 0.0 0.0 0.0 0.0 0.0 0.0 0.0 0.0 0.0 0.0; 0.0 0.0 0.0 0.0 0.0 0.0 0.0 0.0 0.0 0.0 0.0 0.0 0.0 0.0 0.0 0.0 0.0 0.0 0.0 0.0 0.0 0.0 0.0 0.0]\n",
      "Filling in that stage: 10.0\n"
     ]
    }
   ],
   "source": [
    "replication = 28\n",
    "stage = 8\n",
    "println(\"Bidding Curve Values: \", simulations[replication][stage][:x])\n",
    "println(\"Cleared Volume: \", simulations[replication][stage][:y])\n",
    "println(\"Reservoir Level: \", simulations[replication][stage][:l])\n",
    "println(\"Own Production: \", simulations[replication][stage][:w])\n",
    "println(\"Water Used: \", simulations[replication][stage][:Q])\n",
    "println(\"Purchases: \", simulations[replication][stage][:b])\n",
    "println(\"Filling in that stage: \", simulations[replication][stage][:f])"
   ]
  },
  {
   "cell_type": "markdown",
   "metadata": {},
   "source": [
    "### Inclusion of Water Regulation Rules\n",
    "\n",
    "The Water Regulation Rules have to be accounted for when bidding at the Market\n",
    "\n",
    "* We communicate a sequence of bids at the electricity markets for every hour of the day\n",
    "* The Water Regulation company receives ONE Bid for discharge over the entire day\n",
    "\n",
    "For currrent purposes, we assume that the nomination is fixed and can't be changed, and the amount of water has to actually be used over the course of the day.  \n",
    "\n",
    "* We have to buy electricity on the market for certain hours if our nomination was too low\n",
    "* We have to sell surplus of water if our nomination was too high. The price on the balancing market is by assumption very low\n",
    "\n",
    "For that we include an additional State Variable: $Q^\\text{nom}_r$ for every reservoir. Let $Q_{r,t}$ the real flow of water from $r$ at hour $t$.   \n",
    "For every reservoir it has to hold that:  \n",
    "\n",
    "$$\n",
    "T \\cdot Q^\\text{nom}_r = \\sum\\limits_{t=1}^T Q_{r,t}\n",
    "$$\n",
    "\n",
    "We change the objective Function to the following:\n",
    "\n",
    "\n",
    "$$\n",
    "\\max \\; \\rightarrow \\; \\sum\\limits_{t = 1}^T y_{i_t, t} \\cdot c_t - (\\mu^+ \\cdot z^+_{i_t,t}  - \\mu^- \\cdot z^-_{i_t,t})\n",
    "$$\n",
    "The coefficient $\\mu^+, \\mu^-$ are chosen so that they are higher than the highest or lower than the lowest observed spot market price respectively. \n",
    "Accordingly, the delivery obligation constraint is changed to (assuming there is one river and one power plant): \n",
    "\n",
    "$$\n",
    "y_{i_t, t} = Q_{r,t} \\cdot e_k + z^+_{t} - z^-_{t}  \n",
    "$$\n",
    "\n",
    "The difficulty in the agents decision is that the nomination $Q^\\text{nom}_r$ has to be done before market clearing, thus it is modelled as a state variable."
   ]
  },
  {
   "cell_type": "code",
   "execution_count": null,
   "metadata": {},
   "outputs": [],
   "source": [
    "function subproblem_builder_regulation(subproblem::Model, node::Int64)\n",
    "    @variable(subproblem, 0 <= x[i = 1:I+1, t = 1:T] <= 50, SDDP.State, initial_value=0)\n",
    "    @variable(subproblem, 0 <= l <= res.maxvolume, SDDP.State, initial_value = res.currentvolume)\n",
    "    @variable(subproblem, 0 <= )\n",
    "    @variable(subproblem, y[i = 1:I, t=1:T] >= 0)\n",
    "    @variable(subproblem, w[i = 1:I, t=1:T] >= 0)\n",
    "    @variable(subproblem, b[i = 1:I, t=1:T] >= 0)\n",
    "    @variable(subproblem, Q[i = 1:I, t=1:T] >= 0)\n",
    "    @variable(subproblem, f >= 0)\n",
    "    @variable(subproblem, s >= 0)\n",
    "\n",
    "    @constraint(subproblem, clearing[i = 1:I,t=1:T], y[i,t] == 1* x[i,t].in +  1* x[i+1,t].in)\n",
    "    @constraint(subproblem, increasing[i = 1:I, t=1:T], x[i,t].out <= x[i+1,t].out)\n",
    "    if node == 1\n",
    "        @stageobjective(subproblem, 0)\n",
    "        @constraint(subproblem, balance_transfer, l.in == l.out)\n",
    "    else\n",
    "        @constraint(subproblem, obligation[i = 1:I, t=1:T], y[i,t] == w[i,t] + b[i,t])\n",
    "        @constraint(subproblem, balance, l.out == l.in - sum(Q[i,t] for t in 1:T for i in 1:I) + f * T - s)\n",
    "        @constraint(subproblem, production[i = 1:I, t=1:T], w[i,t] == Q[i,t] * k.equivalent)\n",
    "        SDDP.parameterize(subproblem, Omega, P) do om\n",
    "            # We have to make sure that depending on the market clearing price, the coefficients are set accordingly.\n",
    "            # The recourse action only applies to the real delivery, determined by the uncertain price. The other restricitions become inactive, else they make the problem infeasible.\n",
    "            # The constraints that are relevant are maiintained in Scenario_Index for every current time step.\n",
    "            JuMP.fix(f, om.inflow, force=true)\n",
    "            # Define Set of active variables for each hour\n",
    "            I_t = Dict(t => 0 for t in 1:T)\n",
    "            for t in 1:T\n",
    "                for i in 1:I\n",
    "                    if (om.price[t] >= PPoints[i]) && (om.price[t] <= PPoints[i+1])\n",
    "                        I_t[t] = i\n",
    "                    end\n",
    "                end\n",
    "            end\n",
    "            # Include only active variables in stageobjective\n",
    "            @stageobjective(subproblem ,sum(om.price[t] * y[I_t[t],t] -  mu * b[I_t[t],t] for t in 1:T))\n",
    "            # Fix / Deactivate constraints by setting their coefficients to appropriate values or all zero.\n",
    "            for t in 1:T\n",
    "                for i in 1:I\n",
    "                    if (i == I_t[t])\n",
    "                        set_normalized_coefficient(clearing[i,t], y[i,t], 1)\n",
    "                        set_normalized_coefficient(clearing[i,t], x[i,t].in, -((om.price[t] - PPoints[i])/(PPoints[i+1] - PPoints[i])))\n",
    "                        set_normalized_coefficient(clearing[i,t], x[i+1,t].in, -((PPoints[i+1] - om.price[t])/(PPoints[i+1] - PPoints[i])))\n",
    "                        set_normalized_coefficient(balance, Q[i,t], 1)\n",
    "                        set_normalized_coefficient(obligation[i,t], w[i,t], -1)\n",
    "                        set_normalized_coefficient(obligation[i,t], b[i,t], -1)\n",
    "                        set_normalized_coefficient(obligation[i,t], y[i,t], 1)\n",
    "                        set_normalized_coefficient(production[i,t], w[i,t], 1)\n",
    "                        set_normalized_coefficient(production[i,t], Q[i,t], -k.equivalent)\n",
    "                    else\n",
    "                        set_normalized_coefficient(balance, Q[i,t], 0)\n",
    "                        set_normalized_coefficient(obligation[i,t], w[i,t], 0)\n",
    "                        set_normalized_coefficient(obligation[i,t], b[i,t], 0)\n",
    "                        set_normalized_coefficient(obligation[i,t], y[i,t], 0)\n",
    "                        set_normalized_coefficient(clearing[i,t], y[i,t], 0)\n",
    "                        set_normalized_coefficient(clearing[i,t], x[i,t].in, 0)\n",
    "                        set_normalized_coefficient(clearing[i,t], x[i+1,t].in, 0)\n",
    "                        set_normalized_coefficient(production[i,t], w[i,t], 0)\n",
    "                        set_normalized_coefficient(production[i,t], Q[i,t], 0)\n",
    "                    end\n",
    "                end\n",
    "            end\n",
    "        end\n",
    "    end\n",
    "    return\n",
    "end"
   ]
  },
  {
   "cell_type": "markdown",
   "metadata": {},
   "source": [
    "### Increased Complexity of Hydro System  \n",
    "\n",
    "The system of creating electricity using hydropower can be modelled using higher complexity than a constant power coefficient. So far this does not reflect:\n",
    "\n",
    "* Multiple Reservoirs\n",
    "* Multiple Power Plants at one reservoir\n",
    "* Generators at Power Plants beeing on/off\n",
    "* Start-Up Costs of Reservoirs\n",
    "\n",
    "Then we include\n",
    "\n"
   ]
  },
  {
   "cell_type": "code",
   "execution_count": null,
   "metadata": {},
   "outputs": [],
   "source": [
    "function subproblem_builder_hydro(subproblem::Model, node::Int64)\n",
    "    @variable(subproblem, 0 <= x[i = 1:I+1, t = 1:T] <= 50, SDDP.State, initial_value=0)\n",
    "    @variable(subproblem, 0 <= l <= res.maxvolume, SDDP.State, initial_value = res.currentvolume)\n",
    "    @variable(subproblem, y[i = 1:I, t=1:T] >= 0)\n",
    "    @variable(subproblem, w[i = 1:I, t=1:T] >= 0)\n",
    "    @variable(subproblem, b[i = 1:I, t=1:T] >= 0)\n",
    "    @variable(subproblem, Q[i = 1:I, t=1:T] >= 0)\n",
    "    @variable(subproblem, f >= 0)\n",
    "    @variable(subproblem, s >= 0)\n",
    "\n",
    "    @constraint(subproblem, clearing[i = 1:I,t=1:T], y[i,t] == 1* x[i,t].in +  1* x[i+1,t].in)\n",
    "    @constraint(subproblem, increasing[i = 1:I, t=1:T], x[i,t].out <= x[i+1,t].out)\n",
    "    if node == 1\n",
    "        @stageobjective(subproblem, 0)\n",
    "        @constraint(subproblem, balance_transfer, l.in == l.out)\n",
    "    else\n",
    "        @constraint(subproblem, obligation[i = 1:I, t=1:T], y[i,t] == w[i,t] + b[i,t])\n",
    "        @constraint(subproblem, balance, l.out == l.in - sum(Q[i,t] for t in 1:T for i in 1:I) + f * T - s)\n",
    "        @constraint(subproblem, production[i = 1:I, t=1:T], w[i,t] == Q[i,t] * k.equivalent)\n",
    "        SDDP.parameterize(subproblem, Omega, P) do om\n",
    "            # We have to make sure that depending on the market clearing price, the coefficients are set accordingly.\n",
    "            # The recourse action only applies to the real delivery, determined by the uncertain price. The other restricitions become inactive, else they make the problem infeasible.\n",
    "            # The constraints that are relevant are maiintained in Scenario_Index for every current time step.\n",
    "            JuMP.fix(f, om.inflow, force=true)\n",
    "            # Define Set of active variables for each hour\n",
    "            I_t = Dict(t => 0 for t in 1:T)\n",
    "            for t in 1:T\n",
    "                for i in 1:I\n",
    "                    if (om.price[t] >= PPoints[i]) && (om.price[t] <= PPoints[i+1])\n",
    "                        I_t[t] = i\n",
    "                    end\n",
    "                end\n",
    "            end\n",
    "            # Include only active variables in stageobjective\n",
    "            @stageobjective(subproblem ,sum(om.price[t] * y[I_t[t],t] -  mu * b[I_t[t],t] for t in 1:T))\n",
    "            # Fix / Deactivate constraints by setting their coefficients to appropriate values or all zero.\n",
    "            for t in 1:T\n",
    "                for i in 1:I\n",
    "                    if (i == I_t[t])\n",
    "                        set_normalized_coefficient(clearing[i,t], y[i,t], 1)\n",
    "                        set_normalized_coefficient(clearing[i,t], x[i,t].in, -((om.price[t] - PPoints[i])/(PPoints[i+1] - PPoints[i])))\n",
    "                        set_normalized_coefficient(clearing[i,t], x[i+1,t].in, -((PPoints[i+1] - om.price[t])/(PPoints[i+1] - PPoints[i])))\n",
    "                        set_normalized_coefficient(balance, Q[i,t], 1)\n",
    "                        set_normalized_coefficient(obligation[i,t], w[i,t], -1)\n",
    "                        set_normalized_coefficient(obligation[i,t], b[i,t], -1)\n",
    "                        set_normalized_coefficient(obligation[i,t], y[i,t], 1)\n",
    "                        set_normalized_coefficient(production[i,t], w[i,t], 1)\n",
    "                        set_normalized_coefficient(production[i,t], Q[i,t], -k.equivalent)\n",
    "                    else\n",
    "                        set_normalized_coefficient(balance, Q[i,t], 0)\n",
    "                        set_normalized_coefficient(obligation[i,t], w[i,t], 0)\n",
    "                        set_normalized_coefficient(obligation[i,t], b[i,t], 0)\n",
    "                        set_normalized_coefficient(obligation[i,t], y[i,t], 0)\n",
    "                        set_normalized_coefficient(clearing[i,t], y[i,t], 0)\n",
    "                        set_normalized_coefficient(clearing[i,t], x[i,t].in, 0)\n",
    "                        set_normalized_coefficient(clearing[i,t], x[i+1,t].in, 0)\n",
    "                        set_normalized_coefficient(production[i,t], w[i,t], 0)\n",
    "                        set_normalized_coefficient(production[i,t], Q[i,t], 0)\n",
    "                    end\n",
    "                end\n",
    "            end\n",
    "        end\n",
    "    end\n",
    "    return\n",
    "end"
   ]
  }
 ],
 "metadata": {
  "kernelspec": {
   "display_name": "Julia 1.8.5",
   "language": "julia",
   "name": "julia-1.8"
  },
  "language_info": {
   "file_extension": ".jl",
   "mimetype": "application/julia",
   "name": "julia",
   "version": "1.8.5"
  },
  "orig_nbformat": 4
 },
 "nbformat": 4,
 "nbformat_minor": 2
}
