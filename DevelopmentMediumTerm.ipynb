{
 "cells": [
  {
   "cell_type": "markdown",
   "metadata": {},
   "source": [
    "### Medium Term Model  \n",
    "Due to its temporal complexity, Hydro Power Decision Making is typically split up into multiple problems. We explore a seasonal model with a timeframe of 6-18 months, that\n",
    "tries to answer the question when to use water for power production governed by price and inflow variations.  \n",
    "A key uncertainty of hydropower is inflow. Yearly variations of total inflow are around 30%.\n",
    "\n",
    "The goal of this model is to be used input in the short term model for decision making. Therefore, it is simply a tool to improve the decision making we make in the short term.\n",
    "\n",
    "#### Water Value Cuts\n",
    "\n",
    "The way this model is integrated into the short-term is by a Water Value Function $V(l)$. In the objective of the short term model we include \n",
    "\n",
    "$$\n",
    "- \\sum\\limits_{r \\in \\mathcal{R}}V(l_{r,t}) - V(l_{r,t+1})\n",
    "$$\n",
    "\n",
    "If the reservoir is less full at $t+1$ than at $t$, the piece-wise linear and concave function penalizes the objective. \n"
   ]
  },
  {
   "cell_type": "code",
   "execution_count": 1,
   "metadata": {},
   "outputs": [],
   "source": [
    "using JuMP\n",
    "using CPLEX\n",
    "using Distributions\n",
    "using LinearAlgebra\n",
    "using Statistics\n",
    "using Dates\n",
    "using DataFrames\n",
    "using SDDP\n",
    "using Plots\n",
    "import CSV\n",
    "using JSON\n",
    "try\n",
    "    using Revise\n",
    "catch e\n",
    "    @warn \"Error initializing Revise\" exception=(e, catch_backtrace())\n",
    "end\n",
    "\n",
    "includet(pwd() * \"\\\\Water_Regulation\\\\WaterRegulation.jl\")\n",
    "using .WaterRegulation"
   ]
  },
  {
   "cell_type": "markdown",
   "metadata": {},
   "source": [
    "The approach is to generate approximations to the Water Value Function (which is already difficult to define in the first place).\n",
    "\n",
    "* Solve the medium-term model\n",
    "* Obtain dual solution corresponding to the balance constraints of the reservoirs -> Gradient for Water Value\n",
    "* Obtain objective function value $\\varphi_M(l)$\n",
    "* Form the cut coefficients $$ from both informations for different reservoir levels.\n",
    "\n",
    "Mathematically speaking, we are trying to find cuts of the following form:\n",
    "\n",
    "$$\n",
    "\\alpha_r \\geq \\varphi_M(l) \n",
    "$$\n"
   ]
  },
  {
   "cell_type": "markdown",
   "metadata": {},
   "source": [
    "### Coefficients and Parameters"
   ]
  },
  {
   "cell_type": "code",
   "execution_count": null,
   "metadata": {},
   "outputs": [],
   "source": [
    "filepath_Ljungan = pwd() * \"\\\\Water_Regulation\\\\TestDataWaterRegulation\\\\Ljungan.json\"\n",
    "filepath_prices = pwd() *  \"\\\\Data\\\\Spot Prices\\\\prices_df.csv\"\n",
    "filepath_results = pwd() * \"\\\\Results\\\\LambdaZero\\\\\"\n",
    "R, K, J = read_data(filepath_Ljungan)\n",
    "print() \n",
    "\n",
    "j = parts[1]\n",
    "O = OtherParticipant(parts, j , R)[1]\n",
    "K_j = [j.plants[1]]\n",
    "K_O = [O.plants[1]]\n",
    "pj = j.participationrate\n",
    "pO = O.participationrate\n",
    "\n",
    "\n",
    "println(\"Participation rate $(j.name): \\n \", pj)\n",
    "println(\"Participation rate $(O.name): \\n \", pO)\n",
    "println(\"K_O : $(K_O) and spillage $(K_O[1].spillreference), \\n K_j : $(K_j) and spillage $(K_j[1].spillreference)\")"
   ]
  },
  {
   "cell_type": "code",
   "execution_count": null,
   "metadata": {},
   "outputs": [],
   "source": [
    "function subproblem_builder_medium(model::Model, node::Int64)\n",
    "    # State Variables\n",
    "    @variable(subproblem, 0 <= l[r = R] <= r.maxvolume, initial_value = r.maxvolume, SDDP.State)\n",
    "    # Control Variables\n",
    "    @variable(subproblem, Q[r = R, t = 1:T] >= 0)\n",
    "    @variable(subproblem, s[r = R] >= 0)\n",
    "    @variable(subproblem, w[k = K, t = 1:T] <= k.spillreference * k.equivalent)\n",
    "    # Random Variables\n",
    "    @variable(subproblem, f[r = R])\n",
    "    # Transition Function \n",
    "    @constraint(subproblem, balance[r = R],  l[r].out == l[r].in - sum(Q[r, t] for t in 1:T) + T * f[r] - s[r])\n",
    "    # Constraints\n",
    "    @constraint(subproblem, balance_limits[r = R], lmin[node] <=  l[r].out <= lmax[node])\n",
    "    @constraint(subproblem, production[k = K, t = 1:T], w[k,t] <= sum(Q[r, t] for r in find_us_reservoir(k.reservoir)) * k.equivalent)\n",
    "    # parameterize Uncertainty\n",
    "    SDDP.parameterize(subproblem, Omega, P) do om\n",
    "        JuMP.fix(f[r], om.inflow[r])\n",
    "        @stageobjective(subproblem, om.price[t] * sum(w[k,t] for k in K) for t in 1:T)\n",
    "    end\n",
    "end\n"
   ]
  }
 ],
 "metadata": {
  "kernelspec": {
   "display_name": "Julia 1.8.5",
   "language": "julia",
   "name": "julia-1.8"
  },
  "language_info": {
   "file_extension": ".jl",
   "mimetype": "application/julia",
   "name": "julia",
   "version": "1.8.5"
  },
  "orig_nbformat": 4
 },
 "nbformat": 4,
 "nbformat_minor": 2
}
