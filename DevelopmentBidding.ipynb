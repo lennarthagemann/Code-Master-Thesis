{
 "cells": [
  {
   "cell_type": "code",
   "execution_count": 33,
   "metadata": {},
   "outputs": [],
   "source": [
    "using JuMP\n",
    "using CPLEX\n",
    "using Distributions\n",
    "using LinearAlgebra\n",
    "using Statistics\n",
    "using Dates\n",
    "using DataFrames\n",
    "using SDDP\n",
    "using Plots\n",
    "import CSV\n",
    "using JSON\n",
    "try\n",
    "    using Revise\n",
    "catch e\n",
    "    @warn \"Error initializing Revise\" exception=(e, catch_backtrace())\n",
    "end"
   ]
  },
  {
   "cell_type": "code",
   "execution_count": 34,
   "metadata": {},
   "outputs": [],
   "source": [
    "includet(pwd() * \"\\\\Water_Regulation\\\\WaterRegulation.jl\")\n",
    "using .WaterRegulation"
   ]
  },
  {
   "cell_type": "markdown",
   "metadata": {},
   "source": [
    "### General Parameters"
   ]
  },
  {
   "cell_type": "code",
   "execution_count": 35,
   "metadata": {},
   "outputs": [
    {
     "data": {
      "text/plain": [
       "(Reservoir[Flasjon\n",
       ", Holsmjon\n",
       "], HydropowerPlant[Flasjo\n",
       ", Trangfors\n",
       ", Ratan\n",
       ", Turinge\n",
       ", Bursnas\n",
       ", Jarnvagsforsen\n",
       ", Parteboda\n",
       ", Hermansboda\n",
       ", Ljunga\n",
       ", Nederede\n",
       ", Skallbole\n",
       ", Matfors\n",
       ", Viforsen\n",
       "], Participant[Sydkraft\n",
       ", Fortum\n",
       ", Statkraft\n",
       "])"
      ]
     },
     "metadata": {},
     "output_type": "display_data"
    }
   ],
   "source": [
    "filepath_Ljungan = pwd() * \"\\\\Water_Regulation\\\\TestDataWaterRegulation\\\\Ljungan.json\"\n",
    "filepath_prices = pwd() *  \"\\\\Data\\\\Spot Prices\\\\prices_df.csv\"\n",
    "filepath_results = pwd() * \"\\\\Results\\\\LambdaZero\\\\\"\n",
    "all_res, plants, parts = read_data(filepath_Ljungan)"
   ]
  },
  {
   "cell_type": "markdown",
   "metadata": {},
   "source": [
    "### Have a look at the river system we are dealing with    \n",
    "We will work with Sydkraft in this example"
   ]
  },
  {
   "cell_type": "code",
   "execution_count": 36,
   "metadata": {},
   "outputs": [
    {
     "name": "stdout",
     "output_type": "stream",
     "text": [
      "Producer: Sydkraft \n",
      " Reservoirs: Flasjon\n",
      "\n",
      " Power Plants: Flasjo\n",
      "\n"
     ]
    }
   ],
   "source": [
    "j = parts[1]\n",
    "res = filter(r -> j.participationrate[r] > 0, all_res)\n",
    "plantsj = [j.plants[1]]\n",
    "\n",
    "println(\"Producer: \", j.name, \" \\n Reservoirs: \", res[1], \"\\n Power Plants: \", plantsj[1])"
   ]
  },
  {
   "cell_type": "markdown",
   "metadata": {},
   "source": [
    "### Set Parameters necessary for Input into Model"
   ]
  },
  {
   "cell_type": "code",
   "execution_count": 37,
   "metadata": {},
   "outputs": [
    {
     "name": "stdout",
     "output_type": "stream",
     "text": [
      "Stages :2\n",
      " Hours: 1\n",
      " I : 1\n",
      " Price Points = [0.0, 1.0]\n"
     ]
    },
    {
     "data": {
      "text/plain": [
       "10"
      ]
     },
     "metadata": {},
     "output_type": "display_data"
    }
   ],
   "source": [
    "Stages = 2\n",
    "Hours = 1\n",
    "PricePoints = [0.0, 1.0]\n",
    "I = length(PricePoints)-1\n",
    "\n",
    "println(\"Stages :\" , Stages, \"\\n Hours: \", Hours, \"\\n I : \", I, \"\\n Price Points = \", [i for i in PricePoints])\n",
    "Qref = Dict{Reservoir, Float64}(r => 1.0 for r in res)\n",
    "scenario_count = 1\n",
    "Prices = [floor.(rand(Hours), sigdigits=3) for i in 1:scenario_count]\n",
    "Inflows = [0.0]\n",
    "Omega = [(price = p, inflow = v) for p in Prices for v in Inflows]\n",
    "P = [1/length(Omega) for om in Omega]\n",
    "# StartUp Constraints\n",
    "S = 0.1\n",
    "mu_up = 10\n",
    "mu_down = 10"
   ]
  },
  {
   "cell_type": "code",
   "execution_count": 56,
   "metadata": {},
   "outputs": [
    {
     "data": {
      "text/plain": [
       "subproblem_builder (generic function with 1 method)"
      ]
     },
     "metadata": {},
     "output_type": "display_data"
    }
   ],
   "source": [
    "function subproblem_builder(subproblem::Model, node::Int)\n",
    "    # State Variables\n",
    "    @variables(subproblem, begin\n",
    "        0 <= lreal[r = res] <= r.maxvolume, (SDDP.State, initial_value = r.currentvolume)\n",
    "        # lind[r = res], (SDDP.State, initial_value = r.currentvolume)\n",
    "        Qnom[r = res] <= Hours * 10, (SDDP.State, initial_value = 0)\n",
    "        x[i = 1:I+1, t = 1:Hours] <= sum(0.5 * k.spillreference *k.equivalent for  k in plantsj), (SDDP.State, initial_value = 0)\n",
    "    end)\n",
    "    # Control Variables\n",
    "    @variables(subproblem, begin\n",
    "        zup[t = 1:Hours] >= 0\n",
    "        zdown[t = 1:Hours] >= 0\n",
    "        deltastart[k = plantsj, t = 1:Hours], (Bin)\n",
    "        # deltaind[r = res], (Bin)\n",
    "        u[k = plantsj, t = 1:Hours], (Bin)\n",
    "        w[k = plantsj, t = 1:Hours] <= 0.5 * k.spillreference * k.equivalent\n",
    "        Qnomchange[r = res] >= 0\n",
    "        0 <= xchange[i = 1:I+1, t = 1:Hours] <= sum(0.5 * k.spillreference * k.equivalent for k in plantsj)\n",
    "        0 <= Qreal[r = res, t = 1:Hours]\n",
    "        0 <= y[t = 1:Hours] <= sum(0.5 * k.spillreference * k.equivalent for k in plantsj)\n",
    "    end)\n",
    "    # Random Variables\n",
    "    @variables(subproblem, begin\n",
    "        Qinflow[r = res]\n",
    "    end)\n",
    "    if node == 1\n",
    "        # Transition Function\n",
    "        for r in res\n",
    "            # Real and Individual Reservoir Balance\n",
    "            @constraint(subproblem, lreal[r].out == lreal[r].in)\n",
    "            # @constraint(subproblem, lind[r].out == lind[r].in)\n",
    "            @constraint(subproblem, Qnom[r].out == Qnomchange[r])\n",
    "        end\n",
    "        for t in 1:Hours\n",
    "            for i in 1:I\n",
    "                @constraint(subproblem, x[i,t].out == xchange[i,t])\n",
    "                @constraint(subproblem, xchange[i,t] <= xchange[i+1,t])\n",
    "            end\n",
    "            @constraint(subproblem, x[I+1,t].out == xchange[I+1,t])\n",
    "        end\n",
    "        # Constraints\n",
    "        for r in res\n",
    "            @constraint(subproblem, Hours * Qnomchange[r] <= lreal[r].in)\n",
    "            # Negative individual Reservoir Complications\n",
    "            # @constraint(subproblem, deltaind[r] => {Qnomchange[r] <= Qref[r]})\n",
    "            # @constraint(subproblem, !deltaind[r] => {0 <= lind[r].in})\n",
    "        end\n",
    "        @stageobjective(subproblem, 0)\n",
    "    else\n",
    "        # Transition Function\n",
    "        for r in res\n",
    "            # Real and Individual Reservoir Balances\n",
    "            @constraint(subproblem, lreal[r].out == lreal[r].in - Hours * (Qnom[r].in - Qinflow[r]))\n",
    "            # @constraint(subproblem, lind[r].out == lind[r].in - Hours * (Qnom[r].in - Qref[r]))\n",
    "            @constraint(subproblem, Qnom[r].out == Qnomchange[r])\n",
    "        end\n",
    "        for t in 1:Hours\n",
    "            for i in 1:I+1\n",
    "                @constraint(subproblem, x[i,t].out == xchange[i,t])\n",
    "            end\n",
    "        end\n",
    "        # Constraints\n",
    "        for t in 1:Hours\n",
    "            for i in 1:I\n",
    "                # Increasing bidding Curve constraint\n",
    "                @constraint(subproblem, xchange[i,t] <= xchange[i+1,t])\n",
    "            end\n",
    "            # Fulfill Demand Constraint\n",
    "            # @constraint(subproblem, y[t] == sum(w[k,t] for k in plantsj) + zup[t] - zdown[t])\n",
    "            for k in plantsj\n",
    "                # Power Generation Constraint\n",
    "                @constraint(subproblem, w[k,t] <= sum(Qreal[r,t] for r in find_us_reservoir(k.reservoir)) * k.equivalent)\n",
    "                # On-Off and Maximum Generation Constraint\n",
    "                @constraint(subproblem, u[k,t] * 0 <= w[k,t])\n",
    "                @constraint(subproblem, w[k,t] <= u[k,t] * 0.5 * k.equivalent * k.spillreference)\n",
    "                if t > 1\n",
    "                    # Start-Up\n",
    "                    @constraint(subproblem, deltastart[k, t] >= u[k,t] - u[k,t-1])\n",
    "                end\n",
    "            end\n",
    "        end\n",
    "\n",
    "        for r in res\n",
    "            # Average Discharge Constraint\n",
    "            @constraint(subproblem, sum(Qreal[r,t] for t in 1:Hours) == Qnom[r].in)\n",
    "            # Negative Individual Reservoir Complications\n",
    "            # @constraint(subproblem, deltaind[r] => {Qnomchange[r] <= Qref[r]})\n",
    "            # @constraint(subproblem, !deltaind[r] => {0 <= lind[r].in})\n",
    "        end\n",
    "        # Parametrize Uncertainty\n",
    "        SDDP.parameterize(subproblem, Omega, P) do om\n",
    "            for r in res\n",
    "                JuMP.fix(Qinflow[r], om.inflow)\n",
    "            end\n",
    "            for t in 1:Hours\n",
    "                count = 0\n",
    "                for i in 1:I\n",
    "                    if (om.price[t] <= PricePoints[i+1]) && (om.price[t] >= PricePoints[i])\n",
    "                        # Market Clearing Constraint\n",
    "                        @constraint(subproblem, y[t] == ((om.price[t] - PricePoints[i])/(PricePoints[i+1] - PricePoints[i]))*x[i+1,t].in + ((PricePoints[i+1] - om.price[t])/(PricePoints[i+1] - PricePoints[i]))*x[i,t].in)\n",
    "                        count += 1\n",
    "                    end\n",
    "                end\n",
    "                @assert(count == 1)\n",
    "            end\n",
    "            # Stage-objective\n",
    "            @stageobjective(\n",
    "                subproblem, sum(y[t] * om.price[t] - sum(S * deltastart[k, t] for k in plantsj) - (mu_up * zup[t] + mu_down * zdown[t]) for t in 1:Hours)\n",
    "                )\n",
    "        end\n",
    "    end\n",
    "    return\n",
    "end\n"
   ]
  },
  {
   "cell_type": "code",
   "execution_count": 57,
   "metadata": {},
   "outputs": [
    {
     "name": "stdout",
     "output_type": "stream",
     "text": [
      "\r\n",
      "Root node processing (before b&c):\r\n",
      "  Real time             =    0.00 sec. (0.01 ticks)\r\n",
      "Parallel b&c, 12 threads:\r\n",
      "  Real time             =    0.00 sec. (0.00 ticks)\r\n",
      "  Sync time (average)   =    0.00 sec.\r\n",
      "  Wait time (average)   =    0.00 sec.\r\n",
      "                          ------------\r\n",
      "Total (root+branch&cut) =    0.00 sec. (0.01 ticks)\r\n",
      "0.0\n",
      "(price = [0.656], inflow = 0.0)\n"
     ]
    }
   ],
   "source": [
    "for i in 1:I\n",
    "    println(PricePoints[i])\n",
    "end\n",
    "for el in Omega\n",
    "    println(el)\n",
    "end\n"
   ]
  },
  {
   "cell_type": "code",
   "execution_count": 58,
   "metadata": {},
   "outputs": [
    {
     "data": {
      "text/plain": [
       "A policy graph with 2 nodes.\n",
       " Node indices: 1, 2\n"
      ]
     },
     "metadata": {},
     "output_type": "display_data"
    }
   ],
   "source": [
    "model = SDDP.LinearPolicyGraph(\n",
    "    subproblem_builder;\n",
    "    stages = Stages,\n",
    "    sense = :Max,\n",
    "    upper_bound = 1e5,\n",
    "    optimizer = CPLEX.Optimizer\n",
    ")"
   ]
  },
  {
   "cell_type": "markdown",
   "metadata": {},
   "source": [
    "### Train the model"
   ]
  },
  {
   "cell_type": "code",
   "execution_count": 59,
   "metadata": {},
   "outputs": [
    {
     "name": "stdout",
     "output_type": "stream",
     "text": [
      "Version identifier: 22.1.1.0 | 2022-11-27 | 9160aff4d\r\n",
      "Dual infeasible due to empty column 'x15'.\r\n",
      "Presolve time = 0.00 sec. (0.00 ticks)\r\n"
     ]
    }
   ],
   "source": [
    "# Lets see if the deterministic equvialent is feasible\n",
    "\n",
    "det_equiv = SDDP.deterministic_equivalent(model, CPLEX.Optimizer)\n",
    "optimize!(det_equiv)\n",
    "JuMP.write_to_file(det_equiv, \"det_equiv.lp\")"
   ]
  },
  {
   "cell_type": "code",
   "execution_count": 60,
   "metadata": {},
   "outputs": [
    {
     "ename": "MathOptInterface.ResultIndexBoundsError{MathOptInterface.ObjectiveValue}",
     "evalue": "Result index of attribute MathOptInterface.ObjectiveValue(1) out of bounds. There are currently 0 solution(s) in the model.",
     "output_type": "error",
     "traceback": [
      "Result index of attribute MathOptInterface.ObjectiveValue(1) out of bounds. There are currently 0 solution(s) in the model.\n",
      "\n",
      "Stacktrace:\n",
      "  [1] check_result_index_bounds\n",
      "    @ C:\\Users\\lenna\\.julia\\packages\\MathOptInterface\\goW8i\\src\\attributes.jl:207 [inlined]\n",
      "  [2] get(model::CPLEX.Optimizer, attr::MathOptInterface.ObjectiveValue)\n",
      "    @ CPLEX C:\\Users\\lenna\\.julia\\packages\\CPLEX\\a0nA7\\src\\MOI\\MOI_wrapper.jl:3254\n",
      "  [3] get(b::MathOptInterface.Bridges.LazyBridgeOptimizer{CPLEX.Optimizer}, attr::MathOptInterface.ObjectiveValue)\n",
      "    @ MathOptInterface.Bridges C:\\Users\\lenna\\.julia\\packages\\MathOptInterface\\goW8i\\src\\Bridges\\bridge_optimizer.jl:1067\n",
      "  [4] _get_model_attribute(model::MathOptInterface.Utilities.CachingOptimizer{MathOptInterface.Bridges.LazyBridgeOptimizer{CPLEX.Optimizer}, MathOptInterface.Utilities.UniversalFallback{MathOptInterface.Utilities.Model{Float64}}}, attr::MathOptInterface.ObjectiveValue)\n",
      "    @ MathOptInterface.Utilities C:\\Users\\lenna\\.julia\\packages\\MathOptInterface\\goW8i\\src\\Utilities\\cachingoptimizer.jl:828\n",
      "  [5] get\n",
      "    @ C:\\Users\\lenna\\.julia\\packages\\MathOptInterface\\goW8i\\src\\Utilities\\cachingoptimizer.jl:876 [inlined]\n",
      "  [6] _moi_get_result(model::MathOptInterface.Utilities.CachingOptimizer{MathOptInterface.Bridges.LazyBridgeOptimizer{CPLEX.Optimizer}, MathOptInterface.Utilities.UniversalFallback{MathOptInterface.Utilities.Model{Float64}}}, args::MathOptInterface.ObjectiveValue)\n",
      "    @ JuMP C:\\Users\\lenna\\.julia\\packages\\JuMP\\Y4piv\\src\\JuMP.jl:1153\n",
      "  [7] get(model::Model, attr::MathOptInterface.ObjectiveValue)\n",
      "    @ JuMP C:\\Users\\lenna\\.julia\\packages\\JuMP\\Y4piv\\src\\JuMP.jl:1173\n",
      "  [8] objective_value(model::Model; result::Int64)\n",
      "    @ JuMP C:\\Users\\lenna\\.julia\\packages\\JuMP\\Y4piv\\src\\objective.jl:42\n",
      "  [9] objective_value(model::Model)\n",
      "    @ JuMP C:\\Users\\lenna\\.julia\\packages\\JuMP\\Y4piv\\src\\objective.jl:41\n",
      " [10] top-level scope\n",
      "    @ c:\\Users\\lenna\\OneDrive - NTNU\\Code Master Thesis\\DevelopmentBidding.ipynb:1"
     ]
    }
   ],
   "source": [
    "println(objective_value(det_equiv))\n",
    "println(primal_status(det_equiv))\n",
    "println(dual_status(det_equiv))\n",
    "println(JuMP.termination_status(det_equiv))"
   ]
  },
  {
   "cell_type": "code",
   "execution_count": 61,
   "metadata": {},
   "outputs": [
    {
     "name": "stdout",
     "output_type": "stream",
     "text": [
      "-------------------------------------------------------------------\n",
      "         SDDP.jl (c) Oscar Dowson and contributors, 2017-23\n",
      "-------------------------------------------------------------------\n",
      "problem\n",
      "  nodes           : 2\n",
      "  state variables : 4\n",
      "  scenarios       : 1.00000e+00\n",
      "  existing cuts   : false\n",
      "options\n",
      "  solver          : serial mode\n",
      "  risk measure    : SDDP.Expectation()\n",
      "  sampling scheme : SDDP.InSampleMonteCarlo\n",
      "subproblem structure\n",
      "  VariableRef                             : [20, 20]\n",
      "  VariableRef in MOI.EqualTo{Float64}     : [1, 1]\n",
      "  VariableRef in MOI.LessThan{Float64}    : [9, 9]\n",
      "  VariableRef in MOI.ZeroOne              : [2, 2]\n",
      "  AffExpr in MOI.LessThan{Float64}        : [2, 4]\n",
      "  VariableRef in MOI.GreaterThan{Float64} : [8, 9]\n",
      "  AffExpr in MOI.EqualTo{Float64}         : [4, 6]\n",
      "numerical stability report\n",
      "  matrix range     [9e-02, 1e+00]\n",
      "  objective range  [1e-01, 1e+01]\n",
      "  bounds range     [9e-02, 1e+05]\n",
      "  rhs range        [0e+00, 0e+00]\n",
      "-------------------------------------------------------------------\n",
      " iteration    simulation      bound        time (s)     solves  pid\n",
      "-------------------------------------------------------------------\n"
     ]
    },
    {
     "name": "stdout",
     "output_type": "stream",
     "text": [
      "         1L  3.868721e-02  5.897440e-02  5.120001e-01         4   1\n"
     ]
    },
    {
     "name": "stdout",
     "output_type": "stream",
     "text": [
      "         2L  5.897440e-02  5.897440e-02  1.150000e+00         8   1"
     ]
    },
    {
     "name": "stderr",
     "output_type": "stream",
     "text": [
      "┌ Warning: Found a cut with a mix of small and large coefficients.\n",
      "│     The order of magnitude difference is 17.09354742726223.\n",
      "│     The smallest cofficient is -3.469446951953614e-18.\n",
      "│     The largest coefficient is 0.43033600000000005.\n",
      "│ \n",
      "│ You can ignore this warning, but it may be an indication of numerical issues.\n",
      "│ \n",
      "│ Consider rescaling your model by using different units, e.g, kilometers instead\n",
      "│ of meters. You should also consider reducing the accuracy of your input data (if\n",
      "│ you haven't already). For example, it probably doesn't make sense to measure the\n",
      "│ inflow into a reservoir to 10 decimal places.\n",
      "└ @ SDDP C:\\Users\\lenna\\.julia\\packages\\SDDP\\gpgyh\\src\\plugins\\bellman_functions.jl:68\n"
     ]
    },
    {
     "name": "stdout",
     "output_type": "stream",
     "text": [
      "\n",
      "         3L  5.897440e-02  5.897440e-02  1.728000e+00        12   1\n"
     ]
    },
    {
     "name": "stdout",
     "output_type": "stream",
     "text": [
      "         4L  5.897440e-02  5.897440e-02  2.255000e+00        16   1"
     ]
    },
    {
     "name": "stdout",
     "output_type": "stream",
     "text": [
      "\n",
      "         5L  5.897440e-02  5.897440e-02  2.707000e+00        20   1\n"
     ]
    },
    {
     "name": "stdout",
     "output_type": "stream",
     "text": [
      "         6L  5.897440e-02  5.897440e-02  3.219000e+00        24   1\n"
     ]
    },
    {
     "name": "stdout",
     "output_type": "stream",
     "text": [
      "         7L  5.897440e-02  5.897440e-02  3.724000e+00        28   1"
     ]
    },
    {
     "name": "stdout",
     "output_type": "stream",
     "text": [
      "\n",
      "         8L  5.897440e-02  5.897440e-02  4.376000e+00        32   1"
     ]
    },
    {
     "name": "stdout",
     "output_type": "stream",
     "text": [
      "\n",
      "         9L  5.897440e-02  5.897440e-02  4.917000e+00        36   1\n"
     ]
    },
    {
     "name": "stdout",
     "output_type": "stream",
     "text": [
      "        10L  5.897440e-02  5.897440e-02  5.539000e+00        40   1\n"
     ]
    },
    {
     "name": "stdout",
     "output_type": "stream",
     "text": [
      "        11L  5.897440e-02  5.897440e-02  6.150000e+00        44   1\n"
     ]
    },
    {
     "name": "stdout",
     "output_type": "stream",
     "text": [
      "        12L  5.897440e-02  5.897440e-02  6.701000e+00        48   1\n"
     ]
    },
    {
     "name": "stdout",
     "output_type": "stream",
     "text": [
      "        13L  5.897440e-02  5.897440e-02  7.441000e+00        52   1\n"
     ]
    },
    {
     "name": "stdout",
     "output_type": "stream",
     "text": [
      "        14L  5.897440e-02  5.897440e-02  7.929000e+00        56   1\n"
     ]
    },
    {
     "name": "stdout",
     "output_type": "stream",
     "text": [
      "        15L  5.897440e-02  5.897440e-02  8.995000e+00        60   1\n"
     ]
    },
    {
     "name": "stdout",
     "output_type": "stream",
     "text": [
      "        16L  5.897440e-02  5.897440e-02  9.561000e+00        64   1\n"
     ]
    },
    {
     "name": "stdout",
     "output_type": "stream",
     "text": [
      "        17L  5.897440e-02  5.897440e-02  1.015900e+01        68   1\n"
     ]
    },
    {
     "name": "stdout",
     "output_type": "stream",
     "text": [
      "        18L  5.897440e-02  5.897440e-02  1.066800e+01        72   1\n"
     ]
    },
    {
     "name": "stdout",
     "output_type": "stream",
     "text": [
      "        19L  5.897440e-02  5.897440e-02  1.128000e+01        76   1"
     ]
    },
    {
     "name": "stdout",
     "output_type": "stream",
     "text": [
      "\n",
      "        20L  5.897440e-02  5.897440e-02  1.192400e+01        80   1\n"
     ]
    },
    {
     "name": "stdout",
     "output_type": "stream",
     "text": [
      "        21L  5.897440e-02  5.897440e-02  1.248800e+01        84   1\n"
     ]
    },
    {
     "name": "stdout",
     "output_type": "stream",
     "text": [
      "        22L  5.897440e-02  5.897440e-02  1.297400e+01        88   1"
     ]
    },
    {
     "name": "stdout",
     "output_type": "stream",
     "text": [
      "\n",
      "        23L  5.897440e-02  5.897440e-02  1.353400e+01        92   1"
     ]
    },
    {
     "name": "stdout",
     "output_type": "stream",
     "text": [
      "\n",
      "        24L  5.897440e-02  5.897440e-02  1.425500e+01        96   1\n"
     ]
    },
    {
     "name": "stdout",
     "output_type": "stream",
     "text": [
      "        25L  5.897440e-02  5.897440e-02  1.486100e+01       100   1\n"
     ]
    },
    {
     "name": "stdout",
     "output_type": "stream",
     "text": [
      "        26L  5.897440e-02  5.897440e-02  1.530700e+01       104   1\n"
     ]
    },
    {
     "name": "stdout",
     "output_type": "stream",
     "text": [
      "        27L  5.897440e-02  5.897440e-02  1.585300e+01       108   1"
     ]
    },
    {
     "name": "stdout",
     "output_type": "stream",
     "text": [
      "\n",
      "        28L  5.897440e-02  5.897440e-02  1.638300e+01       112   1\n"
     ]
    },
    {
     "name": "stdout",
     "output_type": "stream",
     "text": [
      "        29L  5.897440e-02  5.897440e-02  1.693400e+01       116   1\n"
     ]
    },
    {
     "name": "stdout",
     "output_type": "stream",
     "text": [
      "        30L  5.897440e-02  5.897440e-02  1.744100e+01       120   1\n"
     ]
    },
    {
     "name": "stdout",
     "output_type": "stream",
     "text": [
      "        31L  5.897440e-02  5.897440e-02  1.810900e+01       124   1\n"
     ]
    },
    {
     "name": "stdout",
     "output_type": "stream",
     "text": [
      "        32L  5.897440e-02  5.897440e-02  1.866800e+01       128   1\n"
     ]
    },
    {
     "name": "stdout",
     "output_type": "stream",
     "text": [
      "        33L  5.897440e-02  5.897440e-02  1.939800e+01       132   1\n"
     ]
    },
    {
     "name": "stdout",
     "output_type": "stream",
     "text": [
      "        34L  5.897440e-02  5.897440e-02  1.991700e+01       136   1\n"
     ]
    },
    {
     "name": "stdout",
     "output_type": "stream",
     "text": [
      "        35L  5.897440e-02  5.897440e-02  2.053100e+01       140   1\n"
     ]
    },
    {
     "name": "stdout",
     "output_type": "stream",
     "text": [
      "        36L  5.897440e-02  5.897440e-02  2.109800e+01       144   1"
     ]
    },
    {
     "name": "stdout",
     "output_type": "stream",
     "text": [
      "\n",
      "        37L  5.897440e-02  5.897440e-02  2.152100e+01       148   1\n"
     ]
    },
    {
     "name": "stdout",
     "output_type": "stream",
     "text": [
      "        38L  5.897440e-02  5.897440e-02  2.219300e+01       152   1"
     ]
    },
    {
     "name": "stdout",
     "output_type": "stream",
     "text": [
      "\n",
      "        39L  5.897440e-02  5.897440e-02  2.307400e+01       156   1\n"
     ]
    },
    {
     "name": "stdout",
     "output_type": "stream",
     "text": [
      "        40L  5.897440e-02  5.897440e-02  2.367700e+01       160 "
     ]
    },
    {
     "name": "stdout",
     "output_type": "stream",
     "text": [
      "  1\n",
      "        41L  5.897440e-02  5.897440e-02  2.435900e+01       164   1\n"
     ]
    },
    {
     "name": "stdout",
     "output_type": "stream",
     "text": [
      "        42L  5.897440e-02  5.897440e-02  2.528000e+01       168   1"
     ]
    },
    {
     "name": "stdout",
     "output_type": "stream",
     "text": [
      "\n",
      "        43L  5.897440e-02  5.897440e-02  2.585600e+01       172   1"
     ]
    },
    {
     "name": "stdout",
     "output_type": "stream",
     "text": [
      "\n",
      "        44L  5.897440e-02  5.897440e-02  2.695100e+01       176   1\n"
     ]
    },
    {
     "name": "stdout",
     "output_type": "stream",
     "text": [
      "        45L  5.897440e-02  5.897440e-02  2.756200e+01       180   1"
     ]
    },
    {
     "name": "stdout",
     "output_type": "stream",
     "text": [
      "\n",
      "        46L  5.897440e-02  5.897440e-02  2.816300e+01       184   1\n"
     ]
    },
    {
     "name": "stdout",
     "output_type": "stream",
     "text": [
      "        47L  5.897440e-02  5.897440e-02  2.879500e+01       188   1"
     ]
    },
    {
     "name": "stdout",
     "output_type": "stream",
     "text": [
      "\n",
      "        48L  5.897440e-02  5.897440e-02  2.931200e+01       192   1"
     ]
    },
    {
     "name": "stdout",
     "output_type": "stream",
     "text": [
      "\n",
      "        49L  5.897440e-02  5.897440e-02  2.998800e+01       196   1"
     ]
    },
    {
     "name": "stdout",
     "output_type": "stream",
     "text": [
      "\n",
      "        50L  5.897440e-02  5.897440e-02  3.055700e+01       200   1\n"
     ]
    },
    {
     "name": "stdout",
     "output_type": "stream",
     "text": [
      "        51L  5.897440e-02  5.897440e-02  3.148200e+01       204   1\n"
     ]
    },
    {
     "name": "stdout",
     "output_type": "stream",
     "text": [
      "        52L  5.897440e-02  5.897440e-02  3.202400e+01       208   1"
     ]
    },
    {
     "name": "stdout",
     "output_type": "stream",
     "text": [
      "\n",
      "        53L  5.897440e-02  5.897440e-02  3.279500e+01       212   1\n"
     ]
    },
    {
     "name": "stdout",
     "output_type": "stream",
     "text": [
      "        54L  5.897440e-02  5.897440e-02  3.376900e+01       216   1\n"
     ]
    },
    {
     "name": "stdout",
     "output_type": "stream",
     "text": [
      "        55L  5.897440e-02  5.897440e-02  3.446000e+01       220   1"
     ]
    },
    {
     "name": "stdout",
     "output_type": "stream",
     "text": [
      "\n",
      "        56L  5.897440e-02  5.897440e-02  3.586900e+01       224   1"
     ]
    },
    {
     "name": "stdout",
     "output_type": "stream",
     "text": [
      "\n",
      "        57L  5.897440e-02  5.897440e-02  3.628500e+01       228   1"
     ]
    },
    {
     "name": "stdout",
     "output_type": "stream",
     "text": [
      "\n",
      "        58L  5.897440e-02  5.897440e-02  3.683600e+01       232   1\n"
     ]
    },
    {
     "name": "stdout",
     "output_type": "stream",
     "text": [
      "        59L  5.897440e-02  5.897440e-02  3.751300e+01       236   1"
     ]
    },
    {
     "name": "stdout",
     "output_type": "stream",
     "text": [
      "\n",
      "        60L  5.897440e-02  5.897440e-02  3.867100e+01       240   1"
     ]
    },
    {
     "name": "stdout",
     "output_type": "stream",
     "text": [
      "\n",
      "        61L  5.897440e-02  5.897440e-02  3.917500e+01       244   1\n"
     ]
    },
    {
     "name": "stdout",
     "output_type": "stream",
     "text": [
      "        62L  5.897440e-02  5.897440e-02  3.977000e+01       248   1"
     ]
    },
    {
     "name": "stdout",
     "output_type": "stream",
     "text": [
      "\n",
      "        63L  5.897440e-02  5.897440e-02  4.041000e+01       252   1"
     ]
    },
    {
     "name": "stdout",
     "output_type": "stream",
     "text": [
      "\n",
      "        64L  5.897440e-02  5.897440e-02  4.107400e+01       256   1\n"
     ]
    },
    {
     "name": "stdout",
     "output_type": "stream",
     "text": [
      "        65L  5.897440e-02  5.897440e-02  4.162100e+01       260   1\n"
     ]
    },
    {
     "name": "stdout",
     "output_type": "stream",
     "text": [
      "        66L  5.897440e-02  5.897440e-02  4.214800e+01       264   1"
     ]
    },
    {
     "name": "stdout",
     "output_type": "stream",
     "text": [
      "\n",
      "        67L  5.897440e-02  5.897440e-02  4.278100e+01       268   1\n"
     ]
    },
    {
     "name": "stdout",
     "output_type": "stream",
     "text": [
      "        68L  5.897440e-02  5.897440e-02  4.340500e+01       272   1\n"
     ]
    },
    {
     "name": "stdout",
     "output_type": "stream",
     "text": [
      "        69L  5.897440e-02  5.897440e-02  4.412000e+01       276   1"
     ]
    },
    {
     "name": "stdout",
     "output_type": "stream",
     "text": [
      "\n",
      "        70L  5.897440e-02  5.897440e-02  4.468200e+01       280   1\n"
     ]
    },
    {
     "name": "stdout",
     "output_type": "stream",
     "text": [
      "        71L  5.897440e-02  5.897440e-02  4.528900e+01       284   1"
     ]
    },
    {
     "name": "stdout",
     "output_type": "stream",
     "text": [
      "\n",
      "        72L  5.897440e-02  5.897440e-02  4.598300e+01       288   1"
     ]
    },
    {
     "name": "stdout",
     "output_type": "stream",
     "text": [
      "\n",
      "        73L  5.897440e-02  5.897440e-02  4.668900e+01       292   1\n"
     ]
    },
    {
     "name": "stdout",
     "output_type": "stream",
     "text": [
      "        74L  5.897440e-02  5.897440e-02  4.734400e+01       296   1\n"
     ]
    },
    {
     "name": "stdout",
     "output_type": "stream",
     "text": [
      "        75L  5.897440e-02  5.897440e-02  4.822300e+01       300   1\n"
     ]
    },
    {
     "name": "stdout",
     "output_type": "stream",
     "text": [
      "        76L  5.897440e-02  5.897440e-02  4.870500e+01       304   1\n"
     ]
    },
    {
     "name": "stdout",
     "output_type": "stream",
     "text": [
      "        77L  5.897440e-02  5.897440e-02  4.928200e+01       308   1\n"
     ]
    },
    {
     "name": "stdout",
     "output_type": "stream",
     "text": [
      "        78L  5.897440e-02  5.897440e-02  4.986800e+01       312   1"
     ]
    },
    {
     "name": "stdout",
     "output_type": "stream",
     "text": [
      "\n",
      "        79L  5.897440e-02  5.897440e-02  5.075900e+01       316   1\n"
     ]
    },
    {
     "name": "stdout",
     "output_type": "stream",
     "text": [
      "        80L  5.897440e-02  5.897440e-02  5.151300e+01       320   1\n"
     ]
    },
    {
     "name": "stdout",
     "output_type": "stream",
     "text": [
      "        81L  5.897440e-02  5.897440e-02  5.214900e+01       324   1\n"
     ]
    },
    {
     "name": "stdout",
     "output_type": "stream",
     "text": [
      "        82L  5.897440e-02  5.897440e-02  5.276500e+01       328   1\n"
     ]
    },
    {
     "name": "stdout",
     "output_type": "stream",
     "text": [
      "        83L  5.897440e-02  5.897440e-02  5.350300e+01       332   1\n"
     ]
    },
    {
     "name": "stdout",
     "output_type": "stream",
     "text": [
      "        84L  5.897440e-02  5.897440e-02  5.404100e+01       336   1\n"
     ]
    },
    {
     "name": "stdout",
     "output_type": "stream",
     "text": [
      "        85L  5.897440e-02  5.897440e-02  5.470100e+01       340   1\n"
     ]
    },
    {
     "name": "stdout",
     "output_type": "stream",
     "text": [
      "        86L  5.897440e-02  5.897440e-02  5.536000e+01       344   1\n"
     ]
    },
    {
     "name": "stdout",
     "output_type": "stream",
     "text": [
      "        87L  5.897440e-02  5.897440e-02  5.594500e+01       348   1\n"
     ]
    },
    {
     "name": "stdout",
     "output_type": "stream",
     "text": [
      "        88L  5.897440e-02  5.897440e-02  5.649600e+01       352   1\n"
     ]
    },
    {
     "name": "stdout",
     "output_type": "stream",
     "text": [
      "        89L  5.897440e-02  5.897440e-02  5.717400e+01       356   1\n"
     ]
    },
    {
     "name": "stdout",
     "output_type": "stream",
     "text": [
      "        90L  5.897440e-02  5.897440e-02  5.782600e+01       360   1\n"
     ]
    },
    {
     "name": "stdout",
     "output_type": "stream",
     "text": [
      "        91L  5.897440e-02  5.897440e-02  5.840100e+01       364   1\n"
     ]
    },
    {
     "name": "stdout",
     "output_type": "stream",
     "text": [
      "        92L  5.897440e-02  5.897440e-02  5.888300e+01       368   1\n"
     ]
    },
    {
     "name": "stdout",
     "output_type": "stream",
     "text": [
      "        93L  5.897440e-02  5.897440e-02  5.944400e+01       372   1"
     ]
    },
    {
     "name": "stdout",
     "output_type": "stream",
     "text": [
      "\n",
      "        94L  5.897440e-02  5.897440e-02  6.010500e+01       376   1\n"
     ]
    },
    {
     "name": "stdout",
     "output_type": "stream",
     "text": [
      "        95L  5.897440e-02  5.897440e-02  6.076500e+01       380   1\n"
     ]
    },
    {
     "name": "stdout",
     "output_type": "stream",
     "text": [
      "        96L  5.897440e-02  5.897440e-02  6.141500e+01       384   1"
     ]
    },
    {
     "name": "stdout",
     "output_type": "stream",
     "text": [
      "\n",
      "        97L  5.897440e-02  5.897440e-02  6.208000e+01       388   1\n"
     ]
    },
    {
     "name": "stdout",
     "output_type": "stream",
     "text": [
      "        98L  5.897440e-02  5.897440e-02  6.273900e+01       392   1"
     ]
    },
    {
     "name": "stdout",
     "output_type": "stream",
     "text": [
      "\n",
      "        99L  5.897440e-02  5.897440e-02  6.340900e+01       396   1\n"
     ]
    },
    {
     "name": "stdout",
     "output_type": "stream",
     "text": [
      "       100L  5.897440e-02  5.897440e-02  6.406600e+01       400   1\n",
      "-------------------------------------------------------------------\n",
      "status         : iteration_limit\n",
      "total time (s) : 6.406600e+01\n",
      "total solves   : 400\n",
      "best bound     :  5.897440e-02\n",
      "simulation ci  :  5.877153e-02 ± 3.976290e-04\n",
      "numeric issues : 0\n",
      "-------------------------------------------------------------------\n",
      "\n"
     ]
    }
   ],
   "source": [
    "SDDP.train(model; iteration_limit = 100, duality_handler = SDDP.LagrangianDuality())"
   ]
  },
  {
   "cell_type": "markdown",
   "metadata": {},
   "source": [
    "### Obtain the Bidding and Nomination Decisions"
   ]
  },
  {
   "cell_type": "code",
   "execution_count": 62,
   "metadata": {},
   "outputs": [
    {
     "ename": "KeyError",
     "evalue": "KeyError: key Symbol(\"lind[Flasjon\\n]\") not found",
     "output_type": "error",
     "traceback": [
      "KeyError: key Symbol(\"lind[Flasjon\\n]\") not found\n",
      "\n",
      "Stacktrace:\n",
      " [1] getindex(h::Dict{Symbol, SDDP.State{VariableRef}}, key::Symbol)\n",
      "   @ Base .\\dict.jl:498\n",
      " [2] set_incoming_state(node::SDDP.Node{Int64}, state::Dict{Symbol, Float64})\n",
      "   @ SDDP C:\\Users\\lenna\\.julia\\packages\\SDDP\\gpgyh\\src\\algorithm.jl:153\n",
      " [3] solve_subproblem(model::SDDP.PolicyGraph{Int64}, node::SDDP.Node{Int64}, state::Dict{Symbol, Float64}, noise::Nothing, scenario_path::Vector{Tuple{Int64, Any}}; duality_handler::Nothing)\n",
      "   @ SDDP C:\\Users\\lenna\\.julia\\packages\\SDDP\\gpgyh\\src\\algorithm.jl:376\n",
      " [4] evaluate(rule::SDDP.DecisionRule{Int64}; incoming_state::Dict{Symbol, Float64}, noise::Nothing, controls_to_record::Vector{Symbol})\n",
      "   @ SDDP C:\\Users\\lenna\\.julia\\packages\\SDDP\\gpgyh\\src\\algorithm.jl:1348\n",
      " [5] top-level scope\n",
      "   @ c:\\Users\\lenna\\OneDrive - NTNU\\Code Master Thesis\\DevelopmentBidding.ipynb:2"
     ]
    }
   ],
   "source": [
    "rule = SDDP.DecisionRule(model; node = 1)\n",
    "solution = SDDP.evaluate(\n",
    "    rule;\n",
    "    incoming_state = merge(Dict(Symbol(\"lreal[$(r)]\") => r.currentvolume for r in res), Dict(Symbol(\"lind[$(r)]\") => r.currentvolume for r in res)),\n",
    "    controls_to_record = [:Qnom, :y, :zup, :zdown]\n",
    ")\n"
   ]
  },
  {
   "cell_type": "code",
   "execution_count": 63,
   "metadata": {},
   "outputs": [],
   "source": []
  },
  {
   "cell_type": "code",
   "execution_count": 64,
   "metadata": {},
   "outputs": [],
   "source": []
  }
 ],
 "metadata": {
  "kernelspec": {
   "display_name": "Julia 1.8.5",
   "language": "julia",
   "name": "julia-1.8"
  },
  "language_info": {
   "file_extension": ".jl",
   "mimetype": "application/julia",
   "name": "julia",
   "version": "1.8.5"
  },
  "orig_nbformat": 4
 },
 "nbformat": 4,
 "nbformat_minor": 2
}
