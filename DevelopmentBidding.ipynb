{
 "cells": [
  {
   "cell_type": "code",
   "execution_count": 1,
   "metadata": {},
   "outputs": [],
   "source": [
    "using JuMP\n",
    "using CPLEX\n",
    "using Distributions\n",
    "using LinearAlgebra\n",
    "using Statistics\n",
    "using Dates\n",
    "using DataFrames\n",
    "using SDDP\n",
    "using Plots\n",
    "import CSV\n",
    "using JSON\n",
    "try\n",
    "    using Revise\n",
    "catch e\n",
    "    @warn \"Error initializing Revise\" exception=(e, catch_backtrace())\n",
    "end"
   ]
  },
  {
   "cell_type": "code",
   "execution_count": 2,
   "metadata": {},
   "outputs": [],
   "source": [
    "includet(pwd() * \"\\\\Water_Regulation\\\\WaterRegulation.jl\")\n",
    "using .WaterRegulation"
   ]
  },
  {
   "cell_type": "markdown",
   "metadata": {},
   "source": [
    "### General Parameters"
   ]
  },
  {
   "cell_type": "code",
   "execution_count": 3,
   "metadata": {},
   "outputs": [
    {
     "name": "stdout",
     "output_type": "stream",
     "text": [
      "Stages :8\n",
      " Hours: 24\n",
      " I : 1\n",
      " Price Points = "
     ]
    },
    {
     "name": "stdout",
     "output_type": "stream",
     "text": [
      "[0.0, 1.0]\n"
     ]
    }
   ],
   "source": [
    "Stages = 8\n",
    "Hours = 24\n",
    "PricePoints = [0.0, 1.0]\n",
    "I = length(PricePoints)-1\n",
    "\n",
    "println(\"Stages :\" , Stages, \"\\n Hours: \", Hours, \"\\n I : \", I, \"\\n Price Points = \", [i for i in PricePoints])"
   ]
  },
  {
   "cell_type": "code",
   "execution_count": 4,
   "metadata": {},
   "outputs": [
    {
     "data": {
      "text/plain": [
       "(Reservoir[Reservoir with name: Flasjön\n",
       ", Reservoir with name: Holmsjön\n",
       "], HydropowerPlant[Power Plant: Flasjö\n",
       ", Power Plant: Trangfors\n",
       ", Power Plant: Rätan\n",
       ", Power Plant: Turinge\n",
       ", Power Plant: Bursnäs\n",
       ", Power Plant: Järnvägsforsen\n",
       ", Power Plant: Parteboda\n",
       ", Power Plant: Hermansboda\n",
       ", Power Plant: Ljunga\n",
       ", Power Plant: Nederede\n",
       ", Power Plant: Skallböle\n",
       ", Power Plant: Matfors\n",
       ", Power Plant: Viforsen\n",
       "], Participant[Name: Sydkraft\n",
       ", Name: Fortum\n",
       ", Name: Statkraft\n",
       "])"
      ]
     },
     "metadata": {},
     "output_type": "display_data"
    }
   ],
   "source": [
    "filepath_Ljungan = pwd() * \"\\\\Water_Regulation\\\\TestDataWaterRegulation\\\\Ljungan.json\"\n",
    "filepath_prices = pwd() *  \"\\\\Data\\\\Spot Prices\\\\prices_df.csv\"\n",
    "filepath_results = pwd() * \"\\\\Results\\\\LambdaZero\\\\\"\n",
    "all_res, plants, parts = read_data(filepath_Ljungan)"
   ]
  },
  {
   "cell_type": "markdown",
   "metadata": {},
   "source": [
    "### Have a look at the river system we are dealing with    \n",
    "We will work with Sydkraft in this example"
   ]
  },
  {
   "cell_type": "code",
   "execution_count": 5,
   "metadata": {},
   "outputs": [
    {
     "data": {
      "text/plain": [
       "Name: Sydkraft\n"
      ]
     },
     "metadata": {},
     "output_type": "display_data"
    }
   ],
   "source": [
    "j = parts[1]"
   ]
  },
  {
   "cell_type": "code",
   "execution_count": 6,
   "metadata": {},
   "outputs": [
    {
     "data": {
      "text/plain": [
       "1-element Vector{Reservoir}:\n",
       " Reservoir with name: Flasjön\n"
      ]
     },
     "metadata": {},
     "output_type": "display_data"
    }
   ],
   "source": [
    "res = filter(r -> j.participationrate[r] > 0, all_res)"
   ]
  },
  {
   "cell_type": "code",
   "execution_count": 7,
   "metadata": {},
   "outputs": [
    {
     "data": {
      "text/plain": [
       "5-element Vector{HydropowerPlant}:\n",
       " Power Plant: Flasjö\n",
       "\n",
       " Power Plant: Trangfors\n",
       "\n",
       " Power Plant: Rätan\n",
       "\n",
       " Power Plant: Turinge\n",
       "\n",
       " Power Plant: Bursnäs\n"
      ]
     },
     "metadata": {},
     "output_type": "display_data"
    }
   ],
   "source": [
    "j.plants"
   ]
  },
  {
   "cell_type": "markdown",
   "metadata": {},
   "source": [
    "### Define the SDDP Model"
   ]
  },
  {
   "cell_type": "markdown",
   "metadata": {},
   "source": [
    "### Set Parameters necessary for Input into Model"
   ]
  },
  {
   "cell_type": "code",
   "execution_count": 8,
   "metadata": {},
   "outputs": [
    {
     "data": {
      "text/plain": [
       "1"
      ]
     },
     "metadata": {},
     "output_type": "display_data"
    }
   ],
   "source": [
    "Qref = Dict{Reservoir, Float64}(r => 1.0 for r in res)\n",
    "scenario_count = 2\n",
    "Prices = [floor.(rand(Hours), sigdigits=3) for i in 1:scenario_count]\n",
    "Inflows = [0.0]\n",
    "Omega = [(price = p, inflow = v) for p in Prices for v in Inflows]\n",
    "P = [1/length(Omega) for om in Omega]\n",
    "# StartUp Constraints\n",
    "S = 0.1\n",
    "mu_up = 1\n",
    "mu_down = 1"
   ]
  },
  {
   "cell_type": "code",
   "execution_count": 9,
   "metadata": {},
   "outputs": [
    {
     "data": {
      "text/plain": [
       "subproblem_builder (generic function with 1 method)"
      ]
     },
     "metadata": {},
     "output_type": "display_data"
    }
   ],
   "source": [
    "function subproblem_builder(subproblem::Model, node::Int)\n",
    "    # State Variables\n",
    "    @variables(subproblem, begin\n",
    "        0 <= l_real[r = res] <= r.maxvolume, (SDDP.State, initial_value = r.currentvolume)\n",
    "        l_ind[r = res], (SDDP.State, initial_value = r.currentvolume)\n",
    "        Qnom[r = res], (SDDP.State, initial_value = 0)\n",
    "        x[i = 1:I+1, t = 1:Hours], (SDDP.State, initial_value = 0)\n",
    "    end)\n",
    "    # Control Variables\n",
    "    @variables(subproblem, begin\n",
    "        z_up[t = 1:Hours] >= 0\n",
    "        z_down[t = 1:Hours] >= 0\n",
    "        delta_start[k = j.plants, t = 1:Hours], (Bin)\n",
    "        delta_ind[r = res], (Bin)\n",
    "        u[k = j.plants, t = 1:Hours], (Bin)\n",
    "        w[k = j.plants, t = 1:Hours]\n",
    "        Qnom_change[r = res] >= 0\n",
    "        x_change[i = 1:I+1, t = 1:Hours] >= 0\n",
    "        Qreal[r = res, t = 1:Hours] >= 0\n",
    "        y[t = 1:Hours] >= 0\n",
    "    end)\n",
    "    # Random Variables\n",
    "    @variables(subproblem, begin\n",
    "        Qinflow[r = res]\n",
    "    end)\n",
    "    if node == 1\n",
    "        # Transition Function\n",
    "        for r in res\n",
    "            # Real and Individual Reservoir Balance\n",
    "            @constraint(subproblem, l_real[r].out == l_real[r].in)\n",
    "            @constraint(subproblem, l_ind[r].out == l_ind[r].in)\n",
    "            @constraint(subproblem, Qnom[r].out == Qnom_change[r])\n",
    "        end\n",
    "        for t in 1:Hours\n",
    "            for i in 1:I\n",
    "                @constraint(subproblem, x[i,t].out == x_change[i,t])\n",
    "                @constraint(subproblem, x_change[i,t] <= x_change[i+1,t])\n",
    "            end\n",
    "            @constraint(subproblem, x[I+1,t].out == x_change[I+1,t])\n",
    "        end\n",
    "        # Constraints\n",
    "        for r in res\n",
    "            @constraint(subproblem, Hours * Qnom_change[r] <= l_real[r].in)\n",
    "            # Negative individual Reservoir Complications\n",
    "            @constraint(subproblem, delta_ind[r] => {Qnom_change[r] <= Qref[r]})\n",
    "            @constraint(subproblem, !delta_ind[r] => {0 <= l_ind[r].in})\n",
    "        end\n",
    "        @stageobjective(subproblem, 0)\n",
    "    else\n",
    "        # Transition Function\n",
    "        for r in res\n",
    "            # Real and Individual Reservoir Balances\n",
    "            @constraint(subproblem, l_real[r].out == l_real[r].in - Hours * (Qnom[r].in - Qinflow[r]))\n",
    "            @constraint(subproblem, l_ind[r].out == l_ind[r].in - Hours * (Qnom[r].in - Qref[r]))\n",
    "            @constraint(subproblem, Qnom[r].out == Qnom_change[r])\n",
    "        end\n",
    "        for t in 1:Hours\n",
    "            for i in 1:I+1\n",
    "                @constraint(subproblem, x[i,t].out == x_change[i,t])\n",
    "            end\n",
    "        end\n",
    "        # Constraints\n",
    "        for t in 1:Hours\n",
    "            for i in 1:I\n",
    "                # Increasing bidding Curve constraint\n",
    "                @constraint(subproblem, x_change[i,t] <= x_change[i+1,t])\n",
    "            end\n",
    "            # Fulfill Demand Constraint\n",
    "            @constraint(subproblem, y[t] == sum(w[k,t] for k in j.plants) + z_up[t] - z_down[t])\n",
    "            for k in j.plants\n",
    "                # Power Generation Constraint\n",
    "                @constraint(subproblem, w[k,t] <= sum(Qreal[r,t] for r in find_us_reservoir(k.reservoir)) * k.equivalent)\n",
    "                # On-Off and Maximum Generation Constraint\n",
    "                @constraint(subproblem, u[k,t] * 0 <= w[k,t])\n",
    "                @constraint(subproblem, w[k,t] <= u[k,t] * 0.5 * k.equivalent * k.spill_reference_level)\n",
    "                if t > 1\n",
    "                    # Start-Up\n",
    "                    @constraint(subproblem, delta_start[k, t] >= u[k,t] - u[k,t-1])\n",
    "                end\n",
    "            end\n",
    "        end\n",
    "\n",
    "        for r in res\n",
    "            # Average Discharge Constraint\n",
    "            @constraint(subproblem, sum(Qreal[r,t] for t in 1:Hours) == Qnom[r].in)\n",
    "            # Negative Individual Reservoir Complications\n",
    "            @constraint(subproblem, delta_ind[r] => {Qnom_change[r] <= Qref[r]})\n",
    "            @constraint(subproblem, !delta_ind[r] => {0 <= l_ind[r].in})\n",
    "        end\n",
    "        # Parametrize Uncertainty\n",
    "        SDDP.parameterize(subproblem, Omega, P) do om\n",
    "            for r in res\n",
    "                JuMP.fix(Qinflow[r], om.inflow)\n",
    "            end\n",
    "            for t in 1:Hours\n",
    "                for i in 1:I\n",
    "                    if (om.price[t] <= PricePoints[i+1]) && (om.price[t] >= PricePoints[i])\n",
    "                        # Market Clearing Constraint\n",
    "                        @constraint(subproblem, y[t] == ((om.price[t] - PricePoints[i])/(PricePoints[i+1] - PricePoints[i]))*x[i+1,t].in + ((PricePoints[i+1] - om.price[t])/(PricePoints[i+1] - PricePoints[i]))*x[i,t].in)\n",
    "                    end\n",
    "                end\n",
    "            end\n",
    "            # Stage-objective\n",
    "            @stageobjective(\n",
    "                #subproblem, sum(y[t] * om.price[t] - sum(S * delta_start[k, t] for k in j.plants) - (mu_up * z_up[t] + mu_down * z_down[t]) for t in 1:Hours)\n",
    "                subproblem, sum(y[t] * om.price[t]  for t in 1:Hours)\n",
    "                )\n",
    "        end\n",
    "    end\n",
    "    return\n",
    "end\n"
   ]
  },
  {
   "cell_type": "code",
   "execution_count": 10,
   "metadata": {},
   "outputs": [
    {
     "name": "stdout",
     "output_type": "stream",
     "text": [
      "0.0\n"
     ]
    },
    {
     "name": "stdout",
     "output_type": "stream",
     "text": [
      "(price = [0.474, 0.224, 0.853, 0.077, 0.264, 0.0775, 0.727, 0.504, 0.433, 0.942, 0.662, 0.645, 0.878, 0.807, 0.844, 0.382, 0.701, 0.256, 0.281, 0.574, 0.488, 0.0589, 0.863, 0.356], inflow = 0.0)\n",
      "(price = ["
     ]
    },
    {
     "name": "stdout",
     "output_type": "stream",
     "text": [
      "0.0331, 0.65, 0.157, 0.486, 0.905, 0.317, 0.937, 0.656, 0.0507, 0.66, 0.857, 0.275, 0.456, 0.131, 0.991, 0.409, 0.517, 0.837, 0.33, 0.999, 0.296, 0.126, 0.222, 0.591], inflow = 0.0)\n"
     ]
    }
   ],
   "source": [
    "for i in 1:I\n",
    "    println(PricePoints[i])\n",
    "end\n",
    "for el in Omega\n",
    "    println(el)\n",
    "end\n"
   ]
  },
  {
   "cell_type": "code",
   "execution_count": 11,
   "metadata": {},
   "outputs": [
    {
     "data": {
      "text/plain": [
       "A policy graph with 8 nodes.\n",
       " Node indices: 1, 2, 3, 4, 5, 6, 7, 8\n"
      ]
     },
     "metadata": {},
     "output_type": "display_data"
    }
   ],
   "source": [
    "model = SDDP.LinearPolicyGraph(\n",
    "    subproblem_builder;\n",
    "    stages = 8,\n",
    "    sense = :Max,\n",
    "    upper_bound = 1e3,\n",
    "    optimizer = CPLEX.Optimizer\n",
    ")"
   ]
  },
  {
   "cell_type": "markdown",
   "metadata": {},
   "source": [
    "### Train the model"
   ]
  },
  {
   "cell_type": "code",
   "execution_count": 12,
   "metadata": {},
   "outputs": [
    {
     "name": "stdout",
     "output_type": "stream",
     "text": [
      "-------------------------------------------------------------------\n",
      "         SDDP.jl (c) Oscar Dowson and contributors, 2017-23\n",
      "-------------------------------------------------------------------"
     ]
    },
    {
     "name": "stdout",
     "output_type": "stream",
     "text": [
      "\n",
      "problem\n",
      "  nodes           : 8\n",
      "  state variables : 51\n",
      "  scenarios       : 1.28000e+02\n",
      "  existing cuts   : false\n"
     ]
    },
    {
     "name": "stdout",
     "output_type": "stream",
     "text": [
      "options\n",
      "  solver          : serial mode\n",
      "  risk measure    : "
     ]
    },
    {
     "name": "stdout",
     "output_type": "stream",
     "text": [
      "SDDP.Expectation()\n",
      "  sampling scheme : SDDP.InSampleMonteCarlo\n",
      "subproblem structure\n",
      "  VariableRef                                                                   : [610, 610"
     ]
    },
    {
     "name": "stdout",
     "output_type": "stream",
     "text": [
      "]\n",
      "  AffExpr in MOI.EqualTo{Float64}                                               : [51, 76]\n",
      "  AffExpr in MOI.GreaterThan{Float64}                                           : [115, 115]\n",
      "  AffExpr in MOI.LessThan{Float64}                                              : [25, 384]\n",
      "  VariableRef in MOI.GreaterThan{Float64}                                       : [146, 147]\n",
      "  VariableRef in MOI.LessThan{Float64}                                          : [2, 2]\n",
      "  VariableRef in MOI.ZeroOne                                                    : [241, 241]\n"
     ]
    },
    {
     "name": "stdout",
     "output_type": "stream",
     "text": [
      "  Vector{AffExpr} in MOI.Indicator{MOI.ACTIVATE_ON_ONE, MOI.LessThan{Float64}}  : [1, 1]\n",
      "  Vector{AffExpr} in MOI.Indicator{MOI.ACTIVATE_ON_ZERO, MOI.LessThan{Float64}} : [1, 1]\n"
     ]
    },
    {
     "name": "stdout",
     "output_type": "stream",
     "text": [
      "numerical stability report\n",
      "  matrix range     [1e-03, 2e+01]\n",
      "  objective range  [3e-02, 1e+00]\n",
      "  bounds range     [1e+03, 4e+04]\n",
      "  rhs range        [2e+01, 2e+01]\n",
      "-------------------------------------------------------------------\n",
      " iteration    simulation      bound        time (s)     solves  pid\n"
     ]
    },
    {
     "name": "stdout",
     "output_type": "stream",
     "text": [
      "-------------------------------------------------------------------\n"
     ]
    },
    {
     "name": "stderr",
     "output_type": "stream",
     "text": [
      "┌ Info: Writing cuts to the file `model.cuts.json`\n",
      "└ @ SDDP C:\\Users\\Lenni\\.julia\\packages\\SDDP\\ppkik\\src\\algorithm.jl:287\n"
     ]
    },
    {
     "ename": "ErrorException",
     "evalue": "Unable to retrieve solution from node 8.\n\n  Termination status : INFEASIBLE\n  Primal status      : NO_SOLUTION\n  Dual status        : NO_SOLUTION.\n\nThe current subproblem was written to `subproblem_8.mof.json`.\n\nThere are two common causes of this error:\n  1) you have a mistake in your formulation, or you violated\n     the assumption of relatively complete recourse\n  2) the solver encountered numerical issues\n\nSee https://odow.github.io/SDDP.jl/stable/tutorial/warnings/ for more information.",
     "output_type": "error",
     "traceback": [
      "Unable to retrieve solution from node 8.\n",
      "\n",
      "  Termination status : INFEASIBLE\n",
      "  Primal status      : NO_SOLUTION\n",
      "  Dual status        : NO_SOLUTION.\n",
      "\n",
      "The current subproblem was written to `subproblem_8.mof.json`.\n",
      "\n",
      "There are two common causes of this error:\n",
      "  1) you have a mistake in your formulation, or you violated\n",
      "     the assumption of relatively complete recourse\n",
      "  2) the solver encountered numerical issues\n",
      "\n",
      "See https://odow.github.io/SDDP.jl/stable/tutorial/warnings/ for more information.\n",
      "\n",
      "Stacktrace:\n",
      "  [1] error(::String, ::String, ::String, ::String, ::String, ::String, ::String, ::String, ::String, ::String)\n",
      "    @ Base .\\error.jl:44\n",
      "  [2] write_subproblem_to_file(node::SDDP.Node{Int64}, filename::String; throw_error::Bool)\n",
      "    @ SDDP C:\\Users\\Lenni\\.julia\\packages\\SDDP\\ppkik\\src\\algorithm.jl:247\n",
      "  [3] write_subproblem_to_file\n",
      "    @ C:\\Users\\Lenni\\.julia\\packages\\SDDP\\ppkik\\src\\algorithm.jl:238 [inlined]\n",
      "  [4] attempt_numerical_recovery(model::SDDP.PolicyGraph{Int64}, node::SDDP.Node{Int64})\n",
      "    @ SDDP C:\\Users\\Lenni\\.julia\\packages\\SDDP\\ppkik\\src\\algorithm.jl:289\n",
      "  [5] solve_subproblem(model::SDDP.PolicyGraph{Int64}, node::SDDP.Node{Int64}, state::Dict{Symbol, Float64}, noise::NamedTuple{(:price, :inflow), Tuple{Vector{Float64}, Float64}}, scenario_path::Vector{Tuple{Int64, Any}}; duality_handler::Nothing)\n",
      "    @ SDDP C:\\Users\\Lenni\\.julia\\packages\\SDDP\\ppkik\\src\\algorithm.jl:417\n",
      "  [6] _simulate(model::SDDP.PolicyGraph{Int64}, variables::Vector{Symbol}; sampling_scheme::SDDP.PSRSamplingScheme{SDDP.InSampleMonteCarlo}, custom_recorders::Dict{Symbol, Function}, duality_handler::Nothing, skip_undefined_variables::Bool, incoming_state::Dict{Symbol, Float64})\n",
      "    @ SDDP C:\\Users\\Lenni\\.julia\\packages\\SDDP\\ppkik\\src\\algorithm.jl:1181\n",
      "  [7] _simulate\n",
      "    @ C:\\Users\\Lenni\\.julia\\packages\\SDDP\\ppkik\\src\\algorithm.jl:1135 [inlined]\n",
      "  [8] #246\n",
      "    @ C:\\Users\\Lenni\\.julia\\packages\\SDDP\\ppkik\\src\\plugins\\parallel_schemes.jl:63 [inlined]\n",
      "  [9] iterate\n",
      "    @ .\\generator.jl:47 [inlined]\n",
      " [10] _collect(c::UnitRange{Int64}, itr::Base.Generator{UnitRange{Int64}, SDDP.var\"#246#247\"{Base.Pairs{Symbol, Any, NTuple{5, Symbol}, NamedTuple{(:sampling_scheme, :custom_recorders, :duality_handler, :skip_undefined_variables, :incoming_state), Tuple{SDDP.PSRSamplingScheme{SDDP.InSampleMonteCarlo}, Dict{Symbol, Function}, Nothing, Bool, Dict{Symbol, Float64}}}}, SDDP.PolicyGraph{Int64}, Vector{Symbol}}}, #unused#::Base.EltypeUnknown, isz::Base.HasShape{1})\n",
      "    @ Base .\\array.jl:802\n",
      " [11] collect_similar\n",
      "    @ .\\array.jl:711 [inlined]\n",
      " [12] map\n",
      "    @ .\\abstractarray.jl:3261 [inlined]\n",
      " [13] #_simulate#245\n",
      "    @ C:\\Users\\Lenni\\.julia\\packages\\SDDP\\ppkik\\src\\plugins\\parallel_schemes.jl:62 [inlined]\n",
      " [14] _simulate\n",
      "    @ C:\\Users\\Lenni\\.julia\\packages\\SDDP\\ppkik\\src\\plugins\\parallel_schemes.jl:54 [inlined]\n",
      " [15] #simulate#109\n",
      "    @ C:\\Users\\Lenni\\.julia\\packages\\SDDP\\ppkik\\src\\algorithm.jl:1347 [inlined]\n",
      " [16] simulate\n",
      "    @ C:\\Users\\Lenni\\.julia\\packages\\SDDP\\ppkik\\src\\algorithm.jl:1336 [inlined]\n",
      " [17] (::SDDP.var\"#simulator#224\"{SDDP.PSRSamplingScheme{SDDP.InSampleMonteCarlo}})(model::SDDP.PolicyGraph{Int64}, N::Int64)\n",
      "    @ SDDP C:\\Users\\Lenni\\.julia\\packages\\SDDP\\ppkik\\src\\plugins\\stopping_rules.jl:265\n",
      " [18] convergence_test(model::SDDP.PolicyGraph{Int64}, log::Vector{SDDP.Log}, rule::SDDP.SimulationStoppingRule{SDDP.var\"#simulator#224\"{SDDP.PSRSamplingScheme{SDDP.InSampleMonteCarlo}}})\n",
      "    @ SDDP C:\\Users\\Lenni\\.julia\\packages\\SDDP\\ppkik\\src\\plugins\\stopping_rules.jl:325\n",
      " [19] convergence_test(graph::SDDP.PolicyGraph{Int64}, log::Vector{SDDP.Log}, stopping_rules::Vector{SDDP.AbstractStoppingRule})\n",
      "    @ SDDP C:\\Users\\Lenni\\.julia\\packages\\SDDP\\ppkik\\src\\plugins\\headers.jl:92\n",
      " [20] iteration(model::SDDP.PolicyGraph{Int64}, options::SDDP.Options{Int64})\n",
      "    @ SDDP C:\\Users\\Lenni\\.julia\\packages\\SDDP\\ppkik\\src\\algorithm.jl:837\n",
      " [21] master_loop(#unused#::SDDP.Serial, model::SDDP.PolicyGraph{Int64}, options::SDDP.Options{Int64})\n",
      "    @ SDDP C:\\Users\\Lenni\\.julia\\packages\\SDDP\\ppkik\\src\\plugins\\parallel_schemes.jl:44\n",
      " [22] train(model::SDDP.PolicyGraph{Int64}; iteration_limit::Int64, time_limit::Nothing, print_level::Int64, log_file::String, log_frequency::Int64, log_every_seconds::Float64, run_numerical_stability_report::Bool, stopping_rules::Vector{SDDP.AbstractStoppingRule}, risk_measure::SDDP.Expectation, sampling_scheme::SDDP.InSampleMonteCarlo, cut_type::SDDP.CutType, cycle_discretization_delta::Float64, refine_at_similar_nodes::Bool, cut_deletion_minimum::Int64, backward_sampling_scheme::SDDP.CompleteSampler, dashboard::Bool, parallel_scheme::SDDP.Serial, forward_pass::SDDP.DefaultForwardPass, forward_pass_resampling_probability::Nothing, add_to_existing_cuts::Bool, duality_handler::SDDP.LagrangianDuality, forward_pass_callback::SDDP.var\"#97#104\", post_iteration_callback::SDDP.var\"#98#105\")\n",
      "    @ SDDP C:\\Users\\Lenni\\.julia\\packages\\SDDP\\ppkik\\src\\algorithm.jl:1100\n",
      " [23] top-level scope\n",
      "    @ c:\\Users\\Lenni\\Documents\\Master Thesis\\Code Master Thesis\\Code-Master-Thesis\\DevelopmentBidding.ipynb:1"
     ]
    }
   ],
   "source": [
    "SDDP.train(model; iteration_limit = 1, duality_handler = SDDP.LagrangianDuality())"
   ]
  },
  {
   "cell_type": "markdown",
   "metadata": {},
   "source": [
    "### Obtain the Bidding and Nomination Decisions"
   ]
  },
  {
   "cell_type": "code",
   "execution_count": 13,
   "metadata": {},
   "outputs": [
    {
     "data": {
      "text/plain": [
       "(stage_objective = 0, outgoing_state = Dict(Symbol(\"x[2,24]\") => 0.0, Symbol(\"x[2,8]\") => 0.0, Symbol(\"x[1,4]\") => 0.0, Symbol(\"x[2,4]\") => 0.0, Symbol(\"x[1,24]\") => 0.0, Symbol(\"x[2,6]\") => 0.0, Symbol(\"x[2,21]\") => 0.0, Symbol(\"x[1,7]\") => 0.0, Symbol(\"x[1,17]\") => 0.0, Symbol(\"x[1,5]\") => 0.0…), controls = Dict{Symbol, AbstractVector}(:Qnom => 1-dimensional DenseAxisArray{SDDP.State{Float64},1,...} with index sets:\n",
       "    Dimension 1, Reservoir[Reservoir with name: Flasjön\n",
       "]\n",
       "And data, a 1-element Vector{SDDP.State{Float64}}:\n",
       " SDDP.State{Float64}(0.0, 0.0), :y => [0.0, 0.0, 0.0, 0.0, 0.0, 0.0, 0.0, 0.0, 0.0, 0.0  …  0.0, 0.0, 0.0, 0.0, 0.0, 0.0, 0.0, 0.0, 0.0, 0.0], :z_down => [0.0, 0.0, 0.0, 0.0, 0.0, 0.0, 0.0, 0.0, 0.0, 0.0  …  0.0, 0.0, 0.0, 0.0, 0.0, 0.0, 0.0, 0.0, 0.0, 0.0], :z_up => [0.0, 0.0, 0.0, 0.0, 0.0, 0.0, 0.0, 0.0, 0.0, 0.0  …  0.0, 0.0, 0.0, 0.0, 0.0, 0.0, 0.0, 0.0, 0.0, 0.0]))"
      ]
     },
     "metadata": {},
     "output_type": "display_data"
    }
   ],
   "source": [
    "rule = SDDP.DecisionRule(model; node = 1)\n",
    "solution = SDDP.evaluate(\n",
    "    rule;\n",
    "    incoming_state = merge(Dict(Symbol(\"l_real[$(r)]\") => r.currentvolume for r in res), Dict(Symbol(\"l_ind[$(r)]\") => r.currentvolume for r in res)),\n",
    "    controls_to_record = [:Qnom, :y, :z_up, :z_down]\n",
    ")\n"
   ]
  },
  {
   "cell_type": "code",
   "execution_count": 14,
   "metadata": {},
   "outputs": [],
   "source": []
  },
  {
   "cell_type": "code",
   "execution_count": 15,
   "metadata": {},
   "outputs": [],
   "source": []
  }
 ],
 "metadata": {
  "kernelspec": {
   "display_name": "Julia 1.9.1",
   "language": "julia",
   "name": "julia-1.9"
  },
  "language_info": {
   "file_extension": ".jl",
   "mimetype": "application/julia",
   "name": "julia",
   "version": "1.9.1"
  },
  "orig_nbformat": 4
 },
 "nbformat": 4,
 "nbformat_minor": 2
}
