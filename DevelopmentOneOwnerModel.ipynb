{
 "cells": [
  {
   "cell_type": "markdown",
   "metadata": {},
   "source": [
    "### One Owner Model\n",
    "\n",
    "As a benchmark to the revenues generated from the producers inside the water regulation procedure, we will have a look at how a theoretical river system behaves, where every power plant is operated by one decision maker. The revenues are then distributed according to how much production capacity the individual producers have: If producer A has a total of 1 and producer B has a total of 2 for all equivalents, then B gets 2/3 of the revenue and A gets 1/3.  \n",
    "We will see how much revenue will be generated and compare this to the revenue generated in the water regulation system.  \n",
    "\n",
    "We can leave out the water regulation rules in these optimization models. We develop \n",
    "\n",
    "* Stochastic Bidding Model\n",
    "* Stochastic Short-Term Optimization Model\n",
    "\n",
    "We obviously don't have to do any balancing other than necessary in this problem, as we can freely adjust how much water we use without any constraint on average discharge. \n"
   ]
  },
  {
   "cell_type": "code",
   "execution_count": null,
   "metadata": {},
   "outputs": [],
   "source": []
  }
 ],
 "metadata": {
  "language_info": {
   "name": "python"
  },
  "orig_nbformat": 4
 },
 "nbformat": 4,
 "nbformat_minor": 2
}
