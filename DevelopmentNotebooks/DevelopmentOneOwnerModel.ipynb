{
 "cells": [
  {
   "cell_type": "markdown",
   "metadata": {},
   "source": [
    "### One Owner Model\n",
    "\n",
    "As a benchmark to the revenues generated from the producers inside the water regulation procedure, we will have a look at how a theoretical river system behaves, where every power plant is operated by one decision maker. The revenues are then distributed according to how much production capacity the individual producers have: If producer A has a total of 1 and producer B has a total of 2 for all equivalents, then B gets 2/3 of the revenue and A gets 1/3.  \n",
    "We will see how much revenue will be generated and compare this to the revenue generated in the water regulation system.  \n",
    "\n",
    "We can leave out the water regulation rules in these optimization models. We develop \n",
    "\n",
    "* Stochastic Bidding Model\n",
    "* Stochastic Short-Term Optimization Model\n",
    "\n",
    "We obviously don't have to do any balancing other than necessary in this problem, as we can freely adjust how much water we use without any constraint on average discharge. \n"
   ]
  },
  {
   "cell_type": "code",
   "execution_count": 45,
   "metadata": {},
   "outputs": [],
   "source": [
    "using JuMP\n",
    "using CPLEX\n",
    "using Distributions\n",
    "using Combinatorics\n",
    "using LinearAlgebra\n",
    "using Statistics\n",
    "using Dates\n",
    "using DataFrames\n",
    "using SDDP\n",
    "using Plots\n",
    "import CSV\n",
    "using JSON\n",
    "try\n",
    "    using Revise\n",
    "catch e\n",
    "    @warn \"Error initializing Revise\" exception=(e, catch_backtrace())\n",
    "end\n",
    "\n",
    "includet(pwd() * \"\\\\Water_Regulation\\\\WaterRegulation.jl\")\n",
    "using .WaterRegulation"
   ]
  },
  {
   "cell_type": "code",
   "execution_count": 17,
   "metadata": {},
   "outputs": [
    {
     "name": "stdout",
     "output_type": "stream",
     "text": [
      "Reservoirs: [\"Flasjon\", \"Holsmjon\"]\n",
      "Power Plants - Spill Reference\n",
      "Flasjo -  58.0\n",
      "Trangfors -  105.0\n",
      "Ratan -  115.0\n",
      "Turinge -  105.0\n",
      "Bursnas -  105.0\n",
      "Jarnvagsforsen -  145.0\n",
      "Parteboda -  140.0\n",
      "Hermansboda -  140.0\n",
      "Ljunga -  145.0\n",
      "Nederede -  240.0\n",
      "Skallbole -  265.0\n",
      "Matfors -  250.0\n",
      "Viforsen -  160.0\n"
     ]
    }
   ],
   "source": [
    "filepath_Ljungan = pwd() * \"\\\\Water_Regulation\\\\TestDataWaterRegulation\\\\Ljungan.json\"\n",
    "filepath_prices = pwd() *  \"\\\\Data\\\\Spot Prices\\\\prices_df.csv\"\n",
    "filepath_results = pwd() * \"\\\\Results\\\\LambdaZero\\\\\"\n",
    "R, K, J = read_data(filepath_Ljungan)\n",
    "println(\"Reservoirs: \", [r.dischargepoint for r in R])\n",
    "println(\"Power Plants - Spill Reference\")\n",
    "for k in K\n",
    "    println(\"$(k.name) -  $(k.spillreference)\")\n",
    "end"
   ]
  },
  {
   "cell_type": "markdown",
   "metadata": {},
   "source": [
    "#### Data"
   ]
  },
  {
   "cell_type": "code",
   "execution_count": 31,
   "metadata": {},
   "outputs": [
    {
     "data": {
      "text/plain": [
       "(Dict{Int64, Vector{NamedTuple{(:inflow, :price), Tuple{Dict{Reservoir, Float64}, Float64}}}}(5 => [(inflow = ________________________________\n",
       "Flasjon  | 6.667606913407977\n",
       "Holsmjon | 3.22193019080804\n",
       ", price = 75.69208556626462), (inflow = ________________________________\n",
       "Flasjon  | 4.7487184073294335\n",
       "Holsmjon | 14.028513360519023\n",
       ", price = 75.69208556626462), (inflow = ________________________________\n",
       "Flasjon  | 9.988777169608221\n",
       "Holsmjon | 2.4244299112800367\n",
       ", price = 75.69208556626462), (inflow = ________________________________\n",
       "Flasjon  | 6.667606913407977\n",
       "Holsmjon | 3.22193019080804\n",
       ", price = 69.67641932648527), (inflow = ________________________________\n",
       "Flasjon  | 4.7487184073294335\n",
       "Holsmjon | 14.028513360519023\n",
       ", price = 69.67641932648527), (inflow = ________________________________\n",
       "Flasjon  | 9.988777169608221\n",
       "Holsmjon | 2.4244299112800367\n",
       ", price = 69.67641932648527), (inflow = ________________________________\n",
       "Flasjon  | 6.667606913407977\n",
       "Holsmjon | 3.22193019080804\n",
       ", price = 55.68182658544729), (inflow = ________________________________\n",
       "Flasjon  | 4.7487184073294335\n",
       "Holsmjon | 14.028513360519023\n",
       ", price = 55.68182658544729), (inflow = ________________________________\n",
       "Flasjon  | 9.988777169608221\n",
       "Holsmjon | 2.4244299112800367\n",
       ", price = 55.68182658544729)], 16 => [(inflow = ________________________________\n",
       "Flasjon  | 22.644906908517687\n",
       "Holsmjon | 136.8112712217617\n",
       ", price = 27.551465802549902), (inflow = ________________________________\n",
       "Flasjon  | 0.0     \n",
       "Holsmjon | 50.322101413262764\n",
       ", price = 27.551465802549902), (inflow = ________________________________\n",
       "Flasjon  | 26.957620543331895\n",
       "Holsmjon | 99.20054829536555\n",
       ", price = 27.551465802549902), (inflow = ________________________________\n",
       "Flasjon  | 22.644906908517687\n",
       "Holsmjon | 136.8112712217617\n",
       ", price = 76.96655927493364), (inflow = ________________________________\n",
       "Flasjon  | 0.0     \n",
       "Holsmjon | 50.322101413262764\n",
       ", price = 76.96655927493364), (inflow = ________________________________\n",
       "Flasjon  | 26.957620543331895\n",
       "Holsmjon | 99.20054829536555\n",
       ", price = 76.96655927493364), (inflow = ________________________________\n",
       "Flasjon  | 22.644906908517687\n",
       "Holsmjon | 136.8112712217617\n",
       ", price = 111.5579078823737), (inflow = ________________________________\n",
       "Flasjon  | 0.0     \n",
       "Holsmjon | 50.322101413262764\n",
       ", price = 111.5579078823737), (inflow = ________________________________\n",
       "Flasjon  | 26.957620543331895\n",
       "Holsmjon | 99.20054829536555\n",
       ", price = 111.5579078823737)], 20 => [(inflow = ________________________________\n",
       "Flasjon  | 249.98119628010565\n",
       "Holsmjon | 62.83859442501383\n",
       ", price = 63.82411156042696), (inflow = ________________________________\n",
       "Flasjon  | 82.44873208744039\n",
       "Holsmjon | 142.9374874305929\n",
       ", price = 63.82411156042696), (inflow = ________________________________\n",
       "Flasjon  | 0.0     \n",
       "Holsmjon | 189.27411635753168\n",
       ", price = 63.82411156042696), (inflow = ________________________________\n",
       "Flasjon  | 249.98119628010565\n",
       "Holsmjon | 62.83859442501383\n",
       ", price = 113.6592453977135), (inflow = ________________________________\n",
       "Flasjon  | 82.44873208744039\n",
       "Holsmjon | 142.9374874305929\n",
       ", price = 113.6592453977135), (inflow = ________________________________\n",
       "Flasjon  | 0.0     \n",
       "Holsmjon | 189.27411635753168\n",
       ", price = 113.6592453977135), (inflow = ________________________________\n",
       "Flasjon  | 249.98119628010565\n",
       "Holsmjon | 62.83859442501383\n",
       ", price = 98.30913832569466), (inflow = ________________________________\n",
       "Flasjon  | 82.44873208744039\n",
       "Holsmjon | 142.9374874305929\n",
       ", price = 98.30913832569466), (inflow = ________________________________\n",
       "Flasjon  | 0.0     \n",
       "Holsmjon | 189.27411635753168\n",
       ", price = 98.30913832569466)], 35 => [(inflow = ________________________________\n",
       "Flasjon  | 7.155249297586393\n",
       "Holsmjon | 30.621837717871752\n",
       ", price = 63.52614521259755), (inflow = ________________________________\n",
       "Flasjon  | 28.339202445390878\n",
       "Holsmjon | 8.897071354631935\n",
       ", price = 63.52614521259755), (inflow = ________________________________\n",
       "Flasjon  | 24.130146318913653\n",
       "Holsmjon | 42.693157186485614\n",
       ", price = 63.52614521259755), (inflow = ________________________________\n",
       "Flasjon  | 7.155249297586393\n",
       "Holsmjon | 30.621837717871752\n",
       ", price = 161.15708678097477), (inflow = ________________________________\n",
       "Flasjon  | 28.339202445390878\n",
       "Holsmjon | 8.897071354631935\n",
       ", price = 161.15708678097477), (inflow = ________________________________\n",
       "Flasjon  | 24.130146318913653\n",
       "Holsmjon | 42.693157186485614\n",
       ", price = 161.15708678097477), (inflow = ________________________________\n",
       "Flasjon  | 7.155249297586393\n",
       "Holsmjon | 30.621837717871752\n",
       ", price = 138.6668538505506), (inflow = ________________________________\n",
       "Flasjon  | 28.339202445390878\n",
       "Holsmjon | 8.897071354631935\n",
       ", price = 138.6668538505506), (inflow = ________________________________\n",
       "Flasjon  | 24.130146318913653\n",
       "Holsmjon | 42.693157186485614\n",
       ", price = 138.6668538505506)], 30 => [(inflow = ________________________________\n",
       "Flasjon  | 63.95362624531393\n",
       "Holsmjon | 19.235170128436813\n",
       ", price = 124.2339774660115), (inflow = ________________________________\n",
       "Flasjon  | 43.549849584188635\n",
       "Holsmjon | 67.94835800635161\n",
       ", price = 124.2339774660115), (inflow = ________________________________\n",
       "Flasjon  | 62.59883774975022\n",
       "Holsmjon | 115.63953779551234\n",
       ", price = 124.2339774660115), (inflow = ________________________________\n",
       "Flasjon  | 63.95362624531393\n",
       "Holsmjon | 19.235170128436813\n",
       ", price = 58.5589371921116), (inflow = ________________________________\n",
       "Flasjon  | 43.549849584188635\n",
       "Holsmjon | 67.94835800635161\n",
       ", price = 58.5589371921116), (inflow = ________________________________\n",
       "Flasjon  | 62.59883774975022\n",
       "Holsmjon | 115.63953779551234\n",
       ", price = 58.5589371921116), (inflow = ________________________________\n",
       "Flasjon  | 63.95362624531393\n",
       "Holsmjon | 19.235170128436813\n",
       ", price = 125.72854146499571), (inflow = ________________________________\n",
       "Flasjon  | 43.549849584188635\n",
       "Holsmjon | 67.94835800635161\n",
       ", price = 125.72854146499571), (inflow = ________________________________\n",
       "Flasjon  | 62.59883774975022\n",
       "Holsmjon | 115.63953779551234\n",
       ", price = 125.72854146499571)], 19 => [(inflow = ________________________________\n",
       "Flasjon  | 74.70683586427702\n",
       "Holsmjon | 193.74349306714953\n",
       ", price = 153.2996704391228), (inflow = ________________________________\n",
       "Flasjon  | 0.0     \n",
       "Holsmjon | 182.47374994279667\n",
       ", price = 153.2996704391228), (inflow = ________________________________\n",
       "Flasjon  | 78.91221161661187\n",
       "Holsmjon | 146.95566391390238\n",
       ", price = 153.2996704391228), (inflow = ________________________________\n",
       "Flasjon  | 74.70683586427702\n",
       "Holsmjon | 193.74349306714953\n",
       ", price = 108.48015653400631), (inflow = ________________________________\n",
       "Flasjon  | 0.0     \n",
       "Holsmjon | 182.47374994279667\n",
       ", price = 108.48015653400631), (inflow = ________________________________\n",
       "Flasjon  | 78.91221161661187\n",
       "Holsmjon | 146.95566391390238\n",
       ", price = 108.48015653400631), (inflow = ________________________________\n",
       "Flasjon  | 74.70683586427702\n",
       "Holsmjon | 193.74349306714953\n",
       ", price = 46.00749020555931), (inflow = ________________________________\n",
       "Flasjon  | 0.0     \n",
       "Holsmjon | 182.47374994279667\n",
       ", price = 46.00749020555931), (inflow = ________________________________\n",
       "Flasjon  | 78.91221161661187\n",
       "Holsmjon | 146.95566391390238\n",
       ", price = 46.00749020555931)], 32 => [(inflow = ________________________________\n",
       "Flasjon  | 16.905706042135737\n",
       "Holsmjon | 49.6201376073803\n",
       ", price = 94.14289895299666), (inflow = ________________________________\n",
       "Flasjon  | 53.87360414286744\n",
       "Holsmjon | 83.8408085473495\n",
       ", price = 94.14289895299666), (inflow = ________________________________\n",
       "Flasjon  | 0.0     \n",
       "Holsmjon | 40.239954362027525\n",
       ", price = 94.14289895299666), (inflow = ________________________________\n",
       "Flasjon  | 16.905706042135737\n",
       "Holsmjon | 49.6201376073803\n",
       ", price = 62.14844345137648), (inflow = ________________________________\n",
       "Flasjon  | 53.87360414286744\n",
       "Holsmjon | 83.8408085473495\n",
       ", price = 62.14844345137648), (inflow = ________________________________\n",
       "Flasjon  | 0.0     \n",
       "Holsmjon | 40.239954362027525\n",
       ", price = 62.14844345137648), (inflow = ________________________________\n",
       "Flasjon  | 16.905706042135737\n",
       "Holsmjon | 49.6201376073803\n",
       ", price = 31.113218936486906), (inflow = ________________________________\n",
       "Flasjon  | 53.87360414286744\n",
       "Holsmjon | 83.8408085473495\n",
       ", price = 31.113218936486906), (inflow = ________________________________\n",
       "Flasjon  | 0.0     \n",
       "Holsmjon | 40.239954362027525\n",
       ", price = 31.113218936486906)], 49 => [(inflow = ________________________________\n",
       "Flasjon  | 5.266944584747649\n",
       "Holsmjon | 20.217697790784058\n",
       ", price = 202.61602562276195), (inflow = ________________________________\n",
       "Flasjon  | 7.295947042555198\n",
       "Holsmjon | 50.83493082223914\n",
       ", price = 202.61602562276195), (inflow = ________________________________\n",
       "Flasjon  | 12.860034386144585\n",
       "Holsmjon | 91.00695593079847\n",
       ", price = 202.61602562276195), (inflow = ________________________________\n",
       "Flasjon  | 5.266944584747649\n",
       "Holsmjon | 20.217697790784058\n",
       ", price = 17.049652474064914), (inflow = ________________________________\n",
       "Flasjon  | 7.295947042555198\n",
       "Holsmjon | 50.83493082223914\n",
       ", price = 17.049652474064914), (inflow = ________________________________\n",
       "Flasjon  | 12.860034386144585\n",
       "Holsmjon | 91.00695593079847\n",
       ", price = 17.049652474064914), (inflow = ________________________________\n",
       "Flasjon  | 5.266944584747649\n",
       "Holsmjon | 20.217697790784058\n",
       ", price = 74.89269026690934), (inflow = ________________________________\n",
       "Flasjon  | 7.295947042555198\n",
       "Holsmjon | 50.83493082223914\n",
       ", price = 74.89269026690934), (inflow = ________________________________\n",
       "Flasjon  | 12.860034386144585\n",
       "Holsmjon | 91.00695593079847\n",
       ", price = 74.89269026690934)], 6 => [(inflow = ________________________________\n",
       "Flasjon  | 8.518440830604758\n",
       "Holsmjon | 8.56833556954172\n",
       ", price = 74.35130307263042), (inflow = ________________________________\n",
       "Flasjon  | 10.665938544723378\n",
       "Holsmjon | 7.837913268784922\n",
       ", price = 74.35130307263042), (inflow = ________________________________\n",
       "Flasjon  | 9.549432881888505\n",
       "Holsmjon | 19.84693422115052\n",
       ", price = 74.35130307263042), (inflow = ________________________________\n",
       "Flasjon  | 8.518440830604758\n",
       "Holsmjon | 8.56833556954172\n",
       ", price = 33.54057007993948), (inflow = ________________________________\n",
       "Flasjon  | 10.665938544723378\n",
       "Holsmjon | 7.837913268784922\n",
       ", price = 33.54057007993948), (inflow = ________________________________\n",
       "Flasjon  | 9.549432881888505\n",
       "Holsmjon | 19.84693422115052\n",
       ", price = 33.54057007993948), (inflow = ________________________________\n",
       "Flasjon  | 8.518440830604758\n",
       "Holsmjon | 8.56833556954172\n",
       ", price = 156.26346622531872), (inflow = ________________________________\n",
       "Flasjon  | 10.665938544723378\n",
       "Holsmjon | 7.837913268784922\n",
       ", price = 156.26346622531872), (inflow = ________________________________\n",
       "Flasjon  | 9.549432881888505\n",
       "Holsmjon | 19.84693422115052\n",
       ", price = 156.26346622531872)], 45 => [(inflow = ________________________________\n",
       "Flasjon  | 7.105734621200685\n",
       "Holsmjon | 0.0     \n",
       ", price = 153.8218482876142), (inflow = ________________________________\n",
       "Flasjon  | 42.16407925391946\n",
       "Holsmjon | 72.18181801677468\n",
       ", price = 153.8218482876142), (inflow = ________________________________\n",
       "Flasjon  | 25.918990704721615\n",
       "Holsmjon | 27.344583977326646\n",
       ", price = 153.8218482876142), (inflow = ________________________________\n",
       "Flasjon  | 7.105734621200685\n",
       "Holsmjon | 0.0     \n",
       ", price = 47.24966933429349), (inflow = ________________________________\n",
       "Flasjon  | 42.16407925391946\n",
       "Holsmjon | 72.18181801677468\n",
       ", price = 47.24966933429349), (inflow = ________________________________\n",
       "Flasjon  | 25.918990704721615\n",
       "Holsmjon | 27.344583977326646\n",
       ", price = 47.24966933429349), (inflow = ________________________________\n",
       "Flasjon  | 7.105734621200685\n",
       "Holsmjon | 0.0     \n",
       ", price = 190.95050294804236), (inflow = ________________________________\n",
       "Flasjon  | 42.16407925391946\n",
       "Holsmjon | 72.18181801677468\n",
       ", price = 190.95050294804236), (inflow = ________________________________\n",
       "Flasjon  | 25.918990704721615\n",
       "Holsmjon | 27.344583977326646\n",
       ", price = 190.95050294804236)]…), Dict(5 => [0.1111111111111111, 0.1111111111111111, 0.1111111111111111, 0.1111111111111111, 0.1111111111111111, 0.1111111111111111, 0.1111111111111111, 0.1111111111111111, 0.1111111111111111], 16 => [0.1111111111111111, 0.1111111111111111, 0.1111111111111111, 0.1111111111111111, 0.1111111111111111, 0.1111111111111111, 0.1111111111111111, 0.1111111111111111, 0.1111111111111111], 20 => [0.1111111111111111, 0.1111111111111111, 0.1111111111111111, 0.1111111111111111, 0.1111111111111111, 0.1111111111111111, 0.1111111111111111, 0.1111111111111111, 0.1111111111111111], 35 => [0.1111111111111111, 0.1111111111111111, 0.1111111111111111, 0.1111111111111111, 0.1111111111111111, 0.1111111111111111, 0.1111111111111111, 0.1111111111111111, 0.1111111111111111], 30 => [0.1111111111111111, 0.1111111111111111, 0.1111111111111111, 0.1111111111111111, 0.1111111111111111, 0.1111111111111111, 0.1111111111111111, 0.1111111111111111, 0.1111111111111111], 19 => [0.1111111111111111, 0.1111111111111111, 0.1111111111111111, 0.1111111111111111, 0.1111111111111111, 0.1111111111111111, 0.1111111111111111, 0.1111111111111111, 0.1111111111111111], 32 => [0.1111111111111111, 0.1111111111111111, 0.1111111111111111, 0.1111111111111111, 0.1111111111111111, 0.1111111111111111, 0.1111111111111111, 0.1111111111111111, 0.1111111111111111], 49 => [0.1111111111111111, 0.1111111111111111, 0.1111111111111111, 0.1111111111111111, 0.1111111111111111, 0.1111111111111111, 0.1111111111111111, 0.1111111111111111, 0.1111111111111111], 6 => [0.1111111111111111, 0.1111111111111111, 0.1111111111111111, 0.1111111111111111, 0.1111111111111111, 0.1111111111111111, 0.1111111111111111, 0.1111111111111111, 0.1111111111111111], 45 => [0.1111111111111111, 0.1111111111111111, 0.1111111111111111, 0.1111111111111111, 0.1111111111111111, 0.1111111111111111, 0.1111111111111111, 0.1111111111111111, 0.1111111111111111]…))"
      ]
     },
     "metadata": {},
     "output_type": "display_data"
    }
   ],
   "source": [
    "function prepare_pricedata(filepath_prices::String)::DataFrame\n",
    "    price_data = CSV.read(filepath_prices, DataFrame)\n",
    "    price_data = coalesce.(price_data, 46.79)\n",
    "    price_data.Average = sum.(eachrow(price_data[:, 2:end]))/24\n",
    "    rename!(price_data, :Column1 => :Date)\n",
    "    price_data.season = get_season.(month.(price_data.Date))\n",
    "    price_data.Weekday = dayofweek.(price_data.Date)\n",
    "    price_data.Weekday = get_weekend.(price_data.Weekday)\n",
    "    price_data.CalendarWeek = Dates.week.(price_data.Date)\n",
    "    return price_data\n",
    "end\n",
    "\n",
    "function prepare_inflowdata(filepath_inflow::String)::DataFrame\n",
    "    inflow_data = CSV.read(filepath_inflow, DataFrame)\n",
    "    inflow_data.CalendarWeek = Dates.week.(inflow_data.Date)\n",
    "    coalesce.(inflow_data, 0.0)\n",
    "    inflow_data[!, \"Flasjon Inflow\"] = coalesce.(inflow_data[!, \"Flasjon Inflow\"], 0)\n",
    "    return inflow_data\n",
    "end\n",
    "function get_season(month::Int64)::String\n",
    "    if month in 3:4  \n",
    "        return \"Spring\"\n",
    "    elseif month in 5:8  \n",
    "        return \"Summer\"\n",
    "    elseif month in 9:11  \n",
    "        return \"Autumn\"\n",
    "    else  \n",
    "        return \"Winter\"\n",
    "    end\n",
    "end\n",
    "\n",
    "function get_weekend(weekday::Int64)::String\n",
    "    if weekday in 1:5\n",
    "        return \"Weekday\"\n",
    "    else\n",
    "        return \"Weekend\"\n",
    "    end\n",
    "end\n",
    "\n",
    "\"\"\"\n",
    "Inflow_Scenarios(inflow_data, ColumnReservoir, n, R)\n",
    "\n",
    "Create n weekly Scenarios based on the inflow data for an entire year (roughly 52 weeks). For Correspondence between reservoir and column name another dictionary ColumnReservoir is necessary.\n",
    "To prevent negative inflow values, the negative part of the inflow scenarios is cut off. (Negative inflow values occur in the data, but are related to measuring errors and weather effects)\n",
    "\"\"\"\n",
    "function Inflow_Scenarios_Weekly(inflow_data::DataFrame, ColumnReservoir::Dict{Reservoir, String}, n::Int64, R::Vector{Reservoir})\n",
    "    gd_inflow = groupby(df_inflow[! ,[\"Holmsjon Inflow\", \"Flasjon Inflow\", \"CalendarWeek\"]], :CalendarWeek)\n",
    "    WeeklyInflowDistribution = Dict{Reservoir, Any}()\n",
    "    WeeklyInflowDistribution[R[2]] = Normal{Float64}[fit_mle(Normal{Float64}, g[!,ColumnReservoir[R[2]]]) for g in gd_inflow]\n",
    "    WeeklyInflowDistribution[R[1]] = Normal{Float64}[fit_mle(Normal{Float64}, g[!,ColumnReservoir[R[1]]]) for g in gd_inflow]\n",
    "    InflowScenarios = Dict(i => Dict(R[1] => max.(rand(WeeklyInflowDistribution[R[1]][i], n), 0),\n",
    "                                     R[2] => max.(rand(WeeklyInflowDistribution[R[2]][i], n), 0)) for i in eachindex(WeeklyInflowDistribution[R[1]]))\n",
    "\n",
    "    return InflowScenarios\n",
    "end\n",
    "\n",
    "function Price_Scenarios_Weekly(price_data::DataFrame, n::Int64)\n",
    "    gd = groupby(df_prices[!,[:Average, :CalendarWeek]], :CalendarWeek)\n",
    "    WeeklyPriceDistribution = Rayleigh{Float64}[fit_mle(Rayleigh{Float64}, g[!,:Average]) for g in gd]\n",
    "    PriceScenarios = Dict(i => max.(rand(WeeklyPriceDistribution[i], n), 0) for i in eachindex(WeeklyPriceDistribution))\n",
    "    return PriceScenarios\n",
    "end\n",
    "\n",
    "df_prices = prepare_pricedata(\"Inflow Forecasting\\\\Data\\\\Spot Prices\\\\prices_df.csv\")\n",
    "df_inflow = prepare_inflowdata(\"Inflow Forecasting\\\\Data\\\\Inflow\\\\Data from Flasjoen and Holmsjoen.csv\")\n",
    "\n",
    "ColumnReservoir = Dict{Reservoir, String}(R[1] => \"Flasjon Inflow\", R[2] => \"Holmsjon Inflow\")\n",
    "InflowScenarios = Inflow_Scenarios_Weekly(df_inflow, ColumnReservoir, 3, R)\n",
    "PriceScenarios = Price_Scenarios_Weekly(df_prices, 3)\n",
    "\n",
    "\"\"\"\n",
    "\n",
    "create_Ω(PriceScenarios, InflowScenarios, R)\n",
    "\n",
    "    Create Uncertainty Sets for each stage by forming the cartesian product of prices and inflows at each reservoir. \n",
    "\"\"\"\n",
    "function create_Ω_medium(PriceScenarios::Dict{Int64, Vector{Float64}}, InflowScenarios::Dict{Int64, Dict{Reservoir, Vector{Float64}}}, R::Vector{Reservoir})\n",
    "    Ω = Dict(i => [(inflow = Dict(R[1] =>  InflowScenarios[i][R[1]][j], R[2] => InflowScenarios[i][R[2]][j]), price = P) for P in PriceScenarios[i] for j in eachindex(InflowScenarios[i][R[1]])] for i in 1:52)\n",
    "    P = Dict(i => [1/length(Ω[i]) for j in eachindex(Ω[i])] for i in 1:52)\n",
    "    return Ω, P \n",
    "end\n",
    "\n",
    "Ω, P = create_Ω_medium(PriceScenarios, InflowScenarios, R)"
   ]
  },
  {
   "cell_type": "markdown",
   "metadata": {},
   "source": [
    "### Medium Term Model & Water Values\n",
    "\n",
    "Before we can solve the bidding and short term Optimization models, we have to solve a seasonal model to input marginal water values."
   ]
  },
  {
   "cell_type": "code",
   "execution_count": 32,
   "metadata": {},
   "outputs": [
    {
     "name": "stdout",
     "output_type": "stream",
     "text": [
      "-------------------------------------------------------------------\n",
      "         SDDP.jl (c) Oscar Dowson and contributors, 2017-23\n",
      "-------------------------------------------------------------------\n",
      "problem\n",
      "  nodes           : 52\n",
      "  state variables : 2\n",
      "  scenarios       : Inf\n",
      "  existing cuts   : false\n",
      "options\n",
      "  solver          : serial mode\n",
      "  risk measure    : SDDP.Expectation()\n",
      "  sampling scheme : SDDP.InSampleMonteCarlo\n",
      "subproblem structure\n",
      "  VariableRef                             : [24, 24]\n",
      "  AffExpr in MOI.EqualTo{Float64}         : [2, 2]\n",
      "  AffExpr in MOI.LessThan{Float64}        : [13, 13]\n",
      "  VariableRef in MOI.GreaterThan{Float64} : [6, 6]\n",
      "  VariableRef in MOI.LessThan{Float64}    : [16, 16]\n",
      "numerical stability report\n",
      "  matrix range     [7e-02, 1e+00]\n",
      "  objective range  [1e+00, 4e+02]\n",
      "  bounds range     [7e+00, 2e+07]\n",
      "  rhs range        [0e+00, 0e+00]\n",
      "WARNING: numerical stability issues detected\n",
      "  - bounds range contains large coefficients\n",
      "Very large or small absolute values of coefficients\n",
      "can cause numerical stability issues. Consider\n",
      "reformulating the model.\n",
      "-------------------------------------------------------------------\n",
      " iteration    simulation      bound        time (s)     solves  pid\n",
      "-------------------------------------------------------------------\n"
     ]
    },
    {
     "name": "stdout",
     "output_type": "stream",
     "text": [
      "         1   1.234462e+06  1.685632e+07  2.170000e-01       529   1"
     ]
    },
    {
     "name": "stdout",
     "output_type": "stream",
     "text": [
      "\n",
      "         5   1.689599e+06  1.222770e+07  1.237000e+00     14085   1\n"
     ]
    },
    {
     "name": "stdout",
     "output_type": "stream",
     "text": [
      "        11   2.148722e+07  1.102807e+07  2.571000e+00     31299   1\n"
     ]
    },
    {
     "name": "stdout",
     "output_type": "stream",
     "text": [
      "        18   1.174600e+07  1.030795e+07  3.769000e+00     46962   1"
     ]
    },
    {
     "name": "stdout",
     "output_type": "stream",
     "text": [
      "\n",
      "        26   4.230849e+07  1.011057e+07  5.414000e+00     67314   1\n"
     ]
    },
    {
     "name": "stdout",
     "output_type": "stream",
     "text": [
      "        31   6.046465e+06  1.002971e+07  6.533000e+00     80359   1\n"
     ]
    },
    {
     "name": "stdout",
     "output_type": "stream",
     "text": [
      "        34   4.426766e+06  9.969312e+06  7.584000e+00     92346   1"
     ]
    },
    {
     "name": "stdout",
     "output_type": "stream",
     "text": [
      "\n",
      "        41   2.411680e+06  9.949565e+06  8.607000e+00    103849   1\n"
     ]
    },
    {
     "name": "stdout",
     "output_type": "stream",
     "text": [
      "        44   1.544774e+07  9.934615e+06  9.869000e+00    117396   1\n"
     ]
    },
    {
     "name": "stdout",
     "output_type": "stream",
     "text": [
      "        65   3.258747e+07  9.900693e+06  1.514400e+01    172185   1\n"
     ]
    },
    {
     "name": "stdout",
     "output_type": "stream",
     "text": [
      "        84   1.291489e+07  9.889817e+06  2.042900e+01    223316   1"
     ]
    },
    {
     "name": "stdout",
     "output_type": "stream",
     "text": [
      "\n",
      "       101   1.726560e+07  9.879669e+06  2.554100e+01    269749   1\n"
     ]
    },
    {
     "name": "stdout",
     "output_type": "stream",
     "text": [
      "       120   1.387332e+07  9.874197e+06  3.085300e+01    316200   1\n"
     ]
    },
    {
     "name": "stdout",
     "output_type": "stream",
     "text": [
      "       137   1.773855e+07  9.867863e+06  3.613100e+01    360553   1\n"
     ]
    },
    {
     "name": "stdout",
     "output_type": "stream",
     "text": [
      "       148   2.130850e+07  9.866235e+06  4.140500e+01    402252   1\n"
     ]
    },
    {
     "name": "stdout",
     "output_type": "stream",
     "text": [
      "       164   1.918651e+07  9.862063e+06  4.704100e+01    445556   1\n"
     ]
    },
    {
     "name": "stdout",
     "output_type": "stream",
     "text": [
      "       176   1.547842e+06  9.860128e+06  5.207700e+01    482584   1\n"
     ]
    },
    {
     "name": "stdout",
     "output_type": "stream",
     "text": [
      "       187   1.891142e+06  9.858699e+06  5.709000e+01    517523   1\n"
     ]
    },
    {
     "name": "stdout",
     "output_type": "stream",
     "text": [
      "       205   9.601116e+06  9.856479e+06  6.244800e+01    553565   1\n"
     ]
    },
    {
     "name": "stdout",
     "output_type": "stream",
     "text": [
      "       222   7.741922e+06  9.855069e+06  6.754400e+01    585438   1\n"
     ]
    },
    {
     "name": "stdout",
     "output_type": "stream",
     "text": [
      "       231   7.916399e+06  9.854306e+06  7.266000e+01    617239   1\n"
     ]
    },
    {
     "name": "stdout",
     "output_type": "stream",
     "text": [
      "       246   2.311920e+06  9.852783e+06  7.771600e+01    649094   1\n"
     ]
    },
    {
     "name": "stdout",
     "output_type": "stream",
     "text": [
      "       257   2.262454e+07  9.851691e+06  8.276900e+01    678313   1\n"
     ]
    },
    {
     "name": "stdout",
     "output_type": "stream",
     "text": [
      "       268   2.557269e+07  9.850684e+06  8.853800e+01    712212   1\n"
     ]
    },
    {
     "name": "stdout",
     "output_type": "stream",
     "text": [
      "       280   2.976807e+07  9.849648e+06  9.364700e+01    742480   1\n"
     ]
    },
    {
     "name": "stdout",
     "output_type": "stream",
     "text": [
      "       289   1.832560e+07  9.849335e+06  9.906000e+01    773241   1\n"
     ]
    },
    {
     "name": "stdout",
     "output_type": "stream",
     "text": [
      "       297   5.172151e+07  9.849018e+06  1.065210e+02    812833   1\n"
     ]
    },
    {
     "name": "stdout",
     "output_type": "stream",
     "text": [
      "       309   3.090919e+07  9.848215e+06  1.119790e+02    842061   1\n"
     ]
    },
    {
     "name": "stdout",
     "output_type": "stream",
     "text": [
      "       323   1.869316e+07  9.846796e+06  1.172850e+02    870267   1"
     ]
    },
    {
     "name": "stdout",
     "output_type": "stream",
     "text": [
      "\n",
      "       376   1.253307e+07  9.843853e+06  1.479480e+02   1025704   1\n"
     ]
    },
    {
     "name": "stdout",
     "output_type": "stream",
     "text": [
      "       421   1.576310e+07  9.841204e+06  1.788860e+02   1162349   1\n"
     ]
    },
    {
     "name": "stdout",
     "output_type": "stream",
     "text": [
      "       467   1.189191e+07  9.839425e+06  2.089160e+02   1281323   1\n"
     ]
    },
    {
     "name": "stdout",
     "output_type": "stream",
     "text": [
      "       500   6.648684e+06  9.838638e+06  2.302140e+02   1361700   1\n",
      "-------------------------------------------------------------------\n",
      "status         : iteration_limit\n",
      "total time (s) : 2.302140e+02\n",
      "total solves   : 1361700\n",
      "best bound     :  9.838638e+06\n",
      "simulation ci  :  1.012677e+07 ± 7.312320e+05\n",
      "numeric issues : 0\n",
      "-------------------------------------------------------------------\n",
      "\n"
     ]
    },
    {
     "data": {
      "text/plain": [
       "(A policy graph with 52 nodes.\n",
       " Node indices: 1, ..., 52\n",
       ", A value function for node 1)"
      ]
     },
     "metadata": {},
     "output_type": "display_data"
    }
   ],
   "source": [
    "model_medium, V_medium = MediumTermModel(\n",
    "    R::Vector{Reservoir},\n",
    "    K::Vector{HydropowerPlant},\n",
    "    Ω::Dict{Int64, Vector{NamedTuple{(:inflow, :price), Tuple{Dict{Reservoir, Float64}, Float64}}}},\n",
    "    P::Dict{Int64, Vector{Float64}},\n",
    "    52;\n",
    "    iterations = 500,\n",
    "    stopping_rule = [SDDP.BoundStalling(10, 1e1)],\n",
    "    printlevel = 1,\n",
    "    loop = true\n",
    ")"
   ]
  },
  {
   "cell_type": "code",
   "execution_count": 73,
   "metadata": {},
   "outputs": [
    {
     "name": "stdout",
     "output_type": "stream",
     "text": [
      "Dict{Reservoir, Float64}[________________________________\n",
      "Flasjon  | 0.0     \n",
      "Holsmjon | 0.0     \n",
      ", ________________________________\n",
      "Flasjon  | 2000.0  \n",
      "Holsmjon | 0.0     \n",
      ", ________________________________\n",
      "Flasjon  | 1000.0  \n",
      "Holsmjon | 0.0     \n",
      ", ________________________________\n",
      "Flasjon  | 2000.0  \n",
      "Holsmjon | 400.0   \n",
      ", ________________________________\n",
      "Flasjon  | 0.0     \n",
      "Holsmjon | 800.0   \n",
      ", ________________________________\n",
      "Flasjon  | 1000.0  \n",
      "Holsmjon | 400.0   \n",
      ", ________________________________\n",
      "Flasjon  | 0.0     \n",
      "Holsmjon | 400.0   \n",
      ", ________________________________\n",
      "Flasjon  | 1000.0  \n",
      "Holsmjon | 800.0   \n",
      ", ________________________________\n",
      "Flasjon  | 2000.0  \n",
      "Holsmjon | 800.0   \n",
      "]Dict{Dict{Reservoir, Float64}, NamedTuple{(:e1, :e2), Tuple{Float64, Dict{Symbol, Float64}}}}(________________________________\n",
      "Flasjon  | 1000.0  \n",
      "Holsmjon | 400.0   \n",
      " => (e1 = 215476.26799239218, e2 = Dict(Symbol(\"l[Holsmjon]\") => 233.31582839274193, Symbol(\"l[Flasjon]\") => 462.1428696558911)), ________________________________\n",
      "Flasjon  | 0.0     \n",
      "Holsmjon | 400.0   \n",
      " => (e1 = 915818.1475120317, e2 = Dict(Symbol(\"l[Holsmjon]\") => 210.38474043271586, Symbol(\"l[Flasjon]\") => 378.2018456505712)), ________________________________\n",
      "Flasjon  | 1000.0  \n",
      "Holsmjon | 800.0   \n",
      " => (e1 = 831664.2513389457, e2 = Dict(Symbol(\"l[Holsmjon]\") => 210.38474043271586, Symbol(\"l[Flasjon]\") => 378.2018456505712)), ________________________________\n",
      "Flasjon  | 2000.0  \n",
      "Holsmjon | 400.0   \n",
      " => (e1 = 915818.1475120317, e2 = Dict(Symbol(\"l[Holsmjon]\") => 210.38474043271586, Symbol(\"l[Flasjon]\") => 378.2018456505712)), ________________________________\n",
      "Flasjon  | 2000.0  \n",
      "Holsmjon | 0.0     \n",
      " => (e1 = 831664.2513389457, e2 = Dict(Symbol(\"l[Holsmjon]\") => 210.38474043271586, Symbol(\"l[Flasjon]\") => 378.2018456505712)), ________________________________\n",
      "Flasjon  | 0.0     \n",
      "Holsmjon | 0.0     \n",
      " => (e1 = 450656.7208578903, e2 = Dict(Symbol(\"l[Holsmjon]\") => 220.5656599261674, Symbol(\"l[Flasjon]\") => 390.08091321922745)), ________________________________\n",
      "Flasjon  | 1000.0  \n",
      "Holsmjon | 0.0     \n",
      " => (e1 = 450656.7208578903, e2 = Dict(Symbol(\"l[Holsmjon]\") => 220.5656599261674, Symbol(\"l[Flasjon]\") => 390.08091321922745)), ________________________________\n",
      "Flasjon  | 2000.0  \n",
      "Holsmjon | 800.0   \n",
      " => (e1 = 0.0, e2 = Dict(Symbol(\"l[Holsmjon]\") => 345.3958498848847, Symbol(\"l[Flasjon]\") => 608.5517227757391)), ________________________________\n",
      "Flasjon  | 0.0     \n",
      "Holsmjon | 800.0   \n",
      " => (e1 = 0.0, e2 = Dict(Symbol(\"l[Holsmjon]\") => 345.3958498848847, Symbol(\"l[Flasjon]\") => 608.5517227757391)))\n",
      "For the Reservoir Levels \n",
      "1000.0\n"
     ]
    },
    {
     "ename": "KeyError",
     "evalue": "KeyError: key Flasjon not found",
     "output_type": "error",
     "traceback": [
      "KeyError: key Flasjon not found\n",
      "\n",
      "Stacktrace:\n",
      " [1] getindex(h::Dict{Symbol, Float64}, key::Reservoir)\n",
      "   @ Base .\\dict.jl:484\n",
      " [2] top-level scope\n",
      "   @ c:\\Users\\lenna\\OneDrive - NTNU\\Code Master Thesis\\DevelopmentOneOwnerModel.ipynb:8"
     ]
    }
   ],
   "source": [
    "reservoircutvalues = Dict(r => [r.currentvolume, 0.0, r.currentvolume/2] for r in R)\n",
    "combs = Iterators.product(values(reservoircutvalues)...)\n",
    "cuts = Dict(i => Dict(r => v for (r,v) in zip(keys(reservoircutvalues), combo)) for (i, combo) in enumerate(combs))\n",
    "print(values(cuts))\n",
    "WaterCuts = WaterValueCuts(R, V_medium, cuts)\n",
    "for (k, v) in WaterCuts\n",
    "    println(\"For the Reservoir Levels \\n\", k[R[1]])\n",
    "    println(\"We reveive the cut coefficients: \\n \", v.e2[R[1]])\n",
    "end"
   ]
  },
  {
   "cell_type": "markdown",
   "metadata": {},
   "source": [
    "### Bidding Model\n",
    "\n",
    "We approximate the bidding problem by using linear interpolation of volumes and presetting price Points, for example based on probabilities. From that we obtain the delivery obligation.\n",
    "\n",
    "$$\n",
    "y_t = \\frac{c_t - P_{t,i} }{P_{t,i+1} - P_{t,i}} \\cdot x_{i,t} + \\frac{P_{t,i+1} - c_t }{P_{t,i+1} - P{t,i}} \\cdot x_{i+1,t}, \\qquad \\text{if} \\qquad P_{t,i} \\leq c_t \\leq P_{t,i+1}\n",
    "$$\n",
    "\n",
    "### Water Value\n",
    "\n",
    "We approximate the Water Value Function using linear cuts from the medium term model:\n",
    "\n",
    "\n",
    "$$\n",
    "\\alpha^c \\leq \\varphi_M^c(l) - \\sum\\limits_{r \\in \\mathbb{R}} \\pi_r^c \\cdot (l_{r}^c - l_{r,t+1})\n",
    "$$"
   ]
  },
  {
   "cell_type": "code",
   "execution_count": 76,
   "metadata": {},
   "outputs": [
    {
     "name": "stdout",
     "output_type": "stream",
     "text": [
      "NamedTuple{(:inflow, :price), Tuple{Dict{Reservoir, Float64}, Vector{Float64}}}[(inflow = ________________________________\n",
      "Flasjon  | 0.4     \n",
      "Holsmjon | 0.4     \n",
      ", price = [0.8330119979327184, 0.6775414873972102, 0.7440759401325545, 0.4688031797868234, 0.6823091187182123, 0.4822012277334068, 0.00361123769986893, 0.7697545200459357, 0.36662562695418055, 0.9662107034830214, 0.5676885636536875, 0.06594768590055744, 0.6565512870368382, 0.4322230858845001, 0.13999121914601909, 0.41389819995372856, 0.036165786229696906, 0.7633216589733137, 0.3363645953298988, 0.3721719495695257, 0.007929400668686748, 0.23302706640201598, 0.058810179502233106, 0.9136803977648946]), (inflow = ________________________________\n",
      "Flasjon  | 0.6     \n",
      "Holsmjon | 0.6     \n",
      ", price = [0.8574499937190749, 0.23691892256327496, 0.4479706167326165, 0.24854342449943956, 0.8071962471224062, 0.7268814733044033, 0.19598659252208883, 0.49449513160501457, 0.7957828906292216, 0.01000222801870998, 0.038767426397696925, 0.8272208503951999, 0.6602327894178969, 0.4763811802412574, 0.046805796972851144, 0.9665715950324767, 0.2649353693043569, 0.6899204808478586, 0.0029994006342054513, 0.6505291068332486, 0.22235240652865895, 0.502009159966363, 0.9905163083152607, 0.18812241666805685]), (inflow = ________________________________\n",
      "Flasjon  | 0.8     \n",
      "Holsmjon | 0.8     \n",
      ", price = [0.44484205290312695, 0.3467266099765667, 0.5695456604517032, 0.22140270501949777, 0.7096616684682447, 0.4802795315189179, 0.5526919001000132, 0.3105729873305195, 0.41063117984535924, 0.9587850276380783, 0.7921650764355415, 0.659124676336657, 0.2382264918542233, 0.9607128233688471, 0.575199827642531, 0.08562749747847853, 0.11868978580345046, 0.7247800383839121, 0.1671668046784791, 0.7695034767600007, 0.27849486028465475, 0.540760151636985, 0.652261853899175, 0.560333095347846])]\n"
     ]
    },
    {
     "data": {
      "image/png": "[encoded data removed]",
      "image/svg+xml": [
       "<?xml version=\"1.0\" encoding=\"utf-8\"?>\n",
       "<svg xmlns=\"http://www.w3.org/2000/svg\" xmlns:xlink=\"http://www.w3.org/1999/xlink\" width=\"600\" height=\"400\" viewBox=\"0 0 2400 1600\">\n",
       "<defs>\n",
       "  <clipPath id=\"clip180\">\n",
       "    <rect x=\"0\" y=\"0\" width=\"2400\" height=\"1600\"/>\n",
       "  </clipPath>\n",
       "</defs>\n",
       "<path clip-path=\"url(#clip180)\" d=\"M0 1600 L2400 1600 L2400 0 L0 0  Z\" fill=\"#ffffff\" fill-rule=\"evenodd\" fill-opacity=\"1\"/>\n",
       "<defs>\n",
       "  <clipPath id=\"clip181\">\n",
       "    <rect x=\"480\" y=\"0\" width=\"1681\" height=\"1600\"/>\n",
       "  </clipPath>\n",
       "</defs>\n",
       "<path clip-path=\"url(#clip180)\" d=\"M186.274 1486.45 L2352.76 1486.45 L2352.76 47.2441 L186.274 47.2441  Z\" fill=\"#ffffff\" fill-rule=\"evenodd\" fill-opacity=\"1\"/>\n",
       "<defs>\n",
       "  <clipPath id=\"clip182\">\n",
       "    <rect x=\"186\" y=\"47\" width=\"2167\" height=\"1440\"/>\n",
       "  </clipPath>\n",
       "</defs>\n",
       "<polyline clip-path=\"url(#clip182)\" style=\"stroke:#000000; stroke-linecap:round; stroke-linejoin:round; stroke-width:2; stroke-opacity:0.1; fill:none\" points=\"603.042,1486.45 603.042,47.2441 \"/>\n",
       "<polyline clip-path=\"url(#clip182)\" style=\"stroke:#000000; stroke-linecap:round; stroke-linejoin:round; stroke-width:2; stroke-opacity:0.1; fill:none\" points=\"1047.36,1486.45 1047.36,47.2441 \"/>\n",
       "<polyline clip-path=\"url(#clip182)\" style=\"stroke:#000000; stroke-linecap:round; stroke-linejoin:round; stroke-width:2; stroke-opacity:0.1; fill:none\" points=\"1491.67,1486.45 1491.67,47.2441 \"/>\n",
       "<polyline clip-path=\"url(#clip182)\" style=\"stroke:#000000; stroke-linecap:round; stroke-linejoin:round; stroke-width:2; stroke-opacity:0.1; fill:none\" points=\"1935.99,1486.45 1935.99,47.2441 \"/>\n",
       "<polyline clip-path=\"url(#clip180)\" style=\"stroke:#000000; stroke-linecap:round; stroke-linejoin:round; stroke-width:4; stroke-opacity:1; fill:none\" points=\"186.274,1486.45 2352.76,1486.45 \"/>\n",
       "<polyline clip-path=\"url(#clip180)\" style=\"stroke:#000000; stroke-linecap:round; stroke-linejoin:round; stroke-width:4; stroke-opacity:1; fill:none\" points=\"603.042,1486.45 603.042,1467.55 \"/>\n",
       "<polyline clip-path=\"url(#clip180)\" style=\"stroke:#000000; stroke-linecap:round; stroke-linejoin:round; stroke-width:4; stroke-opacity:1; fill:none\" points=\"1047.36,1486.45 1047.36,1467.55 \"/>\n",
       "<polyline clip-path=\"url(#clip180)\" style=\"stroke:#000000; stroke-linecap:round; stroke-linejoin:round; stroke-width:4; stroke-opacity:1; fill:none\" points=\"1491.67,1486.45 1491.67,1467.55 \"/>\n",
       "<polyline clip-path=\"url(#clip180)\" style=\"stroke:#000000; stroke-linecap:round; stroke-linejoin:round; stroke-width:4; stroke-opacity:1; fill:none\" points=\"1935.99,1486.45 1935.99,1467.55 \"/>\n",
       "<path clip-path=\"url(#clip180)\" d=\"M593.32 1514.29 L611.676 1514.29 L611.676 1518.22 L597.602 1518.22 L597.602 1526.7 Q598.621 1526.35 599.639 1526.19 Q600.658 1526 601.676 1526 Q607.463 1526 610.843 1529.17 Q614.222 1532.34 614.222 1537.76 Q614.222 1543.34 610.75 1546.44 Q607.278 1549.52 600.959 1549.52 Q598.783 1549.52 596.514 1549.15 Q594.269 1548.78 591.861 1548.04 L591.861 1543.34 Q593.945 1544.47 596.167 1545.03 Q598.389 1545.58 600.866 1545.58 Q604.871 1545.58 607.208 1543.48 Q609.546 1541.37 609.546 1537.76 Q609.546 1534.15 607.208 1532.04 Q604.871 1529.94 600.866 1529.94 Q598.991 1529.94 597.116 1530.35 Q595.264 1530.77 593.32 1531.65 L593.32 1514.29 Z\" fill=\"#000000\" fill-rule=\"nonzero\" fill-opacity=\"1\" /><path clip-path=\"url(#clip180)\" d=\"M1022.04 1544.91 L1029.68 1544.91 L1029.68 1518.55 L1021.37 1520.21 L1021.37 1515.95 L1029.64 1514.29 L1034.31 1514.29 L1034.31 1544.91 L1041.95 1544.91 L1041.95 1548.85 L1022.04 1548.85 L1022.04 1544.91 Z\" fill=\"#000000\" fill-rule=\"nonzero\" fill-opacity=\"1\" /><path clip-path=\"url(#clip180)\" d=\"M1061.4 1517.37 Q1057.79 1517.37 1055.96 1520.93 Q1054.15 1524.47 1054.15 1531.6 Q1054.15 1538.71 1055.96 1542.27 Q1057.79 1545.82 1061.4 1545.82 Q1065.03 1545.82 1066.84 1542.27 Q1068.67 1538.71 1068.67 1531.6 Q1068.67 1524.47 1066.84 1520.93 Q1065.03 1517.37 1061.4 1517.37 M1061.4 1513.66 Q1067.21 1513.66 1070.26 1518.27 Q1073.34 1522.85 1073.34 1531.6 Q1073.34 1540.33 1070.26 1544.94 Q1067.21 1549.52 1061.4 1549.52 Q1055.59 1549.52 1052.51 1544.94 Q1049.45 1540.33 1049.45 1531.6 Q1049.45 1522.85 1052.51 1518.27 Q1055.59 1513.66 1061.4 1513.66 Z\" fill=\"#000000\" fill-rule=\"nonzero\" fill-opacity=\"1\" /><path clip-path=\"url(#clip180)\" d=\"M1466.86 1544.91 L1474.5 1544.91 L1474.5 1518.55 L1466.19 1520.21 L1466.19 1515.95 L1474.45 1514.29 L1479.13 1514.29 L1479.13 1544.91 L1486.77 1544.91 L1486.77 1548.85 L1466.86 1548.85 L1466.86 1544.91 Z\" fill=\"#000000\" fill-rule=\"nonzero\" fill-opacity=\"1\" /><path clip-path=\"url(#clip180)\" d=\"M1496.26 1514.29 L1514.61 1514.29 L1514.61 1518.22 L1500.54 1518.22 L1500.54 1526.7 Q1501.56 1526.35 1502.58 1526.19 Q1503.59 1526 1504.61 1526 Q1510.4 1526 1513.78 1529.17 Q1517.16 1532.34 1517.16 1537.76 Q1517.16 1543.34 1513.69 1546.44 Q1510.21 1549.52 1503.89 1549.52 Q1501.72 1549.52 1499.45 1549.15 Q1497.21 1548.78 1494.8 1548.04 L1494.8 1543.34 Q1496.88 1544.47 1499.1 1545.03 Q1501.33 1545.58 1503.8 1545.58 Q1507.81 1545.58 1510.14 1543.48 Q1512.48 1541.37 1512.48 1537.76 Q1512.48 1534.15 1510.14 1532.04 Q1507.81 1529.94 1503.8 1529.94 Q1501.93 1529.94 1500.05 1530.35 Q1498.2 1530.77 1496.26 1531.65 L1496.26 1514.29 Z\" fill=\"#000000\" fill-rule=\"nonzero\" fill-opacity=\"1\" /><path clip-path=\"url(#clip180)\" d=\"M1914.76 1544.91 L1931.08 1544.91 L1931.08 1548.85 L1909.14 1548.85 L1909.14 1544.91 Q1911.8 1542.16 1916.38 1537.53 Q1920.99 1532.88 1922.17 1531.53 Q1924.41 1529.01 1925.29 1527.27 Q1926.2 1525.51 1926.2 1523.82 Q1926.2 1521.07 1924.25 1519.33 Q1922.33 1517.6 1919.23 1517.6 Q1917.03 1517.6 1914.58 1518.36 Q1912.15 1519.13 1909.37 1520.68 L1909.37 1515.95 Q1912.19 1514.82 1914.65 1514.24 Q1917.1 1513.66 1919.14 1513.66 Q1924.51 1513.66 1927.7 1516.35 Q1930.9 1519.03 1930.9 1523.52 Q1930.9 1525.65 1930.09 1527.57 Q1929.3 1529.47 1927.19 1532.07 Q1926.61 1532.74 1923.51 1535.95 Q1920.41 1539.15 1914.76 1544.91 Z\" fill=\"#000000\" fill-rule=\"nonzero\" fill-opacity=\"1\" /><path clip-path=\"url(#clip180)\" d=\"M1950.9 1517.37 Q1947.28 1517.37 1945.46 1520.93 Q1943.65 1524.47 1943.65 1531.6 Q1943.65 1538.71 1945.46 1542.27 Q1947.28 1545.82 1950.9 1545.82 Q1954.53 1545.82 1956.34 1542.27 Q1958.16 1538.71 1958.16 1531.6 Q1958.16 1524.47 1956.34 1520.93 Q1954.53 1517.37 1950.9 1517.37 M1950.9 1513.66 Q1956.71 1513.66 1959.76 1518.27 Q1962.84 1522.85 1962.84 1531.6 Q1962.84 1540.33 1959.76 1544.94 Q1956.71 1549.52 1950.9 1549.52 Q1945.09 1549.52 1942.01 1544.94 Q1938.95 1540.33 1938.95 1531.6 Q1938.95 1522.85 1942.01 1518.27 Q1945.09 1513.66 1950.9 1513.66 Z\" fill=\"#000000\" fill-rule=\"nonzero\" fill-opacity=\"1\" /><polyline clip-path=\"url(#clip182)\" style=\"stroke:#000000; stroke-linecap:round; stroke-linejoin:round; stroke-width:2; stroke-opacity:0.1; fill:none\" points=\"186.274,1449.84 2352.76,1449.84 \"/>\n",
       "<polyline clip-path=\"url(#clip182)\" style=\"stroke:#000000; stroke-linecap:round; stroke-linejoin:round; stroke-width:2; stroke-opacity:0.1; fill:none\" points=\"186.274,1106.11 2352.76,1106.11 \"/>\n",
       "<polyline clip-path=\"url(#clip182)\" style=\"stroke:#000000; stroke-linecap:round; stroke-linejoin:round; stroke-width:2; stroke-opacity:0.1; fill:none\" points=\"186.274,762.388 2352.76,762.388 \"/>\n",
       "<polyline clip-path=\"url(#clip182)\" style=\"stroke:#000000; stroke-linecap:round; stroke-linejoin:round; stroke-width:2; stroke-opacity:0.1; fill:none\" points=\"186.274,418.663 2352.76,418.663 \"/>\n",
       "<polyline clip-path=\"url(#clip182)\" style=\"stroke:#000000; stroke-linecap:round; stroke-linejoin:round; stroke-width:2; stroke-opacity:0.1; fill:none\" points=\"186.274,74.9371 2352.76,74.9371 \"/>\n",
       "<polyline clip-path=\"url(#clip180)\" style=\"stroke:#000000; stroke-linecap:round; stroke-linejoin:round; stroke-width:4; stroke-opacity:1; fill:none\" points=\"186.274,1486.45 186.274,47.2441 \"/>\n",
       "<polyline clip-path=\"url(#clip180)\" style=\"stroke:#000000; stroke-linecap:round; stroke-linejoin:round; stroke-width:4; stroke-opacity:1; fill:none\" points=\"186.274,1449.84 205.172,1449.84 \"/>\n",
       "<polyline clip-path=\"url(#clip180)\" style=\"stroke:#000000; stroke-linecap:round; stroke-linejoin:round; stroke-width:4; stroke-opacity:1; fill:none\" points=\"186.274,1106.11 205.172,1106.11 \"/>\n",
       "<polyline clip-path=\"url(#clip180)\" style=\"stroke:#000000; stroke-linecap:round; stroke-linejoin:round; stroke-width:4; stroke-opacity:1; fill:none\" points=\"186.274,762.388 205.172,762.388 \"/>\n",
       "<polyline clip-path=\"url(#clip180)\" style=\"stroke:#000000; stroke-linecap:round; stroke-linejoin:round; stroke-width:4; stroke-opacity:1; fill:none\" points=\"186.274,418.663 205.172,418.663 \"/>\n",
       "<polyline clip-path=\"url(#clip180)\" style=\"stroke:#000000; stroke-linecap:round; stroke-linejoin:round; stroke-width:4; stroke-opacity:1; fill:none\" points=\"186.274,74.9371 205.172,74.9371 \"/>\n",
       "<path clip-path=\"url(#clip180)\" d=\"M62.9365 1435.64 Q59.3254 1435.64 57.4967 1439.2 Q55.6912 1442.74 55.6912 1449.87 Q55.6912 1456.98 57.4967 1460.55 Q59.3254 1464.09 62.9365 1464.09 Q66.5707 1464.09 68.3763 1460.55 Q70.205 1456.98 70.205 1449.87 Q70.205 1442.74 68.3763 1439.2 Q66.5707 1435.64 62.9365 1435.64 M62.9365 1431.93 Q68.7467 1431.93 71.8022 1436.54 Q74.8809 1441.12 74.8809 1449.87 Q74.8809 1458.6 71.8022 1463.21 Q68.7467 1467.79 62.9365 1467.79 Q57.1264 1467.79 54.0477 1463.21 Q50.9921 1458.6 50.9921 1449.87 Q50.9921 1441.12 54.0477 1436.54 Q57.1264 1431.93 62.9365 1431.93 Z\" fill=\"#000000\" fill-rule=\"nonzero\" fill-opacity=\"1\" /><path clip-path=\"url(#clip180)\" d=\"M83.0984 1461.24 L87.9827 1461.24 L87.9827 1467.12 L83.0984 1467.12 L83.0984 1461.24 Z\" fill=\"#000000\" fill-rule=\"nonzero\" fill-opacity=\"1\" /><path clip-path=\"url(#clip180)\" d=\"M108.168 1435.64 Q104.557 1435.64 102.728 1439.2 Q100.922 1442.74 100.922 1449.87 Q100.922 1456.98 102.728 1460.55 Q104.557 1464.09 108.168 1464.09 Q111.802 1464.09 113.608 1460.55 Q115.436 1456.98 115.436 1449.87 Q115.436 1442.74 113.608 1439.2 Q111.802 1435.64 108.168 1435.64 M108.168 1431.93 Q113.978 1431.93 117.033 1436.54 Q120.112 1441.12 120.112 1449.87 Q120.112 1458.6 117.033 1463.21 Q113.978 1467.79 108.168 1467.79 Q102.358 1467.79 99.2789 1463.21 Q96.2234 1458.6 96.2234 1449.87 Q96.2234 1441.12 99.2789 1436.54 Q102.358 1431.93 108.168 1431.93 Z\" fill=\"#000000\" fill-rule=\"nonzero\" fill-opacity=\"1\" /><path clip-path=\"url(#clip180)\" d=\"M138.33 1435.64 Q134.719 1435.64 132.89 1439.2 Q131.084 1442.74 131.084 1449.87 Q131.084 1456.98 132.89 1460.55 Q134.719 1464.09 138.33 1464.09 Q141.964 1464.09 143.769 1460.55 Q145.598 1456.98 145.598 1449.87 Q145.598 1442.74 143.769 1439.2 Q141.964 1435.64 138.33 1435.64 M138.33 1431.93 Q144.14 1431.93 147.195 1436.54 Q150.274 1441.12 150.274 1449.87 Q150.274 1458.6 147.195 1463.21 Q144.14 1467.79 138.33 1467.79 Q132.519 1467.79 129.441 1463.21 Q126.385 1458.6 126.385 1449.87 Q126.385 1441.12 129.441 1436.54 Q132.519 1431.93 138.33 1431.93 Z\" fill=\"#000000\" fill-rule=\"nonzero\" fill-opacity=\"1\" /><path clip-path=\"url(#clip180)\" d=\"M63.9319 1091.91 Q60.3208 1091.91 58.4921 1095.48 Q56.6865 1099.02 56.6865 1106.15 Q56.6865 1113.26 58.4921 1116.82 Q60.3208 1120.36 63.9319 1120.36 Q67.5661 1120.36 69.3717 1116.82 Q71.2004 1113.26 71.2004 1106.15 Q71.2004 1099.02 69.3717 1095.48 Q67.5661 1091.91 63.9319 1091.91 M63.9319 1088.21 Q69.742 1088.21 72.7976 1092.82 Q75.8763 1097.4 75.8763 1106.15 Q75.8763 1114.88 72.7976 1119.48 Q69.742 1124.07 63.9319 1124.07 Q58.1217 1124.07 55.043 1119.48 Q51.9875 1114.88 51.9875 1106.15 Q51.9875 1097.4 55.043 1092.82 Q58.1217 1088.21 63.9319 1088.21 Z\" fill=\"#000000\" fill-rule=\"nonzero\" fill-opacity=\"1\" /><path clip-path=\"url(#clip180)\" d=\"M84.0938 1117.51 L88.978 1117.51 L88.978 1123.39 L84.0938 1123.39 L84.0938 1117.51 Z\" fill=\"#000000\" fill-rule=\"nonzero\" fill-opacity=\"1\" /><path clip-path=\"url(#clip180)\" d=\"M103.191 1119.46 L119.51 1119.46 L119.51 1123.39 L97.566 1123.39 L97.566 1119.46 Q100.228 1116.7 104.811 1112.07 Q109.418 1107.42 110.598 1106.08 Q112.844 1103.56 113.723 1101.82 Q114.626 1100.06 114.626 1098.37 Q114.626 1095.62 112.682 1093.88 Q110.76 1092.14 107.658 1092.14 Q105.459 1092.14 103.006 1092.91 Q100.575 1093.67 97.7974 1095.22 L97.7974 1090.5 Q100.621 1089.37 103.075 1088.79 Q105.529 1088.21 107.566 1088.21 Q112.936 1088.21 116.131 1090.89 Q119.325 1093.58 119.325 1098.07 Q119.325 1100.2 118.515 1102.12 Q117.728 1104.02 115.621 1106.61 Q115.043 1107.28 111.941 1110.5 Q108.839 1113.69 103.191 1119.46 Z\" fill=\"#000000\" fill-rule=\"nonzero\" fill-opacity=\"1\" /><path clip-path=\"url(#clip180)\" d=\"M129.371 1088.83 L147.728 1088.83 L147.728 1092.77 L133.654 1092.77 L133.654 1101.24 Q134.672 1100.89 135.691 1100.73 Q136.709 1100.55 137.728 1100.55 Q143.515 1100.55 146.894 1103.72 Q150.274 1106.89 150.274 1112.31 Q150.274 1117.88 146.802 1120.99 Q143.33 1124.07 137.01 1124.07 Q134.834 1124.07 132.566 1123.69 Q130.32 1123.32 127.913 1122.58 L127.913 1117.88 Q129.996 1119.02 132.219 1119.57 Q134.441 1120.13 136.918 1120.13 Q140.922 1120.13 143.26 1118.02 Q145.598 1115.92 145.598 1112.31 Q145.598 1108.69 143.26 1106.59 Q140.922 1104.48 136.918 1104.48 Q135.043 1104.48 133.168 1104.9 Q131.316 1105.32 129.371 1106.19 L129.371 1088.83 Z\" fill=\"#000000\" fill-rule=\"nonzero\" fill-opacity=\"1\" /><path clip-path=\"url(#clip180)\" d=\"M62.9365 748.187 Q59.3254 748.187 57.4967 751.752 Q55.6912 755.293 55.6912 762.423 Q55.6912 769.53 57.4967 773.094 Q59.3254 776.636 62.9365 776.636 Q66.5707 776.636 68.3763 773.094 Q70.205 769.53 70.205 762.423 Q70.205 755.293 68.3763 751.752 Q66.5707 748.187 62.9365 748.187 M62.9365 744.483 Q68.7467 744.483 71.8022 749.09 Q74.8809 753.673 74.8809 762.423 Q74.8809 771.15 71.8022 775.756 Q68.7467 780.34 62.9365 780.34 Q57.1264 780.34 54.0477 775.756 Q50.9921 771.15 50.9921 762.423 Q50.9921 753.673 54.0477 749.09 Q57.1264 744.483 62.9365 744.483 Z\" fill=\"#000000\" fill-rule=\"nonzero\" fill-opacity=\"1\" /><path clip-path=\"url(#clip180)\" d=\"M83.0984 773.789 L87.9827 773.789 L87.9827 779.668 L83.0984 779.668 L83.0984 773.789 Z\" fill=\"#000000\" fill-rule=\"nonzero\" fill-opacity=\"1\" /><path clip-path=\"url(#clip180)\" d=\"M98.2141 745.108 L116.57 745.108 L116.57 749.044 L102.496 749.044 L102.496 757.516 Q103.515 757.168 104.534 757.006 Q105.552 756.821 106.571 756.821 Q112.358 756.821 115.737 759.993 Q119.117 763.164 119.117 768.58 Q119.117 774.159 115.645 777.261 Q112.172 780.34 105.853 780.34 Q103.677 780.34 101.409 779.969 Q99.1632 779.599 96.7558 778.858 L96.7558 774.159 Q98.8391 775.293 101.061 775.849 Q103.284 776.404 105.76 776.404 Q109.765 776.404 112.103 774.298 Q114.441 772.192 114.441 768.58 Q114.441 764.969 112.103 762.863 Q109.765 760.756 105.76 760.756 Q103.885 760.756 102.01 761.173 Q100.159 761.59 98.2141 762.469 L98.2141 745.108 Z\" fill=\"#000000\" fill-rule=\"nonzero\" fill-opacity=\"1\" /><path clip-path=\"url(#clip180)\" d=\"M138.33 748.187 Q134.719 748.187 132.89 751.752 Q131.084 755.293 131.084 762.423 Q131.084 769.53 132.89 773.094 Q134.719 776.636 138.33 776.636 Q141.964 776.636 143.769 773.094 Q145.598 769.53 145.598 762.423 Q145.598 755.293 143.769 751.752 Q141.964 748.187 138.33 748.187 M138.33 744.483 Q144.14 744.483 147.195 749.09 Q150.274 753.673 150.274 762.423 Q150.274 771.15 147.195 775.756 Q144.14 780.34 138.33 780.34 Q132.519 780.34 129.441 775.756 Q126.385 771.15 126.385 762.423 Q126.385 753.673 129.441 749.09 Q132.519 744.483 138.33 744.483 Z\" fill=\"#000000\" fill-rule=\"nonzero\" fill-opacity=\"1\" /><path clip-path=\"url(#clip180)\" d=\"M63.9319 404.461 Q60.3208 404.461 58.4921 408.026 Q56.6865 411.568 56.6865 418.697 Q56.6865 425.804 58.4921 429.369 Q60.3208 432.91 63.9319 432.91 Q67.5661 432.91 69.3717 429.369 Q71.2004 425.804 71.2004 418.697 Q71.2004 411.568 69.3717 408.026 Q67.5661 404.461 63.9319 404.461 M63.9319 400.758 Q69.742 400.758 72.7976 405.364 Q75.8763 409.948 75.8763 418.697 Q75.8763 427.424 72.7976 432.031 Q69.742 436.614 63.9319 436.614 Q58.1217 436.614 55.043 432.031 Q51.9875 427.424 51.9875 418.697 Q51.9875 409.948 55.043 405.364 Q58.1217 400.758 63.9319 400.758 Z\" fill=\"#000000\" fill-rule=\"nonzero\" fill-opacity=\"1\" /><path clip-path=\"url(#clip180)\" d=\"M84.0938 430.063 L88.978 430.063 L88.978 435.943 L84.0938 435.943 L84.0938 430.063 Z\" fill=\"#000000\" fill-rule=\"nonzero\" fill-opacity=\"1\" /><path clip-path=\"url(#clip180)\" d=\"M97.9826 401.383 L120.205 401.383 L120.205 403.373 L107.658 435.943 L102.774 435.943 L114.58 405.318 L97.9826 405.318 L97.9826 401.383 Z\" fill=\"#000000\" fill-rule=\"nonzero\" fill-opacity=\"1\" /><path clip-path=\"url(#clip180)\" d=\"M129.371 401.383 L147.728 401.383 L147.728 405.318 L133.654 405.318 L133.654 413.79 Q134.672 413.443 135.691 413.281 Q136.709 413.096 137.728 413.096 Q143.515 413.096 146.894 416.267 Q150.274 419.438 150.274 424.855 Q150.274 430.434 146.802 433.535 Q143.33 436.614 137.01 436.614 Q134.834 436.614 132.566 436.244 Q130.32 435.873 127.913 435.133 L127.913 430.434 Q129.996 431.568 132.219 432.123 Q134.441 432.679 136.918 432.679 Q140.922 432.679 143.26 430.572 Q145.598 428.466 145.598 424.855 Q145.598 421.244 143.26 419.137 Q140.922 417.031 136.918 417.031 Q135.043 417.031 133.168 417.447 Q131.316 417.864 129.371 418.744 L129.371 401.383 Z\" fill=\"#000000\" fill-rule=\"nonzero\" fill-opacity=\"1\" /><path clip-path=\"url(#clip180)\" d=\"M53.7467 88.282 L61.3856 88.282 L61.3856 61.9164 L53.0754 63.583 L53.0754 59.3238 L61.3393 57.6571 L66.0152 57.6571 L66.0152 88.282 L73.654 88.282 L73.654 92.2171 L53.7467 92.2171 L53.7467 88.282 Z\" fill=\"#000000\" fill-rule=\"nonzero\" fill-opacity=\"1\" /><path clip-path=\"url(#clip180)\" d=\"M83.0984 86.3375 L87.9827 86.3375 L87.9827 92.2171 L83.0984 92.2171 L83.0984 86.3375 Z\" fill=\"#000000\" fill-rule=\"nonzero\" fill-opacity=\"1\" /><path clip-path=\"url(#clip180)\" d=\"M108.168 60.7358 Q104.557 60.7358 102.728 64.3006 Q100.922 67.8423 100.922 74.9718 Q100.922 82.0783 102.728 85.6431 Q104.557 89.1847 108.168 89.1847 Q111.802 89.1847 113.608 85.6431 Q115.436 82.0783 115.436 74.9718 Q115.436 67.8423 113.608 64.3006 Q111.802 60.7358 108.168 60.7358 M108.168 57.0321 Q113.978 57.0321 117.033 61.6386 Q120.112 66.2219 120.112 74.9718 Q120.112 83.6987 117.033 88.3051 Q113.978 92.8884 108.168 92.8884 Q102.358 92.8884 99.2789 88.3051 Q96.2234 83.6987 96.2234 74.9718 Q96.2234 66.2219 99.2789 61.6386 Q102.358 57.0321 108.168 57.0321 Z\" fill=\"#000000\" fill-rule=\"nonzero\" fill-opacity=\"1\" /><path clip-path=\"url(#clip180)\" d=\"M138.33 60.7358 Q134.719 60.7358 132.89 64.3006 Q131.084 67.8423 131.084 74.9718 Q131.084 82.0783 132.89 85.6431 Q134.719 89.1847 138.33 89.1847 Q141.964 89.1847 143.769 85.6431 Q145.598 82.0783 145.598 74.9718 Q145.598 67.8423 143.769 64.3006 Q141.964 60.7358 138.33 60.7358 M138.33 57.0321 Q144.14 57.0321 147.195 61.6386 Q150.274 66.2219 150.274 74.9718 Q150.274 83.6987 147.195 88.3051 Q144.14 92.8884 138.33 92.8884 Q132.519 92.8884 129.441 88.3051 Q126.385 83.6987 126.385 74.9718 Q126.385 66.2219 129.441 61.6386 Q132.519 57.0321 138.33 57.0321 Z\" fill=\"#000000\" fill-rule=\"nonzero\" fill-opacity=\"1\" /><polyline clip-path=\"url(#clip182)\" style=\"stroke:#009af9; stroke-linecap:round; stroke-linejoin:round; stroke-width:4; stroke-opacity:1; fill:none\" points=\"247.59,304.529 336.453,518.286 425.316,426.808 514.179,805.281 603.042,511.731 691.905,786.86 780.768,1444.87 869.631,391.502 958.494,945.765 1047.36,121.394 1136.22,669.323 1225.08,1359.17 1313.95,547.146 1402.81,855.575 1491.67,1257.37 1580.54,880.77 1669.4,1400.12 1758.26,400.347 1847.12,987.371 1935.99,938.139 2024.85,1438.94 2113.71,1129.45 2202.58,1368.98 2291.44,193.618 \"/>\n",
       "<polyline clip-path=\"url(#clip182)\" style=\"stroke:#e26f46; stroke-linecap:round; stroke-linejoin:round; stroke-width:4; stroke-opacity:1; fill:none\" points=\"247.59,270.929 336.453,1124.1 425.316,833.924 514.179,1108.12 603.042,340.023 691.905,450.448 780.768,1180.38 869.631,769.957 958.494,355.716 1047.36,1436.09 1136.22,1396.54 1225.08,312.492 1313.95,542.084 1402.81,794.862 1491.67,1385.49 1580.54,120.898 1669.4,1085.58 1758.26,501.266 1847.12,1445.72 1935.99,555.426 2024.85,1144.13 2113.71,759.626 2202.58,87.9763 2291.44,1191.19 \"/>\n",
       "<polyline clip-path=\"url(#clip182)\" style=\"stroke:#3da44d; stroke-linecap:round; stroke-linejoin:round; stroke-width:4; stroke-opacity:1; fill:none\" points=\"247.59,838.225 336.453,973.124 425.316,666.77 514.179,1145.43 603.042,474.124 691.905,789.502 780.768,689.942 869.631,1022.83 958.494,885.262 1047.36,131.604 1136.22,360.69 1225.08,543.607 1313.95,1122.3 1402.81,128.953 1491.67,658.996 1580.54,1332.11 1669.4,1286.65 1758.26,453.338 1847.12,1220 1935.99,391.847 2024.85,1066.94 2113.71,706.347 2202.58,553.043 2291.44,679.436 \"/>\n",
       "</svg>\n"
      ],
      "text/html": [
       "<?xml version=\"1.0\" encoding=\"utf-8\"?>\n",
       "<svg xmlns=\"http://www.w3.org/2000/svg\" xmlns:xlink=\"http://www.w3.org/1999/xlink\" width=\"600\" height=\"400\" viewBox=\"0 0 2400 1600\">\n",
       "<defs>\n",
       "  <clipPath id=\"clip230\">\n",
       "    <rect x=\"0\" y=\"0\" width=\"2400\" height=\"1600\"/>\n",
       "  </clipPath>\n",
       "</defs>\n",
       "<path clip-path=\"url(#clip230)\" d=\"M0 1600 L2400 1600 L2400 0 L0 0  Z\" fill=\"#ffffff\" fill-rule=\"evenodd\" fill-opacity=\"1\"/>\n",
       "<defs>\n",
       "  <clipPath id=\"clip231\">\n",
       "    <rect x=\"480\" y=\"0\" width=\"1681\" height=\"1600\"/>\n",
       "  </clipPath>\n",
       "</defs>\n",
       "<path clip-path=\"url(#clip230)\" d=\"M186.274 1486.45 L2352.76 1486.45 L2352.76 47.2441 L186.274 47.2441  Z\" fill=\"#ffffff\" fill-rule=\"evenodd\" fill-opacity=\"1\"/>\n",
       "<defs>\n",
       "  <clipPath id=\"clip232\">\n",
       "    <rect x=\"186\" y=\"47\" width=\"2167\" height=\"1440\"/>\n",
       "  </clipPath>\n",
       "</defs>\n",
       "<polyline clip-path=\"url(#clip232)\" style=\"stroke:#000000; stroke-linecap:round; stroke-linejoin:round; stroke-width:2; stroke-opacity:0.1; fill:none\" points=\"603.042,1486.45 603.042,47.2441 \"/>\n",
       "<polyline clip-path=\"url(#clip232)\" style=\"stroke:#000000; stroke-linecap:round; stroke-linejoin:round; stroke-width:2; stroke-opacity:0.1; fill:none\" points=\"1047.36,1486.45 1047.36,47.2441 \"/>\n",
       "<polyline clip-path=\"url(#clip232)\" style=\"stroke:#000000; stroke-linecap:round; stroke-linejoin:round; stroke-width:2; stroke-opacity:0.1; fill:none\" points=\"1491.67,1486.45 1491.67,47.2441 \"/>\n",
       "<polyline clip-path=\"url(#clip232)\" style=\"stroke:#000000; stroke-linecap:round; stroke-linejoin:round; stroke-width:2; stroke-opacity:0.1; fill:none\" points=\"1935.99,1486.45 1935.99,47.2441 \"/>\n",
       "<polyline clip-path=\"url(#clip230)\" style=\"stroke:#000000; stroke-linecap:round; stroke-linejoin:round; stroke-width:4; stroke-opacity:1; fill:none\" points=\"186.274,1486.45 2352.76,1486.45 \"/>\n",
       "<polyline clip-path=\"url(#clip230)\" style=\"stroke:#000000; stroke-linecap:round; stroke-linejoin:round; stroke-width:4; stroke-opacity:1; fill:none\" points=\"603.042,1486.45 603.042,1467.55 \"/>\n",
       "<polyline clip-path=\"url(#clip230)\" style=\"stroke:#000000; stroke-linecap:round; stroke-linejoin:round; stroke-width:4; stroke-opacity:1; fill:none\" points=\"1047.36,1486.45 1047.36,1467.55 \"/>\n",
       "<polyline clip-path=\"url(#clip230)\" style=\"stroke:#000000; stroke-linecap:round; stroke-linejoin:round; stroke-width:4; stroke-opacity:1; fill:none\" points=\"1491.67,1486.45 1491.67,1467.55 \"/>\n",
       "<polyline clip-path=\"url(#clip230)\" style=\"stroke:#000000; stroke-linecap:round; stroke-linejoin:round; stroke-width:4; stroke-opacity:1; fill:none\" points=\"1935.99,1486.45 1935.99,1467.55 \"/>\n",
       "<path clip-path=\"url(#clip230)\" d=\"M593.32 1514.29 L611.676 1514.29 L611.676 1518.22 L597.602 1518.22 L597.602 1526.7 Q598.621 1526.35 599.639 1526.19 Q600.658 1526 601.676 1526 Q607.463 1526 610.843 1529.17 Q614.222 1532.34 614.222 1537.76 Q614.222 1543.34 610.75 1546.44 Q607.278 1549.52 600.959 1549.52 Q598.783 1549.52 596.514 1549.15 Q594.269 1548.78 591.861 1548.04 L591.861 1543.34 Q593.945 1544.47 596.167 1545.03 Q598.389 1545.58 600.866 1545.58 Q604.871 1545.58 607.208 1543.48 Q609.546 1541.37 609.546 1537.76 Q609.546 1534.15 607.208 1532.04 Q604.871 1529.94 600.866 1529.94 Q598.991 1529.94 597.116 1530.35 Q595.264 1530.77 593.32 1531.65 L593.32 1514.29 Z\" fill=\"#000000\" fill-rule=\"nonzero\" fill-opacity=\"1\" /><path clip-path=\"url(#clip230)\" d=\"M1022.04 1544.91 L1029.68 1544.91 L1029.68 1518.55 L1021.37 1520.21 L1021.37 1515.95 L1029.64 1514.29 L1034.31 1514.29 L1034.31 1544.91 L1041.95 1544.91 L1041.95 1548.85 L1022.04 1548.85 L1022.04 1544.91 Z\" fill=\"#000000\" fill-rule=\"nonzero\" fill-opacity=\"1\" /><path clip-path=\"url(#clip230)\" d=\"M1061.4 1517.37 Q1057.79 1517.37 1055.96 1520.93 Q1054.15 1524.47 1054.15 1531.6 Q1054.15 1538.71 1055.96 1542.27 Q1057.79 1545.82 1061.4 1545.82 Q1065.03 1545.82 1066.84 1542.27 Q1068.67 1538.71 1068.67 1531.6 Q1068.67 1524.47 1066.84 1520.93 Q1065.03 1517.37 1061.4 1517.37 M1061.4 1513.66 Q1067.21 1513.66 1070.26 1518.27 Q1073.34 1522.85 1073.34 1531.6 Q1073.34 1540.33 1070.26 1544.94 Q1067.21 1549.52 1061.4 1549.52 Q1055.59 1549.52 1052.51 1544.94 Q1049.45 1540.33 1049.45 1531.6 Q1049.45 1522.85 1052.51 1518.27 Q1055.59 1513.66 1061.4 1513.66 Z\" fill=\"#000000\" fill-rule=\"nonzero\" fill-opacity=\"1\" /><path clip-path=\"url(#clip230)\" d=\"M1466.86 1544.91 L1474.5 1544.91 L1474.5 1518.55 L1466.19 1520.21 L1466.19 1515.95 L1474.45 1514.29 L1479.13 1514.29 L1479.13 1544.91 L1486.77 1544.91 L1486.77 1548.85 L1466.86 1548.85 L1466.86 1544.91 Z\" fill=\"#000000\" fill-rule=\"nonzero\" fill-opacity=\"1\" /><path clip-path=\"url(#clip230)\" d=\"M1496.26 1514.29 L1514.61 1514.29 L1514.61 1518.22 L1500.54 1518.22 L1500.54 1526.7 Q1501.56 1526.35 1502.58 1526.19 Q1503.59 1526 1504.61 1526 Q1510.4 1526 1513.78 1529.17 Q1517.16 1532.34 1517.16 1537.76 Q1517.16 1543.34 1513.69 1546.44 Q1510.21 1549.52 1503.89 1549.52 Q1501.72 1549.52 1499.45 1549.15 Q1497.21 1548.78 1494.8 1548.04 L1494.8 1543.34 Q1496.88 1544.47 1499.1 1545.03 Q1501.33 1545.58 1503.8 1545.58 Q1507.81 1545.58 1510.14 1543.48 Q1512.48 1541.37 1512.48 1537.76 Q1512.48 1534.15 1510.14 1532.04 Q1507.81 1529.94 1503.8 1529.94 Q1501.93 1529.94 1500.05 1530.35 Q1498.2 1530.77 1496.26 1531.65 L1496.26 1514.29 Z\" fill=\"#000000\" fill-rule=\"nonzero\" fill-opacity=\"1\" /><path clip-path=\"url(#clip230)\" d=\"M1914.76 1544.91 L1931.08 1544.91 L1931.08 1548.85 L1909.14 1548.85 L1909.14 1544.91 Q1911.8 1542.16 1916.38 1537.53 Q1920.99 1532.88 1922.17 1531.53 Q1924.41 1529.01 1925.29 1527.27 Q1926.2 1525.51 1926.2 1523.82 Q1926.2 1521.07 1924.25 1519.33 Q1922.33 1517.6 1919.23 1517.6 Q1917.03 1517.6 1914.58 1518.36 Q1912.15 1519.13 1909.37 1520.68 L1909.37 1515.95 Q1912.19 1514.82 1914.65 1514.24 Q1917.1 1513.66 1919.14 1513.66 Q1924.51 1513.66 1927.7 1516.35 Q1930.9 1519.03 1930.9 1523.52 Q1930.9 1525.65 1930.09 1527.57 Q1929.3 1529.47 1927.19 1532.07 Q1926.61 1532.74 1923.51 1535.95 Q1920.41 1539.15 1914.76 1544.91 Z\" fill=\"#000000\" fill-rule=\"nonzero\" fill-opacity=\"1\" /><path clip-path=\"url(#clip230)\" d=\"M1950.9 1517.37 Q1947.28 1517.37 1945.46 1520.93 Q1943.65 1524.47 1943.65 1531.6 Q1943.65 1538.71 1945.46 1542.27 Q1947.28 1545.82 1950.9 1545.82 Q1954.53 1545.82 1956.34 1542.27 Q1958.16 1538.71 1958.16 1531.6 Q1958.16 1524.47 1956.34 1520.93 Q1954.53 1517.37 1950.9 1517.37 M1950.9 1513.66 Q1956.71 1513.66 1959.76 1518.27 Q1962.84 1522.85 1962.84 1531.6 Q1962.84 1540.33 1959.76 1544.94 Q1956.71 1549.52 1950.9 1549.52 Q1945.09 1549.52 1942.01 1544.94 Q1938.95 1540.33 1938.95 1531.6 Q1938.95 1522.85 1942.01 1518.27 Q1945.09 1513.66 1950.9 1513.66 Z\" fill=\"#000000\" fill-rule=\"nonzero\" fill-opacity=\"1\" /><polyline clip-path=\"url(#clip232)\" style=\"stroke:#000000; stroke-linecap:round; stroke-linejoin:round; stroke-width:2; stroke-opacity:0.1; fill:none\" points=\"186.274,1449.84 2352.76,1449.84 \"/>\n",
       "<polyline clip-path=\"url(#clip232)\" style=\"stroke:#000000; stroke-linecap:round; stroke-linejoin:round; stroke-width:2; stroke-opacity:0.1; fill:none\" points=\"186.274,1106.11 2352.76,1106.11 \"/>\n",
       "<polyline clip-path=\"url(#clip232)\" style=\"stroke:#000000; stroke-linecap:round; stroke-linejoin:round; stroke-width:2; stroke-opacity:0.1; fill:none\" points=\"186.274,762.388 2352.76,762.388 \"/>\n",
       "<polyline clip-path=\"url(#clip232)\" style=\"stroke:#000000; stroke-linecap:round; stroke-linejoin:round; stroke-width:2; stroke-opacity:0.1; fill:none\" points=\"186.274,418.663 2352.76,418.663 \"/>\n",
       "<polyline clip-path=\"url(#clip232)\" style=\"stroke:#000000; stroke-linecap:round; stroke-linejoin:round; stroke-width:2; stroke-opacity:0.1; fill:none\" points=\"186.274,74.9371 2352.76,74.9371 \"/>\n",
       "<polyline clip-path=\"url(#clip230)\" style=\"stroke:#000000; stroke-linecap:round; stroke-linejoin:round; stroke-width:4; stroke-opacity:1; fill:none\" points=\"186.274,1486.45 186.274,47.2441 \"/>\n",
       "<polyline clip-path=\"url(#clip230)\" style=\"stroke:#000000; stroke-linecap:round; stroke-linejoin:round; stroke-width:4; stroke-opacity:1; fill:none\" points=\"186.274,1449.84 205.172,1449.84 \"/>\n",
       "<polyline clip-path=\"url(#clip230)\" style=\"stroke:#000000; stroke-linecap:round; stroke-linejoin:round; stroke-width:4; stroke-opacity:1; fill:none\" points=\"186.274,1106.11 205.172,1106.11 \"/>\n",
       "<polyline clip-path=\"url(#clip230)\" style=\"stroke:#000000; stroke-linecap:round; stroke-linejoin:round; stroke-width:4; stroke-opacity:1; fill:none\" points=\"186.274,762.388 205.172,762.388 \"/>\n",
       "<polyline clip-path=\"url(#clip230)\" style=\"stroke:#000000; stroke-linecap:round; stroke-linejoin:round; stroke-width:4; stroke-opacity:1; fill:none\" points=\"186.274,418.663 205.172,418.663 \"/>\n",
       "<polyline clip-path=\"url(#clip230)\" style=\"stroke:#000000; stroke-linecap:round; stroke-linejoin:round; stroke-width:4; stroke-opacity:1; fill:none\" points=\"186.274,74.9371 205.172,74.9371 \"/>\n",
       "<path clip-path=\"url(#clip230)\" d=\"M62.9365 1435.64 Q59.3254 1435.64 57.4967 1439.2 Q55.6912 1442.74 55.6912 1449.87 Q55.6912 1456.98 57.4967 1460.55 Q59.3254 1464.09 62.9365 1464.09 Q66.5707 1464.09 68.3763 1460.55 Q70.205 1456.98 70.205 1449.87 Q70.205 1442.74 68.3763 1439.2 Q66.5707 1435.64 62.9365 1435.64 M62.9365 1431.93 Q68.7467 1431.93 71.8022 1436.54 Q74.8809 1441.12 74.8809 1449.87 Q74.8809 1458.6 71.8022 1463.21 Q68.7467 1467.79 62.9365 1467.79 Q57.1264 1467.79 54.0477 1463.21 Q50.9921 1458.6 50.9921 1449.87 Q50.9921 1441.12 54.0477 1436.54 Q57.1264 1431.93 62.9365 1431.93 Z\" fill=\"#000000\" fill-rule=\"nonzero\" fill-opacity=\"1\" /><path clip-path=\"url(#clip230)\" d=\"M83.0984 1461.24 L87.9827 1461.24 L87.9827 1467.12 L83.0984 1467.12 L83.0984 1461.24 Z\" fill=\"#000000\" fill-rule=\"nonzero\" fill-opacity=\"1\" /><path clip-path=\"url(#clip230)\" d=\"M108.168 1435.64 Q104.557 1435.64 102.728 1439.2 Q100.922 1442.74 100.922 1449.87 Q100.922 1456.98 102.728 1460.55 Q104.557 1464.09 108.168 1464.09 Q111.802 1464.09 113.608 1460.55 Q115.436 1456.98 115.436 1449.87 Q115.436 1442.74 113.608 1439.2 Q111.802 1435.64 108.168 1435.64 M108.168 1431.93 Q113.978 1431.93 117.033 1436.54 Q120.112 1441.12 120.112 1449.87 Q120.112 1458.6 117.033 1463.21 Q113.978 1467.79 108.168 1467.79 Q102.358 1467.79 99.2789 1463.21 Q96.2234 1458.6 96.2234 1449.87 Q96.2234 1441.12 99.2789 1436.54 Q102.358 1431.93 108.168 1431.93 Z\" fill=\"#000000\" fill-rule=\"nonzero\" fill-opacity=\"1\" /><path clip-path=\"url(#clip230)\" d=\"M138.33 1435.64 Q134.719 1435.64 132.89 1439.2 Q131.084 1442.74 131.084 1449.87 Q131.084 1456.98 132.89 1460.55 Q134.719 1464.09 138.33 1464.09 Q141.964 1464.09 143.769 1460.55 Q145.598 1456.98 145.598 1449.87 Q145.598 1442.74 143.769 1439.2 Q141.964 1435.64 138.33 1435.64 M138.33 1431.93 Q144.14 1431.93 147.195 1436.54 Q150.274 1441.12 150.274 1449.87 Q150.274 1458.6 147.195 1463.21 Q144.14 1467.79 138.33 1467.79 Q132.519 1467.79 129.441 1463.21 Q126.385 1458.6 126.385 1449.87 Q126.385 1441.12 129.441 1436.54 Q132.519 1431.93 138.33 1431.93 Z\" fill=\"#000000\" fill-rule=\"nonzero\" fill-opacity=\"1\" /><path clip-path=\"url(#clip230)\" d=\"M63.9319 1091.91 Q60.3208 1091.91 58.4921 1095.48 Q56.6865 1099.02 56.6865 1106.15 Q56.6865 1113.26 58.4921 1116.82 Q60.3208 1120.36 63.9319 1120.36 Q67.5661 1120.36 69.3717 1116.82 Q71.2004 1113.26 71.2004 1106.15 Q71.2004 1099.02 69.3717 1095.48 Q67.5661 1091.91 63.9319 1091.91 M63.9319 1088.21 Q69.742 1088.21 72.7976 1092.82 Q75.8763 1097.4 75.8763 1106.15 Q75.8763 1114.88 72.7976 1119.48 Q69.742 1124.07 63.9319 1124.07 Q58.1217 1124.07 55.043 1119.48 Q51.9875 1114.88 51.9875 1106.15 Q51.9875 1097.4 55.043 1092.82 Q58.1217 1088.21 63.9319 1088.21 Z\" fill=\"#000000\" fill-rule=\"nonzero\" fill-opacity=\"1\" /><path clip-path=\"url(#clip230)\" d=\"M84.0938 1117.51 L88.978 1117.51 L88.978 1123.39 L84.0938 1123.39 L84.0938 1117.51 Z\" fill=\"#000000\" fill-rule=\"nonzero\" fill-opacity=\"1\" /><path clip-path=\"url(#clip230)\" d=\"M103.191 1119.46 L119.51 1119.46 L119.51 1123.39 L97.566 1123.39 L97.566 1119.46 Q100.228 1116.7 104.811 1112.07 Q109.418 1107.42 110.598 1106.08 Q112.844 1103.56 113.723 1101.82 Q114.626 1100.06 114.626 1098.37 Q114.626 1095.62 112.682 1093.88 Q110.76 1092.14 107.658 1092.14 Q105.459 1092.14 103.006 1092.91 Q100.575 1093.67 97.7974 1095.22 L97.7974 1090.5 Q100.621 1089.37 103.075 1088.79 Q105.529 1088.21 107.566 1088.21 Q112.936 1088.21 116.131 1090.89 Q119.325 1093.58 119.325 1098.07 Q119.325 1100.2 118.515 1102.12 Q117.728 1104.02 115.621 1106.61 Q115.043 1107.28 111.941 1110.5 Q108.839 1113.69 103.191 1119.46 Z\" fill=\"#000000\" fill-rule=\"nonzero\" fill-opacity=\"1\" /><path clip-path=\"url(#clip230)\" d=\"M129.371 1088.83 L147.728 1088.83 L147.728 1092.77 L133.654 1092.77 L133.654 1101.24 Q134.672 1100.89 135.691 1100.73 Q136.709 1100.55 137.728 1100.55 Q143.515 1100.55 146.894 1103.72 Q150.274 1106.89 150.274 1112.31 Q150.274 1117.88 146.802 1120.99 Q143.33 1124.07 137.01 1124.07 Q134.834 1124.07 132.566 1123.69 Q130.32 1123.32 127.913 1122.58 L127.913 1117.88 Q129.996 1119.02 132.219 1119.57 Q134.441 1120.13 136.918 1120.13 Q140.922 1120.13 143.26 1118.02 Q145.598 1115.92 145.598 1112.31 Q145.598 1108.69 143.26 1106.59 Q140.922 1104.48 136.918 1104.48 Q135.043 1104.48 133.168 1104.9 Q131.316 1105.32 129.371 1106.19 L129.371 1088.83 Z\" fill=\"#000000\" fill-rule=\"nonzero\" fill-opacity=\"1\" /><path clip-path=\"url(#clip230)\" d=\"M62.9365 748.187 Q59.3254 748.187 57.4967 751.752 Q55.6912 755.293 55.6912 762.423 Q55.6912 769.53 57.4967 773.094 Q59.3254 776.636 62.9365 776.636 Q66.5707 776.636 68.3763 773.094 Q70.205 769.53 70.205 762.423 Q70.205 755.293 68.3763 751.752 Q66.5707 748.187 62.9365 748.187 M62.9365 744.483 Q68.7467 744.483 71.8022 749.09 Q74.8809 753.673 74.8809 762.423 Q74.8809 771.15 71.8022 775.756 Q68.7467 780.34 62.9365 780.34 Q57.1264 780.34 54.0477 775.756 Q50.9921 771.15 50.9921 762.423 Q50.9921 753.673 54.0477 749.09 Q57.1264 744.483 62.9365 744.483 Z\" fill=\"#000000\" fill-rule=\"nonzero\" fill-opacity=\"1\" /><path clip-path=\"url(#clip230)\" d=\"M83.0984 773.789 L87.9827 773.789 L87.9827 779.668 L83.0984 779.668 L83.0984 773.789 Z\" fill=\"#000000\" fill-rule=\"nonzero\" fill-opacity=\"1\" /><path clip-path=\"url(#clip230)\" d=\"M98.2141 745.108 L116.57 745.108 L116.57 749.044 L102.496 749.044 L102.496 757.516 Q103.515 757.168 104.534 757.006 Q105.552 756.821 106.571 756.821 Q112.358 756.821 115.737 759.993 Q119.117 763.164 119.117 768.58 Q119.117 774.159 115.645 777.261 Q112.172 780.34 105.853 780.34 Q103.677 780.34 101.409 779.969 Q99.1632 779.599 96.7558 778.858 L96.7558 774.159 Q98.8391 775.293 101.061 775.849 Q103.284 776.404 105.76 776.404 Q109.765 776.404 112.103 774.298 Q114.441 772.192 114.441 768.58 Q114.441 764.969 112.103 762.863 Q109.765 760.756 105.76 760.756 Q103.885 760.756 102.01 761.173 Q100.159 761.59 98.2141 762.469 L98.2141 745.108 Z\" fill=\"#000000\" fill-rule=\"nonzero\" fill-opacity=\"1\" /><path clip-path=\"url(#clip230)\" d=\"M138.33 748.187 Q134.719 748.187 132.89 751.752 Q131.084 755.293 131.084 762.423 Q131.084 769.53 132.89 773.094 Q134.719 776.636 138.33 776.636 Q141.964 776.636 143.769 773.094 Q145.598 769.53 145.598 762.423 Q145.598 755.293 143.769 751.752 Q141.964 748.187 138.33 748.187 M138.33 744.483 Q144.14 744.483 147.195 749.09 Q150.274 753.673 150.274 762.423 Q150.274 771.15 147.195 775.756 Q144.14 780.34 138.33 780.34 Q132.519 780.34 129.441 775.756 Q126.385 771.15 126.385 762.423 Q126.385 753.673 129.441 749.09 Q132.519 744.483 138.33 744.483 Z\" fill=\"#000000\" fill-rule=\"nonzero\" fill-opacity=\"1\" /><path clip-path=\"url(#clip230)\" d=\"M63.9319 404.461 Q60.3208 404.461 58.4921 408.026 Q56.6865 411.568 56.6865 418.697 Q56.6865 425.804 58.4921 429.369 Q60.3208 432.91 63.9319 432.91 Q67.5661 432.91 69.3717 429.369 Q71.2004 425.804 71.2004 418.697 Q71.2004 411.568 69.3717 408.026 Q67.5661 404.461 63.9319 404.461 M63.9319 400.758 Q69.742 400.758 72.7976 405.364 Q75.8763 409.948 75.8763 418.697 Q75.8763 427.424 72.7976 432.031 Q69.742 436.614 63.9319 436.614 Q58.1217 436.614 55.043 432.031 Q51.9875 427.424 51.9875 418.697 Q51.9875 409.948 55.043 405.364 Q58.1217 400.758 63.9319 400.758 Z\" fill=\"#000000\" fill-rule=\"nonzero\" fill-opacity=\"1\" /><path clip-path=\"url(#clip230)\" d=\"M84.0938 430.063 L88.978 430.063 L88.978 435.943 L84.0938 435.943 L84.0938 430.063 Z\" fill=\"#000000\" fill-rule=\"nonzero\" fill-opacity=\"1\" /><path clip-path=\"url(#clip230)\" d=\"M97.9826 401.383 L120.205 401.383 L120.205 403.373 L107.658 435.943 L102.774 435.943 L114.58 405.318 L97.9826 405.318 L97.9826 401.383 Z\" fill=\"#000000\" fill-rule=\"nonzero\" fill-opacity=\"1\" /><path clip-path=\"url(#clip230)\" d=\"M129.371 401.383 L147.728 401.383 L147.728 405.318 L133.654 405.318 L133.654 413.79 Q134.672 413.443 135.691 413.281 Q136.709 413.096 137.728 413.096 Q143.515 413.096 146.894 416.267 Q150.274 419.438 150.274 424.855 Q150.274 430.434 146.802 433.535 Q143.33 436.614 137.01 436.614 Q134.834 436.614 132.566 436.244 Q130.32 435.873 127.913 435.133 L127.913 430.434 Q129.996 431.568 132.219 432.123 Q134.441 432.679 136.918 432.679 Q140.922 432.679 143.26 430.572 Q145.598 428.466 145.598 424.855 Q145.598 421.244 143.26 419.137 Q140.922 417.031 136.918 417.031 Q135.043 417.031 133.168 417.447 Q131.316 417.864 129.371 418.744 L129.371 401.383 Z\" fill=\"#000000\" fill-rule=\"nonzero\" fill-opacity=\"1\" /><path clip-path=\"url(#clip230)\" d=\"M53.7467 88.282 L61.3856 88.282 L61.3856 61.9164 L53.0754 63.583 L53.0754 59.3238 L61.3393 57.6571 L66.0152 57.6571 L66.0152 88.282 L73.654 88.282 L73.654 92.2171 L53.7467 92.2171 L53.7467 88.282 Z\" fill=\"#000000\" fill-rule=\"nonzero\" fill-opacity=\"1\" /><path clip-path=\"url(#clip230)\" d=\"M83.0984 86.3375 L87.9827 86.3375 L87.9827 92.2171 L83.0984 92.2171 L83.0984 86.3375 Z\" fill=\"#000000\" fill-rule=\"nonzero\" fill-opacity=\"1\" /><path clip-path=\"url(#clip230)\" d=\"M108.168 60.7358 Q104.557 60.7358 102.728 64.3006 Q100.922 67.8423 100.922 74.9718 Q100.922 82.0783 102.728 85.6431 Q104.557 89.1847 108.168 89.1847 Q111.802 89.1847 113.608 85.6431 Q115.436 82.0783 115.436 74.9718 Q115.436 67.8423 113.608 64.3006 Q111.802 60.7358 108.168 60.7358 M108.168 57.0321 Q113.978 57.0321 117.033 61.6386 Q120.112 66.2219 120.112 74.9718 Q120.112 83.6987 117.033 88.3051 Q113.978 92.8884 108.168 92.8884 Q102.358 92.8884 99.2789 88.3051 Q96.2234 83.6987 96.2234 74.9718 Q96.2234 66.2219 99.2789 61.6386 Q102.358 57.0321 108.168 57.0321 Z\" fill=\"#000000\" fill-rule=\"nonzero\" fill-opacity=\"1\" /><path clip-path=\"url(#clip230)\" d=\"M138.33 60.7358 Q134.719 60.7358 132.89 64.3006 Q131.084 67.8423 131.084 74.9718 Q131.084 82.0783 132.89 85.6431 Q134.719 89.1847 138.33 89.1847 Q141.964 89.1847 143.769 85.6431 Q145.598 82.0783 145.598 74.9718 Q145.598 67.8423 143.769 64.3006 Q141.964 60.7358 138.33 60.7358 M138.33 57.0321 Q144.14 57.0321 147.195 61.6386 Q150.274 66.2219 150.274 74.9718 Q150.274 83.6987 147.195 88.3051 Q144.14 92.8884 138.33 92.8884 Q132.519 92.8884 129.441 88.3051 Q126.385 83.6987 126.385 74.9718 Q126.385 66.2219 129.441 61.6386 Q132.519 57.0321 138.33 57.0321 Z\" fill=\"#000000\" fill-rule=\"nonzero\" fill-opacity=\"1\" /><polyline clip-path=\"url(#clip232)\" style=\"stroke:#009af9; stroke-linecap:round; stroke-linejoin:round; stroke-width:4; stroke-opacity:1; fill:none\" points=\"247.59,304.529 336.453,518.286 425.316,426.808 514.179,805.281 603.042,511.731 691.905,786.86 780.768,1444.87 869.631,391.502 958.494,945.765 1047.36,121.394 1136.22,669.323 1225.08,1359.17 1313.95,547.146 1402.81,855.575 1491.67,1257.37 1580.54,880.77 1669.4,1400.12 1758.26,400.347 1847.12,987.371 1935.99,938.139 2024.85,1438.94 2113.71,1129.45 2202.58,1368.98 2291.44,193.618 \"/>\n",
       "<polyline clip-path=\"url(#clip232)\" style=\"stroke:#e26f46; stroke-linecap:round; stroke-linejoin:round; stroke-width:4; stroke-opacity:1; fill:none\" points=\"247.59,270.929 336.453,1124.1 425.316,833.924 514.179,1108.12 603.042,340.023 691.905,450.448 780.768,1180.38 869.631,769.957 958.494,355.716 1047.36,1436.09 1136.22,1396.54 1225.08,312.492 1313.95,542.084 1402.81,794.862 1491.67,1385.49 1580.54,120.898 1669.4,1085.58 1758.26,501.266 1847.12,1445.72 1935.99,555.426 2024.85,1144.13 2113.71,759.626 2202.58,87.9763 2291.44,1191.19 \"/>\n",
       "<polyline clip-path=\"url(#clip232)\" style=\"stroke:#3da44d; stroke-linecap:round; stroke-linejoin:round; stroke-width:4; stroke-opacity:1; fill:none\" points=\"247.59,838.225 336.453,973.124 425.316,666.77 514.179,1145.43 603.042,474.124 691.905,789.502 780.768,689.942 869.631,1022.83 958.494,885.262 1047.36,131.604 1136.22,360.69 1225.08,543.607 1313.95,1122.3 1402.81,128.953 1491.67,658.996 1580.54,1332.11 1669.4,1286.65 1758.26,453.338 1847.12,1220 1935.99,391.847 2024.85,1066.94 2113.71,706.347 2202.58,553.043 2291.44,679.436 \"/>\n",
       "</svg>\n"
      ]
     },
     "metadata": {},
     "output_type": "display_data"
    }
   ],
   "source": [
    "I = 5\n",
    "T = 24\n",
    "Stages = 2\n",
    "\n",
    "mu_up = 1.0\n",
    "mu_down = 0.1\n",
    "S = 0.3\n",
    "\n",
    "PPoints = [0.0, 0.2, 0.4, 0.6, 0.8, 1.0]\n",
    "@assert length(PPoints) == I + 1\n",
    "Omega = [(inflow = Dict(r => 0.4 for r in R), price = rand(T)), (inflow = Dict(r => 0.6 for r in R), price = rand(T)), (inflow = Dict(r => 0.8 for r in R), price = rand(T))]\n",
    "P = [1/length(Omega) for om in Omega]\n",
    "println(Omega)\n",
    "Plots.plot(x = 1:T, [om.price for om in Omega], legend = false, show=true)\n",
    "\n",
    "\"\"\"\n",
    "    create_Ω(price_data, inflow_scenarios, weekday, season, scenario_count, J; quantile_bounds, stage_count)\n",
    "\"\"\"\n",
    "function create_Ω(price_data, inflow_scenarios, weekday::String, season::String, SCENARIO_COUNT::Int64, parts::Array{Participant}; quantile_bounds = 0.1, STAGE_COUNT = STAGE_COUNT)\n",
    "    price_quantiles = quantile(price_data.Sum, range(quantile_bounds, 1 - quantile_bounds, length = SCENARIO_COUNT+1))\n",
    "    price_subsets = Dict{Int64, DataFrame}()\n",
    "    for i in 1:SCENARIO_COUNT\n",
    "        price_subsets[i] = price_data[(price_data.Sum .>= price_quantiles[i]) .& (price_data.Sum .<= price_quantiles[i+1]), :]\n",
    "    end\n",
    "    price_scenarios = Dict{Int64, Vector{Any}}()\n",
    "    for s in 1:SCENARIO_COUNT\n",
    "        price_scenarios[s] = [collect(values(row)) for row in eachrow(select(price_subsets[s], Not([:Date, :Weekday, :season, :Sum])))]\n",
    "    end\n",
    "    price_sample = Dict(s =>  [price_scenarios[scen][rand(1:length(price_scenarios[scen]))] for scen in 1:SCENARIO_COUNT] for s in 1:STAGE_COUNT)\n",
    "    Ω = Dict(s => [(price = c, inflow = Q) for c in price_sample[s] for Q in inflow_scenarios] for s in 1:STAGE_COUNT)\n",
    "    P = Dict(s => [1/length(eachindex(Ω[s])) for i in eachindex(Ω[s])] for s in 1:STAGE_COUNT)\n",
    "    Ω_scenario = Dict(scenario => Dict(s => [(price = Ω[s][scenario].price, inflow = Ω[s][scenario].inflow)] for s in 1:STAGE_COUNT) for scenario in 1:SCENARIO_COUNT)\n",
    "    P_scenario = Dict(scenario => Dict(s => [1/length(eachindex(Ω_scenario[scenario][s])) for i in eachindex(Ω_scenario[scenario][s])] for s in 1:STAGE_COUNT) for scenario in 1:SCENARIO_COUNT)\n",
    "    price_threshold::Dict{Participant, Dict{Reservoir, Float64}} = Dict(p => Dict(r => quantile(price_data.Sum,0.45) for r in res) for p in parts) \n",
    "    max_hourly_price = max([max([mean(s) for s in sample]...) for sample in values(price_sample)]...)\n",
    "    return Ω, P\n",
    "end "
   ]
  },
  {
   "cell_type": "code",
   "execution_count": 95,
   "metadata": {},
   "outputs": [
    {
     "data": {
      "text/plain": [
       "subproblem_builder_single_bidding (generic function with 1 method)"
      ]
     },
     "metadata": {},
     "output_type": "display_data"
    }
   ],
   "source": [
    "function subproblem_builder_single_bidding(subproblem::Model, node::Int64)\n",
    "    # State Variables\n",
    "    @variable(subproblem, 0 <= l[r = R] <= r.maxvolume, SDDP.State, initial_value = r.currentvolume)\n",
    "    @variable(subproblem, ustart[k = K], Bin, SDDP.State, initial_value = 0)\n",
    "    @variable(subproblem, 0 <= x[i = 1:I+1, t = 1:T] <= sum(k.equivalent * k.spillreference for k in K), SDDP.State, initial_value = 0)\n",
    "    # Transition Function\n",
    "    @constraint(subproblem, increasing[i = 1:I, t=1:T], x[i,t].out <= x[i+1,t].out)\n",
    "    if node == 1\n",
    "        # We only concern ourselves with bidding in the first stage.\n",
    "        @stageobjective(subproblem, 0)\n",
    "        @constraint(subproblem, balance_transfer[r = R], l[r].out == l[r].in) # No Inflow In first stage (or fixed value)\n",
    "        @constraint(subproblem, start_transfer[k = K], ustart[k].out == ustart[k].in)\n",
    "    else\n",
    "        # Some Constraints and variables such as production specific components only become relevant in stage >= 2\n",
    "        @variable(subproblem, y[t = 1:T] >= 0)\n",
    "        @variable(subproblem, a) # Water Value through cuts\n",
    "        @variable(subproblem, 0 <= Qreal[t = 1:T, r = R])\n",
    "        @variable(subproblem, 0 <= w[t = 1:T, k = K] <= k.equivalent * k.spillreference)\n",
    "        @variable(subproblem, u[t = 1:T, k = K], Bin)\n",
    "        @variable(subproblem, d[t = 1:T, k = K], Bin)\n",
    "        @variable(subproblem, s[r = R] >= 0)\n",
    "        @variable(subproblem, z_up[t = 1:T] >= 0)\n",
    "        @variable(subproblem, z_down[t = 1:T] >= 0)\n",
    "        # Random Variables\n",
    "        @variable(subproblem, f[r = R])\n",
    "        @constraint(subproblem, watervalue[c = values(cuts)], a <= WaterCuts[c].e1 - sum(WaterCuts[c].e2[Symbol(\"l[$(r)]\")] *(c[r] - l[r].out) for r in R))\n",
    "        @constraint(subproblem, clearing[t=1:T], y[t] == sum(1* x[i,t].in +  1* x[i+1,t].in for i in 1:I-1))\n",
    "        @constraint(subproblem, balance[r = R], l[r].out == l[r].in - sum(Qreal[t,r] for t in 1:T)/T + f[r] - s[r])\n",
    "        @constraint(subproblem, planttrans1[k = K], ustart[k].in == u[1,k])\n",
    "        @constraint(subproblem, planttrans2[k = K], ustart[k].out == u[T,k])\n",
    "        # Constraints\n",
    "        @constraint(subproblem, startup[t = 1:T-1, k = K], d[t,k] >= u[t+1,k] - u[t,k])\n",
    "        @constraint(subproblem, activeplant[t = 1:T, k = K], w[t,k] <= u[t,k] * k.equivalent * k.spillreference)\n",
    "        @constraint(subproblem, production[t = 1:T, k = K], w[t,k] <= sum(Qreal[t, r] for r in find_us_reservoir(k.reservoir)) * k.equivalent)\n",
    "        @constraint(subproblem, obligation[t = 1:T], y[t] == sum(w[t, k] for k in K) + z_up[t] - z_down[t])\n",
    "        # Parameterize Uncertainty and Objective Function\n",
    "        SDDP.parameterize(subproblem, Omega, P) do om\n",
    "            for r in R\n",
    "                JuMP.fix(f[r], om.inflow[r], force=true)\n",
    "            end\n",
    "            # Define Set of active variables for each hour\n",
    "            I_t = Dict(t => 0 for t in 1:T)\n",
    "            for t in 1:T\n",
    "                for i in 1:I\n",
    "                    if (om.price[t] >= PPoints[i]) && (om.price[t] <= PPoints[i+1])\n",
    "                        I_t[t] = i\n",
    "                    end\n",
    "                end\n",
    "            end\n",
    "            # Parameterize objective through uncertain price\n",
    "            @stageobjective(subproblem, sum(om.price[t] * y[t] -  mu_up * z_up[t] + mu_down * z_down[t]  - sum(S * d[t,k] for k in K) + a for t in 1:T))\n",
    "            # Fix / Deactivate constraints by setting their coefficients to appropriate values or all zero.\n",
    "            for t in 1:T\n",
    "                for i in 1:I\n",
    "                    if (i == I_t[t])\n",
    "                        set_normalized_coefficient(clearing[t], x[i,t].in, -((om.price[t] - PPoints[i])/(PPoints[i+1] - PPoints[i])))\n",
    "                        set_normalized_coefficient(clearing[t], x[i+1,t].in, -((PPoints[i+1] - om.price[t])/(PPoints[i+1] - PPoints[i])))\n",
    "                    else\n",
    "                        set_normalized_coefficient(clearing[t], x[i,t].in, 0)\n",
    "                        set_normalized_coefficient(clearing[t], x[i+1,t].in, 0)\n",
    "                    end\n",
    "                end\n",
    "            end\n",
    "        end\n",
    "    end\n",
    "end"
   ]
  },
  {
   "cell_type": "code",
   "execution_count": 96,
   "metadata": {},
   "outputs": [
    {
     "data": {
      "text/plain": [
       "A policy graph with 2 nodes.\n",
       " Node indices: 1, 2\n"
      ]
     },
     "metadata": {},
     "output_type": "display_data"
    }
   ],
   "source": [
    "model_single_bidding = SDDP.LinearPolicyGraph(\n",
    "    subproblem_builder_single_bidding;\n",
    "    stages = Stages,\n",
    "    sense = :Max,\n",
    "    upper_bound = Stages * sum(sum(k.spillreference * k.equivalent for k in K) for t in 1:T for s in 1:Stages),\n",
    "    optimizer = CPLEX.Optimizer\n",
    ")"
   ]
  },
  {
   "cell_type": "code",
   "execution_count": 97,
   "metadata": {},
   "outputs": [
    {
     "name": "stdout",
     "output_type": "stream",
     "text": [
      "-------------------------------------------------------------------\n",
      "         SDDP.jl (c) Oscar Dowson and contributors, 2017-23\n",
      "-------------------------------------------------------------------\n",
      "problem\n",
      "  nodes           : 2\n",
      "  state variables : 159\n",
      "  scenarios       : 3.00000e+00\n",
      "  existing cuts   : false\n",
      "options\n",
      "  solver          : serial mode\n",
      "  risk measure    : SDDP.Expectation()\n",
      "  sampling scheme : SDDP.InSampleMonteCarlo\n",
      "subproblem structure\n",
      "  VariableRef                             : [319, 1380]\n",
      "  AffExpr in MOI.EqualTo{Float64}         : [15, 76]\n",
      "  AffExpr in MOI.GreaterThan{Float64}     : [299, 299]\n",
      "  AffExpr in MOI.LessThan{Float64}        : [120, 753]\n",
      "  VariableRef in MOI.GreaterThan{Float64} : [146, 581]\n",
      "  VariableRef in MOI.LessThan{Float64}    : [147, 459]\n",
      "  VariableRef in MOI.ZeroOne              : [13, 637]"
     ]
    },
    {
     "name": "stdout",
     "output_type": "stream",
     "text": [
      "\n",
      "numerical stability report\n",
      "  matrix range     [1e-02, 6e+02]\n",
      "  objective range  [3e-03, 2e+01]\n",
      "  bounds range     [7e+00, 7e+04]\n",
      "  rhs range        [6e+04, 1e+06]\n",
      "-------------------------------------------------------------------\n",
      " iteration    simulation      bound        time (s)     solves  pid\n",
      "-------------------------------------------------------------------"
     ]
    },
    {
     "name": "stdout",
     "output_type": "stream",
     "text": [
      "\n",
      "         1   1.335983e+04  1.577573e+04  6.599998e-02         6   1\n"
     ]
    },
    {
     "name": "stdout",
     "output_type": "stream",
     "text": [
      "        10   1.373685e+04  1.373685e+04  5.929999e-01        66   1\n",
      "-------------------------------------------------------------------\n",
      "status         : iteration_limit\n",
      "total time (s) : 5.929999e-01\n",
      "total solves   : 66\n",
      "best bound     :  1.373685e+04\n",
      "simulation ci  :  1.343273e+04 ± 2.584706e+03\n",
      "numeric issues : 0\n",
      "-------------------------------------------------------------------\n",
      "\n"
     ]
    }
   ],
   "source": [
    "SDDP.train(\n",
    "    model_single_bidding;\n",
    "    iteration_limit = 10,\n",
    "    print_level = 1\n",
    ")"
   ]
  },
  {
   "cell_type": "code",
   "execution_count": 98,
   "metadata": {},
   "outputs": [
    {
     "name": "stdout",
     "output_type": "stream",
     "text": [
      "[0.0, 0.0, 0.0, 0.0, 0.0, 0.0, 0.0, 0.0, 0.0, 0.0, 684.1800000000001, 684.1800000000001, 0.0, 0.0, 0.0, 0.0, 684.1800000000001, 684.1800000000001, 0.0, 0.0, 0.0, 0.0, 0.0, 684.1800000000001, 0.0, 0.0, 0.0, 0.0, 0.0, 0.0, 0.0, 0.0, 0.0, 0.0, 684.1800000000001, 684.1800000000001, 0.0, 0.0, 0.0, 0.0, 684.1800000000001, 684.1800000000001, 0.0, 0.0, 0.0, 0.0, 684.1800000000001, 684.1800000000001, 0.0, 0.0, 0.0, 0.0, 684.1800000000001, 684.1800000000001, 0.0, 0.0, 0.0, 0.0, 0.0, 0.0, 0.0, 0.0, 0.0, 0.0, 684.1800000000001, 684.1800000000001, 0.0, 0.0, 0.0, 0.0, 0.0, 0.0, 0.0, 0.0, 0.0, 0.0, 684.1800000000001, 684.1800000000001, 0.0, 0.0, 0.0, 0.0, 0.0, 0.0, 0.0, 0.0, 0.0, 0.0, 0.0, 684.1800000000001, 0.0, 0.0, 0.0, 0.0, 0.0, 0.0, 0.0, 0.0, 0.0, 0.0, 684.1800000000001, 684.1800000000001, 0.0, 0.0, 0.0, 0.0, 684.1800000000001, 684.1800000000001, 0.0, 0.0, 0.0, 0.0, 684.1800000000001, 684.1800000000001, 0.0, 0.0, 0.0, 0.0, 684.1800000000001, 684.1800000000001, 0.0, 0.0, 0.0, 0.0, 684.1800000000001, 684.1800000000001, 0.0, 0.0, 0.0, 0.0, 0.0, 684.1800000000001, 0.0, 0.0, 0.0, 0.0, 0.0, 0.0, 0.0, 0.0, 0.0, 0.0, 0.0, 0.0]\n"
     ]
    }
   ],
   "source": [
    "rule_single_bidding = SDDP.DecisionRule(model_single_bidding; node = 1)\n",
    "sol_single_bidding = SDDP.evaluate(\n",
    "    rule_single_bidding;\n",
    "    incoming_state = Dict(Symbol(\"l[$(r.dischargepoint)]\") => r.currentvolume for r in R),\n",
    "    controls_to_record = [:x],\n",
    ")\n",
    "\n",
    "println([sol_single_bidding[3][:x][i].out for i in eachindex(sol_single_bidding[3][:x])])"
   ]
  },
  {
   "cell_type": "markdown",
   "metadata": {},
   "source": [
    "### Short-Term Optimization\n",
    "\n",
    "The problem is parameterized by a known demand $y$ in the first stage.\n",
    "Bidding is removed from the optimization model. Determining a discharge schedule is the most important thing about the model. For the current production day we know\n",
    "\n",
    "* Inflow\n",
    "* Price\n",
    "* Obligation\n",
    "\n",
    "In the future the parameters\n",
    "\n",
    "* Inflow\n",
    "* Price\n",
    "\n",
    "are considered unknown."
   ]
  },
  {
   "cell_type": "code",
   "execution_count": 99,
   "metadata": {},
   "outputs": [
    {
     "name": "stdout",
     "output_type": "stream",
     "text": [
      "24\n"
     ]
    },
    {
     "data": {
      "image/png": "[encoded data removed]",
      "image/svg+xml": [
       "<?xml version=\"1.0\" encoding=\"utf-8\"?>\n",
       "<svg xmlns=\"http://www.w3.org/2000/svg\" xmlns:xlink=\"http://www.w3.org/1999/xlink\" width=\"600\" height=\"400\" viewBox=\"0 0 2400 1600\">\n",
       "<defs>\n",
       "  <clipPath id=\"clip510\">\n",
       "    <rect x=\"0\" y=\"0\" width=\"2400\" height=\"1600\"/>\n",
       "  </clipPath>\n",
       "</defs>\n",
       "<path clip-path=\"url(#clip510)\" d=\"M0 1600 L2400 1600 L2400 0 L0 0  Z\" fill=\"#ffffff\" fill-rule=\"evenodd\" fill-opacity=\"1\"/>\n",
       "<defs>\n",
       "  <clipPath id=\"clip511\">\n",
       "    <rect x=\"480\" y=\"0\" width=\"1681\" height=\"1600\"/>\n",
       "  </clipPath>\n",
       "</defs>\n",
       "<path clip-path=\"url(#clip510)\" d=\"M155.765 1486.45 L2352.76 1486.45 L2352.76 47.2441 L155.765 47.2441  Z\" fill=\"#ffffff\" fill-rule=\"evenodd\" fill-opacity=\"1\"/>\n",
       "<defs>\n",
       "  <clipPath id=\"clip512\">\n",
       "    <rect x=\"155\" y=\"47\" width=\"2198\" height=\"1440\"/>\n",
       "  </clipPath>\n",
       "</defs>\n",
       "<polyline clip-path=\"url(#clip512)\" style=\"stroke:#000000; stroke-linecap:round; stroke-linejoin:round; stroke-width:2; stroke-opacity:0.1; fill:none\" points=\"578.402,1486.45 578.402,47.2441 \"/>\n",
       "<polyline clip-path=\"url(#clip512)\" style=\"stroke:#000000; stroke-linecap:round; stroke-linejoin:round; stroke-width:2; stroke-opacity:0.1; fill:none\" points=\"1028.97,1486.45 1028.97,47.2441 \"/>\n",
       "<polyline clip-path=\"url(#clip512)\" style=\"stroke:#000000; stroke-linecap:round; stroke-linejoin:round; stroke-width:2; stroke-opacity:0.1; fill:none\" points=\"1479.55,1486.45 1479.55,47.2441 \"/>\n",
       "<polyline clip-path=\"url(#clip512)\" style=\"stroke:#000000; stroke-linecap:round; stroke-linejoin:round; stroke-width:2; stroke-opacity:0.1; fill:none\" points=\"1930.12,1486.45 1930.12,47.2441 \"/>\n",
       "<polyline clip-path=\"url(#clip510)\" style=\"stroke:#000000; stroke-linecap:round; stroke-linejoin:round; stroke-width:4; stroke-opacity:1; fill:none\" points=\"155.765,1486.45 2352.76,1486.45 \"/>\n",
       "<polyline clip-path=\"url(#clip510)\" style=\"stroke:#000000; stroke-linecap:round; stroke-linejoin:round; stroke-width:4; stroke-opacity:1; fill:none\" points=\"578.402,1486.45 578.402,1467.55 \"/>\n",
       "<polyline clip-path=\"url(#clip510)\" style=\"stroke:#000000; stroke-linecap:round; stroke-linejoin:round; stroke-width:4; stroke-opacity:1; fill:none\" points=\"1028.97,1486.45 1028.97,1467.55 \"/>\n",
       "<polyline clip-path=\"url(#clip510)\" style=\"stroke:#000000; stroke-linecap:round; stroke-linejoin:round; stroke-width:4; stroke-opacity:1; fill:none\" points=\"1479.55,1486.45 1479.55,1467.55 \"/>\n",
       "<polyline clip-path=\"url(#clip510)\" style=\"stroke:#000000; stroke-linecap:round; stroke-linejoin:round; stroke-width:4; stroke-opacity:1; fill:none\" points=\"1930.12,1486.45 1930.12,1467.55 \"/>\n",
       "<path clip-path=\"url(#clip510)\" d=\"M568.68 1514.29 L587.036 1514.29 L587.036 1518.22 L572.962 1518.22 L572.962 1526.7 Q573.981 1526.35 574.999 1526.19 Q576.018 1526 577.036 1526 Q582.823 1526 586.203 1529.17 Q589.582 1532.34 589.582 1537.76 Q589.582 1543.34 586.11 1546.44 Q582.638 1549.52 576.318 1549.52 Q574.143 1549.52 571.874 1549.15 Q569.629 1548.78 567.221 1548.04 L567.221 1543.34 Q569.305 1544.47 571.527 1545.03 Q573.749 1545.58 576.226 1545.58 Q580.231 1545.58 582.568 1543.48 Q584.906 1541.37 584.906 1537.76 Q584.906 1534.15 582.568 1532.04 Q580.231 1529.94 576.226 1529.94 Q574.351 1529.94 572.476 1530.35 Q570.624 1530.77 568.68 1531.65 L568.68 1514.29 Z\" fill=\"#000000\" fill-rule=\"nonzero\" fill-opacity=\"1\" /><path clip-path=\"url(#clip510)\" d=\"M1003.66 1544.91 L1011.3 1544.91 L1011.3 1518.55 L1002.99 1520.21 L1002.99 1515.95 L1011.25 1514.29 L1015.93 1514.29 L1015.93 1544.91 L1023.57 1544.91 L1023.57 1548.85 L1003.66 1548.85 L1003.66 1544.91 Z\" fill=\"#000000\" fill-rule=\"nonzero\" fill-opacity=\"1\" /><path clip-path=\"url(#clip510)\" d=\"M1043.01 1517.37 Q1039.4 1517.37 1037.57 1520.93 Q1035.77 1524.47 1035.77 1531.6 Q1035.77 1538.71 1037.57 1542.27 Q1039.4 1545.82 1043.01 1545.82 Q1046.65 1545.82 1048.45 1542.27 Q1050.28 1538.71 1050.28 1531.6 Q1050.28 1524.47 1048.45 1520.93 Q1046.65 1517.37 1043.01 1517.37 M1043.01 1513.66 Q1048.82 1513.66 1051.88 1518.27 Q1054.96 1522.85 1054.96 1531.6 Q1054.96 1540.33 1051.88 1544.94 Q1048.82 1549.52 1043.01 1549.52 Q1037.2 1549.52 1034.12 1544.94 Q1031.07 1540.33 1031.07 1531.6 Q1031.07 1522.85 1034.12 1518.27 Q1037.2 1513.66 1043.01 1513.66 Z\" fill=\"#000000\" fill-rule=\"nonzero\" fill-opacity=\"1\" /><path clip-path=\"url(#clip510)\" d=\"M1454.73 1544.91 L1462.37 1544.91 L1462.37 1518.55 L1454.06 1520.21 L1454.06 1515.95 L1462.32 1514.29 L1467 1514.29 L1467 1544.91 L1474.64 1544.91 L1474.64 1548.85 L1454.73 1548.85 L1454.73 1544.91 Z\" fill=\"#000000\" fill-rule=\"nonzero\" fill-opacity=\"1\" /><path clip-path=\"url(#clip510)\" d=\"M1484.13 1514.29 L1502.49 1514.29 L1502.49 1518.22 L1488.41 1518.22 L1488.41 1526.7 Q1489.43 1526.35 1490.45 1526.19 Q1491.47 1526 1492.49 1526 Q1498.27 1526 1501.65 1529.17 Q1505.03 1532.34 1505.03 1537.76 Q1505.03 1543.34 1501.56 1546.44 Q1498.09 1549.52 1491.77 1549.52 Q1489.59 1549.52 1487.32 1549.15 Q1485.08 1548.78 1482.67 1548.04 L1482.67 1543.34 Q1484.75 1544.47 1486.98 1545.03 Q1489.2 1545.58 1491.68 1545.58 Q1495.68 1545.58 1498.02 1543.48 Q1500.36 1541.37 1500.36 1537.76 Q1500.36 1534.15 1498.02 1532.04 Q1495.68 1529.94 1491.68 1529.94 Q1489.8 1529.94 1487.93 1530.35 Q1486.07 1530.77 1484.13 1531.65 L1484.13 1514.29 Z\" fill=\"#000000\" fill-rule=\"nonzero\" fill-opacity=\"1\" /><path clip-path=\"url(#clip510)\" d=\"M1908.89 1544.91 L1925.21 1544.91 L1925.21 1548.85 L1903.27 1548.85 L1903.27 1544.91 Q1905.93 1542.16 1910.51 1537.53 Q1915.12 1532.88 1916.3 1531.53 Q1918.54 1529.01 1919.42 1527.27 Q1920.33 1525.51 1920.33 1523.82 Q1920.33 1521.07 1918.38 1519.33 Q1916.46 1517.6 1913.36 1517.6 Q1911.16 1517.6 1908.71 1518.36 Q1906.28 1519.13 1903.5 1520.68 L1903.5 1515.95 Q1906.32 1514.82 1908.78 1514.24 Q1911.23 1513.66 1913.27 1513.66 Q1918.64 1513.66 1921.83 1516.35 Q1925.03 1519.03 1925.03 1523.52 Q1925.03 1525.65 1924.22 1527.57 Q1923.43 1529.47 1921.32 1532.07 Q1920.74 1532.74 1917.64 1535.95 Q1914.54 1539.15 1908.89 1544.91 Z\" fill=\"#000000\" fill-rule=\"nonzero\" fill-opacity=\"1\" /><path clip-path=\"url(#clip510)\" d=\"M1945.03 1517.37 Q1941.42 1517.37 1939.59 1520.93 Q1937.78 1524.47 1937.78 1531.6 Q1937.78 1538.71 1939.59 1542.27 Q1941.42 1545.82 1945.03 1545.82 Q1948.66 1545.82 1950.47 1542.27 Q1952.29 1538.71 1952.29 1531.6 Q1952.29 1524.47 1950.47 1520.93 Q1948.66 1517.37 1945.03 1517.37 M1945.03 1513.66 Q1950.84 1513.66 1953.89 1518.27 Q1956.97 1522.85 1956.97 1531.6 Q1956.97 1540.33 1953.89 1544.94 Q1950.84 1549.52 1945.03 1549.52 Q1939.22 1549.52 1936.14 1544.94 Q1933.08 1540.33 1933.08 1531.6 Q1933.08 1522.85 1936.14 1518.27 Q1939.22 1513.66 1945.03 1513.66 Z\" fill=\"#000000\" fill-rule=\"nonzero\" fill-opacity=\"1\" /><polyline clip-path=\"url(#clip512)\" style=\"stroke:#000000; stroke-linecap:round; stroke-linejoin:round; stroke-width:2; stroke-opacity:0.1; fill:none\" points=\"155.765,1187.1 2352.76,1187.1 \"/>\n",
       "<polyline clip-path=\"url(#clip512)\" style=\"stroke:#000000; stroke-linecap:round; stroke-linejoin:round; stroke-width:2; stroke-opacity:0.1; fill:none\" points=\"155.765,863.827 2352.76,863.827 \"/>\n",
       "<polyline clip-path=\"url(#clip512)\" style=\"stroke:#000000; stroke-linecap:round; stroke-linejoin:round; stroke-width:2; stroke-opacity:0.1; fill:none\" points=\"155.765,540.556 2352.76,540.556 \"/>\n",
       "<polyline clip-path=\"url(#clip512)\" style=\"stroke:#000000; stroke-linecap:round; stroke-linejoin:round; stroke-width:2; stroke-opacity:0.1; fill:none\" points=\"155.765,217.285 2352.76,217.285 \"/>\n",
       "<polyline clip-path=\"url(#clip510)\" style=\"stroke:#000000; stroke-linecap:round; stroke-linejoin:round; stroke-width:4; stroke-opacity:1; fill:none\" points=\"155.765,1486.45 155.765,47.2441 \"/>\n",
       "<polyline clip-path=\"url(#clip510)\" style=\"stroke:#000000; stroke-linecap:round; stroke-linejoin:round; stroke-width:4; stroke-opacity:1; fill:none\" points=\"155.765,1187.1 174.663,1187.1 \"/>\n",
       "<polyline clip-path=\"url(#clip510)\" style=\"stroke:#000000; stroke-linecap:round; stroke-linejoin:round; stroke-width:4; stroke-opacity:1; fill:none\" points=\"155.765,863.827 174.663,863.827 \"/>\n",
       "<polyline clip-path=\"url(#clip510)\" style=\"stroke:#000000; stroke-linecap:round; stroke-linejoin:round; stroke-width:4; stroke-opacity:1; fill:none\" points=\"155.765,540.556 174.663,540.556 \"/>\n",
       "<polyline clip-path=\"url(#clip510)\" style=\"stroke:#000000; stroke-linecap:round; stroke-linejoin:round; stroke-width:4; stroke-opacity:1; fill:none\" points=\"155.765,217.285 174.663,217.285 \"/>\n",
       "<path clip-path=\"url(#clip510)\" d=\"M63.5847 1172.9 Q59.9736 1172.9 58.1449 1176.46 Q56.3393 1180 56.3393 1187.13 Q56.3393 1194.24 58.1449 1197.8 Q59.9736 1201.35 63.5847 1201.35 Q67.2189 1201.35 69.0244 1197.8 Q70.8531 1194.24 70.8531 1187.13 Q70.8531 1180 69.0244 1176.46 Q67.2189 1172.9 63.5847 1172.9 M63.5847 1169.19 Q69.3948 1169.19 72.4503 1173.8 Q75.529 1178.38 75.529 1187.13 Q75.529 1195.86 72.4503 1200.47 Q69.3948 1205.05 63.5847 1205.05 Q57.7745 1205.05 54.6958 1200.47 Q51.6403 1195.86 51.6403 1187.13 Q51.6403 1178.38 54.6958 1173.8 Q57.7745 1169.19 63.5847 1169.19 Z\" fill=\"#000000\" fill-rule=\"nonzero\" fill-opacity=\"1\" /><path clip-path=\"url(#clip510)\" d=\"M83.7466 1198.5 L88.6308 1198.5 L88.6308 1204.38 L83.7466 1204.38 L83.7466 1198.5 Z\" fill=\"#000000\" fill-rule=\"nonzero\" fill-opacity=\"1\" /><path clip-path=\"url(#clip510)\" d=\"M98.8622 1169.82 L117.219 1169.82 L117.219 1173.75 L103.145 1173.75 L103.145 1182.23 Q104.163 1181.88 105.182 1181.72 Q106.2 1181.53 107.219 1181.53 Q113.006 1181.53 116.385 1184.7 Q119.765 1187.87 119.765 1193.29 Q119.765 1198.87 116.293 1201.97 Q112.82 1205.05 106.501 1205.05 Q104.325 1205.05 102.057 1204.68 Q99.8113 1204.31 97.4039 1203.57 L97.4039 1198.87 Q99.4872 1200 101.709 1200.56 Q103.932 1201.11 106.408 1201.11 Q110.413 1201.11 112.751 1199.01 Q115.089 1196.9 115.089 1193.29 Q115.089 1189.68 112.751 1187.57 Q110.413 1185.47 106.408 1185.47 Q104.534 1185.47 102.659 1185.88 Q100.807 1186.3 98.8622 1187.18 L98.8622 1169.82 Z\" fill=\"#000000\" fill-rule=\"nonzero\" fill-opacity=\"1\" /><path clip-path=\"url(#clip510)\" d=\"M53.3995 877.172 L61.0384 877.172 L61.0384 850.807 L52.7282 852.473 L52.7282 848.214 L60.9921 846.547 L65.668 846.547 L65.668 877.172 L73.3068 877.172 L73.3068 881.107 L53.3995 881.107 L53.3995 877.172 Z\" fill=\"#000000\" fill-rule=\"nonzero\" fill-opacity=\"1\" /><path clip-path=\"url(#clip510)\" d=\"M82.7512 875.228 L87.6354 875.228 L87.6354 881.107 L82.7512 881.107 L82.7512 875.228 Z\" fill=\"#000000\" fill-rule=\"nonzero\" fill-opacity=\"1\" /><path clip-path=\"url(#clip510)\" d=\"M107.821 849.626 Q104.209 849.626 102.381 853.191 Q100.575 856.733 100.575 863.862 Q100.575 870.969 102.381 874.533 Q104.209 878.075 107.821 878.075 Q111.455 878.075 113.26 874.533 Q115.089 870.969 115.089 863.862 Q115.089 856.733 113.26 853.191 Q111.455 849.626 107.821 849.626 M107.821 845.922 Q113.631 845.922 116.686 850.529 Q119.765 855.112 119.765 863.862 Q119.765 872.589 116.686 877.195 Q113.631 881.779 107.821 881.779 Q102.01 881.779 98.9317 877.195 Q95.8761 872.589 95.8761 863.862 Q95.8761 855.112 98.9317 850.529 Q102.01 845.922 107.821 845.922 Z\" fill=\"#000000\" fill-rule=\"nonzero\" fill-opacity=\"1\" /><path clip-path=\"url(#clip510)\" d=\"M54.3949 553.901 L62.0337 553.901 L62.0337 527.535 L53.7236 529.202 L53.7236 524.943 L61.9874 523.276 L66.6633 523.276 L66.6633 553.901 L74.3022 553.901 L74.3022 557.836 L54.3949 557.836 L54.3949 553.901 Z\" fill=\"#000000\" fill-rule=\"nonzero\" fill-opacity=\"1\" /><path clip-path=\"url(#clip510)\" d=\"M83.7466 551.956 L88.6308 551.956 L88.6308 557.836 L83.7466 557.836 L83.7466 551.956 Z\" fill=\"#000000\" fill-rule=\"nonzero\" fill-opacity=\"1\" /><path clip-path=\"url(#clip510)\" d=\"M98.8622 523.276 L117.219 523.276 L117.219 527.211 L103.145 527.211 L103.145 535.683 Q104.163 535.336 105.182 535.174 Q106.2 534.989 107.219 534.989 Q113.006 534.989 116.385 538.16 Q119.765 541.332 119.765 546.748 Q119.765 552.327 116.293 555.429 Q112.82 558.507 106.501 558.507 Q104.325 558.507 102.057 558.137 Q99.8113 557.767 97.4039 557.026 L97.4039 552.327 Q99.4872 553.461 101.709 554.017 Q103.932 554.572 106.408 554.572 Q110.413 554.572 112.751 552.466 Q115.089 550.359 115.089 546.748 Q115.089 543.137 112.751 541.031 Q110.413 538.924 106.408 538.924 Q104.534 538.924 102.659 539.341 Q100.807 539.757 98.8622 540.637 L98.8622 523.276 Z\" fill=\"#000000\" fill-rule=\"nonzero\" fill-opacity=\"1\" /><path clip-path=\"url(#clip510)\" d=\"M56.6171 230.63 L72.9365 230.63 L72.9365 234.565 L50.9921 234.565 L50.9921 230.63 Q53.6541 227.875 58.2375 223.245 Q62.8439 218.593 64.0245 217.25 Q66.2698 214.727 67.1494 212.991 Q68.0522 211.232 68.0522 209.542 Q68.0522 206.787 66.1078 205.051 Q64.1865 203.315 61.0847 203.315 Q58.8856 203.315 56.4319 204.079 Q54.0014 204.843 51.2236 206.394 L51.2236 201.671 Q54.0477 200.537 56.5014 199.958 Q58.955 199.38 60.9921 199.38 Q66.3624 199.38 69.5568 202.065 Q72.7513 204.75 72.7513 209.241 Q72.7513 211.37 71.9411 213.292 Q71.1541 215.19 69.0476 217.782 Q68.4689 218.454 65.367 221.671 Q62.2652 224.866 56.6171 230.63 Z\" fill=\"#000000\" fill-rule=\"nonzero\" fill-opacity=\"1\" /><path clip-path=\"url(#clip510)\" d=\"M82.7512 228.685 L87.6354 228.685 L87.6354 234.565 L82.7512 234.565 L82.7512 228.685 Z\" fill=\"#000000\" fill-rule=\"nonzero\" fill-opacity=\"1\" /><path clip-path=\"url(#clip510)\" d=\"M107.821 203.083 Q104.209 203.083 102.381 206.648 Q100.575 210.19 100.575 217.32 Q100.575 224.426 102.381 227.991 Q104.209 231.532 107.821 231.532 Q111.455 231.532 113.26 227.991 Q115.089 224.426 115.089 217.32 Q115.089 210.19 113.26 206.648 Q111.455 203.083 107.821 203.083 M107.821 199.38 Q113.631 199.38 116.686 203.986 Q119.765 208.57 119.765 217.32 Q119.765 226.046 116.686 230.653 Q113.631 235.236 107.821 235.236 Q102.01 235.236 98.9317 230.653 Q95.8761 226.046 95.8761 217.32 Q95.8761 208.57 98.9317 203.986 Q102.01 199.38 107.821 199.38 Z\" fill=\"#000000\" fill-rule=\"nonzero\" fill-opacity=\"1\" /><polyline clip-path=\"url(#clip512)\" style=\"stroke:#009af9; stroke-linecap:round; stroke-linejoin:round; stroke-width:4; stroke-opacity:1; fill:none\" points=\"217.944,1445.72 308.058,1432.78 398.173,1439.25 488.287,1426.32 578.402,1406.92 668.516,1400.46 758.631,1329.34 848.745,1128.91 938.86,928.482 1028.97,863.827 1119.09,605.21 1209.2,637.537 1299.32,656.934 1389.43,734.519 1479.55,747.45 1569.66,715.123 1659.78,540.556 1749.89,475.902 1840,87.9763 1930.12,411.248 2020.23,669.865 2110.35,1187.1 2200.46,1316.41 2290.58,1381.06 \"/>\n",
       "</svg>\n"
      ],
      "text/html": [
       "<?xml version=\"1.0\" encoding=\"utf-8\"?>\n",
       "<svg xmlns=\"http://www.w3.org/2000/svg\" xmlns:xlink=\"http://www.w3.org/1999/xlink\" width=\"600\" height=\"400\" viewBox=\"0 0 2400 1600\">\n",
       "<defs>\n",
       "  <clipPath id=\"clip560\">\n",
       "    <rect x=\"0\" y=\"0\" width=\"2400\" height=\"1600\"/>\n",
       "  </clipPath>\n",
       "</defs>\n",
       "<path clip-path=\"url(#clip560)\" d=\"M0 1600 L2400 1600 L2400 0 L0 0  Z\" fill=\"#ffffff\" fill-rule=\"evenodd\" fill-opacity=\"1\"/>\n",
       "<defs>\n",
       "  <clipPath id=\"clip561\">\n",
       "    <rect x=\"480\" y=\"0\" width=\"1681\" height=\"1600\"/>\n",
       "  </clipPath>\n",
       "</defs>\n",
       "<path clip-path=\"url(#clip560)\" d=\"M155.765 1486.45 L2352.76 1486.45 L2352.76 47.2441 L155.765 47.2441  Z\" fill=\"#ffffff\" fill-rule=\"evenodd\" fill-opacity=\"1\"/>\n",
       "<defs>\n",
       "  <clipPath id=\"clip562\">\n",
       "    <rect x=\"155\" y=\"47\" width=\"2198\" height=\"1440\"/>\n",
       "  </clipPath>\n",
       "</defs>\n",
       "<polyline clip-path=\"url(#clip562)\" style=\"stroke:#000000; stroke-linecap:round; stroke-linejoin:round; stroke-width:2; stroke-opacity:0.1; fill:none\" points=\"578.402,1486.45 578.402,47.2441 \"/>\n",
       "<polyline clip-path=\"url(#clip562)\" style=\"stroke:#000000; stroke-linecap:round; stroke-linejoin:round; stroke-width:2; stroke-opacity:0.1; fill:none\" points=\"1028.97,1486.45 1028.97,47.2441 \"/>\n",
       "<polyline clip-path=\"url(#clip562)\" style=\"stroke:#000000; stroke-linecap:round; stroke-linejoin:round; stroke-width:2; stroke-opacity:0.1; fill:none\" points=\"1479.55,1486.45 1479.55,47.2441 \"/>\n",
       "<polyline clip-path=\"url(#clip562)\" style=\"stroke:#000000; stroke-linecap:round; stroke-linejoin:round; stroke-width:2; stroke-opacity:0.1; fill:none\" points=\"1930.12,1486.45 1930.12,47.2441 \"/>\n",
       "<polyline clip-path=\"url(#clip560)\" style=\"stroke:#000000; stroke-linecap:round; stroke-linejoin:round; stroke-width:4; stroke-opacity:1; fill:none\" points=\"155.765,1486.45 2352.76,1486.45 \"/>\n",
       "<polyline clip-path=\"url(#clip560)\" style=\"stroke:#000000; stroke-linecap:round; stroke-linejoin:round; stroke-width:4; stroke-opacity:1; fill:none\" points=\"578.402,1486.45 578.402,1467.55 \"/>\n",
       "<polyline clip-path=\"url(#clip560)\" style=\"stroke:#000000; stroke-linecap:round; stroke-linejoin:round; stroke-width:4; stroke-opacity:1; fill:none\" points=\"1028.97,1486.45 1028.97,1467.55 \"/>\n",
       "<polyline clip-path=\"url(#clip560)\" style=\"stroke:#000000; stroke-linecap:round; stroke-linejoin:round; stroke-width:4; stroke-opacity:1; fill:none\" points=\"1479.55,1486.45 1479.55,1467.55 \"/>\n",
       "<polyline clip-path=\"url(#clip560)\" style=\"stroke:#000000; stroke-linecap:round; stroke-linejoin:round; stroke-width:4; stroke-opacity:1; fill:none\" points=\"1930.12,1486.45 1930.12,1467.55 \"/>\n",
       "<path clip-path=\"url(#clip560)\" d=\"M568.68 1514.29 L587.036 1514.29 L587.036 1518.22 L572.962 1518.22 L572.962 1526.7 Q573.981 1526.35 574.999 1526.19 Q576.018 1526 577.036 1526 Q582.823 1526 586.203 1529.17 Q589.582 1532.34 589.582 1537.76 Q589.582 1543.34 586.11 1546.44 Q582.638 1549.52 576.318 1549.52 Q574.143 1549.52 571.874 1549.15 Q569.629 1548.78 567.221 1548.04 L567.221 1543.34 Q569.305 1544.47 571.527 1545.03 Q573.749 1545.58 576.226 1545.58 Q580.231 1545.58 582.568 1543.48 Q584.906 1541.37 584.906 1537.76 Q584.906 1534.15 582.568 1532.04 Q580.231 1529.94 576.226 1529.94 Q574.351 1529.94 572.476 1530.35 Q570.624 1530.77 568.68 1531.65 L568.68 1514.29 Z\" fill=\"#000000\" fill-rule=\"nonzero\" fill-opacity=\"1\" /><path clip-path=\"url(#clip560)\" d=\"M1003.66 1544.91 L1011.3 1544.91 L1011.3 1518.55 L1002.99 1520.21 L1002.99 1515.95 L1011.25 1514.29 L1015.93 1514.29 L1015.93 1544.91 L1023.57 1544.91 L1023.57 1548.85 L1003.66 1548.85 L1003.66 1544.91 Z\" fill=\"#000000\" fill-rule=\"nonzero\" fill-opacity=\"1\" /><path clip-path=\"url(#clip560)\" d=\"M1043.01 1517.37 Q1039.4 1517.37 1037.57 1520.93 Q1035.77 1524.47 1035.77 1531.6 Q1035.77 1538.71 1037.57 1542.27 Q1039.4 1545.82 1043.01 1545.82 Q1046.65 1545.82 1048.45 1542.27 Q1050.28 1538.71 1050.28 1531.6 Q1050.28 1524.47 1048.45 1520.93 Q1046.65 1517.37 1043.01 1517.37 M1043.01 1513.66 Q1048.82 1513.66 1051.88 1518.27 Q1054.96 1522.85 1054.96 1531.6 Q1054.96 1540.33 1051.88 1544.94 Q1048.82 1549.52 1043.01 1549.52 Q1037.2 1549.52 1034.12 1544.94 Q1031.07 1540.33 1031.07 1531.6 Q1031.07 1522.85 1034.12 1518.27 Q1037.2 1513.66 1043.01 1513.66 Z\" fill=\"#000000\" fill-rule=\"nonzero\" fill-opacity=\"1\" /><path clip-path=\"url(#clip560)\" d=\"M1454.73 1544.91 L1462.37 1544.91 L1462.37 1518.55 L1454.06 1520.21 L1454.06 1515.95 L1462.32 1514.29 L1467 1514.29 L1467 1544.91 L1474.64 1544.91 L1474.64 1548.85 L1454.73 1548.85 L1454.73 1544.91 Z\" fill=\"#000000\" fill-rule=\"nonzero\" fill-opacity=\"1\" /><path clip-path=\"url(#clip560)\" d=\"M1484.13 1514.29 L1502.49 1514.29 L1502.49 1518.22 L1488.41 1518.22 L1488.41 1526.7 Q1489.43 1526.35 1490.45 1526.19 Q1491.47 1526 1492.49 1526 Q1498.27 1526 1501.65 1529.17 Q1505.03 1532.34 1505.03 1537.76 Q1505.03 1543.34 1501.56 1546.44 Q1498.09 1549.52 1491.77 1549.52 Q1489.59 1549.52 1487.32 1549.15 Q1485.08 1548.78 1482.67 1548.04 L1482.67 1543.34 Q1484.75 1544.47 1486.98 1545.03 Q1489.2 1545.58 1491.68 1545.58 Q1495.68 1545.58 1498.02 1543.48 Q1500.36 1541.37 1500.36 1537.76 Q1500.36 1534.15 1498.02 1532.04 Q1495.68 1529.94 1491.68 1529.94 Q1489.8 1529.94 1487.93 1530.35 Q1486.07 1530.77 1484.13 1531.65 L1484.13 1514.29 Z\" fill=\"#000000\" fill-rule=\"nonzero\" fill-opacity=\"1\" /><path clip-path=\"url(#clip560)\" d=\"M1908.89 1544.91 L1925.21 1544.91 L1925.21 1548.85 L1903.27 1548.85 L1903.27 1544.91 Q1905.93 1542.16 1910.51 1537.53 Q1915.12 1532.88 1916.3 1531.53 Q1918.54 1529.01 1919.42 1527.27 Q1920.33 1525.51 1920.33 1523.82 Q1920.33 1521.07 1918.38 1519.33 Q1916.46 1517.6 1913.36 1517.6 Q1911.16 1517.6 1908.71 1518.36 Q1906.28 1519.13 1903.5 1520.68 L1903.5 1515.95 Q1906.32 1514.82 1908.78 1514.24 Q1911.23 1513.66 1913.27 1513.66 Q1918.64 1513.66 1921.83 1516.35 Q1925.03 1519.03 1925.03 1523.52 Q1925.03 1525.65 1924.22 1527.57 Q1923.43 1529.47 1921.32 1532.07 Q1920.74 1532.74 1917.64 1535.95 Q1914.54 1539.15 1908.89 1544.91 Z\" fill=\"#000000\" fill-rule=\"nonzero\" fill-opacity=\"1\" /><path clip-path=\"url(#clip560)\" d=\"M1945.03 1517.37 Q1941.42 1517.37 1939.59 1520.93 Q1937.78 1524.47 1937.78 1531.6 Q1937.78 1538.71 1939.59 1542.27 Q1941.42 1545.82 1945.03 1545.82 Q1948.66 1545.82 1950.47 1542.27 Q1952.29 1538.71 1952.29 1531.6 Q1952.29 1524.47 1950.47 1520.93 Q1948.66 1517.37 1945.03 1517.37 M1945.03 1513.66 Q1950.84 1513.66 1953.89 1518.27 Q1956.97 1522.85 1956.97 1531.6 Q1956.97 1540.33 1953.89 1544.94 Q1950.84 1549.52 1945.03 1549.52 Q1939.22 1549.52 1936.14 1544.94 Q1933.08 1540.33 1933.08 1531.6 Q1933.08 1522.85 1936.14 1518.27 Q1939.22 1513.66 1945.03 1513.66 Z\" fill=\"#000000\" fill-rule=\"nonzero\" fill-opacity=\"1\" /><polyline clip-path=\"url(#clip562)\" style=\"stroke:#000000; stroke-linecap:round; stroke-linejoin:round; stroke-width:2; stroke-opacity:0.1; fill:none\" points=\"155.765,1187.1 2352.76,1187.1 \"/>\n",
       "<polyline clip-path=\"url(#clip562)\" style=\"stroke:#000000; stroke-linecap:round; stroke-linejoin:round; stroke-width:2; stroke-opacity:0.1; fill:none\" points=\"155.765,863.827 2352.76,863.827 \"/>\n",
       "<polyline clip-path=\"url(#clip562)\" style=\"stroke:#000000; stroke-linecap:round; stroke-linejoin:round; stroke-width:2; stroke-opacity:0.1; fill:none\" points=\"155.765,540.556 2352.76,540.556 \"/>\n",
       "<polyline clip-path=\"url(#clip562)\" style=\"stroke:#000000; stroke-linecap:round; stroke-linejoin:round; stroke-width:2; stroke-opacity:0.1; fill:none\" points=\"155.765,217.285 2352.76,217.285 \"/>\n",
       "<polyline clip-path=\"url(#clip560)\" style=\"stroke:#000000; stroke-linecap:round; stroke-linejoin:round; stroke-width:4; stroke-opacity:1; fill:none\" points=\"155.765,1486.45 155.765,47.2441 \"/>\n",
       "<polyline clip-path=\"url(#clip560)\" style=\"stroke:#000000; stroke-linecap:round; stroke-linejoin:round; stroke-width:4; stroke-opacity:1; fill:none\" points=\"155.765,1187.1 174.663,1187.1 \"/>\n",
       "<polyline clip-path=\"url(#clip560)\" style=\"stroke:#000000; stroke-linecap:round; stroke-linejoin:round; stroke-width:4; stroke-opacity:1; fill:none\" points=\"155.765,863.827 174.663,863.827 \"/>\n",
       "<polyline clip-path=\"url(#clip560)\" style=\"stroke:#000000; stroke-linecap:round; stroke-linejoin:round; stroke-width:4; stroke-opacity:1; fill:none\" points=\"155.765,540.556 174.663,540.556 \"/>\n",
       "<polyline clip-path=\"url(#clip560)\" style=\"stroke:#000000; stroke-linecap:round; stroke-linejoin:round; stroke-width:4; stroke-opacity:1; fill:none\" points=\"155.765,217.285 174.663,217.285 \"/>\n",
       "<path clip-path=\"url(#clip560)\" d=\"M63.5847 1172.9 Q59.9736 1172.9 58.1449 1176.46 Q56.3393 1180 56.3393 1187.13 Q56.3393 1194.24 58.1449 1197.8 Q59.9736 1201.35 63.5847 1201.35 Q67.2189 1201.35 69.0244 1197.8 Q70.8531 1194.24 70.8531 1187.13 Q70.8531 1180 69.0244 1176.46 Q67.2189 1172.9 63.5847 1172.9 M63.5847 1169.19 Q69.3948 1169.19 72.4503 1173.8 Q75.529 1178.38 75.529 1187.13 Q75.529 1195.86 72.4503 1200.47 Q69.3948 1205.05 63.5847 1205.05 Q57.7745 1205.05 54.6958 1200.47 Q51.6403 1195.86 51.6403 1187.13 Q51.6403 1178.38 54.6958 1173.8 Q57.7745 1169.19 63.5847 1169.19 Z\" fill=\"#000000\" fill-rule=\"nonzero\" fill-opacity=\"1\" /><path clip-path=\"url(#clip560)\" d=\"M83.7466 1198.5 L88.6308 1198.5 L88.6308 1204.38 L83.7466 1204.38 L83.7466 1198.5 Z\" fill=\"#000000\" fill-rule=\"nonzero\" fill-opacity=\"1\" /><path clip-path=\"url(#clip560)\" d=\"M98.8622 1169.82 L117.219 1169.82 L117.219 1173.75 L103.145 1173.75 L103.145 1182.23 Q104.163 1181.88 105.182 1181.72 Q106.2 1181.53 107.219 1181.53 Q113.006 1181.53 116.385 1184.7 Q119.765 1187.87 119.765 1193.29 Q119.765 1198.87 116.293 1201.97 Q112.82 1205.05 106.501 1205.05 Q104.325 1205.05 102.057 1204.68 Q99.8113 1204.31 97.4039 1203.57 L97.4039 1198.87 Q99.4872 1200 101.709 1200.56 Q103.932 1201.11 106.408 1201.11 Q110.413 1201.11 112.751 1199.01 Q115.089 1196.9 115.089 1193.29 Q115.089 1189.68 112.751 1187.57 Q110.413 1185.47 106.408 1185.47 Q104.534 1185.47 102.659 1185.88 Q100.807 1186.3 98.8622 1187.18 L98.8622 1169.82 Z\" fill=\"#000000\" fill-rule=\"nonzero\" fill-opacity=\"1\" /><path clip-path=\"url(#clip560)\" d=\"M53.3995 877.172 L61.0384 877.172 L61.0384 850.807 L52.7282 852.473 L52.7282 848.214 L60.9921 846.547 L65.668 846.547 L65.668 877.172 L73.3068 877.172 L73.3068 881.107 L53.3995 881.107 L53.3995 877.172 Z\" fill=\"#000000\" fill-rule=\"nonzero\" fill-opacity=\"1\" /><path clip-path=\"url(#clip560)\" d=\"M82.7512 875.228 L87.6354 875.228 L87.6354 881.107 L82.7512 881.107 L82.7512 875.228 Z\" fill=\"#000000\" fill-rule=\"nonzero\" fill-opacity=\"1\" /><path clip-path=\"url(#clip560)\" d=\"M107.821 849.626 Q104.209 849.626 102.381 853.191 Q100.575 856.733 100.575 863.862 Q100.575 870.969 102.381 874.533 Q104.209 878.075 107.821 878.075 Q111.455 878.075 113.26 874.533 Q115.089 870.969 115.089 863.862 Q115.089 856.733 113.26 853.191 Q111.455 849.626 107.821 849.626 M107.821 845.922 Q113.631 845.922 116.686 850.529 Q119.765 855.112 119.765 863.862 Q119.765 872.589 116.686 877.195 Q113.631 881.779 107.821 881.779 Q102.01 881.779 98.9317 877.195 Q95.8761 872.589 95.8761 863.862 Q95.8761 855.112 98.9317 850.529 Q102.01 845.922 107.821 845.922 Z\" fill=\"#000000\" fill-rule=\"nonzero\" fill-opacity=\"1\" /><path clip-path=\"url(#clip560)\" d=\"M54.3949 553.901 L62.0337 553.901 L62.0337 527.535 L53.7236 529.202 L53.7236 524.943 L61.9874 523.276 L66.6633 523.276 L66.6633 553.901 L74.3022 553.901 L74.3022 557.836 L54.3949 557.836 L54.3949 553.901 Z\" fill=\"#000000\" fill-rule=\"nonzero\" fill-opacity=\"1\" /><path clip-path=\"url(#clip560)\" d=\"M83.7466 551.956 L88.6308 551.956 L88.6308 557.836 L83.7466 557.836 L83.7466 551.956 Z\" fill=\"#000000\" fill-rule=\"nonzero\" fill-opacity=\"1\" /><path clip-path=\"url(#clip560)\" d=\"M98.8622 523.276 L117.219 523.276 L117.219 527.211 L103.145 527.211 L103.145 535.683 Q104.163 535.336 105.182 535.174 Q106.2 534.989 107.219 534.989 Q113.006 534.989 116.385 538.16 Q119.765 541.332 119.765 546.748 Q119.765 552.327 116.293 555.429 Q112.82 558.507 106.501 558.507 Q104.325 558.507 102.057 558.137 Q99.8113 557.767 97.4039 557.026 L97.4039 552.327 Q99.4872 553.461 101.709 554.017 Q103.932 554.572 106.408 554.572 Q110.413 554.572 112.751 552.466 Q115.089 550.359 115.089 546.748 Q115.089 543.137 112.751 541.031 Q110.413 538.924 106.408 538.924 Q104.534 538.924 102.659 539.341 Q100.807 539.757 98.8622 540.637 L98.8622 523.276 Z\" fill=\"#000000\" fill-rule=\"nonzero\" fill-opacity=\"1\" /><path clip-path=\"url(#clip560)\" d=\"M56.6171 230.63 L72.9365 230.63 L72.9365 234.565 L50.9921 234.565 L50.9921 230.63 Q53.6541 227.875 58.2375 223.245 Q62.8439 218.593 64.0245 217.25 Q66.2698 214.727 67.1494 212.991 Q68.0522 211.232 68.0522 209.542 Q68.0522 206.787 66.1078 205.051 Q64.1865 203.315 61.0847 203.315 Q58.8856 203.315 56.4319 204.079 Q54.0014 204.843 51.2236 206.394 L51.2236 201.671 Q54.0477 200.537 56.5014 199.958 Q58.955 199.38 60.9921 199.38 Q66.3624 199.38 69.5568 202.065 Q72.7513 204.75 72.7513 209.241 Q72.7513 211.37 71.9411 213.292 Q71.1541 215.19 69.0476 217.782 Q68.4689 218.454 65.367 221.671 Q62.2652 224.866 56.6171 230.63 Z\" fill=\"#000000\" fill-rule=\"nonzero\" fill-opacity=\"1\" /><path clip-path=\"url(#clip560)\" d=\"M82.7512 228.685 L87.6354 228.685 L87.6354 234.565 L82.7512 234.565 L82.7512 228.685 Z\" fill=\"#000000\" fill-rule=\"nonzero\" fill-opacity=\"1\" /><path clip-path=\"url(#clip560)\" d=\"M107.821 203.083 Q104.209 203.083 102.381 206.648 Q100.575 210.19 100.575 217.32 Q100.575 224.426 102.381 227.991 Q104.209 231.532 107.821 231.532 Q111.455 231.532 113.26 227.991 Q115.089 224.426 115.089 217.32 Q115.089 210.19 113.26 206.648 Q111.455 203.083 107.821 203.083 M107.821 199.38 Q113.631 199.38 116.686 203.986 Q119.765 208.57 119.765 217.32 Q119.765 226.046 116.686 230.653 Q113.631 235.236 107.821 235.236 Q102.01 235.236 98.9317 230.653 Q95.8761 226.046 95.8761 217.32 Q95.8761 208.57 98.9317 203.986 Q102.01 199.38 107.821 199.38 Z\" fill=\"#000000\" fill-rule=\"nonzero\" fill-opacity=\"1\" /><polyline clip-path=\"url(#clip562)\" style=\"stroke:#009af9; stroke-linecap:round; stroke-linejoin:round; stroke-width:4; stroke-opacity:1; fill:none\" points=\"217.944,1445.72 308.058,1432.78 398.173,1439.25 488.287,1426.32 578.402,1406.92 668.516,1400.46 758.631,1329.34 848.745,1128.91 938.86,928.482 1028.97,863.827 1119.09,605.21 1209.2,637.537 1299.32,656.934 1389.43,734.519 1479.55,747.45 1569.66,715.123 1659.78,540.556 1749.89,475.902 1840,87.9763 1930.12,411.248 2020.23,669.865 2110.35,1187.1 2200.46,1316.41 2290.58,1381.06 \"/>\n",
       "</svg>\n"
      ]
     },
     "metadata": {},
     "output_type": "display_data"
    }
   ],
   "source": [
    "y_initial::Vector{Float64} = [0.1, 0.12, 0.11, 0.13, 0.16, 0.17, 0.28, 0.59, 0.9, 1.0, 1.4, 1.35, 1.32, 1.2, 1.18, 1.23, 1.5, 1.6, 2.2, 1.7, 1.3, 0.5, 0.3, 0.2]\n",
    "println(length(y_initial))\n",
    "price = rand(T)\n",
    "f_initial = Dict{Reservoir, Float64}(r => 0.4 for r in R)\n",
    "Plots.plot(1:24, y_initial, legend = false, show = true)"
   ]
  },
  {
   "cell_type": "code",
   "execution_count": 104,
   "metadata": {},
   "outputs": [
    {
     "data": {
      "text/plain": [
       "subproblem_builder_single_short (generic function with 1 method)"
      ]
     },
     "metadata": {},
     "output_type": "display_data"
    }
   ],
   "source": [
    "function subproblem_builder_single_short(subproblem::Model, node::Int64)\n",
    "    # State Variables\n",
    "    @variable(subproblem, 0 <= l[r = R] <= r.maxvolume, SDDP.State, initial_value = r.currentvolume)\n",
    "    @variable(subproblem, ustart[k = K], Bin, SDDP.State, initial_value = 0)\n",
    "    # Control Variables\n",
    "    @variable(subproblem, y[t = 1:T])\n",
    "    @variable(subproblem, Q[t = 1:T, r = R] >= 0)\n",
    "    @variable(subproblem, 0 <= w[t = 1:T, k = K] <= k.spillreference * k.equivalent)\n",
    "    @variable(subproblem, 0 <= u[t = 1:T, k = K], Bin)\n",
    "    @variable(subproblem, 0 <= d[t = 1:T, k = K], Bin)\n",
    "    @variable(subproblem, s[r = R] >= 0)\n",
    "    @variable(subproblem, a)\n",
    "    # Random Variables\n",
    "    @variable(subproblem, f[r = R])\n",
    "\n",
    "    # Transition function\n",
    "    @constraint(subproblem, balance[r = R], l[r].out == l[r].in - sum(Q[t, r] for t in 1:T) + T * f[r] - s[r])\n",
    "    @constraint(subproblem, planttrans1[k = K], ustart[k].in == u[1,k])\n",
    "    @constraint(subproblem, planttrans2[k = K], ustart[k].out == u[T,k])\n",
    "    # Constraints\n",
    "    if node == 1\n",
    "        @variable(subproblem, z_up[t = 1:T] >= 0)\n",
    "        @variable(subproblem, z_down[t = 1:T] >= 0)\n",
    "        @constraint(subproblem, obligation[t = 1:T], y[t] == sum(w[t,k] for k in K) + z_up[t] - z_down[t])\n",
    "    end\n",
    "    @constraint(subproblem, startup[t = 1:T-1, k = K], d[t,k] >= u[t+1,k] - u[t,k])\n",
    "    @constraint(subproblem, activeplant[t = 1:T, k = K], w[t,k] <= u[t,k] * k.equivalent * k.spillreference)\n",
    "    @constraint(subproblem, production[t = 1:T, k = K], w[t,k] <= sum(Q[t, r] for r in find_us_reservoir(k.reservoir)) * k.equivalent)\n",
    "    @constraint(subproblem, watervalue[c = values(cuts)], a <= WaterCuts[c].e1 - sum(WaterCuts[c].e2[Symbol(\"l[$(r)]\")] *(c[r] - l[r].out) for r in R))\n",
    "    # Parameterize Uncertainty\n",
    "    SDDP.parameterize(subproblem, Omega, P) do om\n",
    "        if node == 1\n",
    "            for t in 1:T\n",
    "                JuMP.fix(y[t], y_initial[t])\n",
    "            end\n",
    "            for r in R\n",
    "                JuMP.fix(f[r], f_initial[r])\n",
    "            end\n",
    "            @stageobjective(subproblem, sum(price[t] * y[t] - mu_up * z_up[t] + mu_down * z_down[t]  - sum(S * d[t,k] for k in K) for t in 1:T) + a)\n",
    "        else\n",
    "            for r in R\n",
    "                JuMP.fix(f[r], om.inflow[r])\n",
    "            end\n",
    "            @stageobjective(subproblem, sum(om.price[t] * sum(w[t, k] for k in K) - sum(S * d[t, k] for k in K) for t in 1:T) + a)\n",
    "        end\n",
    "    end\n",
    "end"
   ]
  },
  {
   "cell_type": "code",
   "execution_count": 105,
   "metadata": {},
   "outputs": [
    {
     "data": {
      "text/plain": [
       "A policy graph with 2 nodes.\n",
       " Node indices: 1, 2\n"
      ]
     },
     "metadata": {},
     "output_type": "display_data"
    }
   ],
   "source": [
    "model_single_short = SDDP.LinearPolicyGraph(\n",
    "    subproblem_builder_single_short;\n",
    "    stages = Stages,\n",
    "    sense = :Max,\n",
    "    upper_bound = Stages * T * sum(k.spillreference * k.equivalent for k in K),\n",
    "    optimizer = CPLEX.Optimizer\n",
    ")"
   ]
  },
  {
   "cell_type": "code",
   "execution_count": 106,
   "metadata": {},
   "outputs": [
    {
     "name": "stdout",
     "output_type": "stream",
     "text": [
      "-------------------------------------------------------------------\n",
      "         SDDP.jl (c) Oscar Dowson and contributors, 2017-23\n",
      "-------------------------------------------------------------------\n",
      "problem\n",
      "  nodes           : 2\n",
      "  state variables : 15\n",
      "  scenarios       : 9.00000e+00\n",
      "  existing cuts   : false\n",
      "options\n",
      "  solver          : serial mode\n",
      "  risk measure    : SDDP.Expectation()\n",
      "  sampling scheme : SDDP.InSampleMonteCarlo\n",
      "subproblem structure\n",
      "  VariableRef                             : [1044, 1092]\n",
      "  AffExpr in MOI.EqualTo{Float64}         : [28, 52]\n",
      "  AffExpr in MOI.GreaterThan{Float64}     : [299, 299]\n",
      "  AffExpr in MOI.LessThan{Float64}        : [633, 633]\n",
      "  VariableRef in MOI.GreaterThan{Float64} : [989, 1036]\n",
      "  VariableRef in MOI.LessThan{Float64}    : [315, 315]\n",
      "  VariableRef in MOI.ZeroOne              : [637, 637]\n",
      "numerical stability report\n",
      "  matrix range     [7e-02, 6e+02]\n",
      "  objective range  [3e-03, 1e+00]\n",
      "  bounds range     [7e+00, 3e+04]\n",
      "  rhs range        [6e+04, 1e+06]\n",
      "-------------------------------------------------------------------\n",
      " iteration    simulation      bound        time (s)     solves  pid\n",
      "-------------------------------------------------------------------\n"
     ]
    },
    {
     "name": "stdout",
     "output_type": "stream",
     "text": [
      "         1   3.661930e+04  3.252733e+04  1.430001e-01         8   1\n"
     ]
    },
    {
     "name": "stdout",
     "output_type": "stream",
     "text": [
      "         6   3.661930e+04  3.204036e+04  1.186000e+00        66   1"
     ]
    },
    {
     "name": "stdout",
     "output_type": "stream",
     "text": [
      "\n",
      "        10   3.661930e+04  3.204036e+04  1.873000e+00        98   1\n",
      "-------------------------------------------------------------------\n",
      "status         : iteration_limit\n",
      "total time (s) : 1.873000e+00\n",
      "total solves   : 98\n",
      "best bound     :  3.204036e+04\n",
      "simulation ci  :  3.570312e+04 ± 1.197142e+03\n",
      "numeric issues : 0\n",
      "-------------------------------------------------------------------\n",
      "\n"
     ]
    }
   ],
   "source": [
    "SDDP.train(\n",
    "    model_single_short;\n",
    "    iteration_limit = 10\n",
    ")"
   ]
  },
  {
   "cell_type": "code",
   "execution_count": 107,
   "metadata": {},
   "outputs": [
    {
     "name": "stdout",
     "output_type": "stream",
     "text": [
      "Dict{Symbol, JuMP.Containers.DenseAxisArray{Float64, 2, Ax, L} where {Ax, L<:Tuple{JuMP.Containers._AxisLookup, JuMP.Containers._AxisLookup}}}(:d => 2-dimensional DenseAxisArray{Float64,2,...} with index sets:\n",
      "    Dimension 1, Base.OneTo(24)\n",
      "    Dimension 2, HydropowerPlant[Flasjo, Trangfors, Ratan, Turinge, Bursnas, Jarnvagsforsen, Parteboda, Hermansboda, Ljunga, Nederede, Skallbole, Matfors, Viforsen]\n",
      "And data, a 24×13 Matrix{Float64}:\n",
      " 0.0  0.0  0.0  0.0  0.0  0.0  0.0  0.0  0.0  0.0  0.0  0.0  0.0\n",
      " 0.0  0.0  0.0  0.0  0.0  0.0  0.0  0.0  0.0  0.0  0.0  0.0  0.0\n",
      " 0.0  0.0  0.0  0.0  0.0  0.0  0.0  0.0  0.0  0.0  0.0  0.0  0.0\n",
      " 0.0  0.0  0.0  0.0  0.0  0.0  0.0  0.0  0.0  0.0  0.0  0.0  0.0\n",
      " 0.0  0.0  0.0  0.0  0.0  0.0  0.0  0.0  0.0  0.0  0.0  0.0  0.0\n",
      " 0.0  0.0  0.0  0.0  0.0  0.0  0.0  0.0  0.0  0.0  0.0  0.0  0.0\n",
      " 0.0  0.0  0.0  0.0  0.0  0.0  0.0  0.0  0.0  0.0  0.0  0.0  0.0\n",
      " 0.0  0.0  0.0  0.0  0.0  0.0  0.0  0.0  0.0  0.0  0.0  0.0  0.0\n",
      " 0.0  0.0  0.0  0.0  0.0  0.0  0.0  0.0  0.0  0.0  0.0  0.0  0.0\n",
      " 0.0  0.0  0.0  0.0  0.0  0.0  0.0  0.0  0.0  0.0  0.0  0.0  0.0\n",
      " 0.0  0.0  0.0  0.0  0.0  0.0  0.0  0.0  0.0  0.0  0.0  0.0  0.0\n",
      " 0.0  0.0  0.0  0.0  0.0  0.0  0.0  0.0  0.0  0.0  0.0  0.0  0.0\n",
      " 0.0  0.0  0.0  0.0  0.0  0.0  0.0  0.0  0.0  0.0  0.0  0.0  0.0\n",
      " 0.0  0.0  0.0  0.0  0.0  0.0  0.0  0.0  0.0  0.0  0.0  0.0  0.0\n",
      " 0.0  0.0  0.0  0.0  0.0  0.0  0.0  0.0  0.0  0.0  0.0  0.0  0.0\n",
      " 0.0  0.0  0.0  0.0  0.0  0.0  0.0  0.0  0.0  0.0  0.0  0.0  0.0\n",
      " 0.0  0.0  0.0  0.0  0.0  0.0  0.0  0.0  0.0  0.0  0.0  0.0  0.0\n",
      " 0.0  0.0  0.0  0.0  0.0  0.0  0.0  0.0  0.0  0.0  0.0  0.0  0.0\n",
      " 0.0  0.0  0.0  0.0  0.0  0.0  0.0  0.0  0.0  0.0  0.0  0.0  0.0\n",
      " 0.0  0.0  0.0  0.0  0.0  0.0  0.0  0.0  0.0  0.0  0.0  0.0  0.0\n",
      " 0.0  0.0  0.0  0.0  0.0  0.0  0.0  0.0  0.0  0.0  0.0  0.0  0.0\n",
      " 0.0  0.0  0.0  0.0  0.0  0.0  0.0  0.0  0.0  0.0  0.0  0.0  0.0\n",
      " 0.0  0.0  0.0  0.0  0.0  0.0  0.0  0.0  0.0  0.0  0.0  0.0  0.0\n",
      " 0.0  0.0  0.0  0.0  0.0  0.0  0.0  0.0  0.0  0.0  0.0  0.0  0.0, :Q => 2-dimensional DenseAxisArray{Float64,2,...} with index sets:\n",
      "    Dimension 1, Base.OneTo(24)\n",
      "    Dimension 2, Reservoir[Flasjon, Holsmjon]\n",
      "And data, a 24×2 Matrix{Float64}:\n",
      " 0.0  0.0\n",
      " 0.0  0.0\n",
      " 0.0  0.0\n",
      " 0.0  0.0\n",
      " 0.0  0.0\n",
      " 0.0  0.0\n",
      " 0.0  0.0\n",
      " 0.0  0.0\n",
      " 0.0  0.0\n",
      " 0.0  0.0\n",
      " 0.0  0.0\n",
      " 0.0  0.0\n",
      " 0.0  0.0\n",
      " 0.0  0.0\n",
      " 0.0  0.0\n",
      " 0.0  0.0\n",
      " 0.0  0.0\n",
      " 0.0  0.0\n",
      " 0.0  0.0\n",
      " 0.0  0.0\n",
      " 0.0  0.0\n",
      " 0.0  0.0\n",
      " 0.0  0.0\n",
      " 0.0  0.0, :u => 2-dimensional DenseAxisArray{Float64,2,...} with index sets:\n",
      "    Dimension 1, Base.OneTo(24)\n",
      "    Dimension 2, HydropowerPlant[Flasjo, Trangfors, Ratan, Turinge, Bursnas, Jarnvagsforsen, Parteboda, Hermansboda, Ljunga, Nederede, Skallbole, Matfors, Viforsen]\n",
      "And data, a 24×13 Matrix{Float64}:\n",
      " 0.0  0.0  0.0  0.0  0.0  0.0  0.0  0.0  0.0  0.0  0.0  0.0  0.0\n",
      " 0.0  0.0  0.0  0.0  0.0  0.0  0.0  0.0  0.0  0.0  0.0  0.0  0.0\n",
      " 0.0  0.0  0.0  0.0  0.0  0.0  0.0  0.0  0.0  0.0  0.0  0.0  0.0\n",
      " 0.0  0.0  0.0  0.0  0.0  0.0  0.0  0.0  0.0  0.0  0.0  0.0  0.0\n",
      " 0.0  0.0  0.0  0.0  0.0  0.0  0.0  0.0  0.0  0.0  0.0  0.0  0.0\n",
      " 0.0  0.0  0.0  0.0  0.0  0.0  0.0  0.0  0.0  0.0  0.0  0.0  0.0\n",
      " 0.0  0.0  0.0  0.0  0.0  0.0  0.0  0.0  0.0  0.0  0.0  0.0  0.0\n",
      " 0.0  0.0  0.0  0.0  0.0  0.0  0.0  0.0  0.0  0.0  0.0  0.0  0.0\n",
      " 0.0  0.0  0.0  0.0  0.0  0.0  0.0  0.0  0.0  0.0  0.0  0.0  0.0\n",
      " 0.0  0.0  0.0  0.0  0.0  0.0  0.0  0.0  0.0  0.0  0.0  0.0  0.0\n",
      " 0.0  0.0  0.0  0.0  0.0  0.0  0.0  0.0  0.0  0.0  0.0  0.0  0.0\n",
      " 0.0  0.0  0.0  0.0  0.0  0.0  0.0  0.0  0.0  0.0  0.0  0.0  0.0\n",
      " 0.0  0.0  0.0  0.0  0.0  0.0  0.0  0.0  0.0  0.0  0.0  0.0  0.0\n",
      " 0.0  0.0  0.0  0.0  0.0  0.0  0.0  0.0  0.0  0.0  0.0  0.0  0.0\n",
      " 0.0  0.0  0.0  0.0  0.0  0.0  0.0  0.0  0.0  0.0  0.0  0.0  0.0\n",
      " 0.0  0.0  0.0  0.0  0.0  0.0  0.0  0.0  0.0  0.0  0.0  0.0  0.0\n",
      " 0.0  0.0  0.0  0.0  0.0  0.0  0.0  0.0  0.0  0.0  0.0  0.0  0.0\n",
      " 0.0  0.0  0.0  0.0  0.0  0.0  0.0  0.0  0.0  0.0  0.0  0.0  0.0\n",
      " 0.0  0.0  0.0  0.0  0.0  0.0  0.0  0.0  0.0  0.0  0.0  0.0  0.0\n",
      " 0.0  0.0  0.0  0.0  0.0  0.0  0.0  0.0  0.0  0.0  0.0  0.0  0.0\n",
      " 0.0  0.0  0.0  0.0  0.0  0.0  0.0  0.0  0.0  0.0  0.0  0.0  0.0\n",
      " 0.0  0.0  0.0  0.0  0.0  0.0  0.0  0.0  0.0  0.0  0.0  0.0  0.0\n",
      " 0.0  0.0  0.0  0.0  0.0  0.0  0.0  0.0  0.0  0.0  0.0  0.0  0.0\n",
      " 0.0  0.0  0.0  0.0  0.0  0.0  0.0  0.0  0.0  0.0  0.0  0.0  0.0)\n"
     ]
    }
   ],
   "source": [
    "rule_single_short = SDDP.DecisionRule(model_single_short; node = 1)\n",
    "sol_single_short = SDDP.evaluate(\n",
    "    rule_single_short;\n",
    "    incoming_state = Dict(Symbol(\"l[$(r.dischargepoint)]\") => r.currentvolume for r in R),\n",
    "    controls_to_record = [:Q, :u, :d],\n",
    ")\n",
    "\n",
    "println(sol_single_short[3])"
   ]
  }
 ],
 "metadata": {
  "kernelspec": {
   "display_name": "Julia 1.9.2",
   "language": "julia",
   "name": "julia-1.9"
  },
  "language_info": {
   "file_extension": ".jl",
   "mimetype": "application/julia",
   "name": "julia",
   "version": "1.9.2"
  },
  "orig_nbformat": 4
 },
 "nbformat": 4,
 "nbformat_minor": 2
}
