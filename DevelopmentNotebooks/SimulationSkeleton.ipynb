{
 "cells": [
  {
   "cell_type": "code",
   "execution_count": 15,
   "metadata": {},
   "outputs": [],
   "source": [
    "using JuMP\n",
    "using CPLEX\n",
    "using Distributions\n",
    "using LinearAlgebra\n",
    "using Statistics\n",
    "using Dates\n",
    "using DataFrames\n",
    "using SDDP\n",
    "using Plots\n",
    "using CSV\n",
    "using JSON\n",
    "using UUIDs\n",
    "using Serialization\n",
    "try\n",
    "    using Revise\n",
    "catch e\n",
    "    @warn \"Error initializing Revise\" exception=(e, catch_backtrace())\n",
    "end\n",
    "\n",
    "includet(dirname(pwd()) * \"\\\\Water_Regulation\\\\WaterRegulation.jl\")\n",
    "using .WaterRegulation"
   ]
  },
  {
   "cell_type": "markdown",
   "metadata": {},
   "source": [
    "### Simulations of Water Regulation Procedure\n",
    "\n",
    "We would like to set up a skeleton for the day-to-day decision making of hydropower producers and the Water Regulation Company. The main steps of the Water Regulation company consist of:\n",
    "\n",
    "* Determining a Reference Flow for the next nomination period (Inflow Forecasting)\n",
    "* Receiving pre-bid nominations and calculating adjusted flow, power swaps, etc. -> Send these parameters back to the participants\n",
    "* Recalculate based on renominations by power producers after bidding\n",
    "\n",
    "For the Power Producers / Participants:  \n",
    "\n",
    "* Fetch and Calculate all Parameters for the Water Regulation Procedure (Individual Reservoir Level etc.)\n",
    "* Price and Inflow Forecasting (Fix Price Points)\n",
    "* Medium-Term Hydropower Model Calculation, obtain Water Value Cuts\n",
    "* Decision Model 1: Bidding and Pre-Market Clearing Nomination\n",
    "* Decision Model 2: Short-Term Optimization and Renomination\n",
    "* Decision Model 3: Fixed Water Flow scheduling and real time balancing\n",
    "\n",
    "This constitutes one round of simulation.\n"
   ]
  },
  {
   "cell_type": "code",
   "execution_count": 16,
   "metadata": {},
   "outputs": [
    {
     "name": "stdout",
     "output_type": "stream",
     "text": [
      "The reservoir system consists of [\"Flasjon\", \"Holsmjon\"]\n",
      "Downstream of the reservoirs we have power plants [\"Flasjo\", \"Trangfors\", \"Ratan\", \"Turinge\", \"Bursnas\", \"Parteboda\", \"Hermansboda\", \"Ljunga\", \"Nederede\", \"Skallbole\", \"Matfors\", \"Viforsen\", \"Jarnvagsforsen\"]"
     ]
    },
    {
     "name": "stdout",
     "output_type": "stream",
     "text": [
      "\n",
      "Sydkraft owns HydropowerPlant[Flasjo, Trangfors, Ratan, Turinge, Bursnas], which constitutes a participation rate of: \n",
      " ________________________________\n",
      "Holsmjon | 0.0     \n",
      "Flasjon  | 1.84    \n",
      "\n",
      "Fortum owns HydropowerPlant[Parteboda, Hermansboda, Ljunga], which constitutes a participation rate of: \n",
      " ________________________________\n",
      "Holsmjon | 0.8200000000000001\n",
      "Flasjon  | 0.8200000000000001\n",
      "\n",
      "Statkraft owns HydropowerPlant[Nederede, Skallbole, Matfors, Viforsen, Jarnvagsforsen], which constitutes a participation rate of: \n",
      " ________________________________\n",
      "Holsmjon | 1.86    \n",
      "Flasjon  | 1.86    \n",
      "\n",
      "Statkraft\n"
     ]
    }
   ],
   "source": [
    "filepath_Ljungan = dirname(pwd()) * \"\\\\Water_Regulation\\\\TestDataWaterRegulation\\\\Ljungan.json\"\n",
    "filepath_prices = dirname(pwd()) *  \"\\\\Data\\\\Spot Prices\\\\prices_df.csv\"\n",
    "filepath_results = dirname(pwd()) * \"\\\\Results\\\\LambdaZero\\\\\"\n",
    "R, K, J = read_data(filepath_Ljungan)\n",
    "\n",
    "println(\"The reservoir system consists of $([r.dischargepoint for r in R])\")\n",
    "println(\"Downstream of the reservoirs we have power plants $([k.name for k in K])\")\n",
    "for j in J\n",
    "    println(\"$(j.name) owns $(j.plants), which constitutes a participation rate of: \\n \", j.participationrate)\n",
    "end\n",
    "println(J[3])"
   ]
  },
  {
   "cell_type": "markdown",
   "metadata": {},
   "source": [
    "#### Load Data\n",
    "\n",
    "Other than the river system, the relevant data for optimization is organized in Dataframes.\n",
    "We load in cleaned versions of the data."
   ]
  },
  {
   "cell_type": "code",
   "execution_count": 17,
   "metadata": {},
   "outputs": [
    {
     "data": {
      "text/html": [
       "<div><div style = \"float: left;\"><span>10×29 DataFrame</span></div><div style = \"clear: both;\"></div></div><div class = \"data-frame\" style = \"overflow-x: scroll;\"><table class = \"data-frame\" style = \"margin-bottom: 6px;\"><thead><tr class = \"header\"><th class = \"rowNumber\" style = \"font-weight: bold; text-align: right;\">Row</th><th style = \"text-align: left;\">Date</th><th style = \"text-align: left;\">0</th><th style = \"text-align: left;\">1</th><th style = \"text-align: left;\">2</th><th style = \"text-align: left;\">3</th><th style = \"text-align: left;\">4</th><th style = \"text-align: left;\">5</th><th style = \"text-align: left;\">6</th><th style = \"text-align: left;\">7</th><th style = \"text-align: left;\">8</th><th style = \"text-align: left;\">9</th><th style = \"text-align: left;\">10</th><th style = \"text-align: left;\">11</th><th style = \"text-align: left;\">12</th><th style = \"text-align: left;\">13</th><th style = \"text-align: left;\">14</th><th style = \"text-align: left;\">15</th><th style = \"text-align: left;\">16</th><th style = \"text-align: left;\">17</th><th style = \"text-align: left;\">18</th><th style = \"text-align: left;\">19</th><th style = \"text-align: left;\">20</th><th style = \"text-align: left;\">21</th><th style = \"text-align: left;\">22</th><th style = \"text-align: left;\">23</th><th style = \"text-align: left;\">Average</th><th style = \"text-align: left;\">season</th><th style = \"text-align: left;\">Weekday</th><th style = \"text-align: left;\">CalendarWeek</th></tr><tr class = \"subheader headerLastRow\"><th class = \"rowNumber\" style = \"font-weight: bold; text-align: right;\"></th><th title = \"Date\" style = \"text-align: left;\">Date</th><th title = \"Float64\" style = \"text-align: left;\">Float64</th><th title = \"Float64\" style = \"text-align: left;\">Float64</th><th title = \"Float64\" style = \"text-align: left;\">Float64</th><th title = \"Float64\" style = \"text-align: left;\">Float64</th><th title = \"Float64\" style = \"text-align: left;\">Float64</th><th title = \"Float64\" style = \"text-align: left;\">Float64</th><th title = \"Float64\" style = \"text-align: left;\">Float64</th><th title = \"Float64\" style = \"text-align: left;\">Float64</th><th title = \"Float64\" style = \"text-align: left;\">Float64</th><th title = \"Float64\" style = \"text-align: left;\">Float64</th><th title = \"Float64\" style = \"text-align: left;\">Float64</th><th title = \"Float64\" style = \"text-align: left;\">Float64</th><th title = \"Float64\" style = \"text-align: left;\">Float64</th><th title = \"Float64\" style = \"text-align: left;\">Float64</th><th title = \"Float64\" style = \"text-align: left;\">Float64</th><th title = \"Float64\" style = \"text-align: left;\">Float64</th><th title = \"Float64\" style = \"text-align: left;\">Float64</th><th title = \"Float64\" style = \"text-align: left;\">Float64</th><th title = \"Float64\" style = \"text-align: left;\">Float64</th><th title = \"Float64\" style = \"text-align: left;\">Float64</th><th title = \"Float64\" style = \"text-align: left;\">Float64</th><th title = \"Float64\" style = \"text-align: left;\">Float64</th><th title = \"Float64\" style = \"text-align: left;\">Float64</th><th title = \"Float64\" style = \"text-align: left;\">Float64</th><th title = \"Float64\" style = \"text-align: left;\">Float64</th><th title = \"String\" style = \"text-align: left;\">String</th><th title = \"String\" style = \"text-align: left;\">String</th><th title = \"Int64\" style = \"text-align: left;\">Int64</th></tr></thead><tbody><tr><td class = \"rowNumber\" style = \"font-weight: bold; text-align: right;\">1</td><td style = \"text-align: left;\">2020-12-15</td><td style = \"text-align: right;\">17.57</td><td style = \"text-align: right;\">17.57</td><td style = \"text-align: right;\">16.92</td><td style = \"text-align: right;\">16.88</td><td style = \"text-align: right;\">18.95</td><td style = \"text-align: right;\">20.39</td><td style = \"text-align: right;\">22.31</td><td style = \"text-align: right;\">24.59</td><td style = \"text-align: right;\">31.41</td><td style = \"text-align: right;\">31.49</td><td style = \"text-align: right;\">31.62</td><td style = \"text-align: right;\">30.52</td><td style = \"text-align: right;\">35.9</td><td style = \"text-align: right;\">38.1</td><td style = \"text-align: right;\">40.08</td><td style = \"text-align: right;\">43.08</td><td style = \"text-align: right;\">37.32</td><td style = \"text-align: right;\">51.13</td><td style = \"text-align: right;\">47.54</td><td style = \"text-align: right;\">40.77</td><td style = \"text-align: right;\">35.2</td><td style = \"text-align: right;\">28.45</td><td style = \"text-align: right;\">23.67</td><td style = \"text-align: right;\">21.86</td><td style = \"text-align: right;\">30.1383</td><td style = \"text-align: left;\">Winter</td><td style = \"text-align: left;\">Weekday</td><td style = \"text-align: right;\">51</td></tr><tr><td class = \"rowNumber\" style = \"font-weight: bold; text-align: right;\">2</td><td style = \"text-align: left;\">2020-12-16</td><td style = \"text-align: right;\">20.48</td><td style = \"text-align: right;\">19.32</td><td style = \"text-align: right;\">19.0</td><td style = \"text-align: right;\">19.02</td><td style = \"text-align: right;\">20.19</td><td style = \"text-align: right;\">21.98</td><td style = \"text-align: right;\">22.71</td><td style = \"text-align: right;\">32.71</td><td style = \"text-align: right;\">48.37</td><td style = \"text-align: right;\">43.68</td><td style = \"text-align: right;\">42.01</td><td style = \"text-align: right;\">37.92</td><td style = \"text-align: right;\">36.56</td><td style = \"text-align: right;\">36.42</td><td style = \"text-align: right;\">39.16</td><td style = \"text-align: right;\">46.54</td><td style = \"text-align: right;\">46.4</td><td style = \"text-align: right;\">39.41</td><td style = \"text-align: right;\">35.78</td><td style = \"text-align: right;\">24.74</td><td style = \"text-align: right;\">22.78</td><td style = \"text-align: right;\">22.15</td><td style = \"text-align: right;\">21.48</td><td style = \"text-align: right;\">20.12</td><td style = \"text-align: right;\">30.7887</td><td style = \"text-align: left;\">Winter</td><td style = \"text-align: left;\">Weekday</td><td style = \"text-align: right;\">51</td></tr><tr><td class = \"rowNumber\" style = \"font-weight: bold; text-align: right;\">3</td><td style = \"text-align: left;\">2020-12-17</td><td style = \"text-align: right;\">19.03</td><td style = \"text-align: right;\">17.93</td><td style = \"text-align: right;\">17.53</td><td style = \"text-align: right;\">17.28</td><td style = \"text-align: right;\">17.97</td><td style = \"text-align: right;\">20.0</td><td style = \"text-align: right;\">22.09</td><td style = \"text-align: right;\">23.64</td><td style = \"text-align: right;\">26.79</td><td style = \"text-align: right;\">25.28</td><td style = \"text-align: right;\">24.43</td><td style = \"text-align: right;\">24.3</td><td style = \"text-align: right;\">23.67</td><td style = \"text-align: right;\">23.99</td><td style = \"text-align: right;\">23.97</td><td style = \"text-align: right;\">25.06</td><td style = \"text-align: right;\">25.38</td><td style = \"text-align: right;\">26.07</td><td style = \"text-align: right;\">24.22</td><td style = \"text-align: right;\">23.16</td><td style = \"text-align: right;\">22.19</td><td style = \"text-align: right;\">21.97</td><td style = \"text-align: right;\">20.76</td><td style = \"text-align: right;\">18.99</td><td style = \"text-align: right;\">22.3208</td><td style = \"text-align: left;\">Winter</td><td style = \"text-align: left;\">Weekday</td><td style = \"text-align: right;\">51</td></tr><tr><td class = \"rowNumber\" style = \"font-weight: bold; text-align: right;\">4</td><td style = \"text-align: left;\">2020-12-18</td><td style = \"text-align: right;\">16.96</td><td style = \"text-align: right;\">16.65</td><td style = \"text-align: right;\">16.17</td><td style = \"text-align: right;\">16.3</td><td style = \"text-align: right;\">17.3</td><td style = \"text-align: right;\">19.39</td><td style = \"text-align: right;\">19.99</td><td style = \"text-align: right;\">22.43</td><td style = \"text-align: right;\">23.74</td><td style = \"text-align: right;\">23.96</td><td style = \"text-align: right;\">22.82</td><td style = \"text-align: right;\">22.5</td><td style = \"text-align: right;\">22.44</td><td style = \"text-align: right;\">22.23</td><td style = \"text-align: right;\">22.42</td><td style = \"text-align: right;\">22.91</td><td style = \"text-align: right;\">23.11</td><td style = \"text-align: right;\">23.83</td><td style = \"text-align: right;\">22.59</td><td style = \"text-align: right;\">21.01</td><td style = \"text-align: right;\">19.43</td><td style = \"text-align: right;\">19.04</td><td style = \"text-align: right;\">17.82</td><td style = \"text-align: right;\">15.92</td><td style = \"text-align: right;\">20.4567</td><td style = \"text-align: left;\">Winter</td><td style = \"text-align: left;\">Weekday</td><td style = \"text-align: right;\">51</td></tr><tr><td class = \"rowNumber\" style = \"font-weight: bold; text-align: right;\">5</td><td style = \"text-align: left;\">2020-12-19</td><td style = \"text-align: right;\">16.48</td><td style = \"text-align: right;\">15.98</td><td style = \"text-align: right;\">15.47</td><td style = \"text-align: right;\">15.31</td><td style = \"text-align: right;\">15.3</td><td style = \"text-align: right;\">15.52</td><td style = \"text-align: right;\">15.87</td><td style = \"text-align: right;\">15.92</td><td style = \"text-align: right;\">16.48</td><td style = \"text-align: right;\">17.01</td><td style = \"text-align: right;\">17.36</td><td style = \"text-align: right;\">17.47</td><td style = \"text-align: right;\">17.27</td><td style = \"text-align: right;\">17.29</td><td style = \"text-align: right;\">17.33</td><td style = \"text-align: right;\">17.54</td><td style = \"text-align: right;\">17.96</td><td style = \"text-align: right;\">18.39</td><td style = \"text-align: right;\">17.77</td><td style = \"text-align: right;\">17.03</td><td style = \"text-align: right;\">15.92</td><td style = \"text-align: right;\">15.69</td><td style = \"text-align: right;\">15.22</td><td style = \"text-align: right;\">13.65</td><td style = \"text-align: right;\">16.4679</td><td style = \"text-align: left;\">Winter</td><td style = \"text-align: left;\">Weekend</td><td style = \"text-align: right;\">51</td></tr><tr><td class = \"rowNumber\" style = \"font-weight: bold; text-align: right;\">6</td><td style = \"text-align: left;\">2020-12-20</td><td style = \"text-align: right;\">13.0</td><td style = \"text-align: right;\">12.04</td><td style = \"text-align: right;\">11.79</td><td style = \"text-align: right;\">11.65</td><td style = \"text-align: right;\">11.79</td><td style = \"text-align: right;\">11.98</td><td style = \"text-align: right;\">12.53</td><td style = \"text-align: right;\">12.7</td><td style = \"text-align: right;\">13.25</td><td style = \"text-align: right;\">14.28</td><td style = \"text-align: right;\">15.37</td><td style = \"text-align: right;\">15.94</td><td style = \"text-align: right;\">15.83</td><td style = \"text-align: right;\">15.37</td><td style = \"text-align: right;\">15.98</td><td style = \"text-align: right;\">16.84</td><td style = \"text-align: right;\">17.09</td><td style = \"text-align: right;\">17.29</td><td style = \"text-align: right;\">17.06</td><td style = \"text-align: right;\">16.3</td><td style = \"text-align: right;\">15.32</td><td style = \"text-align: right;\">15.23</td><td style = \"text-align: right;\">14.65</td><td style = \"text-align: right;\">13.02</td><td style = \"text-align: right;\">14.4292</td><td style = \"text-align: left;\">Winter</td><td style = \"text-align: left;\">Weekend</td><td style = \"text-align: right;\">51</td></tr><tr><td class = \"rowNumber\" style = \"font-weight: bold; text-align: right;\">7</td><td style = \"text-align: left;\">2020-12-21</td><td style = \"text-align: right;\">11.9</td><td style = \"text-align: right;\">11.2</td><td style = \"text-align: right;\">11.5</td><td style = \"text-align: right;\">11.73</td><td style = \"text-align: right;\">12.81</td><td style = \"text-align: right;\">14.37</td><td style = \"text-align: right;\">16.67</td><td style = \"text-align: right;\">19.74</td><td style = \"text-align: right;\">20.6</td><td style = \"text-align: right;\">19.92</td><td style = \"text-align: right;\">19.32</td><td style = \"text-align: right;\">19.39</td><td style = \"text-align: right;\">19.44</td><td style = \"text-align: right;\">19.2</td><td style = \"text-align: right;\">19.45</td><td style = \"text-align: right;\">20.65</td><td style = \"text-align: right;\">20.55</td><td style = \"text-align: right;\">20.35</td><td style = \"text-align: right;\">19.49</td><td style = \"text-align: right;\">18.03</td><td style = \"text-align: right;\">16.17</td><td style = \"text-align: right;\">14.47</td><td style = \"text-align: right;\">13.18</td><td style = \"text-align: right;\">8.66</td><td style = \"text-align: right;\">16.6163</td><td style = \"text-align: left;\">Winter</td><td style = \"text-align: left;\">Weekday</td><td style = \"text-align: right;\">52</td></tr><tr><td class = \"rowNumber\" style = \"font-weight: bold; text-align: right;\">8</td><td style = \"text-align: left;\">2020-12-22</td><td style = \"text-align: right;\">7.15</td><td style = \"text-align: right;\">5.51</td><td style = \"text-align: right;\">4.77</td><td style = \"text-align: right;\">4.44</td><td style = \"text-align: right;\">4.84</td><td style = \"text-align: right;\">7.73</td><td style = \"text-align: right;\">12.82</td><td style = \"text-align: right;\">15.97</td><td style = \"text-align: right;\">17.87</td><td style = \"text-align: right;\">18.0</td><td style = \"text-align: right;\">18.09</td><td style = \"text-align: right;\">18.01</td><td style = \"text-align: right;\">18.01</td><td style = \"text-align: right;\">17.57</td><td style = \"text-align: right;\">18.08</td><td style = \"text-align: right;\">18.62</td><td style = \"text-align: right;\">19.67</td><td style = \"text-align: right;\">19.87</td><td style = \"text-align: right;\">19.79</td><td style = \"text-align: right;\">18.01</td><td style = \"text-align: right;\">16.88</td><td style = \"text-align: right;\">16.05</td><td style = \"text-align: right;\">15.05</td><td style = \"text-align: right;\">13.71</td><td style = \"text-align: right;\">14.4379</td><td style = \"text-align: left;\">Winter</td><td style = \"text-align: left;\">Weekday</td><td style = \"text-align: right;\">52</td></tr><tr><td class = \"rowNumber\" style = \"font-weight: bold; text-align: right;\">9</td><td style = \"text-align: left;\">2020-12-23</td><td style = \"text-align: right;\">13.38</td><td style = \"text-align: right;\">13.1</td><td style = \"text-align: right;\">12.9</td><td style = \"text-align: right;\">12.93</td><td style = \"text-align: right;\">13.14</td><td style = \"text-align: right;\">14.72</td><td style = \"text-align: right;\">15.99</td><td style = \"text-align: right;\">18.59</td><td style = \"text-align: right;\">19.21</td><td style = \"text-align: right;\">19.51</td><td style = \"text-align: right;\">18.97</td><td style = \"text-align: right;\">19.33</td><td style = \"text-align: right;\">19.55</td><td style = \"text-align: right;\">19.4</td><td style = \"text-align: right;\">19.66</td><td style = \"text-align: right;\">19.96</td><td style = \"text-align: right;\">20.56</td><td style = \"text-align: right;\">21.79</td><td style = \"text-align: right;\">20.77</td><td style = \"text-align: right;\">18.95</td><td style = \"text-align: right;\">17.82</td><td style = \"text-align: right;\">16.94</td><td style = \"text-align: right;\">16.16</td><td style = \"text-align: right;\">15.07</td><td style = \"text-align: right;\">17.4333</td><td style = \"text-align: left;\">Winter</td><td style = \"text-align: left;\">Weekday</td><td style = \"text-align: right;\">52</td></tr><tr><td class = \"rowNumber\" style = \"font-weight: bold; text-align: right;\">10</td><td style = \"text-align: left;\">2020-12-24</td><td style = \"text-align: right;\">13.44</td><td style = \"text-align: right;\">12.19</td><td style = \"text-align: right;\">10.57</td><td style = \"text-align: right;\">9.44</td><td style = \"text-align: right;\">9.1</td><td style = \"text-align: right;\">10.74</td><td style = \"text-align: right;\">11.36</td><td style = \"text-align: right;\">13.31</td><td style = \"text-align: right;\">16.01</td><td style = \"text-align: right;\">17.78</td><td style = \"text-align: right;\">18.14</td><td style = \"text-align: right;\">18.0</td><td style = \"text-align: right;\">18.07</td><td style = \"text-align: right;\">17.48</td><td style = \"text-align: right;\">17.35</td><td style = \"text-align: right;\">17.64</td><td style = \"text-align: right;\">18.2</td><td style = \"text-align: right;\">17.55</td><td style = \"text-align: right;\">15.9</td><td style = \"text-align: right;\">14.35</td><td style = \"text-align: right;\">14.49</td><td style = \"text-align: right;\">14.47</td><td style = \"text-align: right;\">14.52</td><td style = \"text-align: right;\">13.94</td><td style = \"text-align: right;\">14.7517</td><td style = \"text-align: left;\">Winter</td><td style = \"text-align: left;\">Weekday</td><td style = \"text-align: right;\">52</td></tr></tbody></table></div>"
      ],
      "text/latex": [
       "\\begin{tabular}{r|cccccccccc}\n",
       "\t& Date & 0 & 1 & 2 & 3 & 4 & 5 & 6 & 7 & \\\\\n",
       "\t\\hline\n",
       "\t& Date & Float64 & Float64 & Float64 & Float64 & Float64 & Float64 & Float64 & Float64 & \\\\\n",
       "\t\\hline\n",
       "\t1 & 2020-12-15 & 17.57 & 17.57 & 16.92 & 16.88 & 18.95 & 20.39 & 22.31 & 24.59 & $\\dots$ \\\\\n",
       "\t2 & 2020-12-16 & 20.48 & 19.32 & 19.0 & 19.02 & 20.19 & 21.98 & 22.71 & 32.71 & $\\dots$ \\\\\n",
       "\t3 & 2020-12-17 & 19.03 & 17.93 & 17.53 & 17.28 & 17.97 & 20.0 & 22.09 & 23.64 & $\\dots$ \\\\\n",
       "\t4 & 2020-12-18 & 16.96 & 16.65 & 16.17 & 16.3 & 17.3 & 19.39 & 19.99 & 22.43 & $\\dots$ \\\\\n",
       "\t5 & 2020-12-19 & 16.48 & 15.98 & 15.47 & 15.31 & 15.3 & 15.52 & 15.87 & 15.92 & $\\dots$ \\\\\n",
       "\t6 & 2020-12-20 & 13.0 & 12.04 & 11.79 & 11.65 & 11.79 & 11.98 & 12.53 & 12.7 & $\\dots$ \\\\\n",
       "\t7 & 2020-12-21 & 11.9 & 11.2 & 11.5 & 11.73 & 12.81 & 14.37 & 16.67 & 19.74 & $\\dots$ \\\\\n",
       "\t8 & 2020-12-22 & 7.15 & 5.51 & 4.77 & 4.44 & 4.84 & 7.73 & 12.82 & 15.97 & $\\dots$ \\\\\n",
       "\t9 & 2020-12-23 & 13.38 & 13.1 & 12.9 & 12.93 & 13.14 & 14.72 & 15.99 & 18.59 & $\\dots$ \\\\\n",
       "\t10 & 2020-12-24 & 13.44 & 12.19 & 10.57 & 9.44 & 9.1 & 10.74 & 11.36 & 13.31 & $\\dots$ \\\\\n",
       "\\end{tabular}\n"
      ],
      "text/plain": [
       "\u001b[1m10×29 DataFrame\u001b[0m\n",
       "\u001b[1m Row \u001b[0m│\u001b[1m Date       \u001b[0m\u001b[1m 0       \u001b[0m\u001b[1m 1       \u001b[0m\u001b[1m 2       \u001b[0m\u001b[1m 3       \u001b[0m\u001b[1m 4       \u001b[0m\u001b[1m 5       \u001b[0m\u001b[1m 6    \u001b[0m ⋯\n",
       "     │\u001b[90m Date       \u001b[0m\u001b[90m Float64 \u001b[0m\u001b[90m Float64 \u001b[0m\u001b[90m Float64 \u001b[0m\u001b[90m Float64 \u001b[0m\u001b[90m Float64 \u001b[0m\u001b[90m Float64 \u001b[0m\u001b[90m Float\u001b[0m ⋯\n",
       "─────┼──────────────────────────────────────────────────────────────────────────\n",
       "   1 │ 2020-12-15    17.57    17.57    16.92    16.88    18.95    20.39    22. ⋯\n",
       "   2 │ 2020-12-16    20.48    19.32    19.0     19.02    20.19    21.98    22.\n",
       "   3 │ 2020-12-17    19.03    17.93    17.53    17.28    17.97    20.0     22.\n",
       "   4 │ 2020-12-18    16.96    16.65    16.17    16.3     17.3     19.39    19.\n",
       "   5 │ 2020-12-19    16.48    15.98    15.47    15.31    15.3     15.52    15. ⋯\n",
       "   6 │ 2020-12-20    13.0     12.04    11.79    11.65    11.79    11.98    12.\n",
       "   7 │ 2020-12-21    11.9     11.2     11.5     11.73    12.81    14.37    16.\n",
       "   8 │ 2020-12-22     7.15     5.51     4.77     4.44     4.84     7.73    12.\n",
       "   9 │ 2020-12-23    13.38    13.1     12.9     12.93    13.14    14.72    15. ⋯\n",
       "  10 │ 2020-12-24    13.44    12.19    10.57     9.44     9.1     10.74    11.\n",
       "\u001b[36m                                                              22 columns omitted\u001b[0m"
      ]
     },
     "metadata": {},
     "output_type": "display_data"
    }
   ],
   "source": [
    "filepath_prices = dirname(pwd()) * \"\\\\Inflow Forecasting\\\\Data\\\\Spot Prices\\\\prices_df.csv\"\n",
    "filepath_inflows = dirname(pwd()) * \"\\\\Inflow Forecasting\\\\Data\\\\Inflow\\\\Data from Flasjoen and Holmsjoen.csv\"\n",
    "\n",
    "price_data = prepare_pricedata(filepath_prices)\n",
    "inflow_data = prepare_inflowdata(filepath_inflows)\n",
    "\n",
    "first(price_data, 10)"
   ]
  },
  {
   "cell_type": "markdown",
   "metadata": {},
   "source": [
    "### Price Forecasting\n",
    "\n",
    "Price is sensitive to various factors. Daytime, Weekday and time of year play a relevant role in how prices usually behave.\n",
    "\n",
    "* For the bidding and short-term optimization problems, part of the uncertainty lies in unknown hourly prices.\n",
    "\n",
    "* For the medium term problem, we are interested in daily (average) prices.\n",
    "\n",
    "* We want to obtain Price Points which will be important in the analysis from the historic data.\n",
    "\n",
    "* We need penalty parameters for using the balancing markets, which could be obtained from using maximum / minimum values fromm observed spot market prices / generated scenarios."
   ]
  },
  {
   "cell_type": "code",
   "execution_count": 18,
   "metadata": {},
   "outputs": [
    {
     "name": "stdout",
     "output_type": "stream",
     "text": [
      "[0.0, 31.612541666666665, 53.16795833333333, 76.75770833333334, 111.81674999999998, 180.42366666666663, 440.0]\n"
     ]
    }
   ],
   "source": [
    "const scenario_count_prices_short = 10\n",
    "const scenario_count_prices_medium = 2\n",
    "const stage_count_short = 8\n",
    "const stage_count_medium = 52\n",
    "const price_point_count = 5\n",
    "const T = 24\n",
    "\n",
    "PriceScenariosMedium = Price_Scenarios_Medium(price_data, scenario_count_prices_medium)\n",
    "PriceScenariosShort = Price_Scenarios_Short(price_data, scenario_count_prices_short, stage_count_short)\n",
    "PPoints = Create_Price_Points(price_data, 5)\n",
    "mu_up, mu_down = BalanceParameters(PriceScenariosShort)\n",
    "\n",
    "println(PPoints)"
   ]
  },
  {
   "cell_type": "markdown",
   "metadata": {},
   "source": [
    "### Inflow Forecasting\n",
    "\n",
    "Inflow has extreme seasonal differences, depending on geographical location.  \n",
    "For the Ljungan River System we could observe that most inflow occurs during the spring melt around May."
   ]
  },
  {
   "cell_type": "code",
   "execution_count": 19,
   "metadata": {},
   "outputs": [
    {
     "name": "stderr",
     "output_type": "stream",
     "text": [
      "WARNING: redefinition of constant ColumnReservoir. This may fail, cause incorrect answers, or produce other errors.\n"
     ]
    },
    {
     "data": {
      "text/plain": [
       "8-element Vector{Pair{Int64, Dict{Reservoir, Vector{Float64}}}}:\n",
       " 5 => Dict(Holsmjon => [5.8, 10.7, 23.5, 0.0, 0.0, 13.9, 0.0, 51.6, 5.8, 25.0], Flasjon => [5.25, 8.41, 8.87, 6.82, 10.84, 5.33, 5.33, 10.43, 11.29, 6.26])\n",
       " 4 => Dict(Holsmjon => [20.5, 33.2, 2.2, 0.0, 24.4, 25.0, 24.5, 2.7, 0.0, 38.9], Flasjon => [7.98, 8.2, 11.32, 10.2, 10.25, 7.85, 6.91, 6.2, 6.75, 7.2])\n",
       " 6 => Dict(Holsmjon => [5.8, 20.4, 19.1, 0.0, 33.1, 4.4, 28.2, 21.5, 6.7, 6.8], Flasjon => [7.9, 11.29, 7.01, 6.82, 5.79, 4.06, 8.87, 8.29, 10.61, 6.91])\n",
       " 7 => Dict(Holsmjon => [10.7, 22.6, 20.5, 52.4, 0.0, 12.2, 33.6, 0.0, 55.3, 46.4], Flasjon => [7.01, 5.33, 10.87, 8.8, 9.7, 5.25, 1.88, 9.92, 6.75, 6.63])\n",
       " 2 => Dict(Holsmjon => [10.7, 10.0, 23.0, 25.4, 0.0, 23.5, 77.5, 4.1, 0.0, 6.7], Flasjon => [11.6, 13.49, 7.62, 9.42, 10.87, 9.1, 8.29, 10.61, 7.9, 6.67])\n",
       " 8 => Dict(Holsmjon => [6.8, 4.0, 9.3, 28.2, 23.7, 16.6, 4.0, 0.0, 43.9, 3.0], Flasjon => [8.23, 10.6, 11.0, 5.8, 7.98, 5.79, 14.73, 10.29, 8.87, 7.35])\n",
       " 3 => Dict(Holsmjon => [24.4, 17.9, 27.5, 16.8, 33.1, 2.7, 29.9, 38.9, 7.8, 33.6], Flasjon => [10.3, 13.6, 4.42, 11.86, 9.08, 7.62, 7.62, 11.32, 6.09, 8.17])\n",
       " 1 => Dict(Holsmjon => [46.4, 0.0, 47.0, 20.5, 4.0, 15.2, 52.4, 0.0, 7.9, 0.0], Flasjon => [7.85, 9.31, 2.51, 11.01, 6.81, 8.24, 11.86, 10.3, 7.4, 5.79])"
      ]
     },
     "metadata": {},
     "output_type": "display_data"
    }
   ],
   "source": [
    "const ColumnReservoir = Dict{Reservoir, String}(R[1] => \"Flasjon Inflow\", R[2] => \"Holmsjon Inflow\")\n",
    "const scenario_count_inflows_weekly = 2\n",
    "const scenario_count_inflows_short = 1\n",
    "\n",
    "\n",
    "InflowScenariosShort = Inflow_Scenarios_Short(inflow_data, 1, ColumnReservoir, R, stage_count_short, scenario_count_prices_short)\n",
    "InflowScenariosMedium = Inflow_Scenarios_Medium(inflow_data, ColumnReservoir, scenario_count_inflows_weekly, R)\n",
    "first(InflowScenariosShort, 10)"
   ]
  },
  {
   "cell_type": "markdown",
   "metadata": {},
   "source": [
    "### Create Uncertainty Set\n",
    "\n",
    "Depending on the Problem, we create the uncertainty sets from both price and inflow Scenarios.\n",
    "This becomes more difficult for the Anticipatory Bidding Problem."
   ]
  },
  {
   "cell_type": "code",
   "execution_count": 20,
   "metadata": {},
   "outputs": [
    {
     "data": {
      "text/plain": [
       "create_Ω_Anticipatory (generic function with 2 methods)"
      ]
     },
     "metadata": {},
     "output_type": "display_data"
    }
   ],
   "source": [
    "Ω_medium, P_medium =  create_Ω_medium(PriceScenariosMedium, InflowScenariosMedium, R);\n",
    "Ω_NA, P_NA = create_Ω_Nonanticipatory(PriceScenariosShort, InflowScenariosShort, R, stage_count_short)\n",
    "Ω_NA[1]\n",
    "\n",
    "\"\"\"\n",
    "    create_Ω_Anticipatory(PriceScenariosShort, InflowScenariosShort, j, R)\n",
    "\n",
    "    create Uncertainty Set for the Anticipatory Problem: \n",
    "    Addiitionally to the Nonanticipatory Case, we associate deterministic sets of inflows and prices with other producers' nominations.\n",
    "    The Uncertainty set is extended entrywise by the others' nomination. \n",
    "\"\"\"\n",
    "\n",
    "function create_Ω_Anticipatory(PriceScenariosShort, InflowScenariosShort, OthersNominations, j::Participant, R::Vector{Reservoir}, stage_count = stage_count_bidding)\n",
    "    Ω = Dict(i => [(inflow = Dict(r => InflowScenariosShort[i][r][j] for r in R), price = c) for c in PriceScenariosShort[i] for j in eachindex(InflowScenariosShort[i][R[1]])] for i in 1:stage_count)\n",
    "    P = Dict(s => [1/length(eachindex(Ω[s])) for i in eachindex(Ω[s])] for s in 1:stage_count)\n",
    "    return Ω, P\n",
    "end\n",
    "# Ω_A, P_A = create_Ω_Anticipatory()"
   ]
  },
  {
   "cell_type": "markdown",
   "metadata": {},
   "source": [
    "### Reference Flow\n",
    "\n",
    "To calculate a reference flow for each reservoir, the Water Regulation Company has to combine information from inflow, historical reservoir trajectories and current reservoir level.  "
   ]
  },
  {
   "cell_type": "code",
   "execution_count": 21,
   "metadata": {},
   "outputs": [
    {
     "data": {
      "text/plain": [
       "Dict{Reservoir, Float64} with 2 entries:\n",
       "  Holsmjon => -0.0456916\n",
       "  Flasjon  => -0.734399"
      ]
     },
     "metadata": {},
     "output_type": "display_data"
    }
   ],
   "source": [
    "l_traj, f = AverageReservoirLevel(R, inflow_data)\n",
    "Qref = CalculateReferenceFlow(R, l_traj, f, 2)"
   ]
  },
  {
   "cell_type": "markdown",
   "metadata": {},
   "source": [
    "## Participants\n",
    "\n",
    "Every Participant individually plans their bidding and production. Irrespective of the strategy, only limited information is available. Internal to the participants problems are \n",
    "\n",
    "* Price Forecasts\n",
    "* Nomination to Water Regulation Company\n",
    "* Bidding at Electricity Market\n",
    "\n",
    "### Medium Term Problem\n",
    "\n",
    "The Medium Term / Seasonal Optimization Problem is necessary to obtain Cuts for the Water Value Function.\n",
    "\n",
    "Therefor the point of a functioin containing this decision model is to return cut coefficients of the Water Value Function.\n",
    "\n",
    "* What are the inputs to the Medium Term problem?\n",
    "* How are the cuts calculated?\n",
    "* How many cuts should be calculated?"
   ]
  },
  {
   "cell_type": "code",
   "execution_count": 22,
   "metadata": {},
   "outputs": [
    {
     "name": "stdout",
     "output_type": "stream",
     "text": [
      "WARNING: numerical stability issues detected\n",
      "  - bounds range contains large coefficients\n",
      "Very large or small absolute values of coefficients\n",
      "can cause numerical stability issues. Consider\n",
      "reformulating the model.\n"
     ]
    },
    {
     "name": "stdout",
     "output_type": "stream",
     "text": [
      "WARNING: numerical stability issues detected\n",
      "  - bounds range contains large coefficients\n",
      "Very large or small absolute values of coefficients\n",
      "can cause numerical stability issues. Consider\n",
      "reformulating the model.\n"
     ]
    },
    {
     "name": "stdout",
     "output_type": "stream",
     "text": [
      "WARNING: numerical stability issues detected\n",
      "  - bounds range contains large coefficients\n",
      "Very large or small absolute values of coefficients\n",
      "can cause numerical stability issues. Consider\n",
      "reformulating the model.\n"
     ]
    },
    {
     "name": "stdout",
     "output_type": "stream",
     "text": [
      "WARNING: numerical stability issues detected\n",
      "  - bounds range contains large coefficients\n",
      "Very large or small absolute values of coefficients\n",
      "can cause numerical stability issues. Consider\n",
      "reformulating the model.\n"
     ]
    },
    {
     "name": "stdout",
     "output_type": "stream",
     "text": [
      "Dict{Participant, SDDP.PolicyGraph}(Statkraft => A policy graph with 52 nodes.\n",
      " Node indices: 1, ..., 52\n",
      ", Fortum => A policy graph with 52 nodes.\n",
      " Node indices: 1, ..., 52\n",
      ", Sydkraft => A policy graph with 52 nodes.\n",
      " Node indices: 1, ..., 52\n",
      ")\n",
      "Dict{Participant, SDDP.PolicyGraph}(Statkraft => A policy graph with 52 nodes.\n",
      " Node indices: 1, ..., 52\n",
      ", Fortum => A policy graph with 52 nodes.\n",
      " Node indices: 1, ..., 52\n",
      ", Sydkraft => A policy graph with 52 nodes.\n",
      " Node indices: 1, ..., 52\n",
      ")\n"
     ]
    }
   ],
   "source": [
    "const iterations = 10\n",
    "\n",
    "const savepath_watervalue = \"C:\\\\Users\\\\lenna\\\\OneDrive - NTNU\\\\Code Master Thesis\\\\Inflow Forecasting\\\\WaterValue\"\n",
    "\n",
    "WaterValueDictionary_j, WaterValueDictionary_O = MediumModelsAllParticipants(J, R, Ω_medium, P_medium, stage_count_medium, iterations)\n",
    "println(WaterValueDictionary_j)\n",
    "println(WaterValueDictionary_O)\n",
    "SaveMediumModel(savepath_watervalue * \"\\\\Participant.jls\", WaterValueDictionary_j)\n",
    "SaveMediumModel(savepath_watervalue * \"\\\\OtherParticipant.jls\", WaterValueDictionary_O)"
   ]
  },
  {
   "cell_type": "code",
   "execution_count": 23,
   "metadata": {},
   "outputs": [
    {
     "name": "stdout",
     "output_type": "stream",
     "text": [
      "Reservoir[Holsmjon, Flasjon]\n",
      "Dict{Reservoir, Float64}[________________________________\n",
      "Flasjon  | 1823.471746031746\n",
      ", ________________________________\n",
      "Flasjon  | 1754.0  \n",
      ", ________________________________\n",
      "Flasjon  | 2743.471746031746\n",
      ", ________________________________\n",
      "Flasjon  | 2674.0  \n",
      "]Reservoir[Holsmjon, Flasjon]\n",
      "Dict{Reservoir, Float64}[________________________________\n",
      "Holsmjon | 1365.0  \n",
      "Flasjon  | 1514.0  \n",
      ", ________________________________\n",
      "Holsmjon | 350.0857142857143\n",
      "Flasjon  | 1583.471746031746\n",
      ", ________________________________\n",
      "Holsmjon | 1510.0857142857142\n",
      "Flasjon  | 1514.0  \n",
      ", ________________________________\n",
      "Holsmjon | 350.0857142857143\n",
      "Flasjon  | 2743.471746031746\n",
      ", ________________________________\n",
      "Holsmjon | 350.0857142857143\n",
      "Flasjon  | 1514.0  \n",
      ", ________________________________\n",
      "Holsmjon | 1365.0  \n",
      "Flasjon  | 2674.0  \n",
      ", ________________________________\n",
      "Holsmjon | 350.0857142857143\n",
      "Flasjon  | 2674.0  \n",
      ", ________________________________\n",
      "Holsmjon | 205.0   \n",
      "Flasjon  | 1514.0  \n",
      ", ________________________________\n",
      "Holsmjon | 1365.0  \n",
      "Flasjon  | 1583.471746031746\n",
      ", ________________________________\n",
      "Holsmjon | 205.0   \n",
      "Flasjon  | 2674.0  \n",
      ", ________________________________\n",
      "Holsmjon | 205.0   \n",
      "Flasjon  | 2743.471746031746\n",
      ", ________________________________\n",
      "Holsmjon | 1510.0857142857142\n",
      "Flasjon  | 2743.471746031746\n",
      ", ________________________________\n",
      "Holsmjon | 1365.0  \n",
      "Flasjon  | 2743.471746031746\n",
      ", ________________________________\n",
      "Holsmjon | 1510.0857142857142\n",
      "Flasjon  | 1583.471746031746\n",
      ", ________________________________\n",
      "Holsmjon | 205.0   \n",
      "Flasjon  | 1583.471746031746\n",
      ", ________________________________\n",
      "Holsmjon | 1510.0857142857142\n",
      "Flasjon  | 2674.0  \n",
      "]Reservoir[Holsmjon, Flasjon]\n",
      "Dict{Reservoir, Float64}[________________________________\n",
      "Holsmjon | 1365.0  \n",
      "Flasjon  | 554.0   \n",
      ", ________________________________\n",
      "Holsmjon | 0.0     \n",
      "Flasjon  | 623.4717460317461\n",
      ", ________________________________\n",
      "Holsmjon | 1510.0857142857142\n",
      "Flasjon  | 554.0   \n",
      ", ________________________________\n",
      "Holsmjon | 0.0     \n",
      "Flasjon  | 2743.471746031746\n",
      ", ________________________________\n",
      "Holsmjon | 0.0     \n",
      "Flasjon  | 554.0   \n",
      ", ________________________________\n",
      "Holsmjon | 1365.0  \n",
      "Flasjon  | 2674.0  \n",
      ", ________________________________\n",
      "Holsmjon | 0.0     \n",
      "Flasjon  | 2674.0  \n",
      ", ________________________________\n",
      "Holsmjon | 0.0     \n",
      "Flasjon  | 554.0   \n",
      ", ________________________________\n",
      "Holsmjon | 1365.0  \n",
      "Flasjon  | 623.4717460317461\n",
      ", ________________________________\n",
      "Holsmjon | 0.0     \n",
      "Flasjon  | 2674.0  \n",
      ", ________________________________\n",
      "Holsmjon | 0.0     \n",
      "Flasjon  | 2743.471746031746\n",
      ", ________________________________\n",
      "Holsmjon | 1510.0857142857142\n",
      "Flasjon  | 2743.471746031746\n",
      ", ________________________________\n",
      "Holsmjon | 1365.0  \n",
      "Flasjon  | 2743.471746031746\n",
      ", ________________________________\n",
      "Holsmjon | 1510.0857142857142\n",
      "Flasjon  | 623.4717460317461\n",
      ", ________________________________\n",
      "Holsmjon | 0.0     \n",
      "Flasjon  | 623.4717460317461\n",
      ", ________________________________\n",
      "Holsmjon | 1510.0857142857142\n",
      "Flasjon  | 2674.0  \n",
      "]"
     ]
    },
    {
     "data": {
      "text/plain": [
       "Dict{Participant, Dict{Dict{Reservoir, Float64}, NamedTuple{(:e1, :e2), Tuple{Float64, Dict{Symbol, Float64}}}}} with 3 entries:\n",
       "  Statkraft => Dict(________________________________…\n",
       "  Fortum    => Dict(________________________________…\n",
       "  Sydkraft  => Dict(________________________________…"
      ]
     },
     "metadata": {},
     "output_type": "display_data"
    }
   ],
   "source": [
    "NameToParticipant = Dict{String, Participant}(j.name => j for j in J)\n",
    "MediumModelDictionary_j_loaded = ReadMediumModel(savepath_watervalue * \"\\\\Participant.jls\", NameToParticipant);\n",
    "MediumModelDictionary_O_loaded = ReadMediumModel(savepath_watervalue * \"\\\\OtherParticipant.jls\", NameToParticipant);\n",
    "\n",
    "\n",
    "cuts = Dict(j => ReservoirLevelCuts(R, j.plants, j, f, 2, stage_count_short) for j in J)\n",
    "WaterCuts = Dict(j => WaterValueCuts(MediumModelDictionary_j_loaded[j], cuts[j], 2) for j in J)"
   ]
  },
  {
   "cell_type": "markdown",
   "metadata": {},
   "source": [
    "### Bidding Problem\n",
    "\n",
    "* Every Power Producer solves their own Bidding problem with individual Water Value Cuts to obtain their bidding curves and nomination.\n",
    "* The solutions are taken as input for the calculation of the adjusted Flow and Power Swap\n",
    "* The Market clears, and the obligations for the next production day are revealed."
   ]
  },
  {
   "cell_type": "code",
   "execution_count": 40,
   "metadata": {},
   "outputs": [
    {
     "name": "stdout",
     "output_type": "stream",
     "text": [
      "Sydkraft\n",
      "-------------------------------------------------------------------\n",
      "         SDDP.jl (c) Oscar Dowson and contributors, 2017-23\n",
      "-------------------------------------------------------------------\n",
      "problem\n",
      "  nodes           : 8\n",
      "  state variables : 176\n",
      "  scenarios       : 1.00000e+14\n",
      "  existing cuts   : false\n",
      "options\n",
      "  solver          : serial mode\n",
      "  risk measure    : SDDP.Expectation()\n",
      "  sampling scheme : SDDP.InSampleMonteCarlo\n",
      "subproblem structure\n",
      "  VariableRef                                                                   : [356, 813]\n",
      "  AffExpr in MOI.EqualTo{Float64}                                               : [7, 61]\n",
      "  AffExpr in MOI.GreaterThan{Float64}                                           : [115, 115]\n",
      "  AffExpr in MOI.LessThan{Float64}                                              : [148, 388]\n",
      "  VariableRef in MOI.GreaterThan{Float64}                                       : [171, 389]\n",
      "  VariableRef in MOI.LessThan{Float64}                                          : [171, 291]\n",
      "  VariableRef in MOI.ZeroOne                                                    : [6, 246]\n",
      "  Vector{AffExpr} in MOI.Indicator{MOI.ACTIVATE_ON_ONE, MOI.LessThan{Float64}}  : [6, 6]\n",
      "  Vector{AffExpr} in MOI.Indicator{MOI.ACTIVATE_ON_ZERO, MOI.LessThan{Float64}} : [1, 1]\n"
     ]
    },
    {
     "name": "stdout",
     "output_type": "stream",
     "text": [
      "numerical stability report\n",
      "  matrix range     [3e-04, 2e+02]\n",
      "  objective range  [1e+00, 4e+02]\n",
      "  bounds range     [7e+00, 8e+06]\n",
      "  rhs range        [7e-01, 4e+05]\n",
      "-------------------------------------------------------------------\n",
      " iteration    simulation      bound        time (s)     solves  pid\n",
      "-------------------------------------------------------------------"
     ]
    },
    {
     "name": "stdout",
     "output_type": "stream",
     "text": [
      "\n",
      "         1   1.127494e+06  2.051678e+06  7.800000e-01       709   1\n"
     ]
    },
    {
     "name": "stdout",
     "output_type": "stream",
     "text": [
      "         3   1.052425e+06  1.433488e+06  2.380000e+00      2127   1\n"
     ]
    },
    {
     "name": "stdout",
     "output_type": "stream",
     "text": [
      "         5   1.482456e+06  1.333142e+06  4.156000e+00      3545   1"
     ]
    },
    {
     "name": "stdout",
     "output_type": "stream",
     "text": [
      "\n",
      "         7   1.214136e+06  1.332139e+06  5.735000e+00      4963   1\n"
     ]
    },
    {
     "name": "stdout",
     "output_type": "stream",
     "text": [
      "         9   1.376607e+06  1.330511e+06  7.351000e+00      6381   1\n"
     ]
    },
    {
     "name": "stdout",
     "output_type": "stream",
     "text": [
      "        10   1.137107e+06  1.330338e+06  8.160000e+00      7090   1\n",
      "-------------------------------------------------------------------\n",
      "status         : iteration_limit\n",
      "total time (s) : 8.160000e+00\n",
      "total solves   : 7090\n",
      "best bound     :  1.330338e+06\n",
      "simulation ci  :  1.165132e+06 ± 1.526631e+05\n",
      "numeric issues : 0\n",
      "-------------------------------------------------------------------\n",
      "\n",
      "Fortum\n",
      "-------------------------------------------------------------------\n",
      "         SDDP.jl (c) Oscar Dowson and contributors, 2017-23\n",
      "-------------------------------------------------------------------\n",
      "problem\n",
      "  nodes           : 8\n",
      "  state variables : 177\n",
      "  scenarios       : 1.00000e+14\n",
      "  existing cuts   : false\n",
      "options\n",
      "  solver          : serial mode\n",
      "  risk measure    : SDDP.Expectation()\n",
      "  sampling scheme : SDDP.InSampleMonteCarlo\n",
      "subproblem structure\n",
      "  VariableRef                                                                   : [360, 698]\n",
      "  AffExpr in MOI.EqualTo{Float64}                                               : [7, 60]\n",
      "  AffExpr in MOI.GreaterThan{Float64}                                           : [69, 69]\n",
      "  AffExpr in MOI.LessThan{Float64}                                              : [160, 304]\n",
      "  VariableRef in MOI.GreaterThan{Float64}                                       : [174, 369]\n",
      "  VariableRef in MOI.LessThan{Float64}                                          : [173, 245]\n",
      "  VariableRef in MOI.ZeroOne                                                    : [5, 149]\n",
      "  Vector{AffExpr} in MOI.Indicator{MOI.ACTIVATE_ON_ONE, MOI.LessThan{Float64}}  : [5, 5]\n",
      "  Vector{AffExpr} in MOI.Indicator{MOI.ACTIVATE_ON_ZERO, MOI.LessThan{Float64}} : [2, 2]"
     ]
    },
    {
     "name": "stdout",
     "output_type": "stream",
     "text": [
      "\n",
      "numerical stability report\n",
      "  matrix range     [3e-04, 7e+01]\n",
      "  objective range  [1e+00, 4e+02]\n",
      "  bounds range     [1e+01, 5e+06]\n",
      "  rhs range        [5e-02, 3e+05]\n",
      "-------------------------------------------------------------------\n",
      " iteration    simulation      bound        time (s)     solves  pid\n",
      "-------------------------------------------------------------------"
     ]
    },
    {
     "name": "stdout",
     "output_type": "stream",
     "text": [
      "\n",
      "         1   7.621623e+05  1.576875e+06  7.249999e-01       709   1\n"
     ]
    },
    {
     "name": "stdout",
     "output_type": "stream",
     "text": [
      "         3   7.583219e+05  1.101855e+06  2.268000e+00      2127   1\n"
     ]
    },
    {
     "name": "stdout",
     "output_type": "stream",
     "text": [
      "         5   1.024844e+06  1.042526e+06  3.809000e+00      3545   1\n"
     ]
    },
    {
     "name": "stdout",
     "output_type": "stream",
     "text": [
      "         7   8.023977e+05  1.032976e+06  5.431000e+00      4963   1\n"
     ]
    },
    {
     "name": "stdout",
     "output_type": "stream",
     "text": [
      "         9   7.592333e+05  1.031014e+06  7.081000e+00      6381   1\n"
     ]
    },
    {
     "name": "stdout",
     "output_type": "stream",
     "text": [
      "        10   7.645146e+05  1.030902e+06  7.944000e+00      7090   1\n",
      "-------------------------------------------------------------------\n",
      "status         : iteration_limit\n",
      "total time (s) : 7.944000e+00\n",
      "total solves   : 7090\n",
      "best bound     :  1.030902e+06\n",
      "simulation ci  :  8.488712e+05 ± 1.123010e+05\n",
      "numeric issues : 0\n",
      "-------------------------------------------------------------------\n",
      "\n",
      "Statkraft\n",
      "-------------------------------------------------------------------\n",
      "         SDDP.jl (c) Oscar Dowson and contributors, 2017-23\n",
      "-------------------------------------------------------------------\n",
      "problem\n",
      "  nodes           : 8\n",
      "  state variables : 179\n",
      "  scenarios       : 1.00000e+14\n",
      "  existing cuts   : false\n",
      "options\n",
      "  solver          : serial mode\n",
      "  risk measure    : SDDP.Expectation()\n",
      "  sampling scheme : SDDP.InSampleMonteCarlo\n",
      "subproblem structure\n",
      "  VariableRef                                                                   : [364, 846]\n",
      "  AffExpr in MOI.EqualTo{Float64}                                               : [9, 64]\n",
      "  AffExpr in MOI.GreaterThan{Float64}                                           : [115, 115]\n",
      "  AffExpr in MOI.LessThan{Float64}                                              : [160, 400]\n",
      "  VariableRef in MOI.GreaterThan{Float64}                                       : [174, 417]\n",
      "  VariableRef in MOI.LessThan{Float64}                                          : [173, 293]\n",
      "  VariableRef in MOI.ZeroOne                                                    : [7, 247]\n",
      "  Vector{AffExpr} in MOI.Indicator{MOI.ACTIVATE_ON_ONE, MOI.LessThan{Float64}}  : [7, 7]\n",
      "  Vector{AffExpr} in MOI.Indicator{MOI.ACTIVATE_ON_ZERO, MOI.LessThan{Float64}} : [2, 2]"
     ]
    },
    {
     "name": "stdout",
     "output_type": "stream",
     "text": [
      "\n",
      "numerical stability report\n",
      "  matrix range     [3e-04, 2e+02]\n",
      "  objective range  [1e+00, 4e+02]\n",
      "  bounds range     [1e+01, 1e+07]\n",
      "  rhs range        [5e-02, 1e+06]\n",
      "WARNING: numerical stability issues detected\n",
      "  - bounds range contains large coefficients\n",
      "Very large or small absolute values of coefficients\n",
      "can cause numerical stability issues. Consider\n",
      "reformulating the model.\n",
      "-------------------------------------------------------------------\n",
      " iteration    simulation      bound        time (s)     solves  pid\n",
      "-------------------------------------------------------------------"
     ]
    },
    {
     "name": "stdout",
     "output_type": "stream",
     "text": [
      "\n",
      "         1   2.865519e+06  5.199993e+06  8.060002e-01       709   1"
     ]
    },
    {
     "name": "stdout",
     "output_type": "stream",
     "text": [
      "\n",
      "         3   2.116432e+06  3.383851e+06  2.679000e+00      2127   1\n"
     ]
    },
    {
     "name": "stdout",
     "output_type": "stream",
     "text": [
      "         5   3.622050e+06  3.254778e+06  4.469000e+00      3545   1\n"
     ]
    },
    {
     "name": "stdout",
     "output_type": "stream",
     "text": [
      "         7   2.802634e+06  3.238981e+06  6.301000e+00      4963   1\n"
     ]
    },
    {
     "name": "stdout",
     "output_type": "stream",
     "text": [
      "         9   2.988802e+06  3.199293e+06  8.073000e+00      6381   1\n"
     ]
    },
    {
     "name": "stdout",
     "output_type": "stream",
     "text": [
      "        10   2.662136e+06  3.176910e+06  8.948000e+00      7090   1\n",
      "-------------------------------------------------------------------\n",
      "status         : iteration_limit\n",
      "total time (s) : 8.948000e+00\n",
      "total solves   : 7090\n",
      "best bound     :  3.176910e+06\n",
      "simulation ci  :  2.703206e+06 ± 4.728178e+05\n",
      "numeric issues : 0\n",
      "-------------------------------------------------------------------\n",
      "\n"
     ]
    }
   ],
   "source": [
    "HourlyBiddingCurves = Dict{Participant, Dict{Int64, Vector{Float64}}}()\n",
    "Qnoms = Dict{NamedTuple{(:participant, :reservoir), Tuple{Participant, Reservoir}}, Float64}()\n",
    "\n",
    "for j in J\n",
    "    println(j)\n",
    "    Qnom, HourlyBiddingCurve = Nonanticipatory_Bidding(R, j, PPoints, Ω_NA, P_NA, Qref, cuts[j], WaterCuts[j], iterations, mu_up, mu_down, T, stage_count_short)\n",
    "    HourlyBiddingCurves[j] = HourlyBiddingCurve\n",
    "    for r in R\n",
    "        if j.participationrate[r] > 0\n",
    "            Qnoms[(participant = j, reservoir = r)] = Qnom[r]\n",
    "        else\n",
    "            Qnoms[(participant = j, reservoir = r)] = Qref[r]\n",
    "        end\n",
    "    end\n",
    "end\n"
   ]
  },
  {
   "cell_type": "markdown",
   "metadata": {},
   "source": [
    "### Water Regulation\n",
    "\n",
    "Without Updating the Reservoir Levels, the adjusted flow and Power Swaps are calculated."
   ]
  },
  {
   "cell_type": "code",
   "execution_count": 41,
   "metadata": {},
   "outputs": [
    {
     "name": "stdout",
     "output_type": "stream",
     "text": [
      "________________________________\n",
      "Holsmjon | 99.52823775683166\n",
      "Flasjon  | 21.034829374003113\n",
      "\n",
      "Dict{Participant, Dict{Reservoir, Float64}}(Statkraft => ________________________________\n",
      "Holsmjon | -4.161300198092764\n",
      "Flasjon  | -39.12478263564579\n",
      ", Fortum => ________________________________\n",
      "Holsmjon | 4.16130019809271\n",
      "Flasjon  | -17.248560086682556\n",
      ", Sydkraft => ________________________________\n",
      "Holsmjon | -0.0    \n",
      "Flasjon  | 56.37334272232835\n",
      ")\n"
     ]
    }
   ],
   "source": [
    "Qadj, _, P_Swap, _, _, _ = water_regulation(Qnoms, Qref, T, false)\n",
    "println(Qadj)\n",
    "println(P_Swap)"
   ]
  },
  {
   "cell_type": "markdown",
   "metadata": {},
   "source": [
    "### Market Clearing\n",
    "\n",
    "A market clearing price is generated. (From the historical prices)\n",
    "For each hourly bid, the obligation is determined.\n",
    "\n",
    "* Sample a Price for that day (Save Price)\n",
    "* Perform Linear Interpolation between Price Points in which the hourly price lands, and determine the obligation from that\n",
    "* Give Hourly Obligations to each user (Dictionary of Participants and hourly obligations)"
   ]
  },
  {
   "cell_type": "code",
   "execution_count": 42,
   "metadata": {},
   "outputs": [
    {
     "name": "stdout",
     "output_type": "stream",
     "text": [
      "[0.0, 184.13, 184.13, 184.13, 184.13, 184.13, 184.13, 184.13, 184.12999999999997, 184.13, 15.785571356774186, 184.13000000000002, 184.13, 184.13, 184.13, 184.13, 184.13, 184.13, 184.13, 184.13, 184.13, 184.13000000000002, 184.13, 184.13]\n",
      "[0.0, 184.13, 184.13, 184.13, 184.13, 184.13, 184.13, 184.13, 184.12999999999997, 184.13, 15.785571356774186, 184.13000000000002, 184.13, 184.13, 184.13, 184.13, 184.13, 184.13, 184.13, 184.13, 184.13, 184.13000000000002, 184.13, 184.13]\n",
      "[0.0, 184.13, 184.13, 184.13, 184.13, 184.13, 184.13, 184.13, 184.12999999999997, 184.13, 15.785571356774186, 184.13000000000002, 184.13, 184.13, 184.13, 184.13, 184.13, 184.13, 184.13, 184.13, 184.13, 184.13000000000002, 184.13, 184.13]\n"
     ]
    }
   ],
   "source": [
    "price = Price_Scenarios_Short(price_data, 1, stage_count_short)[1][1]\n",
    "Obligations = MarketClearing(price, HourlyBiddingCurves, PPoints, J, T)\n",
    "for j in J\n",
    "    println(Obligations[j])\n",
    "end"
   ]
  },
  {
   "cell_type": "markdown",
   "metadata": {},
   "source": [
    "### Short Term Optimization\n",
    "\n",
    "Feed Power Swap and Nomination into Short Term Optimization Model"
   ]
  },
  {
   "cell_type": "code",
   "execution_count": 43,
   "metadata": {},
   "outputs": [
    {
     "name": "stdout",
     "output_type": "stream",
     "text": [
      "Sydkraft\n",
      "Reservoir[Flasjon]\n",
      "SydkraftReservoir[Flasjon]\n",
      "Plants: HydropowerPlant[Flasjo, Trangfors, Ratan, Turinge, Bursnas]\n",
      "HydropowerPlant[Parteboda, Hermansboda, Ljunga, Nederede, Skallbole, Matfors, Viforsen, Jarnvagsforsen]\n",
      "-------------------------------------------------------------------\n",
      "         SDDP.jl (c) Oscar Dowson and contributors, 2017-23\n",
      "-------------------------------------------------------------------\n",
      "problem\n",
      "  nodes           : 8\n",
      "  state variables : 7\n",
      "  scenarios       : 1.00000e+14\n",
      "  existing cuts   : false\n",
      "options\n",
      "  solver          : serial mode\n",
      "  risk measure    : SDDP.Expectation()\n",
      "  sampling scheme : SDDP.InSampleMonteCarlo\n",
      "subproblem structure\n",
      "  VariableRef                                                                   : [404, 463]\n",
      "  AffExpr in MOI.EqualTo{Float64}                                               : [13, 39]\n",
      "  AffExpr in MOI.GreaterThan{Float64}                                           : [115, 123]\n",
      "  AffExpr in MOI.LessThan{Float64}                                              : [244, 244]\n",
      "  VariableRef in MOI.GreaterThan{Float64}                                       : [148, 206]\n",
      "  VariableRef in MOI.LessThan{Float64}                                          : [123, 123]\n",
      "  VariableRef in MOI.ZeroOne                                                    : [246, 246]\n",
      "  Vector{AffExpr} in MOI.Indicator{MOI.ACTIVATE_ON_ONE, MOI.LessThan{Float64}}  : [2, 2]\n",
      "  Vector{AffExpr} in MOI.Indicator{MOI.ACTIVATE_ON_ZERO, MOI.LessThan{Float64}} : [1, 1]"
     ]
    },
    {
     "name": "stdout",
     "output_type": "stream",
     "text": [
      "\n",
      "numerical stability report\n",
      "  matrix range     [7e-02, 2e+02]\n",
      "  objective range  [1e+00, 4e+02]\n",
      "  bounds range     [7e+00, 2e+08]\n",
      "  rhs range        [7e-01, 4e+05]\n",
      "WARNING: numerical stability issues detected\n",
      "  - bounds range contains large coefficients\n",
      "Very large or small absolute values of coefficients\n",
      "can cause numerical stability issues. Consider\n",
      "reformulating the model.\n",
      "-------------------------------------------------------------------\n",
      " iteration    simulation      bound        time (s)     solves  pid\n",
      "-------------------------------------------------------------------\n"
     ]
    },
    {
     "name": "stdout",
     "output_type": "stream",
     "text": [
      "         1   2.852847e+06  2.389763e+06  3.840001e-01       709   1\n"
     ]
    },
    {
     "name": "stdout",
     "output_type": "stream",
     "text": [
      "         4   2.005133e+06  2.389763e+06  1.639000e+00      2836   1\n"
     ]
    },
    {
     "name": "stdout",
     "output_type": "stream",
     "text": [
      "         7   2.131550e+06  2.389763e+06  2.770000e+00      4963   1\n"
     ]
    },
    {
     "name": "stdout",
     "output_type": "stream",
     "text": [
      "        10   2.021090e+06  2.389763e+06  3.890000e+00      7090   1\n",
      "-------------------------------------------------------------------\n",
      "status         : iteration_limit\n",
      "total time (s) : 3.890000e+00\n",
      "total solves   : 7090\n",
      "best bound     :  2.389763e+06\n",
      "simulation ci  :  2.294899e+06 ± 2.799645e+05\n",
      "numeric issues : 0\n",
      "-------------------------------------------------------------------\n",
      "\n",
      "Nomination: \n",
      "________________________________\n",
      "Flasjon  | 96.49947296522413\n",
      "\n",
      "Fortum\n",
      "Reservoir[Flasjon, Holsmjon]\n",
      "FortumReservoir[Flasjon, Holsmjon]\n",
      "Plants: HydropowerPlant[Parteboda, Hermansboda, Ljunga]\n",
      "HydropowerPlant[Flasjo, Trangfors, Ratan, Turinge, Bursnas, Nederede, Skallbole, Matfors, Viforsen, Jarnvagsforsen]\n",
      "-------------------------------------------------------------------\n",
      "         SDDP.jl (c) Oscar Dowson and contributors, 2017-23\n",
      "-------------------------------------------------------------------\n",
      "problem\n",
      "  nodes           : 8\n",
      "  state variables : 7\n",
      "  scenarios       : 1.00000e+14\n",
      "  existing cuts   : false\n",
      "options\n",
      "  solver          : serial mode\n",
      "  risk measure    : SDDP.Expectation()\n",
      "  sampling scheme : SDDP.InSampleMonteCarlo\n",
      "subproblem structure\n",
      "  VariableRef                                                                   : [288, 350]\n",
      "  AffExpr in MOI.EqualTo{Float64}                                               : [12, 40]\n",
      "  AffExpr in MOI.GreaterThan{Float64}                                           : [69, 79]\n",
      "  AffExpr in MOI.LessThan{Float64}                                              : [160, 160]\n",
      "  VariableRef in MOI.GreaterThan{Float64}                                       : [128, 188]\n",
      "  VariableRef in MOI.LessThan{Float64}                                          : [77, 77]\n",
      "  VariableRef in MOI.ZeroOne                                                    : [149, 149]\n",
      "  Vector{AffExpr} in MOI.Indicator{MOI.ACTIVATE_ON_ONE, MOI.LessThan{Float64}}  : [4, 4]\n",
      "  Vector{AffExpr} in MOI.Indicator{MOI.ACTIVATE_ON_ZERO, MOI.LessThan{Float64}} : [2, 2]\n"
     ]
    },
    {
     "name": "stdout",
     "output_type": "stream",
     "text": [
      "numerical stability report\n",
      "  matrix range     [7e-02, 7e+01]\n",
      "  objective range  [1e+00, 4e+02]\n",
      "  bounds range     [1e+01, 1e+08]\n",
      "  rhs range        [5e-02, 3e+05]\n",
      "WARNING: numerical stability issues detected\n",
      "  - bounds range contains large coefficients\n",
      "Very large or small absolute values of coefficients\n",
      "can cause numerical stability issues. Consider\n",
      "reformulating the model.\n",
      "-------------------------------------------------------------------\n",
      " iteration    simulation      bound        time (s)     solves  pid\n",
      "-------------------------------------------------------------------\n"
     ]
    },
    {
     "name": "stdout",
     "output_type": "stream",
     "text": [
      "         1   1.314206e+06  1.567403e+06  2.459998e-01       709   1\n"
     ]
    },
    {
     "name": "stdout",
     "output_type": "stream",
     "text": [
      "         5   1.603983e+06  1.567403e+06  1.394000e+00      3545   1\n"
     ]
    },
    {
     "name": "stdout",
     "output_type": "stream",
     "text": [
      "         9   1.848400e+06  1.567403e+06  2.511000e+00      6381   1\n"
     ]
    },
    {
     "name": "stdout",
     "output_type": "stream",
     "text": [
      "        10   1.630612e+06  1.567403e+06  2.810000e+00      7090   1\n",
      "-------------------------------------------------------------------\n",
      "status         : iteration_limit\n",
      "total time (s) : 2.810000e+00\n",
      "total solves   : 7090\n",
      "best bound     :  1.567403e+06\n",
      "simulation ci  :  1.593462e+06 ± 1.120686e+05\n",
      "numeric issues : 0\n",
      "-------------------------------------------------------------------\n",
      "\n",
      "Nomination: \n",
      "________________________________\n",
      "Holsmjon | 2.842170943040401e-14\n",
      "Flasjon  | 137.80659871851122\n",
      "\n",
      "Statkraft\n",
      "Reservoir[Flasjon, Holsmjon]\n",
      "StatkraftReservoir[Flasjon, Holsmjon]\n",
      "Plants: HydropowerPlant[Nederede, Skallbole, Matfors, Viforsen, Jarnvagsforsen]\n",
      "HydropowerPlant[Flasjo, Trangfors, Ratan, Turinge, Bursnas, Parteboda, Hermansboda, Ljunga]\n",
      "-------------------------------------------------------------------\n",
      "         SDDP.jl (c) Oscar Dowson and contributors, 2017-23\n",
      "-------------------------------------------------------------------\n",
      "problem\n",
      "  nodes           : 8\n",
      "  state variables : 9\n",
      "  scenarios       : 1.00000e+14\n",
      "  existing cuts   : false\n",
      "options\n",
      "  solver          : serial mode\n",
      "  risk measure    : SDDP.Expectation()\n",
      "  sampling scheme : SDDP.InSampleMonteCarlo\n",
      "subproblem structure\n",
      "  VariableRef                                                                   : [436, 496]\n",
      "  AffExpr in MOI.EqualTo{Float64}                                               : [16, 44]\n",
      "  AffExpr in MOI.GreaterThan{Float64}                                           : [115, 123]\n",
      "  AffExpr in MOI.LessThan{Float64}                                              : [256, 256]\n",
      "  VariableRef in MOI.GreaterThan{Float64}                                       : [176, 234]\n",
      "  VariableRef in MOI.LessThan{Float64}                                          : [125, 125]\n",
      "  VariableRef in MOI.ZeroOne                                                    : [247, 247]\n",
      "  Vector{AffExpr} in MOI.Indicator{MOI.ACTIVATE_ON_ONE, MOI.LessThan{Float64}}  : [4, 4]\n",
      "  Vector{AffExpr} in MOI.Indicator{MOI.ACTIVATE_ON_ZERO, MOI.LessThan{Float64}} : [2, 2]\n"
     ]
    },
    {
     "name": "stdout",
     "output_type": "stream",
     "text": [
      "numerical stability report\n",
      "  matrix range     [7e-02, 2e+02]\n",
      "  objective range  [1e+00, 4e+02]\n",
      "  bounds range     [1e+01, 3e+08]\n",
      "  rhs range        [5e-02, 1e+06]\n",
      "WARNING: numerical stability issues detected\n",
      "  - bounds range contains large coefficients\n",
      "Very large or small absolute values of coefficients\n",
      "can cause numerical stability issues. Consider\n",
      "reformulating the model.\n",
      "-------------------------------------------------------------------\n",
      " iteration    simulation      bound        time (s)     solves  pid\n",
      "-------------------------------------------------------------------"
     ]
    },
    {
     "name": "stdout",
     "output_type": "stream",
     "text": [
      "\n",
      "         1   3.414900e+06  4.031435e+06  3.829999e-01       709   1\n"
     ]
    },
    {
     "name": "stdout",
     "output_type": "stream",
     "text": [
      "         4   3.539018e+06  4.031435e+06  1.625000e+00      2836   1"
     ]
    },
    {
     "name": "stdout",
     "output_type": "stream",
     "text": [
      "\n",
      "         7   5.679008e+06  4.031435e+06  2.894000e+00      4963   1\n"
     ]
    },
    {
     "name": "stdout",
     "output_type": "stream",
     "text": [
      "        10   3.904665e+06  4.031435e+06  4.176000e+00      7090   1\n",
      "-------------------------------------------------------------------\n",
      "status         : iteration_limit\n",
      "total time (s) : 4.176000e+00\n",
      "total solves   : 7090\n",
      "best bound     :  4.031435e+06\n",
      "simulation ci  :  4.112364e+06 ± 5.883351e+05\n",
      "numeric issues : 0\n",
      "-------------------------------------------------------------------\n",
      "\n",
      "Nomination: \n",
      "________________________________\n",
      "Holsmjon | 14.51213434555875\n",
      "Flasjon  | 204.04439313414292\n",
      "\n"
     ]
    }
   ],
   "source": [
    "\"\"\"\n",
    "    OthersNomination(Qnoms, Qadj)\n",
    "\n",
    "    From own nomination and others nomination, obtain what the other participants have nominated aggregated.\n",
    "    Create a Dictionary with that information for each participant.\n",
    "\n",
    "\"\"\"\n",
    "function OthersNomination(Qnoms::Dict{NamedTuple{(:participant, :reservoir), Tuple{Participant, Reservoir}}, Float64}, Qadj::Dict{Reservoir, Float64}, J::Vector{Participant}, R::Vector{Reservoir})\n",
    "    QnomO = Dict{Participant, Dict{Reservoir, Float64}}(j => Dict( r => 0.0 for r in R) for j in J)\n",
    "    for j in J\n",
    "        O, K_O = OtherParticipant(J, j, R)\n",
    "        for r in R\n",
    "            QnomO[j][r] = (Qadj[r] * (j.participationrate[r] + O.participationrate[r]) - Qnoms[(participant = j, reservoir = r)] * j.participationrate[r] )/O.participationrate[r]\n",
    "        end\n",
    "    end\n",
    "    return QnomO\n",
    "end\n",
    "\n",
    "QnomO = OthersNomination(Qnoms, Qadj, J, R)\n",
    "Qnoms_2 = Dict{NamedTuple{(:participant, :reservoir), Tuple{Participant, Reservoir}}, Float64}()\n",
    "for j in J\n",
    "    println(j)\n",
    "    Qnom =ShortTermScheduling(R, j, J, Qref, Obligations[j], price, QnomO[j], Ω_NA, P_NA, cuts[j], WaterCuts[j], iterations, mu_up,mu_down, T, stage_count_short) \n",
    "    for r in R\n",
    "        if j.participationrate[r] > 0\n",
    "            Qnoms_2[(participant = j, reservoir = r)] = Qnom[r]\n",
    "        else\n",
    "            Qnoms_2[(participant = j, reservoir = r)] = Qref[r]\n",
    "        end\n",
    "    end\n",
    "end"
   ]
  },
  {
   "cell_type": "markdown",
   "metadata": {},
   "source": [
    "### Second Round of Water Regulation\n",
    "\n",
    "This time, the reservoirs are updated accordingly"
   ]
  },
  {
   "cell_type": "code",
   "execution_count": 45,
   "metadata": {},
   "outputs": [
    {
     "data": {
      "text/plain": [
       "(________________________________\n",
       "Holsmjon | 10.071854433857947\n",
       "Flasjon  | 148.2484540784729\n",
       ", ________________________________\n",
       "Holsmjon | 158.32030851233083\n",
       "Flasjon  | 148.2484540784729\n",
       ", Dict{Participant, Dict{Reservoir, Float64}}(Statkraft => ________________________________\n",
       "Holsmjon | -4.513732344347785\n",
       "Flasjon  | 38.17683961413431\n",
       ", Fortum => ________________________________\n",
       "Holsmjon | 4.513732344347785\n",
       "Flasjon  | -19.67103325092723\n",
       ", Sydkraft => ________________________________\n",
       "Holsmjon | -0.0    \n",
       "Flasjon  | -18.50580636320707\n",
       "), Viforsen | 0.0     \n",
       "Ratan    | 24.34036578159379\n",
       "Ljunga   | 18.774358436976776\n",
       "Skallbole | 0.0     \n",
       "Flasjo   | 13.719115258716498\n",
       "Matfors  | 0.0     \n",
       "Nederede | 0.0     \n",
       "Bursnas  | 3.0978647358392095\n",
       "Hermansboda | 4.172079652661506\n",
       "Parteboda | 11.264615062186067\n",
       "Jarnvagsforsen | 0.0     \n",
       "Trangfors | 31.863751568631866\n",
       "Turinge  | 8.408489997277854\n",
       "Viforsen | 0.0     \n",
       "Ratan    | 4.121573830693027\n",
       "Ljunga   | 0.0     \n",
       "Skallbole | 0.0     \n",
       "Flasjo   | 2.3230688863906153\n",
       "Matfors  | 0.0     \n",
       "Nederede | 0.0     \n",
       "Bursnas  | 0.5245639420882033\n",
       "Hermansboda | 0.0     \n",
       "Parteboda | 0.0     \n",
       "Jarnvagsforsen | 0.0     \n",
       "Trangfors | 5.395514832907235\n",
       "Turinge  | 1.423816414239409\n",
       "Viforsen | 0.0     \n",
       "Ratan    | 0.0     \n",
       "Ljunga   | 0.0     \n",
       "Skallbole | 0.0     \n",
       "Flasjo   | 0.0     \n",
       "Matfors  | 0.0     \n",
       "Nederede | 0.0     \n",
       "Bursnas  | 0.0     \n",
       "Hermansboda | 0.0     \n",
       "Parteboda | 0.0     \n",
       "Jarnvagsforsen | 0.0     \n",
       "Trangfors | 0.0     \n",
       "Turinge  | 0.0     \n",
       ", Dict{HydropowerPlant, Float64}(Viforsen => 0.0, Ratan => 28.461939612286816, Ljunga => 18.774358436976776, Skallbole => 0.0, Flasjo => 16.042184145107115, Matfors => 0.0, Nederede => 0.0, Bursnas => 3.622428677927413, Hermansboda => 4.172079652661506, Parteboda => 11.264615062186067…), Dict{HydropowerPlant, Float64}(Viforsen => 0.0, Ratan => 18.28664974316009, Ljunga => 5.994138830548872, Skallbole => 0.0, Flasjo => 27.977020764326596, Bursnas => 3.0273917854931027, Trangfors => 31.13888693650048, Turinge => 8.217206274909849, Matfors => 0.0, Nederede => 0.0…))"
      ]
     },
     "metadata": {},
     "output_type": "display_data"
    },
    {
     "name": "stdout",
     "output_type": "stream",
     "text": [
      "Statkraft\n",
      "______________________________\n",
      "Fortum\n",
      "______________________________\n",
      "Sydkraft\n",
      "______________________________\n"
     ]
    }
   ],
   "source": [
    "Qnoms_2\n",
    "\n",
    "Qadj_2, _, P_Swap_2, _, _, _ = water_regulation(Qnoms_2, Qref, T, false)"
   ]
  },
  {
   "cell_type": "markdown",
   "metadata": {},
   "source": [
    "### Real Time Balancing and Scheduling"
   ]
  },
  {
   "cell_type": "code",
   "execution_count": 56,
   "metadata": {},
   "outputs": [
    {
     "name": "stdout",
     "output_type": "stream",
     "text": [
      "[0.0, 0.0, 0.0, 0.0, 0.0, 0.0, 0.0, 0.0, 0.0, 0.0, 149.83862228001874, 0.0, 0.0, 0.0, 0.0, 0.0, 0.0, 0.0, 0.0, 0.0, 0.0, 0.0, 0.0, 0.0][18.50580636320707, 18.50580636320706, 18.50580636320706, 18.50580636320706, 18.50580636320706, 18.50580636320706, 18.50580636320706, 18.50580636320706, 18.50580636320706, 18.50580636320706, 0.0, 18.505806363207117, 18.50580636320706, 18.50580636320706, 18.50580636320706, 18.50580636320706, 18.50580636320706, 18.50580636320706, 18.50580636320706, 18.50580636320706, 18.50580636320706, 18.505806363207117, 18.50580636320706, 18.50580636320706]\n"
     ]
    }
   ],
   "source": [
    "j = J[1]\n",
    "_, z_up, z_down = RealTimeBalancing(\n",
    "    R,\n",
    "    j,\n",
    "    Qadj_2,\n",
    "    P_Swap_2[j],\n",
    "    T,\n",
    "    mu_up,\n",
    "    mu_down,\n",
    "    Obligations[j])\n",
    "\n",
    "println(z_down, z_up)"
   ]
  },
  {
   "cell_type": "markdown",
   "metadata": {},
   "source": [
    "# Simulation\n",
    "\n",
    "For a preset amount of rounds, we simulate the reservoir system through the functions and structures as described above. It is important to have a way to save results adequately! This encapsulates the calculations, and evaluations and visualizations can take place at a later point in time."
   ]
  }
 ],
 "metadata": {
  "kernelspec": {
   "display_name": "Julia 1.9.2",
   "language": "julia",
   "name": "julia-1.9"
  },
  "language_info": {
   "file_extension": ".jl",
   "mimetype": "application/julia",
   "name": "julia",
   "version": "1.9.2"
  },
  "orig_nbformat": 4
 },
 "nbformat": 4,
 "nbformat_minor": 2
}
