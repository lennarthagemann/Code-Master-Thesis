{
 "cells": [
  {
   "cell_type": "code",
   "execution_count": 1,
   "metadata": {},
   "outputs": [],
   "source": [
    "using JuMP\n",
    "using CPLEX\n",
    "using Distributions\n",
    "using LinearAlgebra\n",
    "using Statistics\n",
    "using Dates\n",
    "using DataFrames\n",
    "using SDDP\n",
    "using Plots\n",
    "using CSV\n",
    "using JSON\n",
    "using UUIDs\n",
    "using Serialization\n",
    "try\n",
    "    using Revise\n",
    "catch e\n",
    "    @warn \"Error initializing Revise\" exception=(e, catch_backtrace())\n",
    "end\n",
    "\n",
    "includet(dirname(pwd()) * \"\\\\Water_Regulation\\\\WaterRegulation.jl\")\n",
    "using .WaterRegulation"
   ]
  },
  {
   "cell_type": "markdown",
   "metadata": {},
   "source": [
    "### Simulations of Water Regulation Procedure\n",
    "\n",
    "We would like to set up a skeleton for the day-to-day decision making of hydropower producers and the Water Regulation Company. The main steps of the Water Regulation company consist of:\n",
    "\n",
    "* Determining a Reference Flow for the next nomination period (Inflow Forecasting)\n",
    "* Receiving pre-bid nominations and calculating adjusted flow, power swaps, etc. -> Send these parameters back to the participants\n",
    "* Recalculate based on renominations by power producers after bidding\n",
    "\n",
    "For the Power Producers / Participants:  \n",
    "\n",
    "* Fetch and Calculate all Parameters for the Water Regulation Procedure (Individual Reservoir Level etc.)\n",
    "* Price and Inflow Forecasting (Fix Price Points)\n",
    "* Medium-Term Hydropower Model Calculation, obtain Water Value Cuts\n",
    "* Decision Model 1: Bidding and Pre-Market Clearing Nomination\n",
    "* Decision Model 2: Short-Term Optimization and Renomination\n",
    "* Decision Model 3: Fixed Water Flow scheduling and real time balancing\n",
    "\n",
    "This constitutes one round of simulation.\n"
   ]
  },
  {
   "cell_type": "code",
   "execution_count": 2,
   "metadata": {},
   "outputs": [
    {
     "name": "stdout",
     "output_type": "stream",
     "text": [
      "The reservoir system consists of [\"Flasjon\", \"Holsmjon\"]\n",
      "Downstream of the reservoirs we have power plants [\"Fla"
     ]
    },
    {
     "name": "stdout",
     "output_type": "stream",
     "text": [
      "sjo\", \"Trangfors\", \"Ratan\", \"Turinge\", \"Bursnas\", \"Parteboda\", \"Hermansboda\", \"Ljunga\", \"Nederede\", \"Skallbole\", \"Matfors\", \"Viforsen\", \"Jarnvagsforsen\"]\n",
      "Sydkraft owns HydropowerPlant[Flasjo, Trangfors, Ratan, Turinge, Bursnas], which constitutes a participation rate of: \n",
      " ________________________________\n",
      "Flasjon  | 1.84    \n",
      "Holsmjon | 0.0     \n",
      "\n",
      "Fortum owns HydropowerPlant[Parteboda, Hermansboda, Ljunga], which constitutes a participation rate of: \n",
      " ________________________________\n",
      "Flasjon  | 0.8200000000000001\n",
      "Holsmjon | 0.8200000000000001\n",
      "\n",
      "Statkraft owns HydropowerPlant[Nederede, Skallbole, Matfors, Viforsen, Jarnvagsforsen], which constitutes a participation rate of: \n",
      " ________________________________\n",
      "Flasjon  | 1.86    \n",
      "Holsmjon | 1.86    \n",
      "\n"
     ]
    }
   ],
   "source": [
    "filepath_Ljungan = dirname(pwd()) * \"\\\\Water_Regulation\\\\TestDataWaterRegulation\\\\Ljungan.json\"\n",
    "filepath_prices = dirname(pwd()) *  \"\\\\Data\\\\Spot Prices\\\\prices_df.csv\"\n",
    "filepath_results = dirname(pwd()) * \"\\\\Results\\\\LambdaZero\\\\\"\n",
    "R, K, J = read_data(filepath_Ljungan)\n",
    "\n",
    "println(\"The reservoir system consists of $([r.dischargepoint for r in R])\")\n",
    "println(\"Downstream of the reservoirs we have power plants $([k.name for k in K])\")\n",
    "for j in J\n",
    "    println(\"$(j.name) owns $(j.plants), which constitutes a participation rate of: \\n \", j.participationrate)\n",
    "end"
   ]
  },
  {
   "cell_type": "markdown",
   "metadata": {},
   "source": [
    "#### Load Data\n",
    "\n",
    "Other than the river system, the relevant data for optimization is organized in Dataframes.\n",
    "We load in cleaned versions of the data."
   ]
  },
  {
   "cell_type": "code",
   "execution_count": 3,
   "metadata": {},
   "outputs": [
    {
     "data": {
      "text/html": [
       "<div><div style = \"float: left;\"><span>10×29 DataFrame</span></div><div style = \"clear: both;\"></div></div><div class = \"data-frame\" style = \"overflow-x: scroll;\"><table class = \"data-frame\" style = \"margin-bottom: 6px;\"><thead><tr class = \"header\"><th class = \"rowNumber\" style = \"font-weight: bold; text-align: right;\">Row</th><th style = \"text-align: left;\">Date</th><th style = \"text-align: left;\">0</th><th style = \"text-align: left;\">1</th><th style = \"text-align: left;\">2</th><th style = \"text-align: left;\">3</th><th style = \"text-align: left;\">4</th><th style = \"text-align: left;\">5</th><th style = \"text-align: left;\">6</th><th style = \"text-align: left;\">7</th><th style = \"text-align: left;\">8</th><th style = \"text-align: left;\">9</th><th style = \"text-align: left;\">10</th><th style = \"text-align: left;\">11</th><th style = \"text-align: left;\">12</th><th style = \"text-align: left;\">13</th><th style = \"text-align: left;\">14</th><th style = \"text-align: left;\">15</th><th style = \"text-align: left;\">16</th><th style = \"text-align: left;\">17</th><th style = \"text-align: left;\">18</th><th style = \"text-align: left;\">19</th><th style = \"text-align: left;\">20</th><th style = \"text-align: left;\">21</th><th style = \"text-align: left;\">22</th><th style = \"text-align: left;\">23</th><th style = \"text-align: left;\">Average</th><th style = \"text-align: left;\">season</th><th style = \"text-align: left;\">Weekday</th><th style = \"text-align: left;\">CalendarWeek</th></tr><tr class = \"subheader headerLastRow\"><th class = \"rowNumber\" style = \"font-weight: bold; text-align: right;\"></th><th title = \"Date\" style = \"text-align: left;\">Date</th><th title = \"Float64\" style = \"text-align: left;\">Float64</th><th title = \"Float64\" style = \"text-align: left;\">Float64</th><th title = \"Float64\" style = \"text-align: left;\">Float64</th><th title = \"Float64\" style = \"text-align: left;\">Float64</th><th title = \"Float64\" style = \"text-align: left;\">Float64</th><th title = \"Float64\" style = \"text-align: left;\">Float64</th><th title = \"Float64\" style = \"text-align: left;\">Float64</th><th title = \"Float64\" style = \"text-align: left;\">Float64</th><th title = \"Float64\" style = \"text-align: left;\">Float64</th><th title = \"Float64\" style = \"text-align: left;\">Float64</th><th title = \"Float64\" style = \"text-align: left;\">Float64</th><th title = \"Float64\" style = \"text-align: left;\">Float64</th><th title = \"Float64\" style = \"text-align: left;\">Float64</th><th title = \"Float64\" style = \"text-align: left;\">Float64</th><th title = \"Float64\" style = \"text-align: left;\">Float64</th><th title = \"Float64\" style = \"text-align: left;\">Float64</th><th title = \"Float64\" style = \"text-align: left;\">Float64</th><th title = \"Float64\" style = \"text-align: left;\">Float64</th><th title = \"Float64\" style = \"text-align: left;\">Float64</th><th title = \"Float64\" style = \"text-align: left;\">Float64</th><th title = \"Float64\" style = \"text-align: left;\">Float64</th><th title = \"Float64\" style = \"text-align: left;\">Float64</th><th title = \"Float64\" style = \"text-align: left;\">Float64</th><th title = \"Float64\" style = \"text-align: left;\">Float64</th><th title = \"Float64\" style = \"text-align: left;\">Float64</th><th title = \"String\" style = \"text-align: left;\">String</th><th title = \"String\" style = \"text-align: left;\">String</th><th title = \"Int64\" style = \"text-align: left;\">Int64</th></tr></thead><tbody><tr><td class = \"rowNumber\" style = \"font-weight: bold; text-align: right;\">1</td><td style = \"text-align: left;\">2020-12-15</td><td style = \"text-align: right;\">17.57</td><td style = \"text-align: right;\">17.57</td><td style = \"text-align: right;\">16.92</td><td style = \"text-align: right;\">16.88</td><td style = \"text-align: right;\">18.95</td><td style = \"text-align: right;\">20.39</td><td style = \"text-align: right;\">22.31</td><td style = \"text-align: right;\">24.59</td><td style = \"text-align: right;\">31.41</td><td style = \"text-align: right;\">31.49</td><td style = \"text-align: right;\">31.62</td><td style = \"text-align: right;\">30.52</td><td style = \"text-align: right;\">35.9</td><td style = \"text-align: right;\">38.1</td><td style = \"text-align: right;\">40.08</td><td style = \"text-align: right;\">43.08</td><td style = \"text-align: right;\">37.32</td><td style = \"text-align: right;\">51.13</td><td style = \"text-align: right;\">47.54</td><td style = \"text-align: right;\">40.77</td><td style = \"text-align: right;\">35.2</td><td style = \"text-align: right;\">28.45</td><td style = \"text-align: right;\">23.67</td><td style = \"text-align: right;\">21.86</td><td style = \"text-align: right;\">30.1383</td><td style = \"text-align: left;\">Winter</td><td style = \"text-align: left;\">Weekday</td><td style = \"text-align: right;\">51</td></tr><tr><td class = \"rowNumber\" style = \"font-weight: bold; text-align: right;\">2</td><td style = \"text-align: left;\">2020-12-16</td><td style = \"text-align: right;\">20.48</td><td style = \"text-align: right;\">19.32</td><td style = \"text-align: right;\">19.0</td><td style = \"text-align: right;\">19.02</td><td style = \"text-align: right;\">20.19</td><td style = \"text-align: right;\">21.98</td><td style = \"text-align: right;\">22.71</td><td style = \"text-align: right;\">32.71</td><td style = \"text-align: right;\">48.37</td><td style = \"text-align: right;\">43.68</td><td style = \"text-align: right;\">42.01</td><td style = \"text-align: right;\">37.92</td><td style = \"text-align: right;\">36.56</td><td style = \"text-align: right;\">36.42</td><td style = \"text-align: right;\">39.16</td><td style = \"text-align: right;\">46.54</td><td style = \"text-align: right;\">46.4</td><td style = \"text-align: right;\">39.41</td><td style = \"text-align: right;\">35.78</td><td style = \"text-align: right;\">24.74</td><td style = \"text-align: right;\">22.78</td><td style = \"text-align: right;\">22.15</td><td style = \"text-align: right;\">21.48</td><td style = \"text-align: right;\">20.12</td><td style = \"text-align: right;\">30.7887</td><td style = \"text-align: left;\">Winter</td><td style = \"text-align: left;\">Weekday</td><td style = \"text-align: right;\">51</td></tr><tr><td class = \"rowNumber\" style = \"font-weight: bold; text-align: right;\">3</td><td style = \"text-align: left;\">2020-12-17</td><td style = \"text-align: right;\">19.03</td><td style = \"text-align: right;\">17.93</td><td style = \"text-align: right;\">17.53</td><td style = \"text-align: right;\">17.28</td><td style = \"text-align: right;\">17.97</td><td style = \"text-align: right;\">20.0</td><td style = \"text-align: right;\">22.09</td><td style = \"text-align: right;\">23.64</td><td style = \"text-align: right;\">26.79</td><td style = \"text-align: right;\">25.28</td><td style = \"text-align: right;\">24.43</td><td style = \"text-align: right;\">24.3</td><td style = \"text-align: right;\">23.67</td><td style = \"text-align: right;\">23.99</td><td style = \"text-align: right;\">23.97</td><td style = \"text-align: right;\">25.06</td><td style = \"text-align: right;\">25.38</td><td style = \"text-align: right;\">26.07</td><td style = \"text-align: right;\">24.22</td><td style = \"text-align: right;\">23.16</td><td style = \"text-align: right;\">22.19</td><td style = \"text-align: right;\">21.97</td><td style = \"text-align: right;\">20.76</td><td style = \"text-align: right;\">18.99</td><td style = \"text-align: right;\">22.3208</td><td style = \"text-align: left;\">Winter</td><td style = \"text-align: left;\">Weekday</td><td style = \"text-align: right;\">51</td></tr><tr><td class = \"rowNumber\" style = \"font-weight: bold; text-align: right;\">4</td><td style = \"text-align: left;\">2020-12-18</td><td style = \"text-align: right;\">16.96</td><td style = \"text-align: right;\">16.65</td><td style = \"text-align: right;\">16.17</td><td style = \"text-align: right;\">16.3</td><td style = \"text-align: right;\">17.3</td><td style = \"text-align: right;\">19.39</td><td style = \"text-align: right;\">19.99</td><td style = \"text-align: right;\">22.43</td><td style = \"text-align: right;\">23.74</td><td style = \"text-align: right;\">23.96</td><td style = \"text-align: right;\">22.82</td><td style = \"text-align: right;\">22.5</td><td style = \"text-align: right;\">22.44</td><td style = \"text-align: right;\">22.23</td><td style = \"text-align: right;\">22.42</td><td style = \"text-align: right;\">22.91</td><td style = \"text-align: right;\">23.11</td><td style = \"text-align: right;\">23.83</td><td style = \"text-align: right;\">22.59</td><td style = \"text-align: right;\">21.01</td><td style = \"text-align: right;\">19.43</td><td style = \"text-align: right;\">19.04</td><td style = \"text-align: right;\">17.82</td><td style = \"text-align: right;\">15.92</td><td style = \"text-align: right;\">20.4567</td><td style = \"text-align: left;\">Winter</td><td style = \"text-align: left;\">Weekday</td><td style = \"text-align: right;\">51</td></tr><tr><td class = \"rowNumber\" style = \"font-weight: bold; text-align: right;\">5</td><td style = \"text-align: left;\">2020-12-19</td><td style = \"text-align: right;\">16.48</td><td style = \"text-align: right;\">15.98</td><td style = \"text-align: right;\">15.47</td><td style = \"text-align: right;\">15.31</td><td style = \"text-align: right;\">15.3</td><td style = \"text-align: right;\">15.52</td><td style = \"text-align: right;\">15.87</td><td style = \"text-align: right;\">15.92</td><td style = \"text-align: right;\">16.48</td><td style = \"text-align: right;\">17.01</td><td style = \"text-align: right;\">17.36</td><td style = \"text-align: right;\">17.47</td><td style = \"text-align: right;\">17.27</td><td style = \"text-align: right;\">17.29</td><td style = \"text-align: right;\">17.33</td><td style = \"text-align: right;\">17.54</td><td style = \"text-align: right;\">17.96</td><td style = \"text-align: right;\">18.39</td><td style = \"text-align: right;\">17.77</td><td style = \"text-align: right;\">17.03</td><td style = \"text-align: right;\">15.92</td><td style = \"text-align: right;\">15.69</td><td style = \"text-align: right;\">15.22</td><td style = \"text-align: right;\">13.65</td><td style = \"text-align: right;\">16.4679</td><td style = \"text-align: left;\">Winter</td><td style = \"text-align: left;\">Weekend</td><td style = \"text-align: right;\">51</td></tr><tr><td class = \"rowNumber\" style = \"font-weight: bold; text-align: right;\">6</td><td style = \"text-align: left;\">2020-12-20</td><td style = \"text-align: right;\">13.0</td><td style = \"text-align: right;\">12.04</td><td style = \"text-align: right;\">11.79</td><td style = \"text-align: right;\">11.65</td><td style = \"text-align: right;\">11.79</td><td style = \"text-align: right;\">11.98</td><td style = \"text-align: right;\">12.53</td><td style = \"text-align: right;\">12.7</td><td style = \"text-align: right;\">13.25</td><td style = \"text-align: right;\">14.28</td><td style = \"text-align: right;\">15.37</td><td style = \"text-align: right;\">15.94</td><td style = \"text-align: right;\">15.83</td><td style = \"text-align: right;\">15.37</td><td style = \"text-align: right;\">15.98</td><td style = \"text-align: right;\">16.84</td><td style = \"text-align: right;\">17.09</td><td style = \"text-align: right;\">17.29</td><td style = \"text-align: right;\">17.06</td><td style = \"text-align: right;\">16.3</td><td style = \"text-align: right;\">15.32</td><td style = \"text-align: right;\">15.23</td><td style = \"text-align: right;\">14.65</td><td style = \"text-align: right;\">13.02</td><td style = \"text-align: right;\">14.4292</td><td style = \"text-align: left;\">Winter</td><td style = \"text-align: left;\">Weekend</td><td style = \"text-align: right;\">51</td></tr><tr><td class = \"rowNumber\" style = \"font-weight: bold; text-align: right;\">7</td><td style = \"text-align: left;\">2020-12-21</td><td style = \"text-align: right;\">11.9</td><td style = \"text-align: right;\">11.2</td><td style = \"text-align: right;\">11.5</td><td style = \"text-align: right;\">11.73</td><td style = \"text-align: right;\">12.81</td><td style = \"text-align: right;\">14.37</td><td style = \"text-align: right;\">16.67</td><td style = \"text-align: right;\">19.74</td><td style = \"text-align: right;\">20.6</td><td style = \"text-align: right;\">19.92</td><td style = \"text-align: right;\">19.32</td><td style = \"text-align: right;\">19.39</td><td style = \"text-align: right;\">19.44</td><td style = \"text-align: right;\">19.2</td><td style = \"text-align: right;\">19.45</td><td style = \"text-align: right;\">20.65</td><td style = \"text-align: right;\">20.55</td><td style = \"text-align: right;\">20.35</td><td style = \"text-align: right;\">19.49</td><td style = \"text-align: right;\">18.03</td><td style = \"text-align: right;\">16.17</td><td style = \"text-align: right;\">14.47</td><td style = \"text-align: right;\">13.18</td><td style = \"text-align: right;\">8.66</td><td style = \"text-align: right;\">16.6163</td><td style = \"text-align: left;\">Winter</td><td style = \"text-align: left;\">Weekday</td><td style = \"text-align: right;\">52</td></tr><tr><td class = \"rowNumber\" style = \"font-weight: bold; text-align: right;\">8</td><td style = \"text-align: left;\">2020-12-22</td><td style = \"text-align: right;\">7.15</td><td style = \"text-align: right;\">5.51</td><td style = \"text-align: right;\">4.77</td><td style = \"text-align: right;\">4.44</td><td style = \"text-align: right;\">4.84</td><td style = \"text-align: right;\">7.73</td><td style = \"text-align: right;\">12.82</td><td style = \"text-align: right;\">15.97</td><td style = \"text-align: right;\">17.87</td><td style = \"text-align: right;\">18.0</td><td style = \"text-align: right;\">18.09</td><td style = \"text-align: right;\">18.01</td><td style = \"text-align: right;\">18.01</td><td style = \"text-align: right;\">17.57</td><td style = \"text-align: right;\">18.08</td><td style = \"text-align: right;\">18.62</td><td style = \"text-align: right;\">19.67</td><td style = \"text-align: right;\">19.87</td><td style = \"text-align: right;\">19.79</td><td style = \"text-align: right;\">18.01</td><td style = \"text-align: right;\">16.88</td><td style = \"text-align: right;\">16.05</td><td style = \"text-align: right;\">15.05</td><td style = \"text-align: right;\">13.71</td><td style = \"text-align: right;\">14.4379</td><td style = \"text-align: left;\">Winter</td><td style = \"text-align: left;\">Weekday</td><td style = \"text-align: right;\">52</td></tr><tr><td class = \"rowNumber\" style = \"font-weight: bold; text-align: right;\">9</td><td style = \"text-align: left;\">2020-12-23</td><td style = \"text-align: right;\">13.38</td><td style = \"text-align: right;\">13.1</td><td style = \"text-align: right;\">12.9</td><td style = \"text-align: right;\">12.93</td><td style = \"text-align: right;\">13.14</td><td style = \"text-align: right;\">14.72</td><td style = \"text-align: right;\">15.99</td><td style = \"text-align: right;\">18.59</td><td style = \"text-align: right;\">19.21</td><td style = \"text-align: right;\">19.51</td><td style = \"text-align: right;\">18.97</td><td style = \"text-align: right;\">19.33</td><td style = \"text-align: right;\">19.55</td><td style = \"text-align: right;\">19.4</td><td style = \"text-align: right;\">19.66</td><td style = \"text-align: right;\">19.96</td><td style = \"text-align: right;\">20.56</td><td style = \"text-align: right;\">21.79</td><td style = \"text-align: right;\">20.77</td><td style = \"text-align: right;\">18.95</td><td style = \"text-align: right;\">17.82</td><td style = \"text-align: right;\">16.94</td><td style = \"text-align: right;\">16.16</td><td style = \"text-align: right;\">15.07</td><td style = \"text-align: right;\">17.4333</td><td style = \"text-align: left;\">Winter</td><td style = \"text-align: left;\">Weekday</td><td style = \"text-align: right;\">52</td></tr><tr><td class = \"rowNumber\" style = \"font-weight: bold; text-align: right;\">10</td><td style = \"text-align: left;\">2020-12-24</td><td style = \"text-align: right;\">13.44</td><td style = \"text-align: right;\">12.19</td><td style = \"text-align: right;\">10.57</td><td style = \"text-align: right;\">9.44</td><td style = \"text-align: right;\">9.1</td><td style = \"text-align: right;\">10.74</td><td style = \"text-align: right;\">11.36</td><td style = \"text-align: right;\">13.31</td><td style = \"text-align: right;\">16.01</td><td style = \"text-align: right;\">17.78</td><td style = \"text-align: right;\">18.14</td><td style = \"text-align: right;\">18.0</td><td style = \"text-align: right;\">18.07</td><td style = \"text-align: right;\">17.48</td><td style = \"text-align: right;\">17.35</td><td style = \"text-align: right;\">17.64</td><td style = \"text-align: right;\">18.2</td><td style = \"text-align: right;\">17.55</td><td style = \"text-align: right;\">15.9</td><td style = \"text-align: right;\">14.35</td><td style = \"text-align: right;\">14.49</td><td style = \"text-align: right;\">14.47</td><td style = \"text-align: right;\">14.52</td><td style = \"text-align: right;\">13.94</td><td style = \"text-align: right;\">14.7517</td><td style = \"text-align: left;\">Winter</td><td style = \"text-align: left;\">Weekday</td><td style = \"text-align: right;\">52</td></tr></tbody></table></div>"
      ],
      "text/latex": [
       "\\begin{tabular}{r|cccccccccc}\n",
       "\t& Date & 0 & 1 & 2 & 3 & 4 & 5 & 6 & 7 & \\\\\n",
       "\t\\hline\n",
       "\t& Date & Float64 & Float64 & Float64 & Float64 & Float64 & Float64 & Float64 & Float64 & \\\\\n",
       "\t\\hline\n",
       "\t1 & 2020-12-15 & 17.57 & 17.57 & 16.92 & 16.88 & 18.95 & 20.39 & 22.31 & 24.59 & $\\dots$ \\\\\n",
       "\t2 & 2020-12-16 & 20.48 & 19.32 & 19.0 & 19.02 & 20.19 & 21.98 & 22.71 & 32.71 & $\\dots$ \\\\\n",
       "\t3 & 2020-12-17 & 19.03 & 17.93 & 17.53 & 17.28 & 17.97 & 20.0 & 22.09 & 23.64 & $\\dots$ \\\\\n",
       "\t4 & 2020-12-18 & 16.96 & 16.65 & 16.17 & 16.3 & 17.3 & 19.39 & 19.99 & 22.43 & $\\dots$ \\\\\n",
       "\t5 & 2020-12-19 & 16.48 & 15.98 & 15.47 & 15.31 & 15.3 & 15.52 & 15.87 & 15.92 & $\\dots$ \\\\\n",
       "\t6 & 2020-12-20 & 13.0 & 12.04 & 11.79 & 11.65 & 11.79 & 11.98 & 12.53 & 12.7 & $\\dots$ \\\\\n",
       "\t7 & 2020-12-21 & 11.9 & 11.2 & 11.5 & 11.73 & 12.81 & 14.37 & 16.67 & 19.74 & $\\dots$ \\\\\n",
       "\t8 & 2020-12-22 & 7.15 & 5.51 & 4.77 & 4.44 & 4.84 & 7.73 & 12.82 & 15.97 & $\\dots$ \\\\\n",
       "\t9 & 2020-12-23 & 13.38 & 13.1 & 12.9 & 12.93 & 13.14 & 14.72 & 15.99 & 18.59 & $\\dots$ \\\\\n",
       "\t10 & 2020-12-24 & 13.44 & 12.19 & 10.57 & 9.44 & 9.1 & 10.74 & 11.36 & 13.31 & $\\dots$ \\\\\n",
       "\\end{tabular}\n"
      ],
      "text/plain": [
       "\u001b[1m10×29 DataFrame\u001b[0m\n",
       "\u001b[1m Row \u001b[0m│\u001b[1m Date       \u001b[0m\u001b[1m 0       \u001b[0m\u001b[1m 1       \u001b[0m\u001b[1m 2       \u001b[0m\u001b[1m 3       \u001b[0m\u001b[1m 4       \u001b[0m\u001b[1m 5       \u001b[0m\u001b[1m 6    \u001b[0m ⋯\n",
       "     │\u001b[90m Date       \u001b[0m\u001b[90m Float64 \u001b[0m\u001b[90m Float64 \u001b[0m\u001b[90m Float64 \u001b[0m\u001b[90m Float64 \u001b[0m\u001b[90m Float64 \u001b[0m\u001b[90m Float64 \u001b[0m\u001b[90m Float\u001b[0m ⋯\n",
       "─────┼──────────────────────────────────────────────────────────────────────────\n",
       "   1 │ 2020-12-15    17.57    17.57    16.92    16.88    18.95    20.39    22. ⋯\n",
       "   2 │ 2020-12-16    20.48    19.32    19.0     19.02    20.19    21.98    22.\n",
       "   3 │ 2020-12-17    19.03    17.93    17.53    17.28    17.97    20.0     22.\n",
       "   4 │ 2020-12-18    16.96    16.65    16.17    16.3     17.3     19.39    19.\n",
       "   5 │ 2020-12-19    16.48    15.98    15.47    15.31    15.3     15.52    15. ⋯\n",
       "   6 │ 2020-12-20    13.0     12.04    11.79    11.65    11.79    11.98    12.\n",
       "   7 │ 2020-12-21    11.9     11.2     11.5     11.73    12.81    14.37    16.\n",
       "   8 │ 2020-12-22     7.15     5.51     4.77     4.44     4.84     7.73    12.\n",
       "   9 │ 2020-12-23    13.38    13.1     12.9     12.93    13.14    14.72    15. ⋯\n",
       "  10 │ 2020-12-24    13.44    12.19    10.57     9.44     9.1     10.74    11.\n",
       "\u001b[36m                                                              22 columns omitted\u001b[0m"
      ]
     },
     "metadata": {},
     "output_type": "display_data"
    }
   ],
   "source": [
    "filepath_prices = dirname(pwd()) * \"\\\\Inflow Forecasting\\\\Data\\\\Spot Prices\\\\prices_df.csv\"\n",
    "filepath_inflows = dirname(pwd()) * \"\\\\Inflow Forecasting\\\\Data\\\\Inflow\\\\Data from Flasjoen and Holmsjoen.csv\"\n",
    "\n",
    "price_data = prepare_pricedata(filepath_prices)\n",
    "inflow_data = prepare_inflowdata(filepath_inflows)\n",
    "\n",
    "first(price_data, 10)"
   ]
  },
  {
   "cell_type": "markdown",
   "metadata": {},
   "source": [
    "### Price Forecasting\n",
    "\n",
    "Price is sensitive to various factors. Daytime, Weekday and time of year play a relevant role in how prices usually behave.\n",
    "\n",
    "* For the bidding and short-term optimization problems, part of the uncertainty lies in unknown hourly prices.\n",
    "\n",
    "* For the medium term problem, we are interested in daily (average) prices.\n",
    "\n",
    "* We want to obtain Price Points which will be important in the analysis from the historic data.\n",
    "\n",
    "* We need penalty parameters for using the balancing markets, which could be obtained from using maximum / minimum values fromm observed spot market prices / generated scenarios."
   ]
  },
  {
   "cell_type": "code",
   "execution_count": 28,
   "metadata": {},
   "outputs": [
    {
     "name": "stdout",
     "output_type": "stream",
     "text": [
      "[0.0, 31.612541666666665, 53.16795833333333, 76.75770833333334, 111.81674999999998, 180.42366666666663, 440.0]\n"
     ]
    },
    {
     "name": "stderr",
     "output_type": "stream",
     "text": [
      "WARNING: redefinition of constant stage_count_short. This may fail, cause incorrect answers, or produce other errors.\n"
     ]
    }
   ],
   "source": [
    "const scenario_count_prices_short = 2\n",
    "const scenario_count_prices_medium = 2\n",
    "const stage_count_short = 2\n",
    "const stage_count_medium = 52\n",
    "const price_point_count = 5\n",
    "const T = 24\n",
    "\n",
    "PriceScenariosMedium = Price_Scenarios_Medium(price_data, scenario_count_prices_medium)\n",
    "PriceScenariosShort = Price_Scenarios_Short(price_data, scenario_count_prices_short, stage_count_short)\n",
    "PPoints = Create_Price_Points(price_data, 5)\n",
    "mu_up, mu_down = BalanceParameters(PriceScenariosShort)\n",
    "\n",
    "println(PPoints)"
   ]
  },
  {
   "cell_type": "markdown",
   "metadata": {},
   "source": [
    "### Inflow Forecasting\n",
    "\n",
    "Inflow has extreme seasonal differences, depending on geographical location.  \n",
    "For the Ljungan River System we could observe that most inflow occurs during the spring melt around May."
   ]
  },
  {
   "cell_type": "code",
   "execution_count": 22,
   "metadata": {},
   "outputs": [
    {
     "name": "stderr",
     "output_type": "stream",
     "text": [
      "WARNING: redefinition of constant ColumnReservoir. This may fail, cause incorrect answers, or produce other errors.\n"
     ]
    },
    {
     "data": {
      "text/plain": [
       "8-element Vector{Pair{Int64, Dict{Reservoir, Vector{Float64}}}}:\n",
       " 5 => Dict(Flasjon => [8.98, 9.1], Holsmjon => [11.7, 48.7])\n",
       " 4 => Dict(Flasjon => [6.91, 10.84], Holsmjon => [11.7, 0.0])\n",
       " 6 => Dict(Flasjon => [8.29, 8.6], Holsmjon => [62.0, 6.7])\n",
       " 7 => Dict(Flasjon => [12.65, 7.85], Holsmjon => [5.8, 14.5])\n",
       " 2 => Dict(Flasjon => [6.67, 9.74], Holsmjon => [55.3, 51.6])\n",
       " 8 => Dict(Flasjon => [8.17, 7.48], Holsmjon => [10.5, 22.6])\n",
       " 3 => Dict(Flasjon => [2.2, 8.21], Holsmjon => [29.9, 0.0])\n",
       " 1 => Dict(Flasjon => [11.3, 7.01], Holsmjon => [16.8, 43.9])"
      ]
     },
     "metadata": {},
     "output_type": "display_data"
    }
   ],
   "source": [
    "const ColumnReservoir = Dict{Reservoir, String}(R[1] => \"Flasjon Inflow\", R[2] => \"Holmsjon Inflow\")\n",
    "const scenario_count_inflows_weekly = 2\n",
    "const scenario_count_inflows_short = 1\n",
    "\n",
    "\n",
    "InflowScenariosShort = Inflow_Scenarios_Short(inflow_data, 1, ColumnReservoir, R, stage_count_short, scenario_count_prices_short)\n",
    "InflowScenariosMedium = Inflow_Scenarios_Medium(inflow_data, ColumnReservoir, scenario_count_inflows_weekly, R)\n",
    "first(InflowScenariosShort, 10)"
   ]
  },
  {
   "cell_type": "markdown",
   "metadata": {},
   "source": [
    "### Reference Flow\n",
    "\n",
    "To calculate a reference flow for each reservoir, the Water Regulation Company has to combine information from inflow, historical reservoir trajectories and current reservoir level.  "
   ]
  },
  {
   "cell_type": "code",
   "execution_count": 23,
   "metadata": {},
   "outputs": [
    {
     "data": {
      "text/plain": [
       "Dict{Reservoir, Float64} with 2 entries:\n",
       "  Flasjon  => 0.0\n",
       "  Holsmjon => 0.0"
      ]
     },
     "metadata": {},
     "output_type": "display_data"
    }
   ],
   "source": [
    "l_traj, f = AverageReservoirLevel(R, inflow_data)\n",
    "Qref = CalculateReferenceFlow(R, l_traj, f, 2)"
   ]
  },
  {
   "cell_type": "markdown",
   "metadata": {},
   "source": [
    "## Participants\n",
    "\n",
    "Every Participant individually plans their bidding and production. Irrespective of the strategy, only limited information is available. Internal to the participants problems are \n",
    "\n",
    "* Price Forecasts\n",
    "* Nomination to Water Regulation Company\n",
    "* Bidding at Electricity Market\n",
    "\n",
    "### Medium Term Problem\n",
    "\n",
    "The Medium Term / Seasonal Optimization Problem is necessary to obtain Cuts for the Water Value Function.\n",
    "\n",
    "Therefor the point of a functioin containing this decision model is to return cut coefficients of the Water Value Function.\n",
    "\n",
    "* What are the inputs to the Medium Term problem?\n",
    "* How are the cuts calculated?\n",
    "* How many cuts should be calculated?"
   ]
  },
  {
   "cell_type": "code",
   "execution_count": 24,
   "metadata": {},
   "outputs": [
    {
     "name": "stdout",
     "output_type": "stream",
     "text": [
      "WARNING: numerical stability issues detected\n",
      "  - bounds range contains large coefficients\n",
      "Very large or small absolute values of coefficients\n",
      "can cause numerical stability issues. Consider\n",
      "reformulating the model.\n"
     ]
    },
    {
     "name": "stdout",
     "output_type": "stream",
     "text": [
      "WARNING: numerical stability issues detected\n",
      "  - bounds range contains large coefficients\n",
      "Very large or small absolute values of coefficients\n",
      "can cause numerical stability issues. Consider\n",
      "reformulating the model.\n"
     ]
    },
    {
     "name": "stdout",
     "output_type": "stream",
     "text": [
      "WARNING: numerical stability issues detected\n",
      "  - bounds range contains large coefficients\n",
      "Very large or small absolute values of coefficients\n",
      "can cause numerical stability issues. Consider\n",
      "reformulating the model.\n"
     ]
    },
    {
     "name": "stdout",
     "output_type": "stream",
     "text": [
      "WARNING: numerical stability issues detected\n",
      "  - bounds range contains large coefficients\n",
      "Very large or small absolute values of coefficients\n",
      "can cause numerical stability issues. Consider\n",
      "reformulating the model.\n"
     ]
    },
    {
     "name": "stdout",
     "output_type": "stream",
     "text": [
      "Dict{Participant, SDDP.PolicyGraph}(Sydkraft => A policy graph with 52 nodes.\n",
      " Node indices: 1, ..., 52\n",
      ", Statkraft => A policy graph with 52 nodes.\n",
      " Node indices: 1, ..., 52\n",
      ", Fortum => A policy graph with 52 nodes.\n",
      " Node indices: 1, ..., 52\n",
      ")\n",
      "Dict{Participant, SDDP.PolicyGraph}(Sydkraft => A policy graph with 52 nodes.\n",
      " Node indices: 1, ..., 52\n",
      ", Statkraft => A policy graph with 52 nodes.\n",
      " Node indices: 1, ..., 52\n",
      ", Fortum => A policy graph with 52 nodes.\n",
      " Node indices: 1, ..., 52\n",
      ")\n"
     ]
    }
   ],
   "source": [
    "const iterations_medium = 50\n",
    "\n",
    "const savepath_watervalue = \"C:\\\\Users\\\\lenna\\\\OneDrive - NTNU\\\\Code Master Thesis\\\\Inflow Forecasting\\\\WaterValue\"\n",
    "\n",
    "Ω_medium, P_medium =  create_Ω_medium(PriceScenariosMedium, InflowScenariosMedium, R);\n",
    "WaterValueDictionary_j, WaterValueDictionary_O = MediumModelsAllParticipants(J, R, Ω_medium, P_medium, stage_count_medium, iterations_medium)\n",
    "println(WaterValueDictionary_j)\n",
    "println(WaterValueDictionary_O)\n",
    "SaveMediumModel(savepath_watervalue * \"\\\\Participant.jls\", WaterValueDictionary_j)\n",
    "SaveMediumModel(savepath_watervalue * \"\\\\OtherParticipant.jls\", WaterValueDictionary_O)"
   ]
  },
  {
   "cell_type": "code",
   "execution_count": 25,
   "metadata": {},
   "outputs": [
    {
     "data": {
      "text/plain": [
       "Dict{Participant, Dict{Dict{Reservoir, Float64}, NamedTuple{(:e1, :e2), Tuple{Float64, Dict{Symbol, Float64}}}}} with 3 entries:\n",
       "  Sydkraft  => Dict(________________________________…\n",
       "  Statkraft => Dict(________________________________…\n",
       "  Fortum    => Dict(________________________________…"
      ]
     },
     "metadata": {},
     "output_type": "display_data"
    }
   ],
   "source": [
    "NameToParticipant = Dict{String, Participant}(j.name => j for j in J)\n",
    "MediumModelDictionary_j_loaded = ReadMediumModel(savepath_watervalue * \"\\\\Participant.jls\", NameToParticipant);\n",
    "MediumModelDictionary_O_loaded = ReadMediumModel(savepath_watervalue * \"\\\\OtherParticipant.jls\", NameToParticipant);\n",
    "\n",
    "\n",
    "cuts_j = Dict(j => ReservoirLevelCuts(R, j.plants, j, f, 2, stage_count_short) for j in J)\n",
    "Others = Dict(j => OtherParticipant(J,j,R)[1] for j in J)\n",
    "cutsOther = Dict(j => ReservoirLevelCuts(R, Others[j].plants, Others[j], f, 2, stage_count_short) for j in J)\n",
    "WaterCuts = Dict(j => WaterValueCuts(MediumModelDictionary_j_loaded[j], cuts_j[j], 2) for j in J)\n",
    "WaterCutsOther = Dict(j => WaterValueCuts(MediumModelDictionary_O_loaded[j], cutsOther[j], 2) for j in J)"
   ]
  },
  {
   "cell_type": "markdown",
   "metadata": {},
   "source": [
    "### Create Uncertainty Set - Bidding\n",
    "\n",
    "Depending on the Problem, we create the uncertainty sets from both price and inflow Scenarios.\n",
    "This becomes more difficult for the Anticipatory Bidding Problem."
   ]
  },
  {
   "cell_type": "code",
   "execution_count": 71,
   "metadata": {},
   "outputs": [
    {
     "name": "stdout",
     "output_type": "stream",
     "text": [
      "Dict{Int64, Vector{NamedTuple{(:inflow, :price, :nomination), Tuple{Dict{Reservoir, Float64}, Vector{Float64}, Dict{Reservoir, Float64}}}}}(2 => [(inflow = ________________________________\n",
      "Flasjon  | 6.67    \n",
      "Holsmjon | 55.3    \n",
      ", price = [46.03, 44.94, 44.77, 44.9, 45.44, 45.68, 46.99, 52.48, 59.09, 59.27, 59.17, 58.55, 55.85, 48.99, 48.26, 48.55, 47.94, 48.67, 49.04, 49.84, 50.15, 49.38, 48.15, 48.26, 17.0], nomination = ________________________________\n",
      "Flasjon  | 0.0     \n",
      "Holsmjon | 120.51174646246136\n",
      "), (inflow = ________________________________\n",
      "Flasjon  | 9.74    \n",
      "Holsmjon | 51.6    \n",
      ", price = [46.03, 44.94, 44.77, 44.9, 45.44, 45.68, 46.99, 52.48, 59.09, 59.27, 59.17, 58.55, 55.85, 48.99, 48.26, 48.55, 47.94, 48.67, 49.04, 49.84, 50.15, 49.38, 48.15, 48.26, 17.0], nomination = ________________________________\n",
      "Flasjon  | 0.0     \n",
      "Holsmjon | 120.51174646246136\n",
      "), (inflow = ________________________________\n",
      "Flasjon  | 6.67    \n",
      "Holsmjon | 55.3    \n",
      ", price = [104.37, 107.0, 104.3, 102.53, 101.06, 104.5, 108.7, 111.96, 96.87, 84.94, 79.75, 76.93, 65.79, 47.49, 94.6, 97.75, 103.24, 109.92, 112.59, 113.59, 116.66, 118.16, 122.19, 124.45, 10.0], nomination = ________________________________\n",
      "Flasjon  | 0.0     \n",
      "Holsmjon | 85.20316249101074\n",
      "), (inflow = ________________________________\n",
      "Flasjon  | 9.74    \n",
      "Holsmjon | 51.6    \n",
      ", price = [104.37, 107.0, 104.3, 102.53, 101.06, 104.5, 108.7, 111.96, 96.87, 84.94, 79.75, 76.93, 65.79, 47.49, 94.6, 97.75, 103.24, 109.92, 112.59, 113.59, 116.66, 118.16, 122.19, 124.45, 10.0], nomination = ________________________________\n",
      "Flasjon  | 0.0     \n",
      "Holsmjon | 85.20316249101074\n",
      ")], 1 => [(inflow = ________________________________\n",
      "Flasjon  | 11.3    \n",
      "Holsmjon | 16.8    \n",
      ", price = [39.97, 41.4, 38.26, 38.05, 39.67, 39.93, 40.03, 55.06, 48.45, 33.52, 35.22, 33.4, 32.29, 22.47, 38.37, 27.95, 17.97, 16.91, 16.47, 20.98, 50.09, 68.98, 93.95, 89.0, 46.0], nomination = ________________________________\n",
      "Flasjon  | 0.0     \n",
      "Holsmjon | 120.51174646246136\n",
      "), (inflow = ________________________________\n",
      "Flasjon  | 7.01    \n",
      "Holsmjon | 43.9    \n",
      ", price = [39.97, 41.4, 38.26, 38.05, 39.67, 39.93, 40.03, 55.06, 48.45, 33.52, 35.22, 33.4, 32.29, 22.47, 38.37, 27.95, 17.97, 16.91, 16.47, 20.98, 50.09, 68.98, 93.95, 89.0, 46.0], nomination = ________________________________\n",
      "Flasjon  | 0.0     \n",
      "Holsmjon | 120.51174646246136\n",
      "), (inflow = ________________________________\n",
      "Flasjon  | 11.3    \n",
      "Holsmjon | 16.8    \n",
      ", price = [118.31, 114.42, 108.47, 99.55, 96.94, 90.95, 85.01, 81.58, 78.45, 78.42, 79.98, 85.57, 92.38, 103.07, 114.49, 118.25, 116.2, 114.19, 112.11, 109.98, 109.62, 110.01, 112.59, 115.47, 47.0], nomination = ________________________________\n",
      "Flasjon  | 0.0     \n",
      "Holsmjon | 85.20316249101074\n",
      "), (inflow = ________________________________\n",
      "Flasjon  | 7.01    \n",
      "Holsmjon | 43.9    \n",
      ", price = [118.31, 114.42, 108.47, 99.55, 96.94, 90.95, 85.01, 81.58, 78.45, 78.42, 79.98, 85.57, 92.38, 103.07, 114.49, 118.25, 116.2, 114.19, 112.11, 109.98, 109.62, 110.01, 112.59, 115.47, 47.0], nomination = ________________________________\n",
      "Flasjon  | 0.0     \n",
      "Holsmjon | 85.20316249101074\n",
      ")])\n"
     ]
    },
    {
     "data": {
      "text/plain": [
       "(Dict{Int64, Vector{NamedTuple{(:inflow, :price, :nomination), Tuple{Dict{Reservoir, Float64}, Vector{Float64}, Dict{Reservoir, Float64}}}}}(2 => [(inflow = ________________________________\n",
       "Flasjon  | 6.67    \n",
       "Holsmjon | 55.3    \n",
       ", price = [46.03, 44.94, 44.77, 44.9, 45.44, 45.68, 46.99, 52.48, 59.09, 59.27  …  48.55, 47.94, 48.67, 49.04, 49.84, 50.15, 49.38, 48.15, 48.26, 17.0], nomination = ________________________________\n",
       "Flasjon  | 0.0     \n",
       "Holsmjon | 120.51174646246136\n",
       "), (inflow = ________________________________\n",
       "Flasjon  | 9.74    \n",
       "Holsmjon | 51.6    \n",
       ", price = [46.03, 44.94, 44.77, 44.9, 45.44, 45.68, 46.99, 52.48, 59.09, 59.27  …  48.55, 47.94, 48.67, 49.04, 49.84, 50.15, 49.38, 48.15, 48.26, 17.0], nomination = ________________________________\n",
       "Flasjon  | 0.0     \n",
       "Holsmjon | 120.51174646246136\n",
       "), (inflow = ________________________________\n",
       "Flasjon  | 6.67    \n",
       "Holsmjon | 55.3    \n",
       ", price = [104.37, 107.0, 104.3, 102.53, 101.06, 104.5, 108.7, 111.96, 96.87, 84.94  …  97.75, 103.24, 109.92, 112.59, 113.59, 116.66, 118.16, 122.19, 124.45, 10.0], nomination = ________________________________\n",
       "Flasjon  | 0.0     \n",
       "Holsmjon | 85.20316249101074\n",
       "), (inflow = ________________________________\n",
       "Flasjon  | 9.74    \n",
       "Holsmjon | 51.6    \n",
       ", price = [104.37, 107.0, 104.3, 102.53, 101.06, 104.5, 108.7, 111.96, 96.87, 84.94  …  97.75, 103.24, 109.92, 112.59, 113.59, 116.66, 118.16, 122.19, 124.45, 10.0], nomination = ________________________________\n",
       "Flasjon  | 0.0     \n",
       "Holsmjon | 85.20316249101074\n",
       ")], 1 => [(inflow = ________________________________\n",
       "Flasjon  | 11.3    \n",
       "Holsmjon | 16.8    \n",
       ", price = [39.97, 41.4, 38.26, 38.05, 39.67, 39.93, 40.03, 55.06, 48.45, 33.52  …  27.95, 17.97, 16.91, 16.47, 20.98, 50.09, 68.98, 93.95, 89.0, 46.0], nomination = ________________________________\n",
       "Flasjon  | 0.0     \n",
       "Holsmjon | 120.51174646246136\n",
       "), (inflow = ________________________________\n",
       "Flasjon  | 7.01    \n",
       "Holsmjon | 43.9    \n",
       ", price = [39.97, 41.4, 38.26, 38.05, 39.67, 39.93, 40.03, 55.06, 48.45, 33.52  …  27.95, 17.97, 16.91, 16.47, 20.98, 50.09, 68.98, 93.95, 89.0, 46.0], nomination = ________________________________\n",
       "Flasjon  | 0.0     \n",
       "Holsmjon | 120.51174646246136\n",
       "), (inflow = ________________________________\n",
       "Flasjon  | 11.3    \n",
       "Holsmjon | 16.8    \n",
       ", price = [118.31, 114.42, 108.47, 99.55, 96.94, 90.95, 85.01, 81.58, 78.45, 78.42  …  118.25, 116.2, 114.19, 112.11, 109.98, 109.62, 110.01, 112.59, 115.47, 47.0], nomination = ________________________________\n",
       "Flasjon  | 0.0     \n",
       "Holsmjon | 85.20316249101074\n",
       "), (inflow = ________________________________\n",
       "Flasjon  | 7.01    \n",
       "Holsmjon | 43.9    \n",
       ", price = [118.31, 114.42, 108.47, 99.55, 96.94, 90.95, 85.01, 81.58, 78.45, 78.42  …  118.25, 116.2, 114.19, 112.11, 109.98, 109.62, 110.01, 112.59, 115.47, 47.0], nomination = ________________________________\n",
       "Flasjon  | 0.0     \n",
       "Holsmjon | 85.20316249101074\n",
       ")]), Dict(2 => [0.25, 0.25, 0.25, 0.25], 1 => [0.25, 0.25, 0.25, 0.25]))"
      ]
     },
     "metadata": {},
     "output_type": "display_data"
    }
   ],
   "source": [
    "const iteration_count_short = 10\n",
    "\n",
    "Ω_NA, P_NA, Ω_scenario, P_scenario = create_Ω_Nonanticipatory(PriceScenariosShort, InflowScenariosShort, R, stage_count_short, scenario_count_inflows_short, scenario_count_prices_short)\n",
    "Ω_A, P_A = create_Ω_Anticipatory(Ω_NA, Ω_scenario, P_scenario, j, R, PPoints, Qref, cutsOther, WaterCutsOther, stage_count_short, mu_up, mu_down, T)"
   ]
  },
  {
   "cell_type": "markdown",
   "metadata": {},
   "source": [
    "### Bidding Problem\n",
    "\n",
    "* Every Power Producer solves their own Bidding problem with individual Water Value Cuts to obtain their bidding curves and nomination.\n",
    "* The solutions are taken as input for the calculation of the adjusted Flow and Power Swap\n",
    "* The Market clears, and the obligations for the next production day are revealed."
   ]
  },
  {
   "cell_type": "code",
   "execution_count": 10,
   "metadata": {},
   "outputs": [
    {
     "name": "stdout",
     "output_type": "stream",
     "text": [
      "Sydkraft\n",
      "-------------------------------------------------------------------\n",
      "         SDDP.jl (c) Oscar Dowson and contributors, 2017-23\n",
      "-------------------------------------------------------------------"
     ]
    },
    {
     "name": "stdout",
     "output_type": "stream",
     "text": [
      "\n",
      "problem\n",
      "  nodes           : 8\n",
      "  state variables : 176\n",
      "  scenarios       : 1.00000e+14\n",
      "  existing cuts   : false\n",
      "options\n",
      "  solver          : serial mode\n",
      "  risk measure    : "
     ]
    },
    {
     "name": "stdout",
     "output_type": "stream",
     "text": [
      "SDDP.Expectation()\n",
      "  sampling scheme : SDDP.InSampleMonteCarlo\n",
      "subproblem structure\n",
      "  VariableRef                                                                   : [356, 813]\n",
      "  AffExpr in MOI.EqualTo{Float64}                                               : [7, 61]\n",
      "  AffExpr in MOI.GreaterThan{Float64}                                           : [115, 115]\n",
      "  AffExpr in MOI.LessThan{Float64}                                              : [148, 388]\n",
      "  VariableRef in MOI.GreaterThan{Float64}                                       : [171, 389]\n",
      "  VariableRef in MOI.LessThan{Float64}                                          : [170, 290]\n",
      "  VariableRef in MOI.ZeroOne                                                    : [6, 246]\n",
      "  Vector{AffExpr} in MOI.Indicator{MOI.ACTIVATE_ON_ONE, MOI.LessThan{Float64}}  : [6, 6]\n",
      "  Vector{AffExpr} in MOI.Indicator{MOI.ACTIVATE_ON_ZERO, MOI.LessThan{Float64}} : [1, 1]\n"
     ]
    },
    {
     "name": "stdout",
     "output_type": "stream",
     "text": [
      "numerical stability report\n",
      "  matrix range     [3e-04, 2e+02]\n",
      "  objective range  [1e-02, 5e+02]\n",
      "  bounds range     [7e+00, 9e+06]\n",
      "  rhs range        [1e+05, 4e+05]\n",
      "-------------------------------------------------------------------\n",
      " iteration    simulation      bound        time (s)     solves  pid\n",
      "-------------------------------------------------------------------"
     ]
    },
    {
     "name": "stdout",
     "output_type": "stream",
     "text": [
      "\n",
      "         1   1.100929e+06  8.439127e+06  7.969999e-01       709   1"
     ]
    },
    {
     "name": "stdout",
     "output_type": "stream",
     "text": [
      "\n",
      "         3   9.684328e+05  1.234183e+06  2.556000e+00      2127   1\n"
     ]
    },
    {
     "name": "stdout",
     "output_type": "stream",
     "text": [
      "         5   1.240314e+06  1.195654e+06  4.249000e+00      3545   1"
     ]
    },
    {
     "name": "stdout",
     "output_type": "stream",
     "text": [
      "\n",
      "         7   9.309973e+05  1.192999e+06  5.908000e+00      4963   1\n"
     ]
    },
    {
     "name": "stdout",
     "output_type": "stream",
     "text": [
      "         9   1.141054e+06  1.189717e+06  7.750000e+00      6381   1\n"
     ]
    },
    {
     "name": "stdout",
     "output_type": "stream",
     "text": [
      "        10   1.348280e+06  1.188474e+06  8.611000e+00      7090   1\n",
      "-------------------------------------------------------------------\n",
      "status         : iteration_limit\n",
      "total time (s) : 8.611000e+00\n",
      "total solves   : 7090\n",
      "best bound     :  1.188474e+06\n",
      "simulation ci  :  8.102556e+05 ± 5.978512e+05\n",
      "numeric issues : 0\n",
      "-------------------------------------------------------------------\n",
      "\n"
     ]
    },
    {
     "name": "stdout",
     "output_type": "stream",
     "text": [
      "Fortum\n",
      "-------------------------------------------------------------------\n",
      "         SDDP.jl (c) Oscar Dowson and contributors, 2017-23\n",
      "-------------------------------------------------------------------\n",
      "problem\n",
      "  nodes           : 8\n",
      "  state variables : 177\n",
      "  scenarios       : 1.00000e+14\n",
      "  existing cuts   : false\n",
      "options\n",
      "  solver          : serial mode\n",
      "  risk measure    : SDDP.Expectation()\n",
      "  sampling scheme : SDDP.InSampleMonteCarlo\n",
      "subproblem structure\n",
      "  VariableRef                                                                   : [360, 698]\n",
      "  AffExpr in MOI.EqualTo{Float64}                                               : [7, 60]\n",
      "  AffExpr in MOI.GreaterThan{Float64}                                           : [69, 69]\n",
      "  AffExpr in MOI.LessThan{Float64}                                              : [160, 304]\n",
      "  VariableRef in MOI.GreaterThan{Float64}                                       : [174, 369]\n",
      "  VariableRef in MOI.LessThan{Float64}                                          : [171, 243]\n",
      "  VariableRef in MOI.ZeroOne                                                    : [5, 149]\n",
      "  Vector{AffExpr} in MOI.Indicator{MOI.ACTIVATE_ON_ONE, MOI.LessThan{Float64}}  : [5, 5]\n",
      "  Vector{AffExpr} in MOI.Indicator{MOI.ACTIVATE_ON_ZERO, MOI.LessThan{Float64}} : [2, 2]\n"
     ]
    },
    {
     "name": "stdout",
     "output_type": "stream",
     "text": [
      "numerical stability report\n",
      "  matrix range     [3e-04, 7e+01]\n",
      "  objective range  [1e-02, 5e+02]\n",
      "  bounds range     [1e+01, 6e+06]\n",
      "  rhs range        [2e+04, 2e+05]\n",
      "-------------------------------------------------------------------\n",
      " iteration    simulation      bound        time (s)     solves  pid\n",
      "-------------------------------------------------------------------\n"
     ]
    },
    {
     "name": "stdout",
     "output_type": "stream",
     "text": [
      "         1   6.272579e+05  5.611594e+06  7.490001e-01       709   1\n"
     ]
    },
    {
     "name": "stdout",
     "output_type": "stream",
     "text": [
      "         3   4.482728e+05  9.363145e+05  2.278000e+00      2127   1"
     ]
    },
    {
     "name": "stdout",
     "output_type": "stream",
     "text": [
      "\n",
      "         5   5.385839e+05  8.504302e+05  3.905000e+00      3545   1\n"
     ]
    },
    {
     "name": "stdout",
     "output_type": "stream",
     "text": [
      "         7   1.016292e+06  8.342080e+05  5.784000e+00      4963   1"
     ]
    },
    {
     "name": "stdout",
     "output_type": "stream",
     "text": [
      "\n",
      "         8   9.988133e+05  8.205197e+05  6.785000e+00      5672   1"
     ]
    },
    {
     "name": "stdout",
     "output_type": "stream",
     "text": [
      "\n",
      "        10   6.992865e+05  8.077973e+05  8.634000e+00      7090   1\n",
      "-------------------------------------------------------------------\n",
      "status         : iteration_limit\n",
      "total time (s) : 8.634000e+00\n",
      "total solves   : 7090\n",
      "best bound     :  8.077973e+05\n",
      "simulation ci  :  5.339135e+05 ± 2.730964e+05\n",
      "numeric issues : 0\n",
      "-------------------------------------------------------------------\n",
      "\n",
      "Statkraft\n",
      "-------------------------------------------------------------------\n",
      "         SDDP.jl (c) Oscar Dowson and contributors, 2017-23\n",
      "-------------------------------------------------------------------\n",
      "problem\n",
      "  nodes           : 8\n",
      "  state variables : 179\n",
      "  scenarios       : 1.00000e+14\n",
      "  existing cuts   : false\n",
      "options\n",
      "  solver          : serial mode\n",
      "  risk measure    : SDDP.Expectation()\n",
      "  sampling scheme : SDDP.InSampleMonteCarlo\n",
      "subproblem structure\n",
      "  VariableRef                                                                   : [364, 846]\n",
      "  AffExpr in MOI.EqualTo{Float64}                                               : [9, 64]\n",
      "  AffExpr in MOI.GreaterThan{Float64}                                           : [115, 115]\n",
      "  AffExpr in MOI.LessThan{Float64}                                              : [160, 400]\n",
      "  VariableRef in MOI.GreaterThan{Float64}                                       : [174, 417]\n",
      "  VariableRef in MOI.LessThan{Float64}                                          : [171, 291]\n",
      "  VariableRef in MOI.ZeroOne                                                    : [7, 247]\n",
      "  Vector{AffExpr} in MOI.Indicator{MOI.ACTIVATE_ON_ONE, MOI.LessThan{Float64}}  : [7, 7]\n",
      "  Vector{AffExpr} in MOI.Indicator{MOI.ACTIVATE_ON_ZERO, MOI.LessThan{Float64}} : [2, 2]\n"
     ]
    },
    {
     "name": "stdout",
     "output_type": "stream",
     "text": [
      "numerical stability report\n",
      "  matrix range     [3e-04, 2e+02]\n",
      "  objective range  [1e-02, 5e+02]\n",
      "  bounds range     [1e+01, 1e+07]\n",
      "  rhs range        [5e+04, 7e+05]\n",
      "WARNING: numerical stability issues detected\n",
      "  - bounds range contains large coefficients\n",
      "Very large or small absolute values of coefficients\n",
      "can cause numerical stability issues. Consider\n",
      "reformulating the model.\n",
      "-------------------------------------------------------------------\n",
      " iteration    simulation      bound        time (s)     solves  pid\n",
      "-------------------------------------------------------------------\n"
     ]
    },
    {
     "name": "stdout",
     "output_type": "stream",
     "text": [
      "         1   2.795746e+06  1.263147e+07  8.369999e-01       709   1"
     ]
    },
    {
     "name": "stdout",
     "output_type": "stream",
     "text": [
      "\n",
      "         2  -9.305867e+05  2.723710e+06  2.463000e+00      1418   1\n"
     ]
    },
    {
     "name": "stdout",
     "output_type": "stream",
     "text": [
      "         3   1.966868e+06  2.644648e+06  3.533000e+00      2127   1\n"
     ]
    },
    {
     "name": "stdout",
     "output_type": "stream",
     "text": [
      "         5   1.405502e+06  2.524886e+06  5.570000e+00      3545   1"
     ]
    },
    {
     "name": "stdout",
     "output_type": "stream",
     "text": [
      "\n",
      "         6   2.964047e+06  2.516860e+06  6.571000e+00      4254   1\n"
     ]
    },
    {
     "name": "stdout",
     "output_type": "stream",
     "text": [
      "         8   2.187529e+06  2.465007e+06  8.420000e+00      5672   1\n"
     ]
    },
    {
     "name": "stdout",
     "output_type": "stream",
     "text": [
      "        10   1.602237e+06  2.415800e+06  1.028700e+01      7090   1\n",
      "-------------------------------------------------------------------\n",
      "status         : iteration_limit\n",
      "total time (s) : 1.028700e+01\n",
      "total solves   : 7090\n",
      "best bound     :  2.415800e+06\n",
      "simulation ci  :  1.801709e+06 ± 6.656306e+05\n",
      "numeric issues : 0\n",
      "-------------------------------------------------------------------\n",
      "\n"
     ]
    }
   ],
   "source": [
    "HourlyBiddingCurves = Dict{Participant, Dict{Int64, Vector{Float64}}}()\n",
    "Qnoms = Dict{NamedTuple{(:participant, :reservoir), Tuple{Participant, Reservoir}}, Float64}()\n",
    "Strategy = Dict{Participant, String}(j => \"Nonanticipatory\" for j in J)\n",
    "\n",
    "for j in J\n",
    "    println(j)\n",
    "    if Strategy[j] == \"Nonanticipatory\"\n",
    "        Qnom, HourlyBiddingCurve = Nonanticipatory_Bidding(R, j, PPoints, Ω_NA, P_NA, Qref, cuts_j[j], WaterCuts[j], iteration_count_short, mu_up, mu_down, T, stage_count_short)\n",
    "        HourlyBiddingCurves[j] = HourlyBiddingCurve\n",
    "    else\n",
    "        Qnom, HourlyBiddingCurve = Anticipatory_Bidding(R, j, PPoints, Ω_A, P_A, Qref, cuts_j[j], WaterCuts[j], iteration_count_short, mu_up, mu_down, T, stage_count_short)\n",
    "        HourlyBiddingCurves[j] = HourlyBiddingCurve\n",
    "    end\n",
    "    for r in R\n",
    "        if j.participationrate[r] > 0\n",
    "            Qnoms[(participant = j, reservoir = r)] = Qnom[r]\n",
    "        else\n",
    "            Qnoms[(participant = j, reservoir = r)] = Qref[r]\n",
    "        end\n",
    "    end\n",
    "end\n"
   ]
  },
  {
   "cell_type": "markdown",
   "metadata": {},
   "source": [
    "### Water Regulation\n",
    "\n",
    "Without Updating the Reservoir Levels, the adjusted flow and Power Swaps are calculated."
   ]
  },
  {
   "cell_type": "code",
   "execution_count": 11,
   "metadata": {},
   "outputs": [
    {
     "name": "stdout",
     "output_type": "stream",
     "text": [
      "________________________________\n",
      "Flasjon  | 24.632425358340505\n",
      "Holsmjon | 137.0162441070718\n",
      "\n"
     ]
    },
    {
     "name": "stdout",
     "output_type": "stream",
     "text": [
      "Dict{Participant, Dict{Reservoir, Float64}}(Sydkraft => ________________________________\n",
      "Flasjon  | 66.01489996035255\n",
      "Holsmjon | -0.0    \n",
      ", Statkraft => ________________________________\n",
      "Flasjon  | -45.816311166513344\n",
      "Holsmjon | -15.244182467060366\n",
      ", Fortum => ________________________________\n",
      "Flasjon  | -20.198588793839217\n",
      "Holsmjon | 15.244182467060334\n",
      ")\n"
     ]
    }
   ],
   "source": [
    "Qadj, _, P_Swap, _, _, _ = water_regulation(Qnoms, Qref, T, false)\n",
    "println(Qadj)\n",
    "println(P_Swap)"
   ]
  },
  {
   "cell_type": "markdown",
   "metadata": {},
   "source": [
    "### Market Clearing\n",
    "\n",
    "A market clearing price is generated. (From the historical prices)\n",
    "For each hourly bid, the obligation is determined.\n",
    "\n",
    "* Sample a Price for that day (Save Price)\n",
    "* Perform Linear Interpolation between Price Points in which the hourly price lands, and determine the obligation from that\n",
    "* Give Hourly Obligations to each user (Dictionary of Participants and hourly obligations)"
   ]
  },
  {
   "cell_type": "code",
   "execution_count": 12,
   "metadata": {},
   "outputs": [
    {
     "name": "stdout",
     "output_type": "stream",
     "text": [
      "[44.92, 116.71, 160.88, 167.53, 168.79, 161.1, 156.24, 115.44, 100.03, 81.25, 69.96, 75.48, 106.71, 157.99, 169.94, 199.98, 213.52, 187.78, 165.16, 157.39, 150.06, 150.12, 159.48, 178.95, 29.0]\n",
      "[0.0, 184.12999999999997, 184.13, 184.13, 184.13, 184.13, 184.13, 184.13, 184.13, 184.13, 184.13, 184.13, 184.13, 184.13, 184.13, 184.13, 184.13, 184.13, 184.13, 184.13, 184.13, 184.13, 184.13, 184.13]\n",
      "[0.0, 117.05000000000001, 117.05000000000001, 117.05000000000001, 117.05000000000001, 117.05000000000001, 117.05000000000001, 117.05000000000001, 117.05000000000001, 117.05000000000001, 117.05000000000001, 117.05000000000001, 117.05000000000003, 117.05000000000001, 117.05000000000001, 117.05000000000001, 117.05000000000001, 117.05000000000001, 117.05000000000001, 117.05000000000003, 117.05000000000001, 117.05000000000001, 117.05000000000001, 117.05000000000003]\n",
      "[0.0, 383.0, 383.0, 383.0, 383.0, 383.00000000000006, 383.0, 382.99999999999994, 383.0, 383.0, 383.0, 383.0, 383.0, 383.0, 383.0, 383.0, 383.0, 383.0, 383.0, 383.0, 383.0, 383.0, 383.0, 383.0]\n"
     ]
    }
   ],
   "source": [
    "price = Price_Scenarios_Short(price_data, 1, stage_count_short)[1][1]\n",
    "Obligations = MarketClearing(price, HourlyBiddingCurves, PPoints, J, T)\n",
    "println(price)\n",
    "for j in J\n",
    "    println(Obligations[j])\n",
    "end"
   ]
  },
  {
   "cell_type": "markdown",
   "metadata": {},
   "source": [
    "### Short Term Optimization\n",
    "\n",
    "Feed Power Swap and Nomination into Short Term Optimization Model"
   ]
  },
  {
   "cell_type": "code",
   "execution_count": 13,
   "metadata": {},
   "outputs": [
    {
     "name": "stdout",
     "output_type": "stream",
     "text": [
      "Sydkraft\n"
     ]
    },
    {
     "ename": "UndefVarError",
     "evalue": "UndefVarError: `cuts` not defined",
     "output_type": "error",
     "traceback": [
      "UndefVarError: `cuts` not defined\n",
      "\n",
      "Stacktrace:\n",
      " [1] top-level scope\n",
      "   @ c:\\Users\\lenna\\OneDrive - NTNU\\Code Master Thesis\\DevelopmentNotebooks\\SimulationSkeleton.ipynb:23"
     ]
    }
   ],
   "source": [
    "QnomO = OthersNomination(Qnoms, Qadj, J, R)\n",
    "\n",
    "Qnoms_2 = Dict{NamedTuple{(:participant, :reservoir), Tuple{Participant, Reservoir}}, Float64}()\n",
    "for j in J\n",
    "    println(j)\n",
    "    Qnom =ShortTermScheduling(R, j, J, Qref, Obligations[j], price, QnomO[j], Ω_NA, P_NA, cuts[j], WaterCuts[j], iterations, mu_up,mu_down, T, stage_count_short) \n",
    "    for r in R\n",
    "        if j.participationrate[r] > 0\n",
    "            Qnoms_2[(participant = j, reservoir = r)] = Qnom[r]\n",
    "        else\n",
    "            Qnoms_2[(participant = j, reservoir = r)] = Qref[r]\n",
    "        end\n",
    "    end\n",
    "end"
   ]
  },
  {
   "cell_type": "markdown",
   "metadata": {},
   "source": [
    "### Second Round of Water Regulation\n",
    "\n",
    "This time, the reservoirs are updated accordingly"
   ]
  },
  {
   "cell_type": "code",
   "execution_count": 14,
   "metadata": {},
   "outputs": [
    {
     "ename": "KeyError",
     "evalue": "KeyError: key (participant = Sydkraft, reservoir = Holsmjon) not found",
     "output_type": "error",
     "traceback": [
      "KeyError: key (participant = Sydkraft, reservoir = Holsmjon) not found\n",
      "\n",
      "Stacktrace:\n",
      " [1] getindex(h::Dict{NamedTuple{(:participant, :reservoir), Tuple{Participant, Reservoir}}, Float64}, key::NamedTuple{(:participant, :reservoir), Tuple{Participant, Reservoir}})\n",
      "   @ Base .\\dict.jl:484\n",
      " [2] top-level scope\n",
      "   @ c:\\Users\\lenna\\OneDrive - NTNU\\Code Master Thesis\\DevelopmentNotebooks\\SimulationSkeleton.ipynb:1"
     ]
    }
   ],
   "source": [
    "println(Qnoms_2[(participant = J[1], reservoir = R[2])])\n",
    "println([r.currentvolume for r in R])\n",
    "Qadj_2, _, P_Swap_2, _, _, _ = water_regulation(Qnoms_2, Qref, T, true)\n",
    "println(Qadj_2)\n",
    "println(P_Swap_2)\n",
    "println([r.currentvolume for r in R])"
   ]
  },
  {
   "cell_type": "markdown",
   "metadata": {},
   "source": [
    "### Real Time Balancing and Scheduling"
   ]
  },
  {
   "cell_type": "code",
   "execution_count": 15,
   "metadata": {},
   "outputs": [
    {
     "ename": "UndefVarError",
     "evalue": "UndefVarError: `Qadj_2` not defined",
     "output_type": "error",
     "traceback": [
      "UndefVarError: `Qadj_2` not defined\n",
      "\n",
      "Stacktrace:\n",
      " [1] top-level scope\n",
      "   @ c:\\Users\\lenna\\OneDrive - NTNU\\Code Master Thesis\\DevelopmentNotebooks\\SimulationSkeleton.ipynb:4"
     ]
    }
   ],
   "source": [
    "z_ups = Dict{Participant, Vector{Float64}}()\n",
    "z_downs = Dict{Participant, Vector{Float64}}()\n",
    "for j in J\n",
    "    _, z_up, z_down, w = RealTimeBalancing(\n",
    "        R,\n",
    "        j,\n",
    "        Qadj_2,\n",
    "        P_Swap_2[j],\n",
    "        T,\n",
    "        mu_up,\n",
    "        mu_down,\n",
    "        Obligations[j])\n",
    "    z_ups[j] = z_up\n",
    "    z_downs[j] = z_down\n",
    "end\n",
    "\n",
    "println(z_ups)\n",
    "println(z_downs)"
   ]
  },
  {
   "cell_type": "markdown",
   "metadata": {},
   "source": [
    "### Final Revenues\n",
    "\n",
    "From the final nominations adjusted Flow, Power Swaps, realized prices and balancing actions we can derive how much actual revenue has been generated by each user.\n"
   ]
  },
  {
   "cell_type": "code",
   "execution_count": 16,
   "metadata": {},
   "outputs": [
    {
     "ename": "KeyError",
     "evalue": "KeyError: key Sydkraft not found",
     "output_type": "error",
     "traceback": [
      "KeyError: key Sydkraft not found\n",
      "\n",
      "Stacktrace:\n",
      "  [1] getindex\n",
      "    @ .\\dict.jl:484 [inlined]\n",
      "  [2] (::var\"#46#48\"{Vector{Float64}, Dict{Participant, Vector{Float64}}, Dict{Participant, Vector{Float64}}, Dict{Participant, Vector{Float64}}, Float64, Float64, Participant})(t::Int64)\n",
      "    @ Main .\\none:0\n",
      "  [3] MappingRF\n",
      "    @ .\\reduce.jl:95 [inlined]\n",
      "  [4] _foldl_impl\n",
      "    @ .\\reduce.jl:58 [inlined]\n",
      "  [5] foldl_impl\n",
      "    @ .\\reduce.jl:48 [inlined]\n",
      "  [6] mapfoldl_impl\n",
      "    @ .\\reduce.jl:44 [inlined]\n",
      "  [7] #mapfoldl#288\n",
      "    @ .\\reduce.jl:170 [inlined]\n",
      "  [8] mapfoldl\n",
      "    @ .\\reduce.jl:170 [inlined]\n",
      "  [9] #mapreduce#292\n",
      "    @ .\\reduce.jl:302 [inlined]\n",
      " [10] mapreduce\n",
      "    @ .\\reduce.jl:302 [inlined]\n",
      " [11] #sum#295\n",
      "    @ .\\reduce.jl:530 [inlined]\n",
      " [12] sum\n",
      "    @ .\\reduce.jl:530 [inlined]\n",
      " [13] #sum#296\n",
      "    @ .\\reduce.jl:559 [inlined]\n",
      " [14] sum\n",
      "    @ .\\reduce.jl:559 [inlined]\n",
      " [15] Final_Revenue(J::Vector{Participant}, price::Vector{Float64}, Obligations::Dict{Participant, Vector{Float64}}, z_ups::Dict{Participant, Vector{Float64}}, z_downs::Dict{Participant, Vector{Float64}}, mu_up::Float64, mu_down::Float64, T::Int64)\n",
      "    @ Main c:\\Users\\lenna\\OneDrive - NTNU\\Code Master Thesis\\DevelopmentNotebooks\\SimulationSkeleton.ipynb:11\n",
      " [16] top-level scope\n",
      "    @ c:\\Users\\lenna\\OneDrive - NTNU\\Code Master Thesis\\DevelopmentNotebooks\\SimulationSkeleton.ipynb:16"
     ]
    }
   ],
   "source": [
    "\"\"\"\n",
    "    Final_Revenue(J, price, Obligations, z_ups, z_downs, mu_up, mu_down, T)\n",
    "    \n",
    "    Calculate the daily revenues from each participant in the day ahead market and through balancing actions.\n",
    "\n",
    "\"\"\"\n",
    "\n",
    "function Final_Revenue(J::Vector{Participant}, price::Vector{Float64}, Obligations::Dict{Participant, Vector{Float64}}, z_ups::Dict{Participant, Vector{Float64}}, z_downs::Dict{Participant, Vector{Float64}}, mu_up::Float64, mu_down::Float64, T::Int64)::Dict{Participant, Float64}\n",
    "    revenue = Dict{Participant, Float64}(j => 0.0 for j in J)\n",
    "    for j in J\n",
    "        revenue[j] = sum(price[t] * Obligations[j][t] - z_ups[j][t] * mu_up + z_downs[j][t] * mu_down for t in 1:T)\n",
    "    end\n",
    "    return revenue\n",
    "end\n",
    "\n",
    "Final_Revenue(J, price, Obligations, z_ups, z_downs, mu_up, mu_down, T)\n"
   ]
  },
  {
   "cell_type": "markdown",
   "metadata": {},
   "source": [
    "# Simulation\n",
    "\n",
    "For a preset amount of rounds, we simulate the reservoir system through the functions and structures as described above. It is important to have a way to save results adequately! This encapsulates the calculations, and evaluations and visualizations can take place at a later point in time."
   ]
  }
 ],
 "metadata": {
  "kernelspec": {
   "display_name": "Julia 1.9.2",
   "language": "julia",
   "name": "julia-1.9"
  },
  "language_info": {
   "file_extension": ".jl",
   "mimetype": "application/julia",
   "name": "julia",
   "version": "1.9.2"
  },
  "orig_nbformat": 4
 },
 "nbformat": 4,
 "nbformat_minor": 2
}
