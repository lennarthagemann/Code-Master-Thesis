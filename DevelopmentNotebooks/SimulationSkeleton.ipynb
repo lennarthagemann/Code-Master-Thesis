{
 "cells": [
  {
   "cell_type": "code",
   "execution_count": 9,
   "metadata": {},
   "outputs": [
    {
     "name": "stderr",
     "output_type": "stream",
     "text": [
      "┌ Warning: Replacing docs for `Main.WaterRegulation.connect_reservoirs :: Tuple{Reservoir, Array{Reservoir}}` in module `Main.WaterRegulation`\n",
      "└ @ Base.Docs docs\\Docs.jl:243\n",
      "┌ Warning: Replacing docs for `Main.WaterRegulation.find_us_reservoir :: Tuple{Reservoir}` in module `Main.WaterRegulation`\n",
      "└ @ Base.Docs docs\\Docs.jl:243\n",
      "┌ Warning: Replacing docs for `Main.WaterRegulation.OtherParticipant :: Tuple{Array{Participant}, Participant, Array{Reservoir}}` in module `Main.WaterRegulation`\n",
      "└ @ Base.Docs docs\\Docs.jl:243\n",
      "┌ Warning: Replacing docs for `Main.WaterRegulation.calculate_balance :: Tuple{Dict{Reservoir, Float64}, Dict{NamedTuple{(:participant, :reservoir), Tuple{Participant, Reservoir}}, Float64}, Reservoir}` in module `Main.WaterRegulation`\n",
      "└ @ Base.Docs docs\\Docs.jl:243\n"
     ]
    },
    {
     "name": "stderr",
     "output_type": "stream",
     "text": [
      "┌ Warning: Replacing docs for `Main.WaterRegulation.adjust_flow! :: Union{Tuple{Dict{NamedTuple{(:participant, :reservoir), Tuple{Participant, Reservoir}}, Float64}, Dict{HydropowerPlant, Float64}}, Tuple{Dict{NamedTuple{(:participant, :reservoir), Tuple{Participant, Reservoir}}, Float64}, Dict{HydropowerPlant, Float64}, Any}}` in module `Main.WaterRegulation`\n",
      "└ @ Base.Docs docs\\Docs.jl:243\n",
      "┌ Warning: Replacing docs for `Main.WaterRegulation.update_reservoir :: Tuple{Dict{Reservoir, Float64}, Int64}` in module `Main.WaterRegulation`\n",
      "└ @ Base.Docs docs\\Docs.jl:243\n",
      "┌ Warning: Replacing docs for `Main.WaterRegulation.update_ind_reservoir :: Tuple{Dict{NamedTuple{(:participant, :reservoir), Tuple{Participant, Reservoir}}, Float64}, Dict{Reservoir, Float64}}` in module `Main.WaterRegulation`\n",
      "└ @ Base.Docs docs\\Docs.jl:243\n",
      "┌ Warning: Replacing docs for `Main.WaterRegulation.read_data :: Tuple{String}` in module `Main.WaterRegulation`\n",
      "└ @ Base.Docs docs\\Docs.jl:243\n",
      "┌ Warning: Replacing docs for `Main.WaterRegulation.read_nomination :: Tuple{String, Array{Participant}, Array{Reservoir}}` in module `Main.WaterRegulation`\n",
      "└ @ Base.Docs docs\\Docs.jl:243\n",
      "┌ Warning: Replacing docs for `Main.WaterRegulation.partAvg :: Tuple{Dict{NamedTuple{(:participant, :reservoir), Tuple{Participant, Reservoir}}, Float64}, Dict{NamedTuple{(:participant, :reservoir), Tuple{Participant, Reservoir}}, Float64}}` in module `Main.WaterRegulation`\n",
      "└ @ Base.Docs docs\\Docs.jl:243\n",
      "┌ Warning: Replacing docs for `Main.WaterRegulation.SumPartAvg :: Tuple{Reservoir, Array{Participant}}` in module `Main.WaterRegulation`\n",
      "└ @ Base.Docs docs\\Docs.jl:243\n",
      "┌ Warning: Replacing docs for `Main.WaterRegulation.SimplePartAvg :: Tuple{Array{Participant}, Array{Reservoir}}` in module `Main.WaterRegulation`\n",
      "└ @ Base.Docs docs\\Docs.jl:243\n",
      "┌ Warning: Replacing docs for `Main.WaterRegulation.CalculateQmax :: Tuple{Dict{NamedTuple{(:participant, :reservoir), Tuple{Participant, Reservoir}}, Float64}, Dict{Reservoir, Float64}}` in module `Main.WaterRegulation`\n",
      "└ @ Base.Docs docs\\Docs.jl:243\n",
      "┌ Warning: Replacing docs for `Main.WaterRegulation.Calculate_Ersmax :: Tuple{Array{HydropowerPlant}, Dict{Reservoir, Float64}}` in module `Main.WaterRegulation`\n",
      "└ @ Base.Docs docs\\Docs.jl:243\n",
      "┌ Warning: Replacing docs for `Main.WaterRegulation.Calculate_POver :: Tuple{Dict{NamedTuple{(:participant, :reservoir), Tuple{Participant, Reservoir}}, Float64}, Dict{NamedTuple{(:participant, :reservoir), Tuple{Participant, Reservoir}}, Float64}, Dict{HydropowerPlant, Float64}}` in module `Main.WaterRegulation`\n",
      "└ @ Base.Docs docs\\Docs.jl:243\n",
      "┌ Warning: Replacing docs for `Main.WaterRegulation.power_swap :: Tuple{Dict{NamedTuple{(:participant, :reservoir), Tuple{Participant, Reservoir}}, Float64}, Dict{Reservoir, Float64}, Dict{Participant, Dict{HydropowerPlant, Float64}}, Dict{HydropowerPlant, Float64}, Dict{HydropowerPlant, Float64}, Array{Participant}}` in module `Main.WaterRegulation`\n",
      "└ @ Base.Docs docs\\Docs.jl:243\n",
      "┌ Warning: Replacing docs for `Main.WaterRegulation.PS_Reduction :: Tuple{Dict{HydropowerPlant, Float64}, Any, Any, Array{Participant}, Any}` in module `Main.WaterRegulation`\n",
      "└ @ Base.Docs docs\\Docs.jl:243\n",
      "┌ Warning: Replacing docs for `Main.WaterRegulation.calculate_produced_power :: Tuple{Dict{Reservoir, Float64}, Array{Participant}}` in module `Main.WaterRegulation`\n",
      "└ @ Base.Docs docs\\Docs.jl:243\n",
      "┌ Warning: Replacing docs for `Main.WaterRegulation.total_power :: Tuple{Dict{Reservoir, Float64}, Dict{Participant, Dict{Reservoir, Float64}}, Array{Participant}}` in module `Main.WaterRegulation`\n",
      "└ @ Base.Docs docs\\Docs.jl:243\n",
      "┌ Warning: Replacing docs for `Main.WaterRegulation.water_regulation :: Tuple{Dict{NamedTuple{(:participant, :reservoir), Tuple{Participant, Reservoir}}, Float64}, Dict{Reservoir, Float64}, Int64}` in module `Main.WaterRegulation`\n",
      "└ @ Base.Docs docs\\Docs.jl:243\n",
      "┌ Warning: Replacing docs for `Main.WaterRegulation._collect_solution_Bidding :: Tuple{Any, Any, Any}` in module `Main.WaterRegulation`\n",
      "└ @ Base.Docs docs\\Docs.jl:243\n",
      "┌ Warning: Replacing docs for `Main.WaterRegulation._collect_solution_Short :: Tuple{Any, Any, Any}` in module `Main.WaterRegulation`\n",
      "└ @ Base.Docs docs\\Docs.jl:243\n"
     ]
    },
    {
     "name": "stderr",
     "output_type": "stream",
     "text": [
      "┌ Warning: Replacing docs for `Main.WaterRegulation.RealTimeBalancing :: Tuple{Vector{Reservoir}, Participant, Dict{Reservoir, Float64}, Dict{Reservoir, Float64}, Dict{Int64, Float64}}` in module `Main.WaterRegulation`\n",
      "└ @ Base.Docs docs\\Docs.jl:243\n"
     ]
    }
   ],
   "source": [
    "using JuMP\n",
    "using CPLEX\n",
    "using Distributions\n",
    "using LinearAlgebra\n",
    "using Statistics\n",
    "using Dates\n",
    "using DataFrames\n",
    "using SDDP\n",
    "using Plots\n",
    "import CSV\n",
    "using JSON\n",
    "try\n",
    "    using Revise\n",
    "catch e\n",
    "    @warn \"Error initializing Revise\" exception=(e, catch_backtrace())\n",
    "end\n",
    "\n",
    "includet(dirname(pwd()) * \"\\\\Water_Regulation\\\\WaterRegulation.jl\")\n",
    "using .WaterRegulation"
   ]
  },
  {
   "cell_type": "markdown",
   "metadata": {},
   "source": [
    "### Simulations of Water Regulation Procedure\n",
    "\n",
    "We would like to set up a skeleton for the day-to-day decision making of hydropower producers and the Water Regulation Company. The main steps of the Water Regulation company consist of:\n",
    "\n",
    "* Determining a Reference Flow for the next nomination period (Inflow Forecasting)\n",
    "* Receiving pre-bid nominations and calculating adjusted flow, power swaps, etc. -> Send these parameters back to the participants\n",
    "* Recalculate based on renominations by power producers after bidding\n",
    "\n",
    "For the Power Producers / Participants:  \n",
    "\n",
    "* Fetch and Calculate all Parameters for the Water Regulation Procedure (Individual Reservoir Level etc.)\n",
    "* Price and Inflow Forecasting (Fix Price Points)\n",
    "* Medium-Term Hydropower Model Calculation, obtain Water Value Cuts\n",
    "* Decision Model 1: Bidding and Pre-Market Clearing Nomination\n",
    "* Decision Model 2: Short-Term Optimization and Renomination\n",
    "* Decision Model 3: Fixed Water Flow scheduling and real time balancing\n",
    "\n",
    "This constitutes one round of simulation.\n"
   ]
  },
  {
   "cell_type": "code",
   "execution_count": 10,
   "metadata": {},
   "outputs": [
    {
     "name": "stdout",
     "output_type": "stream",
     "text": [
      "The reservoir system consists of [\"Flasjon\", \"Holsmjon\"]\n",
      "Downstream of the reservoirs we have power plants [\"Flasjo\", \"Trangfors\", \"Ratan\", \"Turinge\", \"Bursnas\", \"Jarnvagsforsen\", \"Parteboda\", \"Hermansboda\", \"Ljunga\", \"Nederede\", \"Skallbole\", \"Matfors\", \"Viforsen\"]\n",
      "Sydkraft owns HydropowerPlant[Flasjo, Trangfors, Ratan, Turinge, Bursnas], which constitutes a participation rate of: \n",
      " "
     ]
    },
    {
     "name": "stdout",
     "output_type": "stream",
     "text": [
      "________________________________\n",
      "Flasjon  | 1.84    \n",
      "Holsmjon | 0.0     \n",
      "\n",
      "Fortum owns HydropowerPlant[Parteboda, Hermansboda, Ljunga], which constitutes a participation rate of: \n",
      " ________________________________\n",
      "Flasjon  | 0.8200000000000001\n",
      "Holsmjon | 0.8200000000000001\n",
      "\n",
      "Statkraft owns HydropowerPlant[Nederede, Skallbole, Matfors, Viforsen, Jarnvagsforsen], which constitutes a participation rate of: \n",
      " ________________________________\n",
      "Flasjon  | 1.86    \n",
      "Holsmjon | 1.86    \n",
      "\n"
     ]
    }
   ],
   "source": [
    "filepath_Ljungan = dirname(pwd()) * \"\\\\Water_Regulation\\\\TestDataWaterRegulation\\\\Ljungan.json\"\n",
    "filepath_prices = dirname(pwd()) *  \"\\\\Data\\\\Spot Prices\\\\prices_df.csv\"\n",
    "filepath_results = dirname(pwd()) * \"\\\\Results\\\\LambdaZero\\\\\"\n",
    "R, K, J = read_data(filepath_Ljungan)\n",
    "\n",
    "println(\"The reservoir system consists of $([r.dischargepoint for r in R])\")\n",
    "println(\"Downstream of the reservoirs we have power plants $([k.name for k in K])\")\n",
    "for j in J\n",
    "    println(\"$(j.name) owns $(j.plants), which constitutes a participation rate of: \\n \", j.participationrate)\n",
    "end\n"
   ]
  },
  {
   "cell_type": "markdown",
   "metadata": {},
   "source": [
    "#### Load Data\n",
    "\n",
    "Other than the river system, the relevant data for optimization is organized in Dataframes.\n",
    "We load in cleaned versions of the data."
   ]
  },
  {
   "cell_type": "code",
   "execution_count": 11,
   "metadata": {},
   "outputs": [
    {
     "data": {
      "text/html": [
       "<div><div style = \"float: left;\"><span>862×29 DataFrame</span></div><div style = \"float: right;\"><span style = \"font-style: italic;\">837 rows omitted</span></div><div style = \"clear: both;\"></div></div><div class = \"data-frame\" style = \"overflow-x: scroll;\"><table class = \"data-frame\" style = \"margin-bottom: 6px;\"><thead><tr class = \"header\"><th class = \"rowNumber\" style = \"font-weight: bold; text-align: right;\">Row</th><th style = \"text-align: left;\">Date</th><th style = \"text-align: left;\">0</th><th style = \"text-align: left;\">1</th><th style = \"text-align: left;\">2</th><th style = \"text-align: left;\">3</th><th style = \"text-align: left;\">4</th><th style = \"text-align: left;\">5</th><th style = \"text-align: left;\">6</th><th style = \"text-align: left;\">7</th><th style = \"text-align: left;\">8</th><th style = \"text-align: left;\">9</th><th style = \"text-align: left;\">10</th><th style = \"text-align: left;\">11</th><th style = \"text-align: left;\">12</th><th style = \"text-align: left;\">13</th><th style = \"text-align: left;\">14</th><th style = \"text-align: left;\">15</th><th style = \"text-align: left;\">16</th><th style = \"text-align: left;\">17</th><th style = \"text-align: left;\">18</th><th style = \"text-align: left;\">19</th><th style = \"text-align: left;\">20</th><th style = \"text-align: left;\">21</th><th style = \"text-align: left;\">22</th><th style = \"text-align: left;\">23</th><th style = \"text-align: left;\">Average</th><th style = \"text-align: left;\">season</th><th style = \"text-align: left;\">Weekday</th><th style = \"text-align: left;\">CalendarWeek</th></tr><tr class = \"subheader headerLastRow\"><th class = \"rowNumber\" style = \"font-weight: bold; text-align: right;\"></th><th title = \"Date\" style = \"text-align: left;\">Date</th><th title = \"Float64\" style = \"text-align: left;\">Float64</th><th title = \"Float64\" style = \"text-align: left;\">Float64</th><th title = \"Float64\" style = \"text-align: left;\">Float64</th><th title = \"Float64\" style = \"text-align: left;\">Float64</th><th title = \"Float64\" style = \"text-align: left;\">Float64</th><th title = \"Float64\" style = \"text-align: left;\">Float64</th><th title = \"Float64\" style = \"text-align: left;\">Float64</th><th title = \"Float64\" style = \"text-align: left;\">Float64</th><th title = \"Float64\" style = \"text-align: left;\">Float64</th><th title = \"Float64\" style = \"text-align: left;\">Float64</th><th title = \"Float64\" style = \"text-align: left;\">Float64</th><th title = \"Float64\" style = \"text-align: left;\">Float64</th><th title = \"Float64\" style = \"text-align: left;\">Float64</th><th title = \"Float64\" style = \"text-align: left;\">Float64</th><th title = \"Float64\" style = \"text-align: left;\">Float64</th><th title = \"Float64\" style = \"text-align: left;\">Float64</th><th title = \"Float64\" style = \"text-align: left;\">Float64</th><th title = \"Float64\" style = \"text-align: left;\">Float64</th><th title = \"Float64\" style = \"text-align: left;\">Float64</th><th title = \"Float64\" style = \"text-align: left;\">Float64</th><th title = \"Float64\" style = \"text-align: left;\">Float64</th><th title = \"Float64\" style = \"text-align: left;\">Float64</th><th title = \"Float64\" style = \"text-align: left;\">Float64</th><th title = \"Float64\" style = \"text-align: left;\">Float64</th><th title = \"Float64\" style = \"text-align: left;\">Float64</th><th title = \"String\" style = \"text-align: left;\">String</th><th title = \"String\" style = \"text-align: left;\">String</th><th title = \"Int64\" style = \"text-align: left;\">Int64</th></tr></thead><tbody><tr><td class = \"rowNumber\" style = \"font-weight: bold; text-align: right;\">1</td><td style = \"text-align: left;\">2020-12-15</td><td style = \"text-align: right;\">17.57</td><td style = \"text-align: right;\">17.57</td><td style = \"text-align: right;\">16.92</td><td style = \"text-align: right;\">16.88</td><td style = \"text-align: right;\">18.95</td><td style = \"text-align: right;\">20.39</td><td style = \"text-align: right;\">22.31</td><td style = \"text-align: right;\">24.59</td><td style = \"text-align: right;\">31.41</td><td style = \"text-align: right;\">31.49</td><td style = \"text-align: right;\">31.62</td><td style = \"text-align: right;\">30.52</td><td style = \"text-align: right;\">35.9</td><td style = \"text-align: right;\">38.1</td><td style = \"text-align: right;\">40.08</td><td style = \"text-align: right;\">43.08</td><td style = \"text-align: right;\">37.32</td><td style = \"text-align: right;\">51.13</td><td style = \"text-align: right;\">47.54</td><td style = \"text-align: right;\">40.77</td><td style = \"text-align: right;\">35.2</td><td style = \"text-align: right;\">28.45</td><td style = \"text-align: right;\">23.67</td><td style = \"text-align: right;\">21.86</td><td style = \"text-align: right;\">30.1383</td><td style = \"text-align: left;\">Winter</td><td style = \"text-align: left;\">Weekday</td><td style = \"text-align: right;\">51</td></tr><tr><td class = \"rowNumber\" style = \"font-weight: bold; text-align: right;\">2</td><td style = \"text-align: left;\">2020-12-16</td><td style = \"text-align: right;\">20.48</td><td style = \"text-align: right;\">19.32</td><td style = \"text-align: right;\">19.0</td><td style = \"text-align: right;\">19.02</td><td style = \"text-align: right;\">20.19</td><td style = \"text-align: right;\">21.98</td><td style = \"text-align: right;\">22.71</td><td style = \"text-align: right;\">32.71</td><td style = \"text-align: right;\">48.37</td><td style = \"text-align: right;\">43.68</td><td style = \"text-align: right;\">42.01</td><td style = \"text-align: right;\">37.92</td><td style = \"text-align: right;\">36.56</td><td style = \"text-align: right;\">36.42</td><td style = \"text-align: right;\">39.16</td><td style = \"text-align: right;\">46.54</td><td style = \"text-align: right;\">46.4</td><td style = \"text-align: right;\">39.41</td><td style = \"text-align: right;\">35.78</td><td style = \"text-align: right;\">24.74</td><td style = \"text-align: right;\">22.78</td><td style = \"text-align: right;\">22.15</td><td style = \"text-align: right;\">21.48</td><td style = \"text-align: right;\">20.12</td><td style = \"text-align: right;\">30.7887</td><td style = \"text-align: left;\">Winter</td><td style = \"text-align: left;\">Weekday</td><td style = \"text-align: right;\">51</td></tr><tr><td class = \"rowNumber\" style = \"font-weight: bold; text-align: right;\">3</td><td style = \"text-align: left;\">2020-12-17</td><td style = \"text-align: right;\">19.03</td><td style = \"text-align: right;\">17.93</td><td style = \"text-align: right;\">17.53</td><td style = \"text-align: right;\">17.28</td><td style = \"text-align: right;\">17.97</td><td style = \"text-align: right;\">20.0</td><td style = \"text-align: right;\">22.09</td><td style = \"text-align: right;\">23.64</td><td style = \"text-align: right;\">26.79</td><td style = \"text-align: right;\">25.28</td><td style = \"text-align: right;\">24.43</td><td style = \"text-align: right;\">24.3</td><td style = \"text-align: right;\">23.67</td><td style = \"text-align: right;\">23.99</td><td style = \"text-align: right;\">23.97</td><td style = \"text-align: right;\">25.06</td><td style = \"text-align: right;\">25.38</td><td style = \"text-align: right;\">26.07</td><td style = \"text-align: right;\">24.22</td><td style = \"text-align: right;\">23.16</td><td style = \"text-align: right;\">22.19</td><td style = \"text-align: right;\">21.97</td><td style = \"text-align: right;\">20.76</td><td style = \"text-align: right;\">18.99</td><td style = \"text-align: right;\">22.3208</td><td style = \"text-align: left;\">Winter</td><td style = \"text-align: left;\">Weekday</td><td style = \"text-align: right;\">51</td></tr><tr><td class = \"rowNumber\" style = \"font-weight: bold; text-align: right;\">4</td><td style = \"text-align: left;\">2020-12-18</td><td style = \"text-align: right;\">16.96</td><td style = \"text-align: right;\">16.65</td><td style = \"text-align: right;\">16.17</td><td style = \"text-align: right;\">16.3</td><td style = \"text-align: right;\">17.3</td><td style = \"text-align: right;\">19.39</td><td style = \"text-align: right;\">19.99</td><td style = \"text-align: right;\">22.43</td><td style = \"text-align: right;\">23.74</td><td style = \"text-align: right;\">23.96</td><td style = \"text-align: right;\">22.82</td><td style = \"text-align: right;\">22.5</td><td style = \"text-align: right;\">22.44</td><td style = \"text-align: right;\">22.23</td><td style = \"text-align: right;\">22.42</td><td style = \"text-align: right;\">22.91</td><td style = \"text-align: right;\">23.11</td><td style = \"text-align: right;\">23.83</td><td style = \"text-align: right;\">22.59</td><td style = \"text-align: right;\">21.01</td><td style = \"text-align: right;\">19.43</td><td style = \"text-align: right;\">19.04</td><td style = \"text-align: right;\">17.82</td><td style = \"text-align: right;\">15.92</td><td style = \"text-align: right;\">20.4567</td><td style = \"text-align: left;\">Winter</td><td style = \"text-align: left;\">Weekday</td><td style = \"text-align: right;\">51</td></tr><tr><td class = \"rowNumber\" style = \"font-weight: bold; text-align: right;\">5</td><td style = \"text-align: left;\">2020-12-19</td><td style = \"text-align: right;\">16.48</td><td style = \"text-align: right;\">15.98</td><td style = \"text-align: right;\">15.47</td><td style = \"text-align: right;\">15.31</td><td style = \"text-align: right;\">15.3</td><td style = \"text-align: right;\">15.52</td><td style = \"text-align: right;\">15.87</td><td style = \"text-align: right;\">15.92</td><td style = \"text-align: right;\">16.48</td><td style = \"text-align: right;\">17.01</td><td style = \"text-align: right;\">17.36</td><td style = \"text-align: right;\">17.47</td><td style = \"text-align: right;\">17.27</td><td style = \"text-align: right;\">17.29</td><td style = \"text-align: right;\">17.33</td><td style = \"text-align: right;\">17.54</td><td style = \"text-align: right;\">17.96</td><td style = \"text-align: right;\">18.39</td><td style = \"text-align: right;\">17.77</td><td style = \"text-align: right;\">17.03</td><td style = \"text-align: right;\">15.92</td><td style = \"text-align: right;\">15.69</td><td style = \"text-align: right;\">15.22</td><td style = \"text-align: right;\">13.65</td><td style = \"text-align: right;\">16.4679</td><td style = \"text-align: left;\">Winter</td><td style = \"text-align: left;\">Weekend</td><td style = \"text-align: right;\">51</td></tr><tr><td class = \"rowNumber\" style = \"font-weight: bold; text-align: right;\">6</td><td style = \"text-align: left;\">2020-12-20</td><td style = \"text-align: right;\">13.0</td><td style = \"text-align: right;\">12.04</td><td style = \"text-align: right;\">11.79</td><td style = \"text-align: right;\">11.65</td><td style = \"text-align: right;\">11.79</td><td style = \"text-align: right;\">11.98</td><td style = \"text-align: right;\">12.53</td><td style = \"text-align: right;\">12.7</td><td style = \"text-align: right;\">13.25</td><td style = \"text-align: right;\">14.28</td><td style = \"text-align: right;\">15.37</td><td style = \"text-align: right;\">15.94</td><td style = \"text-align: right;\">15.83</td><td style = \"text-align: right;\">15.37</td><td style = \"text-align: right;\">15.98</td><td style = \"text-align: right;\">16.84</td><td style = \"text-align: right;\">17.09</td><td style = \"text-align: right;\">17.29</td><td style = \"text-align: right;\">17.06</td><td style = \"text-align: right;\">16.3</td><td style = \"text-align: right;\">15.32</td><td style = \"text-align: right;\">15.23</td><td style = \"text-align: right;\">14.65</td><td style = \"text-align: right;\">13.02</td><td style = \"text-align: right;\">14.4292</td><td style = \"text-align: left;\">Winter</td><td style = \"text-align: left;\">Weekend</td><td style = \"text-align: right;\">51</td></tr><tr><td class = \"rowNumber\" style = \"font-weight: bold; text-align: right;\">7</td><td style = \"text-align: left;\">2020-12-21</td><td style = \"text-align: right;\">11.9</td><td style = \"text-align: right;\">11.2</td><td style = \"text-align: right;\">11.5</td><td style = \"text-align: right;\">11.73</td><td style = \"text-align: right;\">12.81</td><td style = \"text-align: right;\">14.37</td><td style = \"text-align: right;\">16.67</td><td style = \"text-align: right;\">19.74</td><td style = \"text-align: right;\">20.6</td><td style = \"text-align: right;\">19.92</td><td style = \"text-align: right;\">19.32</td><td style = \"text-align: right;\">19.39</td><td style = \"text-align: right;\">19.44</td><td style = \"text-align: right;\">19.2</td><td style = \"text-align: right;\">19.45</td><td style = \"text-align: right;\">20.65</td><td style = \"text-align: right;\">20.55</td><td style = \"text-align: right;\">20.35</td><td style = \"text-align: right;\">19.49</td><td style = \"text-align: right;\">18.03</td><td style = \"text-align: right;\">16.17</td><td style = \"text-align: right;\">14.47</td><td style = \"text-align: right;\">13.18</td><td style = \"text-align: right;\">8.66</td><td style = \"text-align: right;\">16.6163</td><td style = \"text-align: left;\">Winter</td><td style = \"text-align: left;\">Weekday</td><td style = \"text-align: right;\">52</td></tr><tr><td class = \"rowNumber\" style = \"font-weight: bold; text-align: right;\">8</td><td style = \"text-align: left;\">2020-12-22</td><td style = \"text-align: right;\">7.15</td><td style = \"text-align: right;\">5.51</td><td style = \"text-align: right;\">4.77</td><td style = \"text-align: right;\">4.44</td><td style = \"text-align: right;\">4.84</td><td style = \"text-align: right;\">7.73</td><td style = \"text-align: right;\">12.82</td><td style = \"text-align: right;\">15.97</td><td style = \"text-align: right;\">17.87</td><td style = \"text-align: right;\">18.0</td><td style = \"text-align: right;\">18.09</td><td style = \"text-align: right;\">18.01</td><td style = \"text-align: right;\">18.01</td><td style = \"text-align: right;\">17.57</td><td style = \"text-align: right;\">18.08</td><td style = \"text-align: right;\">18.62</td><td style = \"text-align: right;\">19.67</td><td style = \"text-align: right;\">19.87</td><td style = \"text-align: right;\">19.79</td><td style = \"text-align: right;\">18.01</td><td style = \"text-align: right;\">16.88</td><td style = \"text-align: right;\">16.05</td><td style = \"text-align: right;\">15.05</td><td style = \"text-align: right;\">13.71</td><td style = \"text-align: right;\">14.4379</td><td style = \"text-align: left;\">Winter</td><td style = \"text-align: left;\">Weekday</td><td style = \"text-align: right;\">52</td></tr><tr><td class = \"rowNumber\" style = \"font-weight: bold; text-align: right;\">9</td><td style = \"text-align: left;\">2020-12-23</td><td style = \"text-align: right;\">13.38</td><td style = \"text-align: right;\">13.1</td><td style = \"text-align: right;\">12.9</td><td style = \"text-align: right;\">12.93</td><td style = \"text-align: right;\">13.14</td><td style = \"text-align: right;\">14.72</td><td style = \"text-align: right;\">15.99</td><td style = \"text-align: right;\">18.59</td><td style = \"text-align: right;\">19.21</td><td style = \"text-align: right;\">19.51</td><td style = \"text-align: right;\">18.97</td><td style = \"text-align: right;\">19.33</td><td style = \"text-align: right;\">19.55</td><td style = \"text-align: right;\">19.4</td><td style = \"text-align: right;\">19.66</td><td style = \"text-align: right;\">19.96</td><td style = \"text-align: right;\">20.56</td><td style = \"text-align: right;\">21.79</td><td style = \"text-align: right;\">20.77</td><td style = \"text-align: right;\">18.95</td><td style = \"text-align: right;\">17.82</td><td style = \"text-align: right;\">16.94</td><td style = \"text-align: right;\">16.16</td><td style = \"text-align: right;\">15.07</td><td style = \"text-align: right;\">17.4333</td><td style = \"text-align: left;\">Winter</td><td style = \"text-align: left;\">Weekday</td><td style = \"text-align: right;\">52</td></tr><tr><td class = \"rowNumber\" style = \"font-weight: bold; text-align: right;\">10</td><td style = \"text-align: left;\">2020-12-24</td><td style = \"text-align: right;\">13.44</td><td style = \"text-align: right;\">12.19</td><td style = \"text-align: right;\">10.57</td><td style = \"text-align: right;\">9.44</td><td style = \"text-align: right;\">9.1</td><td style = \"text-align: right;\">10.74</td><td style = \"text-align: right;\">11.36</td><td style = \"text-align: right;\">13.31</td><td style = \"text-align: right;\">16.01</td><td style = \"text-align: right;\">17.78</td><td style = \"text-align: right;\">18.14</td><td style = \"text-align: right;\">18.0</td><td style = \"text-align: right;\">18.07</td><td style = \"text-align: right;\">17.48</td><td style = \"text-align: right;\">17.35</td><td style = \"text-align: right;\">17.64</td><td style = \"text-align: right;\">18.2</td><td style = \"text-align: right;\">17.55</td><td style = \"text-align: right;\">15.9</td><td style = \"text-align: right;\">14.35</td><td style = \"text-align: right;\">14.49</td><td style = \"text-align: right;\">14.47</td><td style = \"text-align: right;\">14.52</td><td style = \"text-align: right;\">13.94</td><td style = \"text-align: right;\">14.7517</td><td style = \"text-align: left;\">Winter</td><td style = \"text-align: left;\">Weekday</td><td style = \"text-align: right;\">52</td></tr><tr><td class = \"rowNumber\" style = \"font-weight: bold; text-align: right;\">11</td><td style = \"text-align: left;\">2020-12-25</td><td style = \"text-align: right;\">14.95</td><td style = \"text-align: right;\">14.96</td><td style = \"text-align: right;\">13.97</td><td style = \"text-align: right;\">12.57</td><td style = \"text-align: right;\">12.9</td><td style = \"text-align: right;\">13.5</td><td style = \"text-align: right;\">13.12</td><td style = \"text-align: right;\">14.75</td><td style = \"text-align: right;\">16.82</td><td style = \"text-align: right;\">18.05</td><td style = \"text-align: right;\">18.47</td><td style = \"text-align: right;\">19.4</td><td style = \"text-align: right;\">19.92</td><td style = \"text-align: right;\">20.1</td><td style = \"text-align: right;\">20.99</td><td style = \"text-align: right;\">22.32</td><td style = \"text-align: right;\">22.57</td><td style = \"text-align: right;\">22.7</td><td style = \"text-align: right;\">22.56</td><td style = \"text-align: right;\">22.05</td><td style = \"text-align: right;\">20.77</td><td style = \"text-align: right;\">20.29</td><td style = \"text-align: right;\">19.34</td><td style = \"text-align: right;\">17.63</td><td style = \"text-align: right;\">18.1125</td><td style = \"text-align: left;\">Winter</td><td style = \"text-align: left;\">Weekday</td><td style = \"text-align: right;\">52</td></tr><tr><td class = \"rowNumber\" style = \"font-weight: bold; text-align: right;\">12</td><td style = \"text-align: left;\">2020-12-26</td><td style = \"text-align: right;\">19.69</td><td style = \"text-align: right;\">18.46</td><td style = \"text-align: right;\">17.97</td><td style = \"text-align: right;\">16.94</td><td style = \"text-align: right;\">15.57</td><td style = \"text-align: right;\">15.8</td><td style = \"text-align: right;\">16.02</td><td style = \"text-align: right;\">19.22</td><td style = \"text-align: right;\">19.52</td><td style = \"text-align: right;\">20.06</td><td style = \"text-align: right;\">20.81</td><td style = \"text-align: right;\">20.89</td><td style = \"text-align: right;\">20.71</td><td style = \"text-align: right;\">19.17</td><td style = \"text-align: right;\">17.72</td><td style = \"text-align: right;\">17.99</td><td style = \"text-align: right;\">18.94</td><td style = \"text-align: right;\">18.08</td><td style = \"text-align: right;\">16.72</td><td style = \"text-align: right;\">14.38</td><td style = \"text-align: right;\">11.98</td><td style = \"text-align: right;\">11.26</td><td style = \"text-align: right;\">9.43</td><td style = \"text-align: right;\">5.87</td><td style = \"text-align: right;\">16.8</td><td style = \"text-align: left;\">Winter</td><td style = \"text-align: left;\">Weekend</td><td style = \"text-align: right;\">52</td></tr><tr><td class = \"rowNumber\" style = \"font-weight: bold; text-align: right;\">13</td><td style = \"text-align: left;\">2020-12-27</td><td style = \"text-align: right;\">4.71</td><td style = \"text-align: right;\">2.37</td><td style = \"text-align: right;\">1.49</td><td style = \"text-align: right;\">0.96</td><td style = \"text-align: right;\">0.95</td><td style = \"text-align: right;\">1.26</td><td style = \"text-align: right;\">1.02</td><td style = \"text-align: right;\">1.57</td><td style = \"text-align: right;\">2.64</td><td style = \"text-align: right;\">3.99</td><td style = \"text-align: right;\">5.74</td><td style = \"text-align: right;\">7.15</td><td style = \"text-align: right;\">5.95</td><td style = \"text-align: right;\">5.65</td><td style = \"text-align: right;\">6.08</td><td style = \"text-align: right;\">7.91</td><td style = \"text-align: right;\">8.92</td><td style = \"text-align: right;\">9.62</td><td style = \"text-align: right;\">10.33</td><td style = \"text-align: right;\">9.45</td><td style = \"text-align: right;\">8.83</td><td style = \"text-align: right;\">9.49</td><td style = \"text-align: right;\">10.31</td><td style = \"text-align: right;\">7.87</td><td style = \"text-align: right;\">5.59417</td><td style = \"text-align: left;\">Winter</td><td style = \"text-align: left;\">Weekend</td><td style = \"text-align: right;\">52</td></tr><tr><td style = \"text-align: right;\">&vellip;</td><td style = \"text-align: right;\">&vellip;</td><td style = \"text-align: right;\">&vellip;</td><td style = \"text-align: right;\">&vellip;</td><td style = \"text-align: right;\">&vellip;</td><td style = \"text-align: right;\">&vellip;</td><td style = \"text-align: right;\">&vellip;</td><td style = \"text-align: right;\">&vellip;</td><td style = \"text-align: right;\">&vellip;</td><td style = \"text-align: right;\">&vellip;</td><td style = \"text-align: right;\">&vellip;</td><td style = \"text-align: right;\">&vellip;</td><td style = \"text-align: right;\">&vellip;</td><td style = \"text-align: right;\">&vellip;</td><td style = \"text-align: right;\">&vellip;</td><td style = \"text-align: right;\">&vellip;</td><td style = \"text-align: right;\">&vellip;</td><td style = \"text-align: right;\">&vellip;</td><td style = \"text-align: right;\">&vellip;</td><td style = \"text-align: right;\">&vellip;</td><td style = \"text-align: right;\">&vellip;</td><td style = \"text-align: right;\">&vellip;</td><td style = \"text-align: right;\">&vellip;</td><td style = \"text-align: right;\">&vellip;</td><td style = \"text-align: right;\">&vellip;</td><td style = \"text-align: right;\">&vellip;</td><td style = \"text-align: right;\">&vellip;</td><td style = \"text-align: right;\">&vellip;</td><td style = \"text-align: right;\">&vellip;</td><td style = \"text-align: right;\">&vellip;</td></tr><tr><td class = \"rowNumber\" style = \"font-weight: bold; text-align: right;\">851</td><td style = \"text-align: left;\">2023-04-14</td><td style = \"text-align: right;\">137.29</td><td style = \"text-align: right;\">135.74</td><td style = \"text-align: right;\">134.73</td><td style = \"text-align: right;\">136.93</td><td style = \"text-align: right;\">138.98</td><td style = \"text-align: right;\">139.12</td><td style = \"text-align: right;\">136.62</td><td style = \"text-align: right;\">138.76</td><td style = \"text-align: right;\">133.77</td><td style = \"text-align: right;\">119.17</td><td style = \"text-align: right;\">104.51</td><td style = \"text-align: right;\">90.79</td><td style = \"text-align: right;\">80.0</td><td style = \"text-align: right;\">54.34</td><td style = \"text-align: right;\">26.21</td><td style = \"text-align: right;\">27.08</td><td style = \"text-align: right;\">27.99</td><td style = \"text-align: right;\">29.96</td><td style = \"text-align: right;\">33.65</td><td style = \"text-align: right;\">39.64</td><td style = \"text-align: right;\">61.28</td><td style = \"text-align: right;\">82.85</td><td style = \"text-align: right;\">86.87</td><td style = \"text-align: right;\">85.22</td><td style = \"text-align: right;\">90.8958</td><td style = \"text-align: left;\">Spring</td><td style = \"text-align: left;\">Weekday</td><td style = \"text-align: right;\">15</td></tr><tr><td class = \"rowNumber\" style = \"font-weight: bold; text-align: right;\">852</td><td style = \"text-align: left;\">2023-04-15</td><td style = \"text-align: right;\">80.99</td><td style = \"text-align: right;\">71.86</td><td style = \"text-align: right;\">65.71</td><td style = \"text-align: right;\">60.76</td><td style = \"text-align: right;\">54.62</td><td style = \"text-align: right;\">49.93</td><td style = \"text-align: right;\">49.08</td><td style = \"text-align: right;\">51.88</td><td style = \"text-align: right;\">47.86</td><td style = \"text-align: right;\">41.25</td><td style = \"text-align: right;\">39.92</td><td style = \"text-align: right;\">39.93</td><td style = \"text-align: right;\">35.87</td><td style = \"text-align: right;\">32.39</td><td style = \"text-align: right;\">94.62</td><td style = \"text-align: right;\">92.93</td><td style = \"text-align: right;\">89.98</td><td style = \"text-align: right;\">89.94</td><td style = \"text-align: right;\">90.48</td><td style = \"text-align: right;\">95.8</td><td style = \"text-align: right;\">106.07</td><td style = \"text-align: right;\">109.65</td><td style = \"text-align: right;\">111.13</td><td style = \"text-align: right;\">111.51</td><td style = \"text-align: right;\">71.4233</td><td style = \"text-align: left;\">Spring</td><td style = \"text-align: left;\">Weekend</td><td style = \"text-align: right;\">15</td></tr><tr><td class = \"rowNumber\" style = \"font-weight: bold; text-align: right;\">853</td><td style = \"text-align: left;\">2023-04-16</td><td style = \"text-align: right;\">112.27</td><td style = \"text-align: right;\">112.32</td><td style = \"text-align: right;\">110.0</td><td style = \"text-align: right;\">107.66</td><td style = \"text-align: right;\">108.68</td><td style = \"text-align: right;\">106.65</td><td style = \"text-align: right;\">107.39</td><td style = \"text-align: right;\">111.58</td><td style = \"text-align: right;\">111.93</td><td style = \"text-align: right;\">110.21</td><td style = \"text-align: right;\">105.82</td><td style = \"text-align: right;\">101.93</td><td style = \"text-align: right;\">95.03</td><td style = \"text-align: right;\">87.11</td><td style = \"text-align: right;\">69.9</td><td style = \"text-align: right;\">59.06</td><td style = \"text-align: right;\">49.5</td><td style = \"text-align: right;\">47.65</td><td style = \"text-align: right;\">47.98</td><td style = \"text-align: right;\">54.69</td><td style = \"text-align: right;\">59.85</td><td style = \"text-align: right;\">58.92</td><td style = \"text-align: right;\">53.41</td><td style = \"text-align: right;\">47.54</td><td style = \"text-align: right;\">84.8783</td><td style = \"text-align: left;\">Spring</td><td style = \"text-align: left;\">Weekend</td><td style = \"text-align: right;\">15</td></tr><tr><td class = \"rowNumber\" style = \"font-weight: bold; text-align: right;\">854</td><td style = \"text-align: left;\">2023-04-17</td><td style = \"text-align: right;\">27.3</td><td style = \"text-align: right;\">14.97</td><td style = \"text-align: right;\">4.68</td><td style = \"text-align: right;\">2.34</td><td style = \"text-align: right;\">0.77</td><td style = \"text-align: right;\">1.42</td><td style = \"text-align: right;\">2.8</td><td style = \"text-align: right;\">25.6</td><td style = \"text-align: right;\">39.31</td><td style = \"text-align: right;\">46.95</td><td style = \"text-align: right;\">40.49</td><td style = \"text-align: right;\">29.19</td><td style = \"text-align: right;\">17.85</td><td style = \"text-align: right;\">5.34</td><td style = \"text-align: right;\">39.6</td><td style = \"text-align: right;\">26.82</td><td style = \"text-align: right;\">22.67</td><td style = \"text-align: right;\">10.5</td><td style = \"text-align: right;\">22.03</td><td style = \"text-align: right;\">27.01</td><td style = \"text-align: right;\">51.93</td><td style = \"text-align: right;\">79.96</td><td style = \"text-align: right;\">96.51</td><td style = \"text-align: right;\">101.23</td><td style = \"text-align: right;\">30.7196</td><td style = \"text-align: left;\">Spring</td><td style = \"text-align: left;\">Weekday</td><td style = \"text-align: right;\">16</td></tr><tr><td class = \"rowNumber\" style = \"font-weight: bold; text-align: right;\">855</td><td style = \"text-align: left;\">2023-04-18</td><td style = \"text-align: right;\">100.0</td><td style = \"text-align: right;\">98.57</td><td style = \"text-align: right;\">90.76</td><td style = \"text-align: right;\">87.48</td><td style = \"text-align: right;\">90.66</td><td style = \"text-align: right;\">97.62</td><td style = \"text-align: right;\">99.76</td><td style = \"text-align: right;\">104.71</td><td style = \"text-align: right;\">103.12</td><td style = \"text-align: right;\">97.69</td><td style = \"text-align: right;\">85.7</td><td style = \"text-align: right;\">71.24</td><td style = \"text-align: right;\">62.59</td><td style = \"text-align: right;\">45.75</td><td style = \"text-align: right;\">39.62</td><td style = \"text-align: right;\">41.28</td><td style = \"text-align: right;\">39.27</td><td style = \"text-align: right;\">37.78</td><td style = \"text-align: right;\">36.92</td><td style = \"text-align: right;\">35.75</td><td style = \"text-align: right;\">38.93</td><td style = \"text-align: right;\">43.42</td><td style = \"text-align: right;\">51.01</td><td style = \"text-align: right;\">62.86</td><td style = \"text-align: right;\">69.2704</td><td style = \"text-align: left;\">Spring</td><td style = \"text-align: left;\">Weekday</td><td style = \"text-align: right;\">16</td></tr><tr><td class = \"rowNumber\" style = \"font-weight: bold; text-align: right;\">856</td><td style = \"text-align: left;\">2023-04-19</td><td style = \"text-align: right;\">66.36</td><td style = \"text-align: right;\">66.57</td><td style = \"text-align: right;\">67.96</td><td style = \"text-align: right;\">68.54</td><td style = \"text-align: right;\">68.58</td><td style = \"text-align: right;\">71.34</td><td style = \"text-align: right;\">78.96</td><td style = \"text-align: right;\">86.11</td><td style = \"text-align: right;\">89.17</td><td style = \"text-align: right;\">87.19</td><td style = \"text-align: right;\">82.05</td><td style = \"text-align: right;\">80.23</td><td style = \"text-align: right;\">74.93</td><td style = \"text-align: right;\">68.56</td><td style = \"text-align: right;\">88.7</td><td style = \"text-align: right;\">86.43</td><td style = \"text-align: right;\">85.63</td><td style = \"text-align: right;\">87.51</td><td style = \"text-align: right;\">89.49</td><td style = \"text-align: right;\">94.45</td><td style = \"text-align: right;\">101.34</td><td style = \"text-align: right;\">107.43</td><td style = \"text-align: right;\">109.61</td><td style = \"text-align: right;\">105.51</td><td style = \"text-align: right;\">83.8604</td><td style = \"text-align: left;\">Spring</td><td style = \"text-align: left;\">Weekday</td><td style = \"text-align: right;\">16</td></tr><tr><td class = \"rowNumber\" style = \"font-weight: bold; text-align: right;\">857</td><td style = \"text-align: left;\">2023-04-20</td><td style = \"text-align: right;\">95.18</td><td style = \"text-align: right;\">89.19</td><td style = \"text-align: right;\">83.97</td><td style = \"text-align: right;\">77.94</td><td style = \"text-align: right;\">78.26</td><td style = \"text-align: right;\">88.31</td><td style = \"text-align: right;\">97.38</td><td style = \"text-align: right;\">105.96</td><td style = \"text-align: right;\">110.99</td><td style = \"text-align: right;\">108.04</td><td style = \"text-align: right;\">102.99</td><td style = \"text-align: right;\">100.86</td><td style = \"text-align: right;\">97.88</td><td style = \"text-align: right;\">94.01</td><td style = \"text-align: right;\">4.65</td><td style = \"text-align: right;\">2.08</td><td style = \"text-align: right;\">1.79</td><td style = \"text-align: right;\">2.55</td><td style = \"text-align: right;\">13.66</td><td style = \"text-align: right;\">34.95</td><td style = \"text-align: right;\">61.58</td><td style = \"text-align: right;\">82.25</td><td style = \"text-align: right;\">85.54</td><td style = \"text-align: right;\">75.86</td><td style = \"text-align: right;\">70.6612</td><td style = \"text-align: left;\">Spring</td><td style = \"text-align: left;\">Weekday</td><td style = \"text-align: right;\">16</td></tr><tr><td class = \"rowNumber\" style = \"font-weight: bold; text-align: right;\">858</td><td style = \"text-align: left;\">2023-04-21</td><td style = \"text-align: right;\">52.48</td><td style = \"text-align: right;\">33.39</td><td style = \"text-align: right;\">31.08</td><td style = \"text-align: right;\">27.0</td><td style = \"text-align: right;\">23.93</td><td style = \"text-align: right;\">26.99</td><td style = \"text-align: right;\">39.72</td><td style = \"text-align: right;\">69.47</td><td style = \"text-align: right;\">78.06</td><td style = \"text-align: right;\">82.77</td><td style = \"text-align: right;\">86.19</td><td style = \"text-align: right;\">86.36</td><td style = \"text-align: right;\">82.22</td><td style = \"text-align: right;\">77.2</td><td style = \"text-align: right;\">25.33</td><td style = \"text-align: right;\">14.4</td><td style = \"text-align: right;\">10.91</td><td style = \"text-align: right;\">2.35</td><td style = \"text-align: right;\">9.44</td><td style = \"text-align: right;\">25.58</td><td style = \"text-align: right;\">53.45</td><td style = \"text-align: right;\">81.19</td><td style = \"text-align: right;\">82.89</td><td style = \"text-align: right;\">78.65</td><td style = \"text-align: right;\">49.2104</td><td style = \"text-align: left;\">Spring</td><td style = \"text-align: left;\">Weekday</td><td style = \"text-align: right;\">16</td></tr><tr><td class = \"rowNumber\" style = \"font-weight: bold; text-align: right;\">859</td><td style = \"text-align: left;\">2023-04-22</td><td style = \"text-align: right;\">80.98</td><td style = \"text-align: right;\">82.91</td><td style = \"text-align: right;\">82.34</td><td style = \"text-align: right;\">84.6</td><td style = \"text-align: right;\">87.25</td><td style = \"text-align: right;\">90.16</td><td style = \"text-align: right;\">90.12</td><td style = \"text-align: right;\">99.28</td><td style = \"text-align: right;\">102.7</td><td style = \"text-align: right;\">94.09</td><td style = \"text-align: right;\">86.69</td><td style = \"text-align: right;\">81.2</td><td style = \"text-align: right;\">70.19</td><td style = \"text-align: right;\">48.01</td><td style = \"text-align: right;\">75.58</td><td style = \"text-align: right;\">73.73</td><td style = \"text-align: right;\">68.94</td><td style = \"text-align: right;\">63.15</td><td style = \"text-align: right;\">59.45</td><td style = \"text-align: right;\">54.94</td><td style = \"text-align: right;\">53.58</td><td style = \"text-align: right;\">55.39</td><td style = \"text-align: right;\">60.93</td><td style = \"text-align: right;\">64.4</td><td style = \"text-align: right;\">75.4421</td><td style = \"text-align: left;\">Spring</td><td style = \"text-align: left;\">Weekend</td><td style = \"text-align: right;\">16</td></tr><tr><td class = \"rowNumber\" style = \"font-weight: bold; text-align: right;\">860</td><td style = \"text-align: left;\">2023-04-23</td><td style = \"text-align: right;\">66.16</td><td style = \"text-align: right;\">63.63</td><td style = \"text-align: right;\">59.44</td><td style = \"text-align: right;\">51.57</td><td style = \"text-align: right;\">49.93</td><td style = \"text-align: right;\">50.05</td><td style = \"text-align: right;\">59.35</td><td style = \"text-align: right;\">67.83</td><td style = \"text-align: right;\">66.48</td><td style = \"text-align: right;\">59.93</td><td style = \"text-align: right;\">53.54</td><td style = \"text-align: right;\">49.03</td><td style = \"text-align: right;\">41.15</td><td style = \"text-align: right;\">35.12</td><td style = \"text-align: right;\">99.97</td><td style = \"text-align: right;\">93.33</td><td style = \"text-align: right;\">90.72</td><td style = \"text-align: right;\">84.93</td><td style = \"text-align: right;\">82.89</td><td style = \"text-align: right;\">82.76</td><td style = \"text-align: right;\">83.57</td><td style = \"text-align: right;\">84.1</td><td style = \"text-align: right;\">87.11</td><td style = \"text-align: right;\">88.39</td><td style = \"text-align: right;\">68.7908</td><td style = \"text-align: left;\">Spring</td><td style = \"text-align: left;\">Weekend</td><td style = \"text-align: right;\">16</td></tr><tr><td class = \"rowNumber\" style = \"font-weight: bold; text-align: right;\">861</td><td style = \"text-align: left;\">2023-04-24</td><td style = \"text-align: right;\">89.13</td><td style = \"text-align: right;\">83.84</td><td style = \"text-align: right;\">77.78</td><td style = \"text-align: right;\">75.7</td><td style = \"text-align: right;\">74.95</td><td style = \"text-align: right;\">76.13</td><td style = \"text-align: right;\">82.26</td><td style = \"text-align: right;\">93.51</td><td style = \"text-align: right;\">101.26</td><td style = \"text-align: right;\">101.99</td><td style = \"text-align: right;\">96.51</td><td style = \"text-align: right;\">91.14</td><td style = \"text-align: right;\">83.21</td><td style = \"text-align: right;\">69.95</td><td style = \"text-align: right;\">66.94</td><td style = \"text-align: right;\">55.63</td><td style = \"text-align: right;\">47.95</td><td style = \"text-align: right;\">47.95</td><td style = \"text-align: right;\">49.16</td><td style = \"text-align: right;\">61.03</td><td style = \"text-align: right;\">85.1</td><td style = \"text-align: right;\">94.66</td><td style = \"text-align: right;\">97.9</td><td style = \"text-align: right;\">93.08</td><td style = \"text-align: right;\">79.0317</td><td style = \"text-align: left;\">Spring</td><td style = \"text-align: left;\">Weekday</td><td style = \"text-align: right;\">17</td></tr><tr><td class = \"rowNumber\" style = \"font-weight: bold; text-align: right;\">862</td><td style = \"text-align: left;\">2023-04-25</td><td style = \"text-align: right;\">89.14</td><td style = \"text-align: right;\">86.0</td><td style = \"text-align: right;\">82.46</td><td style = \"text-align: right;\">74.17</td><td style = \"text-align: right;\">70.11</td><td style = \"text-align: right;\">64.99</td><td style = \"text-align: right;\">64.92</td><td style = \"text-align: right;\">75.49</td><td style = \"text-align: right;\">73.24</td><td style = \"text-align: right;\">73.63</td><td style = \"text-align: right;\">68.11</td><td style = \"text-align: right;\">60.85</td><td style = \"text-align: right;\">46.79</td><td style = \"text-align: right;\">46.79</td><td style = \"text-align: right;\">46.79</td><td style = \"text-align: right;\">46.79</td><td style = \"text-align: right;\">46.79</td><td style = \"text-align: right;\">46.79</td><td style = \"text-align: right;\">46.79</td><td style = \"text-align: right;\">46.79</td><td style = \"text-align: right;\">46.79</td><td style = \"text-align: right;\">46.79</td><td style = \"text-align: right;\">46.79</td><td style = \"text-align: right;\">46.79</td><td style = \"text-align: right;\">60.1912</td><td style = \"text-align: left;\">Spring</td><td style = \"text-align: left;\">Weekday</td><td style = \"text-align: right;\">17</td></tr></tbody></table></div>"
      ],
      "text/latex": [
       "\\begin{tabular}{r|cccccccccc}\n",
       "\t& Date & 0 & 1 & 2 & 3 & 4 & 5 & 6 & 7 & \\\\\n",
       "\t\\hline\n",
       "\t& Date & Float64 & Float64 & Float64 & Float64 & Float64 & Float64 & Float64 & Float64 & \\\\\n",
       "\t\\hline\n",
       "\t1 & 2020-12-15 & 17.57 & 17.57 & 16.92 & 16.88 & 18.95 & 20.39 & 22.31 & 24.59 & $\\dots$ \\\\\n",
       "\t2 & 2020-12-16 & 20.48 & 19.32 & 19.0 & 19.02 & 20.19 & 21.98 & 22.71 & 32.71 & $\\dots$ \\\\\n",
       "\t3 & 2020-12-17 & 19.03 & 17.93 & 17.53 & 17.28 & 17.97 & 20.0 & 22.09 & 23.64 & $\\dots$ \\\\\n",
       "\t4 & 2020-12-18 & 16.96 & 16.65 & 16.17 & 16.3 & 17.3 & 19.39 & 19.99 & 22.43 & $\\dots$ \\\\\n",
       "\t5 & 2020-12-19 & 16.48 & 15.98 & 15.47 & 15.31 & 15.3 & 15.52 & 15.87 & 15.92 & $\\dots$ \\\\\n",
       "\t6 & 2020-12-20 & 13.0 & 12.04 & 11.79 & 11.65 & 11.79 & 11.98 & 12.53 & 12.7 & $\\dots$ \\\\\n",
       "\t7 & 2020-12-21 & 11.9 & 11.2 & 11.5 & 11.73 & 12.81 & 14.37 & 16.67 & 19.74 & $\\dots$ \\\\\n",
       "\t8 & 2020-12-22 & 7.15 & 5.51 & 4.77 & 4.44 & 4.84 & 7.73 & 12.82 & 15.97 & $\\dots$ \\\\\n",
       "\t9 & 2020-12-23 & 13.38 & 13.1 & 12.9 & 12.93 & 13.14 & 14.72 & 15.99 & 18.59 & $\\dots$ \\\\\n",
       "\t10 & 2020-12-24 & 13.44 & 12.19 & 10.57 & 9.44 & 9.1 & 10.74 & 11.36 & 13.31 & $\\dots$ \\\\\n",
       "\t11 & 2020-12-25 & 14.95 & 14.96 & 13.97 & 12.57 & 12.9 & 13.5 & 13.12 & 14.75 & $\\dots$ \\\\\n",
       "\t12 & 2020-12-26 & 19.69 & 18.46 & 17.97 & 16.94 & 15.57 & 15.8 & 16.02 & 19.22 & $\\dots$ \\\\\n",
       "\t13 & 2020-12-27 & 4.71 & 2.37 & 1.49 & 0.96 & 0.95 & 1.26 & 1.02 & 1.57 & $\\dots$ \\\\\n",
       "\t14 & 2020-12-28 & 6.23 & 4.94 & 6.73 & 8.63 & 10.51 & 13.7 & 15.18 & 17.48 & $\\dots$ \\\\\n",
       "\t15 & 2020-12-29 & 18.02 & 17.97 & 17.67 & 17.65 & 18.0 & 18.39 & 19.96 & 20.93 & $\\dots$ \\\\\n",
       "\t16 & 2020-12-30 & 20.05 & 19.25 & 18.74 & 18.68 & 19.39 & 21.11 & 22.18 & 23.6 & $\\dots$ \\\\\n",
       "\t17 & 2020-12-31 & 21.82 & 21.13 & 20.84 & 20.73 & 21.8 & 23.37 & 23.85 & 24.11 & $\\dots$ \\\\\n",
       "\t18 & 2021-01-01 & 24.74 & 24.28 & 23.9 & 23.61 & 23.66 & 24.06 & 24.43 & 24.9 & $\\dots$ \\\\\n",
       "\t19 & 2021-01-02 & 42.51 & 40.98 & 40.93 & 40.02 & 40.64 & 46.6 & 55.78 & 88.36 & $\\dots$ \\\\\n",
       "\t20 & 2021-01-03 & 26.95 & 26.59 & 26.24 & 26.98 & 28.47 & 31.11 & 33.16 & 35.77 & $\\dots$ \\\\\n",
       "\t21 & 2021-01-04 & 22.84 & 22.4 & 22.01 & 21.88 & 22.26 & 25.04 & 32.5 & 35.1 & $\\dots$ \\\\\n",
       "\t22 & 2021-01-05 & 48.95 & 48.28 & 48.0 & 48.0 & 48.15 & 48.38 & 48.84 & 49.99 & $\\dots$ \\\\\n",
       "\t23 & 2021-01-06 & 45.29 & 43.85 & 42.88 & 42.54 & 43.63 & 48.61 & 52.72 & 55.78 & $\\dots$ \\\\\n",
       "\t24 & 2021-01-07 & 39.72 & 40.49 & 39.29 & 38.82 & 39.14 & 41.48 & 47.64 & 52.29 & $\\dots$ \\\\\n",
       "\t$\\dots$ & $\\dots$ & $\\dots$ & $\\dots$ & $\\dots$ & $\\dots$ & $\\dots$ & $\\dots$ & $\\dots$ & $\\dots$ &  \\\\\n",
       "\\end{tabular}\n"
      ],
      "text/plain": [
       "\u001b[1m862×29 DataFrame\u001b[0m\n",
       "\u001b[1m Row \u001b[0m│\u001b[1m Date       \u001b[0m\u001b[1m 0       \u001b[0m\u001b[1m 1       \u001b[0m\u001b[1m 2       \u001b[0m\u001b[1m 3       \u001b[0m\u001b[1m 4       \u001b[0m\u001b[1m 5       \u001b[0m\u001b[1m 6    \u001b[0m ⋯\n",
       "     │\u001b[90m Date       \u001b[0m\u001b[90m Float64 \u001b[0m\u001b[90m Float64 \u001b[0m\u001b[90m Float64 \u001b[0m\u001b[90m Float64 \u001b[0m\u001b[90m Float64 \u001b[0m\u001b[90m Float64 \u001b[0m\u001b[90m Float\u001b[0m ⋯\n",
       "─────┼──────────────────────────────────────────────────────────────────────────\n",
       "   1 │ 2020-12-15    17.57    17.57    16.92    16.88    18.95    20.39    22. ⋯\n",
       "   2 │ 2020-12-16    20.48    19.32    19.0     19.02    20.19    21.98    22.\n",
       "   3 │ 2020-12-17    19.03    17.93    17.53    17.28    17.97    20.0     22.\n",
       "   4 │ 2020-12-18    16.96    16.65    16.17    16.3     17.3     19.39    19.\n",
       "   5 │ 2020-12-19    16.48    15.98    15.47    15.31    15.3     15.52    15. ⋯\n",
       "   6 │ 2020-12-20    13.0     12.04    11.79    11.65    11.79    11.98    12.\n",
       "   7 │ 2020-12-21    11.9     11.2     11.5     11.73    12.81    14.37    16.\n",
       "   8 │ 2020-12-22     7.15     5.51     4.77     4.44     4.84     7.73    12.\n",
       "  ⋮  │     ⋮          ⋮        ⋮        ⋮        ⋮        ⋮        ⋮        ⋮  ⋱\n",
       " 856 │ 2023-04-19    66.36    66.57    67.96    68.54    68.58    71.34    78. ⋯\n",
       " 857 │ 2023-04-20    95.18    89.19    83.97    77.94    78.26    88.31    97.\n",
       " 858 │ 2023-04-21    52.48    33.39    31.08    27.0     23.93    26.99    39.\n",
       " 859 │ 2023-04-22    80.98    82.91    82.34    84.6     87.25    90.16    90.\n",
       " 860 │ 2023-04-23    66.16    63.63    59.44    51.57    49.93    50.05    59. ⋯\n",
       " 861 │ 2023-04-24    89.13    83.84    77.78    75.7     74.95    76.13    82.\n",
       " 862 │ 2023-04-25    89.14    86.0     82.46    74.17    70.11    64.99    64.\n",
       "\u001b[36m                                                 22 columns and 847 rows omitted\u001b[0m"
      ]
     },
     "metadata": {},
     "output_type": "display_data"
    }
   ],
   "source": [
    "filepath_prices = dirname(pwd()) * \"\\\\Inflow Forecasting\\\\Data\\\\Spot Prices\\\\prices_df.csv\"\n",
    "filepath_inflows = dirname(pwd()) * \"\\\\Inflow Forecasting\\\\Data\\\\Inflow\\\\Data from Flasjoen and Holmsjoen.csv\"\n",
    "\n",
    "inflow_data = prepare_inflowdata(filepath_inflows)\n",
    "price_data = prepare_pricedata(filepath_prices)"
   ]
  },
  {
   "cell_type": "markdown",
   "metadata": {},
   "source": [
    "### Price Forecasting\n",
    "\n",
    "Price is sensitive to various factors. Daytime, Weekday and time of year play a relevant role in how prices usually behave.\n",
    "\n",
    "* For the bidding and short-term optimization problems, part of the uncertainty lies in unknown hourly prices.\n",
    "\n",
    "* For the medium term problem, we are interested in daily (average) prices.\n",
    "\n",
    "* We want to obtain Price Points which will be important in the analysis from the historic data.\n",
    "\n",
    "* We need penalty parameters for using the balancing markets, which could be obtained from using maximum / minimum values fromm observed spot market prices / generated scenarios."
   ]
  },
  {
   "cell_type": "code",
   "execution_count": 24,
   "metadata": {},
   "outputs": [
    {
     "data": {
      "text/plain": [
       "Tuple{Float64, Float64}"
      ]
     },
     "metadata": {},
     "output_type": "display_data"
    }
   ],
   "source": [
    "const scenario_count_prices_hourly = 10\n",
    "const scenario_count_prices_weekly = 2\n",
    "const stage_count = 8\n",
    "const price_point_count = 5\n",
    "\n",
    "PriceScenariosMedium = Price_Scenarios_Weekly(price_data, scenario_count_prices_weekly)\n",
    "PriceScenariosShort = Price_Scenarios_Hourly(price_data, scenario_count_prices_hourly)\n",
    "PPoints = Create_Price_Points(price_data, 5)\n",
    "mu_up, mu_down = BalanceParameters(PriceScenariosShort)"
   ]
  },
  {
   "cell_type": "markdown",
   "metadata": {},
   "source": [
    "### Inflow Forecasting\n",
    "\n",
    "Inflow has extreme seasonal differences, depending on geographical location.  \n",
    "For the Ljungan River System we could observe that most inflow occurs during the spring melt around May."
   ]
  },
  {
   "cell_type": "code",
   "execution_count": 5,
   "metadata": {},
   "outputs": [
    {
     "ename": "UndefVarError",
     "evalue": "UndefVarError: `Inflow_Scenarios_Weekly` not defined",
     "output_type": "error",
     "traceback": [
      "UndefVarError: `Inflow_Scenarios_Weekly` not defined\n",
      "\n",
      "Stacktrace:\n",
      " [1] top-level scope\n",
      "   @ c:\\Users\\lenna\\OneDrive - NTNU\\Code Master Thesis\\DevelopmentNotebooks\\SimulationSkeleton.ipynb:4"
     ]
    }
   ],
   "source": [
    "#InflowScenariosShort = inflow_generation_short(inflow_data)\n",
    "const ColumnReservoir = Dict{Reservoir, String}(R[1] => \"Flasjon Inflow\", R[2] => \"Holmsjon Inflow\")\n",
    "const scenario_count_inflows_weekly = 2\n",
    "InflowScenariosMedium = Inflow_Scenarios_Weekly(inflow_data, ColumnReservoir, scenario_count_inflows_weekly, R)\n"
   ]
  },
  {
   "cell_type": "markdown",
   "metadata": {},
   "source": [
    "### Create Uncertainty Set\n",
    "\n",
    "Depending on the Problem, we create the uncertainty sets from both price and inflow Scenarios.\n",
    "This becomes more difficult for the Anticipatory Bidding Problem."
   ]
  },
  {
   "cell_type": "code",
   "execution_count": 6,
   "metadata": {},
   "outputs": [
    {
     "ename": "UndefVarError",
     "evalue": "UndefVarError: `create_Ω_medium` not defined",
     "output_type": "error",
     "traceback": [
      "UndefVarError: `create_Ω_medium` not defined\n",
      "\n",
      "Stacktrace:\n",
      " [1] top-level scope\n",
      "   @ c:\\Users\\lenna\\OneDrive - NTNU\\Code Master Thesis\\DevelopmentNotebooks\\SimulationSkeleton.ipynb:1"
     ]
    }
   ],
   "source": [
    "Ω_medium, P_medium =  create_Ω_medium(PriceScenariosMedium, InflowScenariosMedium, R)\n",
    "\n",
    "Ω_NA, P_NA = create_Ω_Nonanticipatory(PriceScenariosShort, )\n",
    "\n",
    "Ω_A, P_A = create_Ω_Anticipatory()"
   ]
  },
  {
   "cell_type": "markdown",
   "metadata": {},
   "source": [
    "### Reference Flow\n",
    "\n",
    "To calculate a reference flow for each reservoir, the Water Regulation Company has to combine information from inflow, historical reservoir trajectories and current reservoir level.  "
   ]
  },
  {
   "cell_type": "code",
   "execution_count": 7,
   "metadata": {},
   "outputs": [
    {
     "data": {
      "text/plain": [
       "calculate_reference_flow (generic function with 1 method)"
      ]
     },
     "metadata": {},
     "output_type": "display_data"
    }
   ],
   "source": [
    "function calculate_reference_flow(R::Array{Reservoir}, l_traj::Dict{Reservoir, Float64}, Qinflow::Dict{Reservoir, Float64})::Dict{Reservoir, Float64}\n",
    "    Qref = Dict{Reservoir, Float64}()\n",
    "    for r in R\n",
    "        Qref[r] = (r.currentvolume - l_traj[r]) / T + Qinflow[r]\n",
    "    end\n",
    "    return Qref\n",
    "end"
   ]
  },
  {
   "cell_type": "markdown",
   "metadata": {},
   "source": [
    "## Participants\n",
    "\n",
    "Every Participant individually plans their bidding and production. Irrespective of the strategy, only limited information is available. Internal to the participants problems are \n",
    "\n",
    "* Price Forecasts\n",
    "* Nomination to Water Regulation Company\n",
    "* Bidding at Electricity Market\n",
    "\n",
    "### Medium Term Problem\n",
    "\n",
    "The Medium Term / Seasonal Optimization Problem is necessary to obtain Cuts for the Water Value Function.\n",
    "\n",
    "Therefor the point of a functioin containing this decision model is to return cut coefficients of the Water Value Function.\n",
    "\n",
    "* What are the inputs to the Medium Term problem?\n",
    "* How are the cuts calculated?\n",
    "* How many cuts should be calculated?"
   ]
  },
  {
   "cell_type": "code",
   "execution_count": 8,
   "metadata": {},
   "outputs": [
    {
     "data": {
      "text/plain": [
       "WaterValueCutGeneration (generic function with 1 method)"
      ]
     },
     "metadata": {},
     "output_type": "display_data"
    }
   ],
   "source": [
    "function MediumTermOptimization()\n",
    "    return\n",
    "end\n",
    "\n",
    "function WaterValueCutGeneration()\n",
    "    return\n",
    "end"
   ]
  },
  {
   "cell_type": "markdown",
   "metadata": {},
   "source": [
    "### Bidding Problem\n"
   ]
  },
  {
   "cell_type": "markdown",
   "metadata": {},
   "source": [
    "### Short Term Optimization"
   ]
  },
  {
   "cell_type": "markdown",
   "metadata": {},
   "source": [
    "### Real Time Balancing and Scheduling"
   ]
  },
  {
   "cell_type": "markdown",
   "metadata": {},
   "source": [
    "# Simulation\n",
    "\n",
    "For a preset amount of rounds, we simulate the reservoir system through the functions and structures as described above. It is important to have a way to save results adequately! This encapsulates the calculations, and evaluations and visualizations can take place at a later point in time."
   ]
  }
 ],
 "metadata": {
  "kernelspec": {
   "display_name": "Julia 1.9.2",
   "language": "julia",
   "name": "julia-1.9"
  },
  "language_info": {
   "file_extension": ".jl",
   "mimetype": "application/julia",
   "name": "julia",
   "version": "1.9.2"
  },
  "orig_nbformat": 4
 },
 "nbformat": 4,
 "nbformat_minor": 2
}
