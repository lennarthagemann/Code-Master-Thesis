{
 "cells": [
  {
   "cell_type": "code",
   "execution_count": 1,
   "metadata": {},
   "outputs": [],
   "source": [
    "using JuMP\n",
    "using CPLEX\n",
    "using Distributions\n",
    "using LinearAlgebra\n",
    "using Statistics\n",
    "using Dates\n",
    "using DataFrames\n",
    "using SDDP\n",
    "using Plots\n",
    "using CSV\n",
    "using JSON\n",
    "using UUIDs\n",
    "using Serialization\n",
    "try\n",
    "    using Revise\n",
    "catch e\n",
    "    @warn \"Error initializing Revise\" exception=(e, catch_backtrace())\n",
    "end\n",
    "\n",
    "includet(dirname(pwd()) * \"\\\\Water_Regulation\\\\WaterRegulation.jl\")\n",
    "using .WaterRegulation"
   ]
  },
  {
   "cell_type": "markdown",
   "metadata": {},
   "source": [
    "### Simulations of Water Regulation Procedure\n",
    "\n",
    "We would like to set up a skeleton for the day-to-day decision making of hydropower producers and the Water Regulation Company. The main steps of the Water Regulation company consist of:\n",
    "\n",
    "* Determining a Reference Flow for the next nomination period (Inflow Forecasting)\n",
    "* Receiving pre-bid nominations and calculating adjusted flow, power swaps, etc. -> Send these parameters back to the participants\n",
    "* Recalculate based on renominations by power producers after bidding\n",
    "\n",
    "For the Power Producers / Participants:  \n",
    "\n",
    "* Fetch and Calculate all Parameters for the Water Regulation Procedure (Individual Reservoir Level etc.)\n",
    "* Price and Inflow Forecasting (Fix Price Points)\n",
    "* Medium-Term Hydropower Model Calculation, obtain Water Value Cuts\n",
    "* Decision Model 1: Bidding and Pre-Market Clearing Nomination\n",
    "* Decision Model 2: Short-Term Optimization and Renomination\n",
    "* Decision Model 3: Fixed Water Flow scheduling and real time balancing\n",
    "\n",
    "This constitutes one round of simulation.\n"
   ]
  },
  {
   "cell_type": "code",
   "execution_count": 2,
   "metadata": {},
   "outputs": [
    {
     "name": "stdout",
     "output_type": "stream",
     "text": [
      "The reservoir system consists of [\"Flasjon\", \"Holsmjon\"]\n",
      "Downstream of the reservoirs we have power plants [\"Flasjo\", \"Trangfors\", \"Ratan\", \"Turinge\", \"Bursnas\", \"Jarnvagsforsen\", \"Parteboda\", \"Hermansboda\", \"Ljunga\", \"Nederede\", \"Skallbole\", \"Matfors\", \"Viforsen\"]"
     ]
    },
    {
     "name": "stdout",
     "output_type": "stream",
     "text": [
      "\n",
      "Sydkraft owns HydropowerPlant[Flasjo, Trangfors, Ratan, Turinge, Bursnas], which constitutes a participation rate of: \n",
      " "
     ]
    },
    {
     "name": "stdout",
     "output_type": "stream",
     "text": [
      "________________________________\n",
      "Flasjon  | 1.84    \n",
      "Holsmjon | 0.0     \n",
      "\n",
      "Fortum owns HydropowerPlant[Parteboda, Hermansboda, Ljunga], which constitutes a participation rate of: \n",
      " ________________________________\n",
      "Flasjon  | 0.8200000000000001\n",
      "Holsmjon | 0.8200000000000001\n",
      "\n",
      "Statkraft owns HydropowerPlant[Nederede, Skallbole, Matfors, Viforsen, Jarnvagsforsen], which constitutes a participation rate of: \n",
      " ________________________________\n",
      "Flasjon  | 1.86    \n",
      "Holsmjon | 1.86    \n",
      "\n"
     ]
    }
   ],
   "source": [
    "filepath_Ljungan = dirname(pwd()) * \"\\\\Water_Regulation\\\\TestDataWaterRegulation\\\\Ljungan.json\"\n",
    "filepath_prices = dirname(pwd()) *  \"\\\\Data\\\\Spot Prices\\\\prices_df.csv\"\n",
    "filepath_results = dirname(pwd()) * \"\\\\Results\\\\LambdaZero\\\\\"\n",
    "R, K, J = read_data(filepath_Ljungan)\n",
    "\n",
    "println(\"The reservoir system consists of $([r.dischargepoint for r in R])\")\n",
    "println(\"Downstream of the reservoirs we have power plants $([k.name for k in K])\")\n",
    "for j in J\n",
    "    println(\"$(j.name) owns $(j.plants), which constitutes a participation rate of: \\n \", j.participationrate)\n",
    "end\n"
   ]
  },
  {
   "cell_type": "markdown",
   "metadata": {},
   "source": [
    "#### Load Data\n",
    "\n",
    "Other than the river system, the relevant data for optimization is organized in Dataframes.\n",
    "We load in cleaned versions of the data."
   ]
  },
  {
   "cell_type": "code",
   "execution_count": 3,
   "metadata": {},
   "outputs": [
    {
     "data": {
      "text/html": [
       "<div><div style = \"float: left;\"><span>10×11 DataFrame</span></div><div style = \"clear: both;\"></div></div><div class = \"data-frame\" style = \"overflow-x: scroll;\"><table class = \"data-frame\" style = \"margin-bottom: 6px;\"><thead><tr class = \"header\"><th class = \"rowNumber\" style = \"font-weight: bold; text-align: right;\">Row</th><th style = \"text-align: left;\">Date</th><th style = \"text-align: left;\">Flasjon Water Level</th><th style = \"text-align: left;\">Flasjon Volume</th><th style = \"text-align: left;\">Flasjon Inflow</th><th style = \"text-align: left;\">Flasjon discharge</th><th style = \"text-align: left;\">Holmsjon Water Level</th><th style = \"text-align: left;\">Holmsjon Volume</th><th style = \"text-align: left;\">Holmsjon Inflow</th><th style = \"text-align: left;\">Holmsjon Discharge</th><th style = \"text-align: left;\">CalendarWeek</th><th style = \"text-align: left;\">year</th></tr><tr class = \"subheader headerLastRow\"><th class = \"rowNumber\" style = \"font-weight: bold; text-align: right;\"></th><th title = \"Date\" style = \"text-align: left;\">Date</th><th title = \"Float64\" style = \"text-align: left;\">Float64</th><th title = \"Float64\" style = \"text-align: left;\">Float64</th><th title = \"Float64\" style = \"text-align: left;\">Float64</th><th title = \"Float64\" style = \"text-align: left;\">Float64</th><th title = \"Float64\" style = \"text-align: left;\">Float64</th><th title = \"Int64\" style = \"text-align: left;\">Int64</th><th title = \"Float64\" style = \"text-align: left;\">Float64</th><th title = \"Float64\" style = \"text-align: left;\">Float64</th><th title = \"Int64\" style = \"text-align: left;\">Int64</th><th title = \"Int64\" style = \"text-align: left;\">Int64</th></tr></thead><tbody><tr><td class = \"rowNumber\" style = \"font-weight: bold; text-align: right;\">1</td><td style = \"text-align: left;\">2006-01-01</td><td style = \"text-align: right;\">484.0</td><td style = \"text-align: right;\">2087.0</td><td style = \"text-align: right;\">12.8</td><td style = \"text-align: right;\">49.0</td><td style = \"text-align: right;\">244.39</td><td style = \"text-align: right;\">1928</td><td style = \"text-align: right;\">13.6</td><td style = \"text-align: right;\">53.2</td><td style = \"text-align: right;\">52</td><td style = \"text-align: right;\">2006</td></tr><tr><td class = \"rowNumber\" style = \"font-weight: bold; text-align: right;\">2</td><td style = \"text-align: left;\">2006-01-02</td><td style = \"text-align: right;\">483.83</td><td style = \"text-align: right;\">2056.0</td><td style = \"text-align: right;\">13.6</td><td style = \"text-align: right;\">49.0</td><td style = \"text-align: right;\">244.42</td><td style = \"text-align: right;\">1947</td><td style = \"text-align: right;\">22.7</td><td style = \"text-align: right;\">89.1</td><td style = \"text-align: right;\">1</td><td style = \"text-align: right;\">2006</td></tr><tr><td class = \"rowNumber\" style = \"font-weight: bold; text-align: right;\">3</td><td style = \"text-align: left;\">2006-01-03</td><td style = \"text-align: right;\">483.69</td><td style = \"text-align: right;\">2031.0</td><td style = \"text-align: right;\">10.2</td><td style = \"text-align: right;\">49.0</td><td style = \"text-align: right;\">244.41</td><td style = \"text-align: right;\">1941</td><td style = \"text-align: right;\">13.4</td><td style = \"text-align: right;\">85.9</td><td style = \"text-align: right;\">1</td><td style = \"text-align: right;\">2006</td></tr><tr><td class = \"rowNumber\" style = \"font-weight: bold; text-align: right;\">4</td><td style = \"text-align: left;\">2006-01-04</td><td style = \"text-align: right;\">483.52</td><td style = \"text-align: right;\">2000.0</td><td style = \"text-align: right;\">10.2</td><td style = \"text-align: right;\">50.0</td><td style = \"text-align: right;\">244.41</td><td style = \"text-align: right;\">1941</td><td style = \"text-align: right;\">23.0</td><td style = \"text-align: right;\">88.1</td><td style = \"text-align: right;\">1</td><td style = \"text-align: right;\">2006</td></tr><tr><td class = \"rowNumber\" style = \"font-weight: bold; text-align: right;\">5</td><td style = \"text-align: left;\">2006-01-05</td><td style = \"text-align: right;\">483.34</td><td style = \"text-align: right;\">1968.0</td><td style = \"text-align: right;\">8.2</td><td style = \"text-align: right;\">52.0</td><td style = \"text-align: right;\">244.41</td><td style = \"text-align: right;\">1941</td><td style = \"text-align: right;\">15.0</td><td style = \"text-align: right;\">86.2</td><td style = \"text-align: right;\">1</td><td style = \"text-align: right;\">2006</td></tr><tr><td class = \"rowNumber\" style = \"font-weight: bold; text-align: right;\">6</td><td style = \"text-align: left;\">2006-01-06</td><td style = \"text-align: right;\">483.14</td><td style = \"text-align: right;\">1932.0</td><td style = \"text-align: right;\">7.9</td><td style = \"text-align: right;\">52.0</td><td style = \"text-align: right;\">244.4</td><td style = \"text-align: right;\">1934</td><td style = \"text-align: right;\">19.1</td><td style = \"text-align: right;\">74.2</td><td style = \"text-align: right;\">1</td><td style = \"text-align: right;\">2006</td></tr><tr><td class = \"rowNumber\" style = \"font-weight: bold; text-align: right;\">7</td><td style = \"text-align: left;\">2006-01-07</td><td style = \"text-align: right;\">482.94</td><td style = \"text-align: right;\">1896.0</td><td style = \"text-align: right;\">6.2</td><td style = \"text-align: right;\">53.0</td><td style = \"text-align: right;\">244.41</td><td style = \"text-align: right;\">1941</td><td style = \"text-align: right;\">16.0</td><td style = \"text-align: right;\">84.2</td><td style = \"text-align: right;\">1</td><td style = \"text-align: right;\">2006</td></tr><tr><td class = \"rowNumber\" style = \"font-weight: bold; text-align: right;\">8</td><td style = \"text-align: left;\">2006-01-08</td><td style = \"text-align: right;\">482.73</td><td style = \"text-align: right;\">1860.0</td><td style = \"text-align: right;\">11.2</td><td style = \"text-align: right;\">53.0</td><td style = \"text-align: right;\">244.4</td><td style = \"text-align: right;\">1934</td><td style = \"text-align: right;\">22.0</td><td style = \"text-align: right;\">85.2</td><td style = \"text-align: right;\">1</td><td style = \"text-align: right;\">2006</td></tr><tr><td class = \"rowNumber\" style = \"font-weight: bold; text-align: right;\">9</td><td style = \"text-align: left;\">2006-01-09</td><td style = \"text-align: right;\">482.53</td><td style = \"text-align: right;\">1826.0</td><td style = \"text-align: right;\">2.6</td><td style = \"text-align: right;\">53.0</td><td style = \"text-align: right;\">244.39</td><td style = \"text-align: right;\">1928</td><td style = \"text-align: right;\">-0.3</td><td style = \"text-align: right;\">104.2</td><td style = \"text-align: right;\">2</td><td style = \"text-align: right;\">2006</td></tr><tr><td class = \"rowNumber\" style = \"font-weight: bold; text-align: right;\">10</td><td style = \"text-align: left;\">2006-01-10</td><td style = \"text-align: right;\">482.3</td><td style = \"text-align: right;\">1786.0</td><td style = \"text-align: right;\">9.6</td><td style = \"text-align: right;\">54.0</td><td style = \"text-align: right;\">244.34</td><td style = \"text-align: right;\">1898</td><td style = \"text-align: right;\">12.9</td><td style = \"text-align: right;\">103.2</td><td style = \"text-align: right;\">2</td><td style = \"text-align: right;\">2006</td></tr></tbody></table></div>"
      ],
      "text/latex": [
       "\\begin{tabular}{r|cccccc}\n",
       "\t& Date & Flasjon Water Level & Flasjon Volume & Flasjon Inflow & Flasjon discharge & \\\\\n",
       "\t\\hline\n",
       "\t& Date & Float64 & Float64 & Float64 & Float64 & \\\\\n",
       "\t\\hline\n",
       "\t1 & 2006-01-01 & 484.0 & 2087.0 & 12.8 & 49.0 & $\\dots$ \\\\\n",
       "\t2 & 2006-01-02 & 483.83 & 2056.0 & 13.6 & 49.0 & $\\dots$ \\\\\n",
       "\t3 & 2006-01-03 & 483.69 & 2031.0 & 10.2 & 49.0 & $\\dots$ \\\\\n",
       "\t4 & 2006-01-04 & 483.52 & 2000.0 & 10.2 & 50.0 & $\\dots$ \\\\\n",
       "\t5 & 2006-01-05 & 483.34 & 1968.0 & 8.2 & 52.0 & $\\dots$ \\\\\n",
       "\t6 & 2006-01-06 & 483.14 & 1932.0 & 7.9 & 52.0 & $\\dots$ \\\\\n",
       "\t7 & 2006-01-07 & 482.94 & 1896.0 & 6.2 & 53.0 & $\\dots$ \\\\\n",
       "\t8 & 2006-01-08 & 482.73 & 1860.0 & 11.2 & 53.0 & $\\dots$ \\\\\n",
       "\t9 & 2006-01-09 & 482.53 & 1826.0 & 2.6 & 53.0 & $\\dots$ \\\\\n",
       "\t10 & 2006-01-10 & 482.3 & 1786.0 & 9.6 & 54.0 & $\\dots$ \\\\\n",
       "\\end{tabular}\n"
      ],
      "text/plain": [
       "\u001b[1m10×11 DataFrame\u001b[0m\n",
       "\u001b[1m Row \u001b[0m│\u001b[1m Date       \u001b[0m\u001b[1m Flasjon Water Level \u001b[0m\u001b[1m Flasjon Volume \u001b[0m\u001b[1m Flasjon Inflow \u001b[0m\u001b[1m Flasjo\u001b[0m ⋯\n",
       "     │\u001b[90m Date       \u001b[0m\u001b[90m Float64             \u001b[0m\u001b[90m Float64        \u001b[0m\u001b[90m Float64        \u001b[0m\u001b[90m Float6\u001b[0m ⋯\n",
       "─────┼──────────────────────────────────────────────────────────────────────────\n",
       "   1 │ 2006-01-01               484.0           2087.0            12.8         ⋯\n",
       "   2 │ 2006-01-02               483.83          2056.0            13.6\n",
       "   3 │ 2006-01-03               483.69          2031.0            10.2\n",
       "   4 │ 2006-01-04               483.52          2000.0            10.2\n",
       "   5 │ 2006-01-05               483.34          1968.0             8.2         ⋯\n",
       "   6 │ 2006-01-06               483.14          1932.0             7.9\n",
       "   7 │ 2006-01-07               482.94          1896.0             6.2\n",
       "   8 │ 2006-01-08               482.73          1860.0            11.2\n",
       "   9 │ 2006-01-09               482.53          1826.0             2.6         ⋯\n",
       "  10 │ 2006-01-10               482.3           1786.0             9.6\n",
       "\u001b[36m                                                               7 columns omitted\u001b[0m"
      ]
     },
     "metadata": {},
     "output_type": "display_data"
    }
   ],
   "source": [
    "filepath_prices = dirname(pwd()) * \"\\\\Inflow Forecasting\\\\Data\\\\Spot Prices\\\\prices_df.csv\"\n",
    "filepath_inflows = dirname(pwd()) * \"\\\\Inflow Forecasting\\\\Data\\\\Inflow\\\\Data from Flasjoen and Holmsjoen.csv\"\n",
    "\n",
    "price_data = prepare_pricedata(filepath_prices)\n",
    "inflow_data = prepare_inflowdata(filepath_inflows)\n",
    "\n",
    "first(inflow_data, 10)"
   ]
  },
  {
   "cell_type": "markdown",
   "metadata": {},
   "source": [
    "### Price Forecasting\n",
    "\n",
    "Price is sensitive to various factors. Daytime, Weekday and time of year play a relevant role in how prices usually behave.\n",
    "\n",
    "* For the bidding and short-term optimization problems, part of the uncertainty lies in unknown hourly prices.\n",
    "\n",
    "* For the medium term problem, we are interested in daily (average) prices.\n",
    "\n",
    "* We want to obtain Price Points which will be important in the analysis from the historic data.\n",
    "\n",
    "* We need penalty parameters for using the balancing markets, which could be obtained from using maximum / minimum values fromm observed spot market prices / generated scenarios."
   ]
  },
  {
   "cell_type": "code",
   "execution_count": 12,
   "metadata": {},
   "outputs": [
    {
     "data": {
      "text/plain": [
       "(93.08, 5.0)"
      ]
     },
     "metadata": {},
     "output_type": "display_data"
    }
   ],
   "source": [
    "const scenario_count_prices_short = 10\n",
    "const scenario_count_prices_medium = 2\n",
    "const stage_count_short = 8\n",
    "const stage_count_medium = 52\n",
    "const price_point_count = 5\n",
    "const T = 24\n",
    "\n",
    "PriceScenariosMedium = Price_Scenarios_Medium(price_data, scenario_count_prices_medium)\n",
    "PriceScenariosShort = Price_Scenarios_Short(price_data, scenario_count_prices_short, stage_count_short)\n",
    "PPoints = Create_Price_Points(price_data, 5)\n",
    "mu_up, mu_down = BalanceParameters(PriceScenariosShort)"
   ]
  },
  {
   "cell_type": "markdown",
   "metadata": {},
   "source": [
    "### Inflow Forecasting\n",
    "\n",
    "Inflow has extreme seasonal differences, depending on geographical location.  \n",
    "For the Ljungan River System we could observe that most inflow occurs during the spring melt around May."
   ]
  },
  {
   "cell_type": "code",
   "execution_count": 5,
   "metadata": {},
   "outputs": [
    {
     "data": {
      "text/plain": [
       "8-element Vector{Pair{Int64, Dict{Reservoir, Vector{Float64}}}}:\n",
       " 5 => Dict(Flasjon => [20.95, 6.34, 6.67, 16.2, 5.8, 11.6, 7.48, 15.3, 13.49, 11.3], Holsmjon => [32.9, 17.4, 15.0, 22.0, 15.2, 21.6, 2.2, 32.9, 32.9, 12.2])\n",
       " 4 => Dict(Flasjon => [8.18, 6.58, 8.6, 8.2, 20.95, 8.21, 7.35, 11.6, 15.3, 12.86], Holsmjon => [4.0, 38.9, 0.0, 54.6, 29.9, 43.9, 54.8, 49.7, 0.0, 0.0])\n",
       " 6 => Dict(Flasjon => [5.18, 10.63, 7.2, 7.35, 15.3, 1.88, 7.4, 7.8, 15.4, 20.95], Holsmjon => [28.3, 49.7, 25.7, 77.5, 14.5, 0.0, 9.2, 26.2, 49.7, 13.9])\n",
       " 7 => Dict(Flasjon => [7.25, 10.2, 5.33, 5.79, 10.87, 9.71, 7.62, 10.52, 15.4, 7.2], Holsmjon => [24.4, 26.4, 4.7, 12.2, 12.2, 21.5, 48.1, 23.5, 11.7, 20.0])\n",
       " 2 => Dict(Flasjon => [0.0, 8.21, 6.05, 5.33, 8.21, 8.91, 2.51, 6.34, 6.05, 5.32], Holsmjon => [0.0, 16.0, 16.1, 33.6, 0.0, 4.1, 20.4, 22.7, 20.4, 0.0])\n",
       " 8 => Dict(Flasjon => [5.8, 7.2, 5.33, 8.41, 6.6, 9.92, 1.88, 9.05, 6.82, 10.43], Holsmjon => [11.0, 57.8, 0.0, 29.9, 14.5, 0.0, 0.0, 48.7, 33.2, 0.0])\n",
       " 3 => Dict(Flasjon => [7.48, 10.37, 9.31, 7.83, 15.4, 10.25, 8.18, 7.63, 10.25, 4.45], Holsmjon => [7.8, 33.6, 0.0, 11.0, 0.0, 26.4, 9.2, 2.7, 57.8, 3.3])\n",
       " 1 => Dict(Flasjon => [6.75, 10.3, 4.45, 11.0, 7.62, 11.3, 8.2, 7.49, 2.33, 7.01], Holsmjon => [7.8, 57.8, 11.0, 20.4, 20.0, 22.7, 43.9, 36.2, 22.6, 38.9])"
      ]
     },
     "metadata": {},
     "output_type": "display_data"
    }
   ],
   "source": [
    "const ColumnReservoir = Dict{Reservoir, String}(R[1] => \"Flasjon Inflow\", R[2] => \"Holmsjon Inflow\")\n",
    "const scenario_count_inflows_weekly = 2\n",
    "const scenario_count_inflows_short = 1\n",
    "\n",
    "\n",
    "InflowScenariosShort = Inflow_Scenarios_Short(inflow_data, 1, ColumnReservoir, R, stage_count_short, scenario_count_prices_short)\n",
    "InflowScenariosMedium = Inflow_Scenarios_Medium(inflow_data, ColumnReservoir, scenario_count_inflows_weekly, R)\n",
    "first(InflowScenariosShort, 10)"
   ]
  },
  {
   "cell_type": "markdown",
   "metadata": {},
   "source": [
    "### Create Uncertainty Set\n",
    "\n",
    "Depending on the Problem, we create the uncertainty sets from both price and inflow Scenarios.\n",
    "This becomes more difficult for the Anticipatory Bidding Problem."
   ]
  },
  {
   "cell_type": "code",
   "execution_count": 13,
   "metadata": {},
   "outputs": [
    {
     "data": {
      "text/plain": [
       "create_Ω_Anticipatory (generic function with 2 methods)"
      ]
     },
     "metadata": {},
     "output_type": "display_data"
    }
   ],
   "source": [
    "Ω_medium, P_medium =  create_Ω_medium(PriceScenariosMedium, InflowScenariosMedium, R);\n",
    "Ω_NA, P_NA = create_Ω_Nonanticipatory(PriceScenariosShort, InflowScenariosShort, R, stage_count_short)\n",
    "Ω_NA[1]\n",
    "\n",
    "\"\"\"\n",
    "    create_Ω_Anticipatory(PriceScenariosShort, InflowScenariosShort, j, R)\n",
    "\n",
    "    create Uncertainty Set for the Anticipatory Problem: \n",
    "    Addiitionally to the Nonanticipatory Case, we associate deterministic sets of inflows and prices with other producers' nominations.\n",
    "    The Uncertainty set is extended entrywise by the others' nomination. \n",
    "\"\"\"\n",
    "\n",
    "function create_Ω_Anticipatory(PriceScenariosShort, InflowScenariosShort, OthersNominations, j::Participant, R::Vector{Reservoir}, stage_count = stage_count_bidding)\n",
    "    Ω = Dict(i => [(inflow = Dict(r => InflowScenariosShort[i][r][j] for r in R), price = c) for c in PriceScenariosShort[i] for j in eachindex(InflowScenariosShort[i][R[1]])] for i in 1:stage_count)\n",
    "    P = Dict(s => [1/length(eachindex(Ω[s])) for i in eachindex(Ω[s])] for s in 1:stage_count)\n",
    "    return Ω, P\n",
    "end\n",
    "# Ω_A, P_A = create_Ω_Anticipatory()"
   ]
  },
  {
   "cell_type": "markdown",
   "metadata": {},
   "source": [
    "### Reference Flow\n",
    "\n",
    "To calculate a reference flow for each reservoir, the Water Regulation Company has to combine information from inflow, historical reservoir trajectories and current reservoir level.  "
   ]
  },
  {
   "cell_type": "code",
   "execution_count": 14,
   "metadata": {},
   "outputs": [
    {
     "data": {
      "text/plain": [
       "Dict{Reservoir, Float64} with 2 entries:\n",
       "  Flasjon  => -97.0201\n",
       "  Holsmjon => -80.76"
      ]
     },
     "metadata": {},
     "output_type": "display_data"
    }
   ],
   "source": [
    "l_traj, f = AverageReservoirLevel(R, inflow_data)\n",
    "Qref = CalculateReferenceFlow(R, l_traj, f, 2)"
   ]
  },
  {
   "cell_type": "markdown",
   "metadata": {},
   "source": [
    "## Participants\n",
    "\n",
    "Every Participant individually plans their bidding and production. Irrespective of the strategy, only limited information is available. Internal to the participants problems are \n",
    "\n",
    "* Price Forecasts\n",
    "* Nomination to Water Regulation Company\n",
    "* Bidding at Electricity Market\n",
    "\n",
    "### Medium Term Problem\n",
    "\n",
    "The Medium Term / Seasonal Optimization Problem is necessary to obtain Cuts for the Water Value Function.\n",
    "\n",
    "Therefor the point of a functioin containing this decision model is to return cut coefficients of the Water Value Function.\n",
    "\n",
    "* What are the inputs to the Medium Term problem?\n",
    "* How are the cuts calculated?\n",
    "* How many cuts should be calculated?"
   ]
  },
  {
   "cell_type": "code",
   "execution_count": 15,
   "metadata": {},
   "outputs": [
    {
     "name": "stdout",
     "output_type": "stream",
     "text": [
      "WARNING: numerical stability issues detected\n",
      "  - bounds range contains large coefficients\n",
      "Very large or small absolute values of coefficients\n",
      "can cause numerical stability issues. Consider\n",
      "reformulating the model.\n"
     ]
    },
    {
     "name": "stdout",
     "output_type": "stream",
     "text": [
      "WARNING: numerical stability issues detected\n",
      "  - bounds range contains large coefficients\n",
      "Very large or small absolute values of coefficients\n",
      "can cause numerical stability issues. Consider\n",
      "reformulating the model.\n"
     ]
    },
    {
     "name": "stdout",
     "output_type": "stream",
     "text": [
      "Dict{Participant, SDDP.PolicyGraph}(Statkraft => A policy graph with 52 nodes."
     ]
    },
    {
     "name": "stdout",
     "output_type": "stream",
     "text": [
      "\n",
      " Node indices: 1, ..., 52\n",
      ", Sydkraft => A policy graph with 52 nodes.\n",
      " Node indices: 1, ..., 52\n",
      ", Fortum => A policy graph with 52 nodes.\n",
      " Node indices: 1, ..., 52\n",
      ")\n",
      "Dict{Participant, SDDP.PolicyGraph}(Statkraft => A policy graph with 52 nodes.\n",
      " Node indices: 1, ..., 52\n",
      ", Sydkraft => A policy graph with 52 nodes.\n",
      " Node indices: 1, ..., 52\n",
      ", Fortum => A policy graph with 52 nodes.\n",
      " Node indices: 1, ..., 52\n",
      ")\n"
     ]
    }
   ],
   "source": [
    "const iterations = 10\n",
    "\n",
    "const savepath_watervalue = \"C:\\\\Users\\\\lenna\\\\OneDrive - NTNU\\\\Code Master Thesis\\\\Inflow Forecasting\\\\WaterValue\"\n",
    "\n",
    "WaterValueDictionary_j, WaterValueDictionary_O = MediumModelsAllParticipants(J, R, Ω_medium, P_medium, stage_count_medium, iterations)\n",
    "println(WaterValueDictionary_j)\n",
    "println(WaterValueDictionary_O)\n",
    "SaveMediumModel(savepath_watervalue * \"\\\\Participant.jls\", WaterValueDictionary_j)\n",
    "SaveMediumModel(savepath_watervalue * \"\\\\OtherParticipant.jls\", WaterValueDictionary_O)"
   ]
  },
  {
   "cell_type": "code",
   "execution_count": 24,
   "metadata": {},
   "outputs": [
    {
     "name": "stdout",
     "output_type": "stream",
     "text": [
      "Reservoir[Flasjon, Holsmjon]\n",
      "Dict{Reservoir, Float64}[________________________________\n",
      "Flasjon  | 1149.471746031746\n",
      ", ________________________________\n",
      "Flasjon  | 1080.0  \n",
      ", ________________________________\n",
      "Flasjon  | 2069.471746031746\n",
      ", ________________________________\n",
      "Flasjon  | 2000.0  \n",
      "]Reservoir[Flasjon, Holsmjon]\n"
     ]
    },
    {
     "name": "stdout",
     "output_type": "stream",
     "text": [
      "Dict{Reservoir, Float64}[________________________________\n",
      "Flasjon  | 2000.0  \n",
      "Holsmjon | 0.0     \n",
      ", ________________________________\n",
      "Flasjon  | 909.4717460317461\n",
      "Holsmjon | 0.0     \n",
      ", ________________________________\n",
      "Flasjon  | 2069.471746031746\n",
      "Holsmjon | 0.0     \n",
      ", ________________________________\n",
      "Flasjon  | 909.4717460317461\n",
      "Holsmjon | 945.0857142857143\n",
      ", ________________________________\n",
      "Flasjon  | 909.4717460317461\n",
      "Holsmjon | 0.0     \n",
      ", ________________________________\n",
      "Flasjon  | 2000.0  \n",
      "Holsmjon | 800.0   \n",
      ", ________________________________\n",
      "Flasjon  | 909.4717460317461\n",
      "Holsmjon | 800.0   \n",
      ", ________________________________\n",
      "Flasjon  | 840.0   \n",
      "Holsmjon | 0.0     \n",
      ", ________________________________\n",
      "Flasjon  | 2000.0  \n",
      "Holsmjon | 0.0     \n",
      ", ________________________________\n",
      "Flasjon  | 840.0   \n",
      "Holsmjon | 800.0   \n",
      ", ________________________________\n",
      "Flasjon  | 840.0   \n",
      "Holsmjon | 945.0857142857143\n",
      ", ________________________________\n",
      "Flasjon  | 2069.471746031746\n",
      "Holsmjon | 945.0857142857143\n",
      ", ________________________________\n",
      "Flasjon  | 2000.0  \n",
      "Holsmjon | 945.0857142857143\n",
      ", ________________________________\n",
      "Flasjon  | 2069.471746031746\n",
      "Holsmjon | 0.0     \n",
      ", ________________________________\n",
      "Flasjon  | 840.0   \n",
      "Holsmjon | 0.0     \n",
      ", ________________________________\n",
      "Flasjon  | 2069.471746031746\n",
      "Holsmjon | 800.0   \n",
      "]Reservoir[Flasjon, Holsmjon]\n",
      "Dict{Reservoir, Float64}[________________________________\n",
      "Flasjon  | 2000.0  \n",
      "Holsmjon | 0.0     \n",
      ", ________________________________\n",
      "Flasjon  | 0.0     \n",
      "Holsmjon | 0.0     \n",
      ", ________________________________\n",
      "Flasjon  | 2069.471746031746\n",
      "Holsmjon | 0.0     \n",
      ", ________________________________\n",
      "Flasjon  | 0.0     \n",
      "Holsmjon | 945.0857142857143\n",
      ", ________________________________\n",
      "Flasjon  | 0.0     \n",
      "Holsmjon | 0.0     \n",
      ", ________________________________\n",
      "Flasjon  | 2000.0  \n",
      "Holsmjon | 800.0   \n",
      ", ________________________________\n",
      "Flasjon  | 0.0     \n",
      "Holsmjon | 800.0   \n",
      ", ________________________________\n",
      "Flasjon  | 0.0     \n",
      "Holsmjon | 0.0     \n",
      ", ________________________________\n",
      "Flasjon  | 2000.0  \n",
      "Holsmjon | 0.0     \n",
      ", ________________________________\n",
      "Flasjon  | 0.0     \n",
      "Holsmjon | 800.0   \n",
      ", ________________________________\n",
      "Flasjon  | 0.0     \n",
      "Holsmjon | 945.0857142857143\n",
      ", ________________________________\n",
      "Flasjon  | 2069.471746031746\n",
      "Holsmjon | 945.0857142857143\n",
      ", ________________________________\n",
      "Flasjon  | 2000.0  \n",
      "Holsmjon | 945.0857142857143\n",
      ", ________________________________\n",
      "Flasjon  | 2069.471746031746\n",
      "Holsmjon | 0.0     \n",
      ", ________________________________\n",
      "Flasjon  | 0.0     \n",
      "Holsmjon | 0.0     \n",
      ", ________________________________\n",
      "Flasjon  | 2069.471746031746\n",
      "Holsmjon | 800.0   \n",
      "]"
     ]
    },
    {
     "data": {
      "text/plain": [
       "Dict{Participant, Dict{Dict{Reservoir, Float64}, NamedTuple{(:e1, :e2), Tuple{Float64, Dict{Symbol, Float64}}}}} with 3 entries:\n",
       "  Statkraft => Dict(________________________________…\n",
       "  Sydkraft  => Dict(________________________________…\n",
       "  Fortum    => Dict(________________________________…"
      ]
     },
     "metadata": {},
     "output_type": "display_data"
    }
   ],
   "source": [
    "NameToParticipant = Dict{String, Participant}(j.name => j for j in J)\n",
    "MediumModelDictionary_j_loaded = ReadMediumModel(savepath_watervalue * \"\\\\Participant.jls\", NameToParticipant);\n",
    "MediumModelDictionary_O_loaded = ReadMediumModel(savepath_watervalue * \"\\\\OtherParticipant.jls\", NameToParticipant);\n",
    "\n",
    "\n",
    "cuts = Dict(j => ReservoirLevelCuts(R, j.plants, j, f, 2, stage_count_short) for j in J)\n",
    "WaterCuts = Dict(j => WaterValueCuts(MediumModelDictionary_j_loaded[j], cuts[j], 2) for j in J)"
   ]
  },
  {
   "cell_type": "markdown",
   "metadata": {},
   "source": [
    "### Bidding Problem\n",
    "\n",
    "* Every Power Producer solves their own Bidding problem with individual Water Value Cuts to obtain their bidding curves and nomination.\n",
    "* The solutions are taken as input for the calculation of the adjusted Flow and Power Swap\n",
    "* The Market clears, and the obligations for the next production day are revealed."
   ]
  },
  {
   "cell_type": "code",
   "execution_count": 29,
   "metadata": {},
   "outputs": [
    {
     "name": "stdout",
     "output_type": "stream",
     "text": [
      "-------------------------------------------------------------------\n",
      "         SDDP.jl (c) Oscar Dowson and contributors, 2017-23\n",
      "-------------------------------------------------------------------\n",
      "problem\n",
      "  nodes           : 8\n",
      "  state variables : 176\n",
      "  scenarios       : 1.00000e+14\n",
      "  existing cuts   : false\n",
      "options\n",
      "  solver          : serial mode\n",
      "  risk measure    : SDDP.Expectation()\n",
      "  sampling scheme : SDDP.InSampleMonteCarlo\n",
      "subproblem structure\n",
      "  VariableRef                                                                   : [356, 813]\n",
      "  AffExpr in MOI.EqualTo{Float64}                                               : [7, 61]\n",
      "  AffExpr in MOI.GreaterThan{Float64}                                           : [115, 115]\n",
      "  AffExpr in MOI.LessThan{Float64}                                              : [148, 388]\n",
      "  VariableRef in MOI.GreaterThan{Float64}                                       : [171, 389]\n",
      "  VariableRef in MOI.LessThan{Float64}                                          : [171, 291]\n",
      "  VariableRef in MOI.ZeroOne                                                    : [6, 246]\n",
      "  Vector{AffExpr} in MOI.Indicator{MOI.ACTIVATE_ON_ONE, MOI.LessThan{Float64}}  : [6, 6]\n",
      "  Vector{AffExpr} in MOI.Indicator{MOI.ACTIVATE_ON_ZERO, MOI.LessThan{Float64}} : [1, 1]\n"
     ]
    },
    {
     "name": "stdout",
     "output_type": "stream",
     "text": [
      "numerical stability report\n",
      "  matrix range     [1e-04, 2e+02]\n",
      "  objective range  [1e-02, 4e+02]\n",
      "  bounds range     [7e+00, 5e+06]\n",
      "  rhs range        [1e+02, 3e+05]\n",
      "-------------------------------------------------------------------\n",
      " iteration    simulation      bound        time (s)     solves  pid\n",
      "-------------------------------------------------------------------\n"
     ]
    },
    {
     "name": "stdout",
     "output_type": "stream",
     "text": [
      "         1   1.664323e+06  2.266847e+06  1.965000e+00       709   1\n"
     ]
    },
    {
     "name": "stdout",
     "output_type": "stream",
     "text": [
      "         2   5.991755e+05  1.838080e+06  4.140000e+00      1418   1\n"
     ]
    },
    {
     "name": "stdout",
     "output_type": "stream",
     "text": [
      "         3   1.717057e+06  1.756259e+06  6.336000e+00      2127   1\n"
     ]
    },
    {
     "name": "stdout",
     "output_type": "stream",
     "text": [
      "         4   2.357573e+06  1.728195e+06  8.427000e+00      2836   1\n"
     ]
    },
    {
     "name": "stdout",
     "output_type": "stream",
     "text": [
      "         7   1.360437e+06  1.718018e+06  1.502200e+01      4963   1\n"
     ]
    },
    {
     "name": "stdout",
     "output_type": "stream",
     "text": [
      "        10   2.084717e+06  1.717632e+06  2.128600e+01      7090   1\n",
      "-------------------------------------------------------------------\n",
      "status         : iteration_limit\n",
      "total time (s) : 2.128600e+01\n",
      "total solves   : 7090\n",
      "best bound     :  1.717632e+06\n",
      "simulation ci  :  1.724469e+06 ± 3.139324e+05\n",
      "numeric issues : 0\n",
      "-------------------------------------------------------------------\n",
      "\n",
      "-------------------------------------------------------------------\n",
      "         SDDP.jl (c) Oscar Dowson and contributors, 2017-23\n",
      "-------------------------------------------------------------------\n",
      "problem\n",
      "  nodes           : 8\n",
      "  state variables : 177\n",
      "  scenarios       : 1.00000e+14\n",
      "  existing cuts   : false\n",
      "options\n",
      "  solver          : serial mode\n",
      "  risk measure    : SDDP.Expectation()\n",
      "  sampling scheme : SDDP.InSampleMonteCarlo\n",
      "subproblem structure\n",
      "  VariableRef                                                                   : [360, 698]\n",
      "  AffExpr in MOI.EqualTo{Float64}                                               : [7, 60]\n",
      "  AffExpr in MOI.GreaterThan{Float64}                                           : [69, 69]\n",
      "  AffExpr in MOI.LessThan{Float64}                                              : [160, 304]\n",
      "  VariableRef in MOI.GreaterThan{Float64}                                       : [174, 369]\n",
      "  VariableRef in MOI.LessThan{Float64}                                          : [173, 245]\n",
      "  VariableRef in MOI.ZeroOne                                                    : [5, 149]\n",
      "  Vector{AffExpr} in MOI.Indicator{MOI.ACTIVATE_ON_ONE, MOI.LessThan{Float64}}  : [5, 5]\n",
      "  Vector{AffExpr} in MOI.Indicator{MOI.ACTIVATE_ON_ZERO, MOI.LessThan{Float64}} : [2, 2]"
     ]
    },
    {
     "name": "stdout",
     "output_type": "stream",
     "text": [
      "\n",
      "numerical stability report\n",
      "  matrix range     [1e-04, 7e+01]\n",
      "  objective range  [1e-02, 4e+02]\n",
      "  bounds range     [1e+01, 4e+06]\n",
      "  rhs range        [8e+01, 1e+05]\n",
      "-------------------------------------------------------------------\n",
      " iteration    simulation      bound        time (s)     solves  pid\n",
      "-------------------------------------------------------------------\n"
     ]
    },
    {
     "name": "stdout",
     "output_type": "stream",
     "text": [
      "         1   8.069150e+05  1.530430e+06  1.954000e+00       709   1"
     ]
    },
    {
     "name": "stdout",
     "output_type": "stream",
     "text": [
      "\n",
      "         2   1.270411e+06  1.193439e+06  4.183000e+00      1418   1\n"
     ]
    },
    {
     "name": "stdout",
     "output_type": "stream",
     "text": [
      "         3   7.062506e+05  1.172773e+06  6.407000e+00      2127   1\n"
     ]
    },
    {
     "name": "stdout",
     "output_type": "stream",
     "text": [
      "         4   1.517377e+06  1.161699e+06  8.506000e+00      2836   1\n"
     ]
    },
    {
     "name": "stdout",
     "output_type": "stream",
     "text": [
      "         7   9.107697e+05  1.142703e+06  1.474400e+01      4963   1\n"
     ]
    },
    {
     "name": "stdout",
     "output_type": "stream",
     "text": [
      "        10   9.731671e+05  1.131898e+06  2.106700e+01      7090   1\n",
      "-------------------------------------------------------------------\n",
      "status         : iteration_limit\n",
      "total time (s) : 2.106700e+01\n",
      "total solves   : 7090\n",
      "best bound     :  1.131898e+06\n",
      "simulation ci  :  9.619401e+05 ± 1.622016e+05\n",
      "numeric issues : 0\n",
      "-------------------------------------------------------------------\n",
      "\n",
      "-------------------------------------------------------------------\n",
      "         SDDP.jl (c) Oscar Dowson and contributors, 2017-23\n",
      "-------------------------------------------------------------------\n",
      "problem\n",
      "  nodes           : 8\n",
      "  state variables : 179\n",
      "  scenarios       : 1.00000e+14\n",
      "  existing cuts   : false\n",
      "options\n",
      "  solver          : serial mode\n",
      "  risk measure    : SDDP.Expectation()\n",
      "  sampling scheme : SDDP.InSampleMonteCarlo\n",
      "subproblem structure\n",
      "  VariableRef                                                                   : [364, 846]\n",
      "  AffExpr in MOI.EqualTo{Float64}                                               : [9, 64]\n",
      "  AffExpr in MOI.GreaterThan{Float64}                                           : [115, 115]\n",
      "  AffExpr in MOI.LessThan{Float64}                                              : [160, 400]\n",
      "  VariableRef in MOI.GreaterThan{Float64}                                       : [174, 417]\n",
      "  VariableRef in MOI.LessThan{Float64}                                          : [173, 293]\n",
      "  VariableRef in MOI.ZeroOne                                                    : [7, 247]\n",
      "  Vector{AffExpr} in MOI.Indicator{MOI.ACTIVATE_ON_ONE, MOI.LessThan{Float64}}  : [7, 7]\n",
      "  Vector{AffExpr} in MOI.Indicator{MOI.ACTIVATE_ON_ZERO, MOI.LessThan{Float64}} : [2, 2]\n"
     ]
    },
    {
     "name": "stdout",
     "output_type": "stream",
     "text": [
      "numerical stability report\n",
      "  matrix range     [1e-04, 3e+02]\n",
      "  objective range  [1e-02, 4e+02]\n",
      "  bounds range     [1e+01, 8e+06]\n",
      "  rhs range        [8e+01, 1e+06]\n",
      "-------------------------------------------------------------------\n",
      " iteration    simulation      bound        time (s)     solves  pid\n",
      "-------------------------------------------------------------------"
     ]
    },
    {
     "name": "stdout",
     "output_type": "stream",
     "text": [
      "\n",
      "         1   5.409673e+06  6.081162e+06  2.019000e+00       709   1\n"
     ]
    },
    {
     "name": "stdout",
     "output_type": "stream",
     "text": [
      "         2   3.078832e+06  5.182947e+06  5.013000e+00      1418   1\n"
     ]
    },
    {
     "name": "stdout",
     "output_type": "stream",
     "text": [
      "         3   4.574851e+06  5.000436e+06  8.203000e+00      2127   1"
     ]
    },
    {
     "name": "stdout",
     "output_type": "stream",
     "text": [
      "\n",
      "         6   4.398108e+06  4.860752e+06  1.557600e+01      4254   1\n"
     ]
    },
    {
     "name": "stdout",
     "output_type": "stream",
     "text": [
      "         9   4.352043e+06  4.819475e+06  2.327500e+01      6381   1\n"
     ]
    },
    {
     "name": "stdout",
     "output_type": "stream",
     "text": [
      "        10   3.572788e+06  4.805091e+06  2.587700e+01      7090   1\n",
      "-------------------------------------------------------------------\n",
      "status         : iteration_limit\n",
      "total time (s) : 2.587700e+01\n",
      "total solves   : 7090\n",
      "best bound     :  4.805091e+06\n",
      "simulation ci  :  4.286904e+06 ± 5.036681e+05\n",
      "numeric issues : 0\n",
      "-------------------------------------------------------------------\n",
      "\n"
     ]
    },
    {
     "data": {
      "text/plain": [
       "3-element Vector{Any}:\n",
       " ________________________________\n",
       "Flasjon  | 63.720606556273424\n",
       "\n",
       " ________________________________\n",
       "Flasjon  | 0.0     \n",
       "Holsmjon | 132.46229726069203\n",
       "\n",
       " ________________________________\n",
       "Flasjon  | 0.0     \n",
       "Holsmjon | 106.61392339763222\n"
      ]
     },
     "metadata": {},
     "output_type": "display_data"
    }
   ],
   "source": [
    "HourlyBiddingCurves = []\n",
    "Qnoms = []\n",
    "\n",
    "for j in J\n",
    "    Qnom, HourlyBiddingCurve = Nonanticipatory_Bidding(R, j, PPoints, Ω_NA, P_NA, Qref, cuts[j], WaterCuts[j], iterations, mu_up, mu_down, T, stage_count_short)\n",
    "    push!(Qnoms, Qnom)\n",
    "    push!(HourlyBiddingCurves, HourlyBiddingCurve)\n",
    "end\n",
    "\n",
    "Qnoms"
   ]
  },
  {
   "cell_type": "markdown",
   "metadata": {},
   "source": [
    "### Water Regulation\n",
    "\n",
    "Without Updating the Reservoir Levels, the adjusted flow and Power Swaps are calculated."
   ]
  },
  {
   "cell_type": "code",
   "execution_count": null,
   "metadata": {},
   "outputs": [],
   "source": []
  },
  {
   "cell_type": "markdown",
   "metadata": {},
   "source": [
    "### Short Term Optimization"
   ]
  },
  {
   "cell_type": "markdown",
   "metadata": {},
   "source": [
    "### Real Time Balancing and Scheduling"
   ]
  },
  {
   "cell_type": "markdown",
   "metadata": {},
   "source": [
    "# Simulation\n",
    "\n",
    "For a preset amount of rounds, we simulate the reservoir system through the functions and structures as described above. It is important to have a way to save results adequately! This encapsulates the calculations, and evaluations and visualizations can take place at a later point in time."
   ]
  }
 ],
 "metadata": {
  "kernelspec": {
   "display_name": "Julia 1.9.2",
   "language": "julia",
   "name": "julia-1.9"
  },
  "language_info": {
   "file_extension": ".jl",
   "mimetype": "application/julia",
   "name": "julia",
   "version": "1.9.2"
  },
  "orig_nbformat": 4
 },
 "nbformat": 4,
 "nbformat_minor": 2
}
