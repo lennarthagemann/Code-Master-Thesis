{
 "cells": [
  {
   "cell_type": "code",
   "execution_count": 2,
   "metadata": {},
   "outputs": [
    {
     "name": "stderr",
     "output_type": "stream",
     "text": [
      "┌ Warning: Replacing docs for `Main.WaterRegulation.connect_reservoirs :: Tuple{Reservoir, Array{Reservoir}}` in module `Main.WaterRegulation`\n",
      "└ @ Base.Docs docs\\Docs.jl:243\n",
      "┌ Warning: Replacing docs for `Main.WaterRegulation.find_us_reservoir :: Tuple{Reservoir}` in module `Main.WaterRegulation`\n",
      "└ @ Base.Docs docs\\Docs.jl:243\n"
     ]
    },
    {
     "name": "stderr",
     "output_type": "stream",
     "text": [
      "┌ Warning: Replacing docs for `Main.WaterRegulation.OtherParticipant :: Tuple{Array{Participant}, Participant, Array{Reservoir}}` in module `Main.WaterRegulation`\n",
      "└ @ Base.Docs docs\\Docs.jl:243\n",
      "┌ Warning: Replacing docs for `Main.WaterRegulation.calculate_balance :: Tuple{Dict{Reservoir, Float64}, Dict{NamedTuple{(:participant, :reservoir), Tuple{Participant, Reservoir}}, Float64}, Reservoir}` in module `Main.WaterRegulation`\n",
      "└ @ Base.Docs docs\\Docs.jl:243\n"
     ]
    },
    {
     "name": "stderr",
     "output_type": "stream",
     "text": [
      "┌ Warning: Replacing docs for `Main.WaterRegulation.adjust_flow! :: Union{Tuple{Dict{NamedTuple{(:participant, :reservoir), Tuple{Participant, Reservoir}}, Float64}, Dict{HydropowerPlant, Float64}}, Tuple{Dict{NamedTuple{(:participant, :reservoir), Tuple{Participant, Reservoir}}, Float64}, Dict{HydropowerPlant, Float64}, Any}}` in module `Main.WaterRegulation`\n",
      "└ @ Base.Docs docs\\Docs.jl:243\n",
      "┌ Warning: Replacing docs for `Main.WaterRegulation.update_reservoir :: Tuple{Dict{Reservoir, Float64}, Int64}` in module `Main.WaterRegulation`\n",
      "└ @ Base.Docs docs\\Docs.jl:243\n",
      "┌ Warning: Replacing docs for `Main.WaterRegulation.update_ind_reservoir :: Tuple{Dict{NamedTuple{(:participant, :reservoir), Tuple{Participant, Reservoir}}, Float64}, Dict{Reservoir, Float64}}` in module `Main.WaterRegulation`\n",
      "└ @ Base.Docs docs\\Docs.jl:243\n",
      "┌ Warning: Replacing docs for `Main.WaterRegulation.read_data :: Tuple{String}` in module `Main.WaterRegulation`\n",
      "└ @ Base.Docs docs\\Docs.jl:243\n",
      "┌ Warning: Replacing docs for `Main.WaterRegulation.read_nomination :: Tuple{String, Array{Participant}, Array{Reservoir}}` in module `Main.WaterRegulation`\n",
      "└ @ Base.Docs docs\\Docs.jl:243\n",
      "┌ Warning: Replacing docs for `Main.WaterRegulation.partAvg :: Tuple{Dict{NamedTuple{(:participant, :reservoir), Tuple{Participant, Reservoir}}, Float64}, Dict{NamedTuple{(:participant, :reservoir), Tuple{Participant, Reservoir}}, Float64}}` in module `Main.WaterRegulation`\n",
      "└ @ Base.Docs docs\\Docs.jl:243\n",
      "┌ Warning: Replacing docs for `Main.WaterRegulation.SumPartAvg :: Tuple{Reservoir, Array{Participant}}` in module `Main.WaterRegulation`\n",
      "└ @ Base.Docs docs\\Docs.jl:243\n",
      "┌ Warning: Replacing docs for `Main.WaterRegulation.SimplePartAvg :: Tuple{Array{Participant}, Array{Reservoir}}` in module `Main.WaterRegulation`\n",
      "└ @ Base.Docs docs\\Docs.jl:243\n",
      "┌ Warning: Replacing docs for `Main.WaterRegulation.CalculateQmax :: Tuple{Dict{NamedTuple{(:participant, :reservoir), Tuple{Participant, Reservoir}}, Float64}, Dict{Reservoir, Float64}}` in module `Main.WaterRegulation`\n",
      "└ @ Base.Docs docs\\Docs.jl:243\n",
      "┌ Warning: Replacing docs for `Main.WaterRegulation.Calculate_Ersmax :: Tuple{Array{HydropowerPlant}, Dict{Reservoir, Float64}}` in module `Main.WaterRegulation`\n",
      "└ @ Base.Docs docs\\Docs.jl:243\n"
     ]
    },
    {
     "name": "stderr",
     "output_type": "stream",
     "text": [
      "┌ Warning: Replacing docs for `Main.WaterRegulation.Calculate_POver :: Tuple{Dict{NamedTuple{(:participant, :reservoir), Tuple{Participant, Reservoir}}, Float64}, Dict{NamedTuple{(:participant, :reservoir), Tuple{Participant, Reservoir}}, Float64}, Dict{HydropowerPlant, Float64}}` in module `Main.WaterRegulation`\n",
      "└ @ Base.Docs docs\\Docs.jl:243\n",
      "┌ Warning: Replacing docs for `Main.WaterRegulation.power_swap :: Tuple{Dict{NamedTuple{(:participant, :reservoir), Tuple{Participant, Reservoir}}, Float64}, Dict{Reservoir, Float64}, Dict{Participant, Dict{HydropowerPlant, Float64}}, Dict{HydropowerPlant, Float64}, Dict{HydropowerPlant, Float64}, Array{Participant}}` in module `Main.WaterRegulation`\n",
      "└ @ Base.Docs docs\\Docs.jl:243\n",
      "┌ Warning: Replacing docs for `Main.WaterRegulation.PS_Reduction :: Tuple{Dict{HydropowerPlant, Float64}, Any, Any, Array{Participant}, Any}` in module `Main.WaterRegulation`\n",
      "└ @ Base.Docs docs\\Docs.jl:243\n",
      "┌ Warning: Replacing docs for `Main.WaterRegulation.calculate_produced_power :: Tuple{Dict{Reservoir, Float64}, Array{Participant}}` in module `Main.WaterRegulation`\n",
      "└ @ Base.Docs docs\\Docs.jl:243\n",
      "┌ Warning: Replacing docs for `Main.WaterRegulation.total_power :: Tuple{Dict{Reservoir, Float64}, Dict{Participant, Dict{Reservoir, Float64}}, Array{Participant}}` in module `Main.WaterRegulation`\n",
      "└ @ Base.Docs docs\\Docs.jl:243\n",
      "┌ Warning: Replacing docs for `Main.WaterRegulation.water_regulation :: Tuple{Dict{NamedTuple{(:participant, :reservoir), Tuple{Participant, Reservoir}}, Float64}, Dict{Reservoir, Float64}, Int64}` in module `Main.WaterRegulation`\n",
      "└ @ Base.Docs docs\\Docs.jl:243\n",
      "┌ Warning: Replacing docs for `Main.WaterRegulation._collect_solution_Bidding :: Tuple{Any, Any, Any}` in module `Main.WaterRegulation`\n",
      "└ @ Base.Docs docs\\Docs.jl:243\n"
     ]
    },
    {
     "name": "stderr",
     "output_type": "stream",
     "text": [
      "┌ Warning: Replacing docs for `Main.WaterRegulation._collect_solution_Short :: Tuple{Any, Any, Any}` in module `Main.WaterRegulation`\n",
      "└ @ Base.Docs docs\\Docs.jl:243\n",
      "┌ Warning: Replacing docs for `Main.WaterRegulation.RealTimeBalancing :: Tuple{Vector{Reservoir}, Participant, Dict{Reservoir, Float64}, Dict{Reservoir, Float64}, Dict{Int64, Float64}}` in module `Main.WaterRegulation`\n",
      "└ @ Base.Docs docs\\Docs.jl:243\n"
     ]
    }
   ],
   "source": [
    "using JuMP\n",
    "using CPLEX\n",
    "using Distributions\n",
    "using LinearAlgebra\n",
    "using Statistics\n",
    "using Dates\n",
    "using DataFrames\n",
    "using SDDP\n",
    "using Plots\n",
    "import CSV\n",
    "using JSON\n",
    "try\n",
    "    using Revise\n",
    "catch e\n",
    "    @warn \"Error initializing Revise\" exception=(e, catch_backtrace())\n",
    "end\n",
    "\n",
    "includet(dirname(pwd()) * \"\\\\Water_Regulation\\\\WaterRegulation.jl\")\n",
    "using .WaterRegulation"
   ]
  },
  {
   "cell_type": "markdown",
   "metadata": {},
   "source": [
    "### Simulations of Water Regulation Procedure\n",
    "\n",
    "We would like to set up a skeleton for the day-to-day decision making of hydropower producers and the Water Regulation Company. The main steps of the Water Regulation company consist of:\n",
    "\n",
    "* Determining a Reference Flow for the next nomination period (Inflow Forecasting)\n",
    "* Receiving pre-bid nominations and calculating adjusted flow, power swaps, etc. -> Send these parameters back to the participants\n",
    "* Recalculate based on renominations by power producers after bidding\n",
    "\n",
    "For the Power Producers / Participants:  \n",
    "\n",
    "* Fetch and Calculate all Parameters for the Water Regulation Procedure (Individual Reservoir Level etc.)\n",
    "* Price and Inflow Forecasting (Fix Price Points)\n",
    "* Medium-Term Hydropower Model Calculation, obtain Water Value Cuts\n",
    "* Decision Model 1: Bidding and Pre-Market Clearing Nomination\n",
    "* Decision Model 2: Short-Term Optimization and Renomination\n",
    "* Decision Model 3: Fixed Water Flow scheduling and real time balancing\n",
    "\n",
    "This constitutes one round of simulation.\n"
   ]
  },
  {
   "cell_type": "code",
   "execution_count": 4,
   "metadata": {},
   "outputs": [
    {
     "name": "stdout",
     "output_type": "stream",
     "text": [
      "The reservoir system consists of [\"Flasjon\", \"Holsmjon\"]\n",
      "Downstream of the reservoirs we have power plants [\"Flasjo\", \"Trangfors\", \"Ratan\", \"Turinge\", \"Bursnas\", \"Jarnvagsforsen\", \"Parteboda\", \"Hermansboda\", \"Ljunga\", \"Nederede\", \"Skallbole\", \"Matfors\", \"Viforsen\"]\n",
      "Sydkraft owns HydropowerPlant[Flasjo, Trangfors, Ratan, Turinge, Bursnas], which constitutes a participation rate of: \n",
      " ________________________________\n",
      "Flasjon  | 1.84    \n",
      "Holsmjon | 0.0     \n",
      "\n",
      "Fortum owns HydropowerPlant[Parteboda, Hermansboda, Ljunga], which constitutes a participation rate of: \n",
      " ________________________________\n",
      "Flasjon  | 0.8200000000000001\n",
      "Holsmjon | 0.8200000000000001\n",
      "\n",
      "Statkraft owns HydropowerPlant[Nederede, Skallbole, Matfors, Viforsen, Jarnvagsforsen], which constitutes a participation rate of: \n",
      " ________________________________\n",
      "Flasjon  | 1.86    \n",
      "Holsmjon | 1.86    \n",
      "\n"
     ]
    }
   ],
   "source": [
    "filepath_Ljungan = dirname(pwd()) * \"\\\\Water_Regulation\\\\TestDataWaterRegulation\\\\Ljungan.json\"\n",
    "filepath_prices = dirname(pwd()) *  \"\\\\Data\\\\Spot Prices\\\\prices_df.csv\"\n",
    "filepath_results = dirname(pwd()) * \"\\\\Results\\\\LambdaZero\\\\\"\n",
    "R, K, J = read_data(filepath_Ljungan)\n",
    "\n",
    "println(\"The reservoir system consists of $([r.dischargepoint for r in R])\")\n",
    "println(\"Downstream of the reservoirs we have power plants $([k.name for k in K])\")\n",
    "for j in J\n",
    "    println(\"$(j.name) owns $(j.plants), which constitutes a participation rate of: \\n \", j.participationrate)\n",
    "end\n"
   ]
  },
  {
   "cell_type": "markdown",
   "metadata": {},
   "source": [
    "#### Load Data\n",
    "\n",
    "Other than the river system, the relevant data for optimization is organized in Dataframes.\n",
    "We load in cleaned versions of the data."
   ]
  },
  {
   "cell_type": "code",
   "execution_count": 5,
   "metadata": {},
   "outputs": [
    {
     "data": {
      "text/html": [
       "<div><div style = \"float: left;\"><span>10×11 DataFrame</span></div><div style = \"clear: both;\"></div></div><div class = \"data-frame\" style = \"overflow-x: scroll;\"><table class = \"data-frame\" style = \"margin-bottom: 6px;\"><thead><tr class = \"header\"><th class = \"rowNumber\" style = \"font-weight: bold; text-align: right;\">Row</th><th style = \"text-align: left;\">Date</th><th style = \"text-align: left;\">Flasjon Water Level</th><th style = \"text-align: left;\">Flasjon Volume</th><th style = \"text-align: left;\">Flasjon Inflow</th><th style = \"text-align: left;\">Flasjon discharge</th><th style = \"text-align: left;\">Holmsjon Water Level</th><th style = \"text-align: left;\">Holmsjon Volume</th><th style = \"text-align: left;\">Holmsjon Inflow</th><th style = \"text-align: left;\">Holmsjon Discharge</th><th style = \"text-align: left;\">CalendarWeek</th><th style = \"text-align: left;\">year</th></tr><tr class = \"subheader headerLastRow\"><th class = \"rowNumber\" style = \"font-weight: bold; text-align: right;\"></th><th title = \"Date\" style = \"text-align: left;\">Date</th><th title = \"Float64\" style = \"text-align: left;\">Float64</th><th title = \"Float64\" style = \"text-align: left;\">Float64</th><th title = \"Float64\" style = \"text-align: left;\">Float64</th><th title = \"Float64\" style = \"text-align: left;\">Float64</th><th title = \"Float64\" style = \"text-align: left;\">Float64</th><th title = \"Int64\" style = \"text-align: left;\">Int64</th><th title = \"Float64\" style = \"text-align: left;\">Float64</th><th title = \"Float64\" style = \"text-align: left;\">Float64</th><th title = \"Int64\" style = \"text-align: left;\">Int64</th><th title = \"Int64\" style = \"text-align: left;\">Int64</th></tr></thead><tbody><tr><td class = \"rowNumber\" style = \"font-weight: bold; text-align: right;\">1</td><td style = \"text-align: left;\">2006-01-01</td><td style = \"text-align: right;\">484.0</td><td style = \"text-align: right;\">2087.0</td><td style = \"text-align: right;\">12.8</td><td style = \"text-align: right;\">49.0</td><td style = \"text-align: right;\">244.39</td><td style = \"text-align: right;\">1928</td><td style = \"text-align: right;\">13.6</td><td style = \"text-align: right;\">53.2</td><td style = \"text-align: right;\">52</td><td style = \"text-align: right;\">2006</td></tr><tr><td class = \"rowNumber\" style = \"font-weight: bold; text-align: right;\">2</td><td style = \"text-align: left;\">2006-01-02</td><td style = \"text-align: right;\">483.83</td><td style = \"text-align: right;\">2056.0</td><td style = \"text-align: right;\">13.6</td><td style = \"text-align: right;\">49.0</td><td style = \"text-align: right;\">244.42</td><td style = \"text-align: right;\">1947</td><td style = \"text-align: right;\">22.7</td><td style = \"text-align: right;\">89.1</td><td style = \"text-align: right;\">1</td><td style = \"text-align: right;\">2006</td></tr><tr><td class = \"rowNumber\" style = \"font-weight: bold; text-align: right;\">3</td><td style = \"text-align: left;\">2006-01-03</td><td style = \"text-align: right;\">483.69</td><td style = \"text-align: right;\">2031.0</td><td style = \"text-align: right;\">10.2</td><td style = \"text-align: right;\">49.0</td><td style = \"text-align: right;\">244.41</td><td style = \"text-align: right;\">1941</td><td style = \"text-align: right;\">13.4</td><td style = \"text-align: right;\">85.9</td><td style = \"text-align: right;\">1</td><td style = \"text-align: right;\">2006</td></tr><tr><td class = \"rowNumber\" style = \"font-weight: bold; text-align: right;\">4</td><td style = \"text-align: left;\">2006-01-04</td><td style = \"text-align: right;\">483.52</td><td style = \"text-align: right;\">2000.0</td><td style = \"text-align: right;\">10.2</td><td style = \"text-align: right;\">50.0</td><td style = \"text-align: right;\">244.41</td><td style = \"text-align: right;\">1941</td><td style = \"text-align: right;\">23.0</td><td style = \"text-align: right;\">88.1</td><td style = \"text-align: right;\">1</td><td style = \"text-align: right;\">2006</td></tr><tr><td class = \"rowNumber\" style = \"font-weight: bold; text-align: right;\">5</td><td style = \"text-align: left;\">2006-01-05</td><td style = \"text-align: right;\">483.34</td><td style = \"text-align: right;\">1968.0</td><td style = \"text-align: right;\">8.2</td><td style = \"text-align: right;\">52.0</td><td style = \"text-align: right;\">244.41</td><td style = \"text-align: right;\">1941</td><td style = \"text-align: right;\">15.0</td><td style = \"text-align: right;\">86.2</td><td style = \"text-align: right;\">1</td><td style = \"text-align: right;\">2006</td></tr><tr><td class = \"rowNumber\" style = \"font-weight: bold; text-align: right;\">6</td><td style = \"text-align: left;\">2006-01-06</td><td style = \"text-align: right;\">483.14</td><td style = \"text-align: right;\">1932.0</td><td style = \"text-align: right;\">7.9</td><td style = \"text-align: right;\">52.0</td><td style = \"text-align: right;\">244.4</td><td style = \"text-align: right;\">1934</td><td style = \"text-align: right;\">19.1</td><td style = \"text-align: right;\">74.2</td><td style = \"text-align: right;\">1</td><td style = \"text-align: right;\">2006</td></tr><tr><td class = \"rowNumber\" style = \"font-weight: bold; text-align: right;\">7</td><td style = \"text-align: left;\">2006-01-07</td><td style = \"text-align: right;\">482.94</td><td style = \"text-align: right;\">1896.0</td><td style = \"text-align: right;\">6.2</td><td style = \"text-align: right;\">53.0</td><td style = \"text-align: right;\">244.41</td><td style = \"text-align: right;\">1941</td><td style = \"text-align: right;\">16.0</td><td style = \"text-align: right;\">84.2</td><td style = \"text-align: right;\">1</td><td style = \"text-align: right;\">2006</td></tr><tr><td class = \"rowNumber\" style = \"font-weight: bold; text-align: right;\">8</td><td style = \"text-align: left;\">2006-01-08</td><td style = \"text-align: right;\">482.73</td><td style = \"text-align: right;\">1860.0</td><td style = \"text-align: right;\">11.2</td><td style = \"text-align: right;\">53.0</td><td style = \"text-align: right;\">244.4</td><td style = \"text-align: right;\">1934</td><td style = \"text-align: right;\">22.0</td><td style = \"text-align: right;\">85.2</td><td style = \"text-align: right;\">1</td><td style = \"text-align: right;\">2006</td></tr><tr><td class = \"rowNumber\" style = \"font-weight: bold; text-align: right;\">9</td><td style = \"text-align: left;\">2006-01-09</td><td style = \"text-align: right;\">482.53</td><td style = \"text-align: right;\">1826.0</td><td style = \"text-align: right;\">2.6</td><td style = \"text-align: right;\">53.0</td><td style = \"text-align: right;\">244.39</td><td style = \"text-align: right;\">1928</td><td style = \"text-align: right;\">-0.3</td><td style = \"text-align: right;\">104.2</td><td style = \"text-align: right;\">2</td><td style = \"text-align: right;\">2006</td></tr><tr><td class = \"rowNumber\" style = \"font-weight: bold; text-align: right;\">10</td><td style = \"text-align: left;\">2006-01-10</td><td style = \"text-align: right;\">482.3</td><td style = \"text-align: right;\">1786.0</td><td style = \"text-align: right;\">9.6</td><td style = \"text-align: right;\">54.0</td><td style = \"text-align: right;\">244.34</td><td style = \"text-align: right;\">1898</td><td style = \"text-align: right;\">12.9</td><td style = \"text-align: right;\">103.2</td><td style = \"text-align: right;\">2</td><td style = \"text-align: right;\">2006</td></tr></tbody></table></div>"
      ],
      "text/latex": [
       "\\begin{tabular}{r|cccccc}\n",
       "\t& Date & Flasjon Water Level & Flasjon Volume & Flasjon Inflow & Flasjon discharge & \\\\\n",
       "\t\\hline\n",
       "\t& Date & Float64 & Float64 & Float64 & Float64 & \\\\\n",
       "\t\\hline\n",
       "\t1 & 2006-01-01 & 484.0 & 2087.0 & 12.8 & 49.0 & $\\dots$ \\\\\n",
       "\t2 & 2006-01-02 & 483.83 & 2056.0 & 13.6 & 49.0 & $\\dots$ \\\\\n",
       "\t3 & 2006-01-03 & 483.69 & 2031.0 & 10.2 & 49.0 & $\\dots$ \\\\\n",
       "\t4 & 2006-01-04 & 483.52 & 2000.0 & 10.2 & 50.0 & $\\dots$ \\\\\n",
       "\t5 & 2006-01-05 & 483.34 & 1968.0 & 8.2 & 52.0 & $\\dots$ \\\\\n",
       "\t6 & 2006-01-06 & 483.14 & 1932.0 & 7.9 & 52.0 & $\\dots$ \\\\\n",
       "\t7 & 2006-01-07 & 482.94 & 1896.0 & 6.2 & 53.0 & $\\dots$ \\\\\n",
       "\t8 & 2006-01-08 & 482.73 & 1860.0 & 11.2 & 53.0 & $\\dots$ \\\\\n",
       "\t9 & 2006-01-09 & 482.53 & 1826.0 & 2.6 & 53.0 & $\\dots$ \\\\\n",
       "\t10 & 2006-01-10 & 482.3 & 1786.0 & 9.6 & 54.0 & $\\dots$ \\\\\n",
       "\\end{tabular}\n"
      ],
      "text/plain": [
       "\u001b[1m10×11 DataFrame\u001b[0m\n",
       "\u001b[1m Row \u001b[0m│\u001b[1m Date       \u001b[0m\u001b[1m Flasjon Water Level \u001b[0m\u001b[1m Flasjon Volume \u001b[0m\u001b[1m Flasjon Inflow \u001b[0m\u001b[1m Flasjo\u001b[0m ⋯\n",
       "     │\u001b[90m Date       \u001b[0m\u001b[90m Float64             \u001b[0m\u001b[90m Float64        \u001b[0m\u001b[90m Float64        \u001b[0m\u001b[90m Float6\u001b[0m ⋯\n",
       "─────┼──────────────────────────────────────────────────────────────────────────\n",
       "   1 │ 2006-01-01               484.0           2087.0            12.8         ⋯\n",
       "   2 │ 2006-01-02               483.83          2056.0            13.6\n",
       "   3 │ 2006-01-03               483.69          2031.0            10.2\n",
       "   4 │ 2006-01-04               483.52          2000.0            10.2\n",
       "   5 │ 2006-01-05               483.34          1968.0             8.2         ⋯\n",
       "   6 │ 2006-01-06               483.14          1932.0             7.9\n",
       "   7 │ 2006-01-07               482.94          1896.0             6.2\n",
       "   8 │ 2006-01-08               482.73          1860.0            11.2\n",
       "   9 │ 2006-01-09               482.53          1826.0             2.6         ⋯\n",
       "  10 │ 2006-01-10               482.3           1786.0             9.6\n",
       "\u001b[36m                                                               7 columns omitted\u001b[0m"
      ]
     },
     "metadata": {},
     "output_type": "display_data"
    }
   ],
   "source": [
    "filepath_prices = dirname(pwd()) * \"\\\\Inflow Forecasting\\\\Data\\\\Spot Prices\\\\prices_df.csv\"\n",
    "filepath_inflows = dirname(pwd()) * \"\\\\Inflow Forecasting\\\\Data\\\\Inflow\\\\Data from Flasjoen and Holmsjoen.csv\"\n",
    "\n",
    "price_data = prepare_pricedata(filepath_prices)\n",
    "inflow_data = prepare_inflowdata(filepath_inflows)\n",
    "\n",
    "first(inflow_data, 10)"
   ]
  },
  {
   "cell_type": "markdown",
   "metadata": {},
   "source": [
    "### Price Forecasting\n",
    "\n",
    "Price is sensitive to various factors. Daytime, Weekday and time of year play a relevant role in how prices usually behave.\n",
    "\n",
    "* For the bidding and short-term optimization problems, part of the uncertainty lies in unknown hourly prices.\n",
    "\n",
    "* For the medium term problem, we are interested in daily (average) prices.\n",
    "\n",
    "* We want to obtain Price Points which will be important in the analysis from the historic data.\n",
    "\n",
    "* We need penalty parameters for using the balancing markets, which could be obtained from using maximum / minimum values fromm observed spot market prices / generated scenarios."
   ]
  },
  {
   "cell_type": "code",
   "execution_count": 6,
   "metadata": {},
   "outputs": [
    {
     "data": {
      "text/plain": [
       "(93.08, 5.0)"
      ]
     },
     "metadata": {},
     "output_type": "display_data"
    }
   ],
   "source": [
    "const scenario_count_prices_hourly = 10\n",
    "const scenario_count_prices_weekly = 2\n",
    "const stage_count_short = 8\n",
    "const price_point_count = 5\n",
    "\n",
    "PriceScenariosMedium = Price_Scenarios_Weekly(price_data, scenario_count_prices_weekly)\n",
    "PriceScenariosShort = Price_Scenarios_Hourly(price_data, scenario_count_prices_hourly)\n",
    "PPoints = Create_Price_Points(price_data, 5)\n",
    "mu_up, mu_down = BalanceParameters(PriceScenariosShort)"
   ]
  },
  {
   "cell_type": "markdown",
   "metadata": {},
   "source": [
    "### Inflow Forecasting\n",
    "\n",
    "Inflow has extreme seasonal differences, depending on geographical location.  \n",
    "For the Ljungan River System we could observe that most inflow occurs during the spring melt around May."
   ]
  },
  {
   "cell_type": "code",
   "execution_count": 7,
   "metadata": {},
   "outputs": [
    {
     "data": {
      "text/plain": [
       "8-element Vector{Pair{Int64, Dict{Reservoir, Vector{Float64}}}}:\n",
       " 5 => Dict(Flasjon => [6.58], Holsmjon => [24.2])\n",
       " 4 => Dict(Flasjon => [10.43], Holsmjon => [38.9])\n",
       " 6 => Dict(Flasjon => [8.2], Holsmjon => [0.0])\n",
       " 7 => Dict(Flasjon => [15.23], Holsmjon => [23.5])\n",
       " 2 => Dict(Flasjon => [11.02], Holsmjon => [2.7])\n",
       " 8 => Dict(Flasjon => [15.23], Holsmjon => [0.0])\n",
       " 3 => Dict(Flasjon => [6.6], Holsmjon => [43.2])\n",
       " 1 => Dict(Flasjon => [13.49], Holsmjon => [3.0])"
      ]
     },
     "metadata": {},
     "output_type": "display_data"
    }
   ],
   "source": [
    "const ColumnReservoir = Dict{Reservoir, String}(R[1] => \"Flasjon Inflow\", R[2] => \"Holmsjon Inflow\")\n",
    "const scenario_count_inflows_weekly = 2\n",
    "const scenario_count_inflows_short = 1\n",
    "\n",
    "\n",
    "InflowScenariosShort = Inflow_Scenarios_Short(inflow_data, 1, ColumnReservoir, R)\n",
    "InflowScenariosMedium = Inflow_Scenarios_Weekly(inflow_data, ColumnReservoir, scenario_count_inflows_weekly, R)\n",
    "first(InflowScenariosShort, 10)"
   ]
  },
  {
   "cell_type": "markdown",
   "metadata": {},
   "source": [
    "### Create Uncertainty Set\n",
    "\n",
    "Depending on the Problem, we create the uncertainty sets from both price and inflow Scenarios.\n",
    "This becomes more difficult for the Anticipatory Bidding Problem."
   ]
  },
  {
   "cell_type": "code",
   "execution_count": 8,
   "metadata": {},
   "outputs": [
    {
     "data": {
      "text/plain": [
       "create_Ω_Anticipatory (generic function with 2 methods)"
      ]
     },
     "metadata": {},
     "output_type": "display_data"
    }
   ],
   "source": [
    "const stage_count_bidding = 3\n",
    "Ω_medium, P_medium =  create_Ω_medium(PriceScenariosMedium, InflowScenariosMedium, R);\n",
    "Ω_NA, P_NA = create_Ω_Nonanticipatory(PriceScenariosShort, InflowScenariosShort, R)\n",
    "Ω_NA[1]\n",
    "\n",
    "\"\"\"\n",
    "    create_Ω_Anticipatory(PriceScenariosShort, InflowScenariosShort, j, R)\n",
    "\n",
    "    create Uncertainty Set for the Anticipatory Problem: \n",
    "    Addiitionally to the Nonanticipatory Case, we associate deterministic sets of inflows and prices with other producers' nominations.\n",
    "    The Uncertainty set is extended entrywise by the others' nomination. \n",
    "\"\"\"\n",
    "\n",
    "function create_Ω_Anticipatory(PriceScenariosShort, InflowScenariosShort, OthersNominations, j::Participant, R::Vector{Reservoir}, stage_count = stage_count_bidding)\n",
    "    Ω = Dict(i => [(inflow = Dict(r => InflowScenariosShort[i][r][j] for r in R), price = c) for c in PriceScenariosShort[i] for j in eachindex(InflowScenariosShort[i][R[1]])] for i in 1:stage_count)\n",
    "    P = Dict(s => [1/length(eachindex(Ω[s])) for i in eachindex(Ω[s])] for s in 1:stage_count)\n",
    "    return Ω, P\n",
    "end\n",
    "# Ω_A, P_A = create_Ω_Anticipatory()"
   ]
  },
  {
   "cell_type": "markdown",
   "metadata": {},
   "source": [
    "### Reference Flow\n",
    "\n",
    "To calculate a reference flow for each reservoir, the Water Regulation Company has to combine information from inflow, historical reservoir trajectories and current reservoir level.  "
   ]
  },
  {
   "cell_type": "code",
   "execution_count": 39,
   "metadata": {},
   "outputs": [
    {
     "name": "stdout",
     "output_type": "stream",
     "text": [
      "________________________________\n",
      "Flasjon  | 2739.9285714285716\n",
      "Holsmjon | 1492.2698412698414\n",
      "________________________________\n",
      "Flasjon  | 8.683968253968256\n",
      "Holsmjon | 18.135714285714283\n",
      "\n"
     ]
    },
    {
     "data": {
      "text/plain": [
       "Dict{Reservoir, Float64} with 2 entries:\n",
       "  Flasjon  => -97.0201\n",
       "  Holsmjon => -80.76"
      ]
     },
     "metadata": {},
     "output_type": "display_data"
    }
   ],
   "source": [
    "l_traj, f = AverageReservoirLevel(R, inflow_data)\n",
    "Qref = CalculateReferenceFlow(R, l_traj, f, 2)"
   ]
  },
  {
   "cell_type": "markdown",
   "metadata": {},
   "source": [
    "## Participants\n",
    "\n",
    "Every Participant individually plans their bidding and production. Irrespective of the strategy, only limited information is available. Internal to the participants problems are \n",
    "\n",
    "* Price Forecasts\n",
    "* Nomination to Water Regulation Company\n",
    "* Bidding at Electricity Market\n",
    "\n",
    "### Medium Term Problem\n",
    "\n",
    "The Medium Term / Seasonal Optimization Problem is necessary to obtain Cuts for the Water Value Function.\n",
    "\n",
    "Therefor the point of a functioin containing this decision model is to return cut coefficients of the Water Value Function.\n",
    "\n",
    "* What are the inputs to the Medium Term problem?\n",
    "* How are the cuts calculated?\n",
    "* How many cuts should be calculated?"
   ]
  },
  {
   "cell_type": "code",
   "execution_count": 8,
   "metadata": {},
   "outputs": [
    {
     "ename": "UndefVarError",
     "evalue": "UndefVarError: `Ω_medium` not defined",
     "output_type": "error",
     "traceback": [
      "UndefVarError: `Ω_medium` not defined\n",
      "\n",
      "Stacktrace:\n",
      " [1] top-level scope\n",
      "   @ c:\\Users\\lenna\\OneDrive - NTNU\\Code Master Thesis\\DevelopmentNotebooks\\SimulationSkeleton.ipynb:21"
     ]
    }
   ],
   "source": [
    "\"\"\"\n",
    "ReservoirLevelCuts(R)\n",
    "    Create an Array of reservoir values used in the cut generation of the Water Value Function.\n",
    "    These Values should correspond to relevant values in the proximity of the current reservoir level. Examples:\n",
    "    - No Change (Current Reservoir Level)\n",
    "    - Low/High Inflow\n",
    "    - No/High production\n",
    "    These all give us cuts to estimate an area which is relevant to the next stages optimization.\n",
    "\"\"\"\n",
    "const iterations = 500\n",
    "\n",
    "\n",
    "function ReservoirLevelCuts(R::Vector{Reservoir}, K::Vector{HydropowerPlant})::Dict{Int64, Dict{Reservoir, Float64}}\n",
    "    reservoircutvalues = Dict(r => [r.currentvolume, 0.0, r.currentvolume/2] for r in R)\n",
    "    combs = Iterators.product(values(reservoircutvalues)...)\n",
    "    cuts = Dict(i => Dict(r => v for (r,v) in zip(keys(reservoircutvalues), combo)) for (i, combo) in enumerate(combs))\n",
    "    print(values(cuts))\n",
    "    return cuts\n",
    "end\n",
    "\n",
    "model_medium, V_medium = MediumTermModel(R, K, Ω_medium, P_medium, stage_count, iterations)\n",
    "WaterValueCuts = WaterValueCutGeneration(V_medium, cuts)\n"
   ]
  },
  {
   "cell_type": "markdown",
   "metadata": {},
   "source": [
    "### Bidding Problem\n"
   ]
  },
  {
   "cell_type": "markdown",
   "metadata": {},
   "source": [
    "### Short Term Optimization"
   ]
  },
  {
   "cell_type": "markdown",
   "metadata": {},
   "source": [
    "### Real Time Balancing and Scheduling"
   ]
  },
  {
   "cell_type": "markdown",
   "metadata": {},
   "source": [
    "# Simulation\n",
    "\n",
    "For a preset amount of rounds, we simulate the reservoir system through the functions and structures as described above. It is important to have a way to save results adequately! This encapsulates the calculations, and evaluations and visualizations can take place at a later point in time."
   ]
  }
 ],
 "metadata": {
  "kernelspec": {
   "display_name": "Julia 1.9.2",
   "language": "julia",
   "name": "julia-1.9"
  },
  "language_info": {
   "file_extension": ".jl",
   "mimetype": "application/julia",
   "name": "julia",
   "version": "1.9.2"
  },
  "orig_nbformat": 4
 },
 "nbformat": 4,
 "nbformat_minor": 2
}
