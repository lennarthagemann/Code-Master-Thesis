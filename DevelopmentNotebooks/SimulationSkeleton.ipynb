{
 "cells": [
  {
   "cell_type": "code",
   "execution_count": 56,
   "metadata": {},
   "outputs": [],
   "source": [
    "using JuMP\n",
    "using CPLEX\n",
    "using Distributions\n",
    "using LinearAlgebra\n",
    "using Statistics\n",
    "using Dates\n",
    "using DataFrames\n",
    "using SDDP\n",
    "using Plots\n",
    "using CSV\n",
    "using JSON\n",
    "using UUIDs\n",
    "using Serialization\n",
    "try\n",
    "    using Revise\n",
    "catch e\n",
    "    @warn \"Error initializing Revise\" exception=(e, catch_backtrace())\n",
    "end\n",
    "\n",
    "includet(dirname(pwd()) * \"\\\\Water_Regulation\\\\WaterRegulation.jl\")\n",
    "using .WaterRegulation"
   ]
  },
  {
   "cell_type": "markdown",
   "metadata": {},
   "source": [
    "### Simulations of Water Regulation Procedure\n",
    "\n",
    "We would like to set up a skeleton for the day-to-day decision making of hydropower producers and the Water Regulation Company. The main steps of the Water Regulation company consist of:\n",
    "\n",
    "* Determining a Reference Flow for the next nomination period (Inflow Forecasting)\n",
    "* Receiving pre-bid nominations and calculating adjusted flow, power swaps, etc. -> Send these parameters back to the participants\n",
    "* Recalculate based on renominations by power producers after bidding\n",
    "\n",
    "For the Power Producers / Participants:  \n",
    "\n",
    "* Fetch and Calculate all Parameters for the Water Regulation Procedure (Individual Reservoir Level etc.)\n",
    "* Price and Inflow Forecasting (Fix Price Points)\n",
    "* Medium-Term Hydropower Model Calculation, obtain Water Value Cuts\n",
    "* Decision Model 1: Bidding and Pre-Market Clearing Nomination\n",
    "* Decision Model 2: Short-Term Optimization and Renomination\n",
    "* Decision Model 3: Fixed Water Flow scheduling and real time balancing\n",
    "\n",
    "This constitutes one round of simulation.\n"
   ]
  },
  {
   "cell_type": "code",
   "execution_count": 57,
   "metadata": {},
   "outputs": [
    {
     "name": "stdout",
     "output_type": "stream",
     "text": [
      "The reservoir system consists of [\"Flasjon\", \"Holsmjon\"]\n"
     ]
    },
    {
     "name": "stdout",
     "output_type": "stream",
     "text": [
      "Downstream of the reservoirs we have power plants [\"Flasjo\", \"Trangfors\", \"Ratan\", \"Turinge\", \"Bursnas\", \"Parteboda\", \"Hermansboda\", \"Ljunga\", \"Nederede\", \"Skallbole\", \"Matfors\", \"Viforsen\", \"Jarnvagsforsen\"]\n",
      "Sydkraft owns HydropowerPlant[Flasjo, Trangfors, Ratan, Turinge, Bursnas], which constitutes a participation rate of: \n",
      " Flasjon  | 1.84    \n",
      "Holsmjon | 0.0     \n",
      "\n",
      "Fortum owns HydropowerPlant[Parteboda, Hermansboda, Ljunga], which constitutes a participation rate of: \n",
      " Flasjon  | 0.8200000000000001\n",
      "Holsmjon | 0.8200000000000001\n",
      "\n",
      "Statkraft owns HydropowerPlant[Nederede, Skallbole, Matfors, Viforsen, Jarnvagsforsen], which constitutes a participation rate of: \n",
      " Flasjon  | 1.86    \n",
      "Holsmjon | 1.86    \n",
      "\n"
     ]
    }
   ],
   "source": [
    "filepath_Ljungan = dirname(pwd()) * \"\\\\Water_Regulation\\\\TestDataWaterRegulation\\\\Ljungan.json\"\n",
    "filepath_prices = dirname(pwd()) *  \"\\\\Data\\\\Spot Prices\\\\prices_df.csv\"\n",
    "filepath_results = dirname(pwd()) * \"\\\\Results\\\\LambdaZero\\\\\"\n",
    "R, K, J = read_data(filepath_Ljungan)\n",
    "\n",
    "println(\"The reservoir system consists of $([r.dischargepoint for r in R])\")\n",
    "println(\"Downstream of the reservoirs we have power plants $([k.name for k in K])\")\n",
    "for j in J\n",
    "    println(\"$(j.name) owns $(j.plants), which constitutes a participation rate of: \\n \", j.participationrate)\n",
    "end"
   ]
  },
  {
   "cell_type": "markdown",
   "metadata": {},
   "source": [
    "#### Load Data\n",
    "\n",
    "Other than the river system, the relevant data for optimization is organized in Dataframes.\n",
    "We load in cleaned versions of the data."
   ]
  },
  {
   "cell_type": "code",
   "execution_count": 58,
   "metadata": {},
   "outputs": [
    {
     "data": {
      "text/html": [
       "<div><div style = \"float: left;\"><span>10×29 DataFrame</span></div><div style = \"clear: both;\"></div></div><div class = \"data-frame\" style = \"overflow-x: scroll;\"><table class = \"data-frame\" style = \"margin-bottom: 6px;\"><thead><tr class = \"header\"><th class = \"rowNumber\" style = \"font-weight: bold; text-align: right;\">Row</th><th style = \"text-align: left;\">Date</th><th style = \"text-align: left;\">0</th><th style = \"text-align: left;\">1</th><th style = \"text-align: left;\">2</th><th style = \"text-align: left;\">3</th><th style = \"text-align: left;\">4</th><th style = \"text-align: left;\">5</th><th style = \"text-align: left;\">6</th><th style = \"text-align: left;\">7</th><th style = \"text-align: left;\">8</th><th style = \"text-align: left;\">9</th><th style = \"text-align: left;\">10</th><th style = \"text-align: left;\">11</th><th style = \"text-align: left;\">12</th><th style = \"text-align: left;\">13</th><th style = \"text-align: left;\">14</th><th style = \"text-align: left;\">15</th><th style = \"text-align: left;\">16</th><th style = \"text-align: left;\">17</th><th style = \"text-align: left;\">18</th><th style = \"text-align: left;\">19</th><th style = \"text-align: left;\">20</th><th style = \"text-align: left;\">21</th><th style = \"text-align: left;\">22</th><th style = \"text-align: left;\">23</th><th style = \"text-align: left;\">Average</th><th style = \"text-align: left;\">season</th><th style = \"text-align: left;\">Weekday</th><th style = \"text-align: left;\">CalendarWeek</th></tr><tr class = \"subheader headerLastRow\"><th class = \"rowNumber\" style = \"font-weight: bold; text-align: right;\"></th><th title = \"Date\" style = \"text-align: left;\">Date</th><th title = \"Float64\" style = \"text-align: left;\">Float64</th><th title = \"Float64\" style = \"text-align: left;\">Float64</th><th title = \"Float64\" style = \"text-align: left;\">Float64</th><th title = \"Float64\" style = \"text-align: left;\">Float64</th><th title = \"Float64\" style = \"text-align: left;\">Float64</th><th title = \"Float64\" style = \"text-align: left;\">Float64</th><th title = \"Float64\" style = \"text-align: left;\">Float64</th><th title = \"Float64\" style = \"text-align: left;\">Float64</th><th title = \"Float64\" style = \"text-align: left;\">Float64</th><th title = \"Float64\" style = \"text-align: left;\">Float64</th><th title = \"Float64\" style = \"text-align: left;\">Float64</th><th title = \"Float64\" style = \"text-align: left;\">Float64</th><th title = \"Float64\" style = \"text-align: left;\">Float64</th><th title = \"Float64\" style = \"text-align: left;\">Float64</th><th title = \"Float64\" style = \"text-align: left;\">Float64</th><th title = \"Float64\" style = \"text-align: left;\">Float64</th><th title = \"Float64\" style = \"text-align: left;\">Float64</th><th title = \"Float64\" style = \"text-align: left;\">Float64</th><th title = \"Float64\" style = \"text-align: left;\">Float64</th><th title = \"Float64\" style = \"text-align: left;\">Float64</th><th title = \"Float64\" style = \"text-align: left;\">Float64</th><th title = \"Float64\" style = \"text-align: left;\">Float64</th><th title = \"Float64\" style = \"text-align: left;\">Float64</th><th title = \"Float64\" style = \"text-align: left;\">Float64</th><th title = \"Float64\" style = \"text-align: left;\">Float64</th><th title = \"String\" style = \"text-align: left;\">String</th><th title = \"String\" style = \"text-align: left;\">String</th><th title = \"Int64\" style = \"text-align: left;\">Int64</th></tr></thead><tbody><tr><td class = \"rowNumber\" style = \"font-weight: bold; text-align: right;\">1</td><td style = \"text-align: left;\">2020-12-15</td><td style = \"text-align: right;\">17.57</td><td style = \"text-align: right;\">17.57</td><td style = \"text-align: right;\">16.92</td><td style = \"text-align: right;\">16.88</td><td style = \"text-align: right;\">18.95</td><td style = \"text-align: right;\">20.39</td><td style = \"text-align: right;\">22.31</td><td style = \"text-align: right;\">24.59</td><td style = \"text-align: right;\">31.41</td><td style = \"text-align: right;\">31.49</td><td style = \"text-align: right;\">31.62</td><td style = \"text-align: right;\">30.52</td><td style = \"text-align: right;\">35.9</td><td style = \"text-align: right;\">38.1</td><td style = \"text-align: right;\">40.08</td><td style = \"text-align: right;\">43.08</td><td style = \"text-align: right;\">37.32</td><td style = \"text-align: right;\">51.13</td><td style = \"text-align: right;\">47.54</td><td style = \"text-align: right;\">40.77</td><td style = \"text-align: right;\">35.2</td><td style = \"text-align: right;\">28.45</td><td style = \"text-align: right;\">23.67</td><td style = \"text-align: right;\">21.86</td><td style = \"text-align: right;\">30.1383</td><td style = \"text-align: left;\">Winter</td><td style = \"text-align: left;\">Weekday</td><td style = \"text-align: right;\">51</td></tr><tr><td class = \"rowNumber\" style = \"font-weight: bold; text-align: right;\">2</td><td style = \"text-align: left;\">2020-12-16</td><td style = \"text-align: right;\">20.48</td><td style = \"text-align: right;\">19.32</td><td style = \"text-align: right;\">19.0</td><td style = \"text-align: right;\">19.02</td><td style = \"text-align: right;\">20.19</td><td style = \"text-align: right;\">21.98</td><td style = \"text-align: right;\">22.71</td><td style = \"text-align: right;\">32.71</td><td style = \"text-align: right;\">48.37</td><td style = \"text-align: right;\">43.68</td><td style = \"text-align: right;\">42.01</td><td style = \"text-align: right;\">37.92</td><td style = \"text-align: right;\">36.56</td><td style = \"text-align: right;\">36.42</td><td style = \"text-align: right;\">39.16</td><td style = \"text-align: right;\">46.54</td><td style = \"text-align: right;\">46.4</td><td style = \"text-align: right;\">39.41</td><td style = \"text-align: right;\">35.78</td><td style = \"text-align: right;\">24.74</td><td style = \"text-align: right;\">22.78</td><td style = \"text-align: right;\">22.15</td><td style = \"text-align: right;\">21.48</td><td style = \"text-align: right;\">20.12</td><td style = \"text-align: right;\">30.7887</td><td style = \"text-align: left;\">Winter</td><td style = \"text-align: left;\">Weekday</td><td style = \"text-align: right;\">51</td></tr><tr><td class = \"rowNumber\" style = \"font-weight: bold; text-align: right;\">3</td><td style = \"text-align: left;\">2020-12-17</td><td style = \"text-align: right;\">19.03</td><td style = \"text-align: right;\">17.93</td><td style = \"text-align: right;\">17.53</td><td style = \"text-align: right;\">17.28</td><td style = \"text-align: right;\">17.97</td><td style = \"text-align: right;\">20.0</td><td style = \"text-align: right;\">22.09</td><td style = \"text-align: right;\">23.64</td><td style = \"text-align: right;\">26.79</td><td style = \"text-align: right;\">25.28</td><td style = \"text-align: right;\">24.43</td><td style = \"text-align: right;\">24.3</td><td style = \"text-align: right;\">23.67</td><td style = \"text-align: right;\">23.99</td><td style = \"text-align: right;\">23.97</td><td style = \"text-align: right;\">25.06</td><td style = \"text-align: right;\">25.38</td><td style = \"text-align: right;\">26.07</td><td style = \"text-align: right;\">24.22</td><td style = \"text-align: right;\">23.16</td><td style = \"text-align: right;\">22.19</td><td style = \"text-align: right;\">21.97</td><td style = \"text-align: right;\">20.76</td><td style = \"text-align: right;\">18.99</td><td style = \"text-align: right;\">22.3208</td><td style = \"text-align: left;\">Winter</td><td style = \"text-align: left;\">Weekday</td><td style = \"text-align: right;\">51</td></tr><tr><td class = \"rowNumber\" style = \"font-weight: bold; text-align: right;\">4</td><td style = \"text-align: left;\">2020-12-18</td><td style = \"text-align: right;\">16.96</td><td style = \"text-align: right;\">16.65</td><td style = \"text-align: right;\">16.17</td><td style = \"text-align: right;\">16.3</td><td style = \"text-align: right;\">17.3</td><td style = \"text-align: right;\">19.39</td><td style = \"text-align: right;\">19.99</td><td style = \"text-align: right;\">22.43</td><td style = \"text-align: right;\">23.74</td><td style = \"text-align: right;\">23.96</td><td style = \"text-align: right;\">22.82</td><td style = \"text-align: right;\">22.5</td><td style = \"text-align: right;\">22.44</td><td style = \"text-align: right;\">22.23</td><td style = \"text-align: right;\">22.42</td><td style = \"text-align: right;\">22.91</td><td style = \"text-align: right;\">23.11</td><td style = \"text-align: right;\">23.83</td><td style = \"text-align: right;\">22.59</td><td style = \"text-align: right;\">21.01</td><td style = \"text-align: right;\">19.43</td><td style = \"text-align: right;\">19.04</td><td style = \"text-align: right;\">17.82</td><td style = \"text-align: right;\">15.92</td><td style = \"text-align: right;\">20.4567</td><td style = \"text-align: left;\">Winter</td><td style = \"text-align: left;\">Weekday</td><td style = \"text-align: right;\">51</td></tr><tr><td class = \"rowNumber\" style = \"font-weight: bold; text-align: right;\">5</td><td style = \"text-align: left;\">2020-12-19</td><td style = \"text-align: right;\">16.48</td><td style = \"text-align: right;\">15.98</td><td style = \"text-align: right;\">15.47</td><td style = \"text-align: right;\">15.31</td><td style = \"text-align: right;\">15.3</td><td style = \"text-align: right;\">15.52</td><td style = \"text-align: right;\">15.87</td><td style = \"text-align: right;\">15.92</td><td style = \"text-align: right;\">16.48</td><td style = \"text-align: right;\">17.01</td><td style = \"text-align: right;\">17.36</td><td style = \"text-align: right;\">17.47</td><td style = \"text-align: right;\">17.27</td><td style = \"text-align: right;\">17.29</td><td style = \"text-align: right;\">17.33</td><td style = \"text-align: right;\">17.54</td><td style = \"text-align: right;\">17.96</td><td style = \"text-align: right;\">18.39</td><td style = \"text-align: right;\">17.77</td><td style = \"text-align: right;\">17.03</td><td style = \"text-align: right;\">15.92</td><td style = \"text-align: right;\">15.69</td><td style = \"text-align: right;\">15.22</td><td style = \"text-align: right;\">13.65</td><td style = \"text-align: right;\">16.4679</td><td style = \"text-align: left;\">Winter</td><td style = \"text-align: left;\">Weekend</td><td style = \"text-align: right;\">51</td></tr><tr><td class = \"rowNumber\" style = \"font-weight: bold; text-align: right;\">6</td><td style = \"text-align: left;\">2020-12-20</td><td style = \"text-align: right;\">13.0</td><td style = \"text-align: right;\">12.04</td><td style = \"text-align: right;\">11.79</td><td style = \"text-align: right;\">11.65</td><td style = \"text-align: right;\">11.79</td><td style = \"text-align: right;\">11.98</td><td style = \"text-align: right;\">12.53</td><td style = \"text-align: right;\">12.7</td><td style = \"text-align: right;\">13.25</td><td style = \"text-align: right;\">14.28</td><td style = \"text-align: right;\">15.37</td><td style = \"text-align: right;\">15.94</td><td style = \"text-align: right;\">15.83</td><td style = \"text-align: right;\">15.37</td><td style = \"text-align: right;\">15.98</td><td style = \"text-align: right;\">16.84</td><td style = \"text-align: right;\">17.09</td><td style = \"text-align: right;\">17.29</td><td style = \"text-align: right;\">17.06</td><td style = \"text-align: right;\">16.3</td><td style = \"text-align: right;\">15.32</td><td style = \"text-align: right;\">15.23</td><td style = \"text-align: right;\">14.65</td><td style = \"text-align: right;\">13.02</td><td style = \"text-align: right;\">14.4292</td><td style = \"text-align: left;\">Winter</td><td style = \"text-align: left;\">Weekend</td><td style = \"text-align: right;\">51</td></tr><tr><td class = \"rowNumber\" style = \"font-weight: bold; text-align: right;\">7</td><td style = \"text-align: left;\">2020-12-21</td><td style = \"text-align: right;\">11.9</td><td style = \"text-align: right;\">11.2</td><td style = \"text-align: right;\">11.5</td><td style = \"text-align: right;\">11.73</td><td style = \"text-align: right;\">12.81</td><td style = \"text-align: right;\">14.37</td><td style = \"text-align: right;\">16.67</td><td style = \"text-align: right;\">19.74</td><td style = \"text-align: right;\">20.6</td><td style = \"text-align: right;\">19.92</td><td style = \"text-align: right;\">19.32</td><td style = \"text-align: right;\">19.39</td><td style = \"text-align: right;\">19.44</td><td style = \"text-align: right;\">19.2</td><td style = \"text-align: right;\">19.45</td><td style = \"text-align: right;\">20.65</td><td style = \"text-align: right;\">20.55</td><td style = \"text-align: right;\">20.35</td><td style = \"text-align: right;\">19.49</td><td style = \"text-align: right;\">18.03</td><td style = \"text-align: right;\">16.17</td><td style = \"text-align: right;\">14.47</td><td style = \"text-align: right;\">13.18</td><td style = \"text-align: right;\">8.66</td><td style = \"text-align: right;\">16.6163</td><td style = \"text-align: left;\">Winter</td><td style = \"text-align: left;\">Weekday</td><td style = \"text-align: right;\">52</td></tr><tr><td class = \"rowNumber\" style = \"font-weight: bold; text-align: right;\">8</td><td style = \"text-align: left;\">2020-12-22</td><td style = \"text-align: right;\">7.15</td><td style = \"text-align: right;\">5.51</td><td style = \"text-align: right;\">4.77</td><td style = \"text-align: right;\">4.44</td><td style = \"text-align: right;\">4.84</td><td style = \"text-align: right;\">7.73</td><td style = \"text-align: right;\">12.82</td><td style = \"text-align: right;\">15.97</td><td style = \"text-align: right;\">17.87</td><td style = \"text-align: right;\">18.0</td><td style = \"text-align: right;\">18.09</td><td style = \"text-align: right;\">18.01</td><td style = \"text-align: right;\">18.01</td><td style = \"text-align: right;\">17.57</td><td style = \"text-align: right;\">18.08</td><td style = \"text-align: right;\">18.62</td><td style = \"text-align: right;\">19.67</td><td style = \"text-align: right;\">19.87</td><td style = \"text-align: right;\">19.79</td><td style = \"text-align: right;\">18.01</td><td style = \"text-align: right;\">16.88</td><td style = \"text-align: right;\">16.05</td><td style = \"text-align: right;\">15.05</td><td style = \"text-align: right;\">13.71</td><td style = \"text-align: right;\">14.4379</td><td style = \"text-align: left;\">Winter</td><td style = \"text-align: left;\">Weekday</td><td style = \"text-align: right;\">52</td></tr><tr><td class = \"rowNumber\" style = \"font-weight: bold; text-align: right;\">9</td><td style = \"text-align: left;\">2020-12-23</td><td style = \"text-align: right;\">13.38</td><td style = \"text-align: right;\">13.1</td><td style = \"text-align: right;\">12.9</td><td style = \"text-align: right;\">12.93</td><td style = \"text-align: right;\">13.14</td><td style = \"text-align: right;\">14.72</td><td style = \"text-align: right;\">15.99</td><td style = \"text-align: right;\">18.59</td><td style = \"text-align: right;\">19.21</td><td style = \"text-align: right;\">19.51</td><td style = \"text-align: right;\">18.97</td><td style = \"text-align: right;\">19.33</td><td style = \"text-align: right;\">19.55</td><td style = \"text-align: right;\">19.4</td><td style = \"text-align: right;\">19.66</td><td style = \"text-align: right;\">19.96</td><td style = \"text-align: right;\">20.56</td><td style = \"text-align: right;\">21.79</td><td style = \"text-align: right;\">20.77</td><td style = \"text-align: right;\">18.95</td><td style = \"text-align: right;\">17.82</td><td style = \"text-align: right;\">16.94</td><td style = \"text-align: right;\">16.16</td><td style = \"text-align: right;\">15.07</td><td style = \"text-align: right;\">17.4333</td><td style = \"text-align: left;\">Winter</td><td style = \"text-align: left;\">Weekday</td><td style = \"text-align: right;\">52</td></tr><tr><td class = \"rowNumber\" style = \"font-weight: bold; text-align: right;\">10</td><td style = \"text-align: left;\">2020-12-24</td><td style = \"text-align: right;\">13.44</td><td style = \"text-align: right;\">12.19</td><td style = \"text-align: right;\">10.57</td><td style = \"text-align: right;\">9.44</td><td style = \"text-align: right;\">9.1</td><td style = \"text-align: right;\">10.74</td><td style = \"text-align: right;\">11.36</td><td style = \"text-align: right;\">13.31</td><td style = \"text-align: right;\">16.01</td><td style = \"text-align: right;\">17.78</td><td style = \"text-align: right;\">18.14</td><td style = \"text-align: right;\">18.0</td><td style = \"text-align: right;\">18.07</td><td style = \"text-align: right;\">17.48</td><td style = \"text-align: right;\">17.35</td><td style = \"text-align: right;\">17.64</td><td style = \"text-align: right;\">18.2</td><td style = \"text-align: right;\">17.55</td><td style = \"text-align: right;\">15.9</td><td style = \"text-align: right;\">14.35</td><td style = \"text-align: right;\">14.49</td><td style = \"text-align: right;\">14.47</td><td style = \"text-align: right;\">14.52</td><td style = \"text-align: right;\">13.94</td><td style = \"text-align: right;\">14.7517</td><td style = \"text-align: left;\">Winter</td><td style = \"text-align: left;\">Weekday</td><td style = \"text-align: right;\">52</td></tr></tbody></table></div>"
      ],
      "text/latex": [
       "\\begin{tabular}{r|cccccccccc}\n",
       "\t& Date & 0 & 1 & 2 & 3 & 4 & 5 & 6 & 7 & \\\\\n",
       "\t\\hline\n",
       "\t& Date & Float64 & Float64 & Float64 & Float64 & Float64 & Float64 & Float64 & Float64 & \\\\\n",
       "\t\\hline\n",
       "\t1 & 2020-12-15 & 17.57 & 17.57 & 16.92 & 16.88 & 18.95 & 20.39 & 22.31 & 24.59 & $\\dots$ \\\\\n",
       "\t2 & 2020-12-16 & 20.48 & 19.32 & 19.0 & 19.02 & 20.19 & 21.98 & 22.71 & 32.71 & $\\dots$ \\\\\n",
       "\t3 & 2020-12-17 & 19.03 & 17.93 & 17.53 & 17.28 & 17.97 & 20.0 & 22.09 & 23.64 & $\\dots$ \\\\\n",
       "\t4 & 2020-12-18 & 16.96 & 16.65 & 16.17 & 16.3 & 17.3 & 19.39 & 19.99 & 22.43 & $\\dots$ \\\\\n",
       "\t5 & 2020-12-19 & 16.48 & 15.98 & 15.47 & 15.31 & 15.3 & 15.52 & 15.87 & 15.92 & $\\dots$ \\\\\n",
       "\t6 & 2020-12-20 & 13.0 & 12.04 & 11.79 & 11.65 & 11.79 & 11.98 & 12.53 & 12.7 & $\\dots$ \\\\\n",
       "\t7 & 2020-12-21 & 11.9 & 11.2 & 11.5 & 11.73 & 12.81 & 14.37 & 16.67 & 19.74 & $\\dots$ \\\\\n",
       "\t8 & 2020-12-22 & 7.15 & 5.51 & 4.77 & 4.44 & 4.84 & 7.73 & 12.82 & 15.97 & $\\dots$ \\\\\n",
       "\t9 & 2020-12-23 & 13.38 & 13.1 & 12.9 & 12.93 & 13.14 & 14.72 & 15.99 & 18.59 & $\\dots$ \\\\\n",
       "\t10 & 2020-12-24 & 13.44 & 12.19 & 10.57 & 9.44 & 9.1 & 10.74 & 11.36 & 13.31 & $\\dots$ \\\\\n",
       "\\end{tabular}\n"
      ],
      "text/plain": [
       "\u001b[1m10×29 DataFrame\u001b[0m\n",
       "\u001b[1m Row \u001b[0m│\u001b[1m Date       \u001b[0m\u001b[1m 0       \u001b[0m\u001b[1m 1       \u001b[0m\u001b[1m 2       \u001b[0m\u001b[1m 3       \u001b[0m\u001b[1m 4       \u001b[0m\u001b[1m 5       \u001b[0m\u001b[1m 6    \u001b[0m ⋯\n",
       "     │\u001b[90m Date       \u001b[0m\u001b[90m Float64 \u001b[0m\u001b[90m Float64 \u001b[0m\u001b[90m Float64 \u001b[0m\u001b[90m Float64 \u001b[0m\u001b[90m Float64 \u001b[0m\u001b[90m Float64 \u001b[0m\u001b[90m Float\u001b[0m ⋯\n",
       "─────┼──────────────────────────────────────────────────────────────────────────\n",
       "   1 │ 2020-12-15    17.57    17.57    16.92    16.88    18.95    20.39    22. ⋯\n",
       "   2 │ 2020-12-16    20.48    19.32    19.0     19.02    20.19    21.98    22.\n",
       "   3 │ 2020-12-17    19.03    17.93    17.53    17.28    17.97    20.0     22.\n",
       "   4 │ 2020-12-18    16.96    16.65    16.17    16.3     17.3     19.39    19.\n",
       "   5 │ 2020-12-19    16.48    15.98    15.47    15.31    15.3     15.52    15. ⋯\n",
       "   6 │ 2020-12-20    13.0     12.04    11.79    11.65    11.79    11.98    12.\n",
       "   7 │ 2020-12-21    11.9     11.2     11.5     11.73    12.81    14.37    16.\n",
       "   8 │ 2020-12-22     7.15     5.51     4.77     4.44     4.84     7.73    12.\n",
       "   9 │ 2020-12-23    13.38    13.1     12.9     12.93    13.14    14.72    15. ⋯\n",
       "  10 │ 2020-12-24    13.44    12.19    10.57     9.44     9.1     10.74    11.\n",
       "\u001b[36m                                                              22 columns omitted\u001b[0m"
      ]
     },
     "metadata": {},
     "output_type": "display_data"
    }
   ],
   "source": [
    "filepath_prices = dirname(pwd()) * \"\\\\Inflow Forecasting\\\\Data\\\\Spot Prices\\\\prices_df.csv\"\n",
    "filepath_inflows = dirname(pwd()) * \"\\\\Inflow Forecasting\\\\Data\\\\Inflow\\\\Data from Flasjoen and Holmsjoen.csv\"\n",
    "\n",
    "price_data = prepare_pricedata(filepath_prices)\n",
    "inflow_data = prepare_inflowdata(filepath_inflows)\n",
    "\n",
    "first(price_data, 10)"
   ]
  },
  {
   "cell_type": "markdown",
   "metadata": {},
   "source": [
    "### Price Forecasting\n",
    "\n",
    "Price is sensitive to various factors. Daytime, Weekday and time of year play a relevant role in how prices usually behave.\n",
    "\n",
    "* For the bidding and short-term optimization problems, part of the uncertainty lies in unknown hourly prices.\n",
    "\n",
    "* For the medium term problem, we are interested in daily (average) prices.\n",
    "\n",
    "* We want to obtain Price Points which will be important in the analysis from the historic data.\n",
    "\n",
    "* We need penalty parameters for using the balancing markets, which could be obtained from using maximum / minimum values fromm observed spot market prices / generated scenarios."
   ]
  },
  {
   "cell_type": "code",
   "execution_count": 72,
   "metadata": {},
   "outputs": [
    {
     "name": "stdout",
     "output_type": "stream",
     "text": [
      "[0.0, 24.99020833333333, 38.896645833333324, 48.37614583333334, 57.50072916666666, 69.75064583333332, 83.69897916666667, 99.48597916666667, 126.35843750000002, 159.07406250000003, 221.68049999999988, 440.0]"
     ]
    },
    {
     "name": "stdout",
     "output_type": "stream",
     "text": [
      "\n",
      "5.266666666666668 - 455.44\n"
     ]
    }
   ],
   "source": [
    "const scenario_count_prices_short = 2\n",
    "const scenario_count_prices_medium = 2\n",
    "const stage_count_short = 2\n",
    "const stage_count_medium = 52\n",
    "const price_point_count = 5\n",
    "const T = 24\n",
    "const currentweek = 2\n",
    "\n",
    "PriceScenariosMedium = Price_Scenarios_Medium(price_data, scenario_count_prices_medium)\n",
    "PriceScenariosShort = Price_Scenarios_Short(price_data, scenario_count_prices_short, stage_count_short)\n",
    "PPoints = Create_Price_Points(price_data, 10)\n",
    "mu_up, mu_down = BalanceParameters(price_data)\n",
    "\n",
    "println(PPoints)\n",
    "println(mu_up,\" - \", mu_down)"
   ]
  },
  {
   "cell_type": "markdown",
   "metadata": {},
   "source": [
    "### Inflow Forecasting\n",
    "\n",
    "Inflow has extreme seasonal differences, depending on geographical location.  \n",
    "For the Ljungan River System we could observe that most inflow occurs during the spring melt around May."
   ]
  },
  {
   "cell_type": "code",
   "execution_count": 60,
   "metadata": {},
   "outputs": [
    {
     "name": "stderr",
     "output_type": "stream",
     "text": [
      "WARNING: redefinition of constant ColumnReservoir. This may fail, cause incorrect answers, or produce other errors.\n"
     ]
    },
    {
     "data": {
      "text/plain": [
       "2-element Vector{Pair{Int64, Dict{Reservoir, Vector{Float64}}}}:\n",
       " 2 => Dict(Flasjon => [8.16, 6.67], Holsmjon => [22.0, 52.5])\n",
       " 1 => Dict(Flasjon => [13.53, 6.91], Holsmjon => [8.4, 2.0])"
      ]
     },
     "metadata": {},
     "output_type": "display_data"
    }
   ],
   "source": [
    "const ColumnReservoir = Dict{Reservoir, String}(R[1] => \"Flasjon Inflow\", R[2] => \"Holmsjon Inflow\")\n",
    "const scenario_count_inflows_weekly = 2\n",
    "const scenario_count_inflows_short = 1\n",
    "\n",
    "\n",
    "InflowScenariosShort = Inflow_Scenarios_Short(inflow_data, scenario_count_inflows_short, ColumnReservoir, R, stage_count_short, scenario_count_prices_short)\n",
    "InflowScenariosMedium = Inflow_Scenarios_Medium(inflow_data, ColumnReservoir, scenario_count_inflows_weekly, R)\n",
    "first(InflowScenariosShort, 10)"
   ]
  },
  {
   "cell_type": "markdown",
   "metadata": {},
   "source": [
    "### Reference Flow\n",
    "\n",
    "To calculate a reference flow for each reservoir, the Water Regulation Company has to combine information from inflow, historical reservoir trajectories and current reservoir level.  "
   ]
  },
  {
   "cell_type": "code",
   "execution_count": 61,
   "metadata": {},
   "outputs": [
    {
     "data": {
      "text/plain": [
       "Dict{Reservoir, Float64} with 2 entries:\n",
       "  Flasjon  => 142.123\n",
       "  Holsmjon => 59.9543"
      ]
     },
     "metadata": {},
     "output_type": "display_data"
    }
   ],
   "source": [
    "l_traj, f = AverageReservoirLevel(R, inflow_data)\n",
    "Qref = CalculateReferenceFlow(R, l_traj, f, 2)"
   ]
  },
  {
   "cell_type": "markdown",
   "metadata": {},
   "source": [
    "## Participants\n",
    "\n",
    "Every Participant individually plans their bidding and production. Irrespective of the strategy, only limited information is available. Internal to the participants problems are \n",
    "\n",
    "* Price Forecasts\n",
    "* Nomination to Water Regulation Company\n",
    "* Bidding at Electricity Market\n",
    "\n",
    "### Medium Term Problem\n",
    "\n",
    "The Medium Term / Seasonal Optimization Problem is necessary to obtain Cuts for the Water Value Function.\n",
    "It is read out from another file as the computation of the medium term model is computationally expensive.\n",
    "Therefore the point of a functioin containing this decision model is to return cut coefficients of the Water Value Function.\n",
    "\n",
    "* What are the inputs to the Medium Term problem?\n",
    "* How are the cuts calculated?\n",
    "* How many cuts should be calculated?"
   ]
  },
  {
   "cell_type": "code",
   "execution_count": 62,
   "metadata": {},
   "outputs": [
    {
     "ename": "KeyError",
     "evalue": "KeyError: key MathOptInterface.ConstraintIndex{MathOptInterface.VariableIndex, MathOptInterface.EqualTo{Float64}}(1) not found",
     "output_type": "error",
     "traceback": [
      "KeyError: key MathOptInterface.ConstraintIndex{MathOptInterface.VariableIndex, MathOptInterface.EqualTo{Float64}}(1) not found\n",
      "\n",
      "Stacktrace:\n",
      "  [1] (::MathOptInterface.Utilities.DoubleDicts.var\"#1#2\"{MathOptInterface.ConstraintIndex{MathOptInterface.VariableIndex, MathOptInterface.EqualTo{Float64}}})()\n",
      "    @ MathOptInterface.Utilities.DoubleDicts C:\\Users\\lenna\\.julia\\packages\\MathOptInterface\\864xP\\src\\Utilities\\DoubleDicts.jl:191\n",
      "  [2] get\n",
      "    @ .\\dict.jl:533 [inlined]\n",
      "  [3] getindex\n",
      "    @ C:\\Users\\lenna\\.julia\\packages\\MathOptInterface\\864xP\\src\\Utilities\\DoubleDicts.jl:190 [inlined]\n",
      "  [4] getindex\n",
      "    @ C:\\Users\\lenna\\.julia\\packages\\MathOptInterface\\864xP\\src\\Utilities\\DoubleDicts.jl:183 [inlined]\n",
      "  [5] getindex\n",
      "    @ C:\\Users\\lenna\\.julia\\packages\\MathOptInterface\\864xP\\src\\Utilities\\copy\\index_map.jl:67 [inlined]\n",
      "  [6] get(model::MathOptInterface.Utilities.CachingOptimizer{MathOptInterface.Bridges.LazyBridgeOptimizer{CPLEX.Optimizer}, MathOptInterface.Utilities.UniversalFallback{MathOptInterface.Utilities.Model{Float64}}}, attr::MathOptInterface.ConstraintDual, index::MathOptInterface.ConstraintIndex{MathOptInterface.VariableIndex, MathOptInterface.EqualTo{Float64}})\n",
      "    @ MathOptInterface.Utilities C:\\Users\\lenna\\.julia\\packages\\MathOptInterface\\864xP\\src\\Utilities\\cachingoptimizer.jl:911\n",
      "  [7] _moi_get_result(::MathOptInterface.Utilities.CachingOptimizer{MathOptInterface.Bridges.LazyBridgeOptimizer{CPLEX.Optimizer}, MathOptInterface.Utilities.UniversalFallback{MathOptInterface.Utilities.Model{Float64}}}, ::MathOptInterface.ConstraintDual, ::Vararg{Any})\n",
      "    @ JuMP C:\\Users\\lenna\\.julia\\packages\\JuMP\\jZvaU\\src\\optimizer_interface.jl:638\n",
      "  [8] get(model::Model, attr::MathOptInterface.ConstraintDual, cr::ConstraintRef{Model, MathOptInterface.ConstraintIndex{MathOptInterface.VariableIndex, MathOptInterface.EqualTo{Float64}}, ScalarShape})\n",
      "    @ JuMP C:\\Users\\lenna\\.julia\\packages\\JuMP\\jZvaU\\src\\optimizer_interface.jl:698\n",
      "  [9] _constraint_dual(con_ref::ConstraintRef{Model, MathOptInterface.ConstraintIndex{MathOptInterface.VariableIndex, MathOptInterface.EqualTo{Float64}}, ScalarShape}, result::Int64)\n",
      "    @ JuMP C:\\Users\\lenna\\.julia\\packages\\JuMP\\jZvaU\\src\\constraints.jl:1066\n",
      " [10] #dual#24\n",
      "    @ C:\\Users\\lenna\\.julia\\packages\\JuMP\\jZvaU\\src\\constraints.jl:1055 [inlined]\n",
      " [11] dual\n",
      "    @ C:\\Users\\lenna\\.julia\\packages\\JuMP\\jZvaU\\src\\constraints.jl:1051 [inlined]\n",
      " [12] evaluate(V::SDDP.ValueFunction{Nothing, Nothing}, point::Dict{Symbol, Float64}; objective_state::Nothing, belief_state::Nothing)\n",
      "    @ SDDP C:\\Users\\lenna\\.julia\\packages\\SDDP\\1uYYz\\src\\visualization\\value_functions.jl:245\n",
      " [13] evaluate(V::SDDP.ValueFunction{Nothing, Nothing}, point::Dict{Symbol, Float64})\n",
      "    @ SDDP C:\\Users\\lenna\\.julia\\packages\\SDDP\\1uYYz\\src\\visualization\\value_functions.jl:217\n",
      " [14] WaterValueCuts(all_res::Vector{Reservoir}, j::Participant, model_medium::SDDP.PolicyGraph{Int64}, cuts::Vector{Dict{Reservoir, Float64}}, week::Int64)\n",
      "    @ Main.WaterRegulation c:\\Users\\lenna\\OneDrive - NTNU\\Code Master Thesis\\Water_Regulation\\WaterRegulation.jl:1324\n",
      " [15] (::var\"#129#130\")(j::Participant)\n",
      "    @ Main .\\none:0\n",
      " [16] iterate\n",
      "    @ .\\generator.jl:47 [inlined]\n",
      " [17] _all(f::Base.var\"#372#374\", itr::Base.Generator{Vector{Participant}, var\"#129#130\"}, #unused#::Colon)\n",
      "    @ Base .\\reduce.jl:1282\n",
      " [18] all\n",
      "    @ .\\reduce.jl:1278 [inlined]\n",
      " [19] Dict(kv::Base.Generator{Vector{Participant}, var\"#129#130\"})\n",
      "    @ Base .\\dict.jl:111\n",
      " [20] top-level scope\n",
      "    @ c:\\Users\\lenna\\OneDrive - NTNU\\Code Master Thesis\\DevelopmentNotebooks\\SimulationSkeleton.ipynb:12"
     ]
    }
   ],
   "source": [
    "const savepath_watervalue = \"C:\\\\Users\\\\lenna\\\\OneDrive - NTNU\\\\Code Master Thesis\\\\Inflow Forecasting\\\\WaterValue\"\n",
    "\n",
    "NameToParticipant = Dict{String, Participant}(j.name => j for j in J)\n",
    "MediumModelDictionary_j_loaded = ReadMediumModel(savepath_watervalue * \"\\\\Participant.jls\", NameToParticipant);\n",
    "MediumModelDictionary_O_loaded = ReadMediumModel(savepath_watervalue * \"\\\\OtherParticipant.jls\", NameToParticipant);\n",
    "\n",
    "\n",
    "cuts_j = Dict(j => ReservoirLevelCuts(R, j.plants, j, f, currentweek, stage_count_short) for j in J)\n",
    "Others = Dict(j => OtherParticipant(J,j,R)[1] for j in J)\n",
    "cutsOther = Dict(j => ReservoirLevelCuts(R, Others[j].plants, Others[j], f, currentweek, stage_count_short) for j in J)\n",
    "WaterCuts = Dict(j => WaterValueCuts(R, j, MediumModelDictionary_j_loaded[j], cuts_j[j], currentweek) for j in J)\n",
    "WaterCutsOther = Dict(j => WaterValueCuts(R, j, MediumModelDictionary_O_loaded[j], cutsOther[j], currentweek) for j in J)\n",
    "\n",
    "WaterCuts[J[3]]"
   ]
  },
  {
   "cell_type": "markdown",
   "metadata": {},
   "source": [
    "### Create Uncertainty Set - Bidding\n",
    "\n",
    "Depending on the Problem, we create the uncertainty sets from both price and inflow Scenarios.\n",
    "This becomes more difficult for the Anticipatory Bidding Problem."
   ]
  },
  {
   "cell_type": "code",
   "execution_count": 63,
   "metadata": {},
   "outputs": [
    {
     "ename": "MethodError",
     "evalue": "MethodError: no method matching create_Ω_Nonanticipatory(::Dict{Int64, Vector{Vector{Float64}}}, ::Dict{Int64, Dict{Reservoir, Vector{Float64}}}, ::Vector{Reservoir}, ::Int64, ::Int64, ::Int64)\n\nClosest candidates are:\n  create_Ω_Nonanticipatory(!Matched::DataFrame, !Matched::DataFrame, !Matched::Int64, ::Int64, ::Int64, !Matched::Vector{Reservoir}, !Matched::Int64, !Matched::Dict{Reservoir, String})\n   @ Main.WaterRegulation c:\\Users\\lenna\\OneDrive - NTNU\\Code Master Thesis\\Water_Regulation\\WaterRegulation.jl:1544\n",
     "output_type": "error",
     "traceback": [
      "MethodError: no method matching create_Ω_Nonanticipatory(::Dict{Int64, Vector{Vector{Float64}}}, ::Dict{Int64, Dict{Reservoir, Vector{Float64}}}, ::Vector{Reservoir}, ::Int64, ::Int64, ::Int64)\n",
      "\n",
      "Closest candidates are:\n",
      "  create_Ω_Nonanticipatory(!Matched::DataFrame, !Matched::DataFrame, !Matched::Int64, ::Int64, ::Int64, !Matched::Vector{Reservoir}, !Matched::Int64, !Matched::Dict{Reservoir, String})\n",
      "   @ Main.WaterRegulation c:\\Users\\lenna\\OneDrive - NTNU\\Code Master Thesis\\Water_Regulation\\WaterRegulation.jl:1544\n",
      "\n",
      "\n",
      "Stacktrace:\n",
      " [1] top-level scope\n",
      "   @ c:\\Users\\lenna\\OneDrive - NTNU\\Code Master Thesis\\DevelopmentNotebooks\\SimulationSkeleton.ipynb:3"
     ]
    }
   ],
   "source": [
    "const iteration_count_short = 10\n",
    "j = J[1]\n",
    "Ω_NA, P_NA, Ω_scenario, P_scenario = create_Ω_Nonanticipatory(PriceScenariosShort, InflowScenariosShort, R, stage_count_short, scenario_count_inflows_short, scenario_count_prices_short)\n",
    "Ω_A, P_A = create_Ω_Anticipatory(Ω_NA, Ω_scenario, P_scenario, J, j, R, PPoints, Qref, cutsOther, WaterCutsOther, stage_count_short, mu_up, mu_down, T)"
   ]
  },
  {
   "cell_type": "markdown",
   "metadata": {},
   "source": [
    "### Bidding Problem\n",
    "\n",
    "* Every Power Producer solves their own Bidding problem with individual Water Value Cuts to obtain their bidding curves and nomination.\n",
    "* The solutions are taken as input for the calculation of the adjusted Flow and Power Swap\n",
    "* The Market clears, and the obligations for the next production day are revealed."
   ]
  },
  {
   "cell_type": "code",
   "execution_count": 64,
   "metadata": {},
   "outputs": [
    {
     "name": "stdout",
     "output_type": "stream",
     "text": [
      "Flasjon  | 3674.0  \n",
      "\n",
      "(e1 = 745580.6154294666, e2 = Dict(Symbol(\"l[Flasjon]\") => 158.23861774724477))\n",
      "-------------------------------------------------------------------\n",
      "         SDDP.jl (c) Oscar Dowson and contributors, 2017-23\n",
      "-------------------------------------------------------------------\n",
      "problem\n",
      "  nodes           : 2\n",
      "  state variables : 296\n",
      "  scenarios       : 4.00000e+00\n",
      "  existing cuts   : false\n",
      "options\n",
      "  solver          : serial mode\n",
      "  risk measure    : SDDP.Expectation()\n",
      "  sampling scheme : SDDP.InSampleMonteCarlo\n",
      "subproblem structure\n",
      "  VariableRef                                                                   : [595, 1054]\n",
      "  AffExpr in MOI.EqualTo{Float64}                                               : [7, 61]\n",
      "  AffExpr in MOI.GreaterThan{Float64}                                           : [115, 115]\n",
      "  AffExpr in MOI.LessThan{Float64}                                              : [264, 514]\n",
      "  VariableRef in MOI.GreaterThan{Float64}                                       : [291, 509]\n",
      "  VariableRef in MOI.LessThan{Float64}                                          : [290, 410]\n",
      "  VariableRef in MOI.ZeroOne                                                    : [6, 246]\n",
      "  Vector{AffExpr} in MOI.Indicator{MOI.ACTIVATE_ON_ONE, MOI.LessThan{Float64}}  : [6, 6]\n",
      "  Vector{AffExpr} in MOI.Indicator{MOI.ACTIVATE_ON_ZERO, MOI.LessThan{Float64}} : [1, 1]\n"
     ]
    },
    {
     "ename": "KeyError",
     "evalue": "KeyError: key Flasjon not found",
     "output_type": "error",
     "traceback": [
      "KeyError: key Flasjon not found\n",
      "\n",
      "Stacktrace:\n",
      "  [1] getindex\n",
      "    @ .\\dict.jl:484 [inlined]\n",
      "  [2] (::Main.WaterRegulation.var\"#2129#2168\"{Model, Int64, Vector{ConstraintRef{Model, MathOptInterface.ConstraintIndex{MathOptInterface.ScalarAffineFunction{Float64}, MathOptInterface.EqualTo{Float64}}, ScalarShape}}, JuMP.Containers.DenseAxisArray{VariableRef, 2, Tuple{Base.OneTo{Int64}, Vector{HydropowerPlant}}, Tuple{JuMP.Containers._AxisLookup{Base.OneTo{Int64}}, JuMP.Containers._AxisLookup{Dict{HydropowerPlant, Int64}}}}, Vector{VariableRef}, JuMP.Containers.DenseAxisArray{VariableRef, 1, Tuple{Vector{Reservoir}}, Tuple{JuMP.Containers._AxisLookup{Dict{Reservoir, Int64}}}}, Vector{VariableRef}, Vector{VariableRef}, Matrix{SDDP.State{VariableRef}}, Int64, Vector{Float64}, Float64, Float64, Int64, Int64, Int64, Vector{Reservoir}, Vector{HydropowerPlant}})(om::NamedTuple{(:inflow, :price), Tuple{Dict{Reservoir, Float64}, Vector{Float64}}})\n",
      "    @ Main.WaterRegulation c:\\Users\\lenna\\OneDrive - NTNU\\Code Master Thesis\\Water_Regulation\\WaterRegulation.jl:677\n",
      "  [3] parameterize(node::SDDP.Node{Int64}, noise::NamedTuple{(:inflow, :price), Tuple{Dict{Reservoir, Float64}, Vector{Float64}}})\n",
      "    @ SDDP C:\\Users\\lenna\\.julia\\packages\\SDDP\\1uYYz\\src\\algorithm.jl:269\n",
      "  [4] numerical_stability_report(io::IOBuffer, model::SDDP.PolicyGraph{Int64}; by_node::Bool, print::Bool, warn::Bool)\n",
      "    @ SDDP C:\\Users\\lenna\\.julia\\packages\\SDDP\\1uYYz\\src\\print.jl:370\n",
      "  [5] numerical_stability_report\n",
      "    @ C:\\Users\\lenna\\.julia\\packages\\SDDP\\1uYYz\\src\\print.jl:357 [inlined]\n",
      "  [6] (::SDDP.var\"#93#100\"{Int64, SDDP.PolicyGraph{Int64}})(io::IOBuffer)\n",
      "    @ SDDP C:\\Users\\lenna\\.julia\\packages\\SDDP\\1uYYz\\src\\algorithm.jl:1034\n",
      "  [7] sprint(::Function; context::Nothing, sizehint::Int64)\n",
      "    @ Base .\\strings\\io.jl:114\n",
      "  [8] sprint\n",
      "    @ .\\strings\\io.jl:107 [inlined]\n",
      "  [9] train(model::SDDP.PolicyGraph{Int64}; iteration_limit::Int64, time_limit::Nothing, print_level::Int64, log_file::String, log_frequency::Int64, log_every_seconds::Float64, run_numerical_stability_report::Bool, stopping_rules::Vector{SDDP.BoundStalling}, risk_measure::SDDP.Expectation, sampling_scheme::SDDP.InSampleMonteCarlo, cut_type::SDDP.CutType, cycle_discretization_delta::Float64, refine_at_similar_nodes::Bool, cut_deletion_minimum::Int64, backward_sampling_scheme::SDDP.CompleteSampler, dashboard::Bool, parallel_scheme::SDDP.Serial, forward_pass::SDDP.DefaultForwardPass, forward_pass_resampling_probability::Nothing, add_to_existing_cuts::Bool, duality_handler::SDDP.ContinuousConicDuality, forward_pass_callback::SDDP.var\"#97#104\", post_iteration_callback::SDDP.var\"#98#105\")\n",
      "    @ SDDP C:\\Users\\lenna\\.julia\\packages\\SDDP\\1uYYz\\src\\algorithm.jl:1033\n",
      " [10] train\n",
      "    @ C:\\Users\\lenna\\.julia\\packages\\SDDP\\1uYYz\\src\\algorithm.jl:942 [inlined]\n",
      " [11] Nonanticipatory_Bidding(all_res::Vector{Reservoir}, j::Participant, PPoints::Vector{Float64}, Ω_NA::Dict{Int64, Vector{NamedTuple{(:inflow, :price), Tuple{Dict{Reservoir, Float64}, Vector{Float64}}}}}, P::Dict{Int64, Vector{Float64}}, Qref::Dict{Reservoir, Float64}, cuts::Vector{Dict{Reservoir, Float64}}, WaterCuts::Dict{Dict{Reservoir, Float64}, NamedTuple{(:e1, :e2), Tuple{Float64, Dict{Symbol, Float64}}}}, iteration_count::Int64, mu_up::Float64, mu_down::Float64, T::Int64, Stages::Int64; S::Int64, printlevel::Int64, stopping_rule::SDDP.BoundStalling, optimizer::Type, DualityHandler::SDDP.ContinuousConicDuality)\n",
      "    @ Main.WaterRegulation c:\\Users\\lenna\\OneDrive - NTNU\\Code Master Thesis\\Water_Regulation\\WaterRegulation.jl:719\n",
      " [12] Nonanticipatory_Bidding(all_res::Vector{Reservoir}, j::Participant, PPoints::Vector{Float64}, Ω_NA::Dict{Int64, Vector{NamedTuple{(:inflow, :price), Tuple{Dict{Reservoir, Float64}, Vector{Float64}}}}}, P::Dict{Int64, Vector{Float64}}, Qref::Dict{Reservoir, Float64}, cuts::Vector{Dict{Reservoir, Float64}}, WaterCuts::Dict{Dict{Reservoir, Float64}, NamedTuple{(:e1, :e2), Tuple{Float64, Dict{Symbol, Float64}}}}, iteration_count::Int64, mu_up::Float64, mu_down::Float64, T::Int64, Stages::Int64)\n",
      "    @ Main.WaterRegulation c:\\Users\\lenna\\OneDrive - NTNU\\Code Master Thesis\\Water_Regulation\\WaterRegulation.jl:604\n",
      " [13] top-level scope\n",
      "    @ c:\\Users\\lenna\\OneDrive - NTNU\\Code Master Thesis\\DevelopmentNotebooks\\SimulationSkeleton.ipynb:9"
     ]
    }
   ],
   "source": [
    "HourlyBiddingCurves = Dict{Participant, Dict{Int64, Vector{Float64}}}()\n",
    "Qnoms = Dict{NamedTuple{(:participant, :reservoir), Tuple{Participant, Reservoir}}, Float64}()\n",
    "Strategy = Dict{Participant, String}(j => \"Nonanticipatory\" for j in J)\n",
    "\n",
    "\n",
    "\n",
    "for j in J\n",
    "    if Strategy[j] == \"Nonanticipatory\"\n",
    "        Qnom, HourlyBiddingCurve = Nonanticipatory_Bidding(R, j, PPoints, Ω_NA, P_NA, Qref, cuts_j[j], WaterCuts[j], iteration_count_short, mu_up, mu_down, T, stage_count_short)\n",
    "        HourlyBiddingCurves[j] = HourlyBiddingCurve\n",
    "    else\n",
    "        Qnom, HourlyBiddingCurve = Anticipatory_Bidding(R, j, PPoints, Ω_A, P_A, Qref, cuts_j[j], WaterCuts[j], iteration_count_short, mu_up, mu_down, T, stage_count_short)\n",
    "        HourlyBiddingCurves[j] = HourlyBiddingCurve\n",
    "    end\n",
    "    for r in R\n",
    "        if j.participationrate[r] > 0\n",
    "            Qnoms[(participant = j, reservoir = r)] = Qnom[r]\n",
    "        else\n",
    "            Qnoms[(participant = j, reservoir = r)] = Qref[r]\n",
    "        end\n",
    "    end\n",
    "end\n"
   ]
  },
  {
   "cell_type": "markdown",
   "metadata": {},
   "source": [
    "### Water Regulation\n",
    "\n",
    "Without Updating the Reservoir Levels, the adjusted flow and Power Swaps are calculated."
   ]
  },
  {
   "cell_type": "code",
   "execution_count": 65,
   "metadata": {},
   "outputs": [
    {
     "name": "stdout",
     "output_type": "stream",
     "text": [
      "Dict{NamedTuple{(:participant, :reservoir), Tuple{Participant, Reservoir}}, Float64}()\n"
     ]
    },
    {
     "ename": "MethodError",
     "evalue": "MethodError: no method matching Calculate_Ersmax(::Vector{Any}, ::Dict{Reservoir, Float64})\n\nClosest candidates are:\n  Calculate_Ersmax(!Matched::Array{HydropowerPlant}, ::Dict{Reservoir, Float64})\n   @ Main.WaterRegulation c:\\Users\\lenna\\OneDrive - NTNU\\Code Master Thesis\\Water_Regulation\\WaterRegulation.jl:375\n",
     "output_type": "error",
     "traceback": [
      "MethodError: no method matching Calculate_Ersmax(::Vector{Any}, ::Dict{Reservoir, Float64})\n",
      "\n",
      "Closest candidates are:\n",
      "  Calculate_Ersmax(!Matched::Array{HydropowerPlant}, ::Dict{Reservoir, Float64})\n",
      "   @ Main.WaterRegulation c:\\Users\\lenna\\OneDrive - NTNU\\Code Master Thesis\\Water_Regulation\\WaterRegulation.jl:375\n",
      "\n",
      "\n",
      "Stacktrace:\n",
      " [1] water_regulation(Qnom::Dict{NamedTuple{(:participant, :reservoir), Tuple{Participant, Reservoir}}, Float64}, Qref::Dict{Reservoir, Float64}, T::Int64, update_res::Bool)\n",
      "   @ Main.WaterRegulation c:\\Users\\lenna\\OneDrive - NTNU\\Code Master Thesis\\Water_Regulation\\WaterRegulation.jl:495\n",
      " [2] top-level scope\n",
      "   @ c:\\Users\\lenna\\OneDrive - NTNU\\Code Master Thesis\\DevelopmentNotebooks\\SimulationSkeleton.ipynb:2"
     ]
    }
   ],
   "source": [
    "println(Qnoms)\n",
    "Qadj, _, P_Swap, _, _, _ = water_regulation(Qnoms, Qref, T, false)\n",
    "println(Qadj)\n",
    "println(P_Swap)"
   ]
  },
  {
   "cell_type": "markdown",
   "metadata": {},
   "source": [
    "### Market Clearing\n",
    "\n",
    "A market clearing price is generated. (From the historical prices)\n",
    "For each hourly bid, the obligation is determined.\n",
    "\n",
    "* Sample a Price for that day (Save Price)\n",
    "* Perform Linear Interpolation between Price Points in which the hourly price lands, and determine the obligation from that\n",
    "* Give Hourly Obligations to each user (Dictionary of Participants and hourly obligations)"
   ]
  },
  {
   "cell_type": "code",
   "execution_count": 66,
   "metadata": {},
   "outputs": [
    {
     "ename": "KeyError",
     "evalue": "KeyError: key Statkraft not found",
     "output_type": "error",
     "traceback": [
      "KeyError: key Statkraft not found\n",
      "\n",
      "Stacktrace:\n",
      " [1] getindex\n",
      "   @ .\\dict.jl:484 [inlined]\n",
      " [2] MarketClearing(price::Vector{Float64}, BiddingCurves::Dict{Participant, Dict{Int64, Vector{Float64}}}, PPoints::Vector{Float64}, J::Vector{Participant}, T::Int64)\n",
      "   @ Main.WaterRegulation c:\\Users\\lenna\\OneDrive - NTNU\\Code Master Thesis\\Water_Regulation\\WaterRegulation.jl:1639\n",
      " [3] top-level scope\n",
      "   @ c:\\Users\\lenna\\OneDrive - NTNU\\Code Master Thesis\\DevelopmentNotebooks\\SimulationSkeleton.ipynb:2"
     ]
    }
   ],
   "source": [
    "price = Price_Scenarios_Short(price_data, 1, stage_count_short)[1][1]\n",
    "Obligations = MarketClearing(price, HourlyBiddingCurves, PPoints, J, T)\n",
    "println(price)\n",
    "for j in J\n",
    "    println(j, \" - \", Obligations[j])\n",
    "end"
   ]
  },
  {
   "cell_type": "markdown",
   "metadata": {},
   "source": [
    "### Short Term Optimization\n",
    "\n",
    "Feed Power Swap and Nomination into Short Term Optimization Model"
   ]
  },
  {
   "cell_type": "code",
   "execution_count": 67,
   "metadata": {},
   "outputs": [
    {
     "ename": "UndefVarError",
     "evalue": "UndefVarError: `Qadj` not defined",
     "output_type": "error",
     "traceback": [
      "UndefVarError: `Qadj` not defined\n",
      "\n",
      "Stacktrace:\n",
      " [1] top-level scope\n",
      "   @ c:\\Users\\lenna\\OneDrive - NTNU\\Code Master Thesis\\DevelopmentNotebooks\\SimulationSkeleton.ipynb:1"
     ]
    }
   ],
   "source": [
    "QnomO = OthersNomination(Qnoms, Qadj, J, R)\n",
    "\n",
    "Qnoms_2 = Dict{NamedTuple{(:participant, :reservoir), Tuple{Participant, Reservoir}}, Float64}()\n",
    "for j in J\n",
    "    println(j)\n",
    "    Qnom =ShortTermScheduling(R, j, J, Qref, Obligations[j], price, QnomO[j], Ω_NA, P_NA, cuts_j[j], WaterCuts[j], iteration_count_short, mu_up,mu_down, T, stage_count_short) \n",
    "    for r in R\n",
    "        if j.participationrate[r] > 0\n",
    "            Qnoms_2[(participant = j, reservoir = r)] = Qnom[r]\n",
    "        else\n",
    "            Qnoms_2[(participant = j, reservoir = r)] = Qref[r]\n",
    "        end\n",
    "    end\n",
    "end"
   ]
  },
  {
   "cell_type": "markdown",
   "metadata": {},
   "source": [
    "### Second Round of Water Regulation\n",
    "\n",
    "This time, the reservoirs are updated accordingly"
   ]
  },
  {
   "cell_type": "code",
   "execution_count": 68,
   "metadata": {},
   "outputs": [
    {
     "ename": "UndefVarError",
     "evalue": "UndefVarError: `Qnoms_2` not defined",
     "output_type": "error",
     "traceback": [
      "UndefVarError: `Qnoms_2` not defined\n",
      "\n",
      "Stacktrace:\n",
      " [1] top-level scope\n",
      "   @ c:\\Users\\lenna\\OneDrive - NTNU\\Code Master Thesis\\DevelopmentNotebooks\\SimulationSkeleton.ipynb:1"
     ]
    }
   ],
   "source": [
    "Qadj_2, _, P_Swap_2, _, _, _ = water_regulation(Qnoms_2, Qref, T, true)\n",
    "println(Qadj_2)\n",
    "println(P_Swap_2)\n",
    "println([r.currentvolume for r in R])"
   ]
  },
  {
   "cell_type": "markdown",
   "metadata": {},
   "source": [
    "### Real Time Balancing and Scheduling"
   ]
  },
  {
   "cell_type": "code",
   "execution_count": 69,
   "metadata": {},
   "outputs": [
    {
     "ename": "UndefVarError",
     "evalue": "UndefVarError: `Qadj_2` not defined",
     "output_type": "error",
     "traceback": [
      "UndefVarError: `Qadj_2` not defined\n",
      "\n",
      "Stacktrace:\n",
      " [1] top-level scope\n",
      "   @ c:\\Users\\lenna\\OneDrive - NTNU\\Code Master Thesis\\DevelopmentNotebooks\\SimulationSkeleton.ipynb:4"
     ]
    }
   ],
   "source": [
    "z_ups = Dict{Participant, Vector{Float64}}()\n",
    "z_downs = Dict{Participant, Vector{Float64}}()\n",
    "for j in J\n",
    "    _, z_up, z_down, w = RealTimeBalancing(\n",
    "        R,\n",
    "        j,\n",
    "        Qadj_2,\n",
    "        P_Swap_2[j],\n",
    "        T,\n",
    "        mu_up,\n",
    "        mu_down,\n",
    "        Obligations[j])\n",
    "    z_ups[j] = z_up\n",
    "    z_downs[j] = z_down\n",
    "end\n",
    "\n",
    "println(z_ups)\n",
    "println(z_downs)"
   ]
  },
  {
   "cell_type": "markdown",
   "metadata": {},
   "source": [
    "### Final Revenues\n",
    "\n",
    "From the final nominations adjusted Flow, Power Swaps, realized prices and balancing actions we can derive how much actual revenue has been generated by each user.\n"
   ]
  },
  {
   "cell_type": "code",
   "execution_count": 70,
   "metadata": {},
   "outputs": [
    {
     "ename": "UndefVarError",
     "evalue": "UndefVarError: `Obligations` not defined",
     "output_type": "error",
     "traceback": [
      "UndefVarError: `Obligations` not defined\n",
      "\n",
      "Stacktrace:\n",
      " [1] top-level scope\n",
      "   @ c:\\Users\\lenna\\OneDrive - NTNU\\Code Master Thesis\\DevelopmentNotebooks\\SimulationSkeleton.ipynb:1"
     ]
    }
   ],
   "source": [
    "Final_Revenue(J, price, Obligations, z_ups, z_downs, mu_up, mu_down, T)\n"
   ]
  },
  {
   "cell_type": "markdown",
   "metadata": {},
   "source": [
    "# Simulation\n",
    "\n",
    "For a preset amount of rounds, we simulate the reservoir system through the functions and structures as described above. It is important to have a way to save results adequately! This encapsulates the calculations, and evaluations and visualizations can take place at a later point in time."
   ]
  }
 ],
 "metadata": {
  "kernelspec": {
   "display_name": "Julia 1.9.2",
   "language": "julia",
   "name": "julia-1.9"
  },
  "language_info": {
   "file_extension": ".jl",
   "mimetype": "application/julia",
   "name": "julia",
   "version": "1.9.2"
  },
  "orig_nbformat": 4
 },
 "nbformat": 4,
 "nbformat_minor": 2
}
