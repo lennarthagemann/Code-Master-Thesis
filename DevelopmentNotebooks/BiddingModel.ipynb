{
 "cells": [
  {
   "cell_type": "code",
   "execution_count": 241,
   "metadata": {},
   "outputs": [],
   "source": [
    "using JuMP\n",
    "using CPLEX\n",
    "using Distributions\n",
    "using LinearAlgebra\n",
    "using Statistics\n",
    "using Dates\n",
    "using DataFrames\n",
    "using SDDP\n",
    "using Plots\n",
    "import CSV\n",
    "using JSON\n",
    "try\n",
    "    using Revise\n",
    "catch e\n",
    "    @warn \"Error initializing Revise\" exception=(e, catch_backtrace())\n",
    "end"
   ]
  },
  {
   "cell_type": "markdown",
   "metadata": {},
   "source": [
    "### Bidding Model  \n",
    "At the Electricity Markets, Participants have to communicate increasing bidding curves of price-volume pairs before market clearing.  \n",
    "Depending on the market clearing price, the delivery of each participant becomes known  \n",
    "We approximate this relation by using linear interpolation of volumes and presetting price Points, for example based on probabilities.\n",
    "\n",
    "$$\n",
    "y_t = \\frac{c_t - P_{t,i} }{P_{t,i+1} - P_{t,i}} \\cdot x_{i,t} + \\frac{P_{t,i+1} - c_t }{P_{t,i+1} - P{t,i}} \\cdot x_{i+1,t}, \\qquad \\text{if} \\; P_{t,i} \\leq c_t \\leq P_{t,i+1}\n",
    "$$\n",
    "\n",
    "The Volumes have to be in increasing order:\n",
    "\n",
    "$$\n",
    "x_{i,t} \\leq x_{i+1,t}\n",
    "$$"
   ]
  },
  {
   "cell_type": "code",
   "execution_count": 260,
   "metadata": {},
   "outputs": [
    {
     "data": {
      "text/plain": [
       "4-element Vector{Float64}:\n",
       "  5.0\n",
       " 15.0\n",
       " 25.0\n",
       " 35.0"
      ]
     },
     "metadata": {},
     "output_type": "display_data"
    }
   ],
   "source": [
    "# Uncertainty Set of Prices and Inflows\n",
    "Omega = [(price = 10.0, fill = 15), (price = 20.0, fill = 10), (price = 30.0, fill = 5)]\n",
    "P = [1/length(Omega) for om in Omega]\n",
    "# One Price Point around each uncertain Price\n",
    "PPoints = [5.0, 15, 25, 35]"
   ]
  },
  {
   "cell_type": "markdown",
   "metadata": {},
   "source": [
    "## Bidding Model\n",
    "### Version 1 - Inactive Constraints\n",
    "\n",
    "We Bid a commodity as price taker with an increasing price curve. \n",
    "\n",
    "$$\n",
    "\\begin{align*}\n",
    "    W &= \\text{Maximum Inventory/Resource for own production} \\\\\n",
    "    w &= \\text{Production using own resource (for no cost)} \\\\\n",
    "    b &= \\text{Balncing / Buying commodity on market to fulfill delivery}\n",
    "    x_i &= \\text{Bid at price point} P_i \\\\\n",
    "    y_i &= \\text{Volume to deliver after market clearing}\n",
    "\\end{align*}\n",
    "$$\n",
    "The objective is our revenue generated from sales, minus the balancing we had to do to fulfill it\n",
    "$$\n",
    "\\begin{equation*}\n",
    "    \\max \\; \\rightarrow \\; c_s \\cdot y - c_b \\cdot b \n",
    "\\end{equation*}\n",
    "$$\n",
    "\n",
    "Only the price points $i = 1,\\ldots,I$ that encompass the uncertain price will be relevant. We deactivate the rest of the constrains by setting their coefficients to 0 and get the redundant constraint $0 = 0$ "
   ]
  },
  {
   "cell_type": "code",
   "execution_count": 261,
   "metadata": {},
   "outputs": [
    {
     "data": {
      "text/plain": [
       "subproblem_builder_inactive (generic function with 1 method)"
      ]
     },
     "metadata": {},
     "output_type": "display_data"
    }
   ],
   "source": [
    "function subproblem_builder_inactive(subproblem::Model, node::Int64)\n",
    "    @variable(subproblem, 0 <= x[i = 1:length(PPoints)] <= 50, SDDP.State, initial_value=0)\n",
    "    @variable(subproblem, 0 <= W <= 100, SDDP.State, initial_value = 80)\n",
    "    @variable(subproblem, y[i = 1:length(PPoints)-1] >= 0)\n",
    "    @variable(subproblem, w[i = 1:length(PPoints)-1] >= 0)\n",
    "    @variable(subproblem, b[i = 1:length(PPoints)-1] >= 0)\n",
    "    @variable(subproblem, f >= 0)\n",
    "    @variable(subproblem, s >= 0)\n",
    "    \n",
    "    @constraint(subproblem, clearing[i = 1:length(PPoints)-1], y[i] == 1* x[i].in  +  1* x[i+1].in)\n",
    "    @constraint(subproblem, increasing[i = 1:length(PPoints)-1], x[i].out <= x[i+1].out)\n",
    "    if node == 1\n",
    "        @stageobjective(subproblem, 0)\n",
    "        @constraint(subproblem, transfer, W.in == W.out)\n",
    "    else\n",
    "        @constraint(subproblem, production[i = 1:length(PPoints)-1], y[i] == w[i] + b[i])\n",
    "        @constraint(subproblem, balance, W.out == W.in - sum(w[i] for i in 1:length(PPoints)-1) + f - s)\n",
    "        @stageobjective(subproblem, 0)\n",
    "        SDDP.parameterize(subproblem, Omega, P) do om\n",
    "            # We have to make sure that depending on the market clearing price, the coefficients are set accordingly.\n",
    "            # The recourse action only applies to the real delivery, determined by the uncertain price. The other restricitions become inactive, else they make the problem infeasible.\n",
    "            JuMP.fix(f, om.fill, force=true)\n",
    "            for i in 1:length(PPoints)-1\n",
    "                if (om.price >= PPoints[i]) && (om.price <= PPoints[i+1])\n",
    "                    set_normalized_coefficient(clearing[i], y[i], 1)\n",
    "                    set_normalized_coefficient(clearing[i], x[i].in, -((om.price - PPoints[i])/(PPoints[i+1] - PPoints[i])))\n",
    "                    set_normalized_coefficient(clearing[i], x[i+1].in, -((PPoints[i+1] - om.price)/(PPoints[i+1] - PPoints[i])))\n",
    "                    set_normalized_coefficient(balance, w[i], 1)\n",
    "                    set_normalized_coefficient(production[i], w[i], -1)\n",
    "                    set_normalized_coefficient(production[i], b[i], -1)\n",
    "                    set_normalized_coefficient(production[i], y[i], 1)\n",
    "                    @stageobjective(subproblem, om.price * y[i] -  om.price * 1.2 * b[i])\n",
    "                else\n",
    "                    set_normalized_coefficient(balance, w[i], 0)\n",
    "                    set_normalized_coefficient(production[i], w[i], 0)\n",
    "                    set_normalized_coefficient(production[i], b[i], 0)\n",
    "                    set_normalized_coefficient(production[i], y[i], 0)\n",
    "                    set_normalized_coefficient(clearing[i], y[i], 0)\n",
    "                    set_normalized_coefficient(clearing[i], x[i].in, 0)\n",
    "                    set_normalized_coefficient(clearing[i], x[i+1].in, 0)\n",
    "                end\n",
    "            end\n",
    "        end\n",
    "    end\n",
    "    return\n",
    "end"
   ]
  },
  {
   "cell_type": "code",
   "execution_count": 262,
   "metadata": {},
   "outputs": [
    {
     "data": {
      "text/plain": [
       "A policy graph with 7 nodes.\n",
       " Node indices: 1, 2, 3, 4, 5, 6, 7\n"
      ]
     },
     "metadata": {},
     "output_type": "display_data"
    }
   ],
   "source": [
    "model = SDDP.LinearPolicyGraph(\n",
    "    subproblem_builder_inactive;\n",
    "    stages = 7,\n",
    "    sense = :Max,\n",
    "    upper_bound = 1e5,\n",
    "    optimizer = CPLEX.Optimizer\n",
    ")"
   ]
  },
  {
   "cell_type": "code",
   "execution_count": 263,
   "metadata": {},
   "outputs": [
    {
     "name": "stdout",
     "output_type": "stream",
     "text": [
      "\r\n",
      "Dual simplex solved model.\r\n",
      "\r\n",
      "CPLEX Error  3003: Not a mixed-integer problem.\r\n",
      "CPLEX Error  3003: Not a mixed-integer problem.\r\n",
      "CPLEX Error  3003: Not a mixed-integer problem.\r\n",
      "CPLEX Error  3003: Not a mixed-integer problem.\r\n",
      "CPLEX Error  3003: Not a mixed-integer problem.\r\n",
      "Version identifier: 22.1.1.0 | 2022-11-27 | 9160aff4d\r\n",
      "Parallel mode: deterministic, using up to 12 threads for concurrent optimization:\r\n",
      " * Starting dual Simplex on 1 thread...\r\n",
      " * Starting Barrier on 10 threads...\r\n",
      " * Starting primal Simplex on 1 thread...\r\n",
      "Tried aggregator 1 time.\r\n",
      "LP Presolve eliminated 11290 rows and 18949 columns.\r\n",
      "Aggregator did 5097 substitutions.\r\n",
      "All rows and columns eliminated.\r\n",
      "Presolve time = 0.02 sec. (10.01 ticks)\r\n"
     ]
    },
    {
     "data": {
      "text/plain": [
       "* Solver : CPLEX\n",
       "\n",
       "* Status\n",
       "  Termination status : OPTIMAL\n",
       "  Primal status      : FEASIBLE_POINT\n",
       "  Dual status        : FEASIBLE_POINT\n",
       "  Result count       : 1\n",
       "  Has duals          : true\n",
       "  Message from the solver:\n",
       "  \"optimal\"\n",
       "\n",
       "* Candidate solution\n",
       "  Objective value      : -1.20000e+03\n",
       "  Objective bound      : -1.20000e+03\n",
       "  Dual objective value : -1.20000e+03\n",
       "  Primal solution :\n",
       "    W_in#1 : 8.00000e+01\n",
       "    W_in#2 : 8.00000e+01\n",
       "    W_in#3 : 0.00000e+00\n",
       "    W_in#4 : 0.00000e+00\n",
       "    W_in#5 : 0.00000e+00\n",
       "    W_in#6 : 0.00000e+00\n",
       "    W_in#7 : 0.00000e+00\n",
       "    W_out#1 : 8.00000e+01\n",
       "    W_out#2 : 0.00000e+00\n",
       "    W_out#3 : 0.00000e+00\n",
       "    W_out#4 : 0.00000e+00\n",
       "    W_out#5 : 0.00000e+00\n",
       "    W_out#6 : 0.00000e+00\n",
       "    W_out#7 : 0.00000e+00\n",
       "    _[22]#1 : 1.00000e+05\n",
       "    _[22]#2 : 1.00000e+05\n",
       "    _[22]#3 : 1.00000e+05\n",
       "    _[22]#4 : 1.00000e+05\n",
       "    _[22]#5 : 1.00000e+05\n",
       "    _[22]#6 : 1.00000e+05\n",
       "    _[22]#7 : 0.00000e+00\n",
       "    b[1]#1 : 0.00000e+00\n",
       "    b[1]#2 : 0.00000e+00\n",
       "    b[1]#3 : 0.00000e+00\n",
       "    b[1]#4 : 0.00000e+00\n",
       "    b[1]#5 : 0.00000e+00\n",
       "    b[1]#6 : 0.00000e+00\n",
       "    b[1]#7 : 0.00000e+00\n",
       "    b[2]#1 : 0.00000e+00\n",
       "    b[2]#2 : 0.00000e+00\n",
       "    b[2]#3 : 0.00000e+00\n",
       "    b[2]#4 : 0.00000e+00\n",
       "    b[2]#5 : 0.00000e+00\n",
       "    b[2]#6 : 0.00000e+00\n",
       "    b[2]#7 : 0.00000e+00\n",
       "    b[3]#1 : 0.00000e+00\n",
       "    b[3]#2 : 5.00000e+01\n",
       "    b[3]#3 : 5.00000e+01\n",
       "    b[3]#4 : 5.00000e+01\n",
       "    b[3]#5 : 5.00000e+01\n",
       "    b[3]#6 : 5.00000e+01\n",
       "    b[3]#7 : 5.00000e+01\n",
       "    f#1 : 0.00000e+00\n",
       "    f#2 : 5.00000e+00\n",
       "    f#3 : 5.00000e+00\n",
       "    f#4 : 5.00000e+00\n",
       "    f#5 : 5.00000e+00\n",
       "    f#6 : 5.00000e+00\n",
       "    f#7 : 5.00000e+00\n",
       "    s#1 : 0.00000e+00\n",
       "    s#2 : 8.50000e+01\n",
       "    s#3 : 5.00000e+00\n",
       "    s#4 : 5.00000e+00\n",
       "    s#5 : 5.00000e+00\n",
       "    s#6 : 5.00000e+00\n",
       "    s#7 : 5.00000e+00\n",
       "    w[1]#1 : 0.00000e+00\n",
       "    w[1]#2 : 0.00000e+00\n",
       "    w[1]#3 : 0.00000e+00\n",
       "    w[1]#4 : 0.00000e+00\n",
       "    w[1]#5 : 0.00000e+00\n",
       "    w[1]#6 : 0.00000e+00\n",
       "    w[1]#7 : 0.00000e+00\n",
       "    w[2]#1 : 0.00000e+00\n",
       "    w[2]#2 : 0.00000e+00\n",
       "    w[2]#3 : 0.00000e+00\n",
       "    w[2]#4 : 0.00000e+00\n",
       "    w[2]#5 : 0.00000e+00\n",
       "    w[2]#6 : 0.00000e+00\n",
       "    w[2]#7 : 0.00000e+00\n",
       "    w[3]#1 : 0.00000e+00\n",
       "    w[3]#2 : 0.00000e+00\n",
       "    w[3]#3 : 0.00000e+00\n",
       "    w[3]#4 : 0.00000e+00\n",
       "    w[3]#5 : 0.00000e+00\n",
       "    w[3]#6 : 0.00000e+00\n",
       "    w[3]#7 : 0.00000e+00\n",
       "    x[1]_in#1 : 0.00000e+00\n",
       "    x[1]_in#2 : 5.00000e+01\n",
       "    x[1]_in#3 : 5.00000e+01\n",
       "    x[1]_in#4 : 5.00000e+01\n",
       "    x[1]_in#5 : 5.00000e+01\n",
       "    x[1]_in#6 : 5.00000e+01\n",
       "    x[1]_in#7 : 5.00000e+01\n",
       "    x[1]_out#1 : 5.00000e+01\n",
       "    x[1]_out#2 : 5.00000e+01\n",
       "    x[1]_out#3 : 5.00000e+01\n",
       "    x[1]_out#4 : 5.00000e+01\n",
       "    x[1]_out#5 : 5.00000e+01\n",
       "    x[1]_out#6 : 5.00000e+01\n",
       "    x[1]_out#7 : 0.00000e+00\n",
       "    x[2]_in#1 : 0.00000e+00\n",
       "    x[2]_in#2 : 5.00000e+01\n",
       "    x[2]_in#3 : 5.00000e+01\n",
       "    x[2]_in#4 : 5.00000e+01\n",
       "    x[2]_in#5 : 5.00000e+01\n",
       "    x[2]_in#6 : 5.00000e+01\n",
       "    x[2]_in#7 : 5.00000e+01\n",
       "    x[2]_out#1 : 5.00000e+01\n",
       "    x[2]_out#2 : 5.00000e+01\n",
       "    x[2]_out#3 : 5.00000e+01\n",
       "    x[2]_out#4 : 5.00000e+01\n",
       "    x[2]_out#5 : 5.00000e+01\n",
       "    x[2]_out#6 : 5.00000e+01\n",
       "    x[2]_out#7 : 0.00000e+00\n",
       "    x[3]_in#1 : 0.00000e+00\n",
       "    x[3]_in#2 : 5.00000e+01\n",
       "    x[3]_in#3 : 5.00000e+01\n",
       "    x[3]_in#4 : 5.00000e+01\n",
       "    x[3]_in#5 : 5.00000e+01\n",
       "    x[3]_in#6 : 5.00000e+01\n",
       "    x[3]_in#7 : 5.00000e+01\n",
       "    x[3]_out#1 : 5.00000e+01\n",
       "    x[3]_out#2 : 5.00000e+01\n",
       "    x[3]_out#3 : 5.00000e+01\n",
       "    x[3]_out#4 : 5.00000e+01\n",
       "    x[3]_out#5 : 5.00000e+01\n",
       "    x[3]_out#6 : 5.00000e+01\n",
       "    x[3]_out#7 : 5.00000e+01\n",
       "    x[4]_in#1 : 0.00000e+00\n",
       "    x[4]_in#2 : 5.00000e+01\n",
       "    x[4]_in#3 : 5.00000e+01\n",
       "    x[4]_in#4 : 5.00000e+01\n",
       "    x[4]_in#5 : 5.00000e+01\n",
       "    x[4]_in#6 : 5.00000e+01\n",
       "    x[4]_in#7 : 5.00000e+01\n",
       "    x[4]_out#1 : 5.00000e+01\n",
       "    x[4]_out#2 : 5.00000e+01\n",
       "    x[4]_out#3 : 5.00000e+01\n",
       "    x[4]_out#4 : 5.00000e+01\n",
       "    x[4]_out#5 : 5.00000e+01\n",
       "    x[4]_out#6 : 5.00000e+01\n",
       "    x[4]_out#7 : 5.00000e+01\n",
       "    y[1]#1 : 0.00000e+00\n",
       "    y[1]#2 : 0.00000e+00\n",
       "    y[1]#3 : 0.00000e+00\n",
       "    y[1]#4 : 0.00000e+00\n",
       "    y[1]#5 : 0.00000e+00\n",
       "    y[1]#6 : 0.00000e+00\n",
       "    y[1]#7 : 0.00000e+00\n",
       "    y[2]#1 : 0.00000e+00\n",
       "    y[2]#2 : 0.00000e+00\n",
       "    y[2]#3 : 0.00000e+00\n",
       "    y[2]#4 : 0.00000e+00\n",
       "    y[2]#5 : 0.00000e+00\n",
       "    y[2]#6 : 0.00000e+00\n",
       "    y[2]#7 : 0.00000e+00\n",
       "    y[3]#1 : 0.00000e+00\n",
       "    y[3]#2 : 5.00000e+01\n",
       "    y[3]#3 : 5.00000e+01\n",
       "    y[3]#4 : 5.00000e+01\n",
       "    y[3]#5 : 5.00000e+01\n",
       "    y[3]#6 : 5.00000e+01\n",
       "    y[3]#7 : 5.00000e+01\n",
       "  Dual solution :\n",
       "\n",
       "* Work counters\n",
       "  Solve time (sec)   : 6.49998e-02\n",
       "  Simplex iterations : 0\n",
       "  Barrier iterations : 0\n",
       "  Node count         : 0\n"
      ]
     },
     "metadata": {},
     "output_type": "display_data"
    }
   ],
   "source": [
    "det_equiv = SDDP.deterministic_equivalent(model, CPLEX.Optimizer)\n",
    "JuMP.write_to_file(det_equiv, \"det_equiv.lp\")\n",
    "optimize!(det_equiv)\n",
    "solution_summary(det_equiv; verbose=true)"
   ]
  },
  {
   "cell_type": "code",
   "execution_count": 264,
   "metadata": {},
   "outputs": [
    {
     "name": "stdout",
     "output_type": "stream",
     "text": [
      "-------------------------------------------------------------------\n",
      "         SDDP.jl (c) Oscar Dowson and contributors, 2017-23\n",
      "-------------------------------------------------------------------\n",
      "problem\n",
      "  nodes           : 7\n",
      "  state variables : 5\n",
      "  scenarios       : 7.29000e+02\n",
      "  existing cuts   : false\n",
      "options\n",
      "  solver          : serial mode\n",
      "  risk measure    : SDDP.Expectation()\n",
      "  sampling scheme : SDDP.InSampleMonteCarlo\n",
      "subproblem structure\n",
      "  VariableRef                             : [22, 22]\n",
      "  VariableRef in MOI.EqualTo{Float64}     : [1, 1]\n",
      "  VariableRef in MOI.LessThan{Float64}    : [6, 6]\n",
      "  AffExpr in MOI.LessThan{Float64}        : [3, 3]\n",
      "  VariableRef in MOI.GreaterThan{Float64} : [15, 16]\n",
      "  AffExpr in MOI.EqualTo{Float64}         : [4, 7]\n",
      "numerical stability report\n",
      "  matrix range     [5e-01, 1e+00]\n",
      "  objective range  [1e+00, 4e+01]\n",
      "  bounds range     [5e+01, 1e+05]\n",
      "  rhs range        [0e+00, 0e+00]\n",
      "-------------------------------------------------------------------\n",
      " iteration    simulation      bound        time (s)     solves  pid\n",
      "-------------------------------------------------------------------\n",
      "         1   9.200000e+02  4.333004e+03  1.400018e-02        26   1\n",
      "         2  -2.000000e+02  4.286914e+03  2.200007e-02        52   1"
     ]
    },
    {
     "name": "stdout",
     "output_type": "stream",
     "text": [
      "\n",
      "         3   3.016753e+03  4.178004e+03  3.299999e-02        78   1\n",
      "         4   3.719783e+03  3.488440e+03  4.300022e-02       104   1\n",
      "         5   2.700000e+03  3.481480e+03  5.200005e-02       130   1\n",
      "         6   3.145714e+03  3.459494e+03  6.100011e-02       156   1\n",
      "         7   3.734157e+03  3.459164e+03  7.200003e-02       182   1\n",
      "         8   3.153346e+03  3.438083e+03  8.200002e-02       208   1\n",
      "         9   2.663677e+03  3.436920e+03  9.200001e-02       234   1\n",
      "        10   3.433680e+03  3.431496e+03  1.020000e-01       260   1\n",
      "        11   3.457931e+03  3.428243e+03  1.120000e-01       286   1\n",
      "        12   3.412882e+03  3.417537e+03  1.220002e-01       312   1\n",
      "        13"
     ]
    },
    {
     "name": "stdout",
     "output_type": "stream",
     "text": [
      "   3.601485e+03  3.416383e+03  1.320002e-01       338   1\n",
      "        14   3.688123e+03  3.394741e+03  1.420002e-01       364   1\n",
      "        15   2.708306e+03  3.388006e+03  1.530001e-01       390   1\n",
      "        16   3.410017e+03  3.368151e+03  1.630001e-01       416   1\n",
      "        17   2.662536e+03  3.366629e+03  1.740000e-01       442   1\n",
      "        18   3.436913e+03  3.362030e+03  1.860001e-01       468   1\n",
      "        19   3.248196e+03  3.362011e+03  1.970000e-01       494   1\n",
      "        20   3.383125e+03  3.360595e+03  2.080002e-01       520   1\n",
      "        21   1.880172e+03  3.360250e+03  2.170000e-01       546   1\n",
      "        22   3.502044e+03  3.358203e+03  2.290001e-01       572   1\n"
     ]
    },
    {
     "name": "stdout",
     "output_type": "stream",
     "text": [
      "        23   3.540000e+03  3.358194e+03  2.390001e-01       598   1\n",
      "        24   3.589319e+03  3.357615e+03  2.500000e-01       624   1\n",
      "        25   3.694723e+03  3.356804e+03  2.600000e-01       650   1\n",
      "        26   2.722321e+03  3.354297e+03  2.710001e-01       676   1\n",
      "        27   3.490000e+03  3.354277e+03  2.830000e-01       702   1\n",
      "        28   3.344456e+03  3.354051e+03  2.940001e-01       728   1\n",
      "        29   3.162822e+03  3.353692e+03  3.050001e-01       754   1\n",
      "        30   2.588293e+03  3.352119e+03  3.160000e-01       780   1\n",
      "        31   2.750000e+03  3.352119e+03  3.280001e-01       806   1\n",
      " "
     ]
    },
    {
     "name": "stdout",
     "output_type": "stream",
     "text": [
      "       32   3.607179e+03  3.352115e+03  3.380001e-01       832   1\n",
      "        33   2.985415e+03  3.352104e+03  3.480000e-01       858   1\n",
      "        34   3.632109e+03  3.351935e+03  3.580000e-01       884   1\n",
      "        35   2.991649e+03  3.350658e+03  3.680000e-01       910   1\n",
      "        36   3.419541e+03  3.350257e+03  3.800001e-01       936   1\n",
      "        37   3.311218e+03  3.348941e+03  3.900001e-01       962   1\n",
      "        38   3.610452e+03  3.348918e+03  3.990002e-01       988   1\n",
      "        39   2.699872e+03  3.348816e+03  4.110000e-01      1014   1\n",
      "        40   2.488140e+03  3.348793e+03  4.220002e-01      1040   1\n",
      "        41   3.749183e+03  3.348657e+03  4.320002e-01      1066   1\n"
     ]
    },
    {
     "name": "stdout",
     "output_type": "stream",
     "text": [
      "        42   3.218464e+03  3.348457e+03  4.430001e-01      1092   1\n",
      "        43   2.343814e+03  3.347806e+03  4.550002e-01      1118   1\n",
      "        44   3.548671e+03  3.347801e+03  4.650002e-01      1144   1\n",
      "        45   3.799990e+03  3.347693e+03  4.770000e-01      1170   1\n",
      "        46   2.844286e+03  3.347671e+03  4.880002e-01      1196   1\n",
      "        47   2.525841e+03  3.347353e+03  4.990001e-01      1222   1\n",
      "        48   3.190299e+03  3.347345e+03  5.090001e-01      1248   1\n",
      "        49   2.939842e+03  3.347213e+03  5.200002e-01      1274   1\n",
      "        50   3.528456e+03  3.347156e+03  5.300002e-01      1300   1\n",
      "        51   3.214226e+03  3.346961e+03  5.410001e-01      1326   1\n"
     ]
    },
    {
     "name": "stdout",
     "output_type": "stream",
     "text": [
      "        52   3.379567e+03  3.346862e+03  5.530002e-01      1352   1\n",
      "        53   4.139714e+03  3.346529e+03  5.640001e-01      1378   1\n",
      "        54   3.780000e+03  3.346475e+03  5.780001e-01      1404   1\n",
      "        55   3.838815e+03  3.346285e+03  5.900002e-01      1430   1\n",
      "        56   2.798623e+03  3.346115e+03  6.040001e-01      1456   1\n",
      "        57   3.289736e+03  3.345572e+03  6.180000e-01      1482   1\n",
      "        58   3.626650e+03  3.345564e+03  6.300001e-01      1508   1\n",
      "        59   3.249982e+03  3.345497e+03  6.420002e-01      1534   1\n"
     ]
    },
    {
     "name": "stdout",
     "output_type": "stream",
     "text": [
      "        60   3.775782e+03  3.345403e+03  6.530001e-01      1560   1\n",
      "        61   3.279923e+03  3.345083e+03  6.670001e-01      1586   1\n",
      "        62   3.490000e+03  3.345034e+03  6.780002e-01      1612   1\n",
      "        63   3.029354e+03  3.344858e+03  6.920002e-01      1638   1\n",
      "        64   3.865000e+03  3.344837e+03  7.060001e-01      1664   1\n",
      "        65   3.739955e+03  3.344769e+03  7.180002e-01      1690   1\n",
      "        66   2.797222e+03  3.344769e+03  7.310002e-01      1716   1\n",
      "        67   2.801344e+03  3.344720e+03  7.440002e-01      1742   1\n"
     ]
    },
    {
     "name": "stdout",
     "output_type": "stream",
     "text": [
      "        68   3.522993e+03  3.344672e+03  7.580001e-01      1768   1\n",
      "        69   3.529785e+03  3.344411e+03  7.750001e-01      1794   1\n",
      "        70   3.700000e+03  3.344409e+03  7.910001e-01      1820   1\n",
      "        71   3.025005e+03  3.344403e+03  8.040001e-01      1846   1\n",
      "        72   3.800000e+03  3.344403e+03  8.190000e-01      1872   1\n",
      "        73   3.242667e+03  3.344398e+03  8.340001e-01      1898   1\n",
      "        74   2.457957e+03  3.344386e+03  8.490002e-01      1924   1\n"
     ]
    },
    {
     "name": "stdout",
     "output_type": "stream",
     "text": [
      "        75   2.974937e+03  3.344348e+03  8.620000e-01      1950   1\n",
      "        76   3.893749e+03  3.344317e+03  8.750000e-01      1976   1\n",
      "        77   3.099705e+03  3.344216e+03  8.900001e-01      2002   1\n",
      "        78   3.350000e+03  3.344216e+03  9.020002e-01      2028   1\n",
      "        79   3.499983e+03  3.344214e+03  9.120002e-01      2054   1\n",
      "        80   3.550000e+03  3.344214e+03  9.240000e-01      2080   1\n",
      "        81   3.648889e+03  3.344214e+03  9.360001e-01      2106   1\n",
      "        82   2.949970e+03  3.344208e+03  9.500000e-01      2132   1\n",
      "        83 "
     ]
    },
    {
     "name": "stdout",
     "output_type": "stream",
     "text": [
      "  3.694937e+03  3.344208e+03  9.620001e-01      2158   1\n",
      "        84   3.350129e+03  3.344192e+03  9.750001e-01      2184   1\n",
      "        85   3.595000e+03  3.344192e+03  9.860001e-01      2210   1\n",
      "        86   3.549578e+03  3.344143e+03  9.980001e-01      2236   1\n",
      "        87   3.125000e+03  3.344142e+03  1.011000e+00      2262   1\n",
      "        88   2.827498e+03  3.344138e+03  1.024000e+00      2288   1\n",
      "        89   3.839783e+03  3.344118e+03  1.038000e+00      2314   1\n",
      "        90   3.779960e+03  3.344058e+03  1.053000e+00      2340   1"
     ]
    },
    {
     "name": "stdout",
     "output_type": "stream",
     "text": [
      "\n",
      "        91   3.650000e+03  3.344058e+03  1.065000e+00      2366   1\n",
      "        92   3.700000e+03  3.344058e+03  1.078000e+00      2392   1\n",
      "        93   3.469806e+03  3.344051e+03  1.091000e+00      2418   1\n",
      "        94   4.019986e+03  3.344031e+03  1.107000e+00      2444   1\n",
      "        95   3.395000e+03  3.344031e+03  1.118000e+00      2470   1\n",
      "        96   3.870000e+03  3.344030e+03  1.139000e+00      2496   1\n",
      "        97   3.000000e+03  3.344029e+03  1.160000e+00      2522   1\n"
     ]
    },
    {
     "name": "stdout",
     "output_type": "stream",
     "text": [
      "        98   3.440000e+03  3.344027e+03  1.172000e+00      2548   1\n",
      "        99   3.699654e+03  3.343997e+03  1.183000e+00      2574   1\n",
      "       100   3.400000e+03  3.343997e+03  1.195000e+00      2600   1\n",
      "-------------------------------------------------------------------\n",
      "status         : iteration_limit\n",
      "total time (s) : 1.195000e+00\n",
      "total solves   : 2600\n",
      "best bound     :  3.343997e+03\n",
      "simulation ci  :  3.257431e+03 ± 1.169133e+02\n",
      "numeric issues : 0\n",
      "-------------------------------------------------------------------\n",
      "\n"
     ]
    }
   ],
   "source": [
    "SDDP.train(model; stopping_rules = [SDDP.BoundStalling(10, 1e-4), SDDP.IterationLimit(100)])"
   ]
  },
  {
   "cell_type": "markdown",
   "metadata": {},
   "source": [
    "#### Decision Rule"
   ]
  },
  {
   "cell_type": "code",
   "execution_count": 265,
   "metadata": {},
   "outputs": [
    {
     "data": {
      "text/plain": [
       "(stage_objective = 0, outgoing_state = Dict(Symbol(\"x[3]\") => 50.0, Symbol(\"x[4]\") => 50.0, :W => 80.0, Symbol(\"x[1]\") => 0.0, Symbol(\"x[2]\") => 0.0), controls = Dict(:w => [0.0, 0.0, 0.0], :b => [0.0, 0.0, 0.0], :y => [0.0, 0.0, 0.0]))"
      ]
     },
     "metadata": {},
     "output_type": "display_data"
    }
   ],
   "source": [
    "rule = SDDP.DecisionRule(model; node = 1)\n",
    "solution = SDDP.evaluate(\n",
    "    rule;\n",
    "    incoming_state = Dict(:W => 80.0),\n",
    "    controls_to_record = [:y, :w, :b],\n",
    ")"
   ]
  },
  {
   "cell_type": "code",
   "execution_count": 266,
   "metadata": {},
   "outputs": [
    {
     "data": {
      "text/plain": [
       "100-element Vector{Vector{Dict{Symbol, Any}}}:\n",
       " [Dict(:b => [0.0, 0.0, 0.0], :w => [0.0, 0.0, 0.0], :bellman_term => 3343.9974793227475, :node_index => 1, :objective_state => nothing, :belief => Dict(1 => 1.0), :x => SDDP.State{Float64}[SDDP.State{Float64}(0.0, 0.0), SDDP.State{Float64}(0.0, 0.0), SDDP.State{Float64}(0.0, 50.0), SDDP.State{Float64}(0.0, 50.0)], :stage_objective => 0, :f => 0.0, :noise_term => nothing…), Dict(:b => [0.0, 0.0, 0.0], :w => [0.0, 0.0, 50.0], :bellman_term => 2018.5356478447875, :node_index => 2, :objective_state => nothing, :belief => Dict(2 => 1.0), :x => SDDP.State{Float64}[SDDP.State{Float64}(0.0, 0.0), SDDP.State{Float64}(0.0, 0.0), SDDP.State{Float64}(50.0, 30.32699098552794), SDDP.State{Float64}(50.0, 50.0)], :stage_objective => 1500.0, :f => 5.0, :noise_term => (price = 30.0, fill = 5)…), Dict(:b => [0.0, 0.0, 0.16349549276397113], :w => [0.0, 0.0, 40.0], :bellman_term => 862.5925925925887, :node_index => 3, :objective_state => nothing, :belief => Dict(3 => 1.0), :x => SDDP.State{Float64}[SDDP.State{Float64}(0.0, 0.0), SDDP.State{Float64}(0.0, 0.0), SDDP.State{Float64}(30.32699098552794, 0.0), SDDP.State{Float64}(50.0, 10.000000000000968)], :stage_objective => 1199.0190270434161, :f => 5.0, :noise_term => (price = 30.0, fill = 5)…), Dict(:b => [0.0, 0.0, 0.0], :w => [0.0, 0.0, 0.0], :bellman_term => 856.6666666666633, :node_index => 4, :objective_state => nothing, :belief => Dict(4 => 1.0), :x => SDDP.State{Float64}[SDDP.State{Float64}(0.0, -2.704122640092721e-12), SDDP.State{Float64}(0.0, 2.7041226400927232e-12), SDDP.State{Float64}(0.0, 2.704122640092723e-12), SDDP.State{Float64}(10.000000000000968, 29.999999999997367)], :stage_objective => 0.0, :f => 10.0, :noise_term => (price = 20.0, fill = 10)…), Dict(:b => [0.0, 0.0, 0.0], :w => [0.0, 0.0, 0.0], :bellman_term => 823.3333333333305, :node_index => 5, :objective_state => nothing, :belief => Dict(5 => 1.0), :x => SDDP.State{Float64}[SDDP.State{Float64}(0.0, 3.808509063674138e-12), SDDP.State{Float64}(0.0, 3.808509063674138e-12), SDDP.State{Float64}(0.0, 25.000000000000007), SDDP.State{Float64}(29.999999999997367, 25.000000000000007)], :stage_objective => 0.0, :f => 10.0, :noise_term => (price = 20.0, fill = 10)…), Dict(:b => [0.0, 0.0, 0.0], :w => [0.0, 0.0, 0.0], :bellman_term => 839.9999999999967, :node_index => 6, :objective_state => nothing, :belief => Dict(6 => 1.0), :x => SDDP.State{Float64}[SDDP.State{Float64}(0.0, 50.000000000000796), SDDP.State{Float64}(0.0, 50.00000000000081), SDDP.State{Float64}(25.000000000000007, 50.00000000000081), SDDP.State{Float64}(25.000000000000007, 50.00000000000081)], :stage_objective => 0.0, :f => 15.0, :noise_term => (price = 10.0, fill = 15)…), Dict(:b => [0.0, 5.0, 0.0], :w => [0.0, 45.0, 0.0], :bellman_term => 0.0, :node_index => 7, :objective_state => nothing, :belief => Dict(7 => 1.0), :x => SDDP.State{Float64}[SDDP.State{Float64}(50.0, 0.0), SDDP.State{Float64}(50.0, 0.0), SDDP.State{Float64}(50.0, 50.0), SDDP.State{Float64}(50.0, 50.0)], :stage_objective => 880.0, :f => 10.0, :noise_term => (price = 20.0, fill = 10)…)]\n",
       " [Dict(:b => [0.0, 0.0, 0.0], :w => [0.0, 0.0, 0.0], :bellman_term => 3343.9974793227475, :node_index => 1, :objective_state => nothing, :belief => Dict(1 => 1.0), :x => SDDP.State{Float64}[SDDP.State{Float64}(0.0, 0.0), SDDP.State{Float64}(0.0, 0.0), SDDP.State{Float64}(0.0, 50.0), SDDP.State{Float64}(0.0, 50.0)], :stage_objective => 0, :f => 0.0, :noise_term => nothing…), Dict(:b => [0.0, 0.0, 0.0], :w => [0.0, 0.0, 50.0], :bellman_term => 2018.5356478447875, :node_index => 2, :objective_state => nothing, :belief => Dict(2 => 1.0), :x => SDDP.State{Float64}[SDDP.State{Float64}(0.0, 0.0), SDDP.State{Float64}(0.0, 0.0), SDDP.State{Float64}(50.0, 30.32699098552794), SDDP.State{Float64}(50.0, 50.0)], :stage_objective => 1500.0, :f => 5.0, :noise_term => (price = 30.0, fill = 5)…), Dict(:b => [0.0, 0.0, 0.16349549276397113], :w => [0.0, 0.0, 40.0], :bellman_term => 862.5925925925887, :node_index => 3, :objective_state => nothing, :belief => Dict(3 => 1.0), :x => SDDP.State{Float64}[SDDP.State{Float64}(0.0, 0.0), SDDP.State{Float64}(0.0, 0.0), SDDP.State{Float64}(30.32699098552794, 0.0), SDDP.State{Float64}(50.0, 10.000000000000968)], :stage_objective => 1199.0190270434161, :f => 5.0, :noise_term => (price = 30.0, fill = 5)…), Dict(:b => [0.0, 0.0, 0.0], :w => [0.0, 0.0, 0.0], :bellman_term => 979.9999999999985, :node_index => 4, :objective_state => nothing, :belief => Dict(4 => 1.0), :x => SDDP.State{Float64}[SDDP.State{Float64}(0.0, -3.6563153938210045e-12), SDDP.State{Float64}(0.0, 3.649209966463405e-12), SDDP.State{Float64}(0.0, 3.649209966463405e-12), SDDP.State{Float64}(10.000000000000968, 39.99999999999629)], :stage_objective => 0.0, :f => 15.0, :noise_term => (price = 10.0, fill = 15)…), Dict(:b => [0.0, 0.0, 0.0], :w => [0.0, 0.0, 0.0], :bellman_term => 939.999999999997, :node_index => 5, :objective_state => nothing, :belief => Dict(5 => 1.0), :x => SDDP.State{Float64}[SDDP.State{Float64}(0.0, 3.780087354243734e-12), SDDP.State{Float64}(0.0, 3.780087354243734e-12), SDDP.State{Float64}(0.0, 30.00000000000002), SDDP.State{Float64}(39.99999999999629, 30.00000000000002)], :stage_objective => 0.0, :f => 10.0, :noise_term => (price = 20.0, fill = 10)…), Dict(:b => [0.0, 0.0, 0.0], :w => [0.0, 0.0, 0.0], :bellman_term => 939.9999999999968, :node_index => 6, :objective_state => nothing, :belief => Dict(6 => 1.0), :x => SDDP.State{Float64}[SDDP.State{Float64}(0.0, 50.0), SDDP.State{Float64}(0.0, 50.0), SDDP.State{Float64}(30.00000000000002, 50.0), SDDP.State{Float64}(30.00000000000002, 50.0)], :stage_objective => 0.0, :f => 15.0, :noise_term => (price = 10.0, fill = 15)…), Dict(:b => [0.0, 0.0, 0.0], :w => [50.0, 0.0, 0.0], :bellman_term => 0.0, :node_index => 7, :objective_state => nothing, :belief => Dict(7 => 1.0), :x => SDDP.State{Float64}[SDDP.State{Float64}(50.0, 0.0), SDDP.State{Float64}(50.0, 0.0), SDDP.State{Float64}(50.0, 50.0), SDDP.State{Float64}(50.0, 50.0)], :stage_objective => 500.0, :f => 15.0, :noise_term => (price = 10.0, fill = 15)…)]\n",
       " [Dict(:b => [0.0, 0.0, 0.0], :w => [0.0, 0.0, 0.0], :bellman_term => 3343.9974793227475, :node_index => 1, :objective_state => nothing, :belief => Dict(1 => 1.0), :x => SDDP.State{Float64}[SDDP.State{Float64}(0.0, 0.0), SDDP.State{Float64}(0.0, 0.0), SDDP.State{Float64}(0.0, 50.0), SDDP.State{Float64}(0.0, 50.0)], :stage_objective => 0, :f => 0.0, :noise_term => nothing…), Dict(:b => [0.0, 0.0, 0.0], :w => [0.0, 25.0, 0.0], :bellman_term => 2712.8395061728393, :node_index => 2, :objective_state => nothing, :belief => Dict(2 => 1.0), :x => SDDP.State{Float64}[SDDP.State{Float64}(0.0, 0.0), SDDP.State{Float64}(0.0, 0.0), SDDP.State{Float64}(50.0, 50.0), SDDP.State{Float64}(50.0, 50.0)], :stage_objective => 500.0, :f => 10.0, :noise_term => (price = 20.0, fill = 10)…), Dict(:b => [0.0, 0.0, 0.0], :w => [0.0, 0.0, 50.0], :bellman_term => 1374.8148148148139, :node_index => 3, :objective_state => nothing, :belief => Dict(3 => 1.0), :x => SDDP.State{Float64}[SDDP.State{Float64}(0.0, 0.0), SDDP.State{Float64}(0.0, 0.0), SDDP.State{Float64}(50.0, 5.684341886080801e-13), SDDP.State{Float64}(50.0, 49.999999999999275)], :stage_objective => 1500.0, :f => 5.0, :noise_term => (price = 30.0, fill = 5)…), Dict(:b => [0.0, 0.0, 0.0], :w => [0.0, 0.0, 0.0], :bellman_term => 1331.1111111111102, :node_index => 4, :objective_state => nothing, :belief => Dict(4 => 1.0), :x => SDDP.State{Float64}[SDDP.State{Float64}(0.0, 0.0), SDDP.State{Float64}(0.0, 0.0), SDDP.State{Float64}(0.0, 19.999999999999975), SDDP.State{Float64}(49.999999999999275, 50.0)], :stage_objective => 0.0, :f => 10.0, :noise_term => (price = 20.0, fill = 10)…), Dict(:b => [0.0, 0.0, 0.0], :w => [0.0, 0.0, 0.0], :bellman_term => 1343.333333333333, :node_index => 5, :objective_state => nothing, :belief => Dict(5 => 1.0), :x => SDDP.State{Float64}[SDDP.State{Float64}(0.0, 15.000000000000686), SDDP.State{Float64}(0.0, 15.000000000000686), SDDP.State{Float64}(19.999999999999975, 49.99999999999997), SDDP.State{Float64}(50.0, 49.99999999999997)], :stage_objective => 0.0, :f => 15.0, :noise_term => (price = 10.0, fill = 15)…), Dict(:b => [8.348877145181177e-13, 0.0, 0.0], :w => [14.99999999999985, 0.0, 0.0], :bellman_term => 1000.0, :node_index => 6, :objective_state => nothing, :belief => Dict(6 => 1.0), :x => SDDP.State{Float64}[SDDP.State{Float64}(15.000000000000686, 50.0), SDDP.State{Float64}(15.000000000000686, 50.0), SDDP.State{Float64}(49.99999999999997, 50.0), SDDP.State{Float64}(49.99999999999997, 50.0)], :stage_objective => 149.99999999999682, :f => 15.0, :noise_term => (price = 10.0, fill = 15)…), Dict(:b => [0.0, 0.0, 0.0], :w => [50.0, 0.0, 0.0], :bellman_term => 0.0, :node_index => 7, :objective_state => nothing, :belief => Dict(7 => 1.0), :x => SDDP.State{Float64}[SDDP.State{Float64}(50.0, 0.0), SDDP.State{Float64}(50.0, 0.0), SDDP.State{Float64}(50.0, 50.0), SDDP.State{Float64}(50.0, 50.0)], :stage_objective => 500.0, :f => 15.0, :noise_term => (price = 10.0, fill = 15)…)]\n",
       " [Dict(:b => [0.0, 0.0, 0.0], :w => [0.0, 0.0, 0.0], :bellman_term => 3343.9974793227475, :node_index => 1, :objective_state => nothing, :belief => Dict(1 => 1.0), :x => SDDP.State{Float64}[SDDP.State{Float64}(0.0, 0.0), SDDP.State{Float64}(0.0, 0.0), SDDP.State{Float64}(0.0, 50.0), SDDP.State{Float64}(0.0, 50.0)], :stage_objective => 0, :f => 0.0, :noise_term => nothing…), Dict(:b => [0.0, 0.0, 0.0], :w => [0.0, 25.0, 0.0], :bellman_term => 2712.839506172839, :node_index => 2, :objective_state => nothing, :belief => Dict(2 => 1.0), :x => SDDP.State{Float64}[SDDP.State{Float64}(0.0, 0.0), SDDP.State{Float64}(0.0, 0.0), SDDP.State{Float64}(50.0, 50.0), SDDP.State{Float64}(50.0, 50.0)], :stage_objective => 500.0, :f => 10.0, :noise_term => (price = 20.0, fill = 10)…), Dict(:b => [0.0, 0.0, 0.0], :w => [0.0, 0.0, 50.0], :bellman_term => 1374.8148148148139, :node_index => 3, :objective_state => nothing, :belief => Dict(3 => 1.0), :x => SDDP.State{Float64}[SDDP.State{Float64}(0.0, 0.0), SDDP.State{Float64}(0.0, 0.0), SDDP.State{Float64}(50.0, 6.139089236967265e-13), SDDP.State{Float64}(50.0, 49.999999999999254)], :stage_objective => 1500.0, :f => 5.0, :noise_term => (price = 30.0, fill = 5)…), Dict(:b => [0.0, 0.0, 0.0], :w => [0.0, 0.0, 0.0], :bellman_term => 1442.2222222222213, :node_index => 4, :objective_state => nothing, :belief => Dict(4 => 1.0), :x => SDDP.State{Float64}[SDDP.State{Float64}(0.0, 9.094947017729284e-13), SDDP.State{Float64}(0.0, 9.094947017729284e-13), SDDP.State{Float64}(0.0, 30.000000000000295), SDDP.State{Float64}(49.999999999999254, 50.0)], :stage_objective => 0.0, :f => 15.0, :noise_term => (price = 10.0, fill = 15)…), Dict(:b => [0.0, 0.0, 0.0], :w => [0.0, 0.0, 40.00000000000015], :bellman_term => 356.6666666666604, :node_index => 5, :objective_state => nothing, :belief => Dict(5 => 1.0), :x => SDDP.State{Float64}[SDDP.State{Float64}(0.0, 3.808509063674138e-12), SDDP.State{Float64}(0.0, 3.808509063674138e-12), SDDP.State{Float64}(30.000000000000295, 4.999999999999865), SDDP.State{Float64}(50.0, 4.999999999999865)], :stage_objective => 1200.0000000000045, :f => 5.0, :noise_term => (price = 30.0, fill = 5)…), Dict(:b => [-0.0, 0.0, 0.0], :w => [0.0, 0.0, 0.0], :bellman_term => 439.9999999999968, :node_index => 6, :objective_state => nothing, :belief => Dict(6 => 1.0), :x => SDDP.State{Float64}[SDDP.State{Float64}(0.0, 24.999999999999638), SDDP.State{Float64}(0.0, 24.999999999999638), SDDP.State{Float64}(4.999999999999865, 24.99999999999963), SDDP.State{Float64}(4.999999999999865, 24.99999999999963)], :stage_objective => 0.0, :f => 15.0, :noise_term => (price = 10.0, fill = 15)…), Dict(:b => [0.0, 0.0, 4.9999999999996305], :w => [0.0, 0.0, 20.0], :bellman_term => 1.1368683772161603e-13, :node_index => 7, :objective_state => nothing, :belief => Dict(7 => 1.0), :x => SDDP.State{Float64}[SDDP.State{Float64}(24.999999999999638, 0.0), SDDP.State{Float64}(24.999999999999638, 0.0), SDDP.State{Float64}(24.99999999999963, 50.0), SDDP.State{Float64}(24.99999999999963, 50.0)], :stage_objective => 570.0000000000022, :f => 5.0, :noise_term => (price = 30.0, fill = 5)…)]\n",
       " [Dict(:b => [0.0, 0.0, 0.0], :w => [0.0, 0.0, 0.0], :bellman_term => 3343.9974793227475, :node_index => 1, :objective_state => nothing, :belief => Dict(1 => 1.0), :x => SDDP.State{Float64}[SDDP.State{Float64}(0.0, 0.0), SDDP.State{Float64}(0.0, 0.0), SDDP.State{Float64}(0.0, 50.0), SDDP.State{Float64}(0.0, 50.0)], :stage_objective => 0, :f => 0.0, :noise_term => nothing…), Dict(:b => [0.0, 0.0, 0.0], :w => [0.0, 0.0, 50.0], :bellman_term => 2018.535647844788, :node_index => 2, :objective_state => nothing, :belief => Dict(2 => 1.0), :x => SDDP.State{Float64}[SDDP.State{Float64}(0.0, 0.0), SDDP.State{Float64}(0.0, 0.0), SDDP.State{Float64}(50.0, 30.326990985528028), SDDP.State{Float64}(50.0, 50.0)], :stage_objective => 1500.0, :f => 5.0, :noise_term => (price = 30.0, fill = 5)…), Dict(:b => [0.0, 0.1634954927627561, 0.0], :w => [0.0, 15.000000000001258, 0.0], :bellman_term => 1615.5555555555247, :node_index => 3, :objective_state => nothing, :belief => Dict(3 => 1.0), :x => SDDP.State{Float64}[SDDP.State{Float64}(0.0, 0.0), SDDP.State{Float64}(0.0, 0.0), SDDP.State{Float64}(30.326990985528028, 19.99999999999741), SDDP.State{Float64}(50.0, 50.0)], :stage_objective => 299.34601802897413, :f => 10.0, :noise_term => (price = 20.0, fill = 10)…), Dict(:b => [0.0, 0.0, 0.0], :w => [0.0, 9.999999999998705, 0.0], :bellman_term => 1331.111111111111, :node_index => 4, :objective_state => nothing, :belief => Dict(4 => 1.0), :x => SDDP.State{Float64}[SDDP.State{Float64}(0.0, 9.663381206337365e-13), SDDP.State{Float64}(0.0, 9.663381206337365e-13), SDDP.State{Float64}(19.99999999999741, 20.000000000000313), SDDP.State{Float64}(50.0, 50.0)], :stage_objective => 199.9999999999741, :f => 10.0, :noise_term => (price = 20.0, fill = 10)…), Dict(:b => [0.0, 0.0, 0.0], :w => [0.0, 0.0, 35.000000000000156], :bellman_term => 356.6666666666613, :node_index => 5, :objective_state => nothing, :belief => Dict(5 => 1.0), :x => SDDP.State{Float64}[SDDP.State{Float64}(0.0, 3.808509063674138e-12), SDDP.State{Float64}(0.0, 3.808509063674138e-12), SDDP.State{Float64}(20.000000000000313, 4.999999999999886), SDDP.State{Float64}(50.0, 4.999999999999886)], :stage_objective => 1050.0000000000048, :f => 5.0, :noise_term => (price = 30.0, fill = 5)…), Dict(:b => [0.0, 0.0, 0.0], :w => [0.0, 0.0, 4.999999999999886], :bellman_term => 139.9999999999991, :node_index => 6, :objective_state => nothing, :belief => Dict(6 => 1.0), :x => SDDP.State{Float64}[SDDP.State{Float64}(0.0, 9.999999999999746), SDDP.State{Float64}(0.0, 9.999999999999746), SDDP.State{Float64}(4.999999999999886, 9.999999999999744), SDDP.State{Float64}(4.999999999999886, 9.999999999999744)], :stage_objective => 149.9999999999966, :f => 5.0, :noise_term => (price = 30.0, fill = 5)…), Dict(:b => [0.0, 0.0, 4.999999999999744], :w => [0.0, 0.0, 5.0], :bellman_term => 0.0, :node_index => 7, :objective_state => nothing, :belief => Dict(7 => 1.0), :x => SDDP.State{Float64}[SDDP.State{Float64}(9.999999999999746, 0.0), SDDP.State{Float64}(9.999999999999746, 0.0), SDDP.State{Float64}(9.999999999999744, 50.0), SDDP.State{Float64}(9.999999999999744, 50.0)], :stage_objective => 120.00000000000153, :f => 5.0, :noise_term => (price = 30.0, fill = 5)…)]\n",
       " [Dict(:b => [0.0, 0.0, 0.0], :w => [0.0, 0.0, 0.0], :bellman_term => 3343.9974793227475, :node_index => 1, :objective_state => nothing, :belief => Dict(1 => 1.0), :x => SDDP.State{Float64}[SDDP.State{Float64}(0.0, 0.0), SDDP.State{Float64}(0.0, 0.0), SDDP.State{Float64}(0.0, 50.0), SDDP.State{Float64}(0.0, 50.0)], :stage_objective => 0, :f => 0.0, :noise_term => nothing…), Dict(:b => [0.0, 0.0, 0.0], :w => [0.0, 0.0, 50.0], :bellman_term => 2018.5356478447875, :node_index => 2, :objective_state => nothing, :belief => Dict(2 => 1.0), :x => SDDP.State{Float64}[SDDP.State{Float64}(0.0, 0.0), SDDP.State{Float64}(0.0, 0.0), SDDP.State{Float64}(50.0, 30.32699098552794), SDDP.State{Float64}(50.0, 50.0)], :stage_objective => 1500.0, :f => 5.0, :noise_term => (price = 30.0, fill = 5)…), Dict(:b => [0.0, 0.1634954927627117, 0.0], :w => [0.0, 15.000000000001258, 0.0], :bellman_term => 1615.5555555555247, :node_index => 3, :objective_state => nothing, :belief => Dict(3 => 1.0), :x => SDDP.State{Float64}[SDDP.State{Float64}(0.0, 0.0), SDDP.State{Float64}(0.0, 0.0), SDDP.State{Float64}(30.32699098552794, 19.99999999999741), SDDP.State{Float64}(50.0, 50.0)], :stage_objective => 299.3460180289743, :f => 10.0, :noise_term => (price = 20.0, fill = 10)…), Dict(:b => [0.0, 0.0, 0.0], :w => [0.0, 0.0, 0.0], :bellman_term => 1664.4444444444152, :node_index => 4, :objective_state => nothing, :belief => Dict(4 => 1.0), :x => SDDP.State{Float64}[SDDP.State{Float64}(0.0, 9.663381206337365e-13), SDDP.State{Float64}(0.0, 9.663381206337365e-13), SDDP.State{Float64}(19.99999999999741, 49.99999999999769), SDDP.State{Float64}(50.0, 50.0)], :stage_objective => 0.0, :f => 15.0, :noise_term => (price = 10.0, fill = 15)…), Dict(:b => [0.0, 0.0, 0.0], :w => [0.0, 0.0, 49.99999999999885], :bellman_term => 356.6666666666615, :node_index => 5, :objective_state => nothing, :belief => Dict(5 => 1.0), :x => SDDP.State{Float64}[SDDP.State{Float64}(0.0, 3.794298208958936e-12), SDDP.State{Float64}(0.0, 3.794298208958936e-12), SDDP.State{Float64}(49.99999999999769, 4.999999999999897), SDDP.State{Float64}(50.0, 4.999999999999897)], :stage_objective => 1499.9999999999654, :f => 5.0, :noise_term => (price = 30.0, fill = 5)…), Dict(:b => [0.0, 0.0, 0.0], :w => [0.0, 0.0, 0.0], :bellman_term => 439.9999999999968, :node_index => 6, :objective_state => nothing, :belief => Dict(6 => 1.0), :x => SDDP.State{Float64}[SDDP.State{Float64}(0.0, 24.999999999999638), SDDP.State{Float64}(0.0, 24.999999999999638), SDDP.State{Float64}(4.999999999999897, 24.99999999999963), SDDP.State{Float64}(4.999999999999897, 24.99999999999963)], :stage_objective => 0.0, :f => 15.0, :noise_term => (price = 10.0, fill = 15)…), Dict(:b => [0.0, 0.0, 4.9999999999996305], :w => [0.0, 0.0, 20.0], :bellman_term => 0.0, :node_index => 7, :objective_state => nothing, :belief => Dict(7 => 1.0), :x => SDDP.State{Float64}[SDDP.State{Float64}(24.999999999999638, 0.0), SDDP.State{Float64}(24.999999999999638, 0.0), SDDP.State{Float64}(24.99999999999963, 50.0), SDDP.State{Float64}(24.99999999999963, 50.0)], :stage_objective => 570.0000000000022, :f => 5.0, :noise_term => (price = 30.0, fill = 5)…)]\n",
       " [Dict(:b => [0.0, 0.0, 0.0], :w => [0.0, 0.0, 0.0], :bellman_term => 3343.9974793227475, :node_index => 1, :objective_state => nothing, :belief => Dict(1 => 1.0), :x => SDDP.State{Float64}[SDDP.State{Float64}(0.0, 0.0), SDDP.State{Float64}(0.0, 0.0), SDDP.State{Float64}(0.0, 50.0), SDDP.State{Float64}(0.0, 50.0)], :stage_objective => 0, :f => 0.0, :noise_term => nothing…), Dict(:b => [0.0, 0.0, 0.0], :w => [0.0, 25.0, 0.0], :bellman_term => 2712.8395061728393, :node_index => 2, :objective_state => nothing, :belief => Dict(2 => 1.0), :x => SDDP.State{Float64}[SDDP.State{Float64}(0.0, 0.0), SDDP.State{Float64}(0.0, 0.0), SDDP.State{Float64}(50.0, 50.0), SDDP.State{Float64}(50.0, 50.0)], :stage_objective => 500.0, :f => 10.0, :noise_term => (price = 20.0, fill = 10)…), Dict(:b => [0.0, 0.0, 0.0], :w => [0.0, 25.0, 0.0], :bellman_term => 2077.4074074074065, :node_index => 3, :objective_state => nothing, :belief => Dict(3 => 1.0), :x => SDDP.State{Float64}[SDDP.State{Float64}(0.0, 2.273736754432321e-13), SDDP.State{Float64}(0.0, 0.0), SDDP.State{Float64}(50.0, 50.0), SDDP.State{Float64}(50.0, 50.0)], :stage_objective => 500.0, :f => 10.0, :noise_term => (price = 20.0, fill = 10)…), Dict(:b => [0.0, 0.0, 0.0], :w => [0.0, 25.0, 0.0], :bellman_term => 1442.2222222222213, :node_index => 4, :objective_state => nothing, :belief => Dict(4 => 1.0), :x => SDDP.State{Float64}[SDDP.State{Float64}(0.0, 9.094947017729284e-13), SDDP.State{Float64}(0.0, 9.094947017729284e-13), SDDP.State{Float64}(50.0, 30.000000000000295), SDDP.State{Float64}(50.0, 50.0)], :stage_objective => 500.0, :f => 10.0, :noise_term => (price = 20.0, fill = 10)…), Dict(:b => [0.0, 0.0, 0.0], :w => [0.0, 15.000000000000147, 0.0], :bellman_term => 1043.33333333333, :node_index => 5, :objective_state => nothing, :belief => Dict(5 => 1.0), :x => SDDP.State{Float64}[SDDP.State{Float64}(0.0, 5.115907697472722e-13), SDDP.State{Float64}(0.0, 5.115907697472722e-13), SDDP.State{Float64}(30.000000000000295, 34.999999999999844), SDDP.State{Float64}(50.0, 34.999999999999844)], :stage_objective => 300.00000000000296, :f => 10.0, :noise_term => (price = 20.0, fill = 10)…), Dict(:b => [0.0, 0.0, 0.0], :w => [0.0, 0.0, 0.0], :bellman_term => 999.999999999998, :node_index => 6, :objective_state => nothing, :belief => Dict(6 => 1.0), :x => SDDP.State{Float64}[SDDP.State{Float64}(0.0, 50.0), SDDP.State{Float64}(0.0, 50.0), SDDP.State{Float64}(34.999999999999844, 50.0), SDDP.State{Float64}(34.999999999999844, 50.0)], :stage_objective => 0.0, :f => 15.0, :noise_term => (price = 10.0, fill = 15)…), Dict(:b => [0.0, 0.0, 0.0], :w => [50.0, 0.0, 0.0], :bellman_term => 0.0, :node_index => 7, :objective_state => nothing, :belief => Dict(7 => 1.0), :x => SDDP.State{Float64}[SDDP.State{Float64}(50.0, 0.0), SDDP.State{Float64}(50.0, 0.0), SDDP.State{Float64}(50.0, 50.0), SDDP.State{Float64}(50.0, 50.0)], :stage_objective => 500.0, :f => 15.0, :noise_term => (price = 10.0, fill = 15)…)]\n",
       " [Dict(:b => [0.0, 0.0, 0.0], :w => [0.0, 0.0, 0.0], :bellman_term => 3343.9974793227475, :node_index => 1, :objective_state => nothing, :belief => Dict(1 => 1.0), :x => SDDP.State{Float64}[SDDP.State{Float64}(0.0, 0.0), SDDP.State{Float64}(0.0, 0.0), SDDP.State{Float64}(0.0, 50.0), SDDP.State{Float64}(0.0, 50.0)], :stage_objective => 0, :f => 0.0, :noise_term => nothing…), Dict(:b => [0.0, 0.0, 0.0], :w => [0.0, 0.0, 50.0], :bellman_term => 2018.535647844788, :node_index => 2, :objective_state => nothing, :belief => Dict(2 => 1.0), :x => SDDP.State{Float64}[SDDP.State{Float64}(0.0, 0.0), SDDP.State{Float64}(0.0, 0.0), SDDP.State{Float64}(50.0, 30.326990985528028), SDDP.State{Float64}(50.0, 50.0)], :stage_objective => 1500.0, :f => 5.0, :noise_term => (price = 30.0, fill = 5)…), Dict(:b => [0.0, 0.16349549276290887, 0.0], :w => [0.0, 15.000000000001105, 0.0], :bellman_term => 1615.5555555555284, :node_index => 3, :objective_state => nothing, :belief => Dict(3 => 1.0), :x => SDDP.State{Float64}[SDDP.State{Float64}(0.0, 0.0), SDDP.State{Float64}(0.0, 0.0), SDDP.State{Float64}(30.326990985528028, 19.9999999999975), SDDP.State{Float64}(50.0, 50.0)], :stage_objective => 299.34601802897043, :f => 10.0, :noise_term => (price = 20.0, fill = 10)…), Dict(:b => [0.0, 0.0, 0.0], :w => [0.0, 0.0, 34.99999999999875], :bellman_term => 601.1111111111115, :node_index => 4, :objective_state => nothing, :belief => Dict(4 => 1.0), :x => SDDP.State{Float64}[SDDP.State{Float64}(0.0, -2.8470432360856114e-12), SDDP.State{Float64}(0.0, 2.7333563983639966e-12), SDDP.State{Float64}(19.9999999999975, 2.733356398363996e-12), SDDP.State{Float64}(50.0, 9.999999999997726)], :stage_objective => 1049.9999999999625, :f => 5.0, :noise_term => (price = 30.0, fill = 5)…), Dict(:b => [0.0, 0.0, 0.0], :w => [0.0, 0.0, 4.999999999998863], :bellman_term => 356.66666666669045, :node_index => 5, :objective_state => nothing, :belief => Dict(5 => 1.0), :x => SDDP.State{Float64}[SDDP.State{Float64}(0.0, 7.588596417917878e-12), SDDP.State{Float64}(0.0, 0.0), SDDP.State{Float64}(0.0, 7.742073648842051e-12), SDDP.State{Float64}(9.999999999997726, 9.999999999994566)], :stage_objective => 149.9999999999659, :f => 5.0, :noise_term => (price = 30.0, fill = 5)…), Dict(:b => [0.0, 0.0, 0.0], :w => [0.0, 0.0, 0.0], :bellman_term => 439.9999999999968, :node_index => 6, :objective_state => nothing, :belief => Dict(6 => 1.0), :x => SDDP.State{Float64}[SDDP.State{Float64}(0.0, 24.999999999999826), SDDP.State{Float64}(0.0, 24.999999999999826), SDDP.State{Float64}(0.0, 24.999999999999822), SDDP.State{Float64}(9.999999999994566, 24.999999999999822)], :stage_objective => 0.0, :f => 15.0, :noise_term => (price = 10.0, fill = 15)…), Dict(:b => [0.0, 0.0, 4.999999999999822], :w => [0.0, 0.0, 20.0], :bellman_term => 1.1368683772161603e-13, :node_index => 7, :objective_state => nothing, :belief => Dict(7 => 1.0), :x => SDDP.State{Float64}[SDDP.State{Float64}(24.999999999999826, 0.0), SDDP.State{Float64}(24.999999999999826, 0.0), SDDP.State{Float64}(24.999999999999822, 50.0), SDDP.State{Float64}(24.999999999999822, 50.0)], :stage_objective => 570.000000000001, :f => 5.0, :noise_term => (price = 30.0, fill = 5)…)]\n",
       " [Dict(:b => [0.0, 0.0, 0.0], :w => [0.0, 0.0, 0.0], :bellman_term => 3343.9974793227475, :node_index => 1, :objective_state => nothing, :belief => Dict(1 => 1.0), :x => SDDP.State{Float64}[SDDP.State{Float64}(0.0, 0.0), SDDP.State{Float64}(0.0, 0.0), SDDP.State{Float64}(0.0, 50.0), SDDP.State{Float64}(0.0, 50.0)], :stage_objective => 0, :f => 0.0, :noise_term => nothing…), Dict(:b => [0.0, 0.0, 0.0], :w => [0.0, 0.0, 0.0], :bellman_term => 3300.617283950616, :node_index => 2, :objective_state => nothing, :belief => Dict(2 => 1.0), :x => SDDP.State{Float64}[SDDP.State{Float64}(0.0, 0.0), SDDP.State{Float64}(0.0, 20.000000000000227), SDDP.State{Float64}(50.0, 50.0), SDDP.State{Float64}(50.0, 50.0)], :stage_objective => 0.0, :f => 15.0, :noise_term => (price = 10.0, fill = 15)…), Dict(:b => [0.0, 0.0, 0.0], :w => [0.0, 35.000000000000114, 0.0], :bellman_term => 2493.33333333333, :node_index => 3, :objective_state => nothing, :belief => Dict(3 => 1.0), :x => SDDP.State{Float64}[SDDP.State{Float64}(0.0, -2.273736754432321e-13), SDDP.State{Float64}(20.000000000000227, 0.0), SDDP.State{Float64}(50.0, 50.0), SDDP.State{Float64}(50.0, 50.0)], :stage_objective => 700.0000000000023, :f => 10.0, :noise_term => (price = 20.0, fill = 10)…), Dict(:b => [0.0, 0.0, 0.0], :w => [0.0, 0.0, 0.0], :bellman_term => 2401.111111111108, :node_index => 4, :objective_state => nothing, :belief => Dict(4 => 1.0), :x => SDDP.State{Float64}[SDDP.State{Float64}(0.0, 0.0), SDDP.State{Float64}(0.0, 50.000000000000064), SDDP.State{Float64}(50.0, 50.0), SDDP.State{Float64}(50.0, 50.0)], :stage_objective => 0.0, :f => 15.0, :noise_term => (price = 10.0, fill = 15)…), Dict(:b => [0.0, 0.0, 0.0], :w => [0.0, 0.0, 50.0], :bellman_term => 1243.3333333333308, :node_index => 5, :objective_state => nothing, :belief => Dict(5 => 1.0), :x => SDDP.State{Float64}[SDDP.State{Float64}(0.0, 10.000000000000512), SDDP.State{Float64}(50.0, 10.000000000000512), SDDP.State{Float64}(50.0, 39.99999999999976), SDDP.State{Float64}(50.0, 50.0)], :stage_objective => 1500.0, :f => 5.0, :noise_term => (price = 30.0, fill = 5)…), Dict(:b => [0.0, 0.0, 0.0], :w => [0.0, 25.000000000000135, 0.0], :bellman_term => 639.9999999999918, :node_index => 6, :objective_state => nothing, :belief => Dict(6 => 1.0), :x => SDDP.State{Float64}[SDDP.State{Float64}(10.000000000000512, 34.999999999999574), SDDP.State{Float64}(10.000000000000512, 34.999999999999574), SDDP.State{Float64}(39.99999999999976, 34.99999999999957), SDDP.State{Float64}(50.0, 34.99999999999957)], :stage_objective => 500.00000000000273, :f => 10.0, :noise_term => (price = 20.0, fill = 10)…), Dict(:b => [0.0, 0.0, 4.999999999999815], :w => [0.0, 0.0, 29.99999999999975], :bellman_term => 0.0, :node_index => 7, :objective_state => nothing, :belief => Dict(7 => 1.0), :x => SDDP.State{Float64}[SDDP.State{Float64}(34.999999999999574, 0.0), SDDP.State{Float64}(34.999999999999574, 0.0), SDDP.State{Float64}(34.99999999999957, 50.0), SDDP.State{Float64}(34.99999999999957, 50.0)], :stage_objective => 869.9999999999936, :f => 5.0, :noise_term => (price = 30.0, fill = 5)…)]\n",
       " [Dict(:b => [0.0, 0.0, 0.0], :w => [0.0, 0.0, 0.0], :bellman_term => 3343.9974793227475, :node_index => 1, :objective_state => nothing, :belief => Dict(1 => 1.0), :x => SDDP.State{Float64}[SDDP.State{Float64}(0.0, 0.0), SDDP.State{Float64}(0.0, 0.0), SDDP.State{Float64}(0.0, 50.0), SDDP.State{Float64}(0.0, 50.0)], :stage_objective => 0, :f => 0.0, :noise_term => nothing…), Dict(:b => [0.0, 0.0, 0.0], :w => [0.0, 25.0, 0.0], :bellman_term => 2712.8395061728393, :node_index => 2, :objective_state => nothing, :belief => Dict(2 => 1.0), :x => SDDP.State{Float64}[SDDP.State{Float64}(0.0, 0.0), SDDP.State{Float64}(0.0, 0.0), SDDP.State{Float64}(50.0, 50.0), SDDP.State{Float64}(50.0, 50.0)], :stage_objective => 500.0, :f => 10.0, :noise_term => (price = 20.0, fill = 10)…), Dict(:b => [0.0, 0.0, 0.0], :w => [0.0, 0.0, 50.0], :bellman_term => 1374.8148148148139, :node_index => 3, :objective_state => nothing, :belief => Dict(3 => 1.0), :x => SDDP.State{Float64}[SDDP.State{Float64}(0.0, 0.0), SDDP.State{Float64}(0.0, 0.0), SDDP.State{Float64}(50.0, 6.139089236967271e-13), SDDP.State{Float64}(50.0, 49.99999999999909)], :stage_objective => 1500.0, :f => 5.0, :noise_term => (price = 30.0, fill = 5)…), Dict(:b => [0.0, 0.0, 0.0], :w => [0.0, 0.0, 24.999999999999545], :bellman_term => 601.1111111111195, :node_index => 4, :objective_state => nothing, :belief => Dict(4 => 1.0), :x => SDDP.State{Float64}[SDDP.State{Float64}(0.0, 0.0), SDDP.State{Float64}(0.0, 0.0), SDDP.State{Float64}(0.0, 5.379011521914174e-12), SDDP.State{Float64}(49.99999999999909, 9.99999999999568)], :stage_objective => 749.9999999999864, :f => 5.0, :noise_term => (price = 30.0, fill = 5)…), Dict(:b => [0.0, 0.0, 0.0], :w => [0.0, 0.0, 0.0], :bellman_term => 589.9999999999974, :node_index => 5, :objective_state => nothing, :belief => Dict(5 => 1.0), :x => SDDP.State{Float64}[SDDP.State{Float64}(0.0, -1.2505552149377764e-13), SDDP.State{Float64}(0.0, 7.742073648842051e-12), SDDP.State{Float64}(0.0, 0.0), SDDP.State{Float64}(9.99999999999568, 29.999999999999996)], :stage_objective => 0.0, :f => 10.0, :noise_term => (price = 20.0, fill = 10)…), Dict(:b => [0.0, 0.0, 0.0], :w => [0.0, 0.0, 0.0], :bellman_term => 539.9999999999968, :node_index => 6, :objective_state => nothing, :belief => Dict(6 => 1.0), :x => SDDP.State{Float64}[SDDP.State{Float64}(0.0, 29.99999999999983), SDDP.State{Float64}(0.0, 29.99999999999983), SDDP.State{Float64}(0.0, 29.999999999999822), SDDP.State{Float64}(29.999999999999996, 29.999999999999822)], :stage_objective => 0.0, :f => 10.0, :noise_term => (price = 20.0, fill = 10)…), Dict(:b => [0.0, 0.0, 4.999999999999822], :w => [0.0, 0.0, 25.0], :bellman_term => 0.0, :node_index => 7, :objective_state => nothing, :belief => Dict(7 => 1.0), :x => SDDP.State{Float64}[SDDP.State{Float64}(29.99999999999983, 0.0), SDDP.State{Float64}(29.99999999999983, 0.0), SDDP.State{Float64}(29.999999999999822, 50.0), SDDP.State{Float64}(29.999999999999822, 50.0)], :stage_objective => 720.000000000001, :f => 5.0, :noise_term => (price = 30.0, fill = 5)…)]\n",
       " ⋮\n",
       " [Dict(:b => [0.0, 0.0, 0.0], :w => [0.0, 0.0, 0.0], :bellman_term => 3343.9974793227475, :node_index => 1, :objective_state => nothing, :belief => Dict(1 => 1.0), :x => SDDP.State{Float64}[SDDP.State{Float64}(0.0, 0.0), SDDP.State{Float64}(0.0, 0.0), SDDP.State{Float64}(0.0, 50.0), SDDP.State{Float64}(0.0, 50.0)], :stage_objective => 0, :f => 0.0, :noise_term => nothing…), Dict(:b => [0.0, 0.0, 0.0], :w => [0.0, 25.0, 0.0], :bellman_term => 2712.8395061728393, :node_index => 2, :objective_state => nothing, :belief => Dict(2 => 1.0), :x => SDDP.State{Float64}[SDDP.State{Float64}(0.0, 0.0), SDDP.State{Float64}(0.0, 0.0), SDDP.State{Float64}(50.0, 50.0), SDDP.State{Float64}(50.0, 50.0)], :stage_objective => 500.0, :f => 10.0, :noise_term => (price = 20.0, fill = 10)…), Dict(:b => [0.0, 0.0, 0.0], :w => [0.0, 0.0, 50.0], :bellman_term => 1374.8148148148139, :node_index => 3, :objective_state => nothing, :belief => Dict(3 => 1.0), :x => SDDP.State{Float64}[SDDP.State{Float64}(0.0, 0.0), SDDP.State{Float64}(0.0, 0.0), SDDP.State{Float64}(50.0, 6.139089236967271e-13), SDDP.State{Float64}(50.0, 49.99999999999909)], :stage_objective => 1500.0, :f => 5.0, :noise_term => (price = 30.0, fill = 5)…), Dict(:b => [0.0, 0.0, 0.0], :w => [0.0, 0.0, 24.999999999999545], :bellman_term => 601.1111111111195, :node_index => 4, :objective_state => nothing, :belief => Dict(4 => 1.0), :x => SDDP.State{Float64}[SDDP.State{Float64}(0.0, -2.7284841053187847e-12), SDDP.State{Float64}(0.0, 2.689505760957087e-12), SDDP.State{Float64}(0.0, 2.6895057609570875e-12), SDDP.State{Float64}(49.99999999999909, 9.999999999998295)], :stage_objective => 749.9999999999864, :f => 5.0, :noise_term => (price = 30.0, fill = 5)…), Dict(:b => [0.0, 0.0, 0.0], :w => [0.0, 0.0, 0.0], :bellman_term => 706.666666666664, :node_index => 5, :objective_state => nothing, :belief => Dict(5 => 1.0), :x => SDDP.State{Float64}[SDDP.State{Float64}(0.0, -1.3642420526593926e-13), SDDP.State{Float64}(0.0, 7.810285751475025e-12), SDDP.State{Float64}(0.0, 0.0), SDDP.State{Float64}(9.999999999998295, 39.99999999999994)], :stage_objective => 0.0, :f => 15.0, :noise_term => (price = 10.0, fill = 15)…), Dict(:b => [0.0, 0.0, 0.0], :w => [0.0, 0.0, 19.99999999999997], :bellman_term => 139.99999999999682, :node_index => 6, :objective_state => nothing, :belief => Dict(6 => 1.0), :x => SDDP.State{Float64}[SDDP.State{Float64}(0.0, 9.999999999999632), SDDP.State{Float64}(0.0, 9.999999999999632), SDDP.State{Float64}(0.0, 9.99999999999963), SDDP.State{Float64}(39.99999999999994, 9.99999999999963)], :stage_objective => 599.9999999999991, :f => 5.0, :noise_term => (price = 30.0, fill = 5)…), Dict(:b => [0.0, 0.0, 0.0], :w => [9.999999999999632, 0.0, 0.0], :bellman_term => 0.0, :node_index => 7, :objective_state => nothing, :belief => Dict(7 => 1.0), :x => SDDP.State{Float64}[SDDP.State{Float64}(9.999999999999632, 0.0), SDDP.State{Float64}(9.999999999999632, 0.0), SDDP.State{Float64}(9.99999999999963, 50.0), SDDP.State{Float64}(9.99999999999963, 50.0)], :stage_objective => 99.99999999999632, :f => 15.0, :noise_term => (price = 10.0, fill = 15)…)]\n",
       " [Dict(:b => [0.0, 0.0, 0.0], :w => [0.0, 0.0, 0.0], :bellman_term => 3343.9974793227475, :node_index => 1, :objective_state => nothing, :belief => Dict(1 => 1.0), :x => SDDP.State{Float64}[SDDP.State{Float64}(0.0, 0.0), SDDP.State{Float64}(0.0, 0.0), SDDP.State{Float64}(0.0, 50.0), SDDP.State{Float64}(0.0, 50.0)], :stage_objective => 0, :f => 0.0, :noise_term => nothing…), Dict(:b => [0.0, 0.0, 0.0], :w => [0.0, 0.0, 50.0], :bellman_term => 2018.535647844788, :node_index => 2, :objective_state => nothing, :belief => Dict(2 => 1.0), :x => SDDP.State{Float64}[SDDP.State{Float64}(0.0, 0.0), SDDP.State{Float64}(0.0, 0.0), SDDP.State{Float64}(50.0, 30.326990985528028), SDDP.State{Float64}(50.0, 50.0)], :stage_objective => 1500.0, :f => 5.0, :noise_term => (price = 30.0, fill = 5)…), Dict(:b => [0.0, 0.1634954927627561, 0.0], :w => [0.0, 15.000000000001258, 0.0], :bellman_term => 1615.5555555555247, :node_index => 3, :objective_state => nothing, :belief => Dict(3 => 1.0), :x => SDDP.State{Float64}[SDDP.State{Float64}(0.0, 0.0), SDDP.State{Float64}(0.0, 0.0), SDDP.State{Float64}(30.326990985528028, 19.99999999999741), SDDP.State{Float64}(50.0, 50.0)], :stage_objective => 299.34601802897413, :f => 10.0, :noise_term => (price = 20.0, fill = 10)…), Dict(:b => [0.0, 0.0, 0.0], :w => [0.0, 0.0, 34.99999999999871], :bellman_term => 601.1111111111079, :node_index => 4, :objective_state => nothing, :belief => Dict(4 => 1.0), :x => SDDP.State{Float64}[SDDP.State{Float64}(0.0, -2.704122640092721e-12), SDDP.State{Float64}(0.0, 2.7041226400927232e-12), SDDP.State{Float64}(19.99999999999741, 2.704122640092723e-12), SDDP.State{Float64}(50.0, 9.999999999997339)], :stage_objective => 1049.9999999999611, :f => 5.0, :noise_term => (price = 30.0, fill = 5)…), Dict(:b => [0.0, 0.0, 0.0], :w => [0.0, 0.0, 4.9999999999986695], :bellman_term => 356.666666666695, :node_index => 5, :objective_state => nothing, :belief => Dict(5 => 1.0), :x => SDDP.State{Float64}[SDDP.State{Float64}(0.0, 0.0), SDDP.State{Float64}(0.0, 7.705835969318287e-12), SDDP.State{Float64}(0.0, 0.0), SDDP.State{Float64}(9.999999999997339, 10.000000000002649)], :stage_objective => 149.9999999999601, :f => 5.0, :noise_term => (price = 30.0, fill = 5)…), Dict(:b => [0.0, 0.0, 0.0], :w => [0.0, 0.0, 0.0], :bellman_term => 439.9999999999968, :node_index => 6, :objective_state => nothing, :belief => Dict(6 => 1.0), :x => SDDP.State{Float64}[SDDP.State{Float64}(0.0, 24.999999999999638), SDDP.State{Float64}(0.0, 24.999999999999638), SDDP.State{Float64}(0.0, 24.99999999999963), SDDP.State{Float64}(10.000000000002649, 24.99999999999963)], :stage_objective => 0.0, :f => 15.0, :noise_term => (price = 10.0, fill = 15)…), Dict(:b => [0.0, 0.0, 0.0], :w => [24.999999999999638, 0.0, 0.0], :bellman_term => 0.0, :node_index => 7, :objective_state => nothing, :belief => Dict(7 => 1.0), :x => SDDP.State{Float64}[SDDP.State{Float64}(24.999999999999638, 0.0), SDDP.State{Float64}(24.999999999999638, 0.0), SDDP.State{Float64}(24.99999999999963, 50.0), SDDP.State{Float64}(24.99999999999963, 50.0)], :stage_objective => 249.99999999999636, :f => 15.0, :noise_term => (price = 10.0, fill = 15)…)]\n",
       " [Dict(:b => [0.0, 0.0, 0.0], :w => [0.0, 0.0, 0.0], :bellman_term => 3343.9974793227475, :node_index => 1, :objective_state => nothing, :belief => Dict(1 => 1.0), :x => SDDP.State{Float64}[SDDP.State{Float64}(0.0, 0.0), SDDP.State{Float64}(0.0, 0.0), SDDP.State{Float64}(0.0, 50.0), SDDP.State{Float64}(0.0, 50.0)], :stage_objective => 0, :f => 0.0, :noise_term => nothing…), Dict(:b => [0.0, 0.0, 0.0], :w => [0.0, 25.0, 0.0], :bellman_term => 2712.8395061728393, :node_index => 2, :objective_state => nothing, :belief => Dict(2 => 1.0), :x => SDDP.State{Float64}[SDDP.State{Float64}(0.0, 0.0), SDDP.State{Float64}(0.0, 0.0), SDDP.State{Float64}(50.0, 50.0), SDDP.State{Float64}(50.0, 50.0)], :stage_objective => 500.0, :f => 10.0, :noise_term => (price = 20.0, fill = 10)…), Dict(:b => [0.0, 0.0, 0.0], :w => [0.0, 0.0, 50.0], :bellman_term => 1374.8148148148143, :node_index => 3, :objective_state => nothing, :belief => Dict(3 => 1.0), :x => SDDP.State{Float64}[SDDP.State{Float64}(0.0, 0.0), SDDP.State{Float64}(0.0, 0.0), SDDP.State{Float64}(50.0, -2.2737367544323206e-13), SDDP.State{Float64}(50.0, 50.0)], :stage_objective => 1500.0, :f => 5.0, :noise_term => (price = 30.0, fill = 5)…), Dict(:b => [0.0, 0.0, 0.0], :w => [0.0, 0.0, 0.0], :bellman_term => 1331.1111111111097, :node_index => 4, :objective_state => nothing, :belief => Dict(4 => 1.0), :x => SDDP.State{Float64}[SDDP.State{Float64}(0.0, 9.094947017729284e-13), SDDP.State{Float64}(0.0, 9.094947017729284e-13), SDDP.State{Float64}(0.0, 19.999999999999908), SDDP.State{Float64}(50.0, 50.0)], :stage_objective => 0.0, :f => 10.0, :noise_term => (price = 20.0, fill = 10)…), Dict(:b => [0.0, 0.0, 0.0], :w => [0.0, 0.0, 34.99999999999996], :bellman_term => 356.666666666664, :node_index => 5, :objective_state => nothing, :belief => Dict(5 => 1.0), :x => SDDP.State{Float64}[SDDP.State{Float64}(0.0, 0.0), SDDP.State{Float64}(0.0, 7.705835969318287e-12), SDDP.State{Float64}(19.999999999999908, 0.0), SDDP.State{Float64}(50.0, 9.999999999999984)], :stage_objective => 1049.9999999999986, :f => 5.0, :noise_term => (price = 30.0, fill = 5)…), Dict(:b => [0.0, 0.0, 0.0], :w => [0.0, 0.0, 0.0], :bellman_term => 439.9999999999968, :node_index => 6, :objective_state => nothing, :belief => Dict(6 => 1.0), :x => SDDP.State{Float64}[SDDP.State{Float64}(0.0, 24.999999999999638), SDDP.State{Float64}(0.0, 24.999999999999638), SDDP.State{Float64}(0.0, 24.99999999999963), SDDP.State{Float64}(9.999999999999984, 24.99999999999963)], :stage_objective => 0.0, :f => 15.0, :noise_term => (price = 10.0, fill = 15)…), Dict(:b => [0.0, 0.0, 4.9999999999996305], :w => [0.0, 0.0, 20.0], :bellman_term => 1.1368683772161603e-13, :node_index => 7, :objective_state => nothing, :belief => Dict(7 => 1.0), :x => SDDP.State{Float64}[SDDP.State{Float64}(24.999999999999638, 0.0), SDDP.State{Float64}(24.999999999999638, 0.0), SDDP.State{Float64}(24.99999999999963, 50.0), SDDP.State{Float64}(24.99999999999963, 50.0)], :stage_objective => 570.0000000000022, :f => 5.0, :noise_term => (price = 30.0, fill = 5)…)]\n",
       " [Dict(:b => [0.0, 0.0, 0.0], :w => [0.0, 0.0, 0.0], :bellman_term => 3343.9974793227475, :node_index => 1, :objective_state => nothing, :belief => Dict(1 => 1.0), :x => SDDP.State{Float64}[SDDP.State{Float64}(0.0, 0.0), SDDP.State{Float64}(0.0, 0.0), SDDP.State{Float64}(0.0, 50.0), SDDP.State{Float64}(0.0, 50.0)], :stage_objective => 0, :f => 0.0, :noise_term => nothing…), Dict(:b => [0.0, 0.0, 0.0], :w => [0.0, 0.0, 0.0], :bellman_term => 3300.617283950616, :node_index => 2, :objective_state => nothing, :belief => Dict(2 => 1.0), :x => SDDP.State{Float64}[SDDP.State{Float64}(0.0, 0.0), SDDP.State{Float64}(0.0, 20.0), SDDP.State{Float64}(50.0, 50.0), SDDP.State{Float64}(50.0, 50.0)], :stage_objective => 0.0, :f => 15.0, :noise_term => (price = 10.0, fill = 15)…), Dict(:b => [0.0, 0.0, 0.0], :w => [0.0, 0.0, 50.0], :bellman_term => 2077.407407407406, :node_index => 3, :objective_state => nothing, :belief => Dict(3 => 1.0), :x => SDDP.State{Float64}[SDDP.State{Float64}(0.0, 4.547473508864641e-13), SDDP.State{Float64}(20.0, 0.0), SDDP.State{Float64}(50.0, 50.0), SDDP.State{Float64}(50.0, 50.0)], :stage_objective => 1500.0, :f => 5.0, :noise_term => (price = 30.0, fill = 5)…), Dict(:b => [0.0, 0.0, 0.0], :w => [0.0, 0.0, 0.0], :bellman_term => 2061.1111111111104, :node_index => 4, :objective_state => nothing, :belief => Dict(4 => 1.0), :x => SDDP.State{Float64}[SDDP.State{Float64}(0.0, 0.0), SDDP.State{Float64}(0.0, 10.000000000000187), SDDP.State{Float64}(50.0, 50.0), SDDP.State{Float64}(50.0, 50.0)], :stage_objective => 0.0, :f => 15.0, :noise_term => (price = 10.0, fill = 15)…), Dict(:b => [0.0, 0.0, 0.0], :w => [0.0, 30.000000000000092, 0.0], :bellman_term => 1343.3333333333314, :node_index => 5, :objective_state => nothing, :belief => Dict(5 => 1.0), :x => SDDP.State{Float64}[SDDP.State{Float64}(0.0, 15.000000000000455), SDDP.State{Float64}(10.000000000000187, 15.000000000000453), SDDP.State{Float64}(50.0, 50.0), SDDP.State{Float64}(50.0, 50.0)], :stage_objective => 600.0000000000018, :f => 10.0, :noise_term => (price = 20.0, fill = 10)…), Dict(:b => [0.0, 0.0, 0.0], :w => [0.0, 32.50000000000023, 0.0], :bellman_term => 589.9999999999905, :node_index => 6, :objective_state => nothing, :belief => Dict(6 => 1.0), :x => SDDP.State{Float64}[SDDP.State{Float64}(15.000000000000455, 32.499999999999325), SDDP.State{Float64}(15.000000000000453, 32.499999999999325), SDDP.State{Float64}(50.0, 32.49999999999932), SDDP.State{Float64}(50.0, 32.49999999999932)], :stage_objective => 650.0000000000045, :f => 10.0, :noise_term => (price = 20.0, fill = 10)…), Dict(:b => [0.0, 0.0, 4.999999999999638], :w => [0.0, 0.0, 27.49999999999968], :bellman_term => 0.0, :node_index => 7, :objective_state => nothing, :belief => Dict(7 => 1.0), :x => SDDP.State{Float64}[SDDP.State{Float64}(32.499999999999325, 0.0), SDDP.State{Float64}(32.499999999999325, 0.0), SDDP.State{Float64}(32.49999999999932, 50.0), SDDP.State{Float64}(32.49999999999932, 50.0)], :stage_objective => 794.9999999999926, :f => 5.0, :noise_term => (price = 30.0, fill = 5)…)]\n",
       " [Dict(:b => [0.0, 0.0, 0.0], :w => [0.0, 0.0, 0.0], :bellman_term => 3343.9974793227475, :node_index => 1, :objective_state => nothing, :belief => Dict(1 => 1.0), :x => SDDP.State{Float64}[SDDP.State{Float64}(0.0, 0.0), SDDP.State{Float64}(0.0, 0.0), SDDP.State{Float64}(0.0, 50.0), SDDP.State{Float64}(0.0, 50.0)], :stage_objective => 0, :f => 0.0, :noise_term => nothing…), Dict(:b => [0.0, 0.0, 0.0], :w => [0.0, 25.0, 0.0], :bellman_term => 2712.8395061728393, :node_index => 2, :objective_state => nothing, :belief => Dict(2 => 1.0), :x => SDDP.State{Float64}[SDDP.State{Float64}(0.0, 0.0), SDDP.State{Float64}(0.0, 0.0), SDDP.State{Float64}(50.0, 50.0), SDDP.State{Float64}(50.0, 50.0)], :stage_objective => 500.0, :f => 10.0, :noise_term => (price = 20.0, fill = 10)…), Dict(:b => [0.0, 0.0, 0.0], :w => [0.0, 25.0, 0.0], :bellman_term => 2077.407407407406, :node_index => 3, :objective_state => nothing, :belief => Dict(3 => 1.0), :x => SDDP.State{Float64}[SDDP.State{Float64}(0.0, 1.1368683772161605e-13), SDDP.State{Float64}(0.0, 1.1368683772161605e-13), SDDP.State{Float64}(50.0, 50.0), SDDP.State{Float64}(50.0, 50.0)], :stage_objective => 500.0, :f => 10.0, :noise_term => (price = 20.0, fill = 10)…), Dict(:b => [0.0, 0.0, 0.0], :w => [0.0, 0.0, 50.0], :bellman_term => 728.8888888888855, :node_index => 4, :objective_state => nothing, :belief => Dict(4 => 1.0), :x => SDDP.State{Float64}[SDDP.State{Float64}(0.0, 0.0), SDDP.State{Float64}(0.0, 0.0), SDDP.State{Float64}(50.0, 5.408245280185449e-12), SDDP.State{Float64}(50.0, 19.999999999994625)], :stage_objective => 1500.0, :f => 5.0, :noise_term => (price = 30.0, fill = 5)…), Dict(:b => [0.0, 0.0, 0.0], :w => [0.0, 0.0, 9.999999999997312], :bellman_term => 356.66666666672666, :node_index => 5, :objective_state => nothing, :belief => Dict(5 => 1.0), :x => SDDP.State{Float64}[SDDP.State{Float64}(0.0, -1.3073986337985845e-13), SDDP.State{Float64}(0.0, 7.77617970015854e-12), SDDP.State{Float64}(0.0, 0.0), SDDP.State{Float64}(19.999999999994625, 10.000000000005286)], :stage_objective => 299.9999999999194, :f => 5.0, :noise_term => (price = 30.0, fill = 5)…), Dict(:b => [0.0, 0.0, 0.0], :w => [0.0, 0.0, 5.000000000002643], :bellman_term => 139.99999999994395, :node_index => 6, :objective_state => nothing, :belief => Dict(6 => 1.0), :x => SDDP.State{Float64}[SDDP.State{Float64}(0.0, 9.999999999996989), SDDP.State{Float64}(0.0, 9.999999999996989), SDDP.State{Float64}(0.0, 9.999999999996987), SDDP.State{Float64}(10.000000000005286, 9.999999999996987)], :stage_objective => 150.0000000000793, :f => 5.0, :noise_term => (price = 30.0, fill = 5)…), Dict(:b => [0.0, 0.0, 0.0], :w => [0.0, 9.999999999996987, 0.0], :bellman_term => 0.0, :node_index => 7, :objective_state => nothing, :belief => Dict(7 => 1.0), :x => SDDP.State{Float64}[SDDP.State{Float64}(9.999999999996989, 0.0), SDDP.State{Float64}(9.999999999996989, 0.0), SDDP.State{Float64}(9.999999999996987, 50.0), SDDP.State{Float64}(9.999999999996987, 50.0)], :stage_objective => 199.99999999993975, :f => 10.0, :noise_term => (price = 20.0, fill = 10)…)]\n",
       " [Dict(:b => [0.0, 0.0, 0.0], :w => [0.0, 0.0, 0.0], :bellman_term => 3343.9974793227475, :node_index => 1, :objective_state => nothing, :belief => Dict(1 => 1.0), :x => SDDP.State{Float64}[SDDP.State{Float64}(0.0, 0.0), SDDP.State{Float64}(0.0, 0.0), SDDP.State{Float64}(0.0, 50.0), SDDP.State{Float64}(0.0, 50.0)], :stage_objective => 0, :f => 0.0, :noise_term => nothing…), Dict(:b => [0.0, 0.0, 0.0], :w => [0.0, 0.0, 0.0], :bellman_term => 3300.617283950616, :node_index => 2, :objective_state => nothing, :belief => Dict(2 => 1.0), :x => SDDP.State{Float64}[SDDP.State{Float64}(0.0, 0.0), SDDP.State{Float64}(0.0, 20.0), SDDP.State{Float64}(50.0, 50.0), SDDP.State{Float64}(50.0, 50.0)], :stage_objective => 0.0, :f => 15.0, :noise_term => (price = 10.0, fill = 15)…), Dict(:b => [0.0, 0.0, 0.0], :w => [0.0, 0.0, 50.0], :bellman_term => 2077.407407407406, :node_index => 3, :objective_state => nothing, :belief => Dict(3 => 1.0), :x => SDDP.State{Float64}[SDDP.State{Float64}(0.0, 2.273736754432321e-13), SDDP.State{Float64}(20.0, 0.0), SDDP.State{Float64}(50.0, 50.0), SDDP.State{Float64}(50.0, 50.0)], :stage_objective => 1500.0, :f => 5.0, :noise_term => (price = 30.0, fill = 5)…), Dict(:b => [0.0, 0.0, 0.0], :w => [0.0, 0.0, 50.0], :bellman_term => 728.8888888888855, :node_index => 4, :objective_state => nothing, :belief => Dict(4 => 1.0), :x => SDDP.State{Float64}[SDDP.State{Float64}(0.0, 0.0), SDDP.State{Float64}(0.0, 0.0), SDDP.State{Float64}(50.0, 5.408245280185449e-12), SDDP.State{Float64}(50.0, 19.999999999994674)], :stage_objective => 1500.0, :f => 5.0, :noise_term => (price = 30.0, fill = 5)…), Dict(:b => [0.0, 0.0, 0.0], :w => [0.0, 0.0, 9.999999999997337], :bellman_term => 356.66666666672614, :node_index => 5, :objective_state => nothing, :belief => Dict(5 => 1.0), :x => SDDP.State{Float64}[SDDP.State{Float64}(0.0, 0.0), SDDP.State{Float64}(0.0, 7.705835969318287e-12), SDDP.State{Float64}(0.0, 0.0), SDDP.State{Float64}(19.999999999994674, 10.000000000005313)], :stage_objective => 299.99999999992013, :f => 5.0, :noise_term => (price = 30.0, fill = 5)…), Dict(:b => [0.0, 0.0, 0.0], :w => [0.0, 0.0, 5.0000000000026565], :bellman_term => 139.99999999994373, :node_index => 6, :objective_state => nothing, :belief => Dict(6 => 1.0), :x => SDDP.State{Float64}[SDDP.State{Float64}(0.0, 9.999999999996977), SDDP.State{Float64}(0.0, 9.999999999996977), SDDP.State{Float64}(0.0, 9.999999999996975), SDDP.State{Float64}(10.000000000005313, 9.999999999996975)], :stage_objective => 150.0000000000797, :f => 5.0, :noise_term => (price = 30.0, fill = 5)…), Dict(:b => [0.0, 0.0, 0.0], :w => [0.0, 9.999999999996977, 0.0], :bellman_term => 0.0, :node_index => 7, :objective_state => nothing, :belief => Dict(7 => 1.0), :x => SDDP.State{Float64}[SDDP.State{Float64}(9.999999999996977, 0.0), SDDP.State{Float64}(9.999999999996977, 0.0), SDDP.State{Float64}(9.999999999996975, 50.0), SDDP.State{Float64}(9.999999999996975, 50.0)], :stage_objective => 199.99999999993952, :f => 10.0, :noise_term => (price = 20.0, fill = 10)…)]\n",
       " [Dict(:b => [0.0, 0.0, 0.0], :w => [0.0, 0.0, 0.0], :bellman_term => 3343.9974793227475, :node_index => 1, :objective_state => nothing, :belief => Dict(1 => 1.0), :x => SDDP.State{Float64}[SDDP.State{Float64}(0.0, 0.0), SDDP.State{Float64}(0.0, 0.0), SDDP.State{Float64}(0.0, 50.0), SDDP.State{Float64}(0.0, 50.0)], :stage_objective => 0, :f => 0.0, :noise_term => nothing…), Dict(:b => [0.0, 0.0, 0.0], :w => [0.0, 25.0, 0.0], :bellman_term => 2712.8395061728393, :node_index => 2, :objective_state => nothing, :belief => Dict(2 => 1.0), :x => SDDP.State{Float64}[SDDP.State{Float64}(0.0, 0.0), SDDP.State{Float64}(0.0, 0.0), SDDP.State{Float64}(50.0, 50.0), SDDP.State{Float64}(50.0, 50.0)], :stage_objective => 500.0, :f => 10.0, :noise_term => (price = 20.0, fill = 10)…), Dict(:b => [0.0, 0.0, 0.0], :w => [0.0, 0.0, 50.0], :bellman_term => 1374.8148148148139, :node_index => 3, :objective_state => nothing, :belief => Dict(3 => 1.0), :x => SDDP.State{Float64}[SDDP.State{Float64}(0.0, 0.0), SDDP.State{Float64}(0.0, 0.0), SDDP.State{Float64}(50.0, 6.139089236967271e-13), SDDP.State{Float64}(50.0, 49.99999999999909)], :stage_objective => 1500.0, :f => 5.0, :noise_term => (price = 30.0, fill = 5)…), Dict(:b => [0.0, 0.0, 0.0], :w => [0.0, 0.0, 0.0], :bellman_term => 1331.1111111111102, :node_index => 4, :objective_state => nothing, :belief => Dict(4 => 1.0), :x => SDDP.State{Float64}[SDDP.State{Float64}(0.0, 1.9326762412674725e-12), SDDP.State{Float64}(0.0, 0.0), SDDP.State{Float64}(0.0, 19.999999999999947), SDDP.State{Float64}(49.99999999999909, 50.0)], :stage_objective => 0.0, :f => 10.0, :noise_term => (price = 20.0, fill = 10)…), Dict(:b => [0.0, 0.0, 0.0], :w => [0.0, 9.999999999999973, 0.0], :bellman_term => 1043.3333333333335, :node_index => 5, :objective_state => nothing, :belief => Dict(5 => 1.0), :x => SDDP.State{Float64}[SDDP.State{Float64}(0.0, 6.821210263296961e-13), SDDP.State{Float64}(0.0, 6.821210263296961e-13), SDDP.State{Float64}(19.999999999999947, 19.999999999999968), SDDP.State{Float64}(50.0, 50.0)], :stage_objective => 199.99999999999946, :f => 10.0, :noise_term => (price = 20.0, fill = 10)…), Dict(:b => [0.0, 0.0, 0.0], :w => [0.0, 9.999999999999984, 0.0], :bellman_term => 739.9999999999977, :node_index => 6, :objective_state => nothing, :belief => Dict(6 => 1.0), :x => SDDP.State{Float64}[SDDP.State{Float64}(0.0, 39.99999999999969), SDDP.State{Float64}(0.0, 39.99999999999969), SDDP.State{Float64}(19.999999999999968, 39.99999999999968), SDDP.State{Float64}(50.0, 39.99999999999968)], :stage_objective => 199.9999999999997, :f => 10.0, :noise_term => (price = 20.0, fill = 10)…), Dict(:b => [0.0, 0.0, 4.999999999999638], :w => [0.0, 0.0, 35.00000000000004], :bellman_term => 0.0, :node_index => 7, :objective_state => nothing, :belief => Dict(7 => 1.0), :x => SDDP.State{Float64}[SDDP.State{Float64}(39.99999999999969, 0.0), SDDP.State{Float64}(39.99999999999969, 0.0), SDDP.State{Float64}(39.99999999999968, 50.0), SDDP.State{Float64}(39.99999999999968, 50.0)], :stage_objective => 1020.0000000000035, :f => 5.0, :noise_term => (price = 30.0, fill = 5)…)]\n",
       " [Dict(:b => [0.0, 0.0, 0.0], :w => [0.0, 0.0, 0.0], :bellman_term => 3343.9974793227475, :node_index => 1, :objective_state => nothing, :belief => Dict(1 => 1.0), :x => SDDP.State{Float64}[SDDP.State{Float64}(0.0, 0.0), SDDP.State{Float64}(0.0, 0.0), SDDP.State{Float64}(0.0, 50.0), SDDP.State{Float64}(0.0, 50.0)], :stage_objective => 0, :f => 0.0, :noise_term => nothing…), Dict(:b => [0.0, 0.0, 0.0], :w => [0.0, 0.0, 50.0], :bellman_term => 2018.535647844788, :node_index => 2, :objective_state => nothing, :belief => Dict(2 => 1.0), :x => SDDP.State{Float64}[SDDP.State{Float64}(0.0, 0.0), SDDP.State{Float64}(0.0, 0.0), SDDP.State{Float64}(50.0, 30.326990985528028), SDDP.State{Float64}(50.0, 50.0)], :stage_objective => 1500.0, :f => 5.0, :noise_term => (price = 30.0, fill = 5)…), Dict(:b => [0.0, 0.0, 0.16349549276401376], :w => [0.0, 0.0, 40.0], :bellman_term => 862.5925925925885, :node_index => 3, :objective_state => nothing, :belief => Dict(3 => 1.0), :x => SDDP.State{Float64}[SDDP.State{Float64}(0.0, 0.0), SDDP.State{Float64}(0.0, 0.0), SDDP.State{Float64}(30.326990985528028, 0.0), SDDP.State{Float64}(50.0, 10.000000000000968)], :stage_objective => 1199.019027043416, :f => 5.0, :noise_term => (price = 30.0, fill = 5)…), Dict(:b => [0.0, 0.0, 0.0], :w => [0.0, 0.0, 0.0], :bellman_term => 979.9999999999986, :node_index => 4, :objective_state => nothing, :belief => Dict(4 => 1.0), :x => SDDP.State{Float64}[SDDP.State{Float64}(0.0, 0.0), SDDP.State{Float64}(0.0, 0.0), SDDP.State{Float64}(0.0, 7.459323481476361e-12), SDDP.State{Float64}(10.000000000000968, 39.99999999999238)], :stage_objective => 0.0, :f => 15.0, :noise_term => (price = 10.0, fill = 15)…), Dict(:b => [0.0, 0.0, 0.0], :w => [0.0, 0.0, 0.0], :bellman_term => 939.9999999999975, :node_index => 5, :objective_state => nothing, :belief => Dict(5 => 1.0), :x => SDDP.State{Float64}[SDDP.State{Float64}(0.0, 3.89377419196535e-12), SDDP.State{Float64}(0.0, 3.89377419196535e-12), SDDP.State{Float64}(0.0, 9.999999999999986), SDDP.State{Float64}(39.99999999999238, 50.0)], :stage_objective => 0.0, :f => 10.0, :noise_term => (price = 20.0, fill = 10)…), Dict(:b => [0.0, 0.0, 0.0], :w => [0.0, 0.0, 0.0], :bellman_term => 939.9999999999968, :node_index => 6, :objective_state => nothing, :belief => Dict(6 => 1.0), :x => SDDP.State{Float64}[SDDP.State{Float64}(0.0, 49.999999999999645), SDDP.State{Float64}(0.0, 49.999999999999645), SDDP.State{Float64}(9.999999999999986, 49.99999999999963), SDDP.State{Float64}(50.0, 49.99999999999963)], :stage_objective => 0.0, :f => 15.0, :noise_term => (price = 10.0, fill = 15)…), Dict(:b => [0.0, 0.0, 0.0], :w => [0.0, 49.99999999999964, 0.0], :bellman_term => 0.0, :node_index => 7, :objective_state => nothing, :belief => Dict(7 => 1.0), :x => SDDP.State{Float64}[SDDP.State{Float64}(49.999999999999645, 0.0), SDDP.State{Float64}(49.999999999999645, 0.0), SDDP.State{Float64}(49.99999999999963, 50.0), SDDP.State{Float64}(49.99999999999963, 50.0)], :stage_objective => 999.9999999999927, :f => 10.0, :noise_term => (price = 20.0, fill = 10)…)]\n",
       " [Dict(:b => [0.0, 0.0, 0.0], :w => [0.0, 0.0, 0.0], :bellman_term => 3343.9974793227475, :node_index => 1, :objective_state => nothing, :belief => Dict(1 => 1.0), :x => SDDP.State{Float64}[SDDP.State{Float64}(0.0, 0.0), SDDP.State{Float64}(0.0, 0.0), SDDP.State{Float64}(0.0, 50.0), SDDP.State{Float64}(0.0, 50.0)], :stage_objective => 0, :f => 0.0, :noise_term => nothing…), Dict(:b => [0.0, 0.0, 0.0], :w => [0.0, 25.0, 0.0], :bellman_term => 2712.8395061728393, :node_index => 2, :objective_state => nothing, :belief => Dict(2 => 1.0), :x => SDDP.State{Float64}[SDDP.State{Float64}(0.0, 0.0), SDDP.State{Float64}(0.0, 0.0), SDDP.State{Float64}(50.0, 50.0), SDDP.State{Float64}(50.0, 50.0)], :stage_objective => 500.0, :f => 10.0, :noise_term => (price = 20.0, fill = 10)…), Dict(:b => [0.0, 0.0, 0.0], :w => [0.0, 0.0, 0.0], :bellman_term => 2686.2962962962956, :node_index => 3, :objective_state => nothing, :belief => Dict(3 => 1.0), :x => SDDP.State{Float64}[SDDP.State{Float64}(0.0, 0.0), SDDP.State{Float64}(0.0, 9.094947017729282e-13), SDDP.State{Float64}(50.0, 50.0), SDDP.State{Float64}(50.0, 50.0)], :stage_objective => 0.0, :f => 15.0, :noise_term => (price = 10.0, fill = 15)…), Dict(:b => [0.0, 0.0, 0.0], :w => [0.0, 0.0, 0.0], :bellman_term => 2555.5555555555547, :node_index => 4, :objective_state => nothing, :belief => Dict(4 => 1.0), :x => SDDP.State{Float64}[SDDP.State{Float64}(0.0, 0.0), SDDP.State{Float64}(0.0, 50.0), SDDP.State{Float64}(50.0, 50.0), SDDP.State{Float64}(50.0, 50.0)], :stage_objective => 0.0, :f => 15.0, :noise_term => (price = 10.0, fill = 15)…), Dict(:b => [0.0, 0.0, 0.0], :w => [0.0, 0.0, 50.0], :bellman_term => 1426.666666666667, :node_index => 5, :objective_state => nothing, :belief => Dict(5 => 1.0), :x => SDDP.State{Float64}[SDDP.State{Float64}(0.0, 20.00000000000057), SDDP.State{Float64}(50.0, 20.00000000000057), SDDP.State{Float64}(50.0, 50.0), SDDP.State{Float64}(50.0, 50.0)], :stage_objective => 1500.0, :f => 5.0, :noise_term => (price = 30.0, fill = 5)…), Dict(:b => [0.0, 0.0, 0.0], :w => [0.0, 0.0, 50.0], :bellman_term => 239.99999999999682, :node_index => 6, :objective_state => nothing, :belief => Dict(6 => 1.0), :x => SDDP.State{Float64}[SDDP.State{Float64}(20.00000000000057, 14.999999999999634), SDDP.State{Float64}(20.00000000000057, 14.999999999999634), SDDP.State{Float64}(50.0, 14.99999999999963), SDDP.State{Float64}(50.0, 14.99999999999963)], :stage_objective => 1500.0, :f => 5.0, :noise_term => (price = 30.0, fill = 5)…), Dict(:b => [0.0, 0.0, 0.0], :w => [0.0, 14.999999999999632, 0.0], :bellman_term => 0.0, :node_index => 7, :objective_state => nothing, :belief => Dict(7 => 1.0), :x => SDDP.State{Float64}[SDDP.State{Float64}(14.999999999999634, 0.0), SDDP.State{Float64}(14.999999999999634, 0.0), SDDP.State{Float64}(14.99999999999963, 50.0), SDDP.State{Float64}(14.99999999999963, 50.0)], :stage_objective => 299.99999999999267, :f => 10.0, :noise_term => (price = 20.0, fill = 10)…)]"
      ]
     },
     "metadata": {},
     "output_type": "display_data"
    }
   ],
   "source": [
    "simulations = SDDP.simulate(\n",
    "    # The trained model to simulate.\n",
    "    model,\n",
    "    # The number of replications.\n",
    "    100,\n",
    "    # A list of names to record the values of.\n",
    "    [:x, :y, :w, :W, :b, :f],\n",
    ")"
   ]
  },
  {
   "cell_type": "code",
   "execution_count": 267,
   "metadata": {},
   "outputs": [
    {
     "name": "stdout",
     "output_type": "stream",
     "text": [
      "Bidding Curve Values: SDDP.State{Float64}[SDDP.State{Float64}(32.49999999999978, 0.0), SDDP.State{Float64}(32.49999999999978, 0.0), SDDP.State{Float64}(32.49999999999977, 50.0), SDDP.State{Float64}(32.49999999999977, 50.0)]\n",
      "Inventory: SDDP.State{Float64}(22.49999999999994, 0.0)\n",
      "Cleared Volume: [0.0, 0.0, 32.49999999999977]\n",
      "Own Producion: [0.0, 0.0, 27.49999999999994]\n",
      "Purchases: [0.0, 0.0, 4.999999999999833]\n",
      "Filling in that stage: 5.0\n"
     ]
    }
   ],
   "source": [
    "replication = 28\n",
    "stage = 7\n",
    "println(\"Bidding Curve Values: \", simulations[replication][stage][:x])\n",
    "println(\"Inventory: \", simulations[replication][stage][:W])\n",
    "println(\"Cleared Volume: \", simulations[replication][stage][:y])\n",
    "println(\"Own Producion: \", simulations[replication][stage][:w])\n",
    "println(\"Purchases: \", simulations[replication][stage][:b])\n",
    "println(\"Filling in that stage: \", simulations[replication][stage][:f])"
   ]
  },
  {
   "cell_type": "code",
   "execution_count": 268,
   "metadata": {},
   "outputs": [
    {
     "data": {
      "text/plain": [
       "A spaghetti plot with 100 scenarios and 7 stages."
      ]
     },
     "metadata": {},
     "output_type": "display_data"
    }
   ],
   "source": [
    "plt = SDDP.SpaghettiPlot(simulations)\n",
    "display(plt)"
   ]
  },
  {
   "cell_type": "code",
   "execution_count": 269,
   "metadata": {},
   "outputs": [
    {
     "name": "stdout",
     "output_type": "stream",
     "text": [
      "Node 1\n",
      "  # State variables : 5\n",
      "  # Children        : 1\n",
      "  # Noise terms     : 1\n"
     ]
    }
   ],
   "source": [
    "print(model[1])"
   ]
  },
  {
   "cell_type": "code",
   "execution_count": 270,
   "metadata": {},
   "outputs": [
    {
     "name": "stdout",
     "output_type": "stream",
     "text": [
      "Max 20 y[2] - 24 b[2] + x22\n",
      "Subject to\n",
      " clearing[1] : 0 == 0.0\n",
      " clearing[2] : -0.5 x[2]_in - 0.5 x[3]_in + y[2] == 0.0\n",
      " clearing[3] : 0 == 0.0\n",
      " production[1] : 0 == 0.0\n",
      " production[2] : y[2] - w[2] - b[2] == 0.0\n",
      " production[3] : 0 == 0.0\n",
      " balance : -W_in - f + W_out + w[2] + s == 0.0\n",
      " increasing[1] : x[1]_out - x[2]_out <= 0.0\n",
      " increasing[2] : x[2]_out - x[3]_out <= 0.0\n",
      " increasing[3] : x[3]_out - x[4]_out <= 0.0\n",
      " x[1]_in == 14.999999999999634\n",
      " x[2]_in == 14.999999999999634\n",
      " x[3]_in == 14.99999999999963\n",
      " x[4]_in == 14.99999999999963\n",
      " W_in == 5.0\n",
      " f == 10.0\n",
      " x[1]_out >= 0.0\n",
      " x[2]_out >= 0.0\n",
      " x[3]_out >= 0.0\n",
      " x[4]_out >= 0.0\n",
      " W_out >= 0.0\n",
      " y[1] >= 0.0\n",
      " y[2] >= 0.0\n",
      " y[3] >= 0.0\n",
      " w[1] >= 0.0\n",
      " w[2] >= 0.0\n",
      " w[3] >= 0.0\n",
      " b[1] >= 0.0\n",
      " b[2] >= 0.0\n",
      " b[3] >= 0.0\n",
      " s >= 0.0\n",
      " x22 >= 0.0\n",
      " x[1]_out <= 50.0\n",
      " x[2]_out <= 50.0\n",
      " x[3]_out <= 50.0\n",
      " x[4]_out <= 50.0\n",
      " W_out <= 100.0\n",
      " x22 <= 0.0\n",
      "\n"
     ]
    }
   ],
   "source": [
    "SDDP.write_subproblem_to_file(model[7], \"subproblem_7.mof.json\")\n",
    "sbproblem = JuMP.read_from_file(\"subproblem_7.mof.json\")\n",
    "println(sbproblem)"
   ]
  },
  {
   "cell_type": "markdown",
   "metadata": {},
   "source": [
    "### Add Capacity of multiple Hours per Stage  \n",
    "At the electricity market, we bid for every hour of the day, so $t = 1, \\ldots, T$  \n",
    "For every hour, we send price-volume pairs $i = 1, \\ldots, I \\; \\rightarrow$ we have to determine $I \\cdot T$ bids.  \n",
    "This has multiple consequences:\n",
    "* For every hour of the day, we have to obtain the delivery from market clearing\n",
    "* The stageobjective is now the sum of all market deliveries and prices for each hour. This is difficult, as we can't just sum over all i's and t's, but have to select the cleared $i_t$ for every hour $t$.\n",
    "* The inventory $W$ now changes corresponding to the sum of production of the day.  \n",
    "\n",
    "Idea: In SDDP.parametrize(), find the following set:\n",
    "\n",
    "$$\n",
    "\\begin{equation*}\n",
    "\\mathcal{I}_t = \\{ i_t \\; | \\; P_{i,t} \\leq c_t \\leq P_{i+1,t}, \\; t = 1,\\ldots,T   \\}\n",
    "\\end{equation*} \n",
    "$$\n",
    "Then for all restrictions: \n",
    "* If $i \\in \\mathcal{I}_t$: Activate the constraints by setting the parameters accordingly\n",
    "* Else: Activate the constraints\n",
    "\n",
    "The corresponding constraint is\n",
    "$$\n",
    "y_{i_t,t} = \\frac{c_t - P_{t,i} }{P_{t,i+1} - P_{t,i}} \\cdot x_{i,t} + \\frac{P_{t,i+1} - c_t }{P_{t,i+1} - P{t,i}} \\cdot x_{i+1,t}, \\qquad \\text{if} \\; P_{t,i} \\leq c_t \\leq P_{t,i+1}\n",
    "$$\n",
    "For every $i \\neq i_t$ the constraint has to be deactivated, f.e. by setting every coefficient to zero to obtain $0=0$.\n",
    "\n",
    "For the objective: At every node,\n",
    "$$\n",
    "\\max \\; \\rightarrow \\; \\sum\\limits_{t = 1}^T c_t \\cdot y_{i_t, t} - \\mu \\cdot b_t\n",
    "$$\n",
    "What we do is:\n",
    "* Find the set $\\mathcal{I}_t$\n",
    "* Define the stageobjective by summing over $\\mathcal{I}_t$."
   ]
  },
  {
   "cell_type": "code",
   "execution_count": 284,
   "metadata": {},
   "outputs": [
    {
     "data": {
      "text/plain": [
       "4-element Vector{Float64}:\n",
       "  5.0\n",
       " 15.0\n",
       " 25.0\n",
       " 35.0"
      ]
     },
     "metadata": {},
     "output_type": "display_data"
    }
   ],
   "source": [
    "# Time Window per Stage\n",
    "T = 24\n",
    "# Uncertainty Set of Prices and Inflows\n",
    "Omega_t = [(price = [10.0 for t in 1:T], fill = 15), (price = [20.0 for t in 1:T], fill = 10), (price = [30.0 for t in 1:T], fill = 5)]\n",
    "P_t = [1/length(Omega) for om in Omega]\n",
    "# One Price Point around each uncertain Price\n",
    "PPoints = [5.0, 15, 25, 35]"
   ]
  },
  {
   "cell_type": "code",
   "execution_count": 294,
   "metadata": {},
   "outputs": [
    {
     "ename": "ErrorException",
     "evalue": "syntax: missing comma or ) in argument list",
     "output_type": "error",
     "traceback": [
      "syntax: missing comma or ) in argument list\n",
      "\n",
      "Stacktrace:\n",
      " [1] top-level scope\n",
      "   @ c:\\Users\\lenna\\OneDrive - NTNU\\Code Master Thesis\\BiddingModel.ipynb:36"
     ]
    }
   ],
   "source": [
    "function subproblem_builder_time(subproblem::Model, node::Int64)\n",
    "    @variable(subproblem, 0 <= x[i = 1:length(PPoints), t=1:T] <= 50, SDDP.State, initial_value=0)\n",
    "    @variable(subproblem, 0 <= W <= 100, SDDP.State, initial_value = 80)\n",
    "    @variable(subproblem, y[i = 1:length(PPoints)-1, t=1:T] >= 0)\n",
    "    @variable(subproblem, w[i = 1:length(PPoints)-1, t=1:T] >= 0)\n",
    "    @variable(subproblem, b[i = 1:length(PPoints)-1, t=1:T] >= 0)\n",
    "    @variable(subproblem, f >= 0)\n",
    "    @variable(subproblem, s >= 0)\n",
    "    \n",
    "    @constraint(subproblem, clearing[i = 1:length(PPoints)-1, t=1:T], y[i,t] == 1* x[i,t].in  +  1* x[i+1,t].in)\n",
    "    @constraint(subproblem, increasing[i = 1:length(PPoints)-1, t=1:T], x[i,t].out <= x[i+1,t].out)\n",
    "    if node == 1\n",
    "        @stageobjective(subproblem, 0)\n",
    "        @constraint(subproblem, transfer, W.in == W.out)\n",
    "    else\n",
    "        @constraint(subproblem, production[i = 1:length(PPoints)-1, t=1:T], y[i,t] == w[i,t] + b[i,t])\n",
    "        @constraint(subproblem, balance, W.out == W.in - sum(w[i,t] for i in 1:length(PPoints)-1 for t in 1:T) + f - s)\n",
    "        @stageobjective(subproblem, 0)\n",
    "        SDDP.parameterize(subproblem, Omega_t, P_t) do om\n",
    "            # We have to make sure that depending on the market clearing price, the coefficients are set accordingly.\n",
    "            # The recourse action only applies to the real delivery, determined by the uncertain price. The other restricitions become inactive, else they make the problem infeasible.\n",
    "            \n",
    "            # FIx the filling of the resource for every time step\n",
    "            JuMP.fix(f, om.fill, force=true)\n",
    "\n",
    "            # Define the Set of active constraints for every time step \n",
    "            I_t = Dict{Int64, Int64}(t => 0 for t in 1:T) \n",
    "            for t in 1:T\n",
    "                for i in 1:length(PPoints)-1\n",
    "                    if (om.price[t] >= PPoints[i]) && (om.price[t] <= PPoints[i+1])\n",
    "                        I_t[t] = i\n",
    "                    end\n",
    "                end\n",
    "            end\n",
    "            # Set stageobjective, so only relevant values for every time step are included\n",
    "            @stageobjective(subproblem, sum(om.price[t] * y[I_t[t],t] - 1.2 * om.price[t] b[I_t[t],t] for t in 1:T))\n",
    "            # Fix / Deactivate Constraints by turning their coefficients to Zero or the correct value\n",
    "            for t in 1:T\n",
    "                for i in 1:length(PPoints)-1\n",
    "                    if (i == I_t[t])\n",
    "                        set_normalized_coefficient(clearing[i,t], y[i,t], 1)\n",
    "                        set_normalized_coefficient(clearing[i,t], x[i,t].in, -((om.price[t] - PPoints[i])/(PPoints[i+1] - PPoints[i])))\n",
    "                        set_normalized_coefficient(clearing[i,t], x[i+1,t].in, -((PPoints[i+1] - om.price[t])/(PPoints[i+1] - PPoints[i])))\n",
    "                        set_normalized_coefficient(balance, w[i,t], 1)\n",
    "                        set_normalized_coefficient(production[i,t], w[i,t], -1)\n",
    "                        set_normalized_coefficient(production[i,t], b[i,t], -1)\n",
    "                        set_normalized_coefficient(production[i,t], y[i,t], 1)\n",
    "                    else\n",
    "                        set_normalized_coefficient(balance, w[i,t], 0)\n",
    "                        set_normalized_coefficient(production[i,t], w[i,t], 0)\n",
    "                        set_normalized_coefficient(production[i,t], b[i,t], 0)\n",
    "                        set_normalized_coefficient(production[i,t], y[i,t], 0)\n",
    "                        set_normalized_coefficient(clearing[i,t], y[i,t], 0)\n",
    "                        set_normalized_coefficient(clearing[i,t], x[i,t].in, 0)\n",
    "                        set_normalized_coefficient(clearing[i,t], x[i+1,t].in, 0)\n",
    "                    end\n",
    "                end\n",
    "            end\n",
    "        end\n",
    "    end\n",
    "    return\n",
    "end"
   ]
  },
  {
   "cell_type": "code",
   "execution_count": 295,
   "metadata": {},
   "outputs": [
    {
     "name": "stdout",
     "output_type": "stream",
     "text": [
      "-------------------------------------------------------------------\n",
      "         SDDP.jl (c) Oscar Dowson and contributors, 2017-23\n",
      "-------------------------------------------------------------------\n",
      "problem\n",
      "  nodes           : 7\n",
      "  state variables : 97\n",
      "  scenarios       : 7.29000e+02\n",
      "  existing cuts   : false\n",
      "options\n",
      "  solver          : serial mode\n",
      "  risk measure    : SDDP.Expectation()\n",
      "  sampling scheme : SDDP.InSampleMonteCarlo\n",
      "subproblem structure\n",
      "  VariableRef                             : [413, 413]\n",
      "  VariableRef in MOI.LessThan{Float64}    : [98, 98]\n",
      "  AffExpr in MOI.LessThan{Float64}        : [72, 72]\n",
      "  VariableRef in MOI.GreaterThan{Float64} : [315, 316]\n",
      "  AffExpr in MOI.EqualTo{Float64}         : [73, 145]\n",
      "numerical stability report\n",
      "  matrix range     [5e-01, 1e+00]\n",
      "  objective range  [1e+00, 3e+01]\n",
      "  bounds range     [5e+01, 1e+07]\n",
      "  rhs range        [0e+00, 0e+00]\n",
      "-------------------------------------------------------------------\n",
      " iteration    simulation      bound        time (s)     solves  pid\n",
      "-------------------------------------------------------------------"
     ]
    },
    {
     "name": "stdout",
     "output_type": "stream",
     "text": [
      "\n",
      "         1   4.516800e+04  1.383989e+05  8.999991e-02        26   1\n",
      "         2   1.835040e+05  1.355280e+05  1.540000e-01        52   1\n"
     ]
    },
    {
     "name": "stdout",
     "output_type": "stream",
     "text": [
      "         3   1.835040e+05  1.355280e+05  2.300000e-01        78   1\n",
      "         4   1.475220e+05  1.355280e+05  2.890000e-01       104   1\n"
     ]
    },
    {
     "name": "stdout",
     "output_type": "stream",
     "text": [
      "         5   1.235340e+05  1.355280e+05  3.520000e-01       130   1\n",
      "         6   8.755200e+04  1.355280e+05  4.130001e-01       156   1\n"
     ]
    },
    {
     "name": "stdout",
     "output_type": "stream",
     "text": [
      "         7   1.235340e+05  1.355280e+05  4.760001e-01       182   1\n",
      "         8   1.355280e+05  1.355280e+05  5.460000e-01       208   1\n"
     ]
    },
    {
     "name": "stdout",
     "output_type": "stream",
     "text": [
      "         9   1.115400e+05  1.355280e+05  6.220000e-01       234   1\n",
      "        10   1.595160e+05  1.355280e+05  6.980000e-01       260   1\n"
     ]
    },
    {
     "name": "stdout",
     "output_type": "stream",
     "text": [
      "        11   1.355280e+05  1.355280e+05  7.650001e-01       286   1\n",
      "        12   1.475220e+05  1.355280e+05  8.310001e-01       312   1\n"
     ]
    },
    {
     "name": "stdout",
     "output_type": "stream",
     "text": [
      "        13   1.235340e+05  1.355280e+05  8.929999e-01       338   1\n",
      "        14   1.355280e+05  1.355280e+05  9.530001e-01       364   1"
     ]
    },
    {
     "name": "stdout",
     "output_type": "stream",
     "text": [
      "\n",
      "        15   1.715100e+05  1.355280e+05  1.015000e+00       390   1"
     ]
    },
    {
     "name": "stdout",
     "output_type": "stream",
     "text": [
      "\n",
      "        16   1.715100e+05  1.355280e+05  1.161000e+00       416   1"
     ]
    },
    {
     "name": "stdout",
     "output_type": "stream",
     "text": [
      "\n",
      "        17   1.475220e+05  1.355280e+05  1.265000e+00       442   1\n",
      "        18   1.715100e+05  1.355280e+05  1.331000e+00       468   1\n"
     ]
    },
    {
     "name": "stdout",
     "output_type": "stream",
     "text": [
      "        19   1.475220e+05  1.355280e+05  1.388000e+00       494   1\n",
      "        20   1.235340e+05  1.355280e+05  1.441000e+00       520   1"
     ]
    },
    {
     "name": "stdout",
     "output_type": "stream",
     "text": [
      "\n",
      "        21   1.475220e+05  1.355280e+05  1.493000e+00       546   1\n",
      "        22   9.954600e+04  1.355280e+05  1.558000e+00       572   1\n"
     ]
    },
    {
     "name": "stdout",
     "output_type": "stream",
     "text": [
      "        23   1.355280e+05  1.355280e+05  1.616000e+00       598   1\n",
      "        24   1.115400e+05  1.355280e+05  1.690000e+00       624   1"
     ]
    },
    {
     "name": "stdout",
     "output_type": "stream",
     "text": [
      "\n",
      "        25   1.475220e+05  1.355280e+05  1.748000e+00       650   1\n",
      "        26   1.355280e+05  1.355280e+05  1.823000e+00       676   1\n"
     ]
    },
    {
     "name": "stdout",
     "output_type": "stream",
     "text": [
      "        27   1.475220e+05  1.355280e+05  1.890000e+00       702   1\n",
      "        28   1.475220e+05  1.355280e+05  1.962000e+00       728   1"
     ]
    },
    {
     "name": "stdout",
     "output_type": "stream",
     "text": [
      "\n",
      "        29   1.355280e+05  1.355280e+05  2.031000e+00       754   1\n",
      "        30   1.235340e+05  1.355280e+05  2.116000e+00       780   1\n"
     ]
    },
    {
     "name": "stdout",
     "output_type": "stream",
     "text": [
      "        31   9.954600e+04  1.355280e+05  2.189000e+00       806   1\n",
      "        32   1.835040e+05  1.355280e+05  2.258000e+00       832   1\n"
     ]
    },
    {
     "name": "stdout",
     "output_type": "stream",
     "text": [
      "        33   8.755200e+04  1.355280e+05  2.327000e+00       858   1\n",
      "        34   1.475220e+05  1.355280e+05  2.400000e+00       884   1\n"
     ]
    },
    {
     "name": "stdout",
     "output_type": "stream",
     "text": [
      "        35   9.954600e+04  1.355280e+05  2.464000e+00       910   1\n",
      "        36   1.355280e+05  1.355280e+05  2.539000e+00       936   1\n"
     ]
    },
    {
     "name": "stdout",
     "output_type": "stream",
     "text": [
      "        37   1.235340e+05  1.355280e+05  2.609000e+00       962   1\n",
      "        38   1.475220e+05  1.355280e+05  2.696000e+00       988   1"
     ]
    },
    {
     "name": "stdout",
     "output_type": "stream",
     "text": [
      "\n",
      "        39   1.715100e+05  1.355280e+05  2.767000e+00      1014   1\n",
      "        40   1.115400e+05  1.355280e+05  2.854000e+00      1040   1\n"
     ]
    },
    {
     "name": "stdout",
     "output_type": "stream",
     "text": [
      "        41   1.475220e+05  1.355280e+05  2.928000e+00      1066   1\n"
     ]
    },
    {
     "name": "stdout",
     "output_type": "stream",
     "text": [
      "        42   1.355280e+05  1.355280e+05  3.059000e+00      1092   1\n",
      "        43   1.235340e+05  1.355280e+05  3.146000e+00      1118   1\n"
     ]
    },
    {
     "name": "stdout",
     "output_type": "stream",
     "text": [
      "        44   1.715100e+05  1.355280e+05  3.304000e+00      1144   1\n",
      "        45   1.715100e+05  1.355280e+05  3.374000e+00      1170   1\n"
     ]
    },
    {
     "name": "stdout",
     "output_type": "stream",
     "text": [
      "        46   1.235340e+05  1.355280e+05  3.443000e+00      1196   1\n",
      "        47   9.954600e+04  1.355280e+05  3.520000e+00      1222   1\n"
     ]
    },
    {
     "name": "stdout",
     "output_type": "stream",
     "text": [
      "        48   9.954600e+04  1.355280e+05  3.585000e+00      1248   1\n",
      "        49   1.355280e+05  1.355280e+05  3.660000e+00      1274   1\n"
     ]
    },
    {
     "name": "stdout",
     "output_type": "stream",
     "text": [
      "        50   1.115400e+05  1.355280e+05  3.731000e+00      1300   1\n",
      "        51   1.475220e+05  1.355280e+05  3.810000e+00      1326   1"
     ]
    },
    {
     "name": "stdout",
     "output_type": "stream",
     "text": [
      "\n",
      "        52   1.355280e+05  1.355280e+05  3.893000e+00      1352   1\n",
      "        53   1.115400e+05  1.355280e+05  3.982000e+00      1378   1\n"
     ]
    },
    {
     "name": "stdout",
     "output_type": "stream",
     "text": [
      "        54   1.475220e+05  1.355280e+05  4.063000e+00      1404   1\n",
      "        55   1.115400e+05  1.355280e+05  4.149000e+00      1430   1"
     ]
    },
    {
     "name": "stdout",
     "output_type": "stream",
     "text": [
      "\n",
      "        56   1.715100e+05  1.355280e+05  4.228000e+00      1456   1\n",
      "        57   1.715100e+05  1.355280e+05  4.313000e+00      1482 "
     ]
    },
    {
     "name": "stdout",
     "output_type": "stream",
     "text": [
      "  1\n",
      "        58   1.475220e+05  1.355280e+05  4.398000e+00      1508   1\n",
      "        59   1.235340e+05  1.355280e+05  4.486000e+00      1534   1\n"
     ]
    },
    {
     "name": "stdout",
     "output_type": "stream",
     "text": [
      "        60   1.715100e+05  1.355280e+05  4.560000e+00      1560   1\n",
      "        61   1.355280e+05  1.355280e+05  4.642000e+00      1586   1"
     ]
    },
    {
     "name": "stdout",
     "output_type": "stream",
     "text": [
      "\n",
      "        62   1.355280e+05  1.355280e+05  4.721000e+00      1612   1\n"
     ]
    },
    {
     "name": "stdout",
     "output_type": "stream",
     "text": [
      "        63   1.355280e+05  1.355280e+05  4.827000e+00      1638   1"
     ]
    },
    {
     "name": "stdout",
     "output_type": "stream",
     "text": [
      "\n",
      "        64   8.755200e+04  1.355280e+05  4.985000e+00      1664   1\n",
      "        65   1.115400e+05  1.355280e+05  5.070000e+00      1690   1\n"
     ]
    },
    {
     "name": "stdout",
     "output_type": "stream",
     "text": [
      "        66   1.235340e+05  1.355280e+05  5.145000e+00      1716   1\n",
      "        67   1.475220e+05  1.355280e+05  5.224000e+00      1742   1\n"
     ]
    },
    {
     "name": "stdout",
     "output_type": "stream",
     "text": [
      "        68   1.355280e+05  1.355280e+05  5.299000e+00      1768   1\n",
      "        69   1.355280e+05  1.355280e+05  5.386000e+00      1794   1\n"
     ]
    },
    {
     "name": "stdout",
     "output_type": "stream",
     "text": [
      "        70   1.595160e+05  1.355280e+05  5.472000e+00      1820   1\n",
      "        71   1.715100e+05  1.355280e+05  5.569000e+00      1846   1\n"
     ]
    },
    {
     "name": "stdout",
     "output_type": "stream",
     "text": [
      "        72   1.715100e+05  1.355280e+05  5.656000e+00      1872   1\n",
      "        73   1.355280e+05  1.355280e+05  5.751000e+00      1898   1"
     ]
    },
    {
     "name": "stdout",
     "output_type": "stream",
     "text": [
      "\n",
      "        74   1.954980e+05  1.355280e+05  5.837000e+00      1924   1\n",
      "        75   1.235340e+05  1.355280e+05  5.933000e+00      1950   1"
     ]
    },
    {
     "name": "stdout",
     "output_type": "stream",
     "text": [
      "\n",
      "        76   1.115400e+05  1.355280e+05  6.034000e+00      1976   1\n"
     ]
    },
    {
     "name": "stdout",
     "output_type": "stream",
     "text": [
      "        77   1.595160e+05  1.355280e+05  6.140000e+00      2002   1\n"
     ]
    },
    {
     "name": "stdout",
     "output_type": "stream",
     "text": [
      "        78   1.235340e+05  1.355280e+05  6.241000e+00      2028   1\n",
      "        79   9.954600e+04  1.355280e+05  6.332000e+00      2054"
     ]
    },
    {
     "name": "stdout",
     "output_type": "stream",
     "text": [
      "   1\n",
      "        80   1.355280e+05  1.355280e+05  6.453000e+00      2080   1\n"
     ]
    },
    {
     "name": "stdout",
     "output_type": "stream",
     "text": [
      "        81   1.595160e+05  1.355280e+05  6.648000e+00      2106   1\n",
      "        82   1.835040e+05  1.355280e+05  6.739000e+00      2132   1\n"
     ]
    },
    {
     "name": "stdout",
     "output_type": "stream",
     "text": [
      "        83   1.355280e+05  1.355280e+05  6.827000e+00      2158   1"
     ]
    },
    {
     "name": "stdout",
     "output_type": "stream",
     "text": [
      "\n",
      "        84   8.755200e+04  1.355280e+05  6.966000e+00      2184   1\n",
      "        85   9.954600e+04  1.355280e+05  7.064000e+00      2210   1\n"
     ]
    },
    {
     "name": "stdout",
     "output_type": "stream",
     "text": [
      "        86   1.355280e+05  1.355280e+05  7.146000e+00      2236   1\n",
      "        87   1.475220e+05  1.355280e+05  7.233000e+00      2262   1"
     ]
    },
    {
     "name": "stdout",
     "output_type": "stream",
     "text": [
      "\n",
      "        88   1.355280e+05  1.355280e+05  7.321000e+00      2288   1\n"
     ]
    },
    {
     "name": "stdout",
     "output_type": "stream",
     "text": [
      "        89   9.954600e+04  1.355280e+05  7.429000e+00      2314   1"
     ]
    },
    {
     "name": "stdout",
     "output_type": "stream",
     "text": [
      "\n",
      "        90   1.115400e+05  1.355280e+05  7.530000e+00      2340   1"
     ]
    },
    {
     "name": "stdout",
     "output_type": "stream",
     "text": [
      "\n",
      "        91   1.475220e+05  1.355280e+05  7.633000e+00      2366   1\n",
      "        92   1.475220e+05  1.355280e+05  7.730000e+00      2392   1"
     ]
    },
    {
     "name": "stdout",
     "output_type": "stream",
     "text": [
      "\n",
      "        93   1.235340e+05  1.355280e+05  7.818000e+00      2418   1\n"
     ]
    },
    {
     "name": "stdout",
     "output_type": "stream",
     "text": [
      "        94   1.355280e+05  1.355280e+05  7.922000e+00      2444   1"
     ]
    },
    {
     "name": "stdout",
     "output_type": "stream",
     "text": [
      "\n",
      "        95   1.115400e+05  1.355280e+05  8.029000e+00      2470   1"
     ]
    },
    {
     "name": "stdout",
     "output_type": "stream",
     "text": [
      "\n",
      "        96   1.835040e+05  1.355280e+05  8.194000e+00      2496   1\n",
      "        97   8.755200e+04  1.355280e+05  8.290000e+00      2522   1\n"
     ]
    },
    {
     "name": "stdout",
     "output_type": "stream",
     "text": [
      "        98   1.115400e+05  1.355280e+05  8.379000e+00      2548   1\n"
     ]
    },
    {
     "name": "stdout",
     "output_type": "stream",
     "text": [
      "        99   1.835040e+05  1.355280e+05  8.493000e+00      2574   1\n",
      " "
     ]
    },
    {
     "name": "stdout",
     "output_type": "stream",
     "text": [
      "      100   1.115400e+05  1.355280e+05  8.606000e+00      2600   1\n",
      "-------------------------------------------------------------------\n",
      "status         : iteration_limit\n",
      "total time (s) : 8.606000e+00\n",
      "total solves   : 2600\n",
      "best bound     :  1.355280e+05\n",
      "simulation ci  :  1.354640e+05 ± 5.407126e+03\n",
      "numeric issues : 0\n",
      "-------------------------------------------------------------------\n",
      "\n"
     ]
    }
   ],
   "source": [
    "model2 = SDDP.LinearPolicyGraph(\n",
    "    subproblem_builder_time;\n",
    "    stages = 7,\n",
    "    sense = :Max,\n",
    "    upper_bound = 1e7,\n",
    "    optimizer = CPLEX.Optimizer\n",
    ")\n",
    "\n",
    "SDDP.train(model2; iteration_limit=100)"
   ]
  },
  {
   "cell_type": "code",
   "execution_count": 296,
   "metadata": {},
   "outputs": [
    {
     "data": {
      "text/plain": [
       "100-element Vector{Vector{Dict{Symbol, Any}}}:\n",
       " [Dict(:b => [0.0 0.0 … 0.0 0.0; 0.0 0.0 … 0.0 0.0; 0.0 0.0 … 0.0 0.0], :w => [0.0 0.0 … 0.0 0.0; 0.0 0.0 … 0.0 0.0; 0.0 0.0 … 0.0 0.0], :bellman_term => 135527.99999999983, :node_index => 1, :objective_state => nothing, :belief => Dict(1 => 1.0), :x => SDDP.State{Float64}[SDDP.State{Float64}(0.0, 50.0) SDDP.State{Float64}(0.0, 50.0) … SDDP.State{Float64}(0.0, 50.0) SDDP.State{Float64}(0.0, 50.0); SDDP.State{Float64}(0.0, 50.0) SDDP.State{Float64}(0.0, 50.0) … SDDP.State{Float64}(0.0, 50.0) SDDP.State{Float64}(0.0, 50.0); SDDP.State{Float64}(0.0, 50.0) SDDP.State{Float64}(0.0, 50.0) … SDDP.State{Float64}(0.0, 50.0) SDDP.State{Float64}(0.0, 50.0); SDDP.State{Float64}(0.0, 50.0) SDDP.State{Float64}(0.0, 50.0) … SDDP.State{Float64}(0.0, 50.0) SDDP.State{Float64}(0.0, 50.0)], :stage_objective => 0, :f => 0.0, :noise_term => nothing…), Dict(:b => [0.0 0.0 … 0.0 0.0; 50.0 50.0 … 50.0 50.0; 0.0 0.0 … 0.0 0.0], :w => [0.0 0.0 … 0.0 0.0; 0.0 0.0 … 0.0 0.0; 0.0 0.0 … 0.0 0.0], :bellman_term => 112967.99999999994, :node_index => 2, :objective_state => nothing, :belief => Dict(2 => 1.0), :x => SDDP.State{Float64}[SDDP.State{Float64}(50.0, 50.0) SDDP.State{Float64}(50.0, 50.0) … SDDP.State{Float64}(50.0, 50.0) SDDP.State{Float64}(50.0, 50.0); SDDP.State{Float64}(50.0, 50.0) SDDP.State{Float64}(50.0, 50.0) … SDDP.State{Float64}(50.0, 50.0) SDDP.State{Float64}(50.0, 50.0); SDDP.State{Float64}(50.0, 50.0) SDDP.State{Float64}(50.0, 50.0) … SDDP.State{Float64}(50.0, 50.0) SDDP.State{Float64}(50.0, 50.0); SDDP.State{Float64}(50.0, 50.0) SDDP.State{Float64}(50.0, 50.0) … SDDP.State{Float64}(50.0, 50.0) SDDP.State{Float64}(50.0, 50.0)], :stage_objective => 22560.0, :f => 10.0, :noise_term => (price = [20.0, 20.0, 20.0, 20.0, 20.0, 20.0, 20.0, 20.0, 20.0, 20.0  …  20.0, 20.0, 20.0, 20.0, 20.0, 20.0, 20.0, 20.0, 20.0, 20.0], fill = 10)…), Dict(:b => [0.0 0.0 … 0.0 0.0; 0.0 0.0 … 0.0 0.0; 50.0 50.0 … 50.0 50.0], :w => [0.0 0.0 … 0.0 0.0; 0.0 0.0 … 0.0 0.0; 0.0 0.0 … 0.0 0.0], :bellman_term => 90401.99999999997, :node_index => 3, :objective_state => nothing, :belief => Dict(3 => 1.0), :x => SDDP.State{Float64}[SDDP.State{Float64}(50.0, 50.0) SDDP.State{Float64}(50.0, 50.0) … SDDP.State{Float64}(50.0, 50.0) SDDP.State{Float64}(50.0, 50.0); SDDP.State{Float64}(50.0, 50.0) SDDP.State{Float64}(50.0, 50.0) … SDDP.State{Float64}(50.0, 50.0) SDDP.State{Float64}(50.0, 50.0); SDDP.State{Float64}(50.0, 50.0) SDDP.State{Float64}(50.0, 50.0) … SDDP.State{Float64}(50.0, 50.0) SDDP.State{Float64}(50.0, 50.0); SDDP.State{Float64}(50.0, 50.0) SDDP.State{Float64}(50.0, 50.0) … SDDP.State{Float64}(50.0, 50.0) SDDP.State{Float64}(50.0, 50.0)], :stage_objective => 34560.0, :f => 5.0, :noise_term => (price = [30.0, 30.0, 30.0, 30.0, 30.0, 30.0, 30.0, 30.0, 30.0, 30.0  …  30.0, 30.0, 30.0, 30.0, 30.0, 30.0, 30.0, 30.0, 30.0, 30.0], fill = 5)…), Dict(:b => [0.0 0.0 … 0.0 0.0; 45.0 50.0 … 50.0 50.0; 0.0 0.0 … 0.0 0.0], :w => [0.0 0.0 … 0.0 0.0; 5.0 0.0 … 0.0 0.0; 0.0 0.0 … 0.0 0.0], :bellman_term => 67835.99999999999, :node_index => 4, :objective_state => nothing, :belief => Dict(4 => 1.0), :x => SDDP.State{Float64}[SDDP.State{Float64}(50.0, 50.0) SDDP.State{Float64}(50.0, 50.0) … SDDP.State{Float64}(50.0, 50.0) SDDP.State{Float64}(50.0, 50.0); SDDP.State{Float64}(50.0, 50.0) SDDP.State{Float64}(50.0, 50.0) … SDDP.State{Float64}(50.0, 50.0) SDDP.State{Float64}(50.0, 50.0); SDDP.State{Float64}(50.0, 50.0) SDDP.State{Float64}(50.0, 50.0) … SDDP.State{Float64}(50.0, 50.0) SDDP.State{Float64}(50.0, 50.0); SDDP.State{Float64}(50.0, 50.0) SDDP.State{Float64}(50.0, 50.0) … SDDP.State{Float64}(50.0, 50.0) SDDP.State{Float64}(50.0, 50.0)], :stage_objective => 22566.0, :f => 10.0, :noise_term => (price = [20.0, 20.0, 20.0, 20.0, 20.0, 20.0, 20.0, 20.0, 20.0, 20.0  …  20.0, 20.0, 20.0, 20.0, 20.0, 20.0, 20.0, 20.0, 20.0, 20.0], fill = 10)…), Dict(:b => [0.0 0.0 … 0.0 0.0; 40.0 50.0 … 50.0 50.0; 0.0 0.0 … 0.0 0.0], :w => [0.0 0.0 … 0.0 0.0; 10.0 0.0 … 0.0 0.0; 0.0 0.0 … 0.0 0.0], :bellman_term => 45264.000000000015, :node_index => 5, :objective_state => nothing, :belief => Dict(5 => 1.0), :x => SDDP.State{Float64}[SDDP.State{Float64}(50.0, 50.0) SDDP.State{Float64}(50.0, 50.0) … SDDP.State{Float64}(50.0, 50.0) SDDP.State{Float64}(50.0, 50.0); SDDP.State{Float64}(50.0, 50.0) SDDP.State{Float64}(50.0, 50.0) … SDDP.State{Float64}(50.0, 50.0) SDDP.State{Float64}(50.0, 50.0); SDDP.State{Float64}(50.0, 50.0) SDDP.State{Float64}(50.0, 50.0) … SDDP.State{Float64}(50.0, 50.0) SDDP.State{Float64}(50.0, 50.0); SDDP.State{Float64}(50.0, 50.0) SDDP.State{Float64}(50.0, 50.0) … SDDP.State{Float64}(50.0, 50.0) SDDP.State{Float64}(50.0, 50.0)], :stage_objective => 22572.0, :f => 10.0, :noise_term => (price = [20.0, 20.0, 20.0, 20.0, 20.0, 20.0, 20.0, 20.0, 20.0, 20.0  …  20.0, 20.0, 20.0, 20.0, 20.0, 20.0, 20.0, 20.0, 20.0, 20.0], fill = 10)…), Dict(:b => [0.0 0.0 … 0.0 0.0; 0.0 0.0 … 0.0 0.0; 45.0 50.0 … 50.0 50.0], :w => [0.0 0.0 … 0.0 0.0; 0.0 0.0 … 0.0 0.0; 5.0 0.0 … 0.0 0.0], :bellman_term => 22692.000000000015, :node_index => 6, :objective_state => nothing, :belief => Dict(6 => 1.0), :x => SDDP.State{Float64}[SDDP.State{Float64}(50.0, 50.0) SDDP.State{Float64}(50.0, 50.0) … SDDP.State{Float64}(50.0, 50.0) SDDP.State{Float64}(50.0, 50.0); SDDP.State{Float64}(50.0, 50.0) SDDP.State{Float64}(50.0, 50.0) … SDDP.State{Float64}(50.0, 50.0) SDDP.State{Float64}(50.0, 50.0); SDDP.State{Float64}(50.0, 50.0) SDDP.State{Float64}(50.0, 50.0) … SDDP.State{Float64}(50.0, 50.0) SDDP.State{Float64}(50.0, 50.0); SDDP.State{Float64}(50.0, 50.0) SDDP.State{Float64}(50.0, 50.0) … SDDP.State{Float64}(50.0, 50.0) SDDP.State{Float64}(50.0, 50.0)], :stage_objective => 34566.0, :f => 5.0, :noise_term => (price = [30.0, 30.0, 30.0, 30.0, 30.0, 30.0, 30.0, 30.0, 30.0, 30.0  …  30.0, 30.0, 30.0, 30.0, 30.0, 30.0, 30.0, 30.0, 30.0, 30.0], fill = 5)…), Dict(:b => [0.0 0.0 … 0.0 0.0; 0.0 0.0 … 0.0 0.0; 50.0 50.0 … 0.0 0.0], :w => [0.0 0.0 … 0.0 0.0; 0.0 0.0 … 0.0 0.0; 0.0 0.0 … 50.0 50.0], :bellman_term => 0.0, :node_index => 7, :objective_state => nothing, :belief => Dict(7 => 1.0), :x => SDDP.State{Float64}[SDDP.State{Float64}(50.0, 0.0) SDDP.State{Float64}(50.0, 0.0) … SDDP.State{Float64}(50.0, 0.0) SDDP.State{Float64}(50.0, 0.0); SDDP.State{Float64}(50.0, 0.0) SDDP.State{Float64}(50.0, 0.0) … SDDP.State{Float64}(50.0, 0.0) SDDP.State{Float64}(50.0, 0.0); SDDP.State{Float64}(50.0, 50.0) SDDP.State{Float64}(50.0, 50.0) … SDDP.State{Float64}(50.0, 50.0) SDDP.State{Float64}(50.0, 50.0); SDDP.State{Float64}(50.0, 50.0) SDDP.State{Float64}(50.0, 50.0) … SDDP.State{Float64}(50.0, 50.0) SDDP.State{Float64}(50.0, 50.0)], :stage_objective => 34686.0, :f => 5.0, :noise_term => (price = [30.0, 30.0, 30.0, 30.0, 30.0, 30.0, 30.0, 30.0, 30.0, 30.0  …  30.0, 30.0, 30.0, 30.0, 30.0, 30.0, 30.0, 30.0, 30.0, 30.0], fill = 5)…)]\n",
       " [Dict(:b => [0.0 0.0 … 0.0 0.0; 0.0 0.0 … 0.0 0.0; 0.0 0.0 … 0.0 0.0], :w => [0.0 0.0 … 0.0 0.0; 0.0 0.0 … 0.0 0.0; 0.0 0.0 … 0.0 0.0], :bellman_term => 135527.99999999983, :node_index => 1, :objective_state => nothing, :belief => Dict(1 => 1.0), :x => SDDP.State{Float64}[SDDP.State{Float64}(0.0, 50.0) SDDP.State{Float64}(0.0, 50.0) … SDDP.State{Float64}(0.0, 50.0) SDDP.State{Float64}(0.0, 50.0); SDDP.State{Float64}(0.0, 50.0) SDDP.State{Float64}(0.0, 50.0) … SDDP.State{Float64}(0.0, 50.0) SDDP.State{Float64}(0.0, 50.0); SDDP.State{Float64}(0.0, 50.0) SDDP.State{Float64}(0.0, 50.0) … SDDP.State{Float64}(0.0, 50.0) SDDP.State{Float64}(0.0, 50.0); SDDP.State{Float64}(0.0, 50.0) SDDP.State{Float64}(0.0, 50.0) … SDDP.State{Float64}(0.0, 50.0) SDDP.State{Float64}(0.0, 50.0)], :stage_objective => 0, :f => 0.0, :noise_term => nothing…), Dict(:b => [0.0 0.0 … 0.0 0.0; 0.0 0.0 … 0.0 0.0; 50.0 50.0 … 50.0 50.0], :w => [0.0 0.0 … 0.0 0.0; 0.0 0.0 … 0.0 0.0; 0.0 0.0 … 0.0 0.0], :bellman_term => 112961.99999999994, :node_index => 2, :objective_state => nothing, :belief => Dict(2 => 1.0), :x => SDDP.State{Float64}[SDDP.State{Float64}(50.0, 50.0) SDDP.State{Float64}(50.0, 50.0) … SDDP.State{Float64}(50.0, 50.0) SDDP.State{Float64}(50.0, 50.0); SDDP.State{Float64}(50.0, 50.0) SDDP.State{Float64}(50.0, 50.0) … SDDP.State{Float64}(50.0, 50.0) SDDP.State{Float64}(50.0, 50.0); SDDP.State{Float64}(50.0, 50.0) SDDP.State{Float64}(50.0, 50.0) … SDDP.State{Float64}(50.0, 50.0) SDDP.State{Float64}(50.0, 50.0); SDDP.State{Float64}(50.0, 50.0) SDDP.State{Float64}(50.0, 50.0) … SDDP.State{Float64}(50.0, 50.0) SDDP.State{Float64}(50.0, 50.0)], :stage_objective => 34560.0, :f => 5.0, :noise_term => (price = [30.0, 30.0, 30.0, 30.0, 30.0, 30.0, 30.0, 30.0, 30.0, 30.0  …  30.0, 30.0, 30.0, 30.0, 30.0, 30.0, 30.0, 30.0, 30.0, 30.0], fill = 5)…), Dict(:b => [50.0 50.0 … 50.0 50.0; 0.0 0.0 … 0.0 0.0; 0.0 0.0 … 0.0 0.0], :w => [0.0 0.0 … 0.0 0.0; 0.0 0.0 … 0.0 0.0; 0.0 0.0 … 0.0 0.0], :bellman_term => 90407.99999999997, :node_index => 3, :objective_state => nothing, :belief => Dict(3 => 1.0), :x => SDDP.State{Float64}[SDDP.State{Float64}(50.0, 50.0) SDDP.State{Float64}(50.0, 50.0) … SDDP.State{Float64}(50.0, 50.0) SDDP.State{Float64}(50.0, 50.0); SDDP.State{Float64}(50.0, 50.0) SDDP.State{Float64}(50.0, 50.0) … SDDP.State{Float64}(50.0, 50.0) SDDP.State{Float64}(50.0, 50.0); SDDP.State{Float64}(50.0, 50.0) SDDP.State{Float64}(50.0, 50.0) … SDDP.State{Float64}(50.0, 50.0) SDDP.State{Float64}(50.0, 50.0); SDDP.State{Float64}(50.0, 50.0) SDDP.State{Float64}(50.0, 50.0) … SDDP.State{Float64}(50.0, 50.0) SDDP.State{Float64}(50.0, 50.0)], :stage_objective => 10560.0, :f => 15.0, :noise_term => (price = [10.0, 10.0, 10.0, 10.0, 10.0, 10.0, 10.0, 10.0, 10.0, 10.0  …  10.0, 10.0, 10.0, 10.0, 10.0, 10.0, 10.0, 10.0, 10.0, 10.0], fill = 15)…), Dict(:b => [35.0 50.0 … 50.0 50.0; 0.0 0.0 … 0.0 0.0; 0.0 0.0 … 0.0 0.0], :w => [15.0 0.0 … 0.0 0.0; 0.0 0.0 … 0.0 0.0; 0.0 0.0 … 0.0 0.0], :bellman_term => 67835.99999999999, :node_index => 4, :objective_state => nothing, :belief => Dict(4 => 1.0), :x => SDDP.State{Float64}[SDDP.State{Float64}(50.0, 50.0) SDDP.State{Float64}(50.0, 50.0) … SDDP.State{Float64}(50.0, 50.0) SDDP.State{Float64}(50.0, 50.0); SDDP.State{Float64}(50.0, 50.0) SDDP.State{Float64}(50.0, 50.0) … SDDP.State{Float64}(50.0, 50.0) SDDP.State{Float64}(50.0, 50.0); SDDP.State{Float64}(50.0, 50.0) SDDP.State{Float64}(50.0, 50.0) … SDDP.State{Float64}(50.0, 50.0) SDDP.State{Float64}(50.0, 50.0); SDDP.State{Float64}(50.0, 50.0) SDDP.State{Float64}(50.0, 50.0) … SDDP.State{Float64}(50.0, 50.0) SDDP.State{Float64}(50.0, 50.0)], :stage_objective => 10578.0, :f => 15.0, :noise_term => (price = [10.0, 10.0, 10.0, 10.0, 10.0, 10.0, 10.0, 10.0, 10.0, 10.0  …  10.0, 10.0, 10.0, 10.0, 10.0, 10.0, 10.0, 10.0, 10.0, 10.0], fill = 15)…), Dict(:b => [35.0 50.0 … 50.0 50.0; 0.0 0.0 … 0.0 0.0; 0.0 0.0 … 0.0 0.0], :w => [15.0 0.0 … 0.0 0.0; 0.0 0.0 … 0.0 0.0; 0.0 0.0 … 0.0 0.0], :bellman_term => 45264.000000000015, :node_index => 5, :objective_state => nothing, :belief => Dict(5 => 1.0), :x => SDDP.State{Float64}[SDDP.State{Float64}(50.0, 50.0) SDDP.State{Float64}(50.0, 50.0) … SDDP.State{Float64}(50.0, 50.0) SDDP.State{Float64}(50.0, 50.0); SDDP.State{Float64}(50.0, 50.0) SDDP.State{Float64}(50.0, 50.0) … SDDP.State{Float64}(50.0, 50.0) SDDP.State{Float64}(50.0, 50.0); SDDP.State{Float64}(50.0, 50.0) SDDP.State{Float64}(50.0, 50.0) … SDDP.State{Float64}(50.0, 50.0) SDDP.State{Float64}(50.0, 50.0); SDDP.State{Float64}(50.0, 50.0) SDDP.State{Float64}(50.0, 50.0) … SDDP.State{Float64}(50.0, 50.0) SDDP.State{Float64}(50.0, 50.0)], :stage_objective => 10578.0, :f => 15.0, :noise_term => (price = [10.0, 10.0, 10.0, 10.0, 10.0, 10.0, 10.0, 10.0, 10.0, 10.0  …  10.0, 10.0, 10.0, 10.0, 10.0, 10.0, 10.0, 10.0, 10.0, 10.0], fill = 15)…), Dict(:b => [0.0 0.0 … 0.0 0.0; 0.0 0.0 … 0.0 0.0; 45.0 50.0 … 50.0 50.0], :w => [0.0 0.0 … 0.0 0.0; 0.0 0.0 … 0.0 0.0; 5.0 0.0 … 0.0 0.0], :bellman_term => 22692.000000000015, :node_index => 6, :objective_state => nothing, :belief => Dict(6 => 1.0), :x => SDDP.State{Float64}[SDDP.State{Float64}(50.0, 50.0) SDDP.State{Float64}(50.0, 50.0) … SDDP.State{Float64}(50.0, 50.0) SDDP.State{Float64}(50.0, 50.0); SDDP.State{Float64}(50.0, 50.0) SDDP.State{Float64}(50.0, 50.0) … SDDP.State{Float64}(50.0, 50.0) SDDP.State{Float64}(50.0, 50.0); SDDP.State{Float64}(50.0, 50.0) SDDP.State{Float64}(50.0, 50.0) … SDDP.State{Float64}(50.0, 50.0) SDDP.State{Float64}(50.0, 50.0); SDDP.State{Float64}(50.0, 50.0) SDDP.State{Float64}(50.0, 50.0) … SDDP.State{Float64}(50.0, 50.0) SDDP.State{Float64}(50.0, 50.0)], :stage_objective => 34566.0, :f => 5.0, :noise_term => (price = [30.0, 30.0, 30.0, 30.0, 30.0, 30.0, 30.0, 30.0, 30.0, 30.0  …  30.0, 30.0, 30.0, 30.0, 30.0, 30.0, 30.0, 30.0, 30.0, 30.0], fill = 5)…), Dict(:b => [0.0 0.0 … 0.0 0.0; 50.0 50.0 … 0.0 0.0; 0.0 0.0 … 0.0 0.0], :w => [0.0 0.0 … 0.0 0.0; 0.0 0.0 … 50.0 50.0; 0.0 0.0 … 0.0 0.0], :bellman_term => 0.0, :node_index => 7, :objective_state => nothing, :belief => Dict(7 => 1.0), :x => SDDP.State{Float64}[SDDP.State{Float64}(50.0, 0.0) SDDP.State{Float64}(50.0, 0.0) … SDDP.State{Float64}(50.0, 0.0) SDDP.State{Float64}(50.0, 0.0); SDDP.State{Float64}(50.0, 0.0) SDDP.State{Float64}(50.0, 0.0) … SDDP.State{Float64}(50.0, 0.0) SDDP.State{Float64}(50.0, 0.0); SDDP.State{Float64}(50.0, 50.0) SDDP.State{Float64}(50.0, 50.0) … SDDP.State{Float64}(50.0, 50.0) SDDP.State{Float64}(50.0, 50.0); SDDP.State{Float64}(50.0, 50.0) SDDP.State{Float64}(50.0, 50.0) … SDDP.State{Float64}(50.0, 50.0) SDDP.State{Float64}(50.0, 50.0)], :stage_objective => 22692.0, :f => 10.0, :noise_term => (price = [20.0, 20.0, 20.0, 20.0, 20.0, 20.0, 20.0, 20.0, 20.0, 20.0  …  20.0, 20.0, 20.0, 20.0, 20.0, 20.0, 20.0, 20.0, 20.0, 20.0], fill = 10)…)]\n",
       " [Dict(:b => [0.0 0.0 … 0.0 0.0; 0.0 0.0 … 0.0 0.0; 0.0 0.0 … 0.0 0.0], :w => [0.0 0.0 … 0.0 0.0; 0.0 0.0 … 0.0 0.0; 0.0 0.0 … 0.0 0.0], :bellman_term => 135527.99999999983, :node_index => 1, :objective_state => nothing, :belief => Dict(1 => 1.0), :x => SDDP.State{Float64}[SDDP.State{Float64}(0.0, 50.0) SDDP.State{Float64}(0.0, 50.0) … SDDP.State{Float64}(0.0, 50.0) SDDP.State{Float64}(0.0, 50.0); SDDP.State{Float64}(0.0, 50.0) SDDP.State{Float64}(0.0, 50.0) … SDDP.State{Float64}(0.0, 50.0) SDDP.State{Float64}(0.0, 50.0); SDDP.State{Float64}(0.0, 50.0) SDDP.State{Float64}(0.0, 50.0) … SDDP.State{Float64}(0.0, 50.0) SDDP.State{Float64}(0.0, 50.0); SDDP.State{Float64}(0.0, 50.0) SDDP.State{Float64}(0.0, 50.0) … SDDP.State{Float64}(0.0, 50.0) SDDP.State{Float64}(0.0, 50.0)], :stage_objective => 0, :f => 0.0, :noise_term => nothing…), Dict(:b => [0.0 0.0 … 0.0 0.0; 0.0 0.0 … 0.0 0.0; 50.0 50.0 … 50.0 50.0], :w => [0.0 0.0 … 0.0 0.0; 0.0 0.0 … 0.0 0.0; 0.0 0.0 … 0.0 0.0], :bellman_term => 112961.99999999994, :node_index => 2, :objective_state => nothing, :belief => Dict(2 => 1.0), :x => SDDP.State{Float64}[SDDP.State{Float64}(50.0, 50.0) SDDP.State{Float64}(50.0, 50.0) … SDDP.State{Float64}(50.0, 50.0) SDDP.State{Float64}(50.0, 50.0); SDDP.State{Float64}(50.0, 50.0) SDDP.State{Float64}(50.0, 50.0) … SDDP.State{Float64}(50.0, 50.0) SDDP.State{Float64}(50.0, 50.0); SDDP.State{Float64}(50.0, 50.0) SDDP.State{Float64}(50.0, 50.0) … SDDP.State{Float64}(50.0, 50.0) SDDP.State{Float64}(50.0, 50.0); SDDP.State{Float64}(50.0, 50.0) SDDP.State{Float64}(50.0, 50.0) … SDDP.State{Float64}(50.0, 50.0) SDDP.State{Float64}(50.0, 50.0)], :stage_objective => 34560.0, :f => 5.0, :noise_term => (price = [30.0, 30.0, 30.0, 30.0, 30.0, 30.0, 30.0, 30.0, 30.0, 30.0  …  30.0, 30.0, 30.0, 30.0, 30.0, 30.0, 30.0, 30.0, 30.0, 30.0], fill = 5)…), Dict(:b => [0.0 0.0 … 0.0 0.0; 0.0 0.0 … 0.0 0.0; 50.0 50.0 … 50.0 50.0], :w => [0.0 0.0 … 0.0 0.0; 0.0 0.0 … 0.0 0.0; 0.0 0.0 … 0.0 0.0], :bellman_term => 90395.99999999997, :node_index => 3, :objective_state => nothing, :belief => Dict(3 => 1.0), :x => SDDP.State{Float64}[SDDP.State{Float64}(50.0, 50.0) SDDP.State{Float64}(50.0, 50.0) … SDDP.State{Float64}(50.0, 50.0) SDDP.State{Float64}(50.0, 50.0); SDDP.State{Float64}(50.0, 50.0) SDDP.State{Float64}(50.0, 50.0) … SDDP.State{Float64}(50.0, 50.0) SDDP.State{Float64}(50.0, 50.0); SDDP.State{Float64}(50.0, 50.0) SDDP.State{Float64}(50.0, 50.0) … SDDP.State{Float64}(50.0, 50.0) SDDP.State{Float64}(50.0, 50.0); SDDP.State{Float64}(50.0, 50.0) SDDP.State{Float64}(50.0, 50.0) … SDDP.State{Float64}(50.0, 50.0) SDDP.State{Float64}(50.0, 50.0)], :stage_objective => 34560.0, :f => 5.0, :noise_term => (price = [30.0, 30.0, 30.0, 30.0, 30.0, 30.0, 30.0, 30.0, 30.0, 30.0  …  30.0, 30.0, 30.0, 30.0, 30.0, 30.0, 30.0, 30.0, 30.0, 30.0], fill = 5)…), Dict(:b => [45.0 50.0 … 50.0 50.0; 0.0 0.0 … 0.0 0.0; 0.0 0.0 … 0.0 0.0], :w => [5.0 0.0 … 0.0 0.0; 0.0 0.0 … 0.0 0.0; 0.0 0.0 … 0.0 0.0], :bellman_term => 67836.00000000003, :node_index => 4, :objective_state => nothing, :belief => Dict(4 => 1.0), :x => SDDP.State{Float64}[SDDP.State{Float64}(50.0, 50.0) SDDP.State{Float64}(50.0, 50.0) … SDDP.State{Float64}(50.0, 50.0) SDDP.State{Float64}(50.0, 50.0); SDDP.State{Float64}(50.0, 50.0) SDDP.State{Float64}(50.0, 50.0) … SDDP.State{Float64}(50.0, 50.0) SDDP.State{Float64}(50.0, 50.0); SDDP.State{Float64}(50.0, 50.0) SDDP.State{Float64}(50.0, 50.0) … SDDP.State{Float64}(50.0, 50.0) SDDP.State{Float64}(50.0, 50.0); SDDP.State{Float64}(50.0, 50.0) SDDP.State{Float64}(50.0, 50.0) … SDDP.State{Float64}(50.0, 50.0) SDDP.State{Float64}(50.0, 50.0)], :stage_objective => 10566.0, :f => 15.0, :noise_term => (price = [10.0, 10.0, 10.0, 10.0, 10.0, 10.0, 10.0, 10.0, 10.0, 10.0  …  10.0, 10.0, 10.0, 10.0, 10.0, 10.0, 10.0, 10.0, 10.0, 10.0], fill = 15)…), Dict(:b => [0.0 0.0 … 0.0 0.0; 40.0 50.0 … 50.0 50.0; 0.0 0.0 … 0.0 0.0], :w => [0.0 0.0 … 0.0 0.0; 10.0 0.0 … 0.0 0.0; 0.0 0.0 … 0.0 0.0], :bellman_term => 45264.000000000015, :node_index => 5, :objective_state => nothing, :belief => Dict(5 => 1.0), :x => SDDP.State{Float64}[SDDP.State{Float64}(50.0, 50.0) SDDP.State{Float64}(50.0, 50.0) … SDDP.State{Float64}(50.0, 50.0) SDDP.State{Float64}(50.0, 50.0); SDDP.State{Float64}(50.0, 50.0) SDDP.State{Float64}(50.0, 50.0) … SDDP.State{Float64}(50.0, 50.0) SDDP.State{Float64}(50.0, 50.0); SDDP.State{Float64}(50.0, 50.0) SDDP.State{Float64}(50.0, 50.0) … SDDP.State{Float64}(50.0, 50.0) SDDP.State{Float64}(50.0, 50.0); SDDP.State{Float64}(50.0, 50.0) SDDP.State{Float64}(50.0, 50.0) … SDDP.State{Float64}(50.0, 50.0) SDDP.State{Float64}(50.0, 50.0)], :stage_objective => 22572.0, :f => 10.0, :noise_term => (price = [20.0, 20.0, 20.0, 20.0, 20.0, 20.0, 20.0, 20.0, 20.0, 20.0  …  20.0, 20.0, 20.0, 20.0, 20.0, 20.0, 20.0, 20.0, 20.0, 20.0], fill = 10)…), Dict(:b => [35.0 50.0 … 50.0 50.0; 0.0 0.0 … 0.0 0.0; 0.0 0.0 … 0.0 0.0], :w => [15.0 0.0 … 0.0 0.0; 0.0 0.0 … 0.0 0.0; 0.0 0.0 … 0.0 0.0], :bellman_term => 22691.999999999993, :node_index => 6, :objective_state => nothing, :belief => Dict(6 => 1.0), :x => SDDP.State{Float64}[SDDP.State{Float64}(50.0, 50.0) SDDP.State{Float64}(50.0, 50.0) … SDDP.State{Float64}(50.0, 50.0) SDDP.State{Float64}(50.0, 50.0); SDDP.State{Float64}(50.0, 50.0) SDDP.State{Float64}(50.0, 50.0) … SDDP.State{Float64}(50.0, 50.0) SDDP.State{Float64}(50.0, 50.0); SDDP.State{Float64}(50.0, 50.0) SDDP.State{Float64}(50.0, 50.0) … SDDP.State{Float64}(50.0, 50.0) SDDP.State{Float64}(50.0, 50.0); SDDP.State{Float64}(50.0, 50.0) SDDP.State{Float64}(50.0, 50.0) … SDDP.State{Float64}(50.0, 50.0) SDDP.State{Float64}(50.0, 50.0)], :stage_objective => 10578.0, :f => 15.0, :noise_term => (price = [10.0, 10.0, 10.0, 10.0, 10.0, 10.0, 10.0, 10.0, 10.0, 10.0  …  10.0, 10.0, 10.0, 10.0, 10.0, 10.0, 10.0, 10.0, 10.0, 10.0], fill = 15)…), Dict(:b => [0.0 0.0 … 0.0 0.0; 0.0 0.0 … 0.0 0.0; 50.0 50.0 … 0.0 0.0], :w => [0.0 0.0 … 0.0 0.0; 0.0 0.0 … 0.0 0.0; 0.0 0.0 … 50.0 50.0], :bellman_term => 0.0, :node_index => 7, :objective_state => nothing, :belief => Dict(7 => 1.0), :x => SDDP.State{Float64}[SDDP.State{Float64}(50.0, 0.0) SDDP.State{Float64}(50.0, 0.0) … SDDP.State{Float64}(50.0, 0.0) SDDP.State{Float64}(50.0, 0.0); SDDP.State{Float64}(50.0, 0.0) SDDP.State{Float64}(50.0, 0.0) … SDDP.State{Float64}(50.0, 0.0) SDDP.State{Float64}(50.0, 0.0); SDDP.State{Float64}(50.0, 50.0) SDDP.State{Float64}(50.0, 50.0) … SDDP.State{Float64}(50.0, 50.0) SDDP.State{Float64}(50.0, 50.0); SDDP.State{Float64}(50.0, 50.0) SDDP.State{Float64}(50.0, 50.0) … SDDP.State{Float64}(50.0, 50.0) SDDP.State{Float64}(50.0, 50.0)], :stage_objective => 34686.0, :f => 5.0, :noise_term => (price = [30.0, 30.0, 30.0, 30.0, 30.0, 30.0, 30.0, 30.0, 30.0, 30.0  …  30.0, 30.0, 30.0, 30.0, 30.0, 30.0, 30.0, 30.0, 30.0, 30.0], fill = 5)…)]\n",
       " [Dict(:b => [0.0 0.0 … 0.0 0.0; 0.0 0.0 … 0.0 0.0; 0.0 0.0 … 0.0 0.0], :w => [0.0 0.0 … 0.0 0.0; 0.0 0.0 … 0.0 0.0; 0.0 0.0 … 0.0 0.0], :bellman_term => 135527.99999999983, :node_index => 1, :objective_state => nothing, :belief => Dict(1 => 1.0), :x => SDDP.State{Float64}[SDDP.State{Float64}(0.0, 50.0) SDDP.State{Float64}(0.0, 50.0) … SDDP.State{Float64}(0.0, 50.0) SDDP.State{Float64}(0.0, 50.0); SDDP.State{Float64}(0.0, 50.0) SDDP.State{Float64}(0.0, 50.0) … SDDP.State{Float64}(0.0, 50.0) SDDP.State{Float64}(0.0, 50.0); SDDP.State{Float64}(0.0, 50.0) SDDP.State{Float64}(0.0, 50.0) … SDDP.State{Float64}(0.0, 50.0) SDDP.State{Float64}(0.0, 50.0); SDDP.State{Float64}(0.0, 50.0) SDDP.State{Float64}(0.0, 50.0) … SDDP.State{Float64}(0.0, 50.0) SDDP.State{Float64}(0.0, 50.0)], :stage_objective => 0, :f => 0.0, :noise_term => nothing…), Dict(:b => [0.0 0.0 … 0.0 0.0; 50.0 50.0 … 50.0 50.0; 0.0 0.0 … 0.0 0.0], :w => [0.0 0.0 … 0.0 0.0; 0.0 0.0 … 0.0 0.0; 0.0 0.0 … 0.0 0.0], :bellman_term => 112967.99999999994, :node_index => 2, :objective_state => nothing, :belief => Dict(2 => 1.0), :x => SDDP.State{Float64}[SDDP.State{Float64}(50.0, 50.0) SDDP.State{Float64}(50.0, 50.0) … SDDP.State{Float64}(50.0, 50.0) SDDP.State{Float64}(50.0, 50.0); SDDP.State{Float64}(50.0, 50.0) SDDP.State{Float64}(50.0, 50.0) … SDDP.State{Float64}(50.0, 50.0) SDDP.State{Float64}(50.0, 50.0); SDDP.State{Float64}(50.0, 50.0) SDDP.State{Float64}(50.0, 50.0) … SDDP.State{Float64}(50.0, 50.0) SDDP.State{Float64}(50.0, 50.0); SDDP.State{Float64}(50.0, 50.0) SDDP.State{Float64}(50.0, 50.0) … SDDP.State{Float64}(50.0, 50.0) SDDP.State{Float64}(50.0, 50.0)], :stage_objective => 22560.0, :f => 10.0, :noise_term => (price = [20.0, 20.0, 20.0, 20.0, 20.0, 20.0, 20.0, 20.0, 20.0, 20.0  …  20.0, 20.0, 20.0, 20.0, 20.0, 20.0, 20.0, 20.0, 20.0, 20.0], fill = 10)…), Dict(:b => [0.0 0.0 … 0.0 0.0; 0.0 0.0 … 0.0 0.0; 50.0 50.0 … 50.0 50.0], :w => [0.0 0.0 … 0.0 0.0; 0.0 0.0 … 0.0 0.0; 0.0 0.0 … 0.0 0.0], :bellman_term => 90401.99999999997, :node_index => 3, :objective_state => nothing, :belief => Dict(3 => 1.0), :x => SDDP.State{Float64}[SDDP.State{Float64}(50.0, 50.0) SDDP.State{Float64}(50.0, 50.0) … SDDP.State{Float64}(50.0, 50.0) SDDP.State{Float64}(50.0, 50.0); SDDP.State{Float64}(50.0, 50.0) SDDP.State{Float64}(50.0, 50.0) … SDDP.State{Float64}(50.0, 50.0) SDDP.State{Float64}(50.0, 50.0); SDDP.State{Float64}(50.0, 50.0) SDDP.State{Float64}(50.0, 50.0) … SDDP.State{Float64}(50.0, 50.0) SDDP.State{Float64}(50.0, 50.0); SDDP.State{Float64}(50.0, 50.0) SDDP.State{Float64}(50.0, 50.0) … SDDP.State{Float64}(50.0, 50.0) SDDP.State{Float64}(50.0, 50.0)], :stage_objective => 34560.0, :f => 5.0, :noise_term => (price = [30.0, 30.0, 30.0, 30.0, 30.0, 30.0, 30.0, 30.0, 30.0, 30.0  …  30.0, 30.0, 30.0, 30.0, 30.0, 30.0, 30.0, 30.0, 30.0, 30.0], fill = 5)…), Dict(:b => [40.0 50.0 … 50.0 50.0; 0.0 0.0 … 0.0 0.0; 0.0 0.0 … 0.0 0.0], :w => [10.0 0.0 … 0.0 0.0; 0.0 0.0 … 0.0 0.0; 0.0 0.0 … 0.0 0.0], :bellman_term => 67836.00000000003, :node_index => 4, :objective_state => nothing, :belief => Dict(4 => 1.0), :x => SDDP.State{Float64}[SDDP.State{Float64}(50.0, 50.0) SDDP.State{Float64}(50.0, 50.0) … SDDP.State{Float64}(50.0, 50.0) SDDP.State{Float64}(50.0, 50.0); SDDP.State{Float64}(50.0, 50.0) SDDP.State{Float64}(50.0, 50.0) … SDDP.State{Float64}(50.0, 50.0) SDDP.State{Float64}(50.0, 50.0); SDDP.State{Float64}(50.0, 50.0) SDDP.State{Float64}(50.0, 50.0) … SDDP.State{Float64}(50.0, 50.0) SDDP.State{Float64}(50.0, 50.0); SDDP.State{Float64}(50.0, 50.0) SDDP.State{Float64}(50.0, 50.0) … SDDP.State{Float64}(50.0, 50.0) SDDP.State{Float64}(50.0, 50.0)], :stage_objective => 10572.0, :f => 15.0, :noise_term => (price = [10.0, 10.0, 10.0, 10.0, 10.0, 10.0, 10.0, 10.0, 10.0, 10.0  …  10.0, 10.0, 10.0, 10.0, 10.0, 10.0, 10.0, 10.0, 10.0, 10.0], fill = 15)…), Dict(:b => [0.0 0.0 … 0.0 0.0; 0.0 0.0 … 0.0 0.0; 45.0 50.0 … 50.0 50.0], :w => [0.0 0.0 … 0.0 0.0; 0.0 0.0 … 0.0 0.0; 5.0 0.0 … 0.0 0.0], :bellman_term => 45264.000000000015, :node_index => 5, :objective_state => nothing, :belief => Dict(5 => 1.0), :x => SDDP.State{Float64}[SDDP.State{Float64}(50.0, 50.0) SDDP.State{Float64}(50.0, 50.0) … SDDP.State{Float64}(50.0, 50.0) SDDP.State{Float64}(50.0, 50.0); SDDP.State{Float64}(50.0, 50.0) SDDP.State{Float64}(50.0, 50.0) … SDDP.State{Float64}(50.0, 50.0) SDDP.State{Float64}(50.0, 50.0); SDDP.State{Float64}(50.0, 50.0) SDDP.State{Float64}(50.0, 50.0) … SDDP.State{Float64}(50.0, 50.0) SDDP.State{Float64}(50.0, 50.0); SDDP.State{Float64}(50.0, 50.0) SDDP.State{Float64}(50.0, 50.0) … SDDP.State{Float64}(50.0, 50.0) SDDP.State{Float64}(50.0, 50.0)], :stage_objective => 34566.0, :f => 5.0, :noise_term => (price = [30.0, 30.0, 30.0, 30.0, 30.0, 30.0, 30.0, 30.0, 30.0, 30.0  …  30.0, 30.0, 30.0, 30.0, 30.0, 30.0, 30.0, 30.0, 30.0, 30.0], fill = 5)…), Dict(:b => [0.0 0.0 … 0.0 0.0; 40.0 50.0 … 50.0 50.0; 0.0 0.0 … 0.0 0.0], :w => [0.0 0.0 … 0.0 0.0; 10.0 0.0 … 0.0 0.0; 0.0 0.0 … 0.0 0.0], :bellman_term => 22691.999999999993, :node_index => 6, :objective_state => nothing, :belief => Dict(6 => 1.0), :x => SDDP.State{Float64}[SDDP.State{Float64}(50.0, 50.0) SDDP.State{Float64}(50.0, 50.0) … SDDP.State{Float64}(50.0, 50.0) SDDP.State{Float64}(50.0, 50.0); SDDP.State{Float64}(50.0, 50.0) SDDP.State{Float64}(50.0, 50.0) … SDDP.State{Float64}(50.0, 50.0) SDDP.State{Float64}(50.0, 50.0); SDDP.State{Float64}(50.0, 50.0) SDDP.State{Float64}(50.0, 50.0) … SDDP.State{Float64}(50.0, 50.0) SDDP.State{Float64}(50.0, 50.0); SDDP.State{Float64}(50.0, 50.0) SDDP.State{Float64}(50.0, 50.0) … SDDP.State{Float64}(50.0, 50.0) SDDP.State{Float64}(50.0, 50.0)], :stage_objective => 22572.0, :f => 10.0, :noise_term => (price = [20.0, 20.0, 20.0, 20.0, 20.0, 20.0, 20.0, 20.0, 20.0, 20.0  …  20.0, 20.0, 20.0, 20.0, 20.0, 20.0, 20.0, 20.0, 20.0, 20.0], fill = 10)…), Dict(:b => [0.0 0.0 … 0.0 0.0; 50.0 50.0 … 0.0 0.0; 0.0 0.0 … 0.0 0.0], :w => [0.0 0.0 … 0.0 0.0; 0.0 0.0 … 50.0 50.0; 0.0 0.0 … 0.0 0.0], :bellman_term => 0.0, :node_index => 7, :objective_state => nothing, :belief => Dict(7 => 1.0), :x => SDDP.State{Float64}[SDDP.State{Float64}(50.0, 0.0) SDDP.State{Float64}(50.0, 0.0) … SDDP.State{Float64}(50.0, 0.0) SDDP.State{Float64}(50.0, 0.0); SDDP.State{Float64}(50.0, 0.0) SDDP.State{Float64}(50.0, 0.0) … SDDP.State{Float64}(50.0, 0.0) SDDP.State{Float64}(50.0, 0.0); SDDP.State{Float64}(50.0, 50.0) SDDP.State{Float64}(50.0, 50.0) … SDDP.State{Float64}(50.0, 50.0) SDDP.State{Float64}(50.0, 50.0); SDDP.State{Float64}(50.0, 50.0) SDDP.State{Float64}(50.0, 50.0) … SDDP.State{Float64}(50.0, 50.0) SDDP.State{Float64}(50.0, 50.0)], :stage_objective => 22692.0, :f => 10.0, :noise_term => (price = [20.0, 20.0, 20.0, 20.0, 20.0, 20.0, 20.0, 20.0, 20.0, 20.0  …  20.0, 20.0, 20.0, 20.0, 20.0, 20.0, 20.0, 20.0, 20.0, 20.0], fill = 10)…)]\n",
       " [Dict(:b => [0.0 0.0 … 0.0 0.0; 0.0 0.0 … 0.0 0.0; 0.0 0.0 … 0.0 0.0], :w => [0.0 0.0 … 0.0 0.0; 0.0 0.0 … 0.0 0.0; 0.0 0.0 … 0.0 0.0], :bellman_term => 135527.99999999983, :node_index => 1, :objective_state => nothing, :belief => Dict(1 => 1.0), :x => SDDP.State{Float64}[SDDP.State{Float64}(0.0, 50.0) SDDP.State{Float64}(0.0, 50.0) … SDDP.State{Float64}(0.0, 50.0) SDDP.State{Float64}(0.0, 50.0); SDDP.State{Float64}(0.0, 50.0) SDDP.State{Float64}(0.0, 50.0) … SDDP.State{Float64}(0.0, 50.0) SDDP.State{Float64}(0.0, 50.0); SDDP.State{Float64}(0.0, 50.0) SDDP.State{Float64}(0.0, 50.0) … SDDP.State{Float64}(0.0, 50.0) SDDP.State{Float64}(0.0, 50.0); SDDP.State{Float64}(0.0, 50.0) SDDP.State{Float64}(0.0, 50.0) … SDDP.State{Float64}(0.0, 50.0) SDDP.State{Float64}(0.0, 50.0)], :stage_objective => 0, :f => 0.0, :noise_term => nothing…), Dict(:b => [0.0 0.0 … 0.0 0.0; 0.0 0.0 … 0.0 0.0; 50.0 50.0 … 50.0 50.0], :w => [0.0 0.0 … 0.0 0.0; 0.0 0.0 … 0.0 0.0; 0.0 0.0 … 0.0 0.0], :bellman_term => 112961.99999999994, :node_index => 2, :objective_state => nothing, :belief => Dict(2 => 1.0), :x => SDDP.State{Float64}[SDDP.State{Float64}(50.0, 50.0) SDDP.State{Float64}(50.0, 50.0) … SDDP.State{Float64}(50.0, 50.0) SDDP.State{Float64}(50.0, 50.0); SDDP.State{Float64}(50.0, 50.0) SDDP.State{Float64}(50.0, 50.0) … SDDP.State{Float64}(50.0, 50.0) SDDP.State{Float64}(50.0, 50.0); SDDP.State{Float64}(50.0, 50.0) SDDP.State{Float64}(50.0, 50.0) … SDDP.State{Float64}(50.0, 50.0) SDDP.State{Float64}(50.0, 50.0); SDDP.State{Float64}(50.0, 50.0) SDDP.State{Float64}(50.0, 50.0) … SDDP.State{Float64}(50.0, 50.0) SDDP.State{Float64}(50.0, 50.0)], :stage_objective => 34560.0, :f => 5.0, :noise_term => (price = [30.0, 30.0, 30.0, 30.0, 30.0, 30.0, 30.0, 30.0, 30.0, 30.0  …  30.0, 30.0, 30.0, 30.0, 30.0, 30.0, 30.0, 30.0, 30.0, 30.0], fill = 5)…), Dict(:b => [0.0 0.0 … 0.0 0.0; 0.0 0.0 … 0.0 0.0; 50.0 50.0 … 50.0 50.0], :w => [0.0 0.0 … 0.0 0.0; 0.0 0.0 … 0.0 0.0; 0.0 0.0 … 0.0 0.0], :bellman_term => 90395.99999999997, :node_index => 3, :objective_state => nothing, :belief => Dict(3 => 1.0), :x => SDDP.State{Float64}[SDDP.State{Float64}(50.0, 50.0) SDDP.State{Float64}(50.0, 50.0) … SDDP.State{Float64}(50.0, 50.0) SDDP.State{Float64}(50.0, 50.0); SDDP.State{Float64}(50.0, 50.0) SDDP.State{Float64}(50.0, 50.0) … SDDP.State{Float64}(50.0, 50.0) SDDP.State{Float64}(50.0, 50.0); SDDP.State{Float64}(50.0, 50.0) SDDP.State{Float64}(50.0, 50.0) … SDDP.State{Float64}(50.0, 50.0) SDDP.State{Float64}(50.0, 50.0); SDDP.State{Float64}(50.0, 50.0) SDDP.State{Float64}(50.0, 50.0) … SDDP.State{Float64}(50.0, 50.0) SDDP.State{Float64}(50.0, 50.0)], :stage_objective => 34560.0, :f => 5.0, :noise_term => (price = [30.0, 30.0, 30.0, 30.0, 30.0, 30.0, 30.0, 30.0, 30.0, 30.0  …  30.0, 30.0, 30.0, 30.0, 30.0, 30.0, 30.0, 30.0, 30.0, 30.0], fill = 5)…), Dict(:b => [0.0 0.0 … 0.0 0.0; 50.0 50.0 … 50.0 50.0; 0.0 0.0 … 0.0 0.0], :w => [0.0 0.0 … 0.0 0.0; 0.0 0.0 … 0.0 0.0; 0.0 0.0 … 0.0 0.0], :bellman_term => 67835.99999999999, :node_index => 4, :objective_state => nothing, :belief => Dict(4 => 1.0), :x => SDDP.State{Float64}[SDDP.State{Float64}(50.0, 50.0) SDDP.State{Float64}(50.0, 50.0) … SDDP.State{Float64}(50.0, 50.0) SDDP.State{Float64}(50.0, 50.0); SDDP.State{Float64}(50.0, 50.0) SDDP.State{Float64}(50.0, 50.0) … SDDP.State{Float64}(50.0, 50.0) SDDP.State{Float64}(50.0, 50.0); SDDP.State{Float64}(50.0, 50.0) SDDP.State{Float64}(50.0, 50.0) … SDDP.State{Float64}(50.0, 50.0) SDDP.State{Float64}(50.0, 50.0); SDDP.State{Float64}(50.0, 50.0) SDDP.State{Float64}(50.0, 50.0) … SDDP.State{Float64}(50.0, 50.0) SDDP.State{Float64}(50.0, 50.0)], :stage_objective => 22560.0, :f => 10.0, :noise_term => (price = [20.0, 20.0, 20.0, 20.0, 20.0, 20.0, 20.0, 20.0, 20.0, 20.0  …  20.0, 20.0, 20.0, 20.0, 20.0, 20.0, 20.0, 20.0, 20.0, 20.0], fill = 10)…), Dict(:b => [0.0 0.0 … 0.0 0.0; 40.0 50.0 … 50.0 50.0; 0.0 0.0 … 0.0 0.0], :w => [0.0 0.0 … 0.0 0.0; 10.0 0.0 … 0.0 0.0; 0.0 0.0 … 0.0 0.0], :bellman_term => 45264.000000000015, :node_index => 5, :objective_state => nothing, :belief => Dict(5 => 1.0), :x => SDDP.State{Float64}[SDDP.State{Float64}(50.0, 50.0) SDDP.State{Float64}(50.0, 50.0) … SDDP.State{Float64}(50.0, 50.0) SDDP.State{Float64}(50.0, 50.0); SDDP.State{Float64}(50.0, 50.0) SDDP.State{Float64}(50.0, 50.0) … SDDP.State{Float64}(50.0, 50.0) SDDP.State{Float64}(50.0, 50.0); SDDP.State{Float64}(50.0, 50.0) SDDP.State{Float64}(50.0, 50.0) … SDDP.State{Float64}(50.0, 50.0) SDDP.State{Float64}(50.0, 50.0); SDDP.State{Float64}(50.0, 50.0) SDDP.State{Float64}(50.0, 50.0) … SDDP.State{Float64}(50.0, 50.0) SDDP.State{Float64}(50.0, 50.0)], :stage_objective => 22572.0, :f => 10.0, :noise_term => (price = [20.0, 20.0, 20.0, 20.0, 20.0, 20.0, 20.0, 20.0, 20.0, 20.0  …  20.0, 20.0, 20.0, 20.0, 20.0, 20.0, 20.0, 20.0, 20.0, 20.0], fill = 10)…), Dict(:b => [0.0 0.0 … 0.0 0.0; 0.0 0.0 … 0.0 0.0; 45.0 50.0 … 50.0 50.0], :w => [0.0 0.0 … 0.0 0.0; 0.0 0.0 … 0.0 0.0; 5.0 0.0 … 0.0 0.0], :bellman_term => 22691.999999999993, :node_index => 6, :objective_state => nothing, :belief => Dict(6 => 1.0), :x => SDDP.State{Float64}[SDDP.State{Float64}(50.0, 50.0) SDDP.State{Float64}(50.0, 50.0) … SDDP.State{Float64}(50.0, 50.0) SDDP.State{Float64}(50.0, 50.0); SDDP.State{Float64}(50.0, 50.0) SDDP.State{Float64}(50.0, 50.0) … SDDP.State{Float64}(50.0, 50.0) SDDP.State{Float64}(50.0, 50.0); SDDP.State{Float64}(50.0, 50.0) SDDP.State{Float64}(50.0, 50.0) … SDDP.State{Float64}(50.0, 50.0) SDDP.State{Float64}(50.0, 50.0); SDDP.State{Float64}(50.0, 50.0) SDDP.State{Float64}(50.0, 50.0) … SDDP.State{Float64}(50.0, 50.0) SDDP.State{Float64}(50.0, 50.0)], :stage_objective => 34566.0, :f => 5.0, :noise_term => (price = [30.0, 30.0, 30.0, 30.0, 30.0, 30.0, 30.0, 30.0, 30.0, 30.0  …  30.0, 30.0, 30.0, 30.0, 30.0, 30.0, 30.0, 30.0, 30.0, 30.0], fill = 5)…), Dict(:b => [0.0 0.0 … 0.0 0.0; 0.0 0.0 … 0.0 0.0; 50.0 50.0 … 0.0 0.0], :w => [0.0 0.0 … 0.0 0.0; 0.0 0.0 … 0.0 0.0; 0.0 0.0 … 50.0 50.0], :bellman_term => 0.0, :node_index => 7, :objective_state => nothing, :belief => Dict(7 => 1.0), :x => SDDP.State{Float64}[SDDP.State{Float64}(50.0, 0.0) SDDP.State{Float64}(50.0, 0.0) … SDDP.State{Float64}(50.0, 0.0) SDDP.State{Float64}(50.0, 0.0); SDDP.State{Float64}(50.0, 0.0) SDDP.State{Float64}(50.0, 0.0) … SDDP.State{Float64}(50.0, 0.0) SDDP.State{Float64}(50.0, 0.0); SDDP.State{Float64}(50.0, 50.0) SDDP.State{Float64}(50.0, 50.0) … SDDP.State{Float64}(50.0, 50.0) SDDP.State{Float64}(50.0, 50.0); SDDP.State{Float64}(50.0, 50.0) SDDP.State{Float64}(50.0, 50.0) … SDDP.State{Float64}(50.0, 50.0) SDDP.State{Float64}(50.0, 50.0)], :stage_objective => 34686.0, :f => 5.0, :noise_term => (price = [30.0, 30.0, 30.0, 30.0, 30.0, 30.0, 30.0, 30.0, 30.0, 30.0  …  30.0, 30.0, 30.0, 30.0, 30.0, 30.0, 30.0, 30.0, 30.0, 30.0], fill = 5)…)]\n",
       " [Dict(:b => [0.0 0.0 … 0.0 0.0; 0.0 0.0 … 0.0 0.0; 0.0 0.0 … 0.0 0.0], :w => [0.0 0.0 … 0.0 0.0; 0.0 0.0 … 0.0 0.0; 0.0 0.0 … 0.0 0.0], :bellman_term => 135527.99999999983, :node_index => 1, :objective_state => nothing, :belief => Dict(1 => 1.0), :x => SDDP.State{Float64}[SDDP.State{Float64}(0.0, 50.0) SDDP.State{Float64}(0.0, 50.0) … SDDP.State{Float64}(0.0, 50.0) SDDP.State{Float64}(0.0, 50.0); SDDP.State{Float64}(0.0, 50.0) SDDP.State{Float64}(0.0, 50.0) … SDDP.State{Float64}(0.0, 50.0) SDDP.State{Float64}(0.0, 50.0); SDDP.State{Float64}(0.0, 50.0) SDDP.State{Float64}(0.0, 50.0) … SDDP.State{Float64}(0.0, 50.0) SDDP.State{Float64}(0.0, 50.0); SDDP.State{Float64}(0.0, 50.0) SDDP.State{Float64}(0.0, 50.0) … SDDP.State{Float64}(0.0, 50.0) SDDP.State{Float64}(0.0, 50.0)], :stage_objective => 0, :f => 0.0, :noise_term => nothing…), Dict(:b => [0.0 0.0 … 0.0 0.0; 0.0 0.0 … 0.0 0.0; 50.0 50.0 … 50.0 50.0], :w => [0.0 0.0 … 0.0 0.0; 0.0 0.0 … 0.0 0.0; 0.0 0.0 … 0.0 0.0], :bellman_term => 112961.99999999994, :node_index => 2, :objective_state => nothing, :belief => Dict(2 => 1.0), :x => SDDP.State{Float64}[SDDP.State{Float64}(50.0, 50.0) SDDP.State{Float64}(50.0, 50.0) … SDDP.State{Float64}(50.0, 50.0) SDDP.State{Float64}(50.0, 50.0); SDDP.State{Float64}(50.0, 50.0) SDDP.State{Float64}(50.0, 50.0) … SDDP.State{Float64}(50.0, 50.0) SDDP.State{Float64}(50.0, 50.0); SDDP.State{Float64}(50.0, 50.0) SDDP.State{Float64}(50.0, 50.0) … SDDP.State{Float64}(50.0, 50.0) SDDP.State{Float64}(50.0, 50.0); SDDP.State{Float64}(50.0, 50.0) SDDP.State{Float64}(50.0, 50.0) … SDDP.State{Float64}(50.0, 50.0) SDDP.State{Float64}(50.0, 50.0)], :stage_objective => 34560.0, :f => 5.0, :noise_term => (price = [30.0, 30.0, 30.0, 30.0, 30.0, 30.0, 30.0, 30.0, 30.0, 30.0  …  30.0, 30.0, 30.0, 30.0, 30.0, 30.0, 30.0, 30.0, 30.0, 30.0], fill = 5)…), Dict(:b => [0.0 0.0 … 0.0 0.0; 50.0 50.0 … 50.0 50.0; 0.0 0.0 … 0.0 0.0], :w => [0.0 0.0 … 0.0 0.0; 0.0 0.0 … 0.0 0.0; 0.0 0.0 … 0.0 0.0], :bellman_term => 90401.99999999997, :node_index => 3, :objective_state => nothing, :belief => Dict(3 => 1.0), :x => SDDP.State{Float64}[SDDP.State{Float64}(50.0, 50.0) SDDP.State{Float64}(50.0, 50.0) … SDDP.State{Float64}(50.0, 50.0) SDDP.State{Float64}(50.0, 50.0); SDDP.State{Float64}(50.0, 50.0) SDDP.State{Float64}(50.0, 50.0) … SDDP.State{Float64}(50.0, 50.0) SDDP.State{Float64}(50.0, 50.0); SDDP.State{Float64}(50.0, 50.0) SDDP.State{Float64}(50.0, 50.0) … SDDP.State{Float64}(50.0, 50.0) SDDP.State{Float64}(50.0, 50.0); SDDP.State{Float64}(50.0, 50.0) SDDP.State{Float64}(50.0, 50.0) … SDDP.State{Float64}(50.0, 50.0) SDDP.State{Float64}(50.0, 50.0)], :stage_objective => 22560.0, :f => 10.0, :noise_term => (price = [20.0, 20.0, 20.0, 20.0, 20.0, 20.0, 20.0, 20.0, 20.0, 20.0  …  20.0, 20.0, 20.0, 20.0, 20.0, 20.0, 20.0, 20.0, 20.0, 20.0], fill = 10)…), Dict(:b => [0.0 0.0 … 0.0 0.0; 45.0 50.0 … 50.0 50.0; 0.0 0.0 … 0.0 0.0], :w => [0.0 0.0 … 0.0 0.0; 5.0 0.0 … 0.0 0.0; 0.0 0.0 … 0.0 0.0], :bellman_term => 67836.00000000003, :node_index => 4, :objective_state => nothing, :belief => Dict(4 => 1.0), :x => SDDP.State{Float64}[SDDP.State{Float64}(50.0, 50.0) SDDP.State{Float64}(50.0, 50.0) … SDDP.State{Float64}(50.0, 50.0) SDDP.State{Float64}(50.0, 50.0); SDDP.State{Float64}(50.0, 50.0) SDDP.State{Float64}(50.0, 50.0) … SDDP.State{Float64}(50.0, 50.0) SDDP.State{Float64}(50.0, 50.0); SDDP.State{Float64}(50.0, 50.0) SDDP.State{Float64}(50.0, 50.0) … SDDP.State{Float64}(50.0, 50.0) SDDP.State{Float64}(50.0, 50.0); SDDP.State{Float64}(50.0, 50.0) SDDP.State{Float64}(50.0, 50.0) … SDDP.State{Float64}(50.0, 50.0) SDDP.State{Float64}(50.0, 50.0)], :stage_objective => 22566.0, :f => 10.0, :noise_term => (price = [20.0, 20.0, 20.0, 20.0, 20.0, 20.0, 20.0, 20.0, 20.0, 20.0  …  20.0, 20.0, 20.0, 20.0, 20.0, 20.0, 20.0, 20.0, 20.0, 20.0], fill = 10)…), Dict(:b => [35.0 50.0 … 50.0 50.0; 0.0 0.0 … 0.0 0.0; 0.0 0.0 … 0.0 0.0], :w => [15.0 0.0 … 0.0 0.0; 0.0 0.0 … 0.0 0.0; 0.0 0.0 … 0.0 0.0], :bellman_term => 45264.000000000015, :node_index => 5, :objective_state => nothing, :belief => Dict(5 => 1.0), :x => SDDP.State{Float64}[SDDP.State{Float64}(50.0, 50.0) SDDP.State{Float64}(50.0, 50.0) … SDDP.State{Float64}(50.0, 50.0) SDDP.State{Float64}(50.0, 50.0); SDDP.State{Float64}(50.0, 50.0) SDDP.State{Float64}(50.0, 50.0) … SDDP.State{Float64}(50.0, 50.0) SDDP.State{Float64}(50.0, 50.0); SDDP.State{Float64}(50.0, 50.0) SDDP.State{Float64}(50.0, 50.0) … SDDP.State{Float64}(50.0, 50.0) SDDP.State{Float64}(50.0, 50.0); SDDP.State{Float64}(50.0, 50.0) SDDP.State{Float64}(50.0, 50.0) … SDDP.State{Float64}(50.0, 50.0) SDDP.State{Float64}(50.0, 50.0)], :stage_objective => 10578.0, :f => 15.0, :noise_term => (price = [10.0, 10.0, 10.0, 10.0, 10.0, 10.0, 10.0, 10.0, 10.0, 10.0  …  10.0, 10.0, 10.0, 10.0, 10.0, 10.0, 10.0, 10.0, 10.0, 10.0], fill = 15)…), Dict(:b => [35.0 50.0 … 50.0 50.0; 0.0 0.0 … 0.0 0.0; 0.0 0.0 … 0.0 0.0], :w => [15.0 0.0 … 0.0 0.0; 0.0 0.0 … 0.0 0.0; 0.0 0.0 … 0.0 0.0], :bellman_term => 22691.999999999993, :node_index => 6, :objective_state => nothing, :belief => Dict(6 => 1.0), :x => SDDP.State{Float64}[SDDP.State{Float64}(50.0, 50.0) SDDP.State{Float64}(50.0, 50.0) … SDDP.State{Float64}(50.0, 50.0) SDDP.State{Float64}(50.0, 50.0); SDDP.State{Float64}(50.0, 50.0) SDDP.State{Float64}(50.0, 50.0) … SDDP.State{Float64}(50.0, 50.0) SDDP.State{Float64}(50.0, 50.0); SDDP.State{Float64}(50.0, 50.0) SDDP.State{Float64}(50.0, 50.0) … SDDP.State{Float64}(50.0, 50.0) SDDP.State{Float64}(50.0, 50.0); SDDP.State{Float64}(50.0, 50.0) SDDP.State{Float64}(50.0, 50.0) … SDDP.State{Float64}(50.0, 50.0) SDDP.State{Float64}(50.0, 50.0)], :stage_objective => 10578.0, :f => 15.0, :noise_term => (price = [10.0, 10.0, 10.0, 10.0, 10.0, 10.0, 10.0, 10.0, 10.0, 10.0  …  10.0, 10.0, 10.0, 10.0, 10.0, 10.0, 10.0, 10.0, 10.0, 10.0], fill = 15)…), Dict(:b => [50.0 50.0 … 0.0 0.0; 0.0 0.0 … 0.0 0.0; 0.0 0.0 … 0.0 0.0], :w => [0.0 0.0 … 50.0 50.0; 0.0 0.0 … 0.0 0.0; 0.0 0.0 … 0.0 0.0], :bellman_term => 1.8189894035458565e-12, :node_index => 7, :objective_state => nothing, :belief => Dict(7 => 1.0), :x => SDDP.State{Float64}[SDDP.State{Float64}(50.0, 0.0) SDDP.State{Float64}(50.0, 0.0) … SDDP.State{Float64}(50.0, 0.0) SDDP.State{Float64}(50.0, 0.0); SDDP.State{Float64}(50.0, 0.0) SDDP.State{Float64}(50.0, 0.0) … SDDP.State{Float64}(50.0, 0.0) SDDP.State{Float64}(50.0, 0.0); SDDP.State{Float64}(50.0, 50.0) SDDP.State{Float64}(50.0, 50.0) … SDDP.State{Float64}(50.0, 50.0) SDDP.State{Float64}(50.0, 50.0); SDDP.State{Float64}(50.0, 50.0) SDDP.State{Float64}(50.0, 50.0) … SDDP.State{Float64}(50.0, 50.0) SDDP.State{Float64}(50.0, 50.0)], :stage_objective => 10698.0, :f => 15.0, :noise_term => (price = [10.0, 10.0, 10.0, 10.0, 10.0, 10.0, 10.0, 10.0, 10.0, 10.0  …  10.0, 10.0, 10.0, 10.0, 10.0, 10.0, 10.0, 10.0, 10.0, 10.0], fill = 15)…)]\n",
       " [Dict(:b => [0.0 0.0 … 0.0 0.0; 0.0 0.0 … 0.0 0.0; 0.0 0.0 … 0.0 0.0], :w => [0.0 0.0 … 0.0 0.0; 0.0 0.0 … 0.0 0.0; 0.0 0.0 … 0.0 0.0], :bellman_term => 135527.99999999983, :node_index => 1, :objective_state => nothing, :belief => Dict(1 => 1.0), :x => SDDP.State{Float64}[SDDP.State{Float64}(0.0, 50.0) SDDP.State{Float64}(0.0, 50.0) … SDDP.State{Float64}(0.0, 50.0) SDDP.State{Float64}(0.0, 50.0); SDDP.State{Float64}(0.0, 50.0) SDDP.State{Float64}(0.0, 50.0) … SDDP.State{Float64}(0.0, 50.0) SDDP.State{Float64}(0.0, 50.0); SDDP.State{Float64}(0.0, 50.0) SDDP.State{Float64}(0.0, 50.0) … SDDP.State{Float64}(0.0, 50.0) SDDP.State{Float64}(0.0, 50.0); SDDP.State{Float64}(0.0, 50.0) SDDP.State{Float64}(0.0, 50.0) … SDDP.State{Float64}(0.0, 50.0) SDDP.State{Float64}(0.0, 50.0)], :stage_objective => 0, :f => 0.0, :noise_term => nothing…), Dict(:b => [50.0 50.0 … 50.0 50.0; 0.0 0.0 … 0.0 0.0; 0.0 0.0 … 0.0 0.0], :w => [0.0 0.0 … 0.0 0.0; 0.0 0.0 … 0.0 0.0; 0.0 0.0 … 0.0 0.0], :bellman_term => 112973.99999999996, :node_index => 2, :objective_state => nothing, :belief => Dict(2 => 1.0), :x => SDDP.State{Float64}[SDDP.State{Float64}(50.0, 50.0) SDDP.State{Float64}(50.0, 50.0) … SDDP.State{Float64}(50.0, 50.0) SDDP.State{Float64}(50.0, 50.0); SDDP.State{Float64}(50.0, 50.0) SDDP.State{Float64}(50.0, 50.0) … SDDP.State{Float64}(50.0, 50.0) SDDP.State{Float64}(50.0, 50.0); SDDP.State{Float64}(50.0, 50.0) SDDP.State{Float64}(50.0, 50.0) … SDDP.State{Float64}(50.0, 50.0) SDDP.State{Float64}(50.0, 50.0); SDDP.State{Float64}(50.0, 50.0) SDDP.State{Float64}(50.0, 50.0) … SDDP.State{Float64}(50.0, 50.0) SDDP.State{Float64}(50.0, 50.0)], :stage_objective => 10560.0, :f => 15.0, :noise_term => (price = [10.0, 10.0, 10.0, 10.0, 10.0, 10.0, 10.0, 10.0, 10.0, 10.0  …  10.0, 10.0, 10.0, 10.0, 10.0, 10.0, 10.0, 10.0, 10.0, 10.0], fill = 15)…), Dict(:b => [40.0 50.0 … 50.0 50.0; 0.0 0.0 … 0.0 0.0; 0.0 0.0 … 0.0 0.0], :w => [10.0 0.0 … 0.0 0.0; 0.0 0.0 … 0.0 0.0; 0.0 0.0 … 0.0 0.0], :bellman_term => 90407.99999999997, :node_index => 3, :objective_state => nothing, :belief => Dict(3 => 1.0), :x => SDDP.State{Float64}[SDDP.State{Float64}(50.0, 50.0) SDDP.State{Float64}(50.0, 50.0) … SDDP.State{Float64}(50.0, 50.0) SDDP.State{Float64}(50.0, 50.0); SDDP.State{Float64}(50.0, 50.0) SDDP.State{Float64}(50.0, 50.0) … SDDP.State{Float64}(50.0, 50.0) SDDP.State{Float64}(50.0, 50.0); SDDP.State{Float64}(50.0, 50.0) SDDP.State{Float64}(50.0, 50.0) … SDDP.State{Float64}(50.0, 50.0) SDDP.State{Float64}(50.0, 50.0); SDDP.State{Float64}(50.0, 50.0) SDDP.State{Float64}(50.0, 50.0) … SDDP.State{Float64}(50.0, 50.0) SDDP.State{Float64}(50.0, 50.0)], :stage_objective => 10572.0, :f => 15.0, :noise_term => (price = [10.0, 10.0, 10.0, 10.0, 10.0, 10.0, 10.0, 10.0, 10.0, 10.0  …  10.0, 10.0, 10.0, 10.0, 10.0, 10.0, 10.0, 10.0, 10.0, 10.0], fill = 15)…), Dict(:b => [0.0 0.0 … 0.0 0.0; 0.0 0.0 … 0.0 0.0; 45.0 50.0 … 50.0 50.0], :w => [0.0 0.0 … 0.0 0.0; 0.0 0.0 … 0.0 0.0; 5.0 0.0 … 0.0 0.0], :bellman_term => 67835.99999999999, :node_index => 4, :objective_state => nothing, :belief => Dict(4 => 1.0), :x => SDDP.State{Float64}[SDDP.State{Float64}(50.0, 50.0) SDDP.State{Float64}(50.0, 50.0) … SDDP.State{Float64}(50.0, 50.0) SDDP.State{Float64}(50.0, 50.0); SDDP.State{Float64}(50.0, 50.0) SDDP.State{Float64}(50.0, 50.0) … SDDP.State{Float64}(50.0, 50.0) SDDP.State{Float64}(50.0, 50.0); SDDP.State{Float64}(50.0, 50.0) SDDP.State{Float64}(50.0, 50.0) … SDDP.State{Float64}(50.0, 50.0) SDDP.State{Float64}(50.0, 50.0); SDDP.State{Float64}(50.0, 50.0) SDDP.State{Float64}(50.0, 50.0) … SDDP.State{Float64}(50.0, 50.0) SDDP.State{Float64}(50.0, 50.0)], :stage_objective => 34566.0, :f => 5.0, :noise_term => (price = [30.0, 30.0, 30.0, 30.0, 30.0, 30.0, 30.0, 30.0, 30.0, 30.0  …  30.0, 30.0, 30.0, 30.0, 30.0, 30.0, 30.0, 30.0, 30.0, 30.0], fill = 5)…), Dict(:b => [35.0 50.0 … 50.0 50.0; 0.0 0.0 … 0.0 0.0; 0.0 0.0 … 0.0 0.0], :w => [15.0 0.0 … 0.0 0.0; 0.0 0.0 … 0.0 0.0; 0.0 0.0 … 0.0 0.0], :bellman_term => 45263.999999999956, :node_index => 5, :objective_state => nothing, :belief => Dict(5 => 1.0), :x => SDDP.State{Float64}[SDDP.State{Float64}(50.0, 50.0) SDDP.State{Float64}(50.0, 50.0) … SDDP.State{Float64}(50.0, 50.0) SDDP.State{Float64}(50.0, 50.0); SDDP.State{Float64}(50.0, 50.0) SDDP.State{Float64}(50.0, 50.0) … SDDP.State{Float64}(50.0, 50.0) SDDP.State{Float64}(50.0, 50.0); SDDP.State{Float64}(50.0, 50.0) SDDP.State{Float64}(50.0, 50.0) … SDDP.State{Float64}(50.0, 50.0) SDDP.State{Float64}(50.0, 50.0); SDDP.State{Float64}(50.0, 50.0) SDDP.State{Float64}(50.0, 50.0) … SDDP.State{Float64}(50.0, 50.0) SDDP.State{Float64}(50.0, 50.0)], :stage_objective => 10578.0, :f => 15.0, :noise_term => (price = [10.0, 10.0, 10.0, 10.0, 10.0, 10.0, 10.0, 10.0, 10.0, 10.0  …  10.0, 10.0, 10.0, 10.0, 10.0, 10.0, 10.0, 10.0, 10.0, 10.0], fill = 15)…), Dict(:b => [0.0 0.0 … 0.0 0.0; 40.0 50.0 … 50.0 50.0; 0.0 0.0 … 0.0 0.0], :w => [0.0 0.0 … 0.0 0.0; 10.0 0.0 … 0.0 0.0; 0.0 0.0 … 0.0 0.0], :bellman_term => 22691.999999999993, :node_index => 6, :objective_state => nothing, :belief => Dict(6 => 1.0), :x => SDDP.State{Float64}[SDDP.State{Float64}(50.0, 50.0) SDDP.State{Float64}(50.0, 50.0) … SDDP.State{Float64}(50.0, 50.0) SDDP.State{Float64}(50.0, 50.0); SDDP.State{Float64}(50.0, 50.0) SDDP.State{Float64}(50.0, 50.0) … SDDP.State{Float64}(50.0, 50.0) SDDP.State{Float64}(50.0, 50.0); SDDP.State{Float64}(50.0, 50.0) SDDP.State{Float64}(50.0, 50.0) … SDDP.State{Float64}(50.0, 50.0) SDDP.State{Float64}(50.0, 50.0); SDDP.State{Float64}(50.0, 50.0) SDDP.State{Float64}(50.0, 50.0) … SDDP.State{Float64}(50.0, 50.0) SDDP.State{Float64}(50.0, 50.0)], :stage_objective => 22572.0, :f => 10.0, :noise_term => (price = [20.0, 20.0, 20.0, 20.0, 20.0, 20.0, 20.0, 20.0, 20.0, 20.0  …  20.0, 20.0, 20.0, 20.0, 20.0, 20.0, 20.0, 20.0, 20.0, 20.0], fill = 10)…), Dict(:b => [50.0 50.0 … 0.0 0.0; 0.0 0.0 … 0.0 0.0; 0.0 0.0 … 0.0 0.0], :w => [0.0 0.0 … 50.0 50.0; 0.0 0.0 … 0.0 0.0; 0.0 0.0 … 0.0 0.0], :bellman_term => 0.0, :node_index => 7, :objective_state => nothing, :belief => Dict(7 => 1.0), :x => SDDP.State{Float64}[SDDP.State{Float64}(50.0, 0.0) SDDP.State{Float64}(50.0, 0.0) … SDDP.State{Float64}(50.0, 0.0) SDDP.State{Float64}(50.0, 0.0); SDDP.State{Float64}(50.0, 0.0) SDDP.State{Float64}(50.0, 0.0) … SDDP.State{Float64}(50.0, 0.0) SDDP.State{Float64}(50.0, 0.0); SDDP.State{Float64}(50.0, 50.0) SDDP.State{Float64}(50.0, 50.0) … SDDP.State{Float64}(50.0, 50.0) SDDP.State{Float64}(50.0, 50.0); SDDP.State{Float64}(50.0, 50.0) SDDP.State{Float64}(50.0, 50.0) … SDDP.State{Float64}(50.0, 50.0) SDDP.State{Float64}(50.0, 50.0)], :stage_objective => 10698.0, :f => 15.0, :noise_term => (price = [10.0, 10.0, 10.0, 10.0, 10.0, 10.0, 10.0, 10.0, 10.0, 10.0  …  10.0, 10.0, 10.0, 10.0, 10.0, 10.0, 10.0, 10.0, 10.0, 10.0], fill = 15)…)]\n",
       " [Dict(:b => [0.0 0.0 … 0.0 0.0; 0.0 0.0 … 0.0 0.0; 0.0 0.0 … 0.0 0.0], :w => [0.0 0.0 … 0.0 0.0; 0.0 0.0 … 0.0 0.0; 0.0 0.0 … 0.0 0.0], :bellman_term => 135527.99999999983, :node_index => 1, :objective_state => nothing, :belief => Dict(1 => 1.0), :x => SDDP.State{Float64}[SDDP.State{Float64}(0.0, 50.0) SDDP.State{Float64}(0.0, 50.0) … SDDP.State{Float64}(0.0, 50.0) SDDP.State{Float64}(0.0, 50.0); SDDP.State{Float64}(0.0, 50.0) SDDP.State{Float64}(0.0, 50.0) … SDDP.State{Float64}(0.0, 50.0) SDDP.State{Float64}(0.0, 50.0); SDDP.State{Float64}(0.0, 50.0) SDDP.State{Float64}(0.0, 50.0) … SDDP.State{Float64}(0.0, 50.0) SDDP.State{Float64}(0.0, 50.0); SDDP.State{Float64}(0.0, 50.0) SDDP.State{Float64}(0.0, 50.0) … SDDP.State{Float64}(0.0, 50.0) SDDP.State{Float64}(0.0, 50.0)], :stage_objective => 0, :f => 0.0, :noise_term => nothing…), Dict(:b => [0.0 0.0 … 0.0 0.0; 50.0 50.0 … 50.0 50.0; 0.0 0.0 … 0.0 0.0], :w => [0.0 0.0 … 0.0 0.0; 0.0 0.0 … 0.0 0.0; 0.0 0.0 … 0.0 0.0], :bellman_term => 112967.99999999994, :node_index => 2, :objective_state => nothing, :belief => Dict(2 => 1.0), :x => SDDP.State{Float64}[SDDP.State{Float64}(50.0, 50.0) SDDP.State{Float64}(50.0, 50.0) … SDDP.State{Float64}(50.0, 50.0) SDDP.State{Float64}(50.0, 50.0); SDDP.State{Float64}(50.0, 50.0) SDDP.State{Float64}(50.0, 50.0) … SDDP.State{Float64}(50.0, 50.0) SDDP.State{Float64}(50.0, 50.0); SDDP.State{Float64}(50.0, 50.0) SDDP.State{Float64}(50.0, 50.0) … SDDP.State{Float64}(50.0, 50.0) SDDP.State{Float64}(50.0, 50.0); SDDP.State{Float64}(50.0, 50.0) SDDP.State{Float64}(50.0, 50.0) … SDDP.State{Float64}(50.0, 50.0) SDDP.State{Float64}(50.0, 50.0)], :stage_objective => 22560.0, :f => 10.0, :noise_term => (price = [20.0, 20.0, 20.0, 20.0, 20.0, 20.0, 20.0, 20.0, 20.0, 20.0  …  20.0, 20.0, 20.0, 20.0, 20.0, 20.0, 20.0, 20.0, 20.0, 20.0], fill = 10)…), Dict(:b => [0.0 0.0 … 0.0 0.0; 50.0 50.0 … 50.0 50.0; 0.0 0.0 … 0.0 0.0], :w => [0.0 0.0 … 0.0 0.0; 0.0 0.0 … 0.0 0.0; 0.0 0.0 … 0.0 0.0], :bellman_term => 90407.99999999997, :node_index => 3, :objective_state => nothing, :belief => Dict(3 => 1.0), :x => SDDP.State{Float64}[SDDP.State{Float64}(50.0, 50.0) SDDP.State{Float64}(50.0, 50.0) … SDDP.State{Float64}(50.0, 50.0) SDDP.State{Float64}(50.0, 50.0); SDDP.State{Float64}(50.0, 50.0) SDDP.State{Float64}(50.0, 50.0) … SDDP.State{Float64}(50.0, 50.0) SDDP.State{Float64}(50.0, 50.0); SDDP.State{Float64}(50.0, 50.0) SDDP.State{Float64}(50.0, 50.0) … SDDP.State{Float64}(50.0, 50.0) SDDP.State{Float64}(50.0, 50.0); SDDP.State{Float64}(50.0, 50.0) SDDP.State{Float64}(50.0, 50.0) … SDDP.State{Float64}(50.0, 50.0) SDDP.State{Float64}(50.0, 50.0)], :stage_objective => 22560.0, :f => 10.0, :noise_term => (price = [20.0, 20.0, 20.0, 20.0, 20.0, 20.0, 20.0, 20.0, 20.0, 20.0  …  20.0, 20.0, 20.0, 20.0, 20.0, 20.0, 20.0, 20.0, 20.0, 20.0], fill = 10)…), Dict(:b => [0.0 0.0 … 0.0 0.0; 40.0 50.0 … 50.0 50.0; 0.0 0.0 … 0.0 0.0], :w => [0.0 0.0 … 0.0 0.0; 10.0 0.0 … 0.0 0.0; 0.0 0.0 … 0.0 0.0], :bellman_term => 67835.99999999999, :node_index => 4, :objective_state => nothing, :belief => Dict(4 => 1.0), :x => SDDP.State{Float64}[SDDP.State{Float64}(50.0, 50.0) SDDP.State{Float64}(50.0, 50.0) … SDDP.State{Float64}(50.0, 50.0) SDDP.State{Float64}(50.0, 50.0); SDDP.State{Float64}(50.0, 50.0) SDDP.State{Float64}(50.0, 50.0) … SDDP.State{Float64}(50.0, 50.0) SDDP.State{Float64}(50.0, 50.0); SDDP.State{Float64}(50.0, 50.0) SDDP.State{Float64}(50.0, 50.0) … SDDP.State{Float64}(50.0, 50.0) SDDP.State{Float64}(50.0, 50.0); SDDP.State{Float64}(50.0, 50.0) SDDP.State{Float64}(50.0, 50.0) … SDDP.State{Float64}(50.0, 50.0) SDDP.State{Float64}(50.0, 50.0)], :stage_objective => 22572.0, :f => 10.0, :noise_term => (price = [20.0, 20.0, 20.0, 20.0, 20.0, 20.0, 20.0, 20.0, 20.0, 20.0  …  20.0, 20.0, 20.0, 20.0, 20.0, 20.0, 20.0, 20.0, 20.0, 20.0], fill = 10)…), Dict(:b => [0.0 0.0 … 0.0 0.0; 0.0 0.0 … 0.0 0.0; 45.0 50.0 … 50.0 50.0], :w => [0.0 0.0 … 0.0 0.0; 0.0 0.0 … 0.0 0.0; 5.0 0.0 … 0.0 0.0], :bellman_term => 45264.000000000015, :node_index => 5, :objective_state => nothing, :belief => Dict(5 => 1.0), :x => SDDP.State{Float64}[SDDP.State{Float64}(50.0, 50.0) SDDP.State{Float64}(50.0, 50.0) … SDDP.State{Float64}(50.0, 50.0) SDDP.State{Float64}(50.0, 50.0); SDDP.State{Float64}(50.0, 50.0) SDDP.State{Float64}(50.0, 50.0) … SDDP.State{Float64}(50.0, 50.0) SDDP.State{Float64}(50.0, 50.0); SDDP.State{Float64}(50.0, 50.0) SDDP.State{Float64}(50.0, 50.0) … SDDP.State{Float64}(50.0, 50.0) SDDP.State{Float64}(50.0, 50.0); SDDP.State{Float64}(50.0, 50.0) SDDP.State{Float64}(50.0, 50.0) … SDDP.State{Float64}(50.0, 50.0) SDDP.State{Float64}(50.0, 50.0)], :stage_objective => 34566.0, :f => 5.0, :noise_term => (price = [30.0, 30.0, 30.0, 30.0, 30.0, 30.0, 30.0, 30.0, 30.0, 30.0  …  30.0, 30.0, 30.0, 30.0, 30.0, 30.0, 30.0, 30.0, 30.0, 30.0], fill = 5)…), Dict(:b => [35.0 50.0 … 50.0 50.0; 0.0 0.0 … 0.0 0.0; 0.0 0.0 … 0.0 0.0], :w => [15.0 0.0 … 0.0 0.0; 0.0 0.0 … 0.0 0.0; 0.0 0.0 … 0.0 0.0], :bellman_term => 22691.999999999993, :node_index => 6, :objective_state => nothing, :belief => Dict(6 => 1.0), :x => SDDP.State{Float64}[SDDP.State{Float64}(50.0, 50.0) SDDP.State{Float64}(50.0, 50.0) … SDDP.State{Float64}(50.0, 50.0) SDDP.State{Float64}(50.0, 50.0); SDDP.State{Float64}(50.0, 50.0) SDDP.State{Float64}(50.0, 50.0) … SDDP.State{Float64}(50.0, 50.0) SDDP.State{Float64}(50.0, 50.0); SDDP.State{Float64}(50.0, 50.0) SDDP.State{Float64}(50.0, 50.0) … SDDP.State{Float64}(50.0, 50.0) SDDP.State{Float64}(50.0, 50.0); SDDP.State{Float64}(50.0, 50.0) SDDP.State{Float64}(50.0, 50.0) … SDDP.State{Float64}(50.0, 50.0) SDDP.State{Float64}(50.0, 50.0)], :stage_objective => 10578.0, :f => 15.0, :noise_term => (price = [10.0, 10.0, 10.0, 10.0, 10.0, 10.0, 10.0, 10.0, 10.0, 10.0  …  10.0, 10.0, 10.0, 10.0, 10.0, 10.0, 10.0, 10.0, 10.0, 10.0], fill = 15)…), Dict(:b => [0.0 0.0 … 0.0 0.0; 50.0 50.0 … 0.0 0.0; 0.0 0.0 … 0.0 0.0], :w => [0.0 0.0 … 0.0 0.0; 0.0 0.0 … 50.0 50.0; 0.0 0.0 … 0.0 0.0], :bellman_term => 0.0, :node_index => 7, :objective_state => nothing, :belief => Dict(7 => 1.0), :x => SDDP.State{Float64}[SDDP.State{Float64}(50.0, 0.0) SDDP.State{Float64}(50.0, 0.0) … SDDP.State{Float64}(50.0, 0.0) SDDP.State{Float64}(50.0, 0.0); SDDP.State{Float64}(50.0, 0.0) SDDP.State{Float64}(50.0, 0.0) … SDDP.State{Float64}(50.0, 0.0) SDDP.State{Float64}(50.0, 0.0); SDDP.State{Float64}(50.0, 50.0) SDDP.State{Float64}(50.0, 50.0) … SDDP.State{Float64}(50.0, 50.0) SDDP.State{Float64}(50.0, 50.0); SDDP.State{Float64}(50.0, 50.0) SDDP.State{Float64}(50.0, 50.0) … SDDP.State{Float64}(50.0, 50.0) SDDP.State{Float64}(50.0, 50.0)], :stage_objective => 22692.0, :f => 10.0, :noise_term => (price = [20.0, 20.0, 20.0, 20.0, 20.0, 20.0, 20.0, 20.0, 20.0, 20.0  …  20.0, 20.0, 20.0, 20.0, 20.0, 20.0, 20.0, 20.0, 20.0, 20.0], fill = 10)…)]\n",
       " [Dict(:b => [0.0 0.0 … 0.0 0.0; 0.0 0.0 … 0.0 0.0; 0.0 0.0 … 0.0 0.0], :w => [0.0 0.0 … 0.0 0.0; 0.0 0.0 … 0.0 0.0; 0.0 0.0 … 0.0 0.0], :bellman_term => 135527.99999999983, :node_index => 1, :objective_state => nothing, :belief => Dict(1 => 1.0), :x => SDDP.State{Float64}[SDDP.State{Float64}(0.0, 50.0) SDDP.State{Float64}(0.0, 50.0) … SDDP.State{Float64}(0.0, 50.0) SDDP.State{Float64}(0.0, 50.0); SDDP.State{Float64}(0.0, 50.0) SDDP.State{Float64}(0.0, 50.0) … SDDP.State{Float64}(0.0, 50.0) SDDP.State{Float64}(0.0, 50.0); SDDP.State{Float64}(0.0, 50.0) SDDP.State{Float64}(0.0, 50.0) … SDDP.State{Float64}(0.0, 50.0) SDDP.State{Float64}(0.0, 50.0); SDDP.State{Float64}(0.0, 50.0) SDDP.State{Float64}(0.0, 50.0) … SDDP.State{Float64}(0.0, 50.0) SDDP.State{Float64}(0.0, 50.0)], :stage_objective => 0, :f => 0.0, :noise_term => nothing…), Dict(:b => [0.0 0.0 … 0.0 0.0; 0.0 0.0 … 0.0 0.0; 50.0 50.0 … 50.0 50.0], :w => [0.0 0.0 … 0.0 0.0; 0.0 0.0 … 0.0 0.0; 0.0 0.0 … 0.0 0.0], :bellman_term => 112961.99999999994, :node_index => 2, :objective_state => nothing, :belief => Dict(2 => 1.0), :x => SDDP.State{Float64}[SDDP.State{Float64}(50.0, 50.0) SDDP.State{Float64}(50.0, 50.0) … SDDP.State{Float64}(50.0, 50.0) SDDP.State{Float64}(50.0, 50.0); SDDP.State{Float64}(50.0, 50.0) SDDP.State{Float64}(50.0, 50.0) … SDDP.State{Float64}(50.0, 50.0) SDDP.State{Float64}(50.0, 50.0); SDDP.State{Float64}(50.0, 50.0) SDDP.State{Float64}(50.0, 50.0) … SDDP.State{Float64}(50.0, 50.0) SDDP.State{Float64}(50.0, 50.0); SDDP.State{Float64}(50.0, 50.0) SDDP.State{Float64}(50.0, 50.0) … SDDP.State{Float64}(50.0, 50.0) SDDP.State{Float64}(50.0, 50.0)], :stage_objective => 34560.0, :f => 5.0, :noise_term => (price = [30.0, 30.0, 30.0, 30.0, 30.0, 30.0, 30.0, 30.0, 30.0, 30.0  …  30.0, 30.0, 30.0, 30.0, 30.0, 30.0, 30.0, 30.0, 30.0, 30.0], fill = 5)…), Dict(:b => [50.0 50.0 … 50.0 50.0; 0.0 0.0 … 0.0 0.0; 0.0 0.0 … 0.0 0.0], :w => [0.0 0.0 … 0.0 0.0; 0.0 0.0 … 0.0 0.0; 0.0 0.0 … 0.0 0.0], :bellman_term => 90407.99999999997, :node_index => 3, :objective_state => nothing, :belief => Dict(3 => 1.0), :x => SDDP.State{Float64}[SDDP.State{Float64}(50.0, 50.0) SDDP.State{Float64}(50.0, 50.0) … SDDP.State{Float64}(50.0, 50.0) SDDP.State{Float64}(50.0, 50.0); SDDP.State{Float64}(50.0, 50.0) SDDP.State{Float64}(50.0, 50.0) … SDDP.State{Float64}(50.0, 50.0) SDDP.State{Float64}(50.0, 50.0); SDDP.State{Float64}(50.0, 50.0) SDDP.State{Float64}(50.0, 50.0) … SDDP.State{Float64}(50.0, 50.0) SDDP.State{Float64}(50.0, 50.0); SDDP.State{Float64}(50.0, 50.0) SDDP.State{Float64}(50.0, 50.0) … SDDP.State{Float64}(50.0, 50.0) SDDP.State{Float64}(50.0, 50.0)], :stage_objective => 10560.0, :f => 15.0, :noise_term => (price = [10.0, 10.0, 10.0, 10.0, 10.0, 10.0, 10.0, 10.0, 10.0, 10.0  …  10.0, 10.0, 10.0, 10.0, 10.0, 10.0, 10.0, 10.0, 10.0, 10.0], fill = 15)…), Dict(:b => [0.0 0.0 … 0.0 0.0; 40.0 50.0 … 50.0 50.0; 0.0 0.0 … 0.0 0.0], :w => [0.0 0.0 … 0.0 0.0; 10.0 0.0 … 0.0 0.0; 0.0 0.0 … 0.0 0.0], :bellman_term => 67836.00000000003, :node_index => 4, :objective_state => nothing, :belief => Dict(4 => 1.0), :x => SDDP.State{Float64}[SDDP.State{Float64}(50.0, 50.0) SDDP.State{Float64}(50.0, 50.0) … SDDP.State{Float64}(50.0, 50.0) SDDP.State{Float64}(50.0, 50.0); SDDP.State{Float64}(50.0, 50.0) SDDP.State{Float64}(50.0, 50.0) … SDDP.State{Float64}(50.0, 50.0) SDDP.State{Float64}(50.0, 50.0); SDDP.State{Float64}(50.0, 50.0) SDDP.State{Float64}(50.0, 50.0) … SDDP.State{Float64}(50.0, 50.0) SDDP.State{Float64}(50.0, 50.0); SDDP.State{Float64}(50.0, 50.0) SDDP.State{Float64}(50.0, 50.0) … SDDP.State{Float64}(50.0, 50.0) SDDP.State{Float64}(50.0, 50.0)], :stage_objective => 22572.0, :f => 10.0, :noise_term => (price = [20.0, 20.0, 20.0, 20.0, 20.0, 20.0, 20.0, 20.0, 20.0, 20.0  …  20.0, 20.0, 20.0, 20.0, 20.0, 20.0, 20.0, 20.0, 20.0, 20.0], fill = 10)…), Dict(:b => [0.0 0.0 … 0.0 0.0; 0.0 0.0 … 0.0 0.0; 45.0 50.0 … 50.0 50.0], :w => [0.0 0.0 … 0.0 0.0; 0.0 0.0 … 0.0 0.0; 5.0 0.0 … 0.0 0.0], :bellman_term => 45263.999999999956, :node_index => 5, :objective_state => nothing, :belief => Dict(5 => 1.0), :x => SDDP.State{Float64}[SDDP.State{Float64}(50.0, 50.0) SDDP.State{Float64}(50.0, 50.0) … SDDP.State{Float64}(50.0, 50.0) SDDP.State{Float64}(50.0, 50.0); SDDP.State{Float64}(50.0, 50.0) SDDP.State{Float64}(50.0, 50.0) … SDDP.State{Float64}(50.0, 50.0) SDDP.State{Float64}(50.0, 50.0); SDDP.State{Float64}(50.0, 50.0) SDDP.State{Float64}(50.0, 50.0) … SDDP.State{Float64}(50.0, 50.0) SDDP.State{Float64}(50.0, 50.0); SDDP.State{Float64}(50.0, 50.0) SDDP.State{Float64}(50.0, 50.0) … SDDP.State{Float64}(50.0, 50.0) SDDP.State{Float64}(50.0, 50.0)], :stage_objective => 34566.0, :f => 5.0, :noise_term => (price = [30.0, 30.0, 30.0, 30.0, 30.0, 30.0, 30.0, 30.0, 30.0, 30.0  …  30.0, 30.0, 30.0, 30.0, 30.0, 30.0, 30.0, 30.0, 30.0, 30.0], fill = 5)…), Dict(:b => [0.0 0.0 … 0.0 0.0; 40.0 50.0 … 50.0 50.0; 0.0 0.0 … 0.0 0.0], :w => [0.0 0.0 … 0.0 0.0; 10.0 0.0 … 0.0 0.0; 0.0 0.0 … 0.0 0.0], :bellman_term => 22691.999999999993, :node_index => 6, :objective_state => nothing, :belief => Dict(6 => 1.0), :x => SDDP.State{Float64}[SDDP.State{Float64}(50.0, 50.0) SDDP.State{Float64}(50.0, 50.0) … SDDP.State{Float64}(50.0, 50.0) SDDP.State{Float64}(50.0, 50.0); SDDP.State{Float64}(50.0, 50.0) SDDP.State{Float64}(50.0, 50.0) … SDDP.State{Float64}(50.0, 50.0) SDDP.State{Float64}(50.0, 50.0); SDDP.State{Float64}(50.0, 50.0) SDDP.State{Float64}(50.0, 50.0) … SDDP.State{Float64}(50.0, 50.0) SDDP.State{Float64}(50.0, 50.0); SDDP.State{Float64}(50.0, 50.0) SDDP.State{Float64}(50.0, 50.0) … SDDP.State{Float64}(50.0, 50.0) SDDP.State{Float64}(50.0, 50.0)], :stage_objective => 22572.0, :f => 10.0, :noise_term => (price = [20.0, 20.0, 20.0, 20.0, 20.0, 20.0, 20.0, 20.0, 20.0, 20.0  …  20.0, 20.0, 20.0, 20.0, 20.0, 20.0, 20.0, 20.0, 20.0, 20.0], fill = 10)…), Dict(:b => [0.0 0.0 … 0.0 0.0; 50.0 50.0 … 0.0 0.0; 0.0 0.0 … 0.0 0.0], :w => [0.0 0.0 … 0.0 0.0; 0.0 0.0 … 50.0 50.0; 0.0 0.0 … 0.0 0.0], :bellman_term => 0.0, :node_index => 7, :objective_state => nothing, :belief => Dict(7 => 1.0), :x => SDDP.State{Float64}[SDDP.State{Float64}(50.0, 0.0) SDDP.State{Float64}(50.0, 0.0) … SDDP.State{Float64}(50.0, 0.0) SDDP.State{Float64}(50.0, 0.0); SDDP.State{Float64}(50.0, 0.0) SDDP.State{Float64}(50.0, 0.0) … SDDP.State{Float64}(50.0, 0.0) SDDP.State{Float64}(50.0, 0.0); SDDP.State{Float64}(50.0, 50.0) SDDP.State{Float64}(50.0, 50.0) … SDDP.State{Float64}(50.0, 50.0) SDDP.State{Float64}(50.0, 50.0); SDDP.State{Float64}(50.0, 50.0) SDDP.State{Float64}(50.0, 50.0) … SDDP.State{Float64}(50.0, 50.0) SDDP.State{Float64}(50.0, 50.0)], :stage_objective => 22692.0, :f => 10.0, :noise_term => (price = [20.0, 20.0, 20.0, 20.0, 20.0, 20.0, 20.0, 20.0, 20.0, 20.0  …  20.0, 20.0, 20.0, 20.0, 20.0, 20.0, 20.0, 20.0, 20.0, 20.0], fill = 10)…)]\n",
       " [Dict(:b => [0.0 0.0 … 0.0 0.0; 0.0 0.0 … 0.0 0.0; 0.0 0.0 … 0.0 0.0], :w => [0.0 0.0 … 0.0 0.0; 0.0 0.0 … 0.0 0.0; 0.0 0.0 … 0.0 0.0], :bellman_term => 135527.99999999983, :node_index => 1, :objective_state => nothing, :belief => Dict(1 => 1.0), :x => SDDP.State{Float64}[SDDP.State{Float64}(0.0, 50.0) SDDP.State{Float64}(0.0, 50.0) … SDDP.State{Float64}(0.0, 50.0) SDDP.State{Float64}(0.0, 50.0); SDDP.State{Float64}(0.0, 50.0) SDDP.State{Float64}(0.0, 50.0) … SDDP.State{Float64}(0.0, 50.0) SDDP.State{Float64}(0.0, 50.0); SDDP.State{Float64}(0.0, 50.0) SDDP.State{Float64}(0.0, 50.0) … SDDP.State{Float64}(0.0, 50.0) SDDP.State{Float64}(0.0, 50.0); SDDP.State{Float64}(0.0, 50.0) SDDP.State{Float64}(0.0, 50.0) … SDDP.State{Float64}(0.0, 50.0) SDDP.State{Float64}(0.0, 50.0)], :stage_objective => 0, :f => 0.0, :noise_term => nothing…), Dict(:b => [50.0 50.0 … 50.0 50.0; 0.0 0.0 … 0.0 0.0; 0.0 0.0 … 0.0 0.0], :w => [0.0 0.0 … 0.0 0.0; 0.0 0.0 … 0.0 0.0; 0.0 0.0 … 0.0 0.0], :bellman_term => 112973.99999999996, :node_index => 2, :objective_state => nothing, :belief => Dict(2 => 1.0), :x => SDDP.State{Float64}[SDDP.State{Float64}(50.0, 50.0) SDDP.State{Float64}(50.0, 50.0) … SDDP.State{Float64}(50.0, 50.0) SDDP.State{Float64}(50.0, 50.0); SDDP.State{Float64}(50.0, 50.0) SDDP.State{Float64}(50.0, 50.0) … SDDP.State{Float64}(50.0, 50.0) SDDP.State{Float64}(50.0, 50.0); SDDP.State{Float64}(50.0, 50.0) SDDP.State{Float64}(50.0, 50.0) … SDDP.State{Float64}(50.0, 50.0) SDDP.State{Float64}(50.0, 50.0); SDDP.State{Float64}(50.0, 50.0) SDDP.State{Float64}(50.0, 50.0) … SDDP.State{Float64}(50.0, 50.0) SDDP.State{Float64}(50.0, 50.0)], :stage_objective => 10560.0, :f => 15.0, :noise_term => (price = [10.0, 10.0, 10.0, 10.0, 10.0, 10.0, 10.0, 10.0, 10.0, 10.0  …  10.0, 10.0, 10.0, 10.0, 10.0, 10.0, 10.0, 10.0, 10.0, 10.0], fill = 15)…), Dict(:b => [0.0 0.0 … 0.0 0.0; 45.0 50.0 … 50.0 50.0; 0.0 0.0 … 0.0 0.0], :w => [0.0 0.0 … 0.0 0.0; 5.0 0.0 … 0.0 0.0; 0.0 0.0 … 0.0 0.0], :bellman_term => 90407.99999999997, :node_index => 3, :objective_state => nothing, :belief => Dict(3 => 1.0), :x => SDDP.State{Float64}[SDDP.State{Float64}(50.0, 50.0) SDDP.State{Float64}(50.0, 50.0) … SDDP.State{Float64}(50.0, 50.0) SDDP.State{Float64}(50.0, 50.0); SDDP.State{Float64}(50.0, 50.0) SDDP.State{Float64}(50.0, 50.0) … SDDP.State{Float64}(50.0, 50.0) SDDP.State{Float64}(50.0, 50.0); SDDP.State{Float64}(50.0, 50.0) SDDP.State{Float64}(50.0, 50.0) … SDDP.State{Float64}(50.0, 50.0) SDDP.State{Float64}(50.0, 50.0); SDDP.State{Float64}(50.0, 50.0) SDDP.State{Float64}(50.0, 50.0) … SDDP.State{Float64}(50.0, 50.0) SDDP.State{Float64}(50.0, 50.0)], :stage_objective => 22566.0, :f => 10.0, :noise_term => (price = [20.0, 20.0, 20.0, 20.0, 20.0, 20.0, 20.0, 20.0, 20.0, 20.0  …  20.0, 20.0, 20.0, 20.0, 20.0, 20.0, 20.0, 20.0, 20.0, 20.0], fill = 10)…), Dict(:b => [35.0 50.0 … 50.0 50.0; 0.0 0.0 … 0.0 0.0; 0.0 0.0 … 0.0 0.0], :w => [15.0 0.0 … 0.0 0.0; 0.0 0.0 … 0.0 0.0; 0.0 0.0 … 0.0 0.0], :bellman_term => 67835.99999999999, :node_index => 4, :objective_state => nothing, :belief => Dict(4 => 1.0), :x => SDDP.State{Float64}[SDDP.State{Float64}(50.0, 50.0) SDDP.State{Float64}(50.0, 50.0) … SDDP.State{Float64}(50.0, 50.0) SDDP.State{Float64}(50.0, 50.0); SDDP.State{Float64}(50.0, 50.0) SDDP.State{Float64}(50.0, 50.0) … SDDP.State{Float64}(50.0, 50.0) SDDP.State{Float64}(50.0, 50.0); SDDP.State{Float64}(50.0, 50.0) SDDP.State{Float64}(50.0, 50.0) … SDDP.State{Float64}(50.0, 50.0) SDDP.State{Float64}(50.0, 50.0); SDDP.State{Float64}(50.0, 50.0) SDDP.State{Float64}(50.0, 50.0) … SDDP.State{Float64}(50.0, 50.0) SDDP.State{Float64}(50.0, 50.0)], :stage_objective => 10578.0, :f => 15.0, :noise_term => (price = [10.0, 10.0, 10.0, 10.0, 10.0, 10.0, 10.0, 10.0, 10.0, 10.0  …  10.0, 10.0, 10.0, 10.0, 10.0, 10.0, 10.0, 10.0, 10.0, 10.0], fill = 15)…), Dict(:b => [35.0 50.0 … 50.0 50.0; 0.0 0.0 … 0.0 0.0; 0.0 0.0 … 0.0 0.0], :w => [15.0 0.0 … 0.0 0.0; 0.0 0.0 … 0.0 0.0; 0.0 0.0 … 0.0 0.0], :bellman_term => 45264.000000000015, :node_index => 5, :objective_state => nothing, :belief => Dict(5 => 1.0), :x => SDDP.State{Float64}[SDDP.State{Float64}(50.0, 50.0) SDDP.State{Float64}(50.0, 50.0) … SDDP.State{Float64}(50.0, 50.0) SDDP.State{Float64}(50.0, 50.0); SDDP.State{Float64}(50.0, 50.0) SDDP.State{Float64}(50.0, 50.0) … SDDP.State{Float64}(50.0, 50.0) SDDP.State{Float64}(50.0, 50.0); SDDP.State{Float64}(50.0, 50.0) SDDP.State{Float64}(50.0, 50.0) … SDDP.State{Float64}(50.0, 50.0) SDDP.State{Float64}(50.0, 50.0); SDDP.State{Float64}(50.0, 50.0) SDDP.State{Float64}(50.0, 50.0) … SDDP.State{Float64}(50.0, 50.0) SDDP.State{Float64}(50.0, 50.0)], :stage_objective => 10578.0, :f => 15.0, :noise_term => (price = [10.0, 10.0, 10.0, 10.0, 10.0, 10.0, 10.0, 10.0, 10.0, 10.0  …  10.0, 10.0, 10.0, 10.0, 10.0, 10.0, 10.0, 10.0, 10.0, 10.0], fill = 15)…), Dict(:b => [0.0 0.0 … 0.0 0.0; 40.0 50.0 … 50.0 50.0; 0.0 0.0 … 0.0 0.0], :w => [0.0 0.0 … 0.0 0.0; 10.0 0.0 … 0.0 0.0; 0.0 0.0 … 0.0 0.0], :bellman_term => 22692.000000000015, :node_index => 6, :objective_state => nothing, :belief => Dict(6 => 1.0), :x => SDDP.State{Float64}[SDDP.State{Float64}(50.0, 50.0) SDDP.State{Float64}(50.0, 50.0) … SDDP.State{Float64}(50.0, 50.0) SDDP.State{Float64}(50.0, 50.0); SDDP.State{Float64}(50.0, 50.0) SDDP.State{Float64}(50.0, 50.0) … SDDP.State{Float64}(50.0, 50.0) SDDP.State{Float64}(50.0, 50.0); SDDP.State{Float64}(50.0, 50.0) SDDP.State{Float64}(50.0, 50.0) … SDDP.State{Float64}(50.0, 50.0) SDDP.State{Float64}(50.0, 50.0); SDDP.State{Float64}(50.0, 50.0) SDDP.State{Float64}(50.0, 50.0) … SDDP.State{Float64}(50.0, 50.0) SDDP.State{Float64}(50.0, 50.0)], :stage_objective => 22572.0, :f => 10.0, :noise_term => (price = [20.0, 20.0, 20.0, 20.0, 20.0, 20.0, 20.0, 20.0, 20.0, 20.0  …  20.0, 20.0, 20.0, 20.0, 20.0, 20.0, 20.0, 20.0, 20.0, 20.0], fill = 10)…), Dict(:b => [0.0 0.0 … 0.0 0.0; 50.0 50.0 … 0.0 0.0; 0.0 0.0 … 0.0 0.0], :w => [0.0 0.0 … 0.0 0.0; 0.0 0.0 … 50.0 50.0; 0.0 0.0 … 0.0 0.0], :bellman_term => 0.0, :node_index => 7, :objective_state => nothing, :belief => Dict(7 => 1.0), :x => SDDP.State{Float64}[SDDP.State{Float64}(50.0, 0.0) SDDP.State{Float64}(50.0, 0.0) … SDDP.State{Float64}(50.0, 0.0) SDDP.State{Float64}(50.0, 0.0); SDDP.State{Float64}(50.0, 0.0) SDDP.State{Float64}(50.0, 0.0) … SDDP.State{Float64}(50.0, 0.0) SDDP.State{Float64}(50.0, 0.0); SDDP.State{Float64}(50.0, 50.0) SDDP.State{Float64}(50.0, 50.0) … SDDP.State{Float64}(50.0, 50.0) SDDP.State{Float64}(50.0, 50.0); SDDP.State{Float64}(50.0, 50.0) SDDP.State{Float64}(50.0, 50.0) … SDDP.State{Float64}(50.0, 50.0) SDDP.State{Float64}(50.0, 50.0)], :stage_objective => 22692.0, :f => 10.0, :noise_term => (price = [20.0, 20.0, 20.0, 20.0, 20.0, 20.0, 20.0, 20.0, 20.0, 20.0  …  20.0, 20.0, 20.0, 20.0, 20.0, 20.0, 20.0, 20.0, 20.0, 20.0], fill = 10)…)]\n",
       " ⋮\n",
       " [Dict(:b => [0.0 0.0 … 0.0 0.0; 0.0 0.0 … 0.0 0.0; 0.0 0.0 … 0.0 0.0], :w => [0.0 0.0 … 0.0 0.0; 0.0 0.0 … 0.0 0.0; 0.0 0.0 … 0.0 0.0], :bellman_term => 135527.99999999983, :node_index => 1, :objective_state => nothing, :belief => Dict(1 => 1.0), :x => SDDP.State{Float64}[SDDP.State{Float64}(0.0, 50.0) SDDP.State{Float64}(0.0, 50.0) … SDDP.State{Float64}(0.0, 50.0) SDDP.State{Float64}(0.0, 50.0); SDDP.State{Float64}(0.0, 50.0) SDDP.State{Float64}(0.0, 50.0) … SDDP.State{Float64}(0.0, 50.0) SDDP.State{Float64}(0.0, 50.0); SDDP.State{Float64}(0.0, 50.0) SDDP.State{Float64}(0.0, 50.0) … SDDP.State{Float64}(0.0, 50.0) SDDP.State{Float64}(0.0, 50.0); SDDP.State{Float64}(0.0, 50.0) SDDP.State{Float64}(0.0, 50.0) … SDDP.State{Float64}(0.0, 50.0) SDDP.State{Float64}(0.0, 50.0)], :stage_objective => 0, :f => 0.0, :noise_term => nothing…), Dict(:b => [50.0 50.0 … 50.0 50.0; 0.0 0.0 … 0.0 0.0; 0.0 0.0 … 0.0 0.0], :w => [0.0 0.0 … 0.0 0.0; 0.0 0.0 … 0.0 0.0; 0.0 0.0 … 0.0 0.0], :bellman_term => 112973.99999999996, :node_index => 2, :objective_state => nothing, :belief => Dict(2 => 1.0), :x => SDDP.State{Float64}[SDDP.State{Float64}(50.0, 50.0) SDDP.State{Float64}(50.0, 50.0) … SDDP.State{Float64}(50.0, 50.0) SDDP.State{Float64}(50.0, 50.0); SDDP.State{Float64}(50.0, 50.0) SDDP.State{Float64}(50.0, 50.0) … SDDP.State{Float64}(50.0, 50.0) SDDP.State{Float64}(50.0, 50.0); SDDP.State{Float64}(50.0, 50.0) SDDP.State{Float64}(50.0, 50.0) … SDDP.State{Float64}(50.0, 50.0) SDDP.State{Float64}(50.0, 50.0); SDDP.State{Float64}(50.0, 50.0) SDDP.State{Float64}(50.0, 50.0) … SDDP.State{Float64}(50.0, 50.0) SDDP.State{Float64}(50.0, 50.0)], :stage_objective => 10560.0, :f => 15.0, :noise_term => (price = [10.0, 10.0, 10.0, 10.0, 10.0, 10.0, 10.0, 10.0, 10.0, 10.0  …  10.0, 10.0, 10.0, 10.0, 10.0, 10.0, 10.0, 10.0, 10.0, 10.0], fill = 15)…), Dict(:b => [0.0 0.0 … 0.0 0.0; 0.0 0.0 … 0.0 0.0; 50.0 50.0 … 50.0 50.0], :w => [0.0 0.0 … 0.0 0.0; 0.0 0.0 … 0.0 0.0; 0.0 0.0 … 0.0 0.0], :bellman_term => 90407.99999999997, :node_index => 3, :objective_state => nothing, :belief => Dict(3 => 1.0), :x => SDDP.State{Float64}[SDDP.State{Float64}(50.0, 50.0) SDDP.State{Float64}(50.0, 50.0) … SDDP.State{Float64}(50.0, 50.0) SDDP.State{Float64}(50.0, 50.0); SDDP.State{Float64}(50.0, 50.0) SDDP.State{Float64}(50.0, 50.0) … SDDP.State{Float64}(50.0, 50.0) SDDP.State{Float64}(50.0, 50.0); SDDP.State{Float64}(50.0, 50.0) SDDP.State{Float64}(50.0, 50.0) … SDDP.State{Float64}(50.0, 50.0) SDDP.State{Float64}(50.0, 50.0); SDDP.State{Float64}(50.0, 50.0) SDDP.State{Float64}(50.0, 50.0) … SDDP.State{Float64}(50.0, 50.0) SDDP.State{Float64}(50.0, 50.0)], :stage_objective => 34560.0, :f => 5.0, :noise_term => (price = [30.0, 30.0, 30.0, 30.0, 30.0, 30.0, 30.0, 30.0, 30.0, 30.0  …  30.0, 30.0, 30.0, 30.0, 30.0, 30.0, 30.0, 30.0, 30.0, 30.0], fill = 5)…), Dict(:b => [0.0 0.0 … 0.0 0.0; 40.0 50.0 … 50.0 50.0; 0.0 0.0 … 0.0 0.0], :w => [0.0 0.0 … 0.0 0.0; 10.0 0.0 … 0.0 0.0; 0.0 0.0 … 0.0 0.0], :bellman_term => 67835.99999999999, :node_index => 4, :objective_state => nothing, :belief => Dict(4 => 1.0), :x => SDDP.State{Float64}[SDDP.State{Float64}(50.0, 50.0) SDDP.State{Float64}(50.0, 50.0) … SDDP.State{Float64}(50.0, 50.0) SDDP.State{Float64}(50.0, 50.0); SDDP.State{Float64}(50.0, 50.0) SDDP.State{Float64}(50.0, 50.0) … SDDP.State{Float64}(50.0, 50.0) SDDP.State{Float64}(50.0, 50.0); SDDP.State{Float64}(50.0, 50.0) SDDP.State{Float64}(50.0, 50.0) … SDDP.State{Float64}(50.0, 50.0) SDDP.State{Float64}(50.0, 50.0); SDDP.State{Float64}(50.0, 50.0) SDDP.State{Float64}(50.0, 50.0) … SDDP.State{Float64}(50.0, 50.0) SDDP.State{Float64}(50.0, 50.0)], :stage_objective => 22572.0, :f => 10.0, :noise_term => (price = [20.0, 20.0, 20.0, 20.0, 20.0, 20.0, 20.0, 20.0, 20.0, 20.0  …  20.0, 20.0, 20.0, 20.0, 20.0, 20.0, 20.0, 20.0, 20.0, 20.0], fill = 10)…), Dict(:b => [35.0 50.0 … 50.0 50.0; 0.0 0.0 … 0.0 0.0; 0.0 0.0 … 0.0 0.0], :w => [15.0 0.0 … 0.0 0.0; 0.0 0.0 … 0.0 0.0; 0.0 0.0 … 0.0 0.0], :bellman_term => 45263.999999999956, :node_index => 5, :objective_state => nothing, :belief => Dict(5 => 1.0), :x => SDDP.State{Float64}[SDDP.State{Float64}(50.0, 50.0) SDDP.State{Float64}(50.0, 50.0) … SDDP.State{Float64}(50.0, 50.0) SDDP.State{Float64}(50.0, 50.0); SDDP.State{Float64}(50.0, 50.0) SDDP.State{Float64}(50.0, 50.0) … SDDP.State{Float64}(50.0, 50.0) SDDP.State{Float64}(50.0, 50.0); SDDP.State{Float64}(50.0, 50.0) SDDP.State{Float64}(50.0, 50.0) … SDDP.State{Float64}(50.0, 50.0) SDDP.State{Float64}(50.0, 50.0); SDDP.State{Float64}(50.0, 50.0) SDDP.State{Float64}(50.0, 50.0) … SDDP.State{Float64}(50.0, 50.0) SDDP.State{Float64}(50.0, 50.0)], :stage_objective => 10578.0, :f => 15.0, :noise_term => (price = [10.0, 10.0, 10.0, 10.0, 10.0, 10.0, 10.0, 10.0, 10.0, 10.0  …  10.0, 10.0, 10.0, 10.0, 10.0, 10.0, 10.0, 10.0, 10.0, 10.0], fill = 15)…), Dict(:b => [0.0 0.0 … 0.0 0.0; 40.0 50.0 … 50.0 50.0; 0.0 0.0 … 0.0 0.0], :w => [0.0 0.0 … 0.0 0.0; 10.0 0.0 … 0.0 0.0; 0.0 0.0 … 0.0 0.0], :bellman_term => 22691.999999999993, :node_index => 6, :objective_state => nothing, :belief => Dict(6 => 1.0), :x => SDDP.State{Float64}[SDDP.State{Float64}(50.0, 50.0) SDDP.State{Float64}(50.0, 50.0) … SDDP.State{Float64}(50.0, 50.0) SDDP.State{Float64}(50.0, 50.0); SDDP.State{Float64}(50.0, 50.0) SDDP.State{Float64}(50.0, 50.0) … SDDP.State{Float64}(50.0, 50.0) SDDP.State{Float64}(50.0, 50.0); SDDP.State{Float64}(50.0, 50.0) SDDP.State{Float64}(50.0, 50.0) … SDDP.State{Float64}(50.0, 50.0) SDDP.State{Float64}(50.0, 50.0); SDDP.State{Float64}(50.0, 50.0) SDDP.State{Float64}(50.0, 50.0) … SDDP.State{Float64}(50.0, 50.0) SDDP.State{Float64}(50.0, 50.0)], :stage_objective => 22572.0, :f => 10.0, :noise_term => (price = [20.0, 20.0, 20.0, 20.0, 20.0, 20.0, 20.0, 20.0, 20.0, 20.0  …  20.0, 20.0, 20.0, 20.0, 20.0, 20.0, 20.0, 20.0, 20.0, 20.0], fill = 10)…), Dict(:b => [0.0 0.0 … 0.0 0.0; 50.0 50.0 … 0.0 0.0; 0.0 0.0 … 0.0 0.0], :w => [0.0 0.0 … 0.0 0.0; 0.0 0.0 … 50.0 50.0; 0.0 0.0 … 0.0 0.0], :bellman_term => 0.0, :node_index => 7, :objective_state => nothing, :belief => Dict(7 => 1.0), :x => SDDP.State{Float64}[SDDP.State{Float64}(50.0, 0.0) SDDP.State{Float64}(50.0, 0.0) … SDDP.State{Float64}(50.0, 0.0) SDDP.State{Float64}(50.0, 0.0); SDDP.State{Float64}(50.0, 0.0) SDDP.State{Float64}(50.0, 0.0) … SDDP.State{Float64}(50.0, 0.0) SDDP.State{Float64}(50.0, 0.0); SDDP.State{Float64}(50.0, 50.0) SDDP.State{Float64}(50.0, 50.0) … SDDP.State{Float64}(50.0, 50.0) SDDP.State{Float64}(50.0, 50.0); SDDP.State{Float64}(50.0, 50.0) SDDP.State{Float64}(50.0, 50.0) … SDDP.State{Float64}(50.0, 50.0) SDDP.State{Float64}(50.0, 50.0)], :stage_objective => 22692.0, :f => 10.0, :noise_term => (price = [20.0, 20.0, 20.0, 20.0, 20.0, 20.0, 20.0, 20.0, 20.0, 20.0  …  20.0, 20.0, 20.0, 20.0, 20.0, 20.0, 20.0, 20.0, 20.0, 20.0], fill = 10)…)]\n",
       " [Dict(:b => [0.0 0.0 … 0.0 0.0; 0.0 0.0 … 0.0 0.0; 0.0 0.0 … 0.0 0.0], :w => [0.0 0.0 … 0.0 0.0; 0.0 0.0 … 0.0 0.0; 0.0 0.0 … 0.0 0.0], :bellman_term => 135527.99999999983, :node_index => 1, :objective_state => nothing, :belief => Dict(1 => 1.0), :x => SDDP.State{Float64}[SDDP.State{Float64}(0.0, 50.0) SDDP.State{Float64}(0.0, 50.0) … SDDP.State{Float64}(0.0, 50.0) SDDP.State{Float64}(0.0, 50.0); SDDP.State{Float64}(0.0, 50.0) SDDP.State{Float64}(0.0, 50.0) … SDDP.State{Float64}(0.0, 50.0) SDDP.State{Float64}(0.0, 50.0); SDDP.State{Float64}(0.0, 50.0) SDDP.State{Float64}(0.0, 50.0) … SDDP.State{Float64}(0.0, 50.0) SDDP.State{Float64}(0.0, 50.0); SDDP.State{Float64}(0.0, 50.0) SDDP.State{Float64}(0.0, 50.0) … SDDP.State{Float64}(0.0, 50.0) SDDP.State{Float64}(0.0, 50.0)], :stage_objective => 0, :f => 0.0, :noise_term => nothing…), Dict(:b => [0.0 0.0 … 0.0 0.0; 0.0 0.0 … 0.0 0.0; 50.0 50.0 … 50.0 50.0], :w => [0.0 0.0 … 0.0 0.0; 0.0 0.0 … 0.0 0.0; 0.0 0.0 … 0.0 0.0], :bellman_term => 112961.99999999994, :node_index => 2, :objective_state => nothing, :belief => Dict(2 => 1.0), :x => SDDP.State{Float64}[SDDP.State{Float64}(50.0, 50.0) SDDP.State{Float64}(50.0, 50.0) … SDDP.State{Float64}(50.0, 50.0) SDDP.State{Float64}(50.0, 50.0); SDDP.State{Float64}(50.0, 50.0) SDDP.State{Float64}(50.0, 50.0) … SDDP.State{Float64}(50.0, 50.0) SDDP.State{Float64}(50.0, 50.0); SDDP.State{Float64}(50.0, 50.0) SDDP.State{Float64}(50.0, 50.0) … SDDP.State{Float64}(50.0, 50.0) SDDP.State{Float64}(50.0, 50.0); SDDP.State{Float64}(50.0, 50.0) SDDP.State{Float64}(50.0, 50.0) … SDDP.State{Float64}(50.0, 50.0) SDDP.State{Float64}(50.0, 50.0)], :stage_objective => 34560.0, :f => 5.0, :noise_term => (price = [30.0, 30.0, 30.0, 30.0, 30.0, 30.0, 30.0, 30.0, 30.0, 30.0  …  30.0, 30.0, 30.0, 30.0, 30.0, 30.0, 30.0, 30.0, 30.0, 30.0], fill = 5)…), Dict(:b => [0.0 0.0 … 0.0 0.0; 0.0 0.0 … 0.0 0.0; 50.0 50.0 … 50.0 50.0], :w => [0.0 0.0 … 0.0 0.0; 0.0 0.0 … 0.0 0.0; 0.0 0.0 … 0.0 0.0], :bellman_term => 90395.99999999997, :node_index => 3, :objective_state => nothing, :belief => Dict(3 => 1.0), :x => SDDP.State{Float64}[SDDP.State{Float64}(50.0, 50.0) SDDP.State{Float64}(50.0, 50.0) … SDDP.State{Float64}(50.0, 50.0) SDDP.State{Float64}(50.0, 50.0); SDDP.State{Float64}(50.0, 50.0) SDDP.State{Float64}(50.0, 50.0) … SDDP.State{Float64}(50.0, 50.0) SDDP.State{Float64}(50.0, 50.0); SDDP.State{Float64}(50.0, 50.0) SDDP.State{Float64}(50.0, 50.0) … SDDP.State{Float64}(50.0, 50.0) SDDP.State{Float64}(50.0, 50.0); SDDP.State{Float64}(50.0, 50.0) SDDP.State{Float64}(50.0, 50.0) … SDDP.State{Float64}(50.0, 50.0) SDDP.State{Float64}(50.0, 50.0)], :stage_objective => 34560.0, :f => 5.0, :noise_term => (price = [30.0, 30.0, 30.0, 30.0, 30.0, 30.0, 30.0, 30.0, 30.0, 30.0  …  30.0, 30.0, 30.0, 30.0, 30.0, 30.0, 30.0, 30.0, 30.0, 30.0], fill = 5)…), Dict(:b => [45.0 50.0 … 50.0 50.0; 0.0 0.0 … 0.0 0.0; 0.0 0.0 … 0.0 0.0], :w => [5.0 0.0 … 0.0 0.0; 0.0 0.0 … 0.0 0.0; 0.0 0.0 … 0.0 0.0], :bellman_term => 67835.99999999999, :node_index => 4, :objective_state => nothing, :belief => Dict(4 => 1.0), :x => SDDP.State{Float64}[SDDP.State{Float64}(50.0, 50.0) SDDP.State{Float64}(50.0, 50.0) … SDDP.State{Float64}(50.0, 50.0) SDDP.State{Float64}(50.0, 50.0); SDDP.State{Float64}(50.0, 50.0) SDDP.State{Float64}(50.0, 50.0) … SDDP.State{Float64}(50.0, 50.0) SDDP.State{Float64}(50.0, 50.0); SDDP.State{Float64}(50.0, 50.0) SDDP.State{Float64}(50.0, 50.0) … SDDP.State{Float64}(50.0, 50.0) SDDP.State{Float64}(50.0, 50.0); SDDP.State{Float64}(50.0, 50.0) SDDP.State{Float64}(50.0, 50.0) … SDDP.State{Float64}(50.0, 50.0) SDDP.State{Float64}(50.0, 50.0)], :stage_objective => 10566.0, :f => 15.0, :noise_term => (price = [10.0, 10.0, 10.0, 10.0, 10.0, 10.0, 10.0, 10.0, 10.0, 10.0  …  10.0, 10.0, 10.0, 10.0, 10.0, 10.0, 10.0, 10.0, 10.0, 10.0], fill = 15)…), Dict(:b => [0.0 0.0 … 0.0 0.0; 40.0 50.0 … 50.0 50.0; 0.0 0.0 … 0.0 0.0], :w => [0.0 0.0 … 0.0 0.0; 10.0 0.0 … 0.0 0.0; 0.0 0.0 … 0.0 0.0], :bellman_term => 45264.000000000015, :node_index => 5, :objective_state => nothing, :belief => Dict(5 => 1.0), :x => SDDP.State{Float64}[SDDP.State{Float64}(50.0, 50.0) SDDP.State{Float64}(50.0, 50.0) … SDDP.State{Float64}(50.0, 50.0) SDDP.State{Float64}(50.0, 50.0); SDDP.State{Float64}(50.0, 50.0) SDDP.State{Float64}(50.0, 50.0) … SDDP.State{Float64}(50.0, 50.0) SDDP.State{Float64}(50.0, 50.0); SDDP.State{Float64}(50.0, 50.0) SDDP.State{Float64}(50.0, 50.0) … SDDP.State{Float64}(50.0, 50.0) SDDP.State{Float64}(50.0, 50.0); SDDP.State{Float64}(50.0, 50.0) SDDP.State{Float64}(50.0, 50.0) … SDDP.State{Float64}(50.0, 50.0) SDDP.State{Float64}(50.0, 50.0)], :stage_objective => 22572.0, :f => 10.0, :noise_term => (price = [20.0, 20.0, 20.0, 20.0, 20.0, 20.0, 20.0, 20.0, 20.0, 20.0  …  20.0, 20.0, 20.0, 20.0, 20.0, 20.0, 20.0, 20.0, 20.0, 20.0], fill = 10)…), Dict(:b => [35.0 50.0 … 50.0 50.0; 0.0 0.0 … 0.0 0.0; 0.0 0.0 … 0.0 0.0], :w => [15.0 0.0 … 0.0 0.0; 0.0 0.0 … 0.0 0.0; 0.0 0.0 … 0.0 0.0], :bellman_term => 22691.999999999993, :node_index => 6, :objective_state => nothing, :belief => Dict(6 => 1.0), :x => SDDP.State{Float64}[SDDP.State{Float64}(50.0, 50.0) SDDP.State{Float64}(50.0, 50.0) … SDDP.State{Float64}(50.0, 50.0) SDDP.State{Float64}(50.0, 50.0); SDDP.State{Float64}(50.0, 50.0) SDDP.State{Float64}(50.0, 50.0) … SDDP.State{Float64}(50.0, 50.0) SDDP.State{Float64}(50.0, 50.0); SDDP.State{Float64}(50.0, 50.0) SDDP.State{Float64}(50.0, 50.0) … SDDP.State{Float64}(50.0, 50.0) SDDP.State{Float64}(50.0, 50.0); SDDP.State{Float64}(50.0, 50.0) SDDP.State{Float64}(50.0, 50.0) … SDDP.State{Float64}(50.0, 50.0) SDDP.State{Float64}(50.0, 50.0)], :stage_objective => 10578.0, :f => 15.0, :noise_term => (price = [10.0, 10.0, 10.0, 10.0, 10.0, 10.0, 10.0, 10.0, 10.0, 10.0  …  10.0, 10.0, 10.0, 10.0, 10.0, 10.0, 10.0, 10.0, 10.0, 10.0], fill = 15)…), Dict(:b => [0.0 0.0 … 0.0 0.0; 50.0 50.0 … 0.0 0.0; 0.0 0.0 … 0.0 0.0], :w => [0.0 0.0 … 0.0 0.0; 0.0 0.0 … 50.0 50.0; 0.0 0.0 … 0.0 0.0], :bellman_term => 0.0, :node_index => 7, :objective_state => nothing, :belief => Dict(7 => 1.0), :x => SDDP.State{Float64}[SDDP.State{Float64}(50.0, 0.0) SDDP.State{Float64}(50.0, 0.0) … SDDP.State{Float64}(50.0, 0.0) SDDP.State{Float64}(50.0, 0.0); SDDP.State{Float64}(50.0, 0.0) SDDP.State{Float64}(50.0, 0.0) … SDDP.State{Float64}(50.0, 0.0) SDDP.State{Float64}(50.0, 0.0); SDDP.State{Float64}(50.0, 50.0) SDDP.State{Float64}(50.0, 50.0) … SDDP.State{Float64}(50.0, 50.0) SDDP.State{Float64}(50.0, 50.0); SDDP.State{Float64}(50.0, 50.0) SDDP.State{Float64}(50.0, 50.0) … SDDP.State{Float64}(50.0, 50.0) SDDP.State{Float64}(50.0, 50.0)], :stage_objective => 22692.0, :f => 10.0, :noise_term => (price = [20.0, 20.0, 20.0, 20.0, 20.0, 20.0, 20.0, 20.0, 20.0, 20.0  …  20.0, 20.0, 20.0, 20.0, 20.0, 20.0, 20.0, 20.0, 20.0, 20.0], fill = 10)…)]\n",
       " [Dict(:b => [0.0 0.0 … 0.0 0.0; 0.0 0.0 … 0.0 0.0; 0.0 0.0 … 0.0 0.0], :w => [0.0 0.0 … 0.0 0.0; 0.0 0.0 … 0.0 0.0; 0.0 0.0 … 0.0 0.0], :bellman_term => 135527.99999999983, :node_index => 1, :objective_state => nothing, :belief => Dict(1 => 1.0), :x => SDDP.State{Float64}[SDDP.State{Float64}(0.0, 50.0) SDDP.State{Float64}(0.0, 50.0) … SDDP.State{Float64}(0.0, 50.0) SDDP.State{Float64}(0.0, 50.0); SDDP.State{Float64}(0.0, 50.0) SDDP.State{Float64}(0.0, 50.0) … SDDP.State{Float64}(0.0, 50.0) SDDP.State{Float64}(0.0, 50.0); SDDP.State{Float64}(0.0, 50.0) SDDP.State{Float64}(0.0, 50.0) … SDDP.State{Float64}(0.0, 50.0) SDDP.State{Float64}(0.0, 50.0); SDDP.State{Float64}(0.0, 50.0) SDDP.State{Float64}(0.0, 50.0) … SDDP.State{Float64}(0.0, 50.0) SDDP.State{Float64}(0.0, 50.0)], :stage_objective => 0, :f => 0.0, :noise_term => nothing…), Dict(:b => [0.0 0.0 … 0.0 0.0; 0.0 0.0 … 0.0 0.0; 50.0 50.0 … 50.0 50.0], :w => [0.0 0.0 … 0.0 0.0; 0.0 0.0 … 0.0 0.0; 0.0 0.0 … 0.0 0.0], :bellman_term => 112961.99999999994, :node_index => 2, :objective_state => nothing, :belief => Dict(2 => 1.0), :x => SDDP.State{Float64}[SDDP.State{Float64}(50.0, 50.0) SDDP.State{Float64}(50.0, 50.0) … SDDP.State{Float64}(50.0, 50.0) SDDP.State{Float64}(50.0, 50.0); SDDP.State{Float64}(50.0, 50.0) SDDP.State{Float64}(50.0, 50.0) … SDDP.State{Float64}(50.0, 50.0) SDDP.State{Float64}(50.0, 50.0); SDDP.State{Float64}(50.0, 50.0) SDDP.State{Float64}(50.0, 50.0) … SDDP.State{Float64}(50.0, 50.0) SDDP.State{Float64}(50.0, 50.0); SDDP.State{Float64}(50.0, 50.0) SDDP.State{Float64}(50.0, 50.0) … SDDP.State{Float64}(50.0, 50.0) SDDP.State{Float64}(50.0, 50.0)], :stage_objective => 34560.0, :f => 5.0, :noise_term => (price = [30.0, 30.0, 30.0, 30.0, 30.0, 30.0, 30.0, 30.0, 30.0, 30.0  …  30.0, 30.0, 30.0, 30.0, 30.0, 30.0, 30.0, 30.0, 30.0, 30.0], fill = 5)…), Dict(:b => [0.0 0.0 … 0.0 0.0; 0.0 0.0 … 0.0 0.0; 50.0 50.0 … 50.0 50.0], :w => [0.0 0.0 … 0.0 0.0; 0.0 0.0 … 0.0 0.0; 0.0 0.0 … 0.0 0.0], :bellman_term => 90395.99999999997, :node_index => 3, :objective_state => nothing, :belief => Dict(3 => 1.0), :x => SDDP.State{Float64}[SDDP.State{Float64}(50.0, 50.0) SDDP.State{Float64}(50.0, 50.0) … SDDP.State{Float64}(50.0, 50.0) SDDP.State{Float64}(50.0, 50.0); SDDP.State{Float64}(50.0, 50.0) SDDP.State{Float64}(50.0, 50.0) … SDDP.State{Float64}(50.0, 50.0) SDDP.State{Float64}(50.0, 50.0); SDDP.State{Float64}(50.0, 50.0) SDDP.State{Float64}(50.0, 50.0) … SDDP.State{Float64}(50.0, 50.0) SDDP.State{Float64}(50.0, 50.0); SDDP.State{Float64}(50.0, 50.0) SDDP.State{Float64}(50.0, 50.0) … SDDP.State{Float64}(50.0, 50.0) SDDP.State{Float64}(50.0, 50.0)], :stage_objective => 34560.0, :f => 5.0, :noise_term => (price = [30.0, 30.0, 30.0, 30.0, 30.0, 30.0, 30.0, 30.0, 30.0, 30.0  …  30.0, 30.0, 30.0, 30.0, 30.0, 30.0, 30.0, 30.0, 30.0, 30.0], fill = 5)…), Dict(:b => [0.0 0.0 … 0.0 0.0; 50.0 50.0 … 50.0 50.0; 0.0 0.0 … 0.0 0.0], :w => [0.0 0.0 … 0.0 0.0; 0.0 0.0 … 0.0 0.0; 0.0 0.0 … 0.0 0.0], :bellman_term => 67835.99999999999, :node_index => 4, :objective_state => nothing, :belief => Dict(4 => 1.0), :x => SDDP.State{Float64}[SDDP.State{Float64}(50.0, 50.0) SDDP.State{Float64}(50.0, 50.0) … SDDP.State{Float64}(50.0, 50.0) SDDP.State{Float64}(50.0, 50.0); SDDP.State{Float64}(50.0, 50.0) SDDP.State{Float64}(50.0, 50.0) … SDDP.State{Float64}(50.0, 50.0) SDDP.State{Float64}(50.0, 50.0); SDDP.State{Float64}(50.0, 50.0) SDDP.State{Float64}(50.0, 50.0) … SDDP.State{Float64}(50.0, 50.0) SDDP.State{Float64}(50.0, 50.0); SDDP.State{Float64}(50.0, 50.0) SDDP.State{Float64}(50.0, 50.0) … SDDP.State{Float64}(50.0, 50.0) SDDP.State{Float64}(50.0, 50.0)], :stage_objective => 22560.0, :f => 10.0, :noise_term => (price = [20.0, 20.0, 20.0, 20.0, 20.0, 20.0, 20.0, 20.0, 20.0, 20.0  …  20.0, 20.0, 20.0, 20.0, 20.0, 20.0, 20.0, 20.0, 20.0, 20.0], fill = 10)…), Dict(:b => [0.0 0.0 … 0.0 0.0; 0.0 0.0 … 0.0 0.0; 45.0 50.0 … 50.0 50.0], :w => [0.0 0.0 … 0.0 0.0; 0.0 0.0 … 0.0 0.0; 5.0 0.0 … 0.0 0.0], :bellman_term => 45264.000000000015, :node_index => 5, :objective_state => nothing, :belief => Dict(5 => 1.0), :x => SDDP.State{Float64}[SDDP.State{Float64}(50.0, 50.0) SDDP.State{Float64}(50.0, 50.0) … SDDP.State{Float64}(50.0, 50.0) SDDP.State{Float64}(50.0, 50.0); SDDP.State{Float64}(50.0, 50.0) SDDP.State{Float64}(50.0, 50.0) … SDDP.State{Float64}(50.0, 50.0) SDDP.State{Float64}(50.0, 50.0); SDDP.State{Float64}(50.0, 50.0) SDDP.State{Float64}(50.0, 50.0) … SDDP.State{Float64}(50.0, 50.0) SDDP.State{Float64}(50.0, 50.0); SDDP.State{Float64}(50.0, 50.0) SDDP.State{Float64}(50.0, 50.0) … SDDP.State{Float64}(50.0, 50.0) SDDP.State{Float64}(50.0, 50.0)], :stage_objective => 34566.0, :f => 5.0, :noise_term => (price = [30.0, 30.0, 30.0, 30.0, 30.0, 30.0, 30.0, 30.0, 30.0, 30.0  …  30.0, 30.0, 30.0, 30.0, 30.0, 30.0, 30.0, 30.0, 30.0, 30.0], fill = 5)…), Dict(:b => [0.0 0.0 … 0.0 0.0; 40.0 50.0 … 50.0 50.0; 0.0 0.0 … 0.0 0.0], :w => [0.0 0.0 … 0.0 0.0; 10.0 0.0 … 0.0 0.0; 0.0 0.0 … 0.0 0.0], :bellman_term => 22691.999999999993, :node_index => 6, :objective_state => nothing, :belief => Dict(6 => 1.0), :x => SDDP.State{Float64}[SDDP.State{Float64}(50.0, 50.0) SDDP.State{Float64}(50.0, 50.0) … SDDP.State{Float64}(50.0, 50.0) SDDP.State{Float64}(50.0, 50.0); SDDP.State{Float64}(50.0, 50.0) SDDP.State{Float64}(50.0, 50.0) … SDDP.State{Float64}(50.0, 50.0) SDDP.State{Float64}(50.0, 50.0); SDDP.State{Float64}(50.0, 50.0) SDDP.State{Float64}(50.0, 50.0) … SDDP.State{Float64}(50.0, 50.0) SDDP.State{Float64}(50.0, 50.0); SDDP.State{Float64}(50.0, 50.0) SDDP.State{Float64}(50.0, 50.0) … SDDP.State{Float64}(50.0, 50.0) SDDP.State{Float64}(50.0, 50.0)], :stage_objective => 22572.0, :f => 10.0, :noise_term => (price = [20.0, 20.0, 20.0, 20.0, 20.0, 20.0, 20.0, 20.0, 20.0, 20.0  …  20.0, 20.0, 20.0, 20.0, 20.0, 20.0, 20.0, 20.0, 20.0, 20.0], fill = 10)…), Dict(:b => [0.0 0.0 … 0.0 0.0; 0.0 0.0 … 0.0 0.0; 50.0 50.0 … 0.0 0.0], :w => [0.0 0.0 … 0.0 0.0; 0.0 0.0 … 0.0 0.0; 0.0 0.0 … 50.0 50.0], :bellman_term => 0.0, :node_index => 7, :objective_state => nothing, :belief => Dict(7 => 1.0), :x => SDDP.State{Float64}[SDDP.State{Float64}(50.0, 0.0) SDDP.State{Float64}(50.0, 0.0) … SDDP.State{Float64}(50.0, 0.0) SDDP.State{Float64}(50.0, 0.0); SDDP.State{Float64}(50.0, 0.0) SDDP.State{Float64}(50.0, 0.0) … SDDP.State{Float64}(50.0, 0.0) SDDP.State{Float64}(50.0, 0.0); SDDP.State{Float64}(50.0, 50.0) SDDP.State{Float64}(50.0, 50.0) … SDDP.State{Float64}(50.0, 50.0) SDDP.State{Float64}(50.0, 50.0); SDDP.State{Float64}(50.0, 50.0) SDDP.State{Float64}(50.0, 50.0) … SDDP.State{Float64}(50.0, 50.0) SDDP.State{Float64}(50.0, 50.0)], :stage_objective => 34686.0, :f => 5.0, :noise_term => (price = [30.0, 30.0, 30.0, 30.0, 30.0, 30.0, 30.0, 30.0, 30.0, 30.0  …  30.0, 30.0, 30.0, 30.0, 30.0, 30.0, 30.0, 30.0, 30.0, 30.0], fill = 5)…)]\n",
       " [Dict(:b => [0.0 0.0 … 0.0 0.0; 0.0 0.0 … 0.0 0.0; 0.0 0.0 … 0.0 0.0], :w => [0.0 0.0 … 0.0 0.0; 0.0 0.0 … 0.0 0.0; 0.0 0.0 … 0.0 0.0], :bellman_term => 135527.99999999983, :node_index => 1, :objective_state => nothing, :belief => Dict(1 => 1.0), :x => SDDP.State{Float64}[SDDP.State{Float64}(0.0, 50.0) SDDP.State{Float64}(0.0, 50.0) … SDDP.State{Float64}(0.0, 50.0) SDDP.State{Float64}(0.0, 50.0); SDDP.State{Float64}(0.0, 50.0) SDDP.State{Float64}(0.0, 50.0) … SDDP.State{Float64}(0.0, 50.0) SDDP.State{Float64}(0.0, 50.0); SDDP.State{Float64}(0.0, 50.0) SDDP.State{Float64}(0.0, 50.0) … SDDP.State{Float64}(0.0, 50.0) SDDP.State{Float64}(0.0, 50.0); SDDP.State{Float64}(0.0, 50.0) SDDP.State{Float64}(0.0, 50.0) … SDDP.State{Float64}(0.0, 50.0) SDDP.State{Float64}(0.0, 50.0)], :stage_objective => 0, :f => 0.0, :noise_term => nothing…), Dict(:b => [0.0 0.0 … 0.0 0.0; 50.0 50.0 … 50.0 50.0; 0.0 0.0 … 0.0 0.0], :w => [0.0 0.0 … 0.0 0.0; 0.0 0.0 … 0.0 0.0; 0.0 0.0 … 0.0 0.0], :bellman_term => 112967.99999999994, :node_index => 2, :objective_state => nothing, :belief => Dict(2 => 1.0), :x => SDDP.State{Float64}[SDDP.State{Float64}(50.0, 50.0) SDDP.State{Float64}(50.0, 50.0) … SDDP.State{Float64}(50.0, 50.0) SDDP.State{Float64}(50.0, 50.0); SDDP.State{Float64}(50.0, 50.0) SDDP.State{Float64}(50.0, 50.0) … SDDP.State{Float64}(50.0, 50.0) SDDP.State{Float64}(50.0, 50.0); SDDP.State{Float64}(50.0, 50.0) SDDP.State{Float64}(50.0, 50.0) … SDDP.State{Float64}(50.0, 50.0) SDDP.State{Float64}(50.0, 50.0); SDDP.State{Float64}(50.0, 50.0) SDDP.State{Float64}(50.0, 50.0) … SDDP.State{Float64}(50.0, 50.0) SDDP.State{Float64}(50.0, 50.0)], :stage_objective => 22560.0, :f => 10.0, :noise_term => (price = [20.0, 20.0, 20.0, 20.0, 20.0, 20.0, 20.0, 20.0, 20.0, 20.0  …  20.0, 20.0, 20.0, 20.0, 20.0, 20.0, 20.0, 20.0, 20.0, 20.0], fill = 10)…), Dict(:b => [0.0 0.0 … 0.0 0.0; 0.0 0.0 … 0.0 0.0; 50.0 50.0 … 50.0 50.0], :w => [0.0 0.0 … 0.0 0.0; 0.0 0.0 … 0.0 0.0; 0.0 0.0 … 0.0 0.0], :bellman_term => 90401.99999999997, :node_index => 3, :objective_state => nothing, :belief => Dict(3 => 1.0), :x => SDDP.State{Float64}[SDDP.State{Float64}(50.0, 50.0) SDDP.State{Float64}(50.0, 50.0) … SDDP.State{Float64}(50.0, 50.0) SDDP.State{Float64}(50.0, 50.0); SDDP.State{Float64}(50.0, 50.0) SDDP.State{Float64}(50.0, 50.0) … SDDP.State{Float64}(50.0, 50.0) SDDP.State{Float64}(50.0, 50.0); SDDP.State{Float64}(50.0, 50.0) SDDP.State{Float64}(50.0, 50.0) … SDDP.State{Float64}(50.0, 50.0) SDDP.State{Float64}(50.0, 50.0); SDDP.State{Float64}(50.0, 50.0) SDDP.State{Float64}(50.0, 50.0) … SDDP.State{Float64}(50.0, 50.0) SDDP.State{Float64}(50.0, 50.0)], :stage_objective => 34560.0, :f => 5.0, :noise_term => (price = [30.0, 30.0, 30.0, 30.0, 30.0, 30.0, 30.0, 30.0, 30.0, 30.0  …  30.0, 30.0, 30.0, 30.0, 30.0, 30.0, 30.0, 30.0, 30.0, 30.0], fill = 5)…), Dict(:b => [0.0 0.0 … 0.0 0.0; 0.0 0.0 … 0.0 0.0; 50.0 50.0 … 50.0 50.0], :w => [0.0 0.0 … 0.0 0.0; 0.0 0.0 … 0.0 0.0; 0.0 0.0 … 0.0 0.0], :bellman_term => 67835.99999999999, :node_index => 4, :objective_state => nothing, :belief => Dict(4 => 1.0), :x => SDDP.State{Float64}[SDDP.State{Float64}(50.0, 50.0) SDDP.State{Float64}(50.0, 50.0) … SDDP.State{Float64}(50.0, 50.0) SDDP.State{Float64}(50.0, 50.0); SDDP.State{Float64}(50.0, 50.0) SDDP.State{Float64}(50.0, 50.0) … SDDP.State{Float64}(50.0, 50.0) SDDP.State{Float64}(50.0, 50.0); SDDP.State{Float64}(50.0, 50.0) SDDP.State{Float64}(50.0, 50.0) … SDDP.State{Float64}(50.0, 50.0) SDDP.State{Float64}(50.0, 50.0); SDDP.State{Float64}(50.0, 50.0) SDDP.State{Float64}(50.0, 50.0) … SDDP.State{Float64}(50.0, 50.0) SDDP.State{Float64}(50.0, 50.0)], :stage_objective => 34560.0, :f => 5.0, :noise_term => (price = [30.0, 30.0, 30.0, 30.0, 30.0, 30.0, 30.0, 30.0, 30.0, 30.0  …  30.0, 30.0, 30.0, 30.0, 30.0, 30.0, 30.0, 30.0, 30.0, 30.0], fill = 5)…), Dict(:b => [35.0 50.0 … 50.0 50.0; 0.0 0.0 … 0.0 0.0; 0.0 0.0 … 0.0 0.0], :w => [15.0 0.0 … 0.0 0.0; 0.0 0.0 … 0.0 0.0; 0.0 0.0 … 0.0 0.0], :bellman_term => 45264.000000000015, :node_index => 5, :objective_state => nothing, :belief => Dict(5 => 1.0), :x => SDDP.State{Float64}[SDDP.State{Float64}(50.0, 50.0) SDDP.State{Float64}(50.0, 50.0) … SDDP.State{Float64}(50.0, 50.0) SDDP.State{Float64}(50.0, 50.0); SDDP.State{Float64}(50.0, 50.0) SDDP.State{Float64}(50.0, 50.0) … SDDP.State{Float64}(50.0, 50.0) SDDP.State{Float64}(50.0, 50.0); SDDP.State{Float64}(50.0, 50.0) SDDP.State{Float64}(50.0, 50.0) … SDDP.State{Float64}(50.0, 50.0) SDDP.State{Float64}(50.0, 50.0); SDDP.State{Float64}(50.0, 50.0) SDDP.State{Float64}(50.0, 50.0) … SDDP.State{Float64}(50.0, 50.0) SDDP.State{Float64}(50.0, 50.0)], :stage_objective => 10578.0, :f => 15.0, :noise_term => (price = [10.0, 10.0, 10.0, 10.0, 10.0, 10.0, 10.0, 10.0, 10.0, 10.0  …  10.0, 10.0, 10.0, 10.0, 10.0, 10.0, 10.0, 10.0, 10.0, 10.0], fill = 15)…), Dict(:b => [35.0 50.0 … 50.0 50.0; 0.0 0.0 … 0.0 0.0; 0.0 0.0 … 0.0 0.0], :w => [15.0 0.0 … 0.0 0.0; 0.0 0.0 … 0.0 0.0; 0.0 0.0 … 0.0 0.0], :bellman_term => 22691.999999999993, :node_index => 6, :objective_state => nothing, :belief => Dict(6 => 1.0), :x => SDDP.State{Float64}[SDDP.State{Float64}(50.0, 50.0) SDDP.State{Float64}(50.0, 50.0) … SDDP.State{Float64}(50.0, 50.0) SDDP.State{Float64}(50.0, 50.0); SDDP.State{Float64}(50.0, 50.0) SDDP.State{Float64}(50.0, 50.0) … SDDP.State{Float64}(50.0, 50.0) SDDP.State{Float64}(50.0, 50.0); SDDP.State{Float64}(50.0, 50.0) SDDP.State{Float64}(50.0, 50.0) … SDDP.State{Float64}(50.0, 50.0) SDDP.State{Float64}(50.0, 50.0); SDDP.State{Float64}(50.0, 50.0) SDDP.State{Float64}(50.0, 50.0) … SDDP.State{Float64}(50.0, 50.0) SDDP.State{Float64}(50.0, 50.0)], :stage_objective => 10578.0, :f => 15.0, :noise_term => (price = [10.0, 10.0, 10.0, 10.0, 10.0, 10.0, 10.0, 10.0, 10.0, 10.0  …  10.0, 10.0, 10.0, 10.0, 10.0, 10.0, 10.0, 10.0, 10.0, 10.0], fill = 15)…), Dict(:b => [0.0 0.0 … 0.0 0.0; 0.0 0.0 … 0.0 0.0; 50.0 50.0 … 0.0 0.0], :w => [0.0 0.0 … 0.0 0.0; 0.0 0.0 … 0.0 0.0; 0.0 0.0 … 50.0 50.0], :bellman_term => 0.0, :node_index => 7, :objective_state => nothing, :belief => Dict(7 => 1.0), :x => SDDP.State{Float64}[SDDP.State{Float64}(50.0, 0.0) SDDP.State{Float64}(50.0, 0.0) … SDDP.State{Float64}(50.0, 0.0) SDDP.State{Float64}(50.0, 0.0); SDDP.State{Float64}(50.0, 0.0) SDDP.State{Float64}(50.0, 0.0) … SDDP.State{Float64}(50.0, 0.0) SDDP.State{Float64}(50.0, 0.0); SDDP.State{Float64}(50.0, 50.0) SDDP.State{Float64}(50.0, 50.0) … SDDP.State{Float64}(50.0, 50.0) SDDP.State{Float64}(50.0, 50.0); SDDP.State{Float64}(50.0, 50.0) SDDP.State{Float64}(50.0, 50.0) … SDDP.State{Float64}(50.0, 50.0) SDDP.State{Float64}(50.0, 50.0)], :stage_objective => 34686.0, :f => 5.0, :noise_term => (price = [30.0, 30.0, 30.0, 30.0, 30.0, 30.0, 30.0, 30.0, 30.0, 30.0  …  30.0, 30.0, 30.0, 30.0, 30.0, 30.0, 30.0, 30.0, 30.0, 30.0], fill = 5)…)]\n",
       " [Dict(:b => [0.0 0.0 … 0.0 0.0; 0.0 0.0 … 0.0 0.0; 0.0 0.0 … 0.0 0.0], :w => [0.0 0.0 … 0.0 0.0; 0.0 0.0 … 0.0 0.0; 0.0 0.0 … 0.0 0.0], :bellman_term => 135527.99999999983, :node_index => 1, :objective_state => nothing, :belief => Dict(1 => 1.0), :x => SDDP.State{Float64}[SDDP.State{Float64}(0.0, 50.0) SDDP.State{Float64}(0.0, 50.0) … SDDP.State{Float64}(0.0, 50.0) SDDP.State{Float64}(0.0, 50.0); SDDP.State{Float64}(0.0, 50.0) SDDP.State{Float64}(0.0, 50.0) … SDDP.State{Float64}(0.0, 50.0) SDDP.State{Float64}(0.0, 50.0); SDDP.State{Float64}(0.0, 50.0) SDDP.State{Float64}(0.0, 50.0) … SDDP.State{Float64}(0.0, 50.0) SDDP.State{Float64}(0.0, 50.0); SDDP.State{Float64}(0.0, 50.0) SDDP.State{Float64}(0.0, 50.0) … SDDP.State{Float64}(0.0, 50.0) SDDP.State{Float64}(0.0, 50.0)], :stage_objective => 0, :f => 0.0, :noise_term => nothing…), Dict(:b => [50.0 50.0 … 50.0 50.0; 0.0 0.0 … 0.0 0.0; 0.0 0.0 … 0.0 0.0], :w => [0.0 0.0 … 0.0 0.0; 0.0 0.0 … 0.0 0.0; 0.0 0.0 … 0.0 0.0], :bellman_term => 112973.99999999996, :node_index => 2, :objective_state => nothing, :belief => Dict(2 => 1.0), :x => SDDP.State{Float64}[SDDP.State{Float64}(50.0, 50.0) SDDP.State{Float64}(50.0, 50.0) … SDDP.State{Float64}(50.0, 50.0) SDDP.State{Float64}(50.0, 50.0); SDDP.State{Float64}(50.0, 50.0) SDDP.State{Float64}(50.0, 50.0) … SDDP.State{Float64}(50.0, 50.0) SDDP.State{Float64}(50.0, 50.0); SDDP.State{Float64}(50.0, 50.0) SDDP.State{Float64}(50.0, 50.0) … SDDP.State{Float64}(50.0, 50.0) SDDP.State{Float64}(50.0, 50.0); SDDP.State{Float64}(50.0, 50.0) SDDP.State{Float64}(50.0, 50.0) … SDDP.State{Float64}(50.0, 50.0) SDDP.State{Float64}(50.0, 50.0)], :stage_objective => 10560.0, :f => 15.0, :noise_term => (price = [10.0, 10.0, 10.0, 10.0, 10.0, 10.0, 10.0, 10.0, 10.0, 10.0  …  10.0, 10.0, 10.0, 10.0, 10.0, 10.0, 10.0, 10.0, 10.0, 10.0], fill = 15)…), Dict(:b => [0.0 0.0 … 0.0 0.0; 0.0 0.0 … 0.0 0.0; 50.0 50.0 … 50.0 50.0], :w => [0.0 0.0 … 0.0 0.0; 0.0 0.0 … 0.0 0.0; 0.0 0.0 … 0.0 0.0], :bellman_term => 90407.99999999997, :node_index => 3, :objective_state => nothing, :belief => Dict(3 => 1.0), :x => SDDP.State{Float64}[SDDP.State{Float64}(50.0, 50.0) SDDP.State{Float64}(50.0, 50.0) … SDDP.State{Float64}(50.0, 50.0) SDDP.State{Float64}(50.0, 50.0); SDDP.State{Float64}(50.0, 50.0) SDDP.State{Float64}(50.0, 50.0) … SDDP.State{Float64}(50.0, 50.0) SDDP.State{Float64}(50.0, 50.0); SDDP.State{Float64}(50.0, 50.0) SDDP.State{Float64}(50.0, 50.0) … SDDP.State{Float64}(50.0, 50.0) SDDP.State{Float64}(50.0, 50.0); SDDP.State{Float64}(50.0, 50.0) SDDP.State{Float64}(50.0, 50.0) … SDDP.State{Float64}(50.0, 50.0) SDDP.State{Float64}(50.0, 50.0)], :stage_objective => 34560.0, :f => 5.0, :noise_term => (price = [30.0, 30.0, 30.0, 30.0, 30.0, 30.0, 30.0, 30.0, 30.0, 30.0  …  30.0, 30.0, 30.0, 30.0, 30.0, 30.0, 30.0, 30.0, 30.0, 30.0], fill = 5)…), Dict(:b => [35.0 50.0 … 50.0 50.0; 0.0 0.0 … 0.0 0.0; 0.0 0.0 … 0.0 0.0], :w => [15.0 0.0 … 0.0 0.0; 0.0 0.0 … 0.0 0.0; 0.0 0.0 … 0.0 0.0], :bellman_term => 67835.99999999999, :node_index => 4, :objective_state => nothing, :belief => Dict(4 => 1.0), :x => SDDP.State{Float64}[SDDP.State{Float64}(50.0, 50.0) SDDP.State{Float64}(50.0, 50.0) … SDDP.State{Float64}(50.0, 50.0) SDDP.State{Float64}(50.0, 50.0); SDDP.State{Float64}(50.0, 50.0) SDDP.State{Float64}(50.0, 50.0) … SDDP.State{Float64}(50.0, 50.0) SDDP.State{Float64}(50.0, 50.0); SDDP.State{Float64}(50.0, 50.0) SDDP.State{Float64}(50.0, 50.0) … SDDP.State{Float64}(50.0, 50.0) SDDP.State{Float64}(50.0, 50.0); SDDP.State{Float64}(50.0, 50.0) SDDP.State{Float64}(50.0, 50.0) … SDDP.State{Float64}(50.0, 50.0) SDDP.State{Float64}(50.0, 50.0)], :stage_objective => 10578.0, :f => 15.0, :noise_term => (price = [10.0, 10.0, 10.0, 10.0, 10.0, 10.0, 10.0, 10.0, 10.0, 10.0  …  10.0, 10.0, 10.0, 10.0, 10.0, 10.0, 10.0, 10.0, 10.0, 10.0], fill = 15)…), Dict(:b => [0.0 0.0 … 0.0 0.0; 40.0 50.0 … 50.0 50.0; 0.0 0.0 … 0.0 0.0], :w => [0.0 0.0 … 0.0 0.0; 10.0 0.0 … 0.0 0.0; 0.0 0.0 … 0.0 0.0], :bellman_term => 45264.000000000015, :node_index => 5, :objective_state => nothing, :belief => Dict(5 => 1.0), :x => SDDP.State{Float64}[SDDP.State{Float64}(50.0, 50.0) SDDP.State{Float64}(50.0, 50.0) … SDDP.State{Float64}(50.0, 50.0) SDDP.State{Float64}(50.0, 50.0); SDDP.State{Float64}(50.0, 50.0) SDDP.State{Float64}(50.0, 50.0) … SDDP.State{Float64}(50.0, 50.0) SDDP.State{Float64}(50.0, 50.0); SDDP.State{Float64}(50.0, 50.0) SDDP.State{Float64}(50.0, 50.0) … SDDP.State{Float64}(50.0, 50.0) SDDP.State{Float64}(50.0, 50.0); SDDP.State{Float64}(50.0, 50.0) SDDP.State{Float64}(50.0, 50.0) … SDDP.State{Float64}(50.0, 50.0) SDDP.State{Float64}(50.0, 50.0)], :stage_objective => 22572.0, :f => 10.0, :noise_term => (price = [20.0, 20.0, 20.0, 20.0, 20.0, 20.0, 20.0, 20.0, 20.0, 20.0  …  20.0, 20.0, 20.0, 20.0, 20.0, 20.0, 20.0, 20.0, 20.0, 20.0], fill = 10)…), Dict(:b => [0.0 0.0 … 0.0 0.0; 40.0 50.0 … 50.0 50.0; 0.0 0.0 … 0.0 0.0], :w => [0.0 0.0 … 0.0 0.0; 10.0 0.0 … 0.0 0.0; 0.0 0.0 … 0.0 0.0], :bellman_term => 22691.999999999993, :node_index => 6, :objective_state => nothing, :belief => Dict(6 => 1.0), :x => SDDP.State{Float64}[SDDP.State{Float64}(50.0, 50.0) SDDP.State{Float64}(50.0, 50.0) … SDDP.State{Float64}(50.0, 50.0) SDDP.State{Float64}(50.0, 50.0); SDDP.State{Float64}(50.0, 50.0) SDDP.State{Float64}(50.0, 50.0) … SDDP.State{Float64}(50.0, 50.0) SDDP.State{Float64}(50.0, 50.0); SDDP.State{Float64}(50.0, 50.0) SDDP.State{Float64}(50.0, 50.0) … SDDP.State{Float64}(50.0, 50.0) SDDP.State{Float64}(50.0, 50.0); SDDP.State{Float64}(50.0, 50.0) SDDP.State{Float64}(50.0, 50.0) … SDDP.State{Float64}(50.0, 50.0) SDDP.State{Float64}(50.0, 50.0)], :stage_objective => 22572.0, :f => 10.0, :noise_term => (price = [20.0, 20.0, 20.0, 20.0, 20.0, 20.0, 20.0, 20.0, 20.0, 20.0  …  20.0, 20.0, 20.0, 20.0, 20.0, 20.0, 20.0, 20.0, 20.0, 20.0], fill = 10)…), Dict(:b => [0.0 0.0 … 0.0 0.0; 50.0 50.0 … 0.0 0.0; 0.0 0.0 … 0.0 0.0], :w => [0.0 0.0 … 0.0 0.0; 0.0 0.0 … 50.0 50.0; 0.0 0.0 … 0.0 0.0], :bellman_term => 0.0, :node_index => 7, :objective_state => nothing, :belief => Dict(7 => 1.0), :x => SDDP.State{Float64}[SDDP.State{Float64}(50.0, 0.0) SDDP.State{Float64}(50.0, 0.0) … SDDP.State{Float64}(50.0, 0.0) SDDP.State{Float64}(50.0, 0.0); SDDP.State{Float64}(50.0, 0.0) SDDP.State{Float64}(50.0, 0.0) … SDDP.State{Float64}(50.0, 0.0) SDDP.State{Float64}(50.0, 0.0); SDDP.State{Float64}(50.0, 50.0) SDDP.State{Float64}(50.0, 50.0) … SDDP.State{Float64}(50.0, 50.0) SDDP.State{Float64}(50.0, 50.0); SDDP.State{Float64}(50.0, 50.0) SDDP.State{Float64}(50.0, 50.0) … SDDP.State{Float64}(50.0, 50.0) SDDP.State{Float64}(50.0, 50.0)], :stage_objective => 22692.0, :f => 10.0, :noise_term => (price = [20.0, 20.0, 20.0, 20.0, 20.0, 20.0, 20.0, 20.0, 20.0, 20.0  …  20.0, 20.0, 20.0, 20.0, 20.0, 20.0, 20.0, 20.0, 20.0, 20.0], fill = 10)…)]\n",
       " [Dict(:b => [0.0 0.0 … 0.0 0.0; 0.0 0.0 … 0.0 0.0; 0.0 0.0 … 0.0 0.0], :w => [0.0 0.0 … 0.0 0.0; 0.0 0.0 … 0.0 0.0; 0.0 0.0 … 0.0 0.0], :bellman_term => 135527.99999999983, :node_index => 1, :objective_state => nothing, :belief => Dict(1 => 1.0), :x => SDDP.State{Float64}[SDDP.State{Float64}(0.0, 50.0) SDDP.State{Float64}(0.0, 50.0) … SDDP.State{Float64}(0.0, 50.0) SDDP.State{Float64}(0.0, 50.0); SDDP.State{Float64}(0.0, 50.0) SDDP.State{Float64}(0.0, 50.0) … SDDP.State{Float64}(0.0, 50.0) SDDP.State{Float64}(0.0, 50.0); SDDP.State{Float64}(0.0, 50.0) SDDP.State{Float64}(0.0, 50.0) … SDDP.State{Float64}(0.0, 50.0) SDDP.State{Float64}(0.0, 50.0); SDDP.State{Float64}(0.0, 50.0) SDDP.State{Float64}(0.0, 50.0) … SDDP.State{Float64}(0.0, 50.0) SDDP.State{Float64}(0.0, 50.0)], :stage_objective => 0, :f => 0.0, :noise_term => nothing…), Dict(:b => [0.0 0.0 … 0.0 0.0; 50.0 50.0 … 50.0 50.0; 0.0 0.0 … 0.0 0.0], :w => [0.0 0.0 … 0.0 0.0; 0.0 0.0 … 0.0 0.0; 0.0 0.0 … 0.0 0.0], :bellman_term => 112967.99999999994, :node_index => 2, :objective_state => nothing, :belief => Dict(2 => 1.0), :x => SDDP.State{Float64}[SDDP.State{Float64}(50.0, 50.0) SDDP.State{Float64}(50.0, 50.0) … SDDP.State{Float64}(50.0, 50.0) SDDP.State{Float64}(50.0, 50.0); SDDP.State{Float64}(50.0, 50.0) SDDP.State{Float64}(50.0, 50.0) … SDDP.State{Float64}(50.0, 50.0) SDDP.State{Float64}(50.0, 50.0); SDDP.State{Float64}(50.0, 50.0) SDDP.State{Float64}(50.0, 50.0) … SDDP.State{Float64}(50.0, 50.0) SDDP.State{Float64}(50.0, 50.0); SDDP.State{Float64}(50.0, 50.0) SDDP.State{Float64}(50.0, 50.0) … SDDP.State{Float64}(50.0, 50.0) SDDP.State{Float64}(50.0, 50.0)], :stage_objective => 22560.0, :f => 10.0, :noise_term => (price = [20.0, 20.0, 20.0, 20.0, 20.0, 20.0, 20.0, 20.0, 20.0, 20.0  …  20.0, 20.0, 20.0, 20.0, 20.0, 20.0, 20.0, 20.0, 20.0, 20.0], fill = 10)…), Dict(:b => [0.0 0.0 … 0.0 0.0; 0.0 0.0 … 0.0 0.0; 50.0 50.0 … 50.0 50.0], :w => [0.0 0.0 … 0.0 0.0; 0.0 0.0 … 0.0 0.0; 0.0 0.0 … 0.0 0.0], :bellman_term => 90401.99999999997, :node_index => 3, :objective_state => nothing, :belief => Dict(3 => 1.0), :x => SDDP.State{Float64}[SDDP.State{Float64}(50.0, 50.0) SDDP.State{Float64}(50.0, 50.0) … SDDP.State{Float64}(50.0, 50.0) SDDP.State{Float64}(50.0, 50.0); SDDP.State{Float64}(50.0, 50.0) SDDP.State{Float64}(50.0, 50.0) … SDDP.State{Float64}(50.0, 50.0) SDDP.State{Float64}(50.0, 50.0); SDDP.State{Float64}(50.0, 50.0) SDDP.State{Float64}(50.0, 50.0) … SDDP.State{Float64}(50.0, 50.0) SDDP.State{Float64}(50.0, 50.0); SDDP.State{Float64}(50.0, 50.0) SDDP.State{Float64}(50.0, 50.0) … SDDP.State{Float64}(50.0, 50.0) SDDP.State{Float64}(50.0, 50.0)], :stage_objective => 34560.0, :f => 5.0, :noise_term => (price = [30.0, 30.0, 30.0, 30.0, 30.0, 30.0, 30.0, 30.0, 30.0, 30.0  …  30.0, 30.0, 30.0, 30.0, 30.0, 30.0, 30.0, 30.0, 30.0, 30.0], fill = 5)…), Dict(:b => [0.0 0.0 … 0.0 0.0; 45.0 50.0 … 50.0 50.0; 0.0 0.0 … 0.0 0.0], :w => [0.0 0.0 … 0.0 0.0; 5.0 0.0 … 0.0 0.0; 0.0 0.0 … 0.0 0.0], :bellman_term => 67835.99999999999, :node_index => 4, :objective_state => nothing, :belief => Dict(4 => 1.0), :x => SDDP.State{Float64}[SDDP.State{Float64}(50.0, 50.0) SDDP.State{Float64}(50.0, 50.0) … SDDP.State{Float64}(50.0, 50.0) SDDP.State{Float64}(50.0, 50.0); SDDP.State{Float64}(50.0, 50.0) SDDP.State{Float64}(50.0, 50.0) … SDDP.State{Float64}(50.0, 50.0) SDDP.State{Float64}(50.0, 50.0); SDDP.State{Float64}(50.0, 50.0) SDDP.State{Float64}(50.0, 50.0) … SDDP.State{Float64}(50.0, 50.0) SDDP.State{Float64}(50.0, 50.0); SDDP.State{Float64}(50.0, 50.0) SDDP.State{Float64}(50.0, 50.0) … SDDP.State{Float64}(50.0, 50.0) SDDP.State{Float64}(50.0, 50.0)], :stage_objective => 22566.0, :f => 10.0, :noise_term => (price = [20.0, 20.0, 20.0, 20.0, 20.0, 20.0, 20.0, 20.0, 20.0, 20.0  …  20.0, 20.0, 20.0, 20.0, 20.0, 20.0, 20.0, 20.0, 20.0, 20.0], fill = 10)…), Dict(:b => [0.0 0.0 … 0.0 0.0; 40.0 50.0 … 50.0 50.0; 0.0 0.0 … 0.0 0.0], :w => [0.0 0.0 … 0.0 0.0; 10.0 0.0 … 0.0 0.0; 0.0 0.0 … 0.0 0.0], :bellman_term => 45263.999999999956, :node_index => 5, :objective_state => nothing, :belief => Dict(5 => 1.0), :x => SDDP.State{Float64}[SDDP.State{Float64}(50.0, 50.0) SDDP.State{Float64}(50.0, 50.0) … SDDP.State{Float64}(50.0, 50.0) SDDP.State{Float64}(50.0, 50.0); SDDP.State{Float64}(50.0, 50.0) SDDP.State{Float64}(50.0, 50.0) … SDDP.State{Float64}(50.0, 50.0) SDDP.State{Float64}(50.0, 50.0); SDDP.State{Float64}(50.0, 50.0) SDDP.State{Float64}(50.0, 50.0) … SDDP.State{Float64}(50.0, 50.0) SDDP.State{Float64}(50.0, 50.0); SDDP.State{Float64}(50.0, 50.0) SDDP.State{Float64}(50.0, 50.0) … SDDP.State{Float64}(50.0, 50.0) SDDP.State{Float64}(50.0, 50.0)], :stage_objective => 22572.0, :f => 10.0, :noise_term => (price = [20.0, 20.0, 20.0, 20.0, 20.0, 20.0, 20.0, 20.0, 20.0, 20.0  …  20.0, 20.0, 20.0, 20.0, 20.0, 20.0, 20.0, 20.0, 20.0, 20.0], fill = 10)…), Dict(:b => [35.0 50.0 … 50.0 50.0; 0.0 0.0 … 0.0 0.0; 0.0 0.0 … 0.0 0.0], :w => [15.0 0.0 … 0.0 0.0; 0.0 0.0 … 0.0 0.0; 0.0 0.0 … 0.0 0.0], :bellman_term => 22691.999999999993, :node_index => 6, :objective_state => nothing, :belief => Dict(6 => 1.0), :x => SDDP.State{Float64}[SDDP.State{Float64}(50.0, 50.0) SDDP.State{Float64}(50.0, 50.0) … SDDP.State{Float64}(50.0, 50.0) SDDP.State{Float64}(50.0, 50.0); SDDP.State{Float64}(50.0, 50.0) SDDP.State{Float64}(50.0, 50.0) … SDDP.State{Float64}(50.0, 50.0) SDDP.State{Float64}(50.0, 50.0); SDDP.State{Float64}(50.0, 50.0) SDDP.State{Float64}(50.0, 50.0) … SDDP.State{Float64}(50.0, 50.0) SDDP.State{Float64}(50.0, 50.0); SDDP.State{Float64}(50.0, 50.0) SDDP.State{Float64}(50.0, 50.0) … SDDP.State{Float64}(50.0, 50.0) SDDP.State{Float64}(50.0, 50.0)], :stage_objective => 10578.0, :f => 15.0, :noise_term => (price = [10.0, 10.0, 10.0, 10.0, 10.0, 10.0, 10.0, 10.0, 10.0, 10.0  …  10.0, 10.0, 10.0, 10.0, 10.0, 10.0, 10.0, 10.0, 10.0, 10.0], fill = 15)…), Dict(:b => [50.0 50.0 … 0.0 0.0; 0.0 0.0 … 0.0 0.0; 0.0 0.0 … 0.0 0.0], :w => [0.0 0.0 … 50.0 50.0; 0.0 0.0 … 0.0 0.0; 0.0 0.0 … 0.0 0.0], :bellman_term => 1.8189894035458565e-12, :node_index => 7, :objective_state => nothing, :belief => Dict(7 => 1.0), :x => SDDP.State{Float64}[SDDP.State{Float64}(50.0, 0.0) SDDP.State{Float64}(50.0, 0.0) … SDDP.State{Float64}(50.0, 0.0) SDDP.State{Float64}(50.0, 0.0); SDDP.State{Float64}(50.0, 0.0) SDDP.State{Float64}(50.0, 0.0) … SDDP.State{Float64}(50.0, 0.0) SDDP.State{Float64}(50.0, 0.0); SDDP.State{Float64}(50.0, 50.0) SDDP.State{Float64}(50.0, 50.0) … SDDP.State{Float64}(50.0, 50.0) SDDP.State{Float64}(50.0, 50.0); SDDP.State{Float64}(50.0, 50.0) SDDP.State{Float64}(50.0, 50.0) … SDDP.State{Float64}(50.0, 50.0) SDDP.State{Float64}(50.0, 50.0)], :stage_objective => 10698.0, :f => 15.0, :noise_term => (price = [10.0, 10.0, 10.0, 10.0, 10.0, 10.0, 10.0, 10.0, 10.0, 10.0  …  10.0, 10.0, 10.0, 10.0, 10.0, 10.0, 10.0, 10.0, 10.0, 10.0], fill = 15)…)]\n",
       " [Dict(:b => [0.0 0.0 … 0.0 0.0; 0.0 0.0 … 0.0 0.0; 0.0 0.0 … 0.0 0.0], :w => [0.0 0.0 … 0.0 0.0; 0.0 0.0 … 0.0 0.0; 0.0 0.0 … 0.0 0.0], :bellman_term => 135527.99999999983, :node_index => 1, :objective_state => nothing, :belief => Dict(1 => 1.0), :x => SDDP.State{Float64}[SDDP.State{Float64}(0.0, 50.0) SDDP.State{Float64}(0.0, 50.0) … SDDP.State{Float64}(0.0, 50.0) SDDP.State{Float64}(0.0, 50.0); SDDP.State{Float64}(0.0, 50.0) SDDP.State{Float64}(0.0, 50.0) … SDDP.State{Float64}(0.0, 50.0) SDDP.State{Float64}(0.0, 50.0); SDDP.State{Float64}(0.0, 50.0) SDDP.State{Float64}(0.0, 50.0) … SDDP.State{Float64}(0.0, 50.0) SDDP.State{Float64}(0.0, 50.0); SDDP.State{Float64}(0.0, 50.0) SDDP.State{Float64}(0.0, 50.0) … SDDP.State{Float64}(0.0, 50.0) SDDP.State{Float64}(0.0, 50.0)], :stage_objective => 0, :f => 0.0, :noise_term => nothing…), Dict(:b => [50.0 50.0 … 50.0 50.0; 0.0 0.0 … 0.0 0.0; 0.0 0.0 … 0.0 0.0], :w => [0.0 0.0 … 0.0 0.0; 0.0 0.0 … 0.0 0.0; 0.0 0.0 … 0.0 0.0], :bellman_term => 112973.99999999996, :node_index => 2, :objective_state => nothing, :belief => Dict(2 => 1.0), :x => SDDP.State{Float64}[SDDP.State{Float64}(50.0, 50.0) SDDP.State{Float64}(50.0, 50.0) … SDDP.State{Float64}(50.0, 50.0) SDDP.State{Float64}(50.0, 50.0); SDDP.State{Float64}(50.0, 50.0) SDDP.State{Float64}(50.0, 50.0) … SDDP.State{Float64}(50.0, 50.0) SDDP.State{Float64}(50.0, 50.0); SDDP.State{Float64}(50.0, 50.0) SDDP.State{Float64}(50.0, 50.0) … SDDP.State{Float64}(50.0, 50.0) SDDP.State{Float64}(50.0, 50.0); SDDP.State{Float64}(50.0, 50.0) SDDP.State{Float64}(50.0, 50.0) … SDDP.State{Float64}(50.0, 50.0) SDDP.State{Float64}(50.0, 50.0)], :stage_objective => 10560.0, :f => 15.0, :noise_term => (price = [10.0, 10.0, 10.0, 10.0, 10.0, 10.0, 10.0, 10.0, 10.0, 10.0  …  10.0, 10.0, 10.0, 10.0, 10.0, 10.0, 10.0, 10.0, 10.0, 10.0], fill = 15)…), Dict(:b => [40.0 50.0 … 50.0 50.0; 0.0 0.0 … 0.0 0.0; 0.0 0.0 … 0.0 0.0], :w => [10.0 0.0 … 0.0 0.0; 0.0 0.0 … 0.0 0.0; 0.0 0.0 … 0.0 0.0], :bellman_term => 90407.99999999997, :node_index => 3, :objective_state => nothing, :belief => Dict(3 => 1.0), :x => SDDP.State{Float64}[SDDP.State{Float64}(50.0, 50.0) SDDP.State{Float64}(50.0, 50.0) … SDDP.State{Float64}(50.0, 50.0) SDDP.State{Float64}(50.0, 50.0); SDDP.State{Float64}(50.0, 50.0) SDDP.State{Float64}(50.0, 50.0) … SDDP.State{Float64}(50.0, 50.0) SDDP.State{Float64}(50.0, 50.0); SDDP.State{Float64}(50.0, 50.0) SDDP.State{Float64}(50.0, 50.0) … SDDP.State{Float64}(50.0, 50.0) SDDP.State{Float64}(50.0, 50.0); SDDP.State{Float64}(50.0, 50.0) SDDP.State{Float64}(50.0, 50.0) … SDDP.State{Float64}(50.0, 50.0) SDDP.State{Float64}(50.0, 50.0)], :stage_objective => 10572.0, :f => 15.0, :noise_term => (price = [10.0, 10.0, 10.0, 10.0, 10.0, 10.0, 10.0, 10.0, 10.0, 10.0  …  10.0, 10.0, 10.0, 10.0, 10.0, 10.0, 10.0, 10.0, 10.0, 10.0], fill = 15)…), Dict(:b => [0.0 0.0 … 0.0 0.0; 0.0 0.0 … 0.0 0.0; 45.0 50.0 … 50.0 50.0], :w => [0.0 0.0 … 0.0 0.0; 0.0 0.0 … 0.0 0.0; 5.0 0.0 … 0.0 0.0], :bellman_term => 67835.99999999999, :node_index => 4, :objective_state => nothing, :belief => Dict(4 => 1.0), :x => SDDP.State{Float64}[SDDP.State{Float64}(50.0, 50.0) SDDP.State{Float64}(50.0, 50.0) … SDDP.State{Float64}(50.0, 50.0) SDDP.State{Float64}(50.0, 50.0); SDDP.State{Float64}(50.0, 50.0) SDDP.State{Float64}(50.0, 50.0) … SDDP.State{Float64}(50.0, 50.0) SDDP.State{Float64}(50.0, 50.0); SDDP.State{Float64}(50.0, 50.0) SDDP.State{Float64}(50.0, 50.0) … SDDP.State{Float64}(50.0, 50.0) SDDP.State{Float64}(50.0, 50.0); SDDP.State{Float64}(50.0, 50.0) SDDP.State{Float64}(50.0, 50.0) … SDDP.State{Float64}(50.0, 50.0) SDDP.State{Float64}(50.0, 50.0)], :stage_objective => 34566.0, :f => 5.0, :noise_term => (price = [30.0, 30.0, 30.0, 30.0, 30.0, 30.0, 30.0, 30.0, 30.0, 30.0  …  30.0, 30.0, 30.0, 30.0, 30.0, 30.0, 30.0, 30.0, 30.0, 30.0], fill = 5)…), Dict(:b => [0.0 0.0 … 0.0 0.0; 0.0 0.0 … 0.0 0.0; 45.0 50.0 … 50.0 50.0], :w => [0.0 0.0 … 0.0 0.0; 0.0 0.0 … 0.0 0.0; 5.0 0.0 … 0.0 0.0], :bellman_term => 45264.000000000015, :node_index => 5, :objective_state => nothing, :belief => Dict(5 => 1.0), :x => SDDP.State{Float64}[SDDP.State{Float64}(50.0, 50.0) SDDP.State{Float64}(50.0, 50.0) … SDDP.State{Float64}(50.0, 50.0) SDDP.State{Float64}(50.0, 50.0); SDDP.State{Float64}(50.0, 50.0) SDDP.State{Float64}(50.0, 50.0) … SDDP.State{Float64}(50.0, 50.0) SDDP.State{Float64}(50.0, 50.0); SDDP.State{Float64}(50.0, 50.0) SDDP.State{Float64}(50.0, 50.0) … SDDP.State{Float64}(50.0, 50.0) SDDP.State{Float64}(50.0, 50.0); SDDP.State{Float64}(50.0, 50.0) SDDP.State{Float64}(50.0, 50.0) … SDDP.State{Float64}(50.0, 50.0) SDDP.State{Float64}(50.0, 50.0)], :stage_objective => 34566.0, :f => 5.0, :noise_term => (price = [30.0, 30.0, 30.0, 30.0, 30.0, 30.0, 30.0, 30.0, 30.0, 30.0  …  30.0, 30.0, 30.0, 30.0, 30.0, 30.0, 30.0, 30.0, 30.0, 30.0], fill = 5)…), Dict(:b => [0.0 0.0 … 0.0 0.0; 40.0 50.0 … 50.0 50.0; 0.0 0.0 … 0.0 0.0], :w => [0.0 0.0 … 0.0 0.0; 10.0 0.0 … 0.0 0.0; 0.0 0.0 … 0.0 0.0], :bellman_term => 22691.999999999993, :node_index => 6, :objective_state => nothing, :belief => Dict(6 => 1.0), :x => SDDP.State{Float64}[SDDP.State{Float64}(50.0, 50.0) SDDP.State{Float64}(50.0, 50.0) … SDDP.State{Float64}(50.0, 50.0) SDDP.State{Float64}(50.0, 50.0); SDDP.State{Float64}(50.0, 50.0) SDDP.State{Float64}(50.0, 50.0) … SDDP.State{Float64}(50.0, 50.0) SDDP.State{Float64}(50.0, 50.0); SDDP.State{Float64}(50.0, 50.0) SDDP.State{Float64}(50.0, 50.0) … SDDP.State{Float64}(50.0, 50.0) SDDP.State{Float64}(50.0, 50.0); SDDP.State{Float64}(50.0, 50.0) SDDP.State{Float64}(50.0, 50.0) … SDDP.State{Float64}(50.0, 50.0) SDDP.State{Float64}(50.0, 50.0)], :stage_objective => 22572.0, :f => 10.0, :noise_term => (price = [20.0, 20.0, 20.0, 20.0, 20.0, 20.0, 20.0, 20.0, 20.0, 20.0  …  20.0, 20.0, 20.0, 20.0, 20.0, 20.0, 20.0, 20.0, 20.0, 20.0], fill = 10)…), Dict(:b => [0.0 0.0 … 0.0 0.0; 0.0 0.0 … 0.0 0.0; 50.0 50.0 … 0.0 0.0], :w => [0.0 0.0 … 0.0 0.0; 0.0 0.0 … 0.0 0.0; 0.0 0.0 … 50.0 50.0], :bellman_term => 0.0, :node_index => 7, :objective_state => nothing, :belief => Dict(7 => 1.0), :x => SDDP.State{Float64}[SDDP.State{Float64}(50.0, 0.0) SDDP.State{Float64}(50.0, 0.0) … SDDP.State{Float64}(50.0, 0.0) SDDP.State{Float64}(50.0, 0.0); SDDP.State{Float64}(50.0, 0.0) SDDP.State{Float64}(50.0, 0.0) … SDDP.State{Float64}(50.0, 0.0) SDDP.State{Float64}(50.0, 0.0); SDDP.State{Float64}(50.0, 50.0) SDDP.State{Float64}(50.0, 50.0) … SDDP.State{Float64}(50.0, 50.0) SDDP.State{Float64}(50.0, 50.0); SDDP.State{Float64}(50.0, 50.0) SDDP.State{Float64}(50.0, 50.0) … SDDP.State{Float64}(50.0, 50.0) SDDP.State{Float64}(50.0, 50.0)], :stage_objective => 34686.0, :f => 5.0, :noise_term => (price = [30.0, 30.0, 30.0, 30.0, 30.0, 30.0, 30.0, 30.0, 30.0, 30.0  …  30.0, 30.0, 30.0, 30.0, 30.0, 30.0, 30.0, 30.0, 30.0, 30.0], fill = 5)…)]\n",
       " [Dict(:b => [0.0 0.0 … 0.0 0.0; 0.0 0.0 … 0.0 0.0; 0.0 0.0 … 0.0 0.0], :w => [0.0 0.0 … 0.0 0.0; 0.0 0.0 … 0.0 0.0; 0.0 0.0 … 0.0 0.0], :bellman_term => 135527.99999999983, :node_index => 1, :objective_state => nothing, :belief => Dict(1 => 1.0), :x => SDDP.State{Float64}[SDDP.State{Float64}(0.0, 50.0) SDDP.State{Float64}(0.0, 50.0) … SDDP.State{Float64}(0.0, 50.0) SDDP.State{Float64}(0.0, 50.0); SDDP.State{Float64}(0.0, 50.0) SDDP.State{Float64}(0.0, 50.0) … SDDP.State{Float64}(0.0, 50.0) SDDP.State{Float64}(0.0, 50.0); SDDP.State{Float64}(0.0, 50.0) SDDP.State{Float64}(0.0, 50.0) … SDDP.State{Float64}(0.0, 50.0) SDDP.State{Float64}(0.0, 50.0); SDDP.State{Float64}(0.0, 50.0) SDDP.State{Float64}(0.0, 50.0) … SDDP.State{Float64}(0.0, 50.0) SDDP.State{Float64}(0.0, 50.0)], :stage_objective => 0, :f => 0.0, :noise_term => nothing…), Dict(:b => [0.0 0.0 … 0.0 0.0; 0.0 0.0 … 0.0 0.0; 50.0 50.0 … 50.0 50.0], :w => [0.0 0.0 … 0.0 0.0; 0.0 0.0 … 0.0 0.0; 0.0 0.0 … 0.0 0.0], :bellman_term => 112961.99999999994, :node_index => 2, :objective_state => nothing, :belief => Dict(2 => 1.0), :x => SDDP.State{Float64}[SDDP.State{Float64}(50.0, 50.0) SDDP.State{Float64}(50.0, 50.0) … SDDP.State{Float64}(50.0, 50.0) SDDP.State{Float64}(50.0, 50.0); SDDP.State{Float64}(50.0, 50.0) SDDP.State{Float64}(50.0, 50.0) … SDDP.State{Float64}(50.0, 50.0) SDDP.State{Float64}(50.0, 50.0); SDDP.State{Float64}(50.0, 50.0) SDDP.State{Float64}(50.0, 50.0) … SDDP.State{Float64}(50.0, 50.0) SDDP.State{Float64}(50.0, 50.0); SDDP.State{Float64}(50.0, 50.0) SDDP.State{Float64}(50.0, 50.0) … SDDP.State{Float64}(50.0, 50.0) SDDP.State{Float64}(50.0, 50.0)], :stage_objective => 34560.0, :f => 5.0, :noise_term => (price = [30.0, 30.0, 30.0, 30.0, 30.0, 30.0, 30.0, 30.0, 30.0, 30.0  …  30.0, 30.0, 30.0, 30.0, 30.0, 30.0, 30.0, 30.0, 30.0, 30.0], fill = 5)…), Dict(:b => [0.0 0.0 … 0.0 0.0; 50.0 50.0 … 50.0 50.0; 0.0 0.0 … 0.0 0.0], :w => [0.0 0.0 … 0.0 0.0; 0.0 0.0 … 0.0 0.0; 0.0 0.0 … 0.0 0.0], :bellman_term => 90401.99999999997, :node_index => 3, :objective_state => nothing, :belief => Dict(3 => 1.0), :x => SDDP.State{Float64}[SDDP.State{Float64}(50.0, 50.0) SDDP.State{Float64}(50.0, 50.0) … SDDP.State{Float64}(50.0, 50.0) SDDP.State{Float64}(50.0, 50.0); SDDP.State{Float64}(50.0, 50.0) SDDP.State{Float64}(50.0, 50.0) … SDDP.State{Float64}(50.0, 50.0) SDDP.State{Float64}(50.0, 50.0); SDDP.State{Float64}(50.0, 50.0) SDDP.State{Float64}(50.0, 50.0) … SDDP.State{Float64}(50.0, 50.0) SDDP.State{Float64}(50.0, 50.0); SDDP.State{Float64}(50.0, 50.0) SDDP.State{Float64}(50.0, 50.0) … SDDP.State{Float64}(50.0, 50.0) SDDP.State{Float64}(50.0, 50.0)], :stage_objective => 22560.0, :f => 10.0, :noise_term => (price = [20.0, 20.0, 20.0, 20.0, 20.0, 20.0, 20.0, 20.0, 20.0, 20.0  …  20.0, 20.0, 20.0, 20.0, 20.0, 20.0, 20.0, 20.0, 20.0, 20.0], fill = 10)…), Dict(:b => [0.0 0.0 … 0.0 0.0; 45.0 50.0 … 50.0 50.0; 0.0 0.0 … 0.0 0.0], :w => [0.0 0.0 … 0.0 0.0; 5.0 0.0 … 0.0 0.0; 0.0 0.0 … 0.0 0.0], :bellman_term => 67835.99999999999, :node_index => 4, :objective_state => nothing, :belief => Dict(4 => 1.0), :x => SDDP.State{Float64}[SDDP.State{Float64}(50.0, 50.0) SDDP.State{Float64}(50.0, 50.0) … SDDP.State{Float64}(50.0, 50.0) SDDP.State{Float64}(50.0, 50.0); SDDP.State{Float64}(50.0, 50.0) SDDP.State{Float64}(50.0, 50.0) … SDDP.State{Float64}(50.0, 50.0) SDDP.State{Float64}(50.0, 50.0); SDDP.State{Float64}(50.0, 50.0) SDDP.State{Float64}(50.0, 50.0) … SDDP.State{Float64}(50.0, 50.0) SDDP.State{Float64}(50.0, 50.0); SDDP.State{Float64}(50.0, 50.0) SDDP.State{Float64}(50.0, 50.0) … SDDP.State{Float64}(50.0, 50.0) SDDP.State{Float64}(50.0, 50.0)], :stage_objective => 22566.0, :f => 10.0, :noise_term => (price = [20.0, 20.0, 20.0, 20.0, 20.0, 20.0, 20.0, 20.0, 20.0, 20.0  …  20.0, 20.0, 20.0, 20.0, 20.0, 20.0, 20.0, 20.0, 20.0, 20.0], fill = 10)…), Dict(:b => [35.0 50.0 … 50.0 50.0; 0.0 0.0 … 0.0 0.0; 0.0 0.0 … 0.0 0.0], :w => [15.0 0.0 … 0.0 0.0; 0.0 0.0 … 0.0 0.0; 0.0 0.0 … 0.0 0.0], :bellman_term => 45264.000000000015, :node_index => 5, :objective_state => nothing, :belief => Dict(5 => 1.0), :x => SDDP.State{Float64}[SDDP.State{Float64}(50.0, 50.0) SDDP.State{Float64}(50.0, 50.0) … SDDP.State{Float64}(50.0, 50.0) SDDP.State{Float64}(50.0, 50.0); SDDP.State{Float64}(50.0, 50.0) SDDP.State{Float64}(50.0, 50.0) … SDDP.State{Float64}(50.0, 50.0) SDDP.State{Float64}(50.0, 50.0); SDDP.State{Float64}(50.0, 50.0) SDDP.State{Float64}(50.0, 50.0) … SDDP.State{Float64}(50.0, 50.0) SDDP.State{Float64}(50.0, 50.0); SDDP.State{Float64}(50.0, 50.0) SDDP.State{Float64}(50.0, 50.0) … SDDP.State{Float64}(50.0, 50.0) SDDP.State{Float64}(50.0, 50.0)], :stage_objective => 10578.0, :f => 15.0, :noise_term => (price = [10.0, 10.0, 10.0, 10.0, 10.0, 10.0, 10.0, 10.0, 10.0, 10.0  …  10.0, 10.0, 10.0, 10.0, 10.0, 10.0, 10.0, 10.0, 10.0, 10.0], fill = 15)…), Dict(:b => [35.0 50.0 … 50.0 50.0; 0.0 0.0 … 0.0 0.0; 0.0 0.0 … 0.0 0.0], :w => [15.0 0.0 … 0.0 0.0; 0.0 0.0 … 0.0 0.0; 0.0 0.0 … 0.0 0.0], :bellman_term => 22691.999999999993, :node_index => 6, :objective_state => nothing, :belief => Dict(6 => 1.0), :x => SDDP.State{Float64}[SDDP.State{Float64}(50.0, 50.0) SDDP.State{Float64}(50.0, 50.0) … SDDP.State{Float64}(50.0, 50.0) SDDP.State{Float64}(50.0, 50.0); SDDP.State{Float64}(50.0, 50.0) SDDP.State{Float64}(50.0, 50.0) … SDDP.State{Float64}(50.0, 50.0) SDDP.State{Float64}(50.0, 50.0); SDDP.State{Float64}(50.0, 50.0) SDDP.State{Float64}(50.0, 50.0) … SDDP.State{Float64}(50.0, 50.0) SDDP.State{Float64}(50.0, 50.0); SDDP.State{Float64}(50.0, 50.0) SDDP.State{Float64}(50.0, 50.0) … SDDP.State{Float64}(50.0, 50.0) SDDP.State{Float64}(50.0, 50.0)], :stage_objective => 10578.0, :f => 15.0, :noise_term => (price = [10.0, 10.0, 10.0, 10.0, 10.0, 10.0, 10.0, 10.0, 10.0, 10.0  …  10.0, 10.0, 10.0, 10.0, 10.0, 10.0, 10.0, 10.0, 10.0, 10.0], fill = 15)…), Dict(:b => [50.0 50.0 … 0.0 0.0; 0.0 0.0 … 0.0 0.0; 0.0 0.0 … 0.0 0.0], :w => [0.0 0.0 … 50.0 50.0; 0.0 0.0 … 0.0 0.0; 0.0 0.0 … 0.0 0.0], :bellman_term => 1.8189894035458565e-12, :node_index => 7, :objective_state => nothing, :belief => Dict(7 => 1.0), :x => SDDP.State{Float64}[SDDP.State{Float64}(50.0, 0.0) SDDP.State{Float64}(50.0, 0.0) … SDDP.State{Float64}(50.0, 0.0) SDDP.State{Float64}(50.0, 0.0); SDDP.State{Float64}(50.0, 0.0) SDDP.State{Float64}(50.0, 0.0) … SDDP.State{Float64}(50.0, 0.0) SDDP.State{Float64}(50.0, 0.0); SDDP.State{Float64}(50.0, 50.0) SDDP.State{Float64}(50.0, 50.0) … SDDP.State{Float64}(50.0, 50.0) SDDP.State{Float64}(50.0, 50.0); SDDP.State{Float64}(50.0, 50.0) SDDP.State{Float64}(50.0, 50.0) … SDDP.State{Float64}(50.0, 50.0) SDDP.State{Float64}(50.0, 50.0)], :stage_objective => 10698.0, :f => 15.0, :noise_term => (price = [10.0, 10.0, 10.0, 10.0, 10.0, 10.0, 10.0, 10.0, 10.0, 10.0  …  10.0, 10.0, 10.0, 10.0, 10.0, 10.0, 10.0, 10.0, 10.0, 10.0], fill = 15)…)]\n",
       " [Dict(:b => [0.0 0.0 … 0.0 0.0; 0.0 0.0 … 0.0 0.0; 0.0 0.0 … 0.0 0.0], :w => [0.0 0.0 … 0.0 0.0; 0.0 0.0 … 0.0 0.0; 0.0 0.0 … 0.0 0.0], :bellman_term => 135527.99999999983, :node_index => 1, :objective_state => nothing, :belief => Dict(1 => 1.0), :x => SDDP.State{Float64}[SDDP.State{Float64}(0.0, 50.0) SDDP.State{Float64}(0.0, 50.0) … SDDP.State{Float64}(0.0, 50.0) SDDP.State{Float64}(0.0, 50.0); SDDP.State{Float64}(0.0, 50.0) SDDP.State{Float64}(0.0, 50.0) … SDDP.State{Float64}(0.0, 50.0) SDDP.State{Float64}(0.0, 50.0); SDDP.State{Float64}(0.0, 50.0) SDDP.State{Float64}(0.0, 50.0) … SDDP.State{Float64}(0.0, 50.0) SDDP.State{Float64}(0.0, 50.0); SDDP.State{Float64}(0.0, 50.0) SDDP.State{Float64}(0.0, 50.0) … SDDP.State{Float64}(0.0, 50.0) SDDP.State{Float64}(0.0, 50.0)], :stage_objective => 0, :f => 0.0, :noise_term => nothing…), Dict(:b => [0.0 0.0 … 0.0 0.0; 0.0 0.0 … 0.0 0.0; 50.0 50.0 … 50.0 50.0], :w => [0.0 0.0 … 0.0 0.0; 0.0 0.0 … 0.0 0.0; 0.0 0.0 … 0.0 0.0], :bellman_term => 112961.99999999994, :node_index => 2, :objective_state => nothing, :belief => Dict(2 => 1.0), :x => SDDP.State{Float64}[SDDP.State{Float64}(50.0, 50.0) SDDP.State{Float64}(50.0, 50.0) … SDDP.State{Float64}(50.0, 50.0) SDDP.State{Float64}(50.0, 50.0); SDDP.State{Float64}(50.0, 50.0) SDDP.State{Float64}(50.0, 50.0) … SDDP.State{Float64}(50.0, 50.0) SDDP.State{Float64}(50.0, 50.0); SDDP.State{Float64}(50.0, 50.0) SDDP.State{Float64}(50.0, 50.0) … SDDP.State{Float64}(50.0, 50.0) SDDP.State{Float64}(50.0, 50.0); SDDP.State{Float64}(50.0, 50.0) SDDP.State{Float64}(50.0, 50.0) … SDDP.State{Float64}(50.0, 50.0) SDDP.State{Float64}(50.0, 50.0)], :stage_objective => 34560.0, :f => 5.0, :noise_term => (price = [30.0, 30.0, 30.0, 30.0, 30.0, 30.0, 30.0, 30.0, 30.0, 30.0  …  30.0, 30.0, 30.0, 30.0, 30.0, 30.0, 30.0, 30.0, 30.0, 30.0], fill = 5)…), Dict(:b => [50.0 50.0 … 50.0 50.0; 0.0 0.0 … 0.0 0.0; 0.0 0.0 … 0.0 0.0], :w => [0.0 0.0 … 0.0 0.0; 0.0 0.0 … 0.0 0.0; 0.0 0.0 … 0.0 0.0], :bellman_term => 90407.99999999997, :node_index => 3, :objective_state => nothing, :belief => Dict(3 => 1.0), :x => SDDP.State{Float64}[SDDP.State{Float64}(50.0, 50.0) SDDP.State{Float64}(50.0, 50.0) … SDDP.State{Float64}(50.0, 50.0) SDDP.State{Float64}(50.0, 50.0); SDDP.State{Float64}(50.0, 50.0) SDDP.State{Float64}(50.0, 50.0) … SDDP.State{Float64}(50.0, 50.0) SDDP.State{Float64}(50.0, 50.0); SDDP.State{Float64}(50.0, 50.0) SDDP.State{Float64}(50.0, 50.0) … SDDP.State{Float64}(50.0, 50.0) SDDP.State{Float64}(50.0, 50.0); SDDP.State{Float64}(50.0, 50.0) SDDP.State{Float64}(50.0, 50.0) … SDDP.State{Float64}(50.0, 50.0) SDDP.State{Float64}(50.0, 50.0)], :stage_objective => 10560.0, :f => 15.0, :noise_term => (price = [10.0, 10.0, 10.0, 10.0, 10.0, 10.0, 10.0, 10.0, 10.0, 10.0  …  10.0, 10.0, 10.0, 10.0, 10.0, 10.0, 10.0, 10.0, 10.0, 10.0], fill = 15)…), Dict(:b => [0.0 0.0 … 0.0 0.0; 0.0 0.0 … 0.0 0.0; 45.0 50.0 … 50.0 50.0], :w => [0.0 0.0 … 0.0 0.0; 0.0 0.0 … 0.0 0.0; 5.0 0.0 … 0.0 0.0], :bellman_term => 67835.99999999999, :node_index => 4, :objective_state => nothing, :belief => Dict(4 => 1.0), :x => SDDP.State{Float64}[SDDP.State{Float64}(50.0, 50.0) SDDP.State{Float64}(50.0, 50.0) … SDDP.State{Float64}(50.0, 50.0) SDDP.State{Float64}(50.0, 50.0); SDDP.State{Float64}(50.0, 50.0) SDDP.State{Float64}(50.0, 50.0) … SDDP.State{Float64}(50.0, 50.0) SDDP.State{Float64}(50.0, 50.0); SDDP.State{Float64}(50.0, 50.0) SDDP.State{Float64}(50.0, 50.0) … SDDP.State{Float64}(50.0, 50.0) SDDP.State{Float64}(50.0, 50.0); SDDP.State{Float64}(50.0, 50.0) SDDP.State{Float64}(50.0, 50.0) … SDDP.State{Float64}(50.0, 50.0) SDDP.State{Float64}(50.0, 50.0)], :stage_objective => 34566.0, :f => 5.0, :noise_term => (price = [30.0, 30.0, 30.0, 30.0, 30.0, 30.0, 30.0, 30.0, 30.0, 30.0  …  30.0, 30.0, 30.0, 30.0, 30.0, 30.0, 30.0, 30.0, 30.0, 30.0], fill = 5)…), Dict(:b => [0.0 0.0 … 0.0 0.0; 40.0 50.0 … 50.0 50.0; 0.0 0.0 … 0.0 0.0], :w => [0.0 0.0 … 0.0 0.0; 10.0 0.0 … 0.0 0.0; 0.0 0.0 … 0.0 0.0], :bellman_term => 45264.000000000015, :node_index => 5, :objective_state => nothing, :belief => Dict(5 => 1.0), :x => SDDP.State{Float64}[SDDP.State{Float64}(50.0, 50.0) SDDP.State{Float64}(50.0, 50.0) … SDDP.State{Float64}(50.0, 50.0) SDDP.State{Float64}(50.0, 50.0); SDDP.State{Float64}(50.0, 50.0) SDDP.State{Float64}(50.0, 50.0) … SDDP.State{Float64}(50.0, 50.0) SDDP.State{Float64}(50.0, 50.0); SDDP.State{Float64}(50.0, 50.0) SDDP.State{Float64}(50.0, 50.0) … SDDP.State{Float64}(50.0, 50.0) SDDP.State{Float64}(50.0, 50.0); SDDP.State{Float64}(50.0, 50.0) SDDP.State{Float64}(50.0, 50.0) … SDDP.State{Float64}(50.0, 50.0) SDDP.State{Float64}(50.0, 50.0)], :stage_objective => 22572.0, :f => 10.0, :noise_term => (price = [20.0, 20.0, 20.0, 20.0, 20.0, 20.0, 20.0, 20.0, 20.0, 20.0  …  20.0, 20.0, 20.0, 20.0, 20.0, 20.0, 20.0, 20.0, 20.0, 20.0], fill = 10)…), Dict(:b => [35.0 50.0 … 50.0 50.0; 0.0 0.0 … 0.0 0.0; 0.0 0.0 … 0.0 0.0], :w => [15.0 0.0 … 0.0 0.0; 0.0 0.0 … 0.0 0.0; 0.0 0.0 … 0.0 0.0], :bellman_term => 22692.000000000015, :node_index => 6, :objective_state => nothing, :belief => Dict(6 => 1.0), :x => SDDP.State{Float64}[SDDP.State{Float64}(50.0, 50.0) SDDP.State{Float64}(50.0, 50.0) … SDDP.State{Float64}(50.0, 50.0) SDDP.State{Float64}(50.0, 50.0); SDDP.State{Float64}(50.0, 50.0) SDDP.State{Float64}(50.0, 50.0) … SDDP.State{Float64}(50.0, 50.0) SDDP.State{Float64}(50.0, 50.0); SDDP.State{Float64}(50.0, 50.0) SDDP.State{Float64}(50.0, 50.0) … SDDP.State{Float64}(50.0, 50.0) SDDP.State{Float64}(50.0, 50.0); SDDP.State{Float64}(50.0, 50.0) SDDP.State{Float64}(50.0, 50.0) … SDDP.State{Float64}(50.0, 50.0) SDDP.State{Float64}(50.0, 50.0)], :stage_objective => 10578.0, :f => 15.0, :noise_term => (price = [10.0, 10.0, 10.0, 10.0, 10.0, 10.0, 10.0, 10.0, 10.0, 10.0  …  10.0, 10.0, 10.0, 10.0, 10.0, 10.0, 10.0, 10.0, 10.0, 10.0], fill = 15)…), Dict(:b => [0.0 0.0 … 0.0 0.0; 50.0 50.0 … 0.0 0.0; 0.0 0.0 … 0.0 0.0], :w => [0.0 0.0 … 0.0 0.0; 0.0 0.0 … 50.0 50.0; 0.0 0.0 … 0.0 0.0], :bellman_term => 0.0, :node_index => 7, :objective_state => nothing, :belief => Dict(7 => 1.0), :x => SDDP.State{Float64}[SDDP.State{Float64}(50.0, 0.0) SDDP.State{Float64}(50.0, 0.0) … SDDP.State{Float64}(50.0, 0.0) SDDP.State{Float64}(50.0, 0.0); SDDP.State{Float64}(50.0, 0.0) SDDP.State{Float64}(50.0, 0.0) … SDDP.State{Float64}(50.0, 0.0) SDDP.State{Float64}(50.0, 0.0); SDDP.State{Float64}(50.0, 50.0) SDDP.State{Float64}(50.0, 50.0) … SDDP.State{Float64}(50.0, 50.0) SDDP.State{Float64}(50.0, 50.0); SDDP.State{Float64}(50.0, 50.0) SDDP.State{Float64}(50.0, 50.0) … SDDP.State{Float64}(50.0, 50.0) SDDP.State{Float64}(50.0, 50.0)], :stage_objective => 22692.0, :f => 10.0, :noise_term => (price = [20.0, 20.0, 20.0, 20.0, 20.0, 20.0, 20.0, 20.0, 20.0, 20.0  …  20.0, 20.0, 20.0, 20.0, 20.0, 20.0, 20.0, 20.0, 20.0, 20.0], fill = 10)…)]"
      ]
     },
     "metadata": {},
     "output_type": "display_data"
    }
   ],
   "source": [
    "simulations = SDDP.simulate(\n",
    "    # The trained model to simulate.\n",
    "    model2,\n",
    "    # The number of replications.\n",
    "    100,\n",
    "    # A list of names to record the values of.\n",
    "    [:x, :y, :w, :W, :b, :f],\n",
    ")"
   ]
  },
  {
   "cell_type": "code",
   "execution_count": 304,
   "metadata": {},
   "outputs": [
    {
     "name": "stdout",
     "output_type": "stream",
     "text": [
      "Bidding Curve Values: SDDP.State{Float64}[SDDP.State{Float64}(50.0, 0.0) SDDP.State{Float64}(50.0, 0.0) SDDP.State{Float64}(50.0, 0.0) SDDP.State{Float64}(50.0, 0.0) SDDP.State{Float64}(50.0, 0.0) SDDP.State{Float64}(50.0, 0.0) SDDP.State{Float64}(50.0, 0.0) SDDP.State{Float64}(50.0, 0.0) SDDP.State{Float64}(50.0, 0.0) SDDP.State{Float64}(50.0, 0.0) SDDP.State{Float64}(50.0, 0.0) SDDP.State{Float64}(50.0, 0.0) SDDP.State{Float64}(50.0, 0.0) SDDP.State{Float64}(50.0, 0.0) SDDP.State{Float64}(50.0, 0.0) SDDP.State{Float64}(50.0, 0.0) SDDP.State{Float64}(50.0, 0.0) SDDP.State{Float64}(50.0, 0.0) SDDP.State{Float64}(50.0, 0.0) SDDP.State{Float64}(50.0, 0.0) SDDP.State{Float64}(50.0, 0.0) SDDP.State{Float64}(50.0, 0.0) SDDP.State{Float64}(50.0, 0.0) SDDP.State{Float64}(50.0, 0.0); SDDP.State{Float64}(50.0, 0.0) SDDP.State{Float64}(50.0, 0.0) SDDP.State{Float64}(50.0, 0.0) SDDP.State{Float64}(50.0, 0.0) SDDP.State{Float64}(50.0, 0.0) SDDP.State{Float64}(50.0, 0.0) SDDP.State{Float64}(50.0, 0.0) SDDP.State{Float64}(50.0, 0.0) SDDP.State{Float64}(50.0, 0.0) SDDP.State{Float64}(50.0, 0.0) SDDP.State{Float64}(50.0, 0.0) SDDP.State{Float64}(50.0, 0.0) SDDP.State{Float64}(50.0, 0.0) SDDP.State{Float64}(50.0, 0.0) SDDP.State{Float64}(50.0, 0.0) SDDP.State{Float64}(50.0, 0.0) SDDP.State{Float64}(50.0, 0.0) SDDP.State{Float64}(50.0, 0.0) SDDP.State{Float64}(50.0, 0.0) SDDP.State{Float64}(50.0, 0.0) SDDP.State{Float64}(50.0, 0.0) SDDP.State{Float64}(50.0, 0.0) SDDP.State{Float64}(50.0, 0.0) SDDP.State{Float64}(50.0, 0.0); SDDP.State{Float64}(50.0, 50.0) SDDP.State{Float64}(50.0, 50.0) SDDP.State{Float64}(50.0, 50.0) SDDP.State{Float64}(50.0, 50.0) SDDP.State{Float64}(50.0, 50.0) SDDP.State{Float64}(50.0, 50.0) SDDP.State{Float64}(50.0, 50.0) SDDP.State{Float64}(50.0, 50.0) SDDP.State{Float64}(50.0, 50.0) SDDP.State{Float64}(50.0, 50.0) SDDP.State{Float64}(50.0, 50.0) SDDP.State{Float64}(50.0, 50.0) SDDP.State{Float64}(50.0, 50.0) SDDP.State{Float64}(50.0, 50.0) SDDP.State{Float64}(50.0, 50.0) SDDP.State{Float64}(50.0, 50.0) SDDP.State{Float64}(50.0, 50.0) SDDP.State{Float64}(50.0, 50.0) SDDP.State{Float64}(50.0, 50.0) SDDP.State{Float64}(50.0, 50.0) SDDP.State{Float64}(50.0, 50.0) SDDP.State{Float64}(50.0, 50.0) SDDP.State{Float64}(50.0, 50.0) SDDP.State{Float64}(50.0, 50.0); SDDP.State{Float64}(50.0, 50.0) SDDP.State{Float64}(50.0, 50.0) SDDP.State{Float64}(50.0, 50.0) SDDP.State{Float64}(50.0, 50.0) SDDP.State{Float64}(50.0, 50.0) SDDP.State{Float64}(50.0, 50.0) SDDP.State{Float64}(50.0, 50.0) SDDP.State{Float64}(50.0, 50.0) SDDP.State{Float64}(50.0, 50.0) SDDP.State{Float64}(50.0, 50.0) SDDP.State{Float64}(50.0, 50.0) SDDP.State{Float64}(50.0, 50.0) "
     ]
    },
    {
     "name": "stdout",
     "output_type": "stream",
     "text": [
      "SDDP.State{Float64}(50.0, 50.0) SDDP.State{Float64}(50.0, 50.0) SDDP.State{Float64}(50.0, 50.0) SDDP.State{Float64}(50.0, 50.0) SDDP.State{Float64}(50.0, 50.0) SDDP.State{Float64}(50.0, 50.0) SDDP.State{Float64}(50.0, 50.0) SDDP.State{Float64}(50.0, 50.0) SDDP.State{Float64}(50.0, 50.0) SDDP.State{Float64}(50.0, 50.0) SDDP.State{Float64}(50.0, 50.0) SDDP.State{Float64}(50.0, 50.0)]\n",
      "Inventory: SDDP.State{Float64}(100.0, 0.0)\n",
      "Cleared Volume: [50.0 50.0 50.0 50.0 50.0 50.0 50.0 50.0 50.0 50.0 50.0 50.0 50.0 50.0 50.0 50.0 50.0 50.0 50.0 50.0 50.0 50.0 50.0 50.0; 0.0 0.0 0.0 0.0 0.0 0.0 0.0 0.0 0.0 0.0 0.0 0.0 0.0 0.0 0.0 0.0 0.0 0.0 0.0 0.0 0.0 0.0 0.0 0.0; 0.0 0.0 0.0 0.0 0.0 0.0 0.0 0.0 0.0 0.0 0.0 0.0 0.0 0.0 0.0 0.0 0.0 0.0 0.0 0.0 0.0 0.0 0.0 0.0]\n",
      "Own Producion: [0.0 0.0 0.0 0.0 0.0 0.0 0.0 0.0 0.0 0.0 0.0 0.0 0.0 0.0 0.0 0.0 0.0 0.0 0.0 0.0 0.0 15.0 50.0 50.0; 0.0 0.0 0.0 0.0 0.0 0.0 0.0 0.0 0.0 0.0 0.0 0.0 0.0 0.0 0.0 0.0 0.0 0.0 0.0 0.0 0.0 0.0 0.0 0.0; 0.0 0.0 0.0 0.0 0.0 0.0 0.0 0.0 0.0 0.0 0.0 0.0 0.0 0.0 0.0 0.0 0.0 0.0 0.0 0.0 0.0 0.0 0.0 0.0]\n",
      "Purchases: [50.0 50.0 50.0 50.0 50.0 50.0 50.0 50.0 50.0 50.0 50.0 50.0 50.0 50.0 50.0 50.0 50.0 50.0 50.0 50.0 50.0 35.0 0.0 0.0; 0.0 0.0 0.0 0.0 0.0 0.0 0.0 0.0 0.0 0.0 0.0 0.0 0.0 0.0 0.0 0.0 0.0 0.0 0.0 0.0 0.0 0.0 0.0 0.0; 0.0 0.0 0.0 0.0 0.0 0.0 0.0 0.0 0.0 0.0 0.0 0.0 0.0 0.0 0.0 0.0 0.0 0.0 0.0 0.0 0.0 0.0 0.0 0.0]\n",
      "Filling in that stage: 15.0\n"
     ]
    }
   ],
   "source": [
    "replication = 28\n",
    "stage = 7\n",
    "println(\"Bidding Curve Values: \", simulations[replication][stage][:x])\n",
    "println(\"Inventory: \", simulations[replication][stage][:W])\n",
    "println(\"Cleared Volume: \", simulations[replication][stage][:y])\n",
    "println(\"Own Producion: \", simulations[replication][stage][:w])\n",
    "println(\"Purchases: \", simulations[replication][stage][:b])\n",
    "println(\"Filling in that stage: \", simulations[replication][stage][:f])"
   ]
  }
 ],
 "metadata": {
  "kernelspec": {
   "display_name": "Julia 1.8.5",
   "language": "julia",
   "name": "julia-1.8"
  },
  "language_info": {
   "file_extension": ".jl",
   "mimetype": "application/julia",
   "name": "julia",
   "version": "1.8.5"
  },
  "orig_nbformat": 4
 },
 "nbformat": 4,
 "nbformat_minor": 2
}
