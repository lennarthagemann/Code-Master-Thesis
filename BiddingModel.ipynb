{
 "cells": [
  {
   "cell_type": "code",
   "execution_count": null,
   "metadata": {},
   "outputs": [],
   "source": [
    "using JuMP\n",
    "using CPLEX\n",
    "using Distributions\n",
    "using LinearAlgebra\n",
    "using Statistics\n",
    "using Dates\n",
    "using DataFrames\n",
    "using SDDP\n",
    "using Plots\n",
    "import CSV\n",
    "using JSON\n",
    "try\n",
    "    using Revise\n",
    "catch e\n",
    "    @warn \"Error initializing Revise\" exception=(e, catch_backtrace())\n",
    "end"
   ]
  },
  {
   "cell_type": "markdown",
   "metadata": {},
   "source": [
    "### Bidding Model  \n",
    "At the Electricity Markets, Participants have to communicate increasing bidding curves of price-volume pairs before market clearing.  \n",
    "Depending on the market clearing price, the delivery of each participant becomes known  \n",
    "We approximate this relation by using linear interpolation of volumes and presetting price Points, for example based on probabilities.\n",
    "\n",
    "$$\n",
    "y_t = \\frac{c_t - P_{t,i} }{P_{t,i+1} - P_{t,i}} \\cdot x_{i,t} + \\frac{P_{t,i+1} - c_t }{P_{t,i+1} - P{t,i}} \\cdot x_{i+1,t}, \\qquad \\text{if} \\; P_{t,i} \\leq c_t \\leq P_{t,i+1}\n",
    "$$\n",
    "\n",
    "The Volumes have to be in increasing order:\n",
    "\n",
    "$$\n",
    "x_{i,t} \\leq x_{i+1,t}\n",
    "$$"
   ]
  },
  {
   "cell_type": "code",
   "execution_count": null,
   "metadata": {},
   "outputs": [],
   "source": [
    "Omega = [10.0, 20.0, 30.0]\n",
    "P = [1/length(Omega) for om in Omega]\n",
    "\n",
    "# One Price Point around each uncertain Price\n",
    "PPoints = [5.0, 15, 25, 35]"
   ]
  },
  {
   "cell_type": "code",
   "execution_count": 170,
   "metadata": {},
   "outputs": [
    {
     "data": {
      "text/plain": [
       "subproblem_builder (generic function with 1 method)"
      ]
     },
     "metadata": {},
     "output_type": "display_data"
    }
   ],
   "source": [
    "function subproblem_builder(subproblem::Model, node::Int64)\n",
    "    @variable(subproblem, 0 <= x[i = 1:length(PPoints)] <= 50, SDDP.State, initial_value=0)\n",
    "    @variable(subproblem, 0 <= W <= 100, SDDP.State, initial_value = 80)\n",
    "    @variable(subproblem, y[i = 1:length(PPoints)-1] >= 0)\n",
    "    @variable(subproblem, w[i = 1:length(PPoints)-1] >= 0)\n",
    "    @variable(subproblem, balancing[i = 1:length(PPoints)-1] >= 0)\n",
    "    @constraint(subproblem, clearing[i = 1:length(PPoints)-1], y[i] == 1* x[i].in +  1* x[i+1].in)\n",
    "    @constraint(subproblem, increasing[i = 1:length(PPoints)-1], x[i].out <= x[i+1].out)\n",
    "    if node == 1\n",
    "        @stageobjective(subproblem, 0)\n",
    "        @constraint(subproblem, W.in == W.out)\n",
    "    else\n",
    "        @constraint(subproblem, production[i = 1:length(PPoints)-1], y[i] == w[i] + balancing[i])\n",
    "        @constraint(subproblem, balance, W.out == W.in - sum(w[i] for i in 1:length(PPoints)-1))\n",
    "        SDDP.parameterize(subproblem, Omega, P) do price\n",
    "            for i in 1:length(PPoints)-1\n",
    "                if (price >= PPoints[i]) && (price <= PPoints[i+1])\n",
    "                    set_normalized_coefficient(clearing[i], x[i].in, -((price - PPoints[i])/(PPoints[i+1] - PPoints[i])))\n",
    "                    set_normalized_coefficient(clearing[i], x[i+1].in, -((PPoints[i+1] - price)/(PPoints[i+1] - PPoints[i])))\n",
    "                    set_normalized_coefficient(production[i], w[i], -1)\n",
    "                    set_normalized_coefficient(production[i], balancing[i], -1)\n",
    "                    set_normalized_coefficient(production[i], y[i], 1)\n",
    "                    @stageobjective(subproblem, price * (y[i] - balancing[i]))\n",
    "                else\n",
    "                    set_normalized_coefficient(balance, w[i], 0)\n",
    "                    set_normalized_coefficient(production[i], w[i], 0)\n",
    "                    set_normalized_coefficient(production[i], balancing[i], 0)\n",
    "                    set_normalized_coefficient(production[i], y[i], 0)\n",
    "                    set_normalized_coefficient(clearing[i], x[i].in, 0)\n",
    "                    set_normalized_coefficient(clearing[i], x[i+1].in, 0)\n",
    "                end\n",
    "            end\n",
    "        end\n",
    "    end\n",
    "    return\n",
    "end"
   ]
  },
  {
   "cell_type": "code",
   "execution_count": 171,
   "metadata": {},
   "outputs": [
    {
     "data": {
      "text/plain": [
       "A policy graph with 2 nodes.\n",
       " Node indices: 1, 2\n"
      ]
     },
     "metadata": {},
     "output_type": "display_data"
    }
   ],
   "source": [
    "model = SDDP.LinearPolicyGraph(\n",
    "    subproblem_builder;\n",
    "    stages = 2,\n",
    "    sense = :Max,\n",
    "    upper_bound = 1e5,\n",
    "    optimizer = CPLEX.Optimizer\n",
    ")"
   ]
  },
  {
   "cell_type": "code",
   "execution_count": 172,
   "metadata": {},
   "outputs": [
    {
     "name": "stdout",
     "output_type": "stream",
     "text": [
      "CPLEX Error  3003: Not a mixed-integer problem.\r\n",
      "Version identifier: 22.1.1.0 | 2022-11-27 | 9160aff4d\r\n",
      "Tried aggregator 1 time.\r\n",
      "LP Presolve eliminated 42 rows and 70 columns.\r\n",
      "Aggregator did 10 substitutions.\r\n",
      "All rows and columns eliminated.\r\n",
      "Presolve time = 0.00 sec. (0.03 ticks)\r\n"
     ]
    },
    {
     "data": {
      "text/plain": [
       "* Solver : CPLEX\n",
       "\n",
       "* Status\n",
       "  Result count       : 1\n",
       "  Termination status : OPTIMAL\n",
       "  Message from the solver:\n",
       "  \"optimal\"\n",
       "\n",
       "* Candidate solution (result #1)\n",
       "  Primal status      : FEASIBLE_POINT\n",
       "  Dual status        : FEASIBLE_POINT\n",
       "  Objective value    : 0.00000e+00\n",
       "  Objective bound    : 0.00000e+00\n",
       "  Dual objective value : 0.00000e+00\n",
       "  Primal solution :\n",
       "    W_in#1 : 8.00000e+01\n",
       "    W_in#2 : 8.00000e+01\n",
       "    W_out#1 : 8.00000e+01\n",
       "    W_out#2 : 8.00000e+01\n",
       "    _[20]#1 : 1.00000e+05\n",
       "    _[20]#2 : 0.00000e+00\n",
       "    balancing[1]#1 : 0.00000e+00\n",
       "    balancing[1]#2 : 0.00000e+00\n",
       "    balancing[2]#1 : 0.00000e+00\n",
       "    balancing[2]#2 : 0.00000e+00\n",
       "    balancing[3]#1 : 0.00000e+00\n",
       "    balancing[3]#2 : 5.00000e+01\n",
       "    w[1]#1 : 0.00000e+00\n",
       "    w[1]#2 : 0.00000e+00\n",
       "    w[2]#1 : 0.00000e+00\n",
       "    w[2]#2 : 0.00000e+00\n",
       "    w[3]#1 : 0.00000e+00\n",
       "    w[3]#2 : 0.00000e+00\n",
       "    x[1]_in#1 : 0.00000e+00\n",
       "    x[1]_in#2 : -0.00000e+00\n",
       "    x[1]_out#1 : 0.00000e+00\n",
       "    x[1]_out#2 : 0.00000e+00\n",
       "    x[2]_in#1 : 0.00000e+00\n",
       "    x[2]_in#2 : 5.00000e+01\n",
       "    x[2]_out#1 : 5.00000e+01\n",
       "    x[2]_out#2 : 0.00000e+00\n",
       "    x[3]_in#1 : 0.00000e+00\n",
       "    x[3]_in#2 : 5.00000e+01\n",
       "    x[3]_out#1 : 5.00000e+01\n",
       "    x[3]_out#2 : 5.00000e+01\n",
       "    x[4]_in#1 : 0.00000e+00\n",
       "    x[4]_in#2 : 5.00000e+01\n",
       "    x[4]_out#1 : 5.00000e+01\n",
       "    x[4]_out#2 : 5.00000e+01\n",
       "    y[1]#1 : 0.00000e+00\n",
       "    y[1]#2 : 0.00000e+00\n",
       "    y[2]#1 : 0.00000e+00\n",
       "    y[2]#2 : 0.00000e+00\n",
       "    y[3]#1 : 0.00000e+00\n",
       "    y[3]#2 : 5.00000e+01\n",
       "  Dual solution :\n",
       "\n",
       "* Work counters\n",
       "  Solve time (sec)   : 0.00000e+00\n",
       "  Simplex iterations : 0\n",
       "  Barrier iterations : 0\n",
       "  Node count         : 0\n"
      ]
     },
     "metadata": {},
     "output_type": "display_data"
    }
   ],
   "source": [
    "det_equiv = SDDP.deterministic_equivalent(model, CPLEX.Optimizer)\n",
    "JuMP.write_to_file(det_equiv, \"det_equiv.lp\")\n",
    "optimize!(det_equiv)\n",
    "solution_summary(det_equiv; verbose=true)"
   ]
  },
  {
   "cell_type": "code",
   "execution_count": 173,
   "metadata": {},
   "outputs": [
    {
     "name": "stdout",
     "output_type": "stream",
     "text": [
      "-------------------------------------------------------------------\n",
      "         SDDP.jl (c) Oscar Dowson and contributors, 2017-23\n",
      "-------------------------------------------------------------------\n",
      "problem\n",
      "  nodes           : 2\n",
      "  state variables : 5\n",
      "  scenarios       : 3.00000e+00\n",
      "  existing cuts   : false\n",
      "options\n",
      "  solver          : serial mode\n",
      "  risk measure    : SDDP.Expectation()\n",
      "  sampling scheme : SDDP.InSampleMonteCarlo\n",
      "subproblem structure\n",
      "  VariableRef                             : [20, 20]\n",
      "  AffExpr in MOI.EqualTo{Float64}         : [4, 7]\n",
      "  AffExpr in MOI.LessThan{Float64}        : [3, 3]\n",
      "  VariableRef in MOI.GreaterThan{Float64} : [14, 15]\n",
      "  VariableRef in MOI.LessThan{Float64}    : [6, 6]\n",
      "numerical stability report\n",
      "  matrix range     [5e-01, 1e+00]\n",
      "  objective range  [1e+00, 3e+01]\n",
      "  bounds range     [5e+01, 1e+05]\n",
      "  rhs range        [0e+00, 0e+00]\n",
      "-------------------------------------------------------------------\n",
      " iteration    simulation      bound        time (s)     solves  pid\n",
      "-------------------------------------------------------------------\n",
      "         1   5.000000e+02  1.000000e+03  1.999855e-03         6   1"
     ]
    },
    {
     "name": "stdout",
     "output_type": "stream",
     "text": [
      "\n",
      "        20   1.500000e+03  1.000000e+03  3.299999e-02       126   1\n",
      "-------------------------------------------------------------------\n",
      "status         : simulation_stopping\n",
      "total time (s) : 3.299999e-02\n",
      "total solves   : 126\n",
      "best bound     :  1.000000e+03\n",
      "simulation ci  :  9.250000e+02 ± 1.780968e+02\n",
      "numeric issues : 0\n",
      "-------------------------------------------------------------------\n",
      "\n"
     ]
    }
   ],
   "source": [
    "SDDP.train(model; iteration_limit = 100)"
   ]
  },
  {
   "cell_type": "code",
   "execution_count": 174,
   "metadata": {},
   "outputs": [
    {
     "name": "stdout",
     "output_type": "stream",
     "text": [
      "Bidding Curve Values: SDDP.State{Float64}[SDDP.State{Float64}(50.0, 0.0), SDDP.State{Float64}(50.0, 0.0), SDDP.State{Float64}(50.0, 50.0), SDDP.State{Float64}(50.0, 50.0)]\n",
      "Cleared Volume: [50.0, 0.0, 0.0]\n",
      "Own Producion: [50.0, 0.0, 0.0]\n",
      "Purchases: [0.0, 0.0, 0.0]\n"
     ]
    }
   ],
   "source": [
    "simulations = SDDP.simulate(\n",
    "    # The trained model to simulate.\n",
    "    model,\n",
    "    # The number of replications.\n",
    "    100,\n",
    "    # A list of names to record the values of.\n",
    "    [:x, :y, :w, :balancing],\n",
    ")\n",
    "\n",
    "replication = 28\n",
    "stage = 2\n",
    "println(\"Bidding Curve Values: \", simulations[replication][stage][:x])\n",
    "println(\"Cleared Volume: \", simulations[replication][stage][:y])\n",
    "println(\"Own Producion: \", simulations[replication][stage][:w])\n",
    "println(\"Purchases: \", simulations[replication][stage][:balancing])"
   ]
  },
  {
   "cell_type": "code",
   "execution_count": 175,
   "metadata": {},
   "outputs": [
    {
     "data": {
      "text/plain": [
       "A spaghetti plot with 100 scenarios and 2 stages."
      ]
     },
     "metadata": {},
     "output_type": "display_data"
    }
   ],
   "source": [
    "plt = SDDP.SpaghettiPlot(simulations)"
   ]
  },
  {
   "cell_type": "code",
   "execution_count": 176,
   "metadata": {},
   "outputs": [
    {
     "name": "stdout",
     "output_type": "stream",
     "text": [
      "Max 30 y[3] - 30 balancing[3] + x20\n",
      "Subject to\n",
      " clearing[1] : y[1] == 0\n",
      " clearing[2] : y[2] == 0\n",
      " clearing[3] : -0.5 x[3]_in - 0.5 x[4]_in + y[3] == 0\n",
      " production[1] : 0 == 0\n",
      " production[2] : 0 == 0\n",
      " production[3] : y[3] + w[3] + balancing[3] == 0\n",
      " balance : -W_in + W_out == 0\n",
      " increasing[1] : x[1]_out - x[2]_out <= 0\n",
      " increasing[2] : x[2]_out - x[3]_out <= 0\n",
      " increasing[3] : x[3]_out - x[4]_out <= 0\n",
      " x[1]_in == 0\n",
      " x[2]_in == 0\n",
      " x[3]_in == 50\n",
      " x[4]_in == 50\n",
      " W_in == 80\n",
      " x[1]_out >= 0\n",
      " x[2]_out >= 0\n",
      " x[3]_out >= 0\n",
      " x[4]_out >= 0\n",
      " W_out >= 0\n",
      " y[1] >= 0\n",
      " y[2] >= 0\n",
      " y[3] >= 0\n",
      " w[1] >= 0\n",
      " w[2] >= 0\n",
      " w[3] >= 0\n",
      " balancing[1] >= 0\n",
      " balancing[2] >= 0\n",
      " balancing[3] >= 0\n",
      " x20 >= 0\n",
      " x[1]_out <= 50\n",
      " x[2]_out <= 50\n",
      " x[3]_out <= 50\n",
      " x[4]_out <= 50\n",
      " W_out <= 100\n",
      " x20 <= 0\n",
      "\n"
     ]
    }
   ],
   "source": [
    "sbproblem = JuMP.read_from_file(\"subproblem_2.mof.json\")\n",
    "println(sbproblem)"
   ]
  }
 ],
 "metadata": {
  "kernelspec": {
   "display_name": "Julia 1.9.1",
   "language": "julia",
   "name": "julia-1.9"
  },
  "language_info": {
   "file_extension": ".jl",
   "mimetype": "application/julia",
   "name": "julia",
   "version": "1.9.1"
  },
  "orig_nbformat": 4
 },
 "nbformat": 4,
 "nbformat_minor": 2
}
